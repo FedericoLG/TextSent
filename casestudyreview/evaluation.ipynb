{
 "cells": [
  {
   "cell_type": "code",
   "execution_count": 1,
   "metadata": {},
   "outputs": [
    {
     "name": "stderr",
     "output_type": "stream",
     "text": [
      "Using TensorFlow backend.\n"
     ]
    }
   ],
   "source": [
    "import pickle\n",
    "import numpy as np\n",
    "import pandas as pd\n",
    "from keras.models import model_from_json\n",
    "from collections import defaultdict\n",
    "from tqdm import tqdm_notebook"
   ]
  },
  {
   "cell_type": "markdown",
   "metadata": {},
   "source": [
    "## Load trained models and data"
   ]
  },
  {
   "cell_type": "code",
   "execution_count": 2,
   "metadata": {},
   "outputs": [],
   "source": [
    "with open('../data/yelp_classification_training.pkl', 'rb') as out:\n",
    "    training = pickle.load(out)"
   ]
  },
  {
   "cell_type": "code",
   "execution_count": 3,
   "metadata": {},
   "outputs": [],
   "source": [
    "with open('../data/yelp_classification_experiments.pkl', 'rb') as out:\n",
    "    saved_models = pickle.load(out)"
   ]
  },
  {
   "cell_type": "code",
   "execution_count": 4,
   "metadata": {},
   "outputs": [],
   "source": [
    "experiments = {}\n",
    "for k, v in saved_models.items():\n",
    "    s = {}\n",
    "    for model_name, model in v.items():\n",
    "        if model_name == 'DNN':\n",
    "            m = model_from_json(model)\n",
    "            m.load_weights(\"../data/{}_{}.h5\".format(k, model_name))\n",
    "            s[model_name] = m\n",
    "        else:\n",
    "            s[model_name] = model\n",
    "    experiments[k] = s"
   ]
  },
  {
   "cell_type": "markdown",
   "metadata": {},
   "source": [
    "## Predict and test"
   ]
  },
  {
   "cell_type": "code",
   "execution_count": 5,
   "metadata": {},
   "outputs": [
    {
     "name": "stdout",
     "output_type": "stream",
     "text": [
      "[4 1 5 4 4 5]\n"
     ]
    }
   ],
   "source": [
    "test = 'raw_lemma_tfidf'\n",
    "_, x_test, _, y_test = training[test]\n",
    "out = experiments[test]['DNN'].predict(x_test)\n",
    "print((out.argmax(axis=1) + 1)[:6])"
   ]
  },
  {
   "cell_type": "markdown",
   "metadata": {},
   "source": [
    "## Example"
   ]
  },
  {
   "cell_type": "code",
   "execution_count": 6,
   "metadata": {},
   "outputs": [
    {
     "name": "stdout",
     "output_type": "stream",
     "text": [
      "TRU [5 3 5 4 4 5]\n",
      "DTC [4 4 5 5 5 4]\n",
      "KNN [4 3 5 1 1 5]\n",
      "DNN [4 1 5 3 5 5]\n"
     ]
    }
   ],
   "source": [
    "for experiment, models in experiments.items():\n",
    "    x_train, x_test, y_train, y_test = training[experiment]\n",
    "    print('TRU', np.array(y_test[:6]))\n",
    "    for model_name, model in models.items():\n",
    "        if model_name == 'DNN':\n",
    "            y_pred = model.predict(x_test).argmax(axis=1) + 1\n",
    "        else:\n",
    "            y_pred = model.predict(x_test)\n",
    "        print(model_name, y_pred[:6])\n",
    "    break"
   ]
  },
  {
   "cell_type": "markdown",
   "metadata": {},
   "source": [
    "## Get precision and recall"
   ]
  },
  {
   "cell_type": "code",
   "execution_count": 7,
   "metadata": {},
   "outputs": [],
   "source": [
    "from sklearn.metrics import precision_recall_fscore_support as prfs"
   ]
  },
  {
   "cell_type": "markdown",
   "metadata": {},
   "source": [
    "### Example"
   ]
  },
  {
   "cell_type": "code",
   "execution_count": 8,
   "metadata": {},
   "outputs": [],
   "source": [
    "test = 'raw_lemma_tfidf'\n",
    "_, x_test, _, y_test = training[test]\n",
    "y_pred = experiments[test]['DTC'].predict(x_test)"
   ]
  },
  {
   "cell_type": "code",
   "execution_count": 9,
   "metadata": {},
   "outputs": [
    {
     "data": {
      "text/plain": [
       "(array([0.24074074, 0.2       , 0.20149254, 0.25670498, 0.56511057]),\n",
       " array([0.25490196, 0.16666667, 0.22689076, 0.26377953, 0.55155875]),\n",
       " array([0.24761905, 0.18181818, 0.21343874, 0.26019417, 0.55825243]),\n",
       " array([102, 108, 119, 254, 417]))"
      ]
     },
     "execution_count": 9,
     "metadata": {},
     "output_type": "execute_result"
    }
   ],
   "source": [
    "prfs(y_test, y_pred, zero_division=0)"
   ]
  },
  {
   "cell_type": "code",
   "execution_count": 10,
   "metadata": {},
   "outputs": [
    {
     "data": {
      "application/vnd.jupyter.widget-view+json": {
       "model_id": "0ba503287e0c4f0facd2311f4b9b356e",
       "version_major": 2,
       "version_minor": 0
      },
      "text/plain": [
       "HBox(children=(IntProgress(value=0, max=18), HTML(value='')))"
      ]
     },
     "metadata": {},
     "output_type": "display_data"
    },
    {
     "name": "stdout",
     "output_type": "stream",
     "text": [
      "\n"
     ]
    }
   ],
   "source": [
    "W = []\n",
    "P = {}\n",
    "measures = ['precision', 'recall', 'fscore', 'support']\n",
    "exp = tqdm_notebook(experiments.items())\n",
    "for experiment, models in exp:\n",
    "    x_train, x_test, y_train, y_test = training[experiment]\n",
    "    predictions = {}\n",
    "    for model_name, model in models.items():\n",
    "        if model_name == 'DNN':\n",
    "            y_pred = model.predict(x_test).argmax(axis=1) + 1\n",
    "        else:\n",
    "            y_pred = model.predict(x_test)\n",
    "        predictions[model_name] = (y_test, y_pred)\n",
    "        scores = prfs(y_test, y_pred, zero_division=0)\n",
    "        for j in range(5):\n",
    "            O = {}\n",
    "            O['experiment'] = experiment\n",
    "            O['model'] = model_name\n",
    "            O['class'] = j + 1\n",
    "            for i, s in enumerate(measures):\n",
    "                O[s] = scores[i][j]\n",
    "            W.append(O)\n",
    "    P[experiment] = predictions"
   ]
  },
  {
   "cell_type": "code",
   "execution_count": 11,
   "metadata": {},
   "outputs": [],
   "source": [
    "K = pd.DataFrame(W)"
   ]
  },
  {
   "cell_type": "code",
   "execution_count": 12,
   "metadata": {},
   "outputs": [
    {
     "data": {
      "text/html": [
       "<div>\n",
       "<style scoped>\n",
       "    .dataframe tbody tr th:only-of-type {\n",
       "        vertical-align: middle;\n",
       "    }\n",
       "\n",
       "    .dataframe tbody tr th {\n",
       "        vertical-align: top;\n",
       "    }\n",
       "\n",
       "    .dataframe thead th {\n",
       "        text-align: right;\n",
       "    }\n",
       "</style>\n",
       "<table border=\"1\" class=\"dataframe\">\n",
       "  <thead>\n",
       "    <tr style=\"text-align: right;\">\n",
       "      <th></th>\n",
       "      <th>experiment</th>\n",
       "      <th>model</th>\n",
       "      <th>class</th>\n",
       "      <th>precision</th>\n",
       "      <th>recall</th>\n",
       "      <th>fscore</th>\n",
       "      <th>support</th>\n",
       "    </tr>\n",
       "  </thead>\n",
       "  <tbody>\n",
       "    <tr>\n",
       "      <td>0</td>\n",
       "      <td>raw_text_tfidf</td>\n",
       "      <td>DTC</td>\n",
       "      <td>1</td>\n",
       "      <td>0.294737</td>\n",
       "      <td>0.274510</td>\n",
       "      <td>0.284264</td>\n",
       "      <td>102</td>\n",
       "    </tr>\n",
       "    <tr>\n",
       "      <td>1</td>\n",
       "      <td>raw_text_tfidf</td>\n",
       "      <td>DTC</td>\n",
       "      <td>2</td>\n",
       "      <td>0.189474</td>\n",
       "      <td>0.166667</td>\n",
       "      <td>0.177340</td>\n",
       "      <td>108</td>\n",
       "    </tr>\n",
       "    <tr>\n",
       "      <td>2</td>\n",
       "      <td>raw_text_tfidf</td>\n",
       "      <td>DTC</td>\n",
       "      <td>3</td>\n",
       "      <td>0.218750</td>\n",
       "      <td>0.294118</td>\n",
       "      <td>0.250896</td>\n",
       "      <td>119</td>\n",
       "    </tr>\n",
       "    <tr>\n",
       "      <td>3</td>\n",
       "      <td>raw_text_tfidf</td>\n",
       "      <td>DTC</td>\n",
       "      <td>4</td>\n",
       "      <td>0.295833</td>\n",
       "      <td>0.279528</td>\n",
       "      <td>0.287449</td>\n",
       "      <td>254</td>\n",
       "    </tr>\n",
       "    <tr>\n",
       "      <td>4</td>\n",
       "      <td>raw_text_tfidf</td>\n",
       "      <td>DTC</td>\n",
       "      <td>5</td>\n",
       "      <td>0.575610</td>\n",
       "      <td>0.565947</td>\n",
       "      <td>0.570738</td>\n",
       "      <td>417</td>\n",
       "    </tr>\n",
       "  </tbody>\n",
       "</table>\n",
       "</div>"
      ],
      "text/plain": [
       "       experiment model  class  precision    recall    fscore  support\n",
       "0  raw_text_tfidf   DTC      1   0.294737  0.274510  0.284264      102\n",
       "1  raw_text_tfidf   DTC      2   0.189474  0.166667  0.177340      108\n",
       "2  raw_text_tfidf   DTC      3   0.218750  0.294118  0.250896      119\n",
       "3  raw_text_tfidf   DTC      4   0.295833  0.279528  0.287449      254\n",
       "4  raw_text_tfidf   DTC      5   0.575610  0.565947  0.570738      417"
      ]
     },
     "execution_count": 12,
     "metadata": {},
     "output_type": "execute_result"
    }
   ],
   "source": [
    "K.head()"
   ]
  },
  {
   "cell_type": "markdown",
   "metadata": {},
   "source": [
    "## Save"
   ]
  },
  {
   "cell_type": "code",
   "execution_count": 13,
   "metadata": {},
   "outputs": [],
   "source": [
    "K.to_excel('../data/classification_report.xlsx')\n",
    "with open('../data/predictions.pkl', 'wb') as out:\n",
    "    pickle.dump(P, out)"
   ]
  },
  {
   "cell_type": "markdown",
   "metadata": {},
   "source": [
    "## Load"
   ]
  },
  {
   "cell_type": "code",
   "execution_count": 14,
   "metadata": {},
   "outputs": [],
   "source": [
    "with open('../data/predictions.pkl', 'rb') as out:\n",
    "    P = pickle.load(out)\n",
    "R = pd.read_excel('../data/classification_report.xlsx', index_col=0, header=0)"
   ]
  },
  {
   "cell_type": "code",
   "execution_count": 15,
   "metadata": {},
   "outputs": [
    {
     "data": {
      "text/html": [
       "<div>\n",
       "<style scoped>\n",
       "    .dataframe tbody tr th:only-of-type {\n",
       "        vertical-align: middle;\n",
       "    }\n",
       "\n",
       "    .dataframe tbody tr th {\n",
       "        vertical-align: top;\n",
       "    }\n",
       "\n",
       "    .dataframe thead th {\n",
       "        text-align: right;\n",
       "    }\n",
       "</style>\n",
       "<table border=\"1\" class=\"dataframe\">\n",
       "  <thead>\n",
       "    <tr style=\"text-align: right;\">\n",
       "      <th></th>\n",
       "      <th>experiment</th>\n",
       "      <th>model</th>\n",
       "      <th>class</th>\n",
       "      <th>precision</th>\n",
       "      <th>recall</th>\n",
       "      <th>fscore</th>\n",
       "      <th>support</th>\n",
       "    </tr>\n",
       "  </thead>\n",
       "  <tbody>\n",
       "    <tr>\n",
       "      <td>0</td>\n",
       "      <td>raw_text_tfidf</td>\n",
       "      <td>DTC</td>\n",
       "      <td>1</td>\n",
       "      <td>0.294737</td>\n",
       "      <td>0.274510</td>\n",
       "      <td>0.284264</td>\n",
       "      <td>102</td>\n",
       "    </tr>\n",
       "    <tr>\n",
       "      <td>1</td>\n",
       "      <td>raw_text_tfidf</td>\n",
       "      <td>DTC</td>\n",
       "      <td>2</td>\n",
       "      <td>0.189474</td>\n",
       "      <td>0.166667</td>\n",
       "      <td>0.177340</td>\n",
       "      <td>108</td>\n",
       "    </tr>\n",
       "    <tr>\n",
       "      <td>2</td>\n",
       "      <td>raw_text_tfidf</td>\n",
       "      <td>DTC</td>\n",
       "      <td>3</td>\n",
       "      <td>0.218750</td>\n",
       "      <td>0.294118</td>\n",
       "      <td>0.250896</td>\n",
       "      <td>119</td>\n",
       "    </tr>\n",
       "    <tr>\n",
       "      <td>3</td>\n",
       "      <td>raw_text_tfidf</td>\n",
       "      <td>DTC</td>\n",
       "      <td>4</td>\n",
       "      <td>0.295833</td>\n",
       "      <td>0.279528</td>\n",
       "      <td>0.287449</td>\n",
       "      <td>254</td>\n",
       "    </tr>\n",
       "    <tr>\n",
       "      <td>4</td>\n",
       "      <td>raw_text_tfidf</td>\n",
       "      <td>DTC</td>\n",
       "      <td>5</td>\n",
       "      <td>0.575610</td>\n",
       "      <td>0.565947</td>\n",
       "      <td>0.570738</td>\n",
       "      <td>417</td>\n",
       "    </tr>\n",
       "  </tbody>\n",
       "</table>\n",
       "</div>"
      ],
      "text/plain": [
       "       experiment model  class  precision    recall    fscore  support\n",
       "0  raw_text_tfidf   DTC      1   0.294737  0.274510  0.284264      102\n",
       "1  raw_text_tfidf   DTC      2   0.189474  0.166667  0.177340      108\n",
       "2  raw_text_tfidf   DTC      3   0.218750  0.294118  0.250896      119\n",
       "3  raw_text_tfidf   DTC      4   0.295833  0.279528  0.287449      254\n",
       "4  raw_text_tfidf   DTC      5   0.575610  0.565947  0.570738      417"
      ]
     },
     "execution_count": 15,
     "metadata": {},
     "output_type": "execute_result"
    }
   ],
   "source": [
    "R.head()"
   ]
  },
  {
   "cell_type": "code",
   "execution_count": 16,
   "metadata": {},
   "outputs": [
    {
     "data": {
      "text/html": [
       "<div>\n",
       "<style scoped>\n",
       "    .dataframe tbody tr th:only-of-type {\n",
       "        vertical-align: middle;\n",
       "    }\n",
       "\n",
       "    .dataframe tbody tr th {\n",
       "        vertical-align: top;\n",
       "    }\n",
       "\n",
       "    .dataframe thead th {\n",
       "        text-align: right;\n",
       "    }\n",
       "</style>\n",
       "<table border=\"1\" class=\"dataframe\">\n",
       "  <thead>\n",
       "    <tr style=\"text-align: right;\">\n",
       "      <th></th>\n",
       "      <th>experiment</th>\n",
       "      <th>model</th>\n",
       "      <th>class</th>\n",
       "      <th>precision</th>\n",
       "      <th>recall</th>\n",
       "      <th>fscore</th>\n",
       "      <th>support</th>\n",
       "    </tr>\n",
       "  </thead>\n",
       "  <tbody>\n",
       "    <tr>\n",
       "      <td>19</td>\n",
       "      <td>raw_lemma_tfidf</td>\n",
       "      <td>DTC</td>\n",
       "      <td>5</td>\n",
       "      <td>0.565111</td>\n",
       "      <td>0.551559</td>\n",
       "      <td>0.558252</td>\n",
       "      <td>417</td>\n",
       "    </tr>\n",
       "    <tr>\n",
       "      <td>24</td>\n",
       "      <td>raw_lemma_tfidf</td>\n",
       "      <td>KNN</td>\n",
       "      <td>5</td>\n",
       "      <td>0.603834</td>\n",
       "      <td>0.453237</td>\n",
       "      <td>0.517808</td>\n",
       "      <td>417</td>\n",
       "    </tr>\n",
       "    <tr>\n",
       "      <td>29</td>\n",
       "      <td>raw_lemma_tfidf</td>\n",
       "      <td>DNN</td>\n",
       "      <td>5</td>\n",
       "      <td>0.682975</td>\n",
       "      <td>0.836930</td>\n",
       "      <td>0.752155</td>\n",
       "      <td>417</td>\n",
       "    </tr>\n",
       "  </tbody>\n",
       "</table>\n",
       "</div>"
      ],
      "text/plain": [
       "         experiment model  class  precision    recall    fscore  support\n",
       "19  raw_lemma_tfidf   DTC      5   0.565111  0.551559  0.558252      417\n",
       "24  raw_lemma_tfidf   KNN      5   0.603834  0.453237  0.517808      417\n",
       "29  raw_lemma_tfidf   DNN      5   0.682975  0.836930  0.752155      417"
      ]
     },
     "execution_count": 16,
     "metadata": {},
     "output_type": "execute_result"
    }
   ],
   "source": [
    "R[(R.experiment == 'raw_lemma_tfidf') & (R['class'] == 5)]"
   ]
  },
  {
   "cell_type": "code",
   "execution_count": 17,
   "metadata": {},
   "outputs": [
    {
     "data": {
      "text/html": [
       "<div>\n",
       "<style scoped>\n",
       "    .dataframe tbody tr th:only-of-type {\n",
       "        vertical-align: middle;\n",
       "    }\n",
       "\n",
       "    .dataframe tbody tr th {\n",
       "        vertical-align: top;\n",
       "    }\n",
       "\n",
       "    .dataframe thead th {\n",
       "        text-align: right;\n",
       "    }\n",
       "</style>\n",
       "<table border=\"1\" class=\"dataframe\">\n",
       "  <thead>\n",
       "    <tr style=\"text-align: right;\">\n",
       "      <th></th>\n",
       "      <th>experiment</th>\n",
       "      <th>model</th>\n",
       "      <th>class</th>\n",
       "      <th>precision</th>\n",
       "      <th>recall</th>\n",
       "      <th>fscore</th>\n",
       "      <th>support</th>\n",
       "    </tr>\n",
       "  </thead>\n",
       "  <tbody>\n",
       "    <tr>\n",
       "      <td>14</td>\n",
       "      <td>raw_text_tfidf</td>\n",
       "      <td>DNN</td>\n",
       "      <td>5</td>\n",
       "      <td>0.694949</td>\n",
       "      <td>0.824940</td>\n",
       "      <td>0.754386</td>\n",
       "      <td>417</td>\n",
       "    </tr>\n",
       "    <tr>\n",
       "      <td>29</td>\n",
       "      <td>raw_lemma_tfidf</td>\n",
       "      <td>DNN</td>\n",
       "      <td>5</td>\n",
       "      <td>0.682975</td>\n",
       "      <td>0.836930</td>\n",
       "      <td>0.752155</td>\n",
       "      <td>417</td>\n",
       "    </tr>\n",
       "    <tr>\n",
       "      <td>44</td>\n",
       "      <td>pos_text_tfidf</td>\n",
       "      <td>DNN</td>\n",
       "      <td>5</td>\n",
       "      <td>0.621505</td>\n",
       "      <td>0.704878</td>\n",
       "      <td>0.660571</td>\n",
       "      <td>410</td>\n",
       "    </tr>\n",
       "    <tr>\n",
       "      <td>59</td>\n",
       "      <td>pos_lemma_tfidf</td>\n",
       "      <td>DNN</td>\n",
       "      <td>5</td>\n",
       "      <td>0.591071</td>\n",
       "      <td>0.807317</td>\n",
       "      <td>0.682474</td>\n",
       "      <td>410</td>\n",
       "    </tr>\n",
       "    <tr>\n",
       "      <td>74</td>\n",
       "      <td>dep_text_tfidf</td>\n",
       "      <td>DNN</td>\n",
       "      <td>5</td>\n",
       "      <td>0.580139</td>\n",
       "      <td>0.800481</td>\n",
       "      <td>0.672727</td>\n",
       "      <td>416</td>\n",
       "    </tr>\n",
       "    <tr>\n",
       "      <td>89</td>\n",
       "      <td>dep_lemma_tfidf</td>\n",
       "      <td>DNN</td>\n",
       "      <td>5</td>\n",
       "      <td>0.576531</td>\n",
       "      <td>0.814904</td>\n",
       "      <td>0.675299</td>\n",
       "      <td>416</td>\n",
       "    </tr>\n",
       "    <tr>\n",
       "      <td>104</td>\n",
       "      <td>raw_text_sentiwn</td>\n",
       "      <td>DNN</td>\n",
       "      <td>5</td>\n",
       "      <td>0.670611</td>\n",
       "      <td>0.815348</td>\n",
       "      <td>0.735931</td>\n",
       "      <td>417</td>\n",
       "    </tr>\n",
       "    <tr>\n",
       "      <td>119</td>\n",
       "      <td>raw_lemma_sentiwn</td>\n",
       "      <td>DNN</td>\n",
       "      <td>5</td>\n",
       "      <td>0.642606</td>\n",
       "      <td>0.875300</td>\n",
       "      <td>0.741117</td>\n",
       "      <td>417</td>\n",
       "    </tr>\n",
       "    <tr>\n",
       "      <td>134</td>\n",
       "      <td>pos_text_sentiwn</td>\n",
       "      <td>DNN</td>\n",
       "      <td>5</td>\n",
       "      <td>0.520000</td>\n",
       "      <td>0.824390</td>\n",
       "      <td>0.637736</td>\n",
       "      <td>410</td>\n",
       "    </tr>\n",
       "    <tr>\n",
       "      <td>149</td>\n",
       "      <td>pos_lemma_sentiwn</td>\n",
       "      <td>DNN</td>\n",
       "      <td>5</td>\n",
       "      <td>0.502786</td>\n",
       "      <td>0.880488</td>\n",
       "      <td>0.640071</td>\n",
       "      <td>410</td>\n",
       "    </tr>\n",
       "    <tr>\n",
       "      <td>164</td>\n",
       "      <td>dep_text_sentiwn</td>\n",
       "      <td>DNN</td>\n",
       "      <td>5</td>\n",
       "      <td>0.530370</td>\n",
       "      <td>0.860577</td>\n",
       "      <td>0.656279</td>\n",
       "      <td>416</td>\n",
       "    </tr>\n",
       "    <tr>\n",
       "      <td>179</td>\n",
       "      <td>dep_lemma_sentiwn</td>\n",
       "      <td>DNN</td>\n",
       "      <td>5</td>\n",
       "      <td>0.529574</td>\n",
       "      <td>0.925481</td>\n",
       "      <td>0.673666</td>\n",
       "      <td>416</td>\n",
       "    </tr>\n",
       "    <tr>\n",
       "      <td>194</td>\n",
       "      <td>raw_text_combo</td>\n",
       "      <td>DNN</td>\n",
       "      <td>5</td>\n",
       "      <td>0.532895</td>\n",
       "      <td>0.971223</td>\n",
       "      <td>0.688190</td>\n",
       "      <td>417</td>\n",
       "    </tr>\n",
       "    <tr>\n",
       "      <td>209</td>\n",
       "      <td>raw_lemma_combo</td>\n",
       "      <td>DNN</td>\n",
       "      <td>5</td>\n",
       "      <td>0.515267</td>\n",
       "      <td>0.971223</td>\n",
       "      <td>0.673317</td>\n",
       "      <td>417</td>\n",
       "    </tr>\n",
       "    <tr>\n",
       "      <td>224</td>\n",
       "      <td>pos_text_combo</td>\n",
       "      <td>DNN</td>\n",
       "      <td>5</td>\n",
       "      <td>0.447689</td>\n",
       "      <td>0.897561</td>\n",
       "      <td>0.597403</td>\n",
       "      <td>410</td>\n",
       "    </tr>\n",
       "    <tr>\n",
       "      <td>239</td>\n",
       "      <td>pos_lemma_combo</td>\n",
       "      <td>DNN</td>\n",
       "      <td>5</td>\n",
       "      <td>0.446978</td>\n",
       "      <td>0.956098</td>\n",
       "      <td>0.609169</td>\n",
       "      <td>410</td>\n",
       "    </tr>\n",
       "    <tr>\n",
       "      <td>254</td>\n",
       "      <td>dep_text_combo</td>\n",
       "      <td>DNN</td>\n",
       "      <td>5</td>\n",
       "      <td>0.478819</td>\n",
       "      <td>0.896635</td>\n",
       "      <td>0.624268</td>\n",
       "      <td>416</td>\n",
       "    </tr>\n",
       "    <tr>\n",
       "      <td>269</td>\n",
       "      <td>dep_lemma_combo</td>\n",
       "      <td>DNN</td>\n",
       "      <td>5</td>\n",
       "      <td>0.488110</td>\n",
       "      <td>0.937500</td>\n",
       "      <td>0.641975</td>\n",
       "      <td>416</td>\n",
       "    </tr>\n",
       "  </tbody>\n",
       "</table>\n",
       "</div>"
      ],
      "text/plain": [
       "            experiment model  class  precision    recall    fscore  support\n",
       "14      raw_text_tfidf   DNN      5   0.694949  0.824940  0.754386      417\n",
       "29     raw_lemma_tfidf   DNN      5   0.682975  0.836930  0.752155      417\n",
       "44      pos_text_tfidf   DNN      5   0.621505  0.704878  0.660571      410\n",
       "59     pos_lemma_tfidf   DNN      5   0.591071  0.807317  0.682474      410\n",
       "74      dep_text_tfidf   DNN      5   0.580139  0.800481  0.672727      416\n",
       "89     dep_lemma_tfidf   DNN      5   0.576531  0.814904  0.675299      416\n",
       "104   raw_text_sentiwn   DNN      5   0.670611  0.815348  0.735931      417\n",
       "119  raw_lemma_sentiwn   DNN      5   0.642606  0.875300  0.741117      417\n",
       "134   pos_text_sentiwn   DNN      5   0.520000  0.824390  0.637736      410\n",
       "149  pos_lemma_sentiwn   DNN      5   0.502786  0.880488  0.640071      410\n",
       "164   dep_text_sentiwn   DNN      5   0.530370  0.860577  0.656279      416\n",
       "179  dep_lemma_sentiwn   DNN      5   0.529574  0.925481  0.673666      416\n",
       "194     raw_text_combo   DNN      5   0.532895  0.971223  0.688190      417\n",
       "209    raw_lemma_combo   DNN      5   0.515267  0.971223  0.673317      417\n",
       "224     pos_text_combo   DNN      5   0.447689  0.897561  0.597403      410\n",
       "239    pos_lemma_combo   DNN      5   0.446978  0.956098  0.609169      410\n",
       "254     dep_text_combo   DNN      5   0.478819  0.896635  0.624268      416\n",
       "269    dep_lemma_combo   DNN      5   0.488110  0.937500  0.641975      416"
      ]
     },
     "execution_count": 17,
     "metadata": {},
     "output_type": "execute_result"
    }
   ],
   "source": [
    "R[(R.model == 'DNN') & (R['class'] == 5)]"
   ]
  },
  {
   "cell_type": "code",
   "execution_count": 18,
   "metadata": {},
   "outputs": [],
   "source": [
    "from sklearn.metrics import confusion_matrix, ConfusionMatrixDisplay\n",
    "import matplotlib.pyplot as plt"
   ]
  },
  {
   "cell_type": "code",
   "execution_count": 19,
   "metadata": {},
   "outputs": [],
   "source": [
    "def cm(experiment, classifier, predictions):\n",
    "    yt, yp = predictions[experiment][classifier]\n",
    "    return ConfusionMatrixDisplay(confusion_matrix(yt, yp), display_labels=range(1,6))"
   ]
  },
  {
   "cell_type": "code",
   "execution_count": 20,
   "metadata": {},
   "outputs": [],
   "source": [
    "c = cm('raw_text_sentiwn', 'DTC', P)"
   ]
  },
  {
   "cell_type": "code",
   "execution_count": 21,
   "metadata": {},
   "outputs": [
    {
     "data": {
      "image/png": "[encoded data removed]",
      "text/plain": [
       "<Figure size 432x288 with 2 Axes>"
      ]
     },
     "metadata": {
      "needs_background": "light"
     },
     "output_type": "display_data"
    }
   ],
   "source": [
    "c.plot(values_format=\".0f\", cmap='Blues')\n",
    "plt.show()"
   ]
  },
  {
   "cell_type": "markdown",
   "metadata": {},
   "source": [
    "## Check on polarity"
   ]
  },
  {
   "cell_type": "code",
   "execution_count": 24,
   "metadata": {},
   "outputs": [],
   "source": [
    "polarity = {}\n",
    "for experiment, models in P.items():\n",
    "    polar = {}\n",
    "    for m, (y_true, y_pred) in models.items():\n",
    "        yt, yp = [], []\n",
    "        for x in y_true:\n",
    "            if x > 3:\n",
    "                yt.append(1)\n",
    "            elif x < 3:\n",
    "                yt.append(-1)\n",
    "            else:\n",
    "                yt.append(0)\n",
    "        for x in y_pred:\n",
    "            if x > 3:\n",
    "                yp.append(1)\n",
    "            elif x < 3:\n",
    "                yp.append(-1)\n",
    "            else:\n",
    "                yp.append(0)\n",
    "        polar[m] = (yt, yp)\n",
    "    polarity[experiment] = polar"
   ]
  },
  {
   "cell_type": "code",
   "execution_count": 40,
   "metadata": {},
   "outputs": [],
   "source": [
    "Z = []\n",
    "measures = ['precision', 'recall', 'fscore', 'support']\n",
    "for experiment, models in polarity.items():\n",
    "    for model_name, (y_true, y_pred) in models.items():\n",
    "        scores = prfs(y_true, y_pred, zero_division=0)\n",
    "        for j in range(-1,2):\n",
    "            O = {}\n",
    "            O['experiment'] = experiment\n",
    "            O['model'] = model_name\n",
    "            O['class'] = j\n",
    "            for i, s in enumerate(measures):\n",
    "                O[s] = scores[i][j+1]\n",
    "            Z.append(O)\n",
    "Zp = pd.DataFrame(Z)"
   ]
  },
  {
   "cell_type": "code",
   "execution_count": 41,
   "metadata": {},
   "outputs": [
    {
     "data": {
      "text/html": [
       "<div>\n",
       "<style scoped>\n",
       "    .dataframe tbody tr th:only-of-type {\n",
       "        vertical-align: middle;\n",
       "    }\n",
       "\n",
       "    .dataframe tbody tr th {\n",
       "        vertical-align: top;\n",
       "    }\n",
       "\n",
       "    .dataframe thead th {\n",
       "        text-align: right;\n",
       "    }\n",
       "</style>\n",
       "<table border=\"1\" class=\"dataframe\">\n",
       "  <thead>\n",
       "    <tr style=\"text-align: right;\">\n",
       "      <th></th>\n",
       "      <th>experiment</th>\n",
       "      <th>model</th>\n",
       "      <th>class</th>\n",
       "      <th>precision</th>\n",
       "      <th>recall</th>\n",
       "      <th>fscore</th>\n",
       "      <th>support</th>\n",
       "    </tr>\n",
       "  </thead>\n",
       "  <tbody>\n",
       "    <tr>\n",
       "      <td>0</td>\n",
       "      <td>raw_text_tfidf</td>\n",
       "      <td>DTC</td>\n",
       "      <td>-1</td>\n",
       "      <td>0.452632</td>\n",
       "      <td>0.409524</td>\n",
       "      <td>0.430000</td>\n",
       "      <td>210</td>\n",
       "    </tr>\n",
       "    <tr>\n",
       "      <td>1</td>\n",
       "      <td>raw_text_tfidf</td>\n",
       "      <td>DTC</td>\n",
       "      <td>0</td>\n",
       "      <td>0.218750</td>\n",
       "      <td>0.294118</td>\n",
       "      <td>0.250896</td>\n",
       "      <td>119</td>\n",
       "    </tr>\n",
       "    <tr>\n",
       "      <td>2</td>\n",
       "      <td>raw_text_tfidf</td>\n",
       "      <td>DTC</td>\n",
       "      <td>1</td>\n",
       "      <td>0.789231</td>\n",
       "      <td>0.764531</td>\n",
       "      <td>0.776684</td>\n",
       "      <td>671</td>\n",
       "    </tr>\n",
       "    <tr>\n",
       "      <td>3</td>\n",
       "      <td>raw_text_tfidf</td>\n",
       "      <td>KNN</td>\n",
       "      <td>-1</td>\n",
       "      <td>0.368020</td>\n",
       "      <td>0.690476</td>\n",
       "      <td>0.480132</td>\n",
       "      <td>210</td>\n",
       "    </tr>\n",
       "    <tr>\n",
       "      <td>4</td>\n",
       "      <td>raw_text_tfidf</td>\n",
       "      <td>KNN</td>\n",
       "      <td>0</td>\n",
       "      <td>0.154930</td>\n",
       "      <td>0.184874</td>\n",
       "      <td>0.168582</td>\n",
       "      <td>119</td>\n",
       "    </tr>\n",
       "  </tbody>\n",
       "</table>\n",
       "</div>"
      ],
      "text/plain": [
       "       experiment model  class  precision    recall    fscore  support\n",
       "0  raw_text_tfidf   DTC     -1   0.452632  0.409524  0.430000      210\n",
       "1  raw_text_tfidf   DTC      0   0.218750  0.294118  0.250896      119\n",
       "2  raw_text_tfidf   DTC      1   0.789231  0.764531  0.776684      671\n",
       "3  raw_text_tfidf   KNN     -1   0.368020  0.690476  0.480132      210\n",
       "4  raw_text_tfidf   KNN      0   0.154930  0.184874  0.168582      119"
      ]
     },
     "execution_count": 41,
     "metadata": {},
     "output_type": "execute_result"
    }
   ],
   "source": [
    "Zp.head()"
   ]
  },
  {
   "cell_type": "code",
   "execution_count": 43,
   "metadata": {},
   "outputs": [
    {
     "data": {
      "text/html": [
       "<div>\n",
       "<style scoped>\n",
       "    .dataframe tbody tr th:only-of-type {\n",
       "        vertical-align: middle;\n",
       "    }\n",
       "\n",
       "    .dataframe tbody tr th {\n",
       "        vertical-align: top;\n",
       "    }\n",
       "\n",
       "    .dataframe thead th {\n",
       "        text-align: right;\n",
       "    }\n",
       "</style>\n",
       "<table border=\"1\" class=\"dataframe\">\n",
       "  <thead>\n",
       "    <tr style=\"text-align: right;\">\n",
       "      <th></th>\n",
       "      <th>experiment</th>\n",
       "      <th>model</th>\n",
       "      <th>class</th>\n",
       "      <th>precision</th>\n",
       "      <th>recall</th>\n",
       "      <th>fscore</th>\n",
       "      <th>support</th>\n",
       "    </tr>\n",
       "  </thead>\n",
       "  <tbody>\n",
       "    <tr>\n",
       "      <td>6</td>\n",
       "      <td>raw_text_tfidf</td>\n",
       "      <td>DNN</td>\n",
       "      <td>-1</td>\n",
       "      <td>0.842767</td>\n",
       "      <td>0.638095</td>\n",
       "      <td>0.726287</td>\n",
       "      <td>210</td>\n",
       "    </tr>\n",
       "    <tr>\n",
       "      <td>7</td>\n",
       "      <td>raw_text_tfidf</td>\n",
       "      <td>DNN</td>\n",
       "      <td>0</td>\n",
       "      <td>0.371429</td>\n",
       "      <td>0.327731</td>\n",
       "      <td>0.348214</td>\n",
       "      <td>119</td>\n",
       "    </tr>\n",
       "    <tr>\n",
       "      <td>8</td>\n",
       "      <td>raw_text_tfidf</td>\n",
       "      <td>DNN</td>\n",
       "      <td>1</td>\n",
       "      <td>0.868207</td>\n",
       "      <td>0.952310</td>\n",
       "      <td>0.908316</td>\n",
       "      <td>671</td>\n",
       "    </tr>\n",
       "  </tbody>\n",
       "</table>\n",
       "</div>"
      ],
      "text/plain": [
       "       experiment model  class  precision    recall    fscore  support\n",
       "6  raw_text_tfidf   DNN     -1   0.842767  0.638095  0.726287      210\n",
       "7  raw_text_tfidf   DNN      0   0.371429  0.327731  0.348214      119\n",
       "8  raw_text_tfidf   DNN      1   0.868207  0.952310  0.908316      671"
      ]
     },
     "execution_count": 43,
     "metadata": {},
     "output_type": "execute_result"
    }
   ],
   "source": [
    "Zp[(Zp.model == 'DNN') & (Zp['experiment'] == 'raw_text_tfidf')]"
   ]
  },
  {
   "cell_type": "code",
   "execution_count": 46,
   "metadata": {},
   "outputs": [],
   "source": [
    "c = cm('raw_text_sentiwn', 'DNN', polarity)"
   ]
  },
  {
   "cell_type": "code",
   "execution_count": 47,
   "metadata": {},
   "outputs": [
    {
     "data": {
      "image/png": "[encoded data removed]",
      "text/plain": [
       "<Figure size 432x288 with 2 Axes>"
      ]
     },
     "metadata": {
      "needs_background": "light"
     },
     "output_type": "display_data"
    }
   ],
   "source": [
    "c.plot(values_format=\".0f\", cmap='Blues')\n",
    "plt.show()"
   ]
  },
  {
   "cell_type": "code",
   "execution_count": null,
   "metadata": {},
   "outputs": [],
   "source": []
  }
 ],
 "metadata": {
  "kernelspec": {
   "display_name": "Python 3",
   "language": "python",
   "name": "python3"
  },
  "language_info": {
   "codemirror_mode": {
    "name": "ipython",
    "version": 3
   },
   "file_extension": ".py",
   "mimetype": "text/x-python",
   "name": "python",
   "nbconvert_exporter": "python",
   "pygments_lexer": "ipython3",
   "version": "3.7.4"
  }
 },
 "nbformat": 4,
 "nbformat_minor": 2
}

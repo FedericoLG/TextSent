{
 "cells": [
  {
   "cell_type": "markdown",
   "id": "ade0a029",
   "metadata": {},
   "source": [
    "# Explore syntax parsing for detection of opinion targets and sentiments\n",
    "- select candidate opinion targets\n",
    "- find meaningful opinion triggers associated with targets (e.g., ADJ)"
   ]
  },
  {
   "cell_type": "code",
   "execution_count": 1,
   "id": "07857c9c",
   "metadata": {},
   "outputs": [],
   "source": [
    "import pandas as pd\n",
    "import numpy as np\n",
    "from tqdm.notebook import tqdm"
   ]
  },
  {
   "cell_type": "code",
   "execution_count": 2,
   "id": "fc56bc4b",
   "metadata": {},
   "outputs": [],
   "source": [
    "import spacy\n",
    "nlp = spacy.load('en_core_web_lg')"
   ]
  },
  {
   "cell_type": "code",
   "execution_count": 3,
   "id": "2975c18b",
   "metadata": {},
   "outputs": [],
   "source": [
    "import json"
   ]
  },
  {
   "cell_type": "code",
   "execution_count": 4,
   "id": "219ec662",
   "metadata": {},
   "outputs": [],
   "source": [
    "review_data_file = '../lexicon/data/yelp_sample.json'\n",
    "with open(review_data_file, 'r') as infile:\n",
    "    R = json.load(infile)"
   ]
  },
  {
   "cell_type": "code",
   "execution_count": 5,
   "id": "5d1690a9",
   "metadata": {},
   "outputs": [],
   "source": [
    "def spacy_sentences(nlp, text):\n",
    "    sentences = []\n",
    "    for sent in nlp(text).sents:\n",
    "        sentences.append(sent)\n",
    "    return sentences"
   ]
  },
  {
   "cell_type": "code",
   "execution_count": 6,
   "id": "4584bfd0",
   "metadata": {},
   "outputs": [
    {
     "data": {
      "text/plain": [
       "{'content': \"Red, white and bleu salad was super yum and a great addition to the menu! This location was clean with great service and food served at just the right temps! Kids pizza is always a hit too with lots of great side dish options for the kiddos! When I'm on this side of town, this will definitely be a spot I'll hit up again!\",\n",
       " 'date': '2014-02-17',\n",
       " 'stars': 4,\n",
       " 'useful': 1,\n",
       " 'funny': 0,\n",
       " 'cool': 0,\n",
       " 'business': 'Ue6-WhXvI-_1xUIuapl0zQ',\n",
       " 'id': '----X0BIDP9tA49U3RvdSQ',\n",
       " 'categories': ['American (Traditional)', 'Burgers', 'Restaurants']}"
      ]
     },
     "execution_count": 6,
     "metadata": {},
     "output_type": "execute_result"
    }
   ],
   "source": [
    "R[0]"
   ]
  },
  {
   "cell_type": "code",
   "execution_count": 7,
   "id": "c1ba58a0",
   "metadata": {},
   "outputs": [],
   "source": [
    "sample = spacy_sentences(nlp, R[0]['content'])"
   ]
  },
  {
   "cell_type": "code",
   "execution_count": 8,
   "id": "38b603de",
   "metadata": {},
   "outputs": [
    {
     "data": {
      "text/plain": [
       "[Red, white and bleu salad was super yum and a great addition to the menu!,\n",
       " This location was clean with great service and food served at just the right temps!,\n",
       " Kids pizza is always a hit too with lots of great side dish options for the kiddos!,\n",
       " When I'm on this side of town, this will definitely be a spot I'll hit up again!]"
      ]
     },
     "execution_count": 8,
     "metadata": {},
     "output_type": "execute_result"
    }
   ],
   "source": [
    "sample"
   ]
  },
  {
   "cell_type": "code",
   "execution_count": 9,
   "id": "7ee812e1",
   "metadata": {},
   "outputs": [
    {
     "data": {
      "text/plain": [
       "spacy.tokens.span.Span"
      ]
     },
     "execution_count": 9,
     "metadata": {},
     "output_type": "execute_result"
    }
   ],
   "source": [
    "type(sample[0])"
   ]
  },
  {
   "cell_type": "markdown",
   "id": "acc25e2f",
   "metadata": {},
   "source": [
    "## Overview of spaCy syntax parsing"
   ]
  },
  {
   "cell_type": "code",
   "execution_count": 10,
   "id": "e8a26a7b",
   "metadata": {},
   "outputs": [],
   "source": [
    "import networkx as nx\n",
    "from spacy.displacy import render"
   ]
  },
  {
   "cell_type": "code",
   "execution_count": 11,
   "id": "ddc89dd0",
   "metadata": {},
   "outputs": [],
   "source": [
    "test = sample[1]"
   ]
  },
  {
   "cell_type": "code",
   "execution_count": 12,
   "id": "8954c7e1",
   "metadata": {},
   "outputs": [
    {
     "data": {
      "text/html": [
       "<span class=\"tex2jax_ignore\"><svg xmlns=\"http://www.w3.org/2000/svg\" xmlns:xlink=\"http://www.w3.org/1999/xlink\" xml:lang=\"en\" id=\"20546ba7d23641a398e371f116ae8c57-0\" class=\"displacy\" width=\"2675\" height=\"574.5\" direction=\"ltr\" style=\"max-width: none; height: 574.5px; color: #000000; background: #ffffff; font-family: Arial; direction: ltr\">\n",
       "<text class=\"displacy-token\" fill=\"currentColor\" text-anchor=\"middle\" y=\"484.5\">\n",
       "    <tspan class=\"displacy-word\" fill=\"currentColor\" x=\"50\">This</tspan>\n",
       "    <tspan class=\"displacy-tag\" dy=\"2em\" fill=\"currentColor\" x=\"50\">DET</tspan>\n",
       "</text>\n",
       "\n",
       "<text class=\"displacy-token\" fill=\"currentColor\" text-anchor=\"middle\" y=\"484.5\">\n",
       "    <tspan class=\"displacy-word\" fill=\"currentColor\" x=\"225\">location</tspan>\n",
       "    <tspan class=\"displacy-tag\" dy=\"2em\" fill=\"currentColor\" x=\"225\">NOUN</tspan>\n",
       "</text>\n",
       "\n",
       "<text class=\"displacy-token\" fill=\"currentColor\" text-anchor=\"middle\" y=\"484.5\">\n",
       "    <tspan class=\"displacy-word\" fill=\"currentColor\" x=\"400\">was</tspan>\n",
       "    <tspan class=\"displacy-tag\" dy=\"2em\" fill=\"currentColor\" x=\"400\">AUX</tspan>\n",
       "</text>\n",
       "\n",
       "<text class=\"displacy-token\" fill=\"currentColor\" text-anchor=\"middle\" y=\"484.5\">\n",
       "    <tspan class=\"displacy-word\" fill=\"currentColor\" x=\"575\">clean</tspan>\n",
       "    <tspan class=\"displacy-tag\" dy=\"2em\" fill=\"currentColor\" x=\"575\">ADJ</tspan>\n",
       "</text>\n",
       "\n",
       "<text class=\"displacy-token\" fill=\"currentColor\" text-anchor=\"middle\" y=\"484.5\">\n",
       "    <tspan class=\"displacy-word\" fill=\"currentColor\" x=\"750\">with</tspan>\n",
       "    <tspan class=\"displacy-tag\" dy=\"2em\" fill=\"currentColor\" x=\"750\">ADP</tspan>\n",
       "</text>\n",
       "\n",
       "<text class=\"displacy-token\" fill=\"currentColor\" text-anchor=\"middle\" y=\"484.5\">\n",
       "    <tspan class=\"displacy-word\" fill=\"currentColor\" x=\"925\">great</tspan>\n",
       "    <tspan class=\"displacy-tag\" dy=\"2em\" fill=\"currentColor\" x=\"925\">ADJ</tspan>\n",
       "</text>\n",
       "\n",
       "<text class=\"displacy-token\" fill=\"currentColor\" text-anchor=\"middle\" y=\"484.5\">\n",
       "    <tspan class=\"displacy-word\" fill=\"currentColor\" x=\"1100\">service</tspan>\n",
       "    <tspan class=\"displacy-tag\" dy=\"2em\" fill=\"currentColor\" x=\"1100\">NOUN</tspan>\n",
       "</text>\n",
       "\n",
       "<text class=\"displacy-token\" fill=\"currentColor\" text-anchor=\"middle\" y=\"484.5\">\n",
       "    <tspan class=\"displacy-word\" fill=\"currentColor\" x=\"1275\">and</tspan>\n",
       "    <tspan class=\"displacy-tag\" dy=\"2em\" fill=\"currentColor\" x=\"1275\">CCONJ</tspan>\n",
       "</text>\n",
       "\n",
       "<text class=\"displacy-token\" fill=\"currentColor\" text-anchor=\"middle\" y=\"484.5\">\n",
       "    <tspan class=\"displacy-word\" fill=\"currentColor\" x=\"1450\">food</tspan>\n",
       "    <tspan class=\"displacy-tag\" dy=\"2em\" fill=\"currentColor\" x=\"1450\">NOUN</tspan>\n",
       "</text>\n",
       "\n",
       "<text class=\"displacy-token\" fill=\"currentColor\" text-anchor=\"middle\" y=\"484.5\">\n",
       "    <tspan class=\"displacy-word\" fill=\"currentColor\" x=\"1625\">served</tspan>\n",
       "    <tspan class=\"displacy-tag\" dy=\"2em\" fill=\"currentColor\" x=\"1625\">VERB</tspan>\n",
       "</text>\n",
       "\n",
       "<text class=\"displacy-token\" fill=\"currentColor\" text-anchor=\"middle\" y=\"484.5\">\n",
       "    <tspan class=\"displacy-word\" fill=\"currentColor\" x=\"1800\">at</tspan>\n",
       "    <tspan class=\"displacy-tag\" dy=\"2em\" fill=\"currentColor\" x=\"1800\">ADP</tspan>\n",
       "</text>\n",
       "\n",
       "<text class=\"displacy-token\" fill=\"currentColor\" text-anchor=\"middle\" y=\"484.5\">\n",
       "    <tspan class=\"displacy-word\" fill=\"currentColor\" x=\"1975\">just</tspan>\n",
       "    <tspan class=\"displacy-tag\" dy=\"2em\" fill=\"currentColor\" x=\"1975\">ADV</tspan>\n",
       "</text>\n",
       "\n",
       "<text class=\"displacy-token\" fill=\"currentColor\" text-anchor=\"middle\" y=\"484.5\">\n",
       "    <tspan class=\"displacy-word\" fill=\"currentColor\" x=\"2150\">the</tspan>\n",
       "    <tspan class=\"displacy-tag\" dy=\"2em\" fill=\"currentColor\" x=\"2150\">DET</tspan>\n",
       "</text>\n",
       "\n",
       "<text class=\"displacy-token\" fill=\"currentColor\" text-anchor=\"middle\" y=\"484.5\">\n",
       "    <tspan class=\"displacy-word\" fill=\"currentColor\" x=\"2325\">right</tspan>\n",
       "    <tspan class=\"displacy-tag\" dy=\"2em\" fill=\"currentColor\" x=\"2325\">ADJ</tspan>\n",
       "</text>\n",
       "\n",
       "<text class=\"displacy-token\" fill=\"currentColor\" text-anchor=\"middle\" y=\"484.5\">\n",
       "    <tspan class=\"displacy-word\" fill=\"currentColor\" x=\"2500\">temps!</tspan>\n",
       "    <tspan class=\"displacy-tag\" dy=\"2em\" fill=\"currentColor\" x=\"2500\">NOUN</tspan>\n",
       "</text>\n",
       "\n",
       "<g class=\"displacy-arrow\">\n",
       "    <path class=\"displacy-arc\" id=\"arrow-20546ba7d23641a398e371f116ae8c57-0-0\" stroke-width=\"2px\" d=\"M70,439.5 C70,352.0 205.0,352.0 205.0,439.5\" fill=\"none\" stroke=\"currentColor\"/>\n",
       "    <text dy=\"1.25em\" style=\"font-size: 0.8em; letter-spacing: 1px\">\n",
       "        <textPath xlink:href=\"#arrow-20546ba7d23641a398e371f116ae8c57-0-0\" class=\"displacy-label\" startOffset=\"50%\" side=\"left\" fill=\"currentColor\" text-anchor=\"middle\">det</textPath>\n",
       "    </text>\n",
       "    <path class=\"displacy-arrowhead\" d=\"M70,441.5 L62,429.5 78,429.5\" fill=\"currentColor\"/>\n",
       "</g>\n",
       "\n",
       "<g class=\"displacy-arrow\">\n",
       "    <path class=\"displacy-arc\" id=\"arrow-20546ba7d23641a398e371f116ae8c57-0-1\" stroke-width=\"2px\" d=\"M245,439.5 C245,352.0 380.0,352.0 380.0,439.5\" fill=\"none\" stroke=\"currentColor\"/>\n",
       "    <text dy=\"1.25em\" style=\"font-size: 0.8em; letter-spacing: 1px\">\n",
       "        <textPath xlink:href=\"#arrow-20546ba7d23641a398e371f116ae8c57-0-1\" class=\"displacy-label\" startOffset=\"50%\" side=\"left\" fill=\"currentColor\" text-anchor=\"middle\">nsubj</textPath>\n",
       "    </text>\n",
       "    <path class=\"displacy-arrowhead\" d=\"M245,441.5 L237,429.5 253,429.5\" fill=\"currentColor\"/>\n",
       "</g>\n",
       "\n",
       "<g class=\"displacy-arrow\">\n",
       "    <path class=\"displacy-arc\" id=\"arrow-20546ba7d23641a398e371f116ae8c57-0-2\" stroke-width=\"2px\" d=\"M420,439.5 C420,352.0 555.0,352.0 555.0,439.5\" fill=\"none\" stroke=\"currentColor\"/>\n",
       "    <text dy=\"1.25em\" style=\"font-size: 0.8em; letter-spacing: 1px\">\n",
       "        <textPath xlink:href=\"#arrow-20546ba7d23641a398e371f116ae8c57-0-2\" class=\"displacy-label\" startOffset=\"50%\" side=\"left\" fill=\"currentColor\" text-anchor=\"middle\">acomp</textPath>\n",
       "    </text>\n",
       "    <path class=\"displacy-arrowhead\" d=\"M555.0,441.5 L563.0,429.5 547.0,429.5\" fill=\"currentColor\"/>\n",
       "</g>\n",
       "\n",
       "<g class=\"displacy-arrow\">\n",
       "    <path class=\"displacy-arc\" id=\"arrow-20546ba7d23641a398e371f116ae8c57-0-3\" stroke-width=\"2px\" d=\"M595,439.5 C595,352.0 730.0,352.0 730.0,439.5\" fill=\"none\" stroke=\"currentColor\"/>\n",
       "    <text dy=\"1.25em\" style=\"font-size: 0.8em; letter-spacing: 1px\">\n",
       "        <textPath xlink:href=\"#arrow-20546ba7d23641a398e371f116ae8c57-0-3\" class=\"displacy-label\" startOffset=\"50%\" side=\"left\" fill=\"currentColor\" text-anchor=\"middle\">prep</textPath>\n",
       "    </text>\n",
       "    <path class=\"displacy-arrowhead\" d=\"M730.0,441.5 L738.0,429.5 722.0,429.5\" fill=\"currentColor\"/>\n",
       "</g>\n",
       "\n",
       "<g class=\"displacy-arrow\">\n",
       "    <path class=\"displacy-arc\" id=\"arrow-20546ba7d23641a398e371f116ae8c57-0-4\" stroke-width=\"2px\" d=\"M945,439.5 C945,352.0 1080.0,352.0 1080.0,439.5\" fill=\"none\" stroke=\"currentColor\"/>\n",
       "    <text dy=\"1.25em\" style=\"font-size: 0.8em; letter-spacing: 1px\">\n",
       "        <textPath xlink:href=\"#arrow-20546ba7d23641a398e371f116ae8c57-0-4\" class=\"displacy-label\" startOffset=\"50%\" side=\"left\" fill=\"currentColor\" text-anchor=\"middle\">amod</textPath>\n",
       "    </text>\n",
       "    <path class=\"displacy-arrowhead\" d=\"M945,441.5 L937,429.5 953,429.5\" fill=\"currentColor\"/>\n",
       "</g>\n",
       "\n",
       "<g class=\"displacy-arrow\">\n",
       "    <path class=\"displacy-arc\" id=\"arrow-20546ba7d23641a398e371f116ae8c57-0-5\" stroke-width=\"2px\" d=\"M770,439.5 C770,264.5 1085.0,264.5 1085.0,439.5\" fill=\"none\" stroke=\"currentColor\"/>\n",
       "    <text dy=\"1.25em\" style=\"font-size: 0.8em; letter-spacing: 1px\">\n",
       "        <textPath xlink:href=\"#arrow-20546ba7d23641a398e371f116ae8c57-0-5\" class=\"displacy-label\" startOffset=\"50%\" side=\"left\" fill=\"currentColor\" text-anchor=\"middle\">pobj</textPath>\n",
       "    </text>\n",
       "    <path class=\"displacy-arrowhead\" d=\"M1085.0,441.5 L1093.0,429.5 1077.0,429.5\" fill=\"currentColor\"/>\n",
       "</g>\n",
       "\n",
       "<g class=\"displacy-arrow\">\n",
       "    <path class=\"displacy-arc\" id=\"arrow-20546ba7d23641a398e371f116ae8c57-0-6\" stroke-width=\"2px\" d=\"M1120,439.5 C1120,352.0 1255.0,352.0 1255.0,439.5\" fill=\"none\" stroke=\"currentColor\"/>\n",
       "    <text dy=\"1.25em\" style=\"font-size: 0.8em; letter-spacing: 1px\">\n",
       "        <textPath xlink:href=\"#arrow-20546ba7d23641a398e371f116ae8c57-0-6\" class=\"displacy-label\" startOffset=\"50%\" side=\"left\" fill=\"currentColor\" text-anchor=\"middle\">cc</textPath>\n",
       "    </text>\n",
       "    <path class=\"displacy-arrowhead\" d=\"M1255.0,441.5 L1263.0,429.5 1247.0,429.5\" fill=\"currentColor\"/>\n",
       "</g>\n",
       "\n",
       "<g class=\"displacy-arrow\">\n",
       "    <path class=\"displacy-arc\" id=\"arrow-20546ba7d23641a398e371f116ae8c57-0-7\" stroke-width=\"2px\" d=\"M1120,439.5 C1120,264.5 1435.0,264.5 1435.0,439.5\" fill=\"none\" stroke=\"currentColor\"/>\n",
       "    <text dy=\"1.25em\" style=\"font-size: 0.8em; letter-spacing: 1px\">\n",
       "        <textPath xlink:href=\"#arrow-20546ba7d23641a398e371f116ae8c57-0-7\" class=\"displacy-label\" startOffset=\"50%\" side=\"left\" fill=\"currentColor\" text-anchor=\"middle\">conj</textPath>\n",
       "    </text>\n",
       "    <path class=\"displacy-arrowhead\" d=\"M1435.0,441.5 L1443.0,429.5 1427.0,429.5\" fill=\"currentColor\"/>\n",
       "</g>\n",
       "\n",
       "<g class=\"displacy-arrow\">\n",
       "    <path class=\"displacy-arc\" id=\"arrow-20546ba7d23641a398e371f116ae8c57-0-8\" stroke-width=\"2px\" d=\"M420,439.5 C420,2.0 1625.0,2.0 1625.0,439.5\" fill=\"none\" stroke=\"currentColor\"/>\n",
       "    <text dy=\"1.25em\" style=\"font-size: 0.8em; letter-spacing: 1px\">\n",
       "        <textPath xlink:href=\"#arrow-20546ba7d23641a398e371f116ae8c57-0-8\" class=\"displacy-label\" startOffset=\"50%\" side=\"left\" fill=\"currentColor\" text-anchor=\"middle\">advcl</textPath>\n",
       "    </text>\n",
       "    <path class=\"displacy-arrowhead\" d=\"M1625.0,441.5 L1633.0,429.5 1617.0,429.5\" fill=\"currentColor\"/>\n",
       "</g>\n",
       "\n",
       "<g class=\"displacy-arrow\">\n",
       "    <path class=\"displacy-arc\" id=\"arrow-20546ba7d23641a398e371f116ae8c57-0-9\" stroke-width=\"2px\" d=\"M1645,439.5 C1645,352.0 1780.0,352.0 1780.0,439.5\" fill=\"none\" stroke=\"currentColor\"/>\n",
       "    <text dy=\"1.25em\" style=\"font-size: 0.8em; letter-spacing: 1px\">\n",
       "        <textPath xlink:href=\"#arrow-20546ba7d23641a398e371f116ae8c57-0-9\" class=\"displacy-label\" startOffset=\"50%\" side=\"left\" fill=\"currentColor\" text-anchor=\"middle\">prep</textPath>\n",
       "    </text>\n",
       "    <path class=\"displacy-arrowhead\" d=\"M1780.0,441.5 L1788.0,429.5 1772.0,429.5\" fill=\"currentColor\"/>\n",
       "</g>\n",
       "\n",
       "<g class=\"displacy-arrow\">\n",
       "    <path class=\"displacy-arc\" id=\"arrow-20546ba7d23641a398e371f116ae8c57-0-10\" stroke-width=\"2px\" d=\"M1995,439.5 C1995,177.0 2490.0,177.0 2490.0,439.5\" fill=\"none\" stroke=\"currentColor\"/>\n",
       "    <text dy=\"1.25em\" style=\"font-size: 0.8em; letter-spacing: 1px\">\n",
       "        <textPath xlink:href=\"#arrow-20546ba7d23641a398e371f116ae8c57-0-10\" class=\"displacy-label\" startOffset=\"50%\" side=\"left\" fill=\"currentColor\" text-anchor=\"middle\">advmod</textPath>\n",
       "    </text>\n",
       "    <path class=\"displacy-arrowhead\" d=\"M1995,441.5 L1987,429.5 2003,429.5\" fill=\"currentColor\"/>\n",
       "</g>\n",
       "\n",
       "<g class=\"displacy-arrow\">\n",
       "    <path class=\"displacy-arc\" id=\"arrow-20546ba7d23641a398e371f116ae8c57-0-11\" stroke-width=\"2px\" d=\"M2170,439.5 C2170,264.5 2485.0,264.5 2485.0,439.5\" fill=\"none\" stroke=\"currentColor\"/>\n",
       "    <text dy=\"1.25em\" style=\"font-size: 0.8em; letter-spacing: 1px\">\n",
       "        <textPath xlink:href=\"#arrow-20546ba7d23641a398e371f116ae8c57-0-11\" class=\"displacy-label\" startOffset=\"50%\" side=\"left\" fill=\"currentColor\" text-anchor=\"middle\">det</textPath>\n",
       "    </text>\n",
       "    <path class=\"displacy-arrowhead\" d=\"M2170,441.5 L2162,429.5 2178,429.5\" fill=\"currentColor\"/>\n",
       "</g>\n",
       "\n",
       "<g class=\"displacy-arrow\">\n",
       "    <path class=\"displacy-arc\" id=\"arrow-20546ba7d23641a398e371f116ae8c57-0-12\" stroke-width=\"2px\" d=\"M2345,439.5 C2345,352.0 2480.0,352.0 2480.0,439.5\" fill=\"none\" stroke=\"currentColor\"/>\n",
       "    <text dy=\"1.25em\" style=\"font-size: 0.8em; letter-spacing: 1px\">\n",
       "        <textPath xlink:href=\"#arrow-20546ba7d23641a398e371f116ae8c57-0-12\" class=\"displacy-label\" startOffset=\"50%\" side=\"left\" fill=\"currentColor\" text-anchor=\"middle\">amod</textPath>\n",
       "    </text>\n",
       "    <path class=\"displacy-arrowhead\" d=\"M2345,441.5 L2337,429.5 2353,429.5\" fill=\"currentColor\"/>\n",
       "</g>\n",
       "\n",
       "<g class=\"displacy-arrow\">\n",
       "    <path class=\"displacy-arc\" id=\"arrow-20546ba7d23641a398e371f116ae8c57-0-13\" stroke-width=\"2px\" d=\"M1820,439.5 C1820,89.5 2495.0,89.5 2495.0,439.5\" fill=\"none\" stroke=\"currentColor\"/>\n",
       "    <text dy=\"1.25em\" style=\"font-size: 0.8em; letter-spacing: 1px\">\n",
       "        <textPath xlink:href=\"#arrow-20546ba7d23641a398e371f116ae8c57-0-13\" class=\"displacy-label\" startOffset=\"50%\" side=\"left\" fill=\"currentColor\" text-anchor=\"middle\">pobj</textPath>\n",
       "    </text>\n",
       "    <path class=\"displacy-arrowhead\" d=\"M2495.0,441.5 L2503.0,429.5 2487.0,429.5\" fill=\"currentColor\"/>\n",
       "</g>\n",
       "</svg></span>"
      ],
      "text/plain": [
       "<IPython.core.display.HTML object>"
      ]
     },
     "metadata": {},
     "output_type": "display_data"
    }
   ],
   "source": [
    "render(test)"
   ]
  },
  {
   "cell_type": "code",
   "execution_count": 13,
   "id": "59fbb25b",
   "metadata": {},
   "outputs": [],
   "source": [
    "data = pd.DataFrame([{\n",
    "    'token_id': i, 'token': x.idx, 'text': x.text, 'pos': x.pos_, 'lemma': x.lemma_,\n",
    "    'dep': x.dep_, 'head': x.head.idx\n",
    "} for i, x in enumerate(test)])"
   ]
  },
  {
   "cell_type": "code",
   "execution_count": 14,
   "id": "869f3120",
   "metadata": {},
   "outputs": [
    {
     "data": {
      "text/html": [
       "<div>\n",
       "<style scoped>\n",
       "    .dataframe tbody tr th:only-of-type {\n",
       "        vertical-align: middle;\n",
       "    }\n",
       "\n",
       "    .dataframe tbody tr th {\n",
       "        vertical-align: top;\n",
       "    }\n",
       "\n",
       "    .dataframe thead th {\n",
       "        text-align: right;\n",
       "    }\n",
       "</style>\n",
       "<table border=\"1\" class=\"dataframe\">\n",
       "  <thead>\n",
       "    <tr style=\"text-align: right;\">\n",
       "      <th></th>\n",
       "      <th>token_id</th>\n",
       "      <th>token</th>\n",
       "      <th>text</th>\n",
       "      <th>pos</th>\n",
       "      <th>lemma</th>\n",
       "      <th>dep</th>\n",
       "      <th>head</th>\n",
       "    </tr>\n",
       "  </thead>\n",
       "  <tbody>\n",
       "    <tr>\n",
       "      <th>0</th>\n",
       "      <td>0</td>\n",
       "      <td>74</td>\n",
       "      <td>This</td>\n",
       "      <td>DET</td>\n",
       "      <td>this</td>\n",
       "      <td>det</td>\n",
       "      <td>79</td>\n",
       "    </tr>\n",
       "    <tr>\n",
       "      <th>1</th>\n",
       "      <td>1</td>\n",
       "      <td>79</td>\n",
       "      <td>location</td>\n",
       "      <td>NOUN</td>\n",
       "      <td>location</td>\n",
       "      <td>nsubj</td>\n",
       "      <td>88</td>\n",
       "    </tr>\n",
       "    <tr>\n",
       "      <th>2</th>\n",
       "      <td>2</td>\n",
       "      <td>88</td>\n",
       "      <td>was</td>\n",
       "      <td>AUX</td>\n",
       "      <td>be</td>\n",
       "      <td>ROOT</td>\n",
       "      <td>88</td>\n",
       "    </tr>\n",
       "    <tr>\n",
       "      <th>3</th>\n",
       "      <td>3</td>\n",
       "      <td>92</td>\n",
       "      <td>clean</td>\n",
       "      <td>ADJ</td>\n",
       "      <td>clean</td>\n",
       "      <td>acomp</td>\n",
       "      <td>88</td>\n",
       "    </tr>\n",
       "    <tr>\n",
       "      <th>4</th>\n",
       "      <td>4</td>\n",
       "      <td>98</td>\n",
       "      <td>with</td>\n",
       "      <td>ADP</td>\n",
       "      <td>with</td>\n",
       "      <td>prep</td>\n",
       "      <td>92</td>\n",
       "    </tr>\n",
       "    <tr>\n",
       "      <th>5</th>\n",
       "      <td>5</td>\n",
       "      <td>103</td>\n",
       "      <td>great</td>\n",
       "      <td>ADJ</td>\n",
       "      <td>great</td>\n",
       "      <td>amod</td>\n",
       "      <td>109</td>\n",
       "    </tr>\n",
       "    <tr>\n",
       "      <th>6</th>\n",
       "      <td>6</td>\n",
       "      <td>109</td>\n",
       "      <td>service</td>\n",
       "      <td>NOUN</td>\n",
       "      <td>service</td>\n",
       "      <td>pobj</td>\n",
       "      <td>98</td>\n",
       "    </tr>\n",
       "    <tr>\n",
       "      <th>7</th>\n",
       "      <td>7</td>\n",
       "      <td>117</td>\n",
       "      <td>and</td>\n",
       "      <td>CCONJ</td>\n",
       "      <td>and</td>\n",
       "      <td>cc</td>\n",
       "      <td>109</td>\n",
       "    </tr>\n",
       "    <tr>\n",
       "      <th>8</th>\n",
       "      <td>8</td>\n",
       "      <td>121</td>\n",
       "      <td>food</td>\n",
       "      <td>NOUN</td>\n",
       "      <td>food</td>\n",
       "      <td>conj</td>\n",
       "      <td>109</td>\n",
       "    </tr>\n",
       "    <tr>\n",
       "      <th>9</th>\n",
       "      <td>9</td>\n",
       "      <td>126</td>\n",
       "      <td>served</td>\n",
       "      <td>VERB</td>\n",
       "      <td>serve</td>\n",
       "      <td>advcl</td>\n",
       "      <td>88</td>\n",
       "    </tr>\n",
       "    <tr>\n",
       "      <th>10</th>\n",
       "      <td>10</td>\n",
       "      <td>133</td>\n",
       "      <td>at</td>\n",
       "      <td>ADP</td>\n",
       "      <td>at</td>\n",
       "      <td>prep</td>\n",
       "      <td>126</td>\n",
       "    </tr>\n",
       "    <tr>\n",
       "      <th>11</th>\n",
       "      <td>11</td>\n",
       "      <td>136</td>\n",
       "      <td>just</td>\n",
       "      <td>ADV</td>\n",
       "      <td>just</td>\n",
       "      <td>advmod</td>\n",
       "      <td>151</td>\n",
       "    </tr>\n",
       "    <tr>\n",
       "      <th>12</th>\n",
       "      <td>12</td>\n",
       "      <td>141</td>\n",
       "      <td>the</td>\n",
       "      <td>DET</td>\n",
       "      <td>the</td>\n",
       "      <td>det</td>\n",
       "      <td>151</td>\n",
       "    </tr>\n",
       "    <tr>\n",
       "      <th>13</th>\n",
       "      <td>13</td>\n",
       "      <td>145</td>\n",
       "      <td>right</td>\n",
       "      <td>ADJ</td>\n",
       "      <td>right</td>\n",
       "      <td>amod</td>\n",
       "      <td>151</td>\n",
       "    </tr>\n",
       "    <tr>\n",
       "      <th>14</th>\n",
       "      <td>14</td>\n",
       "      <td>151</td>\n",
       "      <td>temps</td>\n",
       "      <td>NOUN</td>\n",
       "      <td>temp</td>\n",
       "      <td>pobj</td>\n",
       "      <td>133</td>\n",
       "    </tr>\n",
       "    <tr>\n",
       "      <th>15</th>\n",
       "      <td>15</td>\n",
       "      <td>156</td>\n",
       "      <td>!</td>\n",
       "      <td>PUNCT</td>\n",
       "      <td>!</td>\n",
       "      <td>punct</td>\n",
       "      <td>88</td>\n",
       "    </tr>\n",
       "  </tbody>\n",
       "</table>\n",
       "</div>"
      ],
      "text/plain": [
       "    token_id  token      text    pos     lemma     dep  head\n",
       "0          0     74      This    DET      this     det    79\n",
       "1          1     79  location   NOUN  location   nsubj    88\n",
       "2          2     88       was    AUX        be    ROOT    88\n",
       "3          3     92     clean    ADJ     clean   acomp    88\n",
       "4          4     98      with    ADP      with    prep    92\n",
       "5          5    103     great    ADJ     great    amod   109\n",
       "6          6    109   service   NOUN   service    pobj    98\n",
       "7          7    117       and  CCONJ       and      cc   109\n",
       "8          8    121      food   NOUN      food    conj   109\n",
       "9          9    126    served   VERB     serve   advcl    88\n",
       "10        10    133        at    ADP        at    prep   126\n",
       "11        11    136      just    ADV      just  advmod   151\n",
       "12        12    141       the    DET       the     det   151\n",
       "13        13    145     right    ADJ     right    amod   151\n",
       "14        14    151     temps   NOUN      temp    pobj   133\n",
       "15        15    156         !  PUNCT         !   punct    88"
      ]
     },
     "execution_count": 14,
     "metadata": {},
     "output_type": "execute_result"
    }
   ],
   "source": [
    "data"
   ]
  },
  {
   "cell_type": "markdown",
   "id": "3bf62ce9",
   "metadata": {},
   "source": [
    "## Explore the graph for detecting the target of adjectives and verbs\n",
    "- hints: create a statistics of the adjectives and verbs most common dependencies"
   ]
  },
  {
   "cell_type": "code",
   "execution_count": 15,
   "id": "79a8a203",
   "metadata": {},
   "outputs": [],
   "source": [
    "token_map = lambda span: dict([(x.idx, x) for x in span])"
   ]
  },
  {
   "cell_type": "code",
   "execution_count": 16,
   "id": "57a8516f",
   "metadata": {},
   "outputs": [],
   "source": [
    "def explore(token, children=None, level=0, order=None):\n",
    "    if children is None:\n",
    "        children = []\n",
    "    if order is None:\n",
    "        order = token.idx\n",
    "    for child in token.children:\n",
    "        children.append((child, level, child.idx < order))\n",
    "        explore(child, children=children, level=level+1, order=order)\n",
    "    return children"
   ]
  },
  {
   "cell_type": "code",
   "execution_count": 17,
   "id": "87edb252",
   "metadata": {},
   "outputs": [
    {
     "name": "stdout",
     "output_type": "stream",
     "text": [
      "service\n",
      "[(great, 0, True), (and, 0, False), (food, 0, False)] \n",
      "\n",
      "This location was clean with great service and food served at just the right temps!\n"
     ]
    }
   ],
   "source": [
    "token = list(test)[6]\n",
    "print(token)\n",
    "print(explore(token), '\\n')\n",
    "print(test)"
   ]
  },
  {
   "cell_type": "markdown",
   "id": "cc473dd6",
   "metadata": {},
   "source": [
    "### Left side adjectives\n",
    "Search for adjectives on the left side of the dependency tree but exclude adjectives found after another noun in the tree"
   ]
  },
  {
   "cell_type": "code",
   "execution_count": 18,
   "id": "dfe3de8c",
   "metadata": {},
   "outputs": [],
   "source": [
    "def search_adjectives(nlp_text, nouns=None):\n",
    "    nouns_map = dict([(x, []) for x in nlp_text if x.pos_ in ['NOUN', 'PROPN']])\n",
    "    if nouns is None:\n",
    "        nouns = nouns_map.keys()\n",
    "    else:\n",
    "        pass\n",
    "    for noun in nouns:\n",
    "        subtree = explore(noun)\n",
    "        subnouns = [(x, l) for x, l, _ in subtree if x.pos_ in ['NOUN', 'PROPN']]\n",
    "        for token, level, left in subtree:\n",
    "            if token.pos_ == 'ADJ' and len([(n, l) for n, l in subnouns if l < level]) == 0:\n",
    "                try:\n",
    "                    nouns_map[noun].append(token)\n",
    "                except KeyError:\n",
    "                    pass\n",
    "    return nouns_map"
   ]
  },
  {
   "cell_type": "code",
   "execution_count": 19,
   "id": "7a9e6c42",
   "metadata": {},
   "outputs": [
    {
     "name": "stdout",
     "output_type": "stream",
     "text": [
      "{location: [], service: [great], food: [], temps: [right]}\n",
      "This location was clean with great service and food served at just the right temps!\n"
     ]
    }
   ],
   "source": [
    "print(search_adjectives(test))\n",
    "print(test)"
   ]
  },
  {
   "cell_type": "markdown",
   "id": "505770ed",
   "metadata": {},
   "source": [
    "### Verb patterns\n",
    "Search for the pattern\n",
    "$$\n",
    "NOUN \\rightarrow BE\\ (VERB)\\ \\rightarrow ADJ\n",
    "$$\n",
    "For the noun, we search for a subject. For the adjective:\n",
    "- get only `dobj`, `attr` and `conj` **or** level 0 adjectives\n",
    "- add level 0 adjectives to the adjective map for the corresponding subject noun\n",
    "- for nouns, get the adjective map and add the adjectives to the subject\n",
    "\n",
    "**Important** in this example we do not deal with negation. Address negation as an exercise."
   ]
  },
  {
   "cell_type": "code",
   "execution_count": 20,
   "id": "ec407af3",
   "metadata": {},
   "outputs": [],
   "source": [
    "def verb_adjectives(text, adjective_map, be_only=True):\n",
    "    if be_only:\n",
    "        verbs = [x for x in text if x.lemma_ == 'be']\n",
    "    else:\n",
    "        verbs = [x for x in text if x.pos_ in {'AUX', 'VERB'}]\n",
    "    for verb in verbs:\n",
    "        subtokens = explore(verb)\n",
    "        subject = [(x) for x, level, left in subtokens if left and x.dep_ == 'nsubj']\n",
    "        if len(subject) > 0:\n",
    "            subj = subject[0]\n",
    "            for candidate, level, left in subtokens:\n",
    "                if not left:\n",
    "                    if candidate.pos_ == 'ADJ' and level == 0:\n",
    "                        try:\n",
    "                            adjective_map[subj].append(candidate)\n",
    "                        except KeyError:\n",
    "                            pass\n",
    "                    elif candidate.dep_ in ['dobj', 'attr', 'conj']:\n",
    "                        adj = search_adjectives(text, nouns=[candidate])\n",
    "                        try:\n",
    "                            adjective_map[subj] += adj[candidate]\n",
    "                        except KeyError:\n",
    "                            pass\n",
    "                    else:\n",
    "                        pass"
   ]
  },
  {
   "cell_type": "code",
   "execution_count": 21,
   "id": "c27341e4",
   "metadata": {},
   "outputs": [
    {
     "name": "stdout",
     "output_type": "stream",
     "text": [
      "{location: [clean], service: [great], food: [], temps: [right]}\n",
      "This location was clean with great service and food served at just the right temps!\n"
     ]
    }
   ],
   "source": [
    "adj_map = search_adjectives(test)\n",
    "verb_adjectives(test, adj_map)\n",
    "print(adj_map)\n",
    "print(test)"
   ]
  },
  {
   "cell_type": "markdown",
   "id": "e896d676",
   "metadata": {},
   "source": [
    "### Example"
   ]
  },
  {
   "cell_type": "code",
   "execution_count": 22,
   "id": "68ce124c",
   "metadata": {},
   "outputs": [
    {
     "name": "stdout",
     "output_type": "stream",
     "text": [
      "Red, white and bleu salad was super yum and a great addition to the menu!\n"
     ]
    }
   ],
   "source": [
    "test = spacy_sentences(nlp, R[0]['content'])[0]\n",
    "print(test)"
   ]
  },
  {
   "cell_type": "code",
   "execution_count": 23,
   "id": "1a6953f3",
   "metadata": {},
   "outputs": [
    {
     "data": {
      "text/plain": [
       "{bleu: [], salad: [Red, white], yum: [super], addition: [great], menu: []}"
      ]
     },
     "execution_count": 23,
     "metadata": {},
     "output_type": "execute_result"
    }
   ],
   "source": [
    "nm = search_adjectives(test)\n",
    "nm"
   ]
  },
  {
   "cell_type": "code",
   "execution_count": 24,
   "id": "751ee7f9",
   "metadata": {},
   "outputs": [],
   "source": [
    "verb_adjectives(test, adjective_map=nm)"
   ]
  },
  {
   "cell_type": "code",
   "execution_count": 25,
   "id": "bdabb079",
   "metadata": {},
   "outputs": [
    {
     "data": {
      "text/plain": [
       "{bleu: [],\n",
       " salad: [Red, white, super, great],\n",
       " yum: [super],\n",
       " addition: [great],\n",
       " menu: []}"
      ]
     },
     "execution_count": 25,
     "metadata": {},
     "output_type": "execute_result"
    }
   ],
   "source": [
    "nm"
   ]
  },
  {
   "cell_type": "markdown",
   "id": "67eb12cb",
   "metadata": {},
   "source": [
    "### Exercise: look at negations and find a way to address them"
   ]
  },
  {
   "cell_type": "code",
   "execution_count": 26,
   "id": "357d1773",
   "metadata": {},
   "outputs": [
    {
     "data": {
      "text/html": [
       "<span class=\"tex2jax_ignore\"><svg xmlns=\"http://www.w3.org/2000/svg\" xmlns:xlink=\"http://www.w3.org/1999/xlink\" xml:lang=\"en\" id=\"4bd64e6be73047c191083e9f7ac28fe6-0\" class=\"displacy\" width=\"925\" height=\"312.0\" direction=\"ltr\" style=\"max-width: none; height: 312.0px; color: #000000; background: #ffffff; font-family: Arial; direction: ltr\">\n",
       "<text class=\"displacy-token\" fill=\"currentColor\" text-anchor=\"middle\" y=\"222.0\">\n",
       "    <tspan class=\"displacy-word\" fill=\"currentColor\" x=\"50\">this</tspan>\n",
       "    <tspan class=\"displacy-tag\" dy=\"2em\" fill=\"currentColor\" x=\"50\">DET</tspan>\n",
       "</text>\n",
       "\n",
       "<text class=\"displacy-token\" fill=\"currentColor\" text-anchor=\"middle\" y=\"222.0\">\n",
       "    <tspan class=\"displacy-word\" fill=\"currentColor\" x=\"225\">salad</tspan>\n",
       "    <tspan class=\"displacy-tag\" dy=\"2em\" fill=\"currentColor\" x=\"225\">NOUN</tspan>\n",
       "</text>\n",
       "\n",
       "<text class=\"displacy-token\" fill=\"currentColor\" text-anchor=\"middle\" y=\"222.0\">\n",
       "    <tspan class=\"displacy-word\" fill=\"currentColor\" x=\"400\">was</tspan>\n",
       "    <tspan class=\"displacy-tag\" dy=\"2em\" fill=\"currentColor\" x=\"400\">AUX</tspan>\n",
       "</text>\n",
       "\n",
       "<text class=\"displacy-token\" fill=\"currentColor\" text-anchor=\"middle\" y=\"222.0\">\n",
       "    <tspan class=\"displacy-word\" fill=\"currentColor\" x=\"575\">n't</tspan>\n",
       "    <tspan class=\"displacy-tag\" dy=\"2em\" fill=\"currentColor\" x=\"575\">PART</tspan>\n",
       "</text>\n",
       "\n",
       "<text class=\"displacy-token\" fill=\"currentColor\" text-anchor=\"middle\" y=\"222.0\">\n",
       "    <tspan class=\"displacy-word\" fill=\"currentColor\" x=\"750\">good</tspan>\n",
       "    <tspan class=\"displacy-tag\" dy=\"2em\" fill=\"currentColor\" x=\"750\">ADJ</tspan>\n",
       "</text>\n",
       "\n",
       "<g class=\"displacy-arrow\">\n",
       "    <path class=\"displacy-arc\" id=\"arrow-4bd64e6be73047c191083e9f7ac28fe6-0-0\" stroke-width=\"2px\" d=\"M70,177.0 C70,89.5 220.0,89.5 220.0,177.0\" fill=\"none\" stroke=\"currentColor\"/>\n",
       "    <text dy=\"1.25em\" style=\"font-size: 0.8em; letter-spacing: 1px\">\n",
       "        <textPath xlink:href=\"#arrow-4bd64e6be73047c191083e9f7ac28fe6-0-0\" class=\"displacy-label\" startOffset=\"50%\" side=\"left\" fill=\"currentColor\" text-anchor=\"middle\">det</textPath>\n",
       "    </text>\n",
       "    <path class=\"displacy-arrowhead\" d=\"M70,179.0 L62,167.0 78,167.0\" fill=\"currentColor\"/>\n",
       "</g>\n",
       "\n",
       "<g class=\"displacy-arrow\">\n",
       "    <path class=\"displacy-arc\" id=\"arrow-4bd64e6be73047c191083e9f7ac28fe6-0-1\" stroke-width=\"2px\" d=\"M245,177.0 C245,89.5 395.0,89.5 395.0,177.0\" fill=\"none\" stroke=\"currentColor\"/>\n",
       "    <text dy=\"1.25em\" style=\"font-size: 0.8em; letter-spacing: 1px\">\n",
       "        <textPath xlink:href=\"#arrow-4bd64e6be73047c191083e9f7ac28fe6-0-1\" class=\"displacy-label\" startOffset=\"50%\" side=\"left\" fill=\"currentColor\" text-anchor=\"middle\">nsubj</textPath>\n",
       "    </text>\n",
       "    <path class=\"displacy-arrowhead\" d=\"M245,179.0 L237,167.0 253,167.0\" fill=\"currentColor\"/>\n",
       "</g>\n",
       "\n",
       "<g class=\"displacy-arrow\">\n",
       "    <path class=\"displacy-arc\" id=\"arrow-4bd64e6be73047c191083e9f7ac28fe6-0-2\" stroke-width=\"2px\" d=\"M420,177.0 C420,89.5 570.0,89.5 570.0,177.0\" fill=\"none\" stroke=\"currentColor\"/>\n",
       "    <text dy=\"1.25em\" style=\"font-size: 0.8em; letter-spacing: 1px\">\n",
       "        <textPath xlink:href=\"#arrow-4bd64e6be73047c191083e9f7ac28fe6-0-2\" class=\"displacy-label\" startOffset=\"50%\" side=\"left\" fill=\"currentColor\" text-anchor=\"middle\">neg</textPath>\n",
       "    </text>\n",
       "    <path class=\"displacy-arrowhead\" d=\"M570.0,179.0 L578.0,167.0 562.0,167.0\" fill=\"currentColor\"/>\n",
       "</g>\n",
       "\n",
       "<g class=\"displacy-arrow\">\n",
       "    <path class=\"displacy-arc\" id=\"arrow-4bd64e6be73047c191083e9f7ac28fe6-0-3\" stroke-width=\"2px\" d=\"M420,177.0 C420,2.0 750.0,2.0 750.0,177.0\" fill=\"none\" stroke=\"currentColor\"/>\n",
       "    <text dy=\"1.25em\" style=\"font-size: 0.8em; letter-spacing: 1px\">\n",
       "        <textPath xlink:href=\"#arrow-4bd64e6be73047c191083e9f7ac28fe6-0-3\" class=\"displacy-label\" startOffset=\"50%\" side=\"left\" fill=\"currentColor\" text-anchor=\"middle\">acomp</textPath>\n",
       "    </text>\n",
       "    <path class=\"displacy-arrowhead\" d=\"M750.0,179.0 L758.0,167.0 742.0,167.0\" fill=\"currentColor\"/>\n",
       "</g>\n",
       "</svg></span>"
      ],
      "text/plain": [
       "<IPython.core.display.HTML object>"
      ]
     },
     "metadata": {},
     "output_type": "display_data"
    }
   ],
   "source": [
    "s = nlp(\"this salad wasn't good\")\n",
    "nms = search_adjectives(s)\n",
    "verb_adjectives(s, adjective_map=nms)\n",
    "nms\n",
    "render(s)"
   ]
  },
  {
   "cell_type": "markdown",
   "id": "0ec77571",
   "metadata": {},
   "source": [
    "## Find meaningful pairs ADJ-NOUN per business category\n",
    "We now exploit our search functions to get stats about the adjective-noun pairs and the corresponding business categories."
   ]
  },
  {
   "cell_type": "code",
   "execution_count": 27,
   "id": "6d47fe31",
   "metadata": {},
   "outputs": [],
   "source": [
    "documents, stars, categories = [], [], []\n",
    "for i, review in enumerate(R[:3000]):\n",
    "    documents.append(review['content'])\n",
    "    stars.append(review['stars'])\n",
    "    categories.append(review['categories'])"
   ]
  },
  {
   "cell_type": "code",
   "execution_count": 28,
   "id": "b6cc51a6",
   "metadata": {},
   "outputs": [
    {
     "data": {
      "text/plain": [
       "['American (Traditional)', 'Burgers', 'Restaurants']"
      ]
     },
     "execution_count": 28,
     "metadata": {},
     "output_type": "execute_result"
    }
   ],
   "source": [
    "categories[0]"
   ]
  },
  {
   "cell_type": "code",
   "execution_count": 29,
   "id": "a995081a",
   "metadata": {},
   "outputs": [
    {
     "data": {
      "application/vnd.jupyter.widget-view+json": {
       "model_id": "77adae6d437f465bbbc84802cda89797",
       "version_major": 2,
       "version_minor": 0
      },
      "text/plain": [
       "  0%|          | 0/3000 [00:00<?, ?it/s]"
      ]
     },
     "metadata": {},
     "output_type": "display_data"
    }
   ],
   "source": [
    "stats_data = []\n",
    "runs = list(enumerate(documents))\n",
    "for i, doc in tqdm(runs):\n",
    "    cats = categories[i]\n",
    "    star = stars[i]\n",
    "    sample = spacy_sentences(nlp, doc)\n",
    "    for sent in sample:\n",
    "        nm = search_adjectives(sent)\n",
    "        verb_adjectives(sent, adjective_map=nm)\n",
    "        for n, adjs in nm.items():\n",
    "            for a in adjs:\n",
    "                for cat in cats:\n",
    "                    stats_data.append({\n",
    "                        'doc': i,\n",
    "                        'category': cat,\n",
    "                        'adj': a.lemma_.lower(),\n",
    "                        'noun': n.lemma_.lower()\n",
    "                    })\n",
    "S = pd.DataFrame(stats_data)"
   ]
  },
  {
   "cell_type": "code",
   "execution_count": 30,
   "id": "79ca3c72",
   "metadata": {},
   "outputs": [
    {
     "data": {
      "text/html": [
       "<div>\n",
       "<style scoped>\n",
       "    .dataframe tbody tr th:only-of-type {\n",
       "        vertical-align: middle;\n",
       "    }\n",
       "\n",
       "    .dataframe tbody tr th {\n",
       "        vertical-align: top;\n",
       "    }\n",
       "\n",
       "    .dataframe thead th {\n",
       "        text-align: right;\n",
       "    }\n",
       "</style>\n",
       "<table border=\"1\" class=\"dataframe\">\n",
       "  <thead>\n",
       "    <tr style=\"text-align: right;\">\n",
       "      <th></th>\n",
       "      <th>doc</th>\n",
       "      <th>category</th>\n",
       "      <th>adj</th>\n",
       "      <th>noun</th>\n",
       "    </tr>\n",
       "  </thead>\n",
       "  <tbody>\n",
       "    <tr>\n",
       "      <th>0</th>\n",
       "      <td>0</td>\n",
       "      <td>American (Traditional)</td>\n",
       "      <td>red</td>\n",
       "      <td>salad</td>\n",
       "    </tr>\n",
       "    <tr>\n",
       "      <th>1</th>\n",
       "      <td>0</td>\n",
       "      <td>Burgers</td>\n",
       "      <td>red</td>\n",
       "      <td>salad</td>\n",
       "    </tr>\n",
       "    <tr>\n",
       "      <th>2</th>\n",
       "      <td>0</td>\n",
       "      <td>Restaurants</td>\n",
       "      <td>red</td>\n",
       "      <td>salad</td>\n",
       "    </tr>\n",
       "    <tr>\n",
       "      <th>3</th>\n",
       "      <td>0</td>\n",
       "      <td>American (Traditional)</td>\n",
       "      <td>white</td>\n",
       "      <td>salad</td>\n",
       "    </tr>\n",
       "    <tr>\n",
       "      <th>4</th>\n",
       "      <td>0</td>\n",
       "      <td>Burgers</td>\n",
       "      <td>white</td>\n",
       "      <td>salad</td>\n",
       "    </tr>\n",
       "  </tbody>\n",
       "</table>\n",
       "</div>"
      ],
      "text/plain": [
       "   doc                category    adj   noun\n",
       "0    0  American (Traditional)    red  salad\n",
       "1    0                 Burgers    red  salad\n",
       "2    0             Restaurants    red  salad\n",
       "3    0  American (Traditional)  white  salad\n",
       "4    0                 Burgers  white  salad"
      ]
     },
     "execution_count": 30,
     "metadata": {},
     "output_type": "execute_result"
    }
   ],
   "source": [
    "S.head()"
   ]
  },
  {
   "cell_type": "markdown",
   "id": "a8a764cd",
   "metadata": {},
   "source": [
    "### Pointwise mutual information\n",
    "We can exploit PMI for two aims:\n",
    "\n",
    "1. compute relevance of adjective-noun pairs\n",
    "2. compute relevance of nouns pairs per category\n",
    "\n",
    "(1.) is a measure of how much an adjective is related to the corresponding noun, while (2.) gives a measure of how much a noun is relevant for a category \n",
    "\n",
    "The general formula for PMI given two variables A and B is:\n",
    "$$\n",
    "PMI(A, B) = \\log \\frac{P(A, B)}{P(A)P(B)} = \\log \\left ( \\frac{count(A, B)}{\\sum\\limits_{i=1}^{n} count((A, B)_i)}\n",
    "\\frac{\\sum\\limits_{j=1}^{a} count(A_j)\\sum\\limits_{z=1}^{b} count(B_j)}{count(A)count(B)} \\right )\n",
    "$$\n",
    "**Note**: the reliability of PMI requires a minimal number of observations. For this reason, we skip pairs of values having a low frequency"
   ]
  },
  {
   "cell_type": "markdown",
   "id": "3d2c0d2e",
   "metadata": {},
   "source": [
    "#### Adjective-Noun PMI\n",
    "**NOTE** for adj-noun pairs, we first get rid of categories to avoid overcounting pairs"
   ]
  },
  {
   "cell_type": "code",
   "execution_count": 31,
   "id": "41a5ef33",
   "metadata": {},
   "outputs": [],
   "source": [
    "Sdoc = S.groupby(['doc', 'adj', 'noun']).first().reset_index()[['doc', 'adj', 'noun']]"
   ]
  },
  {
   "cell_type": "code",
   "execution_count": 32,
   "id": "bcf1b68b",
   "metadata": {},
   "outputs": [],
   "source": [
    "min_freq = 2\n",
    "adj_noun = Sdoc.groupby(['adj', 'noun']).count()\n",
    "adj_noun = adj_noun[adj_noun.doc > min_freq]\n",
    "adj = Sdoc.groupby('adj').count()['doc']\n",
    "adj = pd.DataFrame(adj[adj > min_freq])\n",
    "noun = Sdoc.groupby('noun').count()['doc']\n",
    "noun = pd.DataFrame(noun[noun > min_freq])"
   ]
  },
  {
   "cell_type": "code",
   "execution_count": 33,
   "id": "e35b592b",
   "metadata": {},
   "outputs": [
    {
     "data": {
      "text/html": [
       "<div>\n",
       "<style scoped>\n",
       "    .dataframe tbody tr th:only-of-type {\n",
       "        vertical-align: middle;\n",
       "    }\n",
       "\n",
       "    .dataframe tbody tr th {\n",
       "        vertical-align: top;\n",
       "    }\n",
       "\n",
       "    .dataframe thead th {\n",
       "        text-align: right;\n",
       "    }\n",
       "</style>\n",
       "<table border=\"1\" class=\"dataframe\">\n",
       "  <thead>\n",
       "    <tr style=\"text-align: right;\">\n",
       "      <th></th>\n",
       "      <th></th>\n",
       "      <th>doc</th>\n",
       "    </tr>\n",
       "    <tr>\n",
       "      <th>adj</th>\n",
       "      <th>noun</th>\n",
       "      <th></th>\n",
       "    </tr>\n",
       "  </thead>\n",
       "  <tbody>\n",
       "    <tr>\n",
       "      <th rowspan=\"2\" valign=\"top\">-</th>\n",
       "      <th>food</th>\n",
       "      <td>3</td>\n",
       "    </tr>\n",
       "    <tr>\n",
       "      <th>place</th>\n",
       "      <td>4</td>\n",
       "    </tr>\n",
       "    <tr>\n",
       "      <th>1st</th>\n",
       "      <th>time</th>\n",
       "      <td>5</td>\n",
       "    </tr>\n",
       "    <tr>\n",
       "      <th>2nd</th>\n",
       "      <th>time</th>\n",
       "      <td>4</td>\n",
       "    </tr>\n",
       "    <tr>\n",
       "      <th>affordable</th>\n",
       "      <th>place</th>\n",
       "      <td>3</td>\n",
       "    </tr>\n",
       "  </tbody>\n",
       "</table>\n",
       "</div>"
      ],
      "text/plain": [
       "                  doc\n",
       "adj        noun      \n",
       "-          food     3\n",
       "           place    4\n",
       "1st        time     5\n",
       "2nd        time     4\n",
       "affordable place    3"
      ]
     },
     "execution_count": 33,
     "metadata": {},
     "output_type": "execute_result"
    }
   ],
   "source": [
    "adj_noun.head()"
   ]
  },
  {
   "cell_type": "code",
   "execution_count": 34,
   "id": "ab6c682a",
   "metadata": {},
   "outputs": [
    {
     "data": {
      "text/html": [
       "<div>\n",
       "<style scoped>\n",
       "    .dataframe tbody tr th:only-of-type {\n",
       "        vertical-align: middle;\n",
       "    }\n",
       "\n",
       "    .dataframe tbody tr th {\n",
       "        vertical-align: top;\n",
       "    }\n",
       "\n",
       "    .dataframe thead th {\n",
       "        text-align: right;\n",
       "    }\n",
       "</style>\n",
       "<table border=\"1\" class=\"dataframe\">\n",
       "  <thead>\n",
       "    <tr style=\"text-align: right;\">\n",
       "      <th></th>\n",
       "      <th>doc</th>\n",
       "    </tr>\n",
       "    <tr>\n",
       "      <th>adj</th>\n",
       "      <th></th>\n",
       "    </tr>\n",
       "  </thead>\n",
       "  <tbody>\n",
       "    <tr>\n",
       "      <th>-</th>\n",
       "      <td>52</td>\n",
       "    </tr>\n",
       "    <tr>\n",
       "      <th>1\\/2</th>\n",
       "      <td>3</td>\n",
       "    </tr>\n",
       "    <tr>\n",
       "      <th>1st</th>\n",
       "      <td>7</td>\n",
       "    </tr>\n",
       "    <tr>\n",
       "      <th>2nd</th>\n",
       "      <td>9</td>\n",
       "    </tr>\n",
       "    <tr>\n",
       "      <th>3d</th>\n",
       "      <td>3</td>\n",
       "    </tr>\n",
       "  </tbody>\n",
       "</table>\n",
       "</div>"
      ],
      "text/plain": [
       "      doc\n",
       "adj      \n",
       "-      52\n",
       "1\\/2    3\n",
       "1st     7\n",
       "2nd     9\n",
       "3d      3"
      ]
     },
     "execution_count": 34,
     "metadata": {},
     "output_type": "execute_result"
    }
   ],
   "source": [
    "adj.head()"
   ]
  },
  {
   "cell_type": "code",
   "execution_count": 35,
   "id": "9c3e40e9",
   "metadata": {},
   "outputs": [
    {
     "data": {
      "text/html": [
       "<div>\n",
       "<style scoped>\n",
       "    .dataframe tbody tr th:only-of-type {\n",
       "        vertical-align: middle;\n",
       "    }\n",
       "\n",
       "    .dataframe tbody tr th {\n",
       "        vertical-align: top;\n",
       "    }\n",
       "\n",
       "    .dataframe thead th {\n",
       "        text-align: right;\n",
       "    }\n",
       "</style>\n",
       "<table border=\"1\" class=\"dataframe\">\n",
       "  <thead>\n",
       "    <tr style=\"text-align: right;\">\n",
       "      <th></th>\n",
       "      <th>doc</th>\n",
       "    </tr>\n",
       "    <tr>\n",
       "      <th>noun</th>\n",
       "      <th></th>\n",
       "    </tr>\n",
       "  </thead>\n",
       "  <tbody>\n",
       "    <tr>\n",
       "      <th>%</th>\n",
       "      <td>4</td>\n",
       "    </tr>\n",
       "    <tr>\n",
       "      <th>-ramon</th>\n",
       "      <td>4</td>\n",
       "    </tr>\n",
       "    <tr>\n",
       "      <th>90</th>\n",
       "      <td>3</td>\n",
       "    </tr>\n",
       "    <tr>\n",
       "      <th>\\/</th>\n",
       "      <td>4</td>\n",
       "    </tr>\n",
       "    <tr>\n",
       "      <th>access</th>\n",
       "      <td>8</td>\n",
       "    </tr>\n",
       "  </tbody>\n",
       "</table>\n",
       "</div>"
      ],
      "text/plain": [
       "        doc\n",
       "noun       \n",
       "%         4\n",
       "-ramon    4\n",
       "90        3\n",
       "\\/        4\n",
       "access    8"
      ]
     },
     "execution_count": 35,
     "metadata": {},
     "output_type": "execute_result"
    }
   ],
   "source": [
    "noun.head()"
   ]
  },
  {
   "cell_type": "markdown",
   "id": "11cd2f95",
   "metadata": {},
   "source": [
    "##### Probabilities"
   ]
  },
  {
   "cell_type": "code",
   "execution_count": 36,
   "id": "0e69c0ec",
   "metadata": {},
   "outputs": [],
   "source": [
    "adj_noun_sum = adj_noun.sum()['doc']\n",
    "adj_noun['p'] = adj_noun.doc / adj_noun_sum\n",
    "adj_sum = adj.sum()['doc']\n",
    "adj['p'] = adj.doc / adj_sum\n",
    "noun_sum = noun.sum()['doc']\n",
    "noun['p'] = noun.doc / noun_sum"
   ]
  },
  {
   "cell_type": "markdown",
   "id": "8c38a568",
   "metadata": {},
   "source": [
    "##### PMI"
   ]
  },
  {
   "cell_type": "code",
   "execution_count": 37,
   "id": "cc31e206",
   "metadata": {},
   "outputs": [],
   "source": [
    "pmi = []\n",
    "for (a, n), row in adj_noun.iterrows():\n",
    "    pmi.append({'adj': a, 'noun': n, 'pmi': np.log(row.p / (adj.loc[a].p * noun.loc[n].p))})\n",
    "pmi_an = pd.DataFrame(pmi)\n",
    "pmi_an.set_index(['adj', 'noun'], inplace=True)"
   ]
  },
  {
   "cell_type": "code",
   "execution_count": 38,
   "id": "1f63bc77",
   "metadata": {},
   "outputs": [
    {
     "data": {
      "text/html": [
       "<div>\n",
       "<style scoped>\n",
       "    .dataframe tbody tr th:only-of-type {\n",
       "        vertical-align: middle;\n",
       "    }\n",
       "\n",
       "    .dataframe tbody tr th {\n",
       "        vertical-align: top;\n",
       "    }\n",
       "\n",
       "    .dataframe thead th {\n",
       "        text-align: right;\n",
       "    }\n",
       "</style>\n",
       "<table border=\"1\" class=\"dataframe\">\n",
       "  <thead>\n",
       "    <tr style=\"text-align: right;\">\n",
       "      <th></th>\n",
       "      <th></th>\n",
       "      <th>pmi</th>\n",
       "    </tr>\n",
       "    <tr>\n",
       "      <th>adj</th>\n",
       "      <th>noun</th>\n",
       "      <th></th>\n",
       "    </tr>\n",
       "  </thead>\n",
       "  <tbody>\n",
       "    <tr>\n",
       "      <th>bloody</th>\n",
       "      <th>mary</th>\n",
       "      <td>8.531200</td>\n",
       "    </tr>\n",
       "    <tr>\n",
       "      <th>human</th>\n",
       "      <th>being</th>\n",
       "      <td>8.466662</td>\n",
       "    </tr>\n",
       "    <tr>\n",
       "      <th>military</th>\n",
       "      <th>discount</th>\n",
       "      <td>8.377050</td>\n",
       "    </tr>\n",
       "    <tr>\n",
       "      <th>olive</th>\n",
       "      <th>oil</th>\n",
       "      <td>8.348879</td>\n",
       "    </tr>\n",
       "    <tr>\n",
       "      <th>balsamic</th>\n",
       "      <th>vinegar</th>\n",
       "      <td>8.328259</td>\n",
       "    </tr>\n",
       "  </tbody>\n",
       "</table>\n",
       "</div>"
      ],
      "text/plain": [
       "                        pmi\n",
       "adj      noun              \n",
       "bloody   mary      8.531200\n",
       "human    being     8.466662\n",
       "military discount  8.377050\n",
       "olive    oil       8.348879\n",
       "balsamic vinegar   8.328259"
      ]
     },
     "execution_count": 38,
     "metadata": {},
     "output_type": "execute_result"
    }
   ],
   "source": [
    "pmi_an.sort_values('pmi', ascending=False).head()"
   ]
  },
  {
   "cell_type": "markdown",
   "id": "2a4d84b2",
   "metadata": {},
   "source": [
    "#### Category-noun PMI"
   ]
  },
  {
   "cell_type": "code",
   "execution_count": 39,
   "id": "404cad86",
   "metadata": {},
   "outputs": [],
   "source": [
    "Scat = S.groupby(['category', 'noun']).count().reset_index()[['category', 'noun', 'doc']]"
   ]
  },
  {
   "cell_type": "code",
   "execution_count": 40,
   "id": "ec539b1e",
   "metadata": {},
   "outputs": [],
   "source": [
    "cat_noun = Scat[Scat.doc > min_freq].copy()\n",
    "cat_p = pd.DataFrame(cat_noun.groupby('category')['doc'].sum())\n",
    "cat_p = cat_p[cat_p.doc > min_freq]\n",
    "noun_p = pd.DataFrame(cat_noun.groupby('noun')['doc'].sum())\n",
    "noun_p = noun_p[noun_p.doc > min_freq]"
   ]
  },
  {
   "cell_type": "code",
   "execution_count": 41,
   "id": "cef24202",
   "metadata": {},
   "outputs": [],
   "source": [
    "cat_noun_sum = cat_noun.doc.sum()\n",
    "cat_noun['p'] = cat_noun.doc / cat_noun_sum\n",
    "cat_p['p'] = cat_p.doc / cat_p.doc.sum()\n",
    "noun_p['p'] = noun_p.doc / noun_p.doc.sum()"
   ]
  },
  {
   "cell_type": "code",
   "execution_count": 42,
   "id": "6f197303",
   "metadata": {},
   "outputs": [],
   "source": [
    "pmi = []\n",
    "for i, row in cat_noun.iterrows():\n",
    "    pmi.append({'category': row['category'], \n",
    "                'noun': row['noun'], \n",
    "                'pmi': np.log(\n",
    "                    row.p / (cat_p.loc[row['category']].p * noun_p.loc[row['noun']].p))})\n",
    "pmi_cat = pd.DataFrame(pmi)\n",
    "pmi_cat.set_index(['category', 'noun'], inplace=True)"
   ]
  },
  {
   "cell_type": "code",
   "execution_count": 43,
   "id": "bfccf4e8",
   "metadata": {},
   "outputs": [
    {
     "data": {
      "text/html": [
       "<div>\n",
       "<style scoped>\n",
       "    .dataframe tbody tr th:only-of-type {\n",
       "        vertical-align: middle;\n",
       "    }\n",
       "\n",
       "    .dataframe tbody tr th {\n",
       "        vertical-align: top;\n",
       "    }\n",
       "\n",
       "    .dataframe thead th {\n",
       "        text-align: right;\n",
       "    }\n",
       "</style>\n",
       "<table border=\"1\" class=\"dataframe\">\n",
       "  <thead>\n",
       "    <tr style=\"text-align: right;\">\n",
       "      <th></th>\n",
       "      <th></th>\n",
       "      <th>pmi</th>\n",
       "    </tr>\n",
       "    <tr>\n",
       "      <th>category</th>\n",
       "      <th>noun</th>\n",
       "      <th></th>\n",
       "    </tr>\n",
       "  </thead>\n",
       "  <tbody>\n",
       "    <tr>\n",
       "      <th>Test Preparation</th>\n",
       "      <th>colleague</th>\n",
       "      <td>9.228655</td>\n",
       "    </tr>\n",
       "    <tr>\n",
       "      <th>Public Services &amp; Government</th>\n",
       "      <th>ppl</th>\n",
       "      <td>8.823190</td>\n",
       "    </tr>\n",
       "    <tr>\n",
       "      <th>Orthopedists</th>\n",
       "      <th>surgery</th>\n",
       "      <td>8.823190</td>\n",
       "    </tr>\n",
       "    <tr>\n",
       "      <th>Beaches</th>\n",
       "      <th>beach</th>\n",
       "      <td>8.823190</td>\n",
       "    </tr>\n",
       "    <tr>\n",
       "      <th>Sports Medicine</th>\n",
       "      <th>news</th>\n",
       "      <td>8.823190</td>\n",
       "    </tr>\n",
       "  </tbody>\n",
       "</table>\n",
       "</div>"
      ],
      "text/plain": [
       "                                             pmi\n",
       "category                     noun               \n",
       "Test Preparation             colleague  9.228655\n",
       "Public Services & Government ppl        8.823190\n",
       "Orthopedists                 surgery    8.823190\n",
       "Beaches                      beach      8.823190\n",
       "Sports Medicine              news       8.823190"
      ]
     },
     "execution_count": 43,
     "metadata": {},
     "output_type": "execute_result"
    }
   ],
   "source": [
    "pmi_cat.sort_values('pmi', ascending=False).head()"
   ]
  },
  {
   "cell_type": "code",
   "execution_count": 44,
   "id": "7320d2f2",
   "metadata": {},
   "outputs": [
    {
     "data": {
      "text/html": [
       "<div>\n",
       "<style scoped>\n",
       "    .dataframe tbody tr th:only-of-type {\n",
       "        vertical-align: middle;\n",
       "    }\n",
       "\n",
       "    .dataframe tbody tr th {\n",
       "        vertical-align: top;\n",
       "    }\n",
       "\n",
       "    .dataframe thead th {\n",
       "        text-align: right;\n",
       "    }\n",
       "</style>\n",
       "<table border=\"1\" class=\"dataframe\">\n",
       "  <thead>\n",
       "    <tr style=\"text-align: right;\">\n",
       "      <th></th>\n",
       "      <th>category</th>\n",
       "      <th>noun</th>\n",
       "      <th>pmi</th>\n",
       "    </tr>\n",
       "  </thead>\n",
       "  <tbody>\n",
       "    <tr>\n",
       "      <th>4012</th>\n",
       "      <td>Hotels &amp; Travel</td>\n",
       "      <td>condition</td>\n",
       "      <td>3.977255</td>\n",
       "    </tr>\n",
       "    <tr>\n",
       "      <th>3991</th>\n",
       "      <td>Hotels &amp; Travel</td>\n",
       "      <td>bag</td>\n",
       "      <td>3.977255</td>\n",
       "    </tr>\n",
       "    <tr>\n",
       "      <th>4051</th>\n",
       "      <td>Hotels &amp; Travel</td>\n",
       "      <td>luck</td>\n",
       "      <td>3.977255</td>\n",
       "    </tr>\n",
       "    <tr>\n",
       "      <th>3988</th>\n",
       "      <td>Hotels &amp; Travel</td>\n",
       "      <td>airport</td>\n",
       "      <td>3.358215</td>\n",
       "    </tr>\n",
       "    <tr>\n",
       "      <th>3989</th>\n",
       "      <td>Hotels &amp; Travel</td>\n",
       "      <td>alain</td>\n",
       "      <td>3.284107</td>\n",
       "    </tr>\n",
       "  </tbody>\n",
       "</table>\n",
       "</div>"
      ],
      "text/plain": [
       "             category       noun       pmi\n",
       "4012  Hotels & Travel  condition  3.977255\n",
       "3991  Hotels & Travel        bag  3.977255\n",
       "4051  Hotels & Travel       luck  3.977255\n",
       "3988  Hotels & Travel    airport  3.358215\n",
       "3989  Hotels & Travel      alain  3.284107"
      ]
     },
     "execution_count": 44,
     "metadata": {},
     "output_type": "execute_result"
    }
   ],
   "source": [
    "pmicats = pmi_cat.reset_index()\n",
    "pmicats[pmicats.category == 'Hotels & Travel'].sort_values('pmi', ascending=False).head()"
   ]
  },
  {
   "cell_type": "markdown",
   "id": "8eb67d3b",
   "metadata": {},
   "source": [
    "# Use PMI data for predicting the sentiment score of each aspect\n",
    "We assume that `NOUNS` represent different opinion targets in a review.\n",
    "\n",
    "For each `NOUN` (i.e., target in our interpretation), we know:\n",
    "1. the corresponding `ADJ`\n",
    "2. the corresponding `CATEGORY` \n",
    "3. the expected number of `STARS` of the review as a whole.\n",
    "\n",
    "We aim at predicting (3.) given (1.) and (2.)."
   ]
  },
  {
   "cell_type": "code",
   "execution_count": 45,
   "id": "45bbf018",
   "metadata": {},
   "outputs": [],
   "source": [
    "categories, adjs, nouns = S.category.values, S.adj.values, S.noun.values\n",
    "S['stars'] = [stars[x] for x in S.doc.values]\n",
    "S['pmi_cat'] = [pmi_cat.loc[(categories[i], nouns[i])].pmi if (\n",
    "    categories[i], nouns[i]) in pmi_cat.index else np.nan for i in range(S.shape[0])]\n",
    "S['pmi_an'] = [pmi_an.loc[(adjs[i], nouns[i])].pmi if (\n",
    "    adjs[i], nouns[i]) in pmi_an.index else np.nan for i in range(S.shape[0])]"
   ]
  },
  {
   "cell_type": "code",
   "execution_count": 46,
   "id": "8045ad0e",
   "metadata": {},
   "outputs": [
    {
     "data": {
      "text/html": [
       "<div>\n",
       "<style scoped>\n",
       "    .dataframe tbody tr th:only-of-type {\n",
       "        vertical-align: middle;\n",
       "    }\n",
       "\n",
       "    .dataframe tbody tr th {\n",
       "        vertical-align: top;\n",
       "    }\n",
       "\n",
       "    .dataframe thead th {\n",
       "        text-align: right;\n",
       "    }\n",
       "</style>\n",
       "<table border=\"1\" class=\"dataframe\">\n",
       "  <thead>\n",
       "    <tr style=\"text-align: right;\">\n",
       "      <th></th>\n",
       "      <th>doc</th>\n",
       "      <th>category</th>\n",
       "      <th>adj</th>\n",
       "      <th>noun</th>\n",
       "      <th>stars</th>\n",
       "      <th>pmi_cat</th>\n",
       "      <th>pmi_an</th>\n",
       "    </tr>\n",
       "  </thead>\n",
       "  <tbody>\n",
       "    <tr>\n",
       "      <th>14733</th>\n",
       "      <td>459</td>\n",
       "      <td>Nightlife</td>\n",
       "      <td>bloody</td>\n",
       "      <td>mary</td>\n",
       "      <td>1</td>\n",
       "      <td>NaN</td>\n",
       "      <td>8.5312</td>\n",
       "    </tr>\n",
       "    <tr>\n",
       "      <th>27383</th>\n",
       "      <td>830</td>\n",
       "      <td>Restaurants</td>\n",
       "      <td>bloody</td>\n",
       "      <td>mary</td>\n",
       "      <td>3</td>\n",
       "      <td>1.095948</td>\n",
       "      <td>8.5312</td>\n",
       "    </tr>\n",
       "    <tr>\n",
       "      <th>56578</th>\n",
       "      <td>1701</td>\n",
       "      <td>Restaurants</td>\n",
       "      <td>bloody</td>\n",
       "      <td>mary</td>\n",
       "      <td>1</td>\n",
       "      <td>1.095948</td>\n",
       "      <td>8.5312</td>\n",
       "    </tr>\n",
       "    <tr>\n",
       "      <th>56577</th>\n",
       "      <td>1701</td>\n",
       "      <td>Casinos</td>\n",
       "      <td>bloody</td>\n",
       "      <td>mary</td>\n",
       "      <td>1</td>\n",
       "      <td>NaN</td>\n",
       "      <td>8.5312</td>\n",
       "    </tr>\n",
       "    <tr>\n",
       "      <th>56576</th>\n",
       "      <td>1701</td>\n",
       "      <td>Buffets</td>\n",
       "      <td>bloody</td>\n",
       "      <td>mary</td>\n",
       "      <td>1</td>\n",
       "      <td>NaN</td>\n",
       "      <td>8.5312</td>\n",
       "    </tr>\n",
       "  </tbody>\n",
       "</table>\n",
       "</div>"
      ],
      "text/plain": [
       "        doc     category     adj  noun  stars   pmi_cat  pmi_an\n",
       "14733   459    Nightlife  bloody  mary      1       NaN  8.5312\n",
       "27383   830  Restaurants  bloody  mary      3  1.095948  8.5312\n",
       "56578  1701  Restaurants  bloody  mary      1  1.095948  8.5312\n",
       "56577  1701      Casinos  bloody  mary      1       NaN  8.5312\n",
       "56576  1701      Buffets  bloody  mary      1       NaN  8.5312"
      ]
     },
     "execution_count": 46,
     "metadata": {},
     "output_type": "execute_result"
    }
   ],
   "source": [
    "S.sort_values('pmi_an', ascending=False).head()"
   ]
  },
  {
   "cell_type": "code",
   "execution_count": 47,
   "id": "8cf435d6",
   "metadata": {},
   "outputs": [],
   "source": [
    "Sn = S.dropna(inplace=False)"
   ]
  },
  {
   "cell_type": "code",
   "execution_count": 48,
   "id": "737a63d2",
   "metadata": {},
   "outputs": [
    {
     "data": {
      "text/plain": [
       "(28409, 7)"
      ]
     },
     "execution_count": 48,
     "metadata": {},
     "output_type": "execute_result"
    }
   ],
   "source": [
    "Sn.shape"
   ]
  },
  {
   "cell_type": "markdown",
   "id": "e9ba815a",
   "metadata": {},
   "source": [
    "## Example 1: regression\n",
    "The number of stars is interpreted as a continuous scale."
   ]
  },
  {
   "cell_type": "code",
   "execution_count": 49,
   "id": "9e4de6e9",
   "metadata": {},
   "outputs": [],
   "source": [
    "import matplotlib.pyplot as plt\n",
    "from sklearn.model_selection import train_test_split"
   ]
  },
  {
   "cell_type": "code",
   "execution_count": 50,
   "id": "6f660aef",
   "metadata": {},
   "outputs": [],
   "source": [
    "X, y = Sn[['pmi_cat', 'pmi_an']], Sn.stars.values"
   ]
  },
  {
   "cell_type": "code",
   "execution_count": 51,
   "id": "40d48b48",
   "metadata": {},
   "outputs": [
    {
     "data": {
      "image/png": "[encoded data removed]",
      "text/plain": [
       "<Figure size 864x288 with 2 Axes>"
      ]
     },
     "metadata": {
      "needs_background": "light"
     },
     "output_type": "display_data"
    }
   ],
   "source": [
    "fig, ax = plt.subplots(figsize=(12, 4), ncols=2)\n",
    "ax[0].scatter(y, X.pmi_cat.values, alpha=.4)\n",
    "ax[1].scatter(y, X.pmi_an.values, alpha=.4)\n",
    "plt.tight_layout()\n",
    "plt.show()"
   ]
  },
  {
   "cell_type": "code",
   "execution_count": 52,
   "id": "0c6cad7b",
   "metadata": {},
   "outputs": [],
   "source": [
    "X_train, X_test, y_train, y_test = train_test_split(X, y, test_size=0.2, random_state=42)"
   ]
  },
  {
   "cell_type": "code",
   "execution_count": 53,
   "id": "ce226a18",
   "metadata": {},
   "outputs": [
    {
     "data": {
      "text/html": [
       "<div>\n",
       "<style scoped>\n",
       "    .dataframe tbody tr th:only-of-type {\n",
       "        vertical-align: middle;\n",
       "    }\n",
       "\n",
       "    .dataframe tbody tr th {\n",
       "        vertical-align: top;\n",
       "    }\n",
       "\n",
       "    .dataframe thead th {\n",
       "        text-align: right;\n",
       "    }\n",
       "</style>\n",
       "<table border=\"1\" class=\"dataframe\">\n",
       "  <thead>\n",
       "    <tr style=\"text-align: right;\">\n",
       "      <th></th>\n",
       "      <th>pmi_cat</th>\n",
       "      <th>pmi_an</th>\n",
       "    </tr>\n",
       "  </thead>\n",
       "  <tbody>\n",
       "    <tr>\n",
       "      <th>81087</th>\n",
       "      <td>2.698979</td>\n",
       "      <td>1.807765</td>\n",
       "    </tr>\n",
       "    <tr>\n",
       "      <th>10450</th>\n",
       "      <td>0.016897</td>\n",
       "      <td>1.926909</td>\n",
       "    </tr>\n",
       "    <tr>\n",
       "      <th>22822</th>\n",
       "      <td>-0.033994</td>\n",
       "      <td>2.851711</td>\n",
       "    </tr>\n",
       "    <tr>\n",
       "      <th>92176</th>\n",
       "      <td>0.186733</td>\n",
       "      <td>2.109835</td>\n",
       "    </tr>\n",
       "    <tr>\n",
       "      <th>3507</th>\n",
       "      <td>0.021118</td>\n",
       "      <td>0.164703</td>\n",
       "    </tr>\n",
       "  </tbody>\n",
       "</table>\n",
       "</div>"
      ],
      "text/plain": [
       "        pmi_cat    pmi_an\n",
       "81087  2.698979  1.807765\n",
       "10450  0.016897  1.926909\n",
       "22822 -0.033994  2.851711\n",
       "92176  0.186733  2.109835\n",
       "3507   0.021118  0.164703"
      ]
     },
     "execution_count": 53,
     "metadata": {},
     "output_type": "execute_result"
    }
   ],
   "source": [
    "X_train.head()"
   ]
  },
  {
   "cell_type": "markdown",
   "id": "314de9c0",
   "metadata": {},
   "source": [
    "### Regression"
   ]
  },
  {
   "cell_type": "code",
   "execution_count": 54,
   "id": "351385f6",
   "metadata": {},
   "outputs": [],
   "source": [
    "from sklearn.linear_model import LinearRegression\n",
    "from sklearn.preprocessing import MinMaxScaler\n",
    "from sklearn.metrics import mean_squared_error"
   ]
  },
  {
   "cell_type": "code",
   "execution_count": 55,
   "id": "86623e0c",
   "metadata": {},
   "outputs": [],
   "source": [
    "scaler = MinMaxScaler()"
   ]
  },
  {
   "cell_type": "code",
   "execution_count": 56,
   "id": "d39d06f1",
   "metadata": {},
   "outputs": [],
   "source": [
    "Xs_train = scaler.fit_transform(np.array(X_train))\n",
    "Xs_test = scaler.transform(np.array(X_test))"
   ]
  },
  {
   "cell_type": "code",
   "execution_count": 57,
   "id": "bc103fec",
   "metadata": {},
   "outputs": [],
   "source": [
    "reg = LinearRegression()\n",
    "reg = reg.fit(Xs_train, y_train)"
   ]
  },
  {
   "cell_type": "code",
   "execution_count": 58,
   "id": "fe9033e5",
   "metadata": {},
   "outputs": [],
   "source": [
    "train_prediction = reg.predict(Xs_train)\n",
    "test_prediction = reg.predict(Xs_test)"
   ]
  },
  {
   "cell_type": "code",
   "execution_count": 59,
   "id": "997cbb7b",
   "metadata": {},
   "outputs": [
    {
     "name": "stdout",
     "output_type": "stream",
     "text": [
      "1.7788131956210327\n",
      "1.834939131748545\n"
     ]
    }
   ],
   "source": [
    "print(mean_squared_error(y_train, train_prediction))\n",
    "print(mean_squared_error(y_test, test_prediction))"
   ]
  },
  {
   "cell_type": "markdown",
   "id": "e651e882",
   "metadata": {},
   "source": [
    "### Example"
   ]
  },
  {
   "cell_type": "code",
   "execution_count": 60,
   "id": "8f4e34b5",
   "metadata": {},
   "outputs": [
    {
     "name": "stdout",
     "output_type": "stream",
     "text": [
      "3.5714285714285716\n",
      "[3.79490392]\n"
     ]
    }
   ],
   "source": [
    "aspect = ('Restaurants', 'good', 'service')\n",
    "vector = scaler.transform(\n",
    "    np.array([[pmi_cat.loc[(aspect[0], aspect[2])].pmi, pmi_an.loc[(aspect[1], aspect[2])].pmi]]))\n",
    "print(S[(S.category == aspect[0]) & (S.adj == aspect[1]) & (S.noun == aspect[2])].stars.values.mean())\n",
    "print(reg.predict(vector))"
   ]
  },
  {
   "cell_type": "markdown",
   "id": "beb6a7e7",
   "metadata": {},
   "source": [
    "## Example 2: categorical approach\n",
    "We create some pseudo features composed by pairs `(category, noun)` and `(adj, noun)` and we use pmi as scores."
   ]
  },
  {
   "cell_type": "code",
   "execution_count": 61,
   "id": "e8e54992",
   "metadata": {},
   "outputs": [],
   "source": [
    "scaler = MinMaxScaler()\n",
    "scaled = scaler.fit_transform(Sn[['pmi_cat', 'pmi_an']].values)"
   ]
  },
  {
   "cell_type": "code",
   "execution_count": 62,
   "id": "237a2ae8",
   "metadata": {},
   "outputs": [],
   "source": [
    "features = list(pmi_an.index.values) + list(pmi_cat.index.values)"
   ]
  },
  {
   "cell_type": "code",
   "execution_count": 63,
   "id": "fd1d46d2",
   "metadata": {},
   "outputs": [],
   "source": [
    "X = np.zeros((Sn.shape[0], len(features)))\n",
    "categories, adjs, nouns = Sn.category.values, Sn.adj.values, Sn.noun.values\n",
    "for i, c in enumerate(categories):\n",
    "    a = adjs[i]\n",
    "    n = nouns[i]\n",
    "    X[i, features.index((c, n))] = scaled[i,0]\n",
    "    X[i, features.index((a, n))] = scaled[i,1]"
   ]
  },
  {
   "cell_type": "markdown",
   "id": "961c0e36",
   "metadata": {},
   "source": [
    "### Classifiers"
   ]
  },
  {
   "cell_type": "code",
   "execution_count": 64,
   "id": "b60f6a63",
   "metadata": {},
   "outputs": [],
   "source": [
    "from sklearn.model_selection import train_test_split\n",
    "from sklearn.metrics import classification_report"
   ]
  },
  {
   "cell_type": "code",
   "execution_count": 65,
   "id": "e8867e88",
   "metadata": {},
   "outputs": [],
   "source": [
    "y = Sn.stars.values\n",
    "X_train, X_test, y_train, y_test = train_test_split(X, y, test_size=.3)"
   ]
  },
  {
   "cell_type": "markdown",
   "id": "9f4953f1",
   "metadata": {},
   "source": [
    "### Decision Tree"
   ]
  },
  {
   "cell_type": "code",
   "execution_count": 73,
   "id": "aad46475",
   "metadata": {},
   "outputs": [],
   "source": [
    "from sklearn.tree import DecisionTreeClassifier"
   ]
  },
  {
   "cell_type": "code",
   "execution_count": 88,
   "id": "6255bb3d",
   "metadata": {},
   "outputs": [],
   "source": [
    "dc = DecisionTreeClassifier(max_leaf_nodes=3)\n",
    "dc.fit(X_train, y_train)\n",
    "dc_pred = dc.predict(X_test)"
   ]
  },
  {
   "cell_type": "code",
   "execution_count": 89,
   "id": "53398d90",
   "metadata": {},
   "outputs": [
    {
     "name": "stdout",
     "output_type": "stream",
     "text": [
      "              precision    recall  f1-score   support\n",
      "\n",
      "           1       0.67      0.04      0.08       914\n",
      "           2       0.00      0.00      0.00       786\n",
      "           3       0.00      0.00      0.00      1193\n",
      "           4       0.00      0.00      0.00      2311\n",
      "           5       0.39      1.00      0.56      3319\n",
      "\n",
      "    accuracy                           0.39      8523\n",
      "   macro avg       0.21      0.21      0.13      8523\n",
      "weighted avg       0.22      0.39      0.23      8523\n",
      "\n"
     ]
    }
   ],
   "source": [
    "print(classification_report(y_test, dc_pred, zero_division=0))"
   ]
  },
  {
   "cell_type": "markdown",
   "id": "64694a24",
   "metadata": {},
   "source": [
    "### Explanation (local)"
   ]
  },
  {
   "cell_type": "code",
   "execution_count": 97,
   "id": "38b10366",
   "metadata": {},
   "outputs": [],
   "source": [
    "def local_explanation(dc, sample_id, features, verbose=False):\n",
    "    n_nodes = dc.tree_.node_count\n",
    "    children_left = dc.tree_.children_left\n",
    "    children_right = dc.tree_.children_right\n",
    "    feature = dc.tree_.feature\n",
    "    threshold = dc.tree_.threshold\n",
    "    node_indicator = dc.decision_path(X_test)\n",
    "    leaf_id = dc.apply(X_test)\n",
    "    \n",
    "    relevant_features = []\n",
    "\n",
    "    # obtain ids of the nodes `sample_id` goes through, i.e., row `sample_id`\n",
    "    node_index = node_indicator.indices[\n",
    "        node_indicator.indptr[sample_id] : node_indicator.indptr[sample_id + 1]\n",
    "    ]\n",
    "\n",
    "    if verbose:\n",
    "        print(\"Rules used to predict sample {id}:\\n\".format(id=sample_id))\n",
    "    for node_id in node_index:\n",
    "        # continue to the next node if it is a leaf node\n",
    "        if leaf_id[sample_id] == node_id:\n",
    "            continue\n",
    "\n",
    "        # check if value of the split feature for sample 0 is below threshold\n",
    "        if X_test[sample_id, feature[node_id]] <= threshold[node_id]:\n",
    "            threshold_sign = \"<=\"\n",
    "        else:\n",
    "            threshold_sign = \">\"\n",
    "        \n",
    "        relevant_features.append(features[feature[node_id]])\n",
    "\n",
    "        if verbose:\n",
    "            print(\n",
    "                \"decision node {node} : (X_test[{sample}, {feature}] = {value}) \"\n",
    "                \"{inequality} {threshold})\".format(\n",
    "                    node=node_id,\n",
    "                    sample=sample_id,\n",
    "                    feature=features[feature[node_id]],\n",
    "                    value=X_test[sample_id, feature[node_id]],\n",
    "                    inequality=threshold_sign,\n",
    "                    threshold=threshold[node_id],\n",
    "                )\n",
    "        )\n",
    "    return relevant_features"
   ]
  },
  {
   "cell_type": "code",
   "execution_count": 98,
   "id": "fac347eb",
   "metadata": {},
   "outputs": [
    {
     "name": "stdout",
     "output_type": "stream",
     "text": [
      "Rules used to predict sample 0:\n",
      "\n",
      "decision node 0 : (X_test[0, ('bad', 'service')] = 0.0) <= 0.1615559160709381)\n",
      "decision node 1 : (X_test[0, ('horrible', 'service')] = 0.0) <= 0.21718505024909973)\n"
     ]
    }
   ],
   "source": [
    "relevant = local_explanation(dc, sample_id=0, features=features, verbose=True)"
   ]
  },
  {
   "cell_type": "code",
   "execution_count": 99,
   "id": "c721c5a3",
   "metadata": {},
   "outputs": [
    {
     "name": "stdout",
     "output_type": "stream",
     "text": [
      "[('bad', 'service'), ('horrible', 'service')]\n"
     ]
    }
   ],
   "source": [
    "print(relevant)"
   ]
  },
  {
   "cell_type": "markdown",
   "id": "e0370371",
   "metadata": {},
   "source": [
    "### Explanation (global)"
   ]
  },
  {
   "cell_type": "code",
   "execution_count": 102,
   "id": "8a59244b",
   "metadata": {},
   "outputs": [],
   "source": [
    "from collections import defaultdict"
   ]
  },
  {
   "cell_type": "code",
   "execution_count": 107,
   "id": "c0ca4c1d",
   "metadata": {},
   "outputs": [
    {
     "data": {
      "application/vnd.jupyter.widget-view+json": {
       "model_id": "68e61e45dbb44ee9bd847b99c6cf2eb2",
       "version_major": 2,
       "version_minor": 0
      },
      "text/plain": [
       "  0%|          | 0/100 [00:00<?, ?it/s]"
      ]
     },
     "metadata": {},
     "output_type": "display_data"
    }
   ],
   "source": [
    "global_e = defaultdict(lambda: defaultdict(lambda: 0))\n",
    "run = list(range(100))\n",
    "for i in tqdm(run):\n",
    "    predition = dc_pred[i]\n",
    "    rel = local_explanation(dc, sample_id=i, features=features, verbose=False)\n",
    "    for f in rel:\n",
    "        global_e[predition][f] += 1"
   ]
  },
  {
   "cell_type": "code",
   "execution_count": 109,
   "id": "14a8c38c",
   "metadata": {},
   "outputs": [
    {
     "data": {
      "text/html": [
       "<div>\n",
       "<style scoped>\n",
       "    .dataframe tbody tr th:only-of-type {\n",
       "        vertical-align: middle;\n",
       "    }\n",
       "\n",
       "    .dataframe tbody tr th {\n",
       "        vertical-align: top;\n",
       "    }\n",
       "\n",
       "    .dataframe thead th {\n",
       "        text-align: right;\n",
       "    }\n",
       "</style>\n",
       "<table border=\"1\" class=\"dataframe\">\n",
       "  <thead>\n",
       "    <tr style=\"text-align: right;\">\n",
       "      <th></th>\n",
       "      <th></th>\n",
       "      <th>5</th>\n",
       "      <th>1</th>\n",
       "    </tr>\n",
       "  </thead>\n",
       "  <tbody>\n",
       "    <tr>\n",
       "      <th>bad</th>\n",
       "      <th>service</th>\n",
       "      <td>99</td>\n",
       "      <td>1.0</td>\n",
       "    </tr>\n",
       "    <tr>\n",
       "      <th>horrible</th>\n",
       "      <th>service</th>\n",
       "      <td>99</td>\n",
       "      <td>NaN</td>\n",
       "    </tr>\n",
       "  </tbody>\n",
       "</table>\n",
       "</div>"
      ],
      "text/plain": [
       "                   5    1\n",
       "bad      service  99  1.0\n",
       "horrible service  99  NaN"
      ]
     },
     "execution_count": 109,
     "metadata": {},
     "output_type": "execute_result"
    }
   ],
   "source": [
    "G = pd.DataFrame(global_e)\n",
    "G.head()"
   ]
  },
  {
   "cell_type": "markdown",
   "id": "0ed812f1",
   "metadata": {},
   "source": [
    "### Born\n",
    "[https://eguidotti.github.io/bornrule/](https://eguidotti.github.io/bornrule/)"
   ]
  },
  {
   "cell_type": "code",
   "execution_count": 67,
   "id": "72e185e8",
   "metadata": {},
   "outputs": [],
   "source": [
    "from bornrule import BornClassifier"
   ]
  },
  {
   "cell_type": "code",
   "execution_count": 68,
   "id": "d84b41c8",
   "metadata": {},
   "outputs": [],
   "source": [
    "bc = BornClassifier()\n",
    "bc.fit(X_train, y_train)\n",
    "bc_pred = bc.predict(X_test)"
   ]
  },
  {
   "cell_type": "code",
   "execution_count": 69,
   "id": "8c0ec4ae",
   "metadata": {},
   "outputs": [
    {
     "name": "stdout",
     "output_type": "stream",
     "text": [
      "              precision    recall  f1-score   support\n",
      "\n",
      "           1       0.35      0.60      0.44       914\n",
      "           2       0.26      0.46      0.33       786\n",
      "           3       0.32      0.41      0.36      1193\n",
      "           4       0.49      0.34      0.40      2311\n",
      "           5       0.66      0.49      0.56      3319\n",
      "\n",
      "    accuracy                           0.45      8523\n",
      "   macro avg       0.42      0.46      0.42      8523\n",
      "weighted avg       0.50      0.45      0.46      8523\n",
      "\n"
     ]
    }
   ],
   "source": [
    "print(classification_report(y_test, bc_pred, zero_division=0))"
   ]
  },
  {
   "cell_type": "markdown",
   "id": "9bba5426",
   "metadata": {},
   "source": [
    "### Explanation"
   ]
  },
  {
   "cell_type": "code",
   "execution_count": 70,
   "id": "03f7297c",
   "metadata": {},
   "outputs": [],
   "source": [
    "E = pd.DataFrame(bc.explain(), index=features, columns=[str(x) for x in range(1, 6)])"
   ]
  },
  {
   "cell_type": "code",
   "execution_count": 72,
   "id": "29927a80",
   "metadata": {},
   "outputs": [
    {
     "data": {
      "text/html": [
       "<div>\n",
       "<style scoped>\n",
       "    .dataframe tbody tr th:only-of-type {\n",
       "        vertical-align: middle;\n",
       "    }\n",
       "\n",
       "    .dataframe tbody tr th {\n",
       "        vertical-align: top;\n",
       "    }\n",
       "\n",
       "    .dataframe thead th {\n",
       "        text-align: right;\n",
       "    }\n",
       "</style>\n",
       "<table border=\"1\" class=\"dataframe\">\n",
       "  <thead>\n",
       "    <tr style=\"text-align: right;\">\n",
       "      <th></th>\n",
       "      <th>1</th>\n",
       "      <th>2</th>\n",
       "      <th>3</th>\n",
       "      <th>4</th>\n",
       "      <th>5</th>\n",
       "    </tr>\n",
       "  </thead>\n",
       "  <tbody>\n",
       "    <tr>\n",
       "      <th>(bad, service)</th>\n",
       "      <td>0.075266</td>\n",
       "      <td>0.045617</td>\n",
       "      <td>0.000000</td>\n",
       "      <td>0.008958</td>\n",
       "      <td>0.005224</td>\n",
       "    </tr>\n",
       "    <tr>\n",
       "      <th>(poor, service)</th>\n",
       "      <td>0.067178</td>\n",
       "      <td>0.017115</td>\n",
       "      <td>0.000000</td>\n",
       "      <td>0.000000</td>\n",
       "      <td>0.000000</td>\n",
       "    </tr>\n",
       "    <tr>\n",
       "      <th>(horrible, service)</th>\n",
       "      <td>0.065467</td>\n",
       "      <td>0.040893</td>\n",
       "      <td>0.016958</td>\n",
       "      <td>0.000000</td>\n",
       "      <td>0.000000</td>\n",
       "    </tr>\n",
       "    <tr>\n",
       "      <th>(similar, experience)</th>\n",
       "      <td>0.059932</td>\n",
       "      <td>0.000000</td>\n",
       "      <td>0.000000</td>\n",
       "      <td>0.000000</td>\n",
       "      <td>0.000000</td>\n",
       "    </tr>\n",
       "    <tr>\n",
       "      <th>(horrible, experience)</th>\n",
       "      <td>0.058187</td>\n",
       "      <td>0.020238</td>\n",
       "      <td>0.000000</td>\n",
       "      <td>0.000000</td>\n",
       "      <td>0.000000</td>\n",
       "    </tr>\n",
       "    <tr>\n",
       "      <th>(awful, service)</th>\n",
       "      <td>0.056210</td>\n",
       "      <td>0.000000</td>\n",
       "      <td>0.000000</td>\n",
       "      <td>0.000000</td>\n",
       "      <td>0.000000</td>\n",
       "    </tr>\n",
       "    <tr>\n",
       "      <th>(terrible, experience)</th>\n",
       "      <td>0.056077</td>\n",
       "      <td>0.000000</td>\n",
       "      <td>0.013308</td>\n",
       "      <td>0.000000</td>\n",
       "      <td>0.000000</td>\n",
       "    </tr>\n",
       "    <tr>\n",
       "      <th>(terrible, service)</th>\n",
       "      <td>0.055552</td>\n",
       "      <td>0.033062</td>\n",
       "      <td>0.000000</td>\n",
       "      <td>0.011820</td>\n",
       "      <td>0.008484</td>\n",
       "    </tr>\n",
       "    <tr>\n",
       "      <th>(rude, server)</th>\n",
       "      <td>0.055229</td>\n",
       "      <td>0.000000</td>\n",
       "      <td>0.000000</td>\n",
       "      <td>0.000000</td>\n",
       "      <td>0.000000</td>\n",
       "    </tr>\n",
       "    <tr>\n",
       "      <th>(cold, food)</th>\n",
       "      <td>0.050539</td>\n",
       "      <td>0.018417</td>\n",
       "      <td>0.008574</td>\n",
       "      <td>0.012776</td>\n",
       "      <td>0.000000</td>\n",
       "    </tr>\n",
       "  </tbody>\n",
       "</table>\n",
       "</div>"
      ],
      "text/plain": [
       "                               1         2         3         4         5\n",
       "(bad, service)          0.075266  0.045617  0.000000  0.008958  0.005224\n",
       "(poor, service)         0.067178  0.017115  0.000000  0.000000  0.000000\n",
       "(horrible, service)     0.065467  0.040893  0.016958  0.000000  0.000000\n",
       "(similar, experience)   0.059932  0.000000  0.000000  0.000000  0.000000\n",
       "(horrible, experience)  0.058187  0.020238  0.000000  0.000000  0.000000\n",
       "(awful, service)        0.056210  0.000000  0.000000  0.000000  0.000000\n",
       "(terrible, experience)  0.056077  0.000000  0.013308  0.000000  0.000000\n",
       "(terrible, service)     0.055552  0.033062  0.000000  0.011820  0.008484\n",
       "(rude, server)          0.055229  0.000000  0.000000  0.000000  0.000000\n",
       "(cold, food)            0.050539  0.018417  0.008574  0.012776  0.000000"
      ]
     },
     "execution_count": 72,
     "metadata": {},
     "output_type": "execute_result"
    }
   ],
   "source": [
    "E.sort_values('1', ascending=False).head(10)"
   ]
  },
  {
   "cell_type": "code",
   "execution_count": 82,
   "id": "ed177d77",
   "metadata": {},
   "outputs": [],
   "source": [
    "E_local = pd.DataFrame(bc.explain(X[0].reshape(1, -1)), index=features, columns=[str(x) for x in range(1, 6)])"
   ]
  },
  {
   "cell_type": "code",
   "execution_count": 85,
   "id": "07d9f5f4",
   "metadata": {},
   "outputs": [
    {
     "data": {
      "text/html": [
       "<div>\n",
       "<style scoped>\n",
       "    .dataframe tbody tr th:only-of-type {\n",
       "        vertical-align: middle;\n",
       "    }\n",
       "\n",
       "    .dataframe tbody tr th {\n",
       "        vertical-align: top;\n",
       "    }\n",
       "\n",
       "    .dataframe thead th {\n",
       "        text-align: right;\n",
       "    }\n",
       "</style>\n",
       "<table border=\"1\" class=\"dataframe\">\n",
       "  <thead>\n",
       "    <tr style=\"text-align: right;\">\n",
       "      <th></th>\n",
       "      <th>1</th>\n",
       "      <th>2</th>\n",
       "      <th>3</th>\n",
       "      <th>4</th>\n",
       "      <th>5</th>\n",
       "    </tr>\n",
       "  </thead>\n",
       "  <tbody>\n",
       "    <tr>\n",
       "      <th>(great, salad)</th>\n",
       "      <td>0.0</td>\n",
       "      <td>0.0</td>\n",
       "      <td>0.0</td>\n",
       "      <td>0.00478</td>\n",
       "      <td>0.006155</td>\n",
       "    </tr>\n",
       "    <tr>\n",
       "      <th>(Mediterranean, staff)</th>\n",
       "      <td>0.0</td>\n",
       "      <td>0.0</td>\n",
       "      <td>0.0</td>\n",
       "      <td>0.00000</td>\n",
       "      <td>0.000000</td>\n",
       "    </tr>\n",
       "    <tr>\n",
       "      <th>(Mediterranean, salad)</th>\n",
       "      <td>0.0</td>\n",
       "      <td>0.0</td>\n",
       "      <td>0.0</td>\n",
       "      <td>0.00000</td>\n",
       "      <td>0.000000</td>\n",
       "    </tr>\n",
       "    <tr>\n",
       "      <th>(Mediterranean, sauce)</th>\n",
       "      <td>0.0</td>\n",
       "      <td>0.0</td>\n",
       "      <td>0.0</td>\n",
       "      <td>0.00000</td>\n",
       "      <td>0.000000</td>\n",
       "    </tr>\n",
       "    <tr>\n",
       "      <th>(Mediterranean, selection)</th>\n",
       "      <td>0.0</td>\n",
       "      <td>0.0</td>\n",
       "      <td>0.0</td>\n",
       "      <td>0.00000</td>\n",
       "      <td>0.000000</td>\n",
       "    </tr>\n",
       "    <tr>\n",
       "      <th>(Mediterranean, service)</th>\n",
       "      <td>0.0</td>\n",
       "      <td>0.0</td>\n",
       "      <td>0.0</td>\n",
       "      <td>0.00000</td>\n",
       "      <td>0.000000</td>\n",
       "    </tr>\n",
       "    <tr>\n",
       "      <th>(Mediterranean, space)</th>\n",
       "      <td>0.0</td>\n",
       "      <td>0.0</td>\n",
       "      <td>0.0</td>\n",
       "      <td>0.00000</td>\n",
       "      <td>0.000000</td>\n",
       "    </tr>\n",
       "    <tr>\n",
       "      <th>(Mediterranean, spot)</th>\n",
       "      <td>0.0</td>\n",
       "      <td>0.0</td>\n",
       "      <td>0.0</td>\n",
       "      <td>0.00000</td>\n",
       "      <td>0.000000</td>\n",
       "    </tr>\n",
       "    <tr>\n",
       "      <th>(-, food)</th>\n",
       "      <td>0.0</td>\n",
       "      <td>0.0</td>\n",
       "      <td>0.0</td>\n",
       "      <td>0.00000</td>\n",
       "      <td>0.000000</td>\n",
       "    </tr>\n",
       "    <tr>\n",
       "      <th>(Mediterranean, rice)</th>\n",
       "      <td>0.0</td>\n",
       "      <td>0.0</td>\n",
       "      <td>0.0</td>\n",
       "      <td>0.00000</td>\n",
       "      <td>0.000000</td>\n",
       "    </tr>\n",
       "  </tbody>\n",
       "</table>\n",
       "</div>"
      ],
      "text/plain": [
       "                              1    2    3        4         5\n",
       "(great, salad)              0.0  0.0  0.0  0.00478  0.006155\n",
       "(Mediterranean, staff)      0.0  0.0  0.0  0.00000  0.000000\n",
       "(Mediterranean, salad)      0.0  0.0  0.0  0.00000  0.000000\n",
       "(Mediterranean, sauce)      0.0  0.0  0.0  0.00000  0.000000\n",
       "(Mediterranean, selection)  0.0  0.0  0.0  0.00000  0.000000\n",
       "(Mediterranean, service)    0.0  0.0  0.0  0.00000  0.000000\n",
       "(Mediterranean, space)      0.0  0.0  0.0  0.00000  0.000000\n",
       "(Mediterranean, spot)       0.0  0.0  0.0  0.00000  0.000000\n",
       "(-, food)                   0.0  0.0  0.0  0.00000  0.000000\n",
       "(Mediterranean, rice)       0.0  0.0  0.0  0.00000  0.000000"
      ]
     },
     "execution_count": 85,
     "metadata": {},
     "output_type": "execute_result"
    }
   ],
   "source": [
    "E_local.sort_values('5', ascending=False).head(10)"
   ]
  },
  {
   "cell_type": "code",
   "execution_count": null,
   "id": "31c685fa",
   "metadata": {},
   "outputs": [],
   "source": []
  }
 ],
 "metadata": {
  "kernelspec": {
   "display_name": "Python 3 (ipykernel)",
   "language": "python",
   "name": "python3"
  },
  "language_info": {
   "codemirror_mode": {
    "name": "ipython",
    "version": 3
   },
   "file_extension": ".py",
   "mimetype": "text/x-python",
   "name": "python",
   "nbconvert_exporter": "python",
   "pygments_lexer": "ipython3",
   "version": "3.8.8"
  },
  "toc": {
   "base_numbering": 1,
   "nav_menu": {},
   "number_sections": true,
   "sideBar": true,
   "skip_h1_title": false,
   "title_cell": "Table of Contents",
   "title_sidebar": "Contents",
   "toc_cell": false,
   "toc_position": {},
   "toc_section_display": true,
   "toc_window_display": false
  }
 },
 "nbformat": 4,
 "nbformat_minor": 5
}

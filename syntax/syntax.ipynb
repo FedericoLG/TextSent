{
 "cells": [
  {
   "cell_type": "markdown",
   "id": "ade0a029",
   "metadata": {},
   "source": [
    "# Explore syntax parsing for detection of opinion holders and targets"
   ]
  },
  {
   "cell_type": "code",
   "execution_count": 1,
   "id": "07857c9c",
   "metadata": {},
   "outputs": [],
   "source": [
    "import pandas as pd\n",
    "import numpy as np\n",
    "from tqdm.notebook import tqdm"
   ]
  },
  {
   "cell_type": "code",
   "execution_count": 2,
   "id": "fc56bc4b",
   "metadata": {},
   "outputs": [],
   "source": [
    "import spacy\n",
    "nlp = spacy.load('en_core_web_lg')"
   ]
  },
  {
   "cell_type": "code",
   "execution_count": 3,
   "id": "2975c18b",
   "metadata": {},
   "outputs": [],
   "source": [
    "import json"
   ]
  },
  {
   "cell_type": "code",
   "execution_count": 4,
   "id": "219ec662",
   "metadata": {},
   "outputs": [],
   "source": [
    "review_data_file = '../lexicon/data/yelp_sample.json'\n",
    "with open(review_data_file, 'r') as infile:\n",
    "    R = json.load(infile)"
   ]
  },
  {
   "cell_type": "code",
   "execution_count": 5,
   "id": "5d1690a9",
   "metadata": {},
   "outputs": [],
   "source": [
    "def spacy_sentences(nlp, text):\n",
    "    sentences = []\n",
    "    for sent in nlp(text).sents:\n",
    "        sentences.append(sent)\n",
    "    return sentences"
   ]
  },
  {
   "cell_type": "code",
   "execution_count": 6,
   "id": "4584bfd0",
   "metadata": {},
   "outputs": [
    {
     "data": {
      "text/plain": [
       "{'content': \"Red, white and bleu salad was super yum and a great addition to the menu! This location was clean with great service and food served at just the right temps! Kids pizza is always a hit too with lots of great side dish options for the kiddos! When I'm on this side of town, this will definitely be a spot I'll hit up again!\",\n",
       " 'date': '2014-02-17',\n",
       " 'stars': 4,\n",
       " 'useful': 1,\n",
       " 'funny': 0,\n",
       " 'cool': 0,\n",
       " 'business': 'Ue6-WhXvI-_1xUIuapl0zQ',\n",
       " 'id': '----X0BIDP9tA49U3RvdSQ',\n",
       " 'categories': ['American (Traditional)', 'Burgers', 'Restaurants']}"
      ]
     },
     "execution_count": 6,
     "metadata": {},
     "output_type": "execute_result"
    }
   ],
   "source": [
    "R[0]"
   ]
  },
  {
   "cell_type": "code",
   "execution_count": 7,
   "id": "c1ba58a0",
   "metadata": {},
   "outputs": [],
   "source": [
    "sample = spacy_sentences(nlp, R[0]['content'])"
   ]
  },
  {
   "cell_type": "code",
   "execution_count": 8,
   "id": "38b603de",
   "metadata": {},
   "outputs": [
    {
     "data": {
      "text/plain": [
       "[Red, white and bleu salad was super yum and a great addition to the menu!,\n",
       " This location was clean with great service and food served at just the right temps!,\n",
       " Kids pizza is always a hit too with lots of great side dish options for the kiddos!,\n",
       " When I'm on this side of town, this will definitely be a spot I'll hit up again!]"
      ]
     },
     "execution_count": 8,
     "metadata": {},
     "output_type": "execute_result"
    }
   ],
   "source": [
    "sample"
   ]
  },
  {
   "cell_type": "code",
   "execution_count": 9,
   "id": "7ee812e1",
   "metadata": {},
   "outputs": [
    {
     "data": {
      "text/plain": [
       "spacy.tokens.span.Span"
      ]
     },
     "execution_count": 9,
     "metadata": {},
     "output_type": "execute_result"
    }
   ],
   "source": [
    "type(sample[0])"
   ]
  },
  {
   "cell_type": "markdown",
   "id": "acc25e2f",
   "metadata": {},
   "source": [
    "## Build a graph of the sentences"
   ]
  },
  {
   "cell_type": "code",
   "execution_count": 10,
   "id": "e8a26a7b",
   "metadata": {},
   "outputs": [],
   "source": [
    "import networkx as nx\n",
    "from spacy.displacy import render"
   ]
  },
  {
   "cell_type": "code",
   "execution_count": 11,
   "id": "ddc89dd0",
   "metadata": {},
   "outputs": [],
   "source": [
    "test = sample[0]"
   ]
  },
  {
   "cell_type": "code",
   "execution_count": 12,
   "id": "8954c7e1",
   "metadata": {},
   "outputs": [
    {
     "data": {
      "text/html": [
       "<span class=\"tex2jax_ignore\"><svg xmlns=\"http://www.w3.org/2000/svg\" xmlns:xlink=\"http://www.w3.org/1999/xlink\" xml:lang=\"en\" id=\"0a43fcbab7164c648939fe8a5df27678-0\" class=\"displacy\" width=\"2675\" height=\"399.5\" direction=\"ltr\" style=\"max-width: none; height: 399.5px; color: #000000; background: #ffffff; font-family: Arial; direction: ltr\">\n",
       "<text class=\"displacy-token\" fill=\"currentColor\" text-anchor=\"middle\" y=\"309.5\">\n",
       "    <tspan class=\"displacy-word\" fill=\"currentColor\" x=\"50\">Red,</tspan>\n",
       "    <tspan class=\"displacy-tag\" dy=\"2em\" fill=\"currentColor\" x=\"50\">ADJ</tspan>\n",
       "</text>\n",
       "\n",
       "<text class=\"displacy-token\" fill=\"currentColor\" text-anchor=\"middle\" y=\"309.5\">\n",
       "    <tspan class=\"displacy-word\" fill=\"currentColor\" x=\"225\">white</tspan>\n",
       "    <tspan class=\"displacy-tag\" dy=\"2em\" fill=\"currentColor\" x=\"225\">ADJ</tspan>\n",
       "</text>\n",
       "\n",
       "<text class=\"displacy-token\" fill=\"currentColor\" text-anchor=\"middle\" y=\"309.5\">\n",
       "    <tspan class=\"displacy-word\" fill=\"currentColor\" x=\"400\">and</tspan>\n",
       "    <tspan class=\"displacy-tag\" dy=\"2em\" fill=\"currentColor\" x=\"400\">CCONJ</tspan>\n",
       "</text>\n",
       "\n",
       "<text class=\"displacy-token\" fill=\"currentColor\" text-anchor=\"middle\" y=\"309.5\">\n",
       "    <tspan class=\"displacy-word\" fill=\"currentColor\" x=\"575\">bleu</tspan>\n",
       "    <tspan class=\"displacy-tag\" dy=\"2em\" fill=\"currentColor\" x=\"575\">PROPN</tspan>\n",
       "</text>\n",
       "\n",
       "<text class=\"displacy-token\" fill=\"currentColor\" text-anchor=\"middle\" y=\"309.5\">\n",
       "    <tspan class=\"displacy-word\" fill=\"currentColor\" x=\"750\">salad</tspan>\n",
       "    <tspan class=\"displacy-tag\" dy=\"2em\" fill=\"currentColor\" x=\"750\">NOUN</tspan>\n",
       "</text>\n",
       "\n",
       "<text class=\"displacy-token\" fill=\"currentColor\" text-anchor=\"middle\" y=\"309.5\">\n",
       "    <tspan class=\"displacy-word\" fill=\"currentColor\" x=\"925\">was</tspan>\n",
       "    <tspan class=\"displacy-tag\" dy=\"2em\" fill=\"currentColor\" x=\"925\">AUX</tspan>\n",
       "</text>\n",
       "\n",
       "<text class=\"displacy-token\" fill=\"currentColor\" text-anchor=\"middle\" y=\"309.5\">\n",
       "    <tspan class=\"displacy-word\" fill=\"currentColor\" x=\"1100\">super</tspan>\n",
       "    <tspan class=\"displacy-tag\" dy=\"2em\" fill=\"currentColor\" x=\"1100\">ADJ</tspan>\n",
       "</text>\n",
       "\n",
       "<text class=\"displacy-token\" fill=\"currentColor\" text-anchor=\"middle\" y=\"309.5\">\n",
       "    <tspan class=\"displacy-word\" fill=\"currentColor\" x=\"1275\">yum</tspan>\n",
       "    <tspan class=\"displacy-tag\" dy=\"2em\" fill=\"currentColor\" x=\"1275\">NOUN</tspan>\n",
       "</text>\n",
       "\n",
       "<text class=\"displacy-token\" fill=\"currentColor\" text-anchor=\"middle\" y=\"309.5\">\n",
       "    <tspan class=\"displacy-word\" fill=\"currentColor\" x=\"1450\">and</tspan>\n",
       "    <tspan class=\"displacy-tag\" dy=\"2em\" fill=\"currentColor\" x=\"1450\">CCONJ</tspan>\n",
       "</text>\n",
       "\n",
       "<text class=\"displacy-token\" fill=\"currentColor\" text-anchor=\"middle\" y=\"309.5\">\n",
       "    <tspan class=\"displacy-word\" fill=\"currentColor\" x=\"1625\">a</tspan>\n",
       "    <tspan class=\"displacy-tag\" dy=\"2em\" fill=\"currentColor\" x=\"1625\">DET</tspan>\n",
       "</text>\n",
       "\n",
       "<text class=\"displacy-token\" fill=\"currentColor\" text-anchor=\"middle\" y=\"309.5\">\n",
       "    <tspan class=\"displacy-word\" fill=\"currentColor\" x=\"1800\">great</tspan>\n",
       "    <tspan class=\"displacy-tag\" dy=\"2em\" fill=\"currentColor\" x=\"1800\">ADJ</tspan>\n",
       "</text>\n",
       "\n",
       "<text class=\"displacy-token\" fill=\"currentColor\" text-anchor=\"middle\" y=\"309.5\">\n",
       "    <tspan class=\"displacy-word\" fill=\"currentColor\" x=\"1975\">addition</tspan>\n",
       "    <tspan class=\"displacy-tag\" dy=\"2em\" fill=\"currentColor\" x=\"1975\">NOUN</tspan>\n",
       "</text>\n",
       "\n",
       "<text class=\"displacy-token\" fill=\"currentColor\" text-anchor=\"middle\" y=\"309.5\">\n",
       "    <tspan class=\"displacy-word\" fill=\"currentColor\" x=\"2150\">to</tspan>\n",
       "    <tspan class=\"displacy-tag\" dy=\"2em\" fill=\"currentColor\" x=\"2150\">ADP</tspan>\n",
       "</text>\n",
       "\n",
       "<text class=\"displacy-token\" fill=\"currentColor\" text-anchor=\"middle\" y=\"309.5\">\n",
       "    <tspan class=\"displacy-word\" fill=\"currentColor\" x=\"2325\">the</tspan>\n",
       "    <tspan class=\"displacy-tag\" dy=\"2em\" fill=\"currentColor\" x=\"2325\">DET</tspan>\n",
       "</text>\n",
       "\n",
       "<text class=\"displacy-token\" fill=\"currentColor\" text-anchor=\"middle\" y=\"309.5\">\n",
       "    <tspan class=\"displacy-word\" fill=\"currentColor\" x=\"2500\">menu!</tspan>\n",
       "    <tspan class=\"displacy-tag\" dy=\"2em\" fill=\"currentColor\" x=\"2500\">NOUN</tspan>\n",
       "</text>\n",
       "\n",
       "<g class=\"displacy-arrow\">\n",
       "    <path class=\"displacy-arc\" id=\"arrow-0a43fcbab7164c648939fe8a5df27678-0-0\" stroke-width=\"2px\" d=\"M70,264.5 C70,2.0 750.0,2.0 750.0,264.5\" fill=\"none\" stroke=\"currentColor\"/>\n",
       "    <text dy=\"1.25em\" style=\"font-size: 0.8em; letter-spacing: 1px\">\n",
       "        <textPath xlink:href=\"#arrow-0a43fcbab7164c648939fe8a5df27678-0-0\" class=\"displacy-label\" startOffset=\"50%\" side=\"left\" fill=\"currentColor\" text-anchor=\"middle\">amod</textPath>\n",
       "    </text>\n",
       "    <path class=\"displacy-arrowhead\" d=\"M70,266.5 L62,254.5 78,254.5\" fill=\"currentColor\"/>\n",
       "</g>\n",
       "\n",
       "<g class=\"displacy-arrow\">\n",
       "    <path class=\"displacy-arc\" id=\"arrow-0a43fcbab7164c648939fe8a5df27678-0-1\" stroke-width=\"2px\" d=\"M70,264.5 C70,177.0 215.0,177.0 215.0,264.5\" fill=\"none\" stroke=\"currentColor\"/>\n",
       "    <text dy=\"1.25em\" style=\"font-size: 0.8em; letter-spacing: 1px\">\n",
       "        <textPath xlink:href=\"#arrow-0a43fcbab7164c648939fe8a5df27678-0-1\" class=\"displacy-label\" startOffset=\"50%\" side=\"left\" fill=\"currentColor\" text-anchor=\"middle\">conj</textPath>\n",
       "    </text>\n",
       "    <path class=\"displacy-arrowhead\" d=\"M215.0,266.5 L223.0,254.5 207.0,254.5\" fill=\"currentColor\"/>\n",
       "</g>\n",
       "\n",
       "<g class=\"displacy-arrow\">\n",
       "    <path class=\"displacy-arc\" id=\"arrow-0a43fcbab7164c648939fe8a5df27678-0-2\" stroke-width=\"2px\" d=\"M245,264.5 C245,177.0 390.0,177.0 390.0,264.5\" fill=\"none\" stroke=\"currentColor\"/>\n",
       "    <text dy=\"1.25em\" style=\"font-size: 0.8em; letter-spacing: 1px\">\n",
       "        <textPath xlink:href=\"#arrow-0a43fcbab7164c648939fe8a5df27678-0-2\" class=\"displacy-label\" startOffset=\"50%\" side=\"left\" fill=\"currentColor\" text-anchor=\"middle\">cc</textPath>\n",
       "    </text>\n",
       "    <path class=\"displacy-arrowhead\" d=\"M390.0,266.5 L398.0,254.5 382.0,254.5\" fill=\"currentColor\"/>\n",
       "</g>\n",
       "\n",
       "<g class=\"displacy-arrow\">\n",
       "    <path class=\"displacy-arc\" id=\"arrow-0a43fcbab7164c648939fe8a5df27678-0-3\" stroke-width=\"2px\" d=\"M245,264.5 C245,89.5 570.0,89.5 570.0,264.5\" fill=\"none\" stroke=\"currentColor\"/>\n",
       "    <text dy=\"1.25em\" style=\"font-size: 0.8em; letter-spacing: 1px\">\n",
       "        <textPath xlink:href=\"#arrow-0a43fcbab7164c648939fe8a5df27678-0-3\" class=\"displacy-label\" startOffset=\"50%\" side=\"left\" fill=\"currentColor\" text-anchor=\"middle\">conj</textPath>\n",
       "    </text>\n",
       "    <path class=\"displacy-arrowhead\" d=\"M570.0,266.5 L578.0,254.5 562.0,254.5\" fill=\"currentColor\"/>\n",
       "</g>\n",
       "\n",
       "<g class=\"displacy-arrow\">\n",
       "    <path class=\"displacy-arc\" id=\"arrow-0a43fcbab7164c648939fe8a5df27678-0-4\" stroke-width=\"2px\" d=\"M770,264.5 C770,177.0 915.0,177.0 915.0,264.5\" fill=\"none\" stroke=\"currentColor\"/>\n",
       "    <text dy=\"1.25em\" style=\"font-size: 0.8em; letter-spacing: 1px\">\n",
       "        <textPath xlink:href=\"#arrow-0a43fcbab7164c648939fe8a5df27678-0-4\" class=\"displacy-label\" startOffset=\"50%\" side=\"left\" fill=\"currentColor\" text-anchor=\"middle\">nsubj</textPath>\n",
       "    </text>\n",
       "    <path class=\"displacy-arrowhead\" d=\"M770,266.5 L762,254.5 778,254.5\" fill=\"currentColor\"/>\n",
       "</g>\n",
       "\n",
       "<g class=\"displacy-arrow\">\n",
       "    <path class=\"displacy-arc\" id=\"arrow-0a43fcbab7164c648939fe8a5df27678-0-5\" stroke-width=\"2px\" d=\"M1120,264.5 C1120,177.0 1265.0,177.0 1265.0,264.5\" fill=\"none\" stroke=\"currentColor\"/>\n",
       "    <text dy=\"1.25em\" style=\"font-size: 0.8em; letter-spacing: 1px\">\n",
       "        <textPath xlink:href=\"#arrow-0a43fcbab7164c648939fe8a5df27678-0-5\" class=\"displacy-label\" startOffset=\"50%\" side=\"left\" fill=\"currentColor\" text-anchor=\"middle\">amod</textPath>\n",
       "    </text>\n",
       "    <path class=\"displacy-arrowhead\" d=\"M1120,266.5 L1112,254.5 1128,254.5\" fill=\"currentColor\"/>\n",
       "</g>\n",
       "\n",
       "<g class=\"displacy-arrow\">\n",
       "    <path class=\"displacy-arc\" id=\"arrow-0a43fcbab7164c648939fe8a5df27678-0-6\" stroke-width=\"2px\" d=\"M945,264.5 C945,89.5 1270.0,89.5 1270.0,264.5\" fill=\"none\" stroke=\"currentColor\"/>\n",
       "    <text dy=\"1.25em\" style=\"font-size: 0.8em; letter-spacing: 1px\">\n",
       "        <textPath xlink:href=\"#arrow-0a43fcbab7164c648939fe8a5df27678-0-6\" class=\"displacy-label\" startOffset=\"50%\" side=\"left\" fill=\"currentColor\" text-anchor=\"middle\">attr</textPath>\n",
       "    </text>\n",
       "    <path class=\"displacy-arrowhead\" d=\"M1270.0,266.5 L1278.0,254.5 1262.0,254.5\" fill=\"currentColor\"/>\n",
       "</g>\n",
       "\n",
       "<g class=\"displacy-arrow\">\n",
       "    <path class=\"displacy-arc\" id=\"arrow-0a43fcbab7164c648939fe8a5df27678-0-7\" stroke-width=\"2px\" d=\"M1295,264.5 C1295,177.0 1440.0,177.0 1440.0,264.5\" fill=\"none\" stroke=\"currentColor\"/>\n",
       "    <text dy=\"1.25em\" style=\"font-size: 0.8em; letter-spacing: 1px\">\n",
       "        <textPath xlink:href=\"#arrow-0a43fcbab7164c648939fe8a5df27678-0-7\" class=\"displacy-label\" startOffset=\"50%\" side=\"left\" fill=\"currentColor\" text-anchor=\"middle\">cc</textPath>\n",
       "    </text>\n",
       "    <path class=\"displacy-arrowhead\" d=\"M1440.0,266.5 L1448.0,254.5 1432.0,254.5\" fill=\"currentColor\"/>\n",
       "</g>\n",
       "\n",
       "<g class=\"displacy-arrow\">\n",
       "    <path class=\"displacy-arc\" id=\"arrow-0a43fcbab7164c648939fe8a5df27678-0-8\" stroke-width=\"2px\" d=\"M1645,264.5 C1645,89.5 1970.0,89.5 1970.0,264.5\" fill=\"none\" stroke=\"currentColor\"/>\n",
       "    <text dy=\"1.25em\" style=\"font-size: 0.8em; letter-spacing: 1px\">\n",
       "        <textPath xlink:href=\"#arrow-0a43fcbab7164c648939fe8a5df27678-0-8\" class=\"displacy-label\" startOffset=\"50%\" side=\"left\" fill=\"currentColor\" text-anchor=\"middle\">det</textPath>\n",
       "    </text>\n",
       "    <path class=\"displacy-arrowhead\" d=\"M1645,266.5 L1637,254.5 1653,254.5\" fill=\"currentColor\"/>\n",
       "</g>\n",
       "\n",
       "<g class=\"displacy-arrow\">\n",
       "    <path class=\"displacy-arc\" id=\"arrow-0a43fcbab7164c648939fe8a5df27678-0-9\" stroke-width=\"2px\" d=\"M1820,264.5 C1820,177.0 1965.0,177.0 1965.0,264.5\" fill=\"none\" stroke=\"currentColor\"/>\n",
       "    <text dy=\"1.25em\" style=\"font-size: 0.8em; letter-spacing: 1px\">\n",
       "        <textPath xlink:href=\"#arrow-0a43fcbab7164c648939fe8a5df27678-0-9\" class=\"displacy-label\" startOffset=\"50%\" side=\"left\" fill=\"currentColor\" text-anchor=\"middle\">amod</textPath>\n",
       "    </text>\n",
       "    <path class=\"displacy-arrowhead\" d=\"M1820,266.5 L1812,254.5 1828,254.5\" fill=\"currentColor\"/>\n",
       "</g>\n",
       "\n",
       "<g class=\"displacy-arrow\">\n",
       "    <path class=\"displacy-arc\" id=\"arrow-0a43fcbab7164c648939fe8a5df27678-0-10\" stroke-width=\"2px\" d=\"M1295,264.5 C1295,2.0 1975.0,2.0 1975.0,264.5\" fill=\"none\" stroke=\"currentColor\"/>\n",
       "    <text dy=\"1.25em\" style=\"font-size: 0.8em; letter-spacing: 1px\">\n",
       "        <textPath xlink:href=\"#arrow-0a43fcbab7164c648939fe8a5df27678-0-10\" class=\"displacy-label\" startOffset=\"50%\" side=\"left\" fill=\"currentColor\" text-anchor=\"middle\">conj</textPath>\n",
       "    </text>\n",
       "    <path class=\"displacy-arrowhead\" d=\"M1975.0,266.5 L1983.0,254.5 1967.0,254.5\" fill=\"currentColor\"/>\n",
       "</g>\n",
       "\n",
       "<g class=\"displacy-arrow\">\n",
       "    <path class=\"displacy-arc\" id=\"arrow-0a43fcbab7164c648939fe8a5df27678-0-11\" stroke-width=\"2px\" d=\"M1995,264.5 C1995,177.0 2140.0,177.0 2140.0,264.5\" fill=\"none\" stroke=\"currentColor\"/>\n",
       "    <text dy=\"1.25em\" style=\"font-size: 0.8em; letter-spacing: 1px\">\n",
       "        <textPath xlink:href=\"#arrow-0a43fcbab7164c648939fe8a5df27678-0-11\" class=\"displacy-label\" startOffset=\"50%\" side=\"left\" fill=\"currentColor\" text-anchor=\"middle\">prep</textPath>\n",
       "    </text>\n",
       "    <path class=\"displacy-arrowhead\" d=\"M2140.0,266.5 L2148.0,254.5 2132.0,254.5\" fill=\"currentColor\"/>\n",
       "</g>\n",
       "\n",
       "<g class=\"displacy-arrow\">\n",
       "    <path class=\"displacy-arc\" id=\"arrow-0a43fcbab7164c648939fe8a5df27678-0-12\" stroke-width=\"2px\" d=\"M2345,264.5 C2345,177.0 2490.0,177.0 2490.0,264.5\" fill=\"none\" stroke=\"currentColor\"/>\n",
       "    <text dy=\"1.25em\" style=\"font-size: 0.8em; letter-spacing: 1px\">\n",
       "        <textPath xlink:href=\"#arrow-0a43fcbab7164c648939fe8a5df27678-0-12\" class=\"displacy-label\" startOffset=\"50%\" side=\"left\" fill=\"currentColor\" text-anchor=\"middle\">det</textPath>\n",
       "    </text>\n",
       "    <path class=\"displacy-arrowhead\" d=\"M2345,266.5 L2337,254.5 2353,254.5\" fill=\"currentColor\"/>\n",
       "</g>\n",
       "\n",
       "<g class=\"displacy-arrow\">\n",
       "    <path class=\"displacy-arc\" id=\"arrow-0a43fcbab7164c648939fe8a5df27678-0-13\" stroke-width=\"2px\" d=\"M2170,264.5 C2170,89.5 2495.0,89.5 2495.0,264.5\" fill=\"none\" stroke=\"currentColor\"/>\n",
       "    <text dy=\"1.25em\" style=\"font-size: 0.8em; letter-spacing: 1px\">\n",
       "        <textPath xlink:href=\"#arrow-0a43fcbab7164c648939fe8a5df27678-0-13\" class=\"displacy-label\" startOffset=\"50%\" side=\"left\" fill=\"currentColor\" text-anchor=\"middle\">pobj</textPath>\n",
       "    </text>\n",
       "    <path class=\"displacy-arrowhead\" d=\"M2495.0,266.5 L2503.0,254.5 2487.0,254.5\" fill=\"currentColor\"/>\n",
       "</g>\n",
       "</svg></span>"
      ],
      "text/plain": [
       "<IPython.core.display.HTML object>"
      ]
     },
     "metadata": {},
     "output_type": "display_data"
    }
   ],
   "source": [
    "render(test)"
   ]
  },
  {
   "cell_type": "code",
   "execution_count": 13,
   "id": "59fbb25b",
   "metadata": {},
   "outputs": [],
   "source": [
    "data = pd.DataFrame([{\n",
    "    'token_id': i, 'token': x.idx, 'text': x.text, 'pos': x.pos_, 'lemma': x.lemma_,\n",
    "    'dep': x.dep_, 'head': x.head.idx\n",
    "} for i, x in enumerate(test)])"
   ]
  },
  {
   "cell_type": "code",
   "execution_count": 14,
   "id": "869f3120",
   "metadata": {},
   "outputs": [
    {
     "data": {
      "text/html": [
       "<div>\n",
       "<style scoped>\n",
       "    .dataframe tbody tr th:only-of-type {\n",
       "        vertical-align: middle;\n",
       "    }\n",
       "\n",
       "    .dataframe tbody tr th {\n",
       "        vertical-align: top;\n",
       "    }\n",
       "\n",
       "    .dataframe thead th {\n",
       "        text-align: right;\n",
       "    }\n",
       "</style>\n",
       "<table border=\"1\" class=\"dataframe\">\n",
       "  <thead>\n",
       "    <tr style=\"text-align: right;\">\n",
       "      <th></th>\n",
       "      <th>token_id</th>\n",
       "      <th>token</th>\n",
       "      <th>text</th>\n",
       "      <th>pos</th>\n",
       "      <th>lemma</th>\n",
       "      <th>dep</th>\n",
       "      <th>head</th>\n",
       "    </tr>\n",
       "  </thead>\n",
       "  <tbody>\n",
       "    <tr>\n",
       "      <th>0</th>\n",
       "      <td>0</td>\n",
       "      <td>0</td>\n",
       "      <td>Red</td>\n",
       "      <td>ADJ</td>\n",
       "      <td>red</td>\n",
       "      <td>amod</td>\n",
       "      <td>20</td>\n",
       "    </tr>\n",
       "    <tr>\n",
       "      <th>1</th>\n",
       "      <td>1</td>\n",
       "      <td>3</td>\n",
       "      <td>,</td>\n",
       "      <td>PUNCT</td>\n",
       "      <td>,</td>\n",
       "      <td>punct</td>\n",
       "      <td>0</td>\n",
       "    </tr>\n",
       "    <tr>\n",
       "      <th>2</th>\n",
       "      <td>2</td>\n",
       "      <td>5</td>\n",
       "      <td>white</td>\n",
       "      <td>ADJ</td>\n",
       "      <td>white</td>\n",
       "      <td>conj</td>\n",
       "      <td>0</td>\n",
       "    </tr>\n",
       "    <tr>\n",
       "      <th>3</th>\n",
       "      <td>3</td>\n",
       "      <td>11</td>\n",
       "      <td>and</td>\n",
       "      <td>CCONJ</td>\n",
       "      <td>and</td>\n",
       "      <td>cc</td>\n",
       "      <td>5</td>\n",
       "    </tr>\n",
       "    <tr>\n",
       "      <th>4</th>\n",
       "      <td>4</td>\n",
       "      <td>15</td>\n",
       "      <td>bleu</td>\n",
       "      <td>PROPN</td>\n",
       "      <td>bleu</td>\n",
       "      <td>conj</td>\n",
       "      <td>5</td>\n",
       "    </tr>\n",
       "    <tr>\n",
       "      <th>5</th>\n",
       "      <td>5</td>\n",
       "      <td>20</td>\n",
       "      <td>salad</td>\n",
       "      <td>NOUN</td>\n",
       "      <td>salad</td>\n",
       "      <td>nsubj</td>\n",
       "      <td>26</td>\n",
       "    </tr>\n",
       "    <tr>\n",
       "      <th>6</th>\n",
       "      <td>6</td>\n",
       "      <td>26</td>\n",
       "      <td>was</td>\n",
       "      <td>AUX</td>\n",
       "      <td>be</td>\n",
       "      <td>ROOT</td>\n",
       "      <td>26</td>\n",
       "    </tr>\n",
       "    <tr>\n",
       "      <th>7</th>\n",
       "      <td>7</td>\n",
       "      <td>30</td>\n",
       "      <td>super</td>\n",
       "      <td>ADJ</td>\n",
       "      <td>super</td>\n",
       "      <td>amod</td>\n",
       "      <td>36</td>\n",
       "    </tr>\n",
       "    <tr>\n",
       "      <th>8</th>\n",
       "      <td>8</td>\n",
       "      <td>36</td>\n",
       "      <td>yum</td>\n",
       "      <td>NOUN</td>\n",
       "      <td>yum</td>\n",
       "      <td>attr</td>\n",
       "      <td>26</td>\n",
       "    </tr>\n",
       "    <tr>\n",
       "      <th>9</th>\n",
       "      <td>9</td>\n",
       "      <td>40</td>\n",
       "      <td>and</td>\n",
       "      <td>CCONJ</td>\n",
       "      <td>and</td>\n",
       "      <td>cc</td>\n",
       "      <td>36</td>\n",
       "    </tr>\n",
       "    <tr>\n",
       "      <th>10</th>\n",
       "      <td>10</td>\n",
       "      <td>44</td>\n",
       "      <td>a</td>\n",
       "      <td>DET</td>\n",
       "      <td>a</td>\n",
       "      <td>det</td>\n",
       "      <td>52</td>\n",
       "    </tr>\n",
       "    <tr>\n",
       "      <th>11</th>\n",
       "      <td>11</td>\n",
       "      <td>46</td>\n",
       "      <td>great</td>\n",
       "      <td>ADJ</td>\n",
       "      <td>great</td>\n",
       "      <td>amod</td>\n",
       "      <td>52</td>\n",
       "    </tr>\n",
       "    <tr>\n",
       "      <th>12</th>\n",
       "      <td>12</td>\n",
       "      <td>52</td>\n",
       "      <td>addition</td>\n",
       "      <td>NOUN</td>\n",
       "      <td>addition</td>\n",
       "      <td>conj</td>\n",
       "      <td>36</td>\n",
       "    </tr>\n",
       "    <tr>\n",
       "      <th>13</th>\n",
       "      <td>13</td>\n",
       "      <td>61</td>\n",
       "      <td>to</td>\n",
       "      <td>ADP</td>\n",
       "      <td>to</td>\n",
       "      <td>prep</td>\n",
       "      <td>52</td>\n",
       "    </tr>\n",
       "    <tr>\n",
       "      <th>14</th>\n",
       "      <td>14</td>\n",
       "      <td>64</td>\n",
       "      <td>the</td>\n",
       "      <td>DET</td>\n",
       "      <td>the</td>\n",
       "      <td>det</td>\n",
       "      <td>68</td>\n",
       "    </tr>\n",
       "    <tr>\n",
       "      <th>15</th>\n",
       "      <td>15</td>\n",
       "      <td>68</td>\n",
       "      <td>menu</td>\n",
       "      <td>NOUN</td>\n",
       "      <td>menu</td>\n",
       "      <td>pobj</td>\n",
       "      <td>61</td>\n",
       "    </tr>\n",
       "    <tr>\n",
       "      <th>16</th>\n",
       "      <td>16</td>\n",
       "      <td>72</td>\n",
       "      <td>!</td>\n",
       "      <td>PUNCT</td>\n",
       "      <td>!</td>\n",
       "      <td>punct</td>\n",
       "      <td>26</td>\n",
       "    </tr>\n",
       "  </tbody>\n",
       "</table>\n",
       "</div>"
      ],
      "text/plain": [
       "    token_id  token      text    pos     lemma    dep  head\n",
       "0          0      0       Red    ADJ       red   amod    20\n",
       "1          1      3         ,  PUNCT         ,  punct     0\n",
       "2          2      5     white    ADJ     white   conj     0\n",
       "3          3     11       and  CCONJ       and     cc     5\n",
       "4          4     15      bleu  PROPN      bleu   conj     5\n",
       "5          5     20     salad   NOUN     salad  nsubj    26\n",
       "6          6     26       was    AUX        be   ROOT    26\n",
       "7          7     30     super    ADJ     super   amod    36\n",
       "8          8     36       yum   NOUN       yum   attr    26\n",
       "9          9     40       and  CCONJ       and     cc    36\n",
       "10        10     44         a    DET         a    det    52\n",
       "11        11     46     great    ADJ     great   amod    52\n",
       "12        12     52  addition   NOUN  addition   conj    36\n",
       "13        13     61        to    ADP        to   prep    52\n",
       "14        14     64       the    DET       the    det    68\n",
       "15        15     68      menu   NOUN      menu   pobj    61\n",
       "16        16     72         !  PUNCT         !  punct    26"
      ]
     },
     "execution_count": 14,
     "metadata": {},
     "output_type": "execute_result"
    }
   ],
   "source": [
    "data"
   ]
  },
  {
   "cell_type": "markdown",
   "id": "3bf62ce9",
   "metadata": {},
   "source": [
    "## Explore the graph for detecting the target of adjectives and verbs\n",
    "- hints: create a statistics of the adjectives and verbs most common dependencies"
   ]
  },
  {
   "cell_type": "code",
   "execution_count": 15,
   "id": "79a8a203",
   "metadata": {},
   "outputs": [],
   "source": [
    "token_map = lambda span: dict([(x.idx, x) for x in span])"
   ]
  },
  {
   "cell_type": "code",
   "execution_count": 16,
   "id": "57a8516f",
   "metadata": {},
   "outputs": [],
   "source": [
    "def explore(token, children=None, level=0, order=None):\n",
    "    if children is None:\n",
    "        children = []\n",
    "    if order is None:\n",
    "        order = token.idx\n",
    "    for child in token.children:\n",
    "        children.append((child, level, child.idx < order))\n",
    "        explore(child, children=children, level=level+1, order=order)\n",
    "    return children"
   ]
  },
  {
   "cell_type": "markdown",
   "id": "cc473dd6",
   "metadata": {},
   "source": [
    "### Left side adjectives\n",
    "Search for adjectives on the left side of the dependency tree but exclude adjectives found after another noun in the tree"
   ]
  },
  {
   "cell_type": "code",
   "execution_count": 17,
   "id": "dfe3de8c",
   "metadata": {},
   "outputs": [],
   "source": [
    "def search_adjectives(nlp_text, nouns=None):\n",
    "    nouns_map = dict([(x, []) for x in nlp_text if x.pos_ in ['NOUN', 'PROPN']])\n",
    "    if nouns is None:\n",
    "        nouns = nouns_map.keys()\n",
    "    else:\n",
    "        pass\n",
    "    for noun in nouns:\n",
    "        subtree = explore(noun)\n",
    "        subnouns = [(x, l) for x, l, _ in subtree if x.pos_ in ['NOUN', 'PROPN']]\n",
    "        for token, level, left in subtree:\n",
    "            if token.pos_ == 'ADJ' and len([(n, l) for n, l in subnouns if l < level]) == 0:\n",
    "                try:\n",
    "                    nouns_map[noun].append(token)\n",
    "                except KeyError:\n",
    "                    pass\n",
    "    return nouns_map"
   ]
  },
  {
   "cell_type": "markdown",
   "id": "505770ed",
   "metadata": {},
   "source": [
    "### Verb patterns\n",
    "Search for the pattern\n",
    "$$\n",
    "NOUN \\rightarrow BE\\ (VERB)\\ \\rightarrow ADJ\n",
    "$$\n",
    "For the noun, we search for a subject. For the adjective:\n",
    "- get only `dobj`, `attr` and `conj` **or** level 0 adjectives\n",
    "- add level 0 adjectives to the adjective map for the corresponding subject noun\n",
    "- for nouns, get the adjective map and add the adjectives to the subject\n",
    "\n",
    "**Important** in this example we do not deal with negation. Address negation as an exercise."
   ]
  },
  {
   "cell_type": "code",
   "execution_count": 18,
   "id": "ec407af3",
   "metadata": {},
   "outputs": [],
   "source": [
    "def verb_adjectives(text, adjective_map):\n",
    "    be_verbs = [x for x in text if x.lemma_ == 'be']\n",
    "    for be in be_verbs:\n",
    "        subtokens = explore(be)\n",
    "        subject = [(x) for x, level, left in subtokens if left and x.dep_ == 'nsubj']\n",
    "        if len(subject) > 0:\n",
    "            subj = subject[0]\n",
    "            for candidate, level, left in subtokens:\n",
    "                if not left:\n",
    "                    if candidate.pos_ == 'ADJ' and level == 0:\n",
    "                        try:\n",
    "                            adjective_map[subj].append(candidate)\n",
    "                        except KeyError:\n",
    "                            pass\n",
    "                    elif candidate.dep_ in ['dobj', 'attr', 'conj']:\n",
    "                        adj = search_adjectives(text, nouns=[candidate])\n",
    "                        try:\n",
    "                            adjective_map[subj] += adj[candidate]\n",
    "                        except KeyError:\n",
    "                            pass\n",
    "                    else:\n",
    "                        pass"
   ]
  },
  {
   "cell_type": "markdown",
   "id": "e896d676",
   "metadata": {},
   "source": [
    "### Example"
   ]
  },
  {
   "cell_type": "code",
   "execution_count": 19,
   "id": "68ce124c",
   "metadata": {},
   "outputs": [
    {
     "data": {
      "text/plain": [
       "Red, white and bleu salad was super yum and a great addition to the menu!"
      ]
     },
     "execution_count": 19,
     "metadata": {},
     "output_type": "execute_result"
    }
   ],
   "source": [
    "test"
   ]
  },
  {
   "cell_type": "code",
   "execution_count": 20,
   "id": "1a6953f3",
   "metadata": {},
   "outputs": [
    {
     "data": {
      "text/plain": [
       "{bleu: [], salad: [Red, white], yum: [super], addition: [great], menu: []}"
      ]
     },
     "execution_count": 20,
     "metadata": {},
     "output_type": "execute_result"
    }
   ],
   "source": [
    "nm = search_adjectives(test)\n",
    "nm"
   ]
  },
  {
   "cell_type": "code",
   "execution_count": 21,
   "id": "751ee7f9",
   "metadata": {},
   "outputs": [],
   "source": [
    "verb_adjectives(test, adjective_map=nm)"
   ]
  },
  {
   "cell_type": "code",
   "execution_count": 22,
   "id": "bdabb079",
   "metadata": {},
   "outputs": [
    {
     "data": {
      "text/plain": [
       "{bleu: [],\n",
       " salad: [Red, white, super, great],\n",
       " yum: [super],\n",
       " addition: [great],\n",
       " menu: []}"
      ]
     },
     "execution_count": 22,
     "metadata": {},
     "output_type": "execute_result"
    }
   ],
   "source": [
    "nm"
   ]
  },
  {
   "cell_type": "code",
   "execution_count": 23,
   "id": "357d1773",
   "metadata": {},
   "outputs": [
    {
     "data": {
      "text/html": [
       "<span class=\"tex2jax_ignore\"><svg xmlns=\"http://www.w3.org/2000/svg\" xmlns:xlink=\"http://www.w3.org/1999/xlink\" xml:lang=\"en\" id=\"00f2ec4b7f9044189e29b324acf11623-0\" class=\"displacy\" width=\"925\" height=\"312.0\" direction=\"ltr\" style=\"max-width: none; height: 312.0px; color: #000000; background: #ffffff; font-family: Arial; direction: ltr\">\n",
       "<text class=\"displacy-token\" fill=\"currentColor\" text-anchor=\"middle\" y=\"222.0\">\n",
       "    <tspan class=\"displacy-word\" fill=\"currentColor\" x=\"50\">this</tspan>\n",
       "    <tspan class=\"displacy-tag\" dy=\"2em\" fill=\"currentColor\" x=\"50\">DET</tspan>\n",
       "</text>\n",
       "\n",
       "<text class=\"displacy-token\" fill=\"currentColor\" text-anchor=\"middle\" y=\"222.0\">\n",
       "    <tspan class=\"displacy-word\" fill=\"currentColor\" x=\"225\">salad</tspan>\n",
       "    <tspan class=\"displacy-tag\" dy=\"2em\" fill=\"currentColor\" x=\"225\">NOUN</tspan>\n",
       "</text>\n",
       "\n",
       "<text class=\"displacy-token\" fill=\"currentColor\" text-anchor=\"middle\" y=\"222.0\">\n",
       "    <tspan class=\"displacy-word\" fill=\"currentColor\" x=\"400\">was</tspan>\n",
       "    <tspan class=\"displacy-tag\" dy=\"2em\" fill=\"currentColor\" x=\"400\">AUX</tspan>\n",
       "</text>\n",
       "\n",
       "<text class=\"displacy-token\" fill=\"currentColor\" text-anchor=\"middle\" y=\"222.0\">\n",
       "    <tspan class=\"displacy-word\" fill=\"currentColor\" x=\"575\">n't</tspan>\n",
       "    <tspan class=\"displacy-tag\" dy=\"2em\" fill=\"currentColor\" x=\"575\">PART</tspan>\n",
       "</text>\n",
       "\n",
       "<text class=\"displacy-token\" fill=\"currentColor\" text-anchor=\"middle\" y=\"222.0\">\n",
       "    <tspan class=\"displacy-word\" fill=\"currentColor\" x=\"750\">good</tspan>\n",
       "    <tspan class=\"displacy-tag\" dy=\"2em\" fill=\"currentColor\" x=\"750\">ADJ</tspan>\n",
       "</text>\n",
       "\n",
       "<g class=\"displacy-arrow\">\n",
       "    <path class=\"displacy-arc\" id=\"arrow-00f2ec4b7f9044189e29b324acf11623-0-0\" stroke-width=\"2px\" d=\"M70,177.0 C70,89.5 220.0,89.5 220.0,177.0\" fill=\"none\" stroke=\"currentColor\"/>\n",
       "    <text dy=\"1.25em\" style=\"font-size: 0.8em; letter-spacing: 1px\">\n",
       "        <textPath xlink:href=\"#arrow-00f2ec4b7f9044189e29b324acf11623-0-0\" class=\"displacy-label\" startOffset=\"50%\" side=\"left\" fill=\"currentColor\" text-anchor=\"middle\">det</textPath>\n",
       "    </text>\n",
       "    <path class=\"displacy-arrowhead\" d=\"M70,179.0 L62,167.0 78,167.0\" fill=\"currentColor\"/>\n",
       "</g>\n",
       "\n",
       "<g class=\"displacy-arrow\">\n",
       "    <path class=\"displacy-arc\" id=\"arrow-00f2ec4b7f9044189e29b324acf11623-0-1\" stroke-width=\"2px\" d=\"M245,177.0 C245,89.5 395.0,89.5 395.0,177.0\" fill=\"none\" stroke=\"currentColor\"/>\n",
       "    <text dy=\"1.25em\" style=\"font-size: 0.8em; letter-spacing: 1px\">\n",
       "        <textPath xlink:href=\"#arrow-00f2ec4b7f9044189e29b324acf11623-0-1\" class=\"displacy-label\" startOffset=\"50%\" side=\"left\" fill=\"currentColor\" text-anchor=\"middle\">nsubj</textPath>\n",
       "    </text>\n",
       "    <path class=\"displacy-arrowhead\" d=\"M245,179.0 L237,167.0 253,167.0\" fill=\"currentColor\"/>\n",
       "</g>\n",
       "\n",
       "<g class=\"displacy-arrow\">\n",
       "    <path class=\"displacy-arc\" id=\"arrow-00f2ec4b7f9044189e29b324acf11623-0-2\" stroke-width=\"2px\" d=\"M420,177.0 C420,89.5 570.0,89.5 570.0,177.0\" fill=\"none\" stroke=\"currentColor\"/>\n",
       "    <text dy=\"1.25em\" style=\"font-size: 0.8em; letter-spacing: 1px\">\n",
       "        <textPath xlink:href=\"#arrow-00f2ec4b7f9044189e29b324acf11623-0-2\" class=\"displacy-label\" startOffset=\"50%\" side=\"left\" fill=\"currentColor\" text-anchor=\"middle\">neg</textPath>\n",
       "    </text>\n",
       "    <path class=\"displacy-arrowhead\" d=\"M570.0,179.0 L578.0,167.0 562.0,167.0\" fill=\"currentColor\"/>\n",
       "</g>\n",
       "\n",
       "<g class=\"displacy-arrow\">\n",
       "    <path class=\"displacy-arc\" id=\"arrow-00f2ec4b7f9044189e29b324acf11623-0-3\" stroke-width=\"2px\" d=\"M420,177.0 C420,2.0 750.0,2.0 750.0,177.0\" fill=\"none\" stroke=\"currentColor\"/>\n",
       "    <text dy=\"1.25em\" style=\"font-size: 0.8em; letter-spacing: 1px\">\n",
       "        <textPath xlink:href=\"#arrow-00f2ec4b7f9044189e29b324acf11623-0-3\" class=\"displacy-label\" startOffset=\"50%\" side=\"left\" fill=\"currentColor\" text-anchor=\"middle\">acomp</textPath>\n",
       "    </text>\n",
       "    <path class=\"displacy-arrowhead\" d=\"M750.0,179.0 L758.0,167.0 742.0,167.0\" fill=\"currentColor\"/>\n",
       "</g>\n",
       "</svg></span>"
      ],
      "text/plain": [
       "<IPython.core.display.HTML object>"
      ]
     },
     "metadata": {},
     "output_type": "display_data"
    }
   ],
   "source": [
    "s = nlp(\"this salad wasn't good\")\n",
    "nms = search_adjectives(s)\n",
    "verb_adjectives(s, adjective_map=nms)\n",
    "nms\n",
    "render(s)"
   ]
  },
  {
   "cell_type": "markdown",
   "id": "0ec77571",
   "metadata": {},
   "source": [
    "## Find meaningful pairs ADJ-NOUN per business category\n",
    "We now exploit our search functions to get stats about the adjective-noun pairs and the corresponding business categories."
   ]
  },
  {
   "cell_type": "code",
   "execution_count": 24,
   "id": "6d47fe31",
   "metadata": {},
   "outputs": [],
   "source": [
    "documents, stars, categories = [], [], []\n",
    "for i, review in enumerate(R[:3000]):\n",
    "    documents.append(review['content'])\n",
    "    stars.append(review['stars'])\n",
    "    categories.append(review['categories'])"
   ]
  },
  {
   "cell_type": "code",
   "execution_count": 25,
   "id": "b6cc51a6",
   "metadata": {},
   "outputs": [
    {
     "data": {
      "text/plain": [
       "['American (Traditional)', 'Burgers', 'Restaurants']"
      ]
     },
     "execution_count": 25,
     "metadata": {},
     "output_type": "execute_result"
    }
   ],
   "source": [
    "categories[0]"
   ]
  },
  {
   "cell_type": "code",
   "execution_count": 26,
   "id": "a995081a",
   "metadata": {},
   "outputs": [
    {
     "data": {
      "application/vnd.jupyter.widget-view+json": {
       "model_id": "ca16637f87e44f2cbccdefc704c6a80c",
       "version_major": 2,
       "version_minor": 0
      },
      "text/plain": [
       "  0%|          | 0/3000 [00:00<?, ?it/s]"
      ]
     },
     "metadata": {},
     "output_type": "display_data"
    }
   ],
   "source": [
    "stats_data = []\n",
    "runs = list(enumerate(documents))\n",
    "for i, doc in tqdm(runs):\n",
    "    cats = categories[i]\n",
    "    star = stars[i]\n",
    "    sample = spacy_sentences(nlp, doc)\n",
    "    for sent in sample:\n",
    "        nm = search_adjectives(sent)\n",
    "        verb_adjectives(sent, adjective_map=nm)\n",
    "        for n, adjs in nm.items():\n",
    "            for a in adjs:\n",
    "                for cat in cats:\n",
    "                    stats_data.append({\n",
    "                        'doc': i,\n",
    "                        'category': cat,\n",
    "                        'adj': a.lemma_.lower(),\n",
    "                        'noun': n.lemma_.lower()\n",
    "                    })\n",
    "S = pd.DataFrame(stats_data)"
   ]
  },
  {
   "cell_type": "code",
   "execution_count": 27,
   "id": "79ca3c72",
   "metadata": {},
   "outputs": [
    {
     "data": {
      "text/html": [
       "<div>\n",
       "<style scoped>\n",
       "    .dataframe tbody tr th:only-of-type {\n",
       "        vertical-align: middle;\n",
       "    }\n",
       "\n",
       "    .dataframe tbody tr th {\n",
       "        vertical-align: top;\n",
       "    }\n",
       "\n",
       "    .dataframe thead th {\n",
       "        text-align: right;\n",
       "    }\n",
       "</style>\n",
       "<table border=\"1\" class=\"dataframe\">\n",
       "  <thead>\n",
       "    <tr style=\"text-align: right;\">\n",
       "      <th></th>\n",
       "      <th>doc</th>\n",
       "      <th>category</th>\n",
       "      <th>adj</th>\n",
       "      <th>noun</th>\n",
       "    </tr>\n",
       "  </thead>\n",
       "  <tbody>\n",
       "    <tr>\n",
       "      <th>0</th>\n",
       "      <td>0</td>\n",
       "      <td>American (Traditional)</td>\n",
       "      <td>red</td>\n",
       "      <td>salad</td>\n",
       "    </tr>\n",
       "    <tr>\n",
       "      <th>1</th>\n",
       "      <td>0</td>\n",
       "      <td>Burgers</td>\n",
       "      <td>red</td>\n",
       "      <td>salad</td>\n",
       "    </tr>\n",
       "    <tr>\n",
       "      <th>2</th>\n",
       "      <td>0</td>\n",
       "      <td>Restaurants</td>\n",
       "      <td>red</td>\n",
       "      <td>salad</td>\n",
       "    </tr>\n",
       "    <tr>\n",
       "      <th>3</th>\n",
       "      <td>0</td>\n",
       "      <td>American (Traditional)</td>\n",
       "      <td>white</td>\n",
       "      <td>salad</td>\n",
       "    </tr>\n",
       "    <tr>\n",
       "      <th>4</th>\n",
       "      <td>0</td>\n",
       "      <td>Burgers</td>\n",
       "      <td>white</td>\n",
       "      <td>salad</td>\n",
       "    </tr>\n",
       "  </tbody>\n",
       "</table>\n",
       "</div>"
      ],
      "text/plain": [
       "   doc                category    adj   noun\n",
       "0    0  American (Traditional)    red  salad\n",
       "1    0                 Burgers    red  salad\n",
       "2    0             Restaurants    red  salad\n",
       "3    0  American (Traditional)  white  salad\n",
       "4    0                 Burgers  white  salad"
      ]
     },
     "execution_count": 27,
     "metadata": {},
     "output_type": "execute_result"
    }
   ],
   "source": [
    "S.head()"
   ]
  },
  {
   "cell_type": "markdown",
   "id": "a8a764cd",
   "metadata": {},
   "source": [
    "### Pointwise mutual information\n",
    "We can exploit PMI for two aims:\n",
    "\n",
    "1. compute relevance of adjective-noun pairs\n",
    "2. compute relevance of nouns pairs per category\n",
    "\n",
    "(1.) is a measure of how much an adjective is related to the corresponding noun, while (2.) gives a measure of how much a noun is relevant for a category \n",
    "\n",
    "The general formula for PMI given two variables A and B is:\n",
    "$$\n",
    "PMI(A, B) = \\log \\frac{P(A, B)}{P(A)P(B)} = \\log \\left ( \\frac{count(A, B)}{\\sum\\limits_{i=1}^{n} count((A, B)_i)}\n",
    "\\frac{\\sum\\limits_{j=1}^{a} count(A_j)\\sum\\limits_{z=1}^{b} count(B_j)}{count(A)count(B)} \\right )\n",
    "$$\n",
    "**Note**: the reliability of PMI requires a minimal number of observations. For this reason, we skip pairs of values having a low frequency"
   ]
  },
  {
   "cell_type": "markdown",
   "id": "3d2c0d2e",
   "metadata": {},
   "source": [
    "#### Adjective-Noun PMI\n",
    "**NOTE** for adj-noun pairs, we first get rid of categories to avoid overcounting pairs"
   ]
  },
  {
   "cell_type": "code",
   "execution_count": 28,
   "id": "41a5ef33",
   "metadata": {},
   "outputs": [],
   "source": [
    "Sdoc = S.groupby(['doc', 'adj', 'noun']).first().reset_index()[['doc', 'adj', 'noun']]"
   ]
  },
  {
   "cell_type": "code",
   "execution_count": 29,
   "id": "bcf1b68b",
   "metadata": {},
   "outputs": [],
   "source": [
    "adj_noun = Sdoc.groupby(['adj', 'noun']).count()\n",
    "adj_noun = adj_noun[adj_noun.doc > 10]\n",
    "adj = Sdoc.groupby('adj').count()['doc']\n",
    "adj = pd.DataFrame(adj[adj > 10])\n",
    "noun = Sdoc.groupby('noun').count()['doc']\n",
    "noun = pd.DataFrame(noun[noun > 10])"
   ]
  },
  {
   "cell_type": "markdown",
   "id": "11cd2f95",
   "metadata": {},
   "source": [
    "##### Probabilities"
   ]
  },
  {
   "cell_type": "code",
   "execution_count": 30,
   "id": "0e69c0ec",
   "metadata": {},
   "outputs": [],
   "source": [
    "adj_noun_sum = adj_noun.sum()['doc']\n",
    "adj_noun['p'] = adj_noun.doc / adj_noun_sum\n",
    "adj_sum = adj.sum()['doc']\n",
    "adj['p'] = adj.doc / adj_sum\n",
    "noun_sum = noun.sum()['doc']\n",
    "noun['p'] = noun.doc / noun_sum"
   ]
  },
  {
   "cell_type": "markdown",
   "id": "8c38a568",
   "metadata": {},
   "source": [
    "##### PMI"
   ]
  },
  {
   "cell_type": "code",
   "execution_count": 31,
   "id": "cc31e206",
   "metadata": {},
   "outputs": [],
   "source": [
    "pmi = []\n",
    "for (a, n), row in adj_noun.iterrows():\n",
    "    pmi.append({'adj': a, 'noun': n, 'pmi': np.log(row.p / (adj.loc[a].p * noun.loc[n].p))})\n",
    "pmi_an = pd.DataFrame(pmi)\n",
    "pmi_an.set_index(['adj', 'noun'], inplace=True)"
   ]
  },
  {
   "cell_type": "code",
   "execution_count": 32,
   "id": "1f63bc77",
   "metadata": {},
   "outputs": [
    {
     "data": {
      "text/html": [
       "<div>\n",
       "<style scoped>\n",
       "    .dataframe tbody tr th:only-of-type {\n",
       "        vertical-align: middle;\n",
       "    }\n",
       "\n",
       "    .dataframe tbody tr th {\n",
       "        vertical-align: top;\n",
       "    }\n",
       "\n",
       "    .dataframe thead th {\n",
       "        text-align: right;\n",
       "    }\n",
       "</style>\n",
       "<table border=\"1\" class=\"dataframe\">\n",
       "  <thead>\n",
       "    <tr style=\"text-align: right;\">\n",
       "      <th></th>\n",
       "      <th></th>\n",
       "      <th>pmi</th>\n",
       "    </tr>\n",
       "    <tr>\n",
       "      <th>adj</th>\n",
       "      <th>noun</th>\n",
       "      <th></th>\n",
       "    </tr>\n",
       "  </thead>\n",
       "  <tbody>\n",
       "    <tr>\n",
       "      <th>timely</th>\n",
       "      <th>manner</th>\n",
       "      <td>8.198898</td>\n",
       "    </tr>\n",
       "    <tr>\n",
       "      <th>mashed</th>\n",
       "      <th>potato</th>\n",
       "      <td>7.492679</td>\n",
       "    </tr>\n",
       "    <tr>\n",
       "      <th>sour</th>\n",
       "      <th>cream</th>\n",
       "      <td>7.305081</td>\n",
       "    </tr>\n",
       "    <tr>\n",
       "      <th>top</th>\n",
       "      <th>notch</th>\n",
       "      <td>6.969683</td>\n",
       "    </tr>\n",
       "    <tr>\n",
       "      <th>french</th>\n",
       "      <th>toast</th>\n",
       "      <td>6.903382</td>\n",
       "    </tr>\n",
       "  </tbody>\n",
       "</table>\n",
       "</div>"
      ],
      "text/plain": [
       "                    pmi\n",
       "adj    noun            \n",
       "timely manner  8.198898\n",
       "mashed potato  7.492679\n",
       "sour   cream   7.305081\n",
       "top    notch   6.969683\n",
       "french toast   6.903382"
      ]
     },
     "execution_count": 32,
     "metadata": {},
     "output_type": "execute_result"
    }
   ],
   "source": [
    "pmi_an.sort_values('pmi', ascending=False).head()"
   ]
  },
  {
   "cell_type": "markdown",
   "id": "2a4d84b2",
   "metadata": {},
   "source": [
    "#### Category-noun PMI"
   ]
  },
  {
   "cell_type": "code",
   "execution_count": 33,
   "id": "404cad86",
   "metadata": {},
   "outputs": [],
   "source": [
    "Scat = S.groupby(['category', 'noun']).count().reset_index()[['category', 'noun', 'doc']]"
   ]
  },
  {
   "cell_type": "code",
   "execution_count": 34,
   "id": "ec539b1e",
   "metadata": {},
   "outputs": [],
   "source": [
    "cat_noun = Scat[Scat.doc > 10].copy()\n",
    "cat_p = pd.DataFrame(cat_noun.groupby('category')['doc'].sum())\n",
    "cat_p = cat_p[cat_p.doc > 10]\n",
    "noun_p = pd.DataFrame(cat_noun.groupby('noun')['doc'].sum())\n",
    "noun_p = noun_p[noun_p.doc > 10]"
   ]
  },
  {
   "cell_type": "code",
   "execution_count": 35,
   "id": "cef24202",
   "metadata": {},
   "outputs": [],
   "source": [
    "cat_noun_sum = cat_noun.doc.sum()\n",
    "cat_noun['p'] = cat_noun.doc / cat_noun_sum\n",
    "cat_p['p'] = cat_p.doc / cat_p.doc.sum()\n",
    "noun_p['p'] = noun_p.doc / noun_p.doc.sum()"
   ]
  },
  {
   "cell_type": "code",
   "execution_count": 36,
   "id": "6f197303",
   "metadata": {},
   "outputs": [],
   "source": [
    "pmi = []\n",
    "for i, row in cat_noun.iterrows():\n",
    "    pmi.append({'category': row['category'], \n",
    "                'noun': row['noun'], \n",
    "                'pmi': np.log(\n",
    "                    row.p / (cat_p.loc[row['category']].p * noun_p.loc[row['noun']].p))})\n",
    "pmi_cat = pd.DataFrame(pmi)\n",
    "pmi_cat.set_index(['category', 'noun'], inplace=True)"
   ]
  },
  {
   "cell_type": "code",
   "execution_count": 37,
   "id": "bfccf4e8",
   "metadata": {},
   "outputs": [
    {
     "data": {
      "text/html": [
       "<div>\n",
       "<style scoped>\n",
       "    .dataframe tbody tr th:only-of-type {\n",
       "        vertical-align: middle;\n",
       "    }\n",
       "\n",
       "    .dataframe tbody tr th {\n",
       "        vertical-align: top;\n",
       "    }\n",
       "\n",
       "    .dataframe thead th {\n",
       "        text-align: right;\n",
       "    }\n",
       "</style>\n",
       "<table border=\"1\" class=\"dataframe\">\n",
       "  <thead>\n",
       "    <tr style=\"text-align: right;\">\n",
       "      <th></th>\n",
       "      <th></th>\n",
       "      <th>pmi</th>\n",
       "    </tr>\n",
       "    <tr>\n",
       "      <th>category</th>\n",
       "      <th>noun</th>\n",
       "      <th></th>\n",
       "    </tr>\n",
       "  </thead>\n",
       "  <tbody>\n",
       "    <tr>\n",
       "      <th>Contractors</th>\n",
       "      <th>tub</th>\n",
       "      <td>7.187815</td>\n",
       "    </tr>\n",
       "    <tr>\n",
       "      <th>Yoga</th>\n",
       "      <th>studio</th>\n",
       "      <td>6.728282</td>\n",
       "    </tr>\n",
       "    <tr>\n",
       "      <th>Donuts</th>\n",
       "      <th>donut</th>\n",
       "      <td>6.604668</td>\n",
       "    </tr>\n",
       "    <tr>\n",
       "      <th>Hot Dogs</th>\n",
       "      <th>dog</th>\n",
       "      <td>6.340517</td>\n",
       "    </tr>\n",
       "    <tr>\n",
       "      <th>Pets</th>\n",
       "      <th>dog</th>\n",
       "      <td>6.340517</td>\n",
       "    </tr>\n",
       "  </tbody>\n",
       "</table>\n",
       "</div>"
      ],
      "text/plain": [
       "                         pmi\n",
       "category    noun            \n",
       "Contractors tub     7.187815\n",
       "Yoga        studio  6.728282\n",
       "Donuts      donut   6.604668\n",
       "Hot Dogs    dog     6.340517\n",
       "Pets        dog     6.340517"
      ]
     },
     "execution_count": 37,
     "metadata": {},
     "output_type": "execute_result"
    }
   ],
   "source": [
    "pmi_cat.sort_values('pmi', ascending=False).head()"
   ]
  },
  {
   "cell_type": "code",
   "execution_count": 38,
   "id": "7320d2f2",
   "metadata": {},
   "outputs": [
    {
     "data": {
      "text/html": [
       "<div>\n",
       "<style scoped>\n",
       "    .dataframe tbody tr th:only-of-type {\n",
       "        vertical-align: middle;\n",
       "    }\n",
       "\n",
       "    .dataframe tbody tr th {\n",
       "        vertical-align: top;\n",
       "    }\n",
       "\n",
       "    .dataframe thead th {\n",
       "        text-align: right;\n",
       "    }\n",
       "</style>\n",
       "<table border=\"1\" class=\"dataframe\">\n",
       "  <thead>\n",
       "    <tr style=\"text-align: right;\">\n",
       "      <th></th>\n",
       "      <th>category</th>\n",
       "      <th>noun</th>\n",
       "      <th>pmi</th>\n",
       "    </tr>\n",
       "  </thead>\n",
       "  <tbody>\n",
       "    <tr>\n",
       "      <th>559</th>\n",
       "      <td>Hotels &amp; Travel</td>\n",
       "      <td>stay</td>\n",
       "      <td>2.890529</td>\n",
       "    </tr>\n",
       "    <tr>\n",
       "      <th>543</th>\n",
       "      <td>Hotels &amp; Travel</td>\n",
       "      <td>desk</td>\n",
       "      <td>2.612897</td>\n",
       "    </tr>\n",
       "    <tr>\n",
       "      <th>539</th>\n",
       "      <td>Hotels &amp; Travel</td>\n",
       "      <td>bed</td>\n",
       "      <td>2.591013</td>\n",
       "    </tr>\n",
       "    <tr>\n",
       "      <th>541</th>\n",
       "      <td>Hotels &amp; Travel</td>\n",
       "      <td>car</td>\n",
       "      <td>2.567756</td>\n",
       "    </tr>\n",
       "    <tr>\n",
       "      <th>546</th>\n",
       "      <td>Hotels &amp; Travel</td>\n",
       "      <td>hotel</td>\n",
       "      <td>2.485064</td>\n",
       "    </tr>\n",
       "  </tbody>\n",
       "</table>\n",
       "</div>"
      ],
      "text/plain": [
       "            category   noun       pmi\n",
       "559  Hotels & Travel   stay  2.890529\n",
       "543  Hotels & Travel   desk  2.612897\n",
       "539  Hotels & Travel    bed  2.591013\n",
       "541  Hotels & Travel    car  2.567756\n",
       "546  Hotels & Travel  hotel  2.485064"
      ]
     },
     "execution_count": 38,
     "metadata": {},
     "output_type": "execute_result"
    }
   ],
   "source": [
    "pmicats = pmi_cat.reset_index()\n",
    "pmicats[pmicats.category == 'Hotels & Travel'].sort_values('pmi', ascending=False).head()"
   ]
  },
  {
   "cell_type": "markdown",
   "id": "8eb67d3b",
   "metadata": {},
   "source": [
    "## Use PMI data as features\n",
    "For each document we have now:\n",
    "\n",
    "1. A set of categories\n",
    "2. A set of adjective-noun pairs\n",
    "3. The stars (our target)\n",
    "\n",
    "We want to use (1.) and (2.) as features to estimate (3.)"
   ]
  },
  {
   "cell_type": "markdown",
   "id": "556b4460",
   "metadata": {},
   "source": [
    "### Continuous approch (using Vader and Regression)\n",
    "(3.) is interpreted as a numerical value that we want to estimate starting from the polarity scores associated with the adjectives. The polarity scores are weighted by the PMI of the corresponding nouns given the category and the PMI of the adjective-noun pair."
   ]
  },
  {
   "cell_type": "code",
   "execution_count": 39,
   "id": "7da659e3",
   "metadata": {},
   "outputs": [],
   "source": [
    "from nltk.sentiment.vader import SentimentIntensityAnalyzer"
   ]
  },
  {
   "cell_type": "code",
   "execution_count": 40,
   "id": "4e8330ca",
   "metadata": {},
   "outputs": [],
   "source": [
    "sid = SentimentIntensityAnalyzer()"
   ]
  },
  {
   "cell_type": "code",
   "execution_count": 41,
   "id": "c5f96650",
   "metadata": {},
   "outputs": [
    {
     "data": {
      "text/plain": [
       "{'neg': 0.622, 'neu': 0.378, 'pos': 0.0, 'compound': -0.5096}"
      ]
     },
     "execution_count": 41,
     "metadata": {},
     "output_type": "execute_result"
    }
   ],
   "source": [
    "sid.polarity_scores('not great service')"
   ]
  },
  {
   "cell_type": "code",
   "execution_count": 42,
   "id": "d4da2986",
   "metadata": {},
   "outputs": [
    {
     "data": {
      "application/vnd.jupyter.widget-view+json": {
       "model_id": "c6231e7198434c9d8e0707da21bcb8c9",
       "version_major": 2,
       "version_minor": 0
      },
      "text/plain": [
       "  0%|          | 0/98298 [00:00<?, ?it/s]"
      ]
     },
     "metadata": {},
     "output_type": "display_data"
    }
   ],
   "source": [
    "features = []\n",
    "running = list(S.iterrows())\n",
    "for i, row in tqdm(running):\n",
    "    doc = row['doc']\n",
    "    cat = row['category']\n",
    "    a = row['adj']\n",
    "    n = row['noun']\n",
    "    try:\n",
    "        pmi_n = pmi_cat.loc[(cat, n)].pmi\n",
    "        pmi_a = pmi_an.loc[(a, n)].pmi\n",
    "        polarity = sid.polarity_scores(\"{} {}\".format(a, n))\n",
    "        pos = polarity['pos'] * pmi_n * pmi_a\n",
    "        neg = polarity['neg'] * pmi_n * pmi_a\n",
    "        neu = polarity['neu'] * pmi_n * pmi_a\n",
    "        features.append({\n",
    "            'doc': doc, 'stars': stars[doc], \n",
    "            'pos': pos, 'neg': neg, 'neu': neu\n",
    "        })\n",
    "    except KeyError:\n",
    "        pass\n",
    "train_data = pd.DataFrame(features)"
   ]
  },
  {
   "cell_type": "markdown",
   "id": "26647607",
   "metadata": {},
   "source": [
    "#### Aggregate data and split train and test"
   ]
  },
  {
   "cell_type": "code",
   "execution_count": 43,
   "id": "1ce1e9fa",
   "metadata": {},
   "outputs": [],
   "source": [
    "from sklearn.model_selection import train_test_split"
   ]
  },
  {
   "cell_type": "code",
   "execution_count": 44,
   "id": "f2914cd0",
   "metadata": {},
   "outputs": [],
   "source": [
    "T = train_data.groupby('doc').mean()\n",
    "X_train, X_test, y_train, y_test = train_test_split(T, T.stars.values, test_size=0.2, random_state=42)"
   ]
  },
  {
   "cell_type": "markdown",
   "id": "a3e4fa82",
   "metadata": {},
   "source": [
    "####  Roughly balance the train dataset"
   ]
  },
  {
   "cell_type": "code",
   "execution_count": 45,
   "id": "f906bb08",
   "metadata": {},
   "outputs": [
    {
     "data": {
      "text/html": [
       "<div>\n",
       "<style scoped>\n",
       "    .dataframe tbody tr th:only-of-type {\n",
       "        vertical-align: middle;\n",
       "    }\n",
       "\n",
       "    .dataframe tbody tr th {\n",
       "        vertical-align: top;\n",
       "    }\n",
       "\n",
       "    .dataframe thead th {\n",
       "        text-align: right;\n",
       "    }\n",
       "</style>\n",
       "<table border=\"1\" class=\"dataframe\">\n",
       "  <thead>\n",
       "    <tr style=\"text-align: right;\">\n",
       "      <th></th>\n",
       "      <th>pos</th>\n",
       "      <th>neg</th>\n",
       "      <th>neu</th>\n",
       "    </tr>\n",
       "    <tr>\n",
       "      <th>stars</th>\n",
       "      <th></th>\n",
       "      <th></th>\n",
       "      <th></th>\n",
       "    </tr>\n",
       "  </thead>\n",
       "  <tbody>\n",
       "    <tr>\n",
       "      <th>1.0</th>\n",
       "      <td>183</td>\n",
       "      <td>183</td>\n",
       "      <td>183</td>\n",
       "    </tr>\n",
       "    <tr>\n",
       "      <th>2.0</th>\n",
       "      <td>124</td>\n",
       "      <td>124</td>\n",
       "      <td>124</td>\n",
       "    </tr>\n",
       "    <tr>\n",
       "      <th>3.0</th>\n",
       "      <td>179</td>\n",
       "      <td>179</td>\n",
       "      <td>179</td>\n",
       "    </tr>\n",
       "    <tr>\n",
       "      <th>4.0</th>\n",
       "      <td>388</td>\n",
       "      <td>388</td>\n",
       "      <td>388</td>\n",
       "    </tr>\n",
       "    <tr>\n",
       "      <th>5.0</th>\n",
       "      <td>597</td>\n",
       "      <td>597</td>\n",
       "      <td>597</td>\n",
       "    </tr>\n",
       "  </tbody>\n",
       "</table>\n",
       "</div>"
      ],
      "text/plain": [
       "       pos  neg  neu\n",
       "stars               \n",
       "1.0    183  183  183\n",
       "2.0    124  124  124\n",
       "3.0    179  179  179\n",
       "4.0    388  388  388\n",
       "5.0    597  597  597"
      ]
     },
     "execution_count": 45,
     "metadata": {},
     "output_type": "execute_result"
    }
   ],
   "source": [
    "X_train.groupby('stars').count()"
   ]
  },
  {
   "cell_type": "code",
   "execution_count": 46,
   "id": "3e327828",
   "metadata": {},
   "outputs": [
    {
     "data": {
      "text/html": [
       "<div>\n",
       "<style scoped>\n",
       "    .dataframe tbody tr th:only-of-type {\n",
       "        vertical-align: middle;\n",
       "    }\n",
       "\n",
       "    .dataframe tbody tr th {\n",
       "        vertical-align: top;\n",
       "    }\n",
       "\n",
       "    .dataframe thead th {\n",
       "        text-align: right;\n",
       "    }\n",
       "</style>\n",
       "<table border=\"1\" class=\"dataframe\">\n",
       "  <thead>\n",
       "    <tr style=\"text-align: right;\">\n",
       "      <th></th>\n",
       "      <th>pos</th>\n",
       "      <th>neg</th>\n",
       "      <th>neu</th>\n",
       "    </tr>\n",
       "    <tr>\n",
       "      <th>stars</th>\n",
       "      <th></th>\n",
       "      <th></th>\n",
       "      <th></th>\n",
       "    </tr>\n",
       "  </thead>\n",
       "  <tbody>\n",
       "    <tr>\n",
       "      <th>1.0</th>\n",
       "      <td>183</td>\n",
       "      <td>183</td>\n",
       "      <td>183</td>\n",
       "    </tr>\n",
       "    <tr>\n",
       "      <th>2.0</th>\n",
       "      <td>124</td>\n",
       "      <td>124</td>\n",
       "      <td>124</td>\n",
       "    </tr>\n",
       "    <tr>\n",
       "      <th>3.0</th>\n",
       "      <td>179</td>\n",
       "      <td>179</td>\n",
       "      <td>179</td>\n",
       "    </tr>\n",
       "    <tr>\n",
       "      <th>4.0</th>\n",
       "      <td>200</td>\n",
       "      <td>200</td>\n",
       "      <td>200</td>\n",
       "    </tr>\n",
       "    <tr>\n",
       "      <th>5.0</th>\n",
       "      <td>200</td>\n",
       "      <td>200</td>\n",
       "      <td>200</td>\n",
       "    </tr>\n",
       "  </tbody>\n",
       "</table>\n",
       "</div>"
      ],
      "text/plain": [
       "       pos  neg  neu\n",
       "stars               \n",
       "1.0    183  183  183\n",
       "2.0    124  124  124\n",
       "3.0    179  179  179\n",
       "4.0    200  200  200\n",
       "5.0    200  200  200"
      ]
     },
     "execution_count": 46,
     "metadata": {},
     "output_type": "execute_result"
    }
   ],
   "source": [
    "X_train_b = X_train.groupby('stars').head(200)\n",
    "X_train_b.groupby('stars').count()"
   ]
  },
  {
   "cell_type": "code",
   "execution_count": 47,
   "id": "cd755362",
   "metadata": {},
   "outputs": [],
   "source": [
    "y_train = X_train_b.stars.values\n",
    "X_train = X_train_b[['pos', 'neg', 'neu']]\n",
    "X_test = X_test[['pos', 'neg', 'neu']]"
   ]
  },
  {
   "cell_type": "markdown",
   "id": "f1a08389",
   "metadata": {},
   "source": [
    "#### Regression"
   ]
  },
  {
   "cell_type": "code",
   "execution_count": 48,
   "id": "0292395d",
   "metadata": {},
   "outputs": [],
   "source": [
    "from sklearn.linear_model import LinearRegression\n",
    "from sklearn.preprocessing import MinMaxScaler\n",
    "from sklearn.metrics import mean_squared_error"
   ]
  },
  {
   "cell_type": "code",
   "execution_count": 49,
   "id": "bd077751",
   "metadata": {},
   "outputs": [],
   "source": [
    "Xs_train = MinMaxScaler().fit_transform(X_train)\n",
    "Xs_test = MinMaxScaler().fit_transform(X_test)"
   ]
  },
  {
   "cell_type": "code",
   "execution_count": 50,
   "id": "0b30114b",
   "metadata": {},
   "outputs": [],
   "source": [
    "reg = LinearRegression()\n",
    "reg = reg.fit(Xs_train, y_train)"
   ]
  },
  {
   "cell_type": "code",
   "execution_count": 51,
   "id": "999b4293",
   "metadata": {},
   "outputs": [],
   "source": [
    "train_prediction = reg.predict(Xs_train)\n",
    "test_prediction = reg.predict(Xs_test)"
   ]
  },
  {
   "cell_type": "code",
   "execution_count": 52,
   "id": "9c0231f4",
   "metadata": {},
   "outputs": [
    {
     "name": "stdout",
     "output_type": "stream",
     "text": [
      "1.934972504985704\n",
      "1.613462955284924\n"
     ]
    }
   ],
   "source": [
    "print(mean_squared_error(y_train, train_prediction))\n",
    "print(mean_squared_error(y_test, test_prediction))"
   ]
  },
  {
   "cell_type": "code",
   "execution_count": 53,
   "id": "405ac3bf",
   "metadata": {},
   "outputs": [],
   "source": [
    "import matplotlib.pyplot as plt"
   ]
  },
  {
   "cell_type": "code",
   "execution_count": 54,
   "id": "c5d8abf6",
   "metadata": {},
   "outputs": [
    {
     "data": {
      "image/png": "[encoded data removed]",
      "text/plain": [
       "<Figure size 864x432 with 2 Axes>"
      ]
     },
     "metadata": {
      "needs_background": "light"
     },
     "output_type": "display_data"
    }
   ],
   "source": [
    "fig, ax = plt.subplots(figsize=(12, 6), ncols=2)\n",
    "ax[0].scatter(train_prediction, y_train, alpha=.4)\n",
    "ax[1].scatter(test_prediction, y_test, alpha=.4)\n",
    "plt.tight_layout()\n",
    "plt.show()"
   ]
  },
  {
   "cell_type": "markdown",
   "id": "f8f5ed6b",
   "metadata": {},
   "source": [
    "### Categorical approach (Naive Bayes)\n",
    "(3.) is interpreted as a categorical variable $S$ and we aim at estimating $P(S \\mid category, adjnoun)$, given that:\n",
    "\n",
    "$$\n",
    "P(S \\mid category, adjnoun) = \\frac{P(S)P(category, adjnoun \\mid S)}{P(category, adjnoun)}\n",
    "$$"
   ]
  },
  {
   "cell_type": "code",
   "execution_count": 55,
   "id": "28285adc",
   "metadata": {},
   "outputs": [],
   "source": [
    "S['stars'] = [stars[x] for x in S.doc.values]"
   ]
  },
  {
   "cell_type": "code",
   "execution_count": 56,
   "id": "70d77c24",
   "metadata": {},
   "outputs": [],
   "source": [
    "X_train, X_test, y_train, y_test = train_test_split(S, S.stars.values, test_size=0.2, random_state=42)"
   ]
  },
  {
   "cell_type": "code",
   "execution_count": 57,
   "id": "0ffbd469",
   "metadata": {},
   "outputs": [
    {
     "data": {
      "text/html": [
       "<div>\n",
       "<style scoped>\n",
       "    .dataframe tbody tr th:only-of-type {\n",
       "        vertical-align: middle;\n",
       "    }\n",
       "\n",
       "    .dataframe tbody tr th {\n",
       "        vertical-align: top;\n",
       "    }\n",
       "\n",
       "    .dataframe thead th {\n",
       "        text-align: right;\n",
       "    }\n",
       "</style>\n",
       "<table border=\"1\" class=\"dataframe\">\n",
       "  <thead>\n",
       "    <tr style=\"text-align: right;\">\n",
       "      <th></th>\n",
       "      <th>doc</th>\n",
       "      <th>category</th>\n",
       "      <th>adj</th>\n",
       "      <th>noun</th>\n",
       "    </tr>\n",
       "    <tr>\n",
       "      <th>stars</th>\n",
       "      <th></th>\n",
       "      <th></th>\n",
       "      <th></th>\n",
       "      <th></th>\n",
       "    </tr>\n",
       "  </thead>\n",
       "  <tbody>\n",
       "    <tr>\n",
       "      <th>1</th>\n",
       "      <td>2000</td>\n",
       "      <td>2000</td>\n",
       "      <td>2000</td>\n",
       "      <td>2000</td>\n",
       "    </tr>\n",
       "    <tr>\n",
       "      <th>2</th>\n",
       "      <td>2000</td>\n",
       "      <td>2000</td>\n",
       "      <td>2000</td>\n",
       "      <td>2000</td>\n",
       "    </tr>\n",
       "    <tr>\n",
       "      <th>3</th>\n",
       "      <td>2000</td>\n",
       "      <td>2000</td>\n",
       "      <td>2000</td>\n",
       "      <td>2000</td>\n",
       "    </tr>\n",
       "    <tr>\n",
       "      <th>4</th>\n",
       "      <td>2000</td>\n",
       "      <td>2000</td>\n",
       "      <td>2000</td>\n",
       "      <td>2000</td>\n",
       "    </tr>\n",
       "    <tr>\n",
       "      <th>5</th>\n",
       "      <td>2000</td>\n",
       "      <td>2000</td>\n",
       "      <td>2000</td>\n",
       "      <td>2000</td>\n",
       "    </tr>\n",
       "  </tbody>\n",
       "</table>\n",
       "</div>"
      ],
      "text/plain": [
       "        doc  category   adj  noun\n",
       "stars                            \n",
       "1      2000      2000  2000  2000\n",
       "2      2000      2000  2000  2000\n",
       "3      2000      2000  2000  2000\n",
       "4      2000      2000  2000  2000\n",
       "5      2000      2000  2000  2000"
      ]
     },
     "execution_count": 57,
     "metadata": {},
     "output_type": "execute_result"
    }
   ],
   "source": [
    "X_train_b = X_train.groupby('stars').head(2000)\n",
    "X_train_b.groupby('stars').count()"
   ]
  },
  {
   "cell_type": "code",
   "execution_count": 58,
   "id": "fb0e6ab1",
   "metadata": {},
   "outputs": [
    {
     "data": {
      "text/html": [
       "<div>\n",
       "<style scoped>\n",
       "    .dataframe tbody tr th:only-of-type {\n",
       "        vertical-align: middle;\n",
       "    }\n",
       "\n",
       "    .dataframe tbody tr th {\n",
       "        vertical-align: top;\n",
       "    }\n",
       "\n",
       "    .dataframe thead th {\n",
       "        text-align: right;\n",
       "    }\n",
       "</style>\n",
       "<table border=\"1\" class=\"dataframe\">\n",
       "  <thead>\n",
       "    <tr style=\"text-align: right;\">\n",
       "      <th></th>\n",
       "      <th>doc</th>\n",
       "      <th>category</th>\n",
       "      <th>adj</th>\n",
       "      <th>noun</th>\n",
       "      <th>stars</th>\n",
       "    </tr>\n",
       "  </thead>\n",
       "  <tbody>\n",
       "    <tr>\n",
       "      <th>20970</th>\n",
       "      <td>645</td>\n",
       "      <td>Ice Cream &amp; Frozen Yogurt</td>\n",
       "      <td>little</td>\n",
       "      <td>bit</td>\n",
       "      <td>4</td>\n",
       "    </tr>\n",
       "    <tr>\n",
       "      <th>962</th>\n",
       "      <td>27</td>\n",
       "      <td>Beauty &amp; Spas</td>\n",
       "      <td>first</td>\n",
       "      <td>time</td>\n",
       "      <td>2</td>\n",
       "    </tr>\n",
       "    <tr>\n",
       "      <th>52305</th>\n",
       "      <td>1569</td>\n",
       "      <td>Nightlife</td>\n",
       "      <td>spicy</td>\n",
       "      <td>boy</td>\n",
       "      <td>4</td>\n",
       "    </tr>\n",
       "    <tr>\n",
       "      <th>69564</th>\n",
       "      <td>2123</td>\n",
       "      <td>Arcades</td>\n",
       "      <td>numerous</td>\n",
       "      <td>time</td>\n",
       "      <td>2</td>\n",
       "    </tr>\n",
       "    <tr>\n",
       "      <th>4292</th>\n",
       "      <td>145</td>\n",
       "      <td>Restaurants</td>\n",
       "      <td>classic</td>\n",
       "      <td>egg</td>\n",
       "      <td>4</td>\n",
       "    </tr>\n",
       "  </tbody>\n",
       "</table>\n",
       "</div>"
      ],
      "text/plain": [
       "        doc                   category       adj  noun  stars\n",
       "20970   645  Ice Cream & Frozen Yogurt    little   bit      4\n",
       "962      27              Beauty & Spas     first  time      2\n",
       "52305  1569                  Nightlife     spicy   boy      4\n",
       "69564  2123                    Arcades  numerous  time      2\n",
       "4292    145                Restaurants   classic   egg      4"
      ]
     },
     "execution_count": 58,
     "metadata": {},
     "output_type": "execute_result"
    }
   ],
   "source": [
    "X_train = X_train_b.copy()\n",
    "X_train.head()"
   ]
  },
  {
   "cell_type": "markdown",
   "id": "2540b31b",
   "metadata": {},
   "source": [
    "#### Prior for stars"
   ]
  },
  {
   "cell_type": "code",
   "execution_count": 59,
   "id": "6140fbd8",
   "metadata": {},
   "outputs": [],
   "source": [
    "stars_p = X_train.groupby(['doc']).first().groupby('stars').count()\n",
    "stars_p['p'] = stars_p.category / stars_p.category.sum()"
   ]
  },
  {
   "cell_type": "markdown",
   "id": "5845bfa4",
   "metadata": {},
   "source": [
    "#### Likelihood of category and adjnoun for stars"
   ]
  },
  {
   "cell_type": "code",
   "execution_count": 60,
   "id": "7a569c2a",
   "metadata": {},
   "outputs": [],
   "source": [
    "cat_an_p_stars = X_train.groupby(['stars', 'category', 'adj', 'noun']).count()\n",
    "cat_an_p_stars['p'] = cat_an_p_stars.doc.values / cat_an_p_stars.doc.values.sum()"
   ]
  },
  {
   "cell_type": "markdown",
   "id": "e7c2da83",
   "metadata": {},
   "source": [
    "#### Probability of category and adjnoun"
   ]
  },
  {
   "cell_type": "code",
   "execution_count": 61,
   "id": "b2d6c056",
   "metadata": {},
   "outputs": [],
   "source": [
    "cat_an_p = X_train.groupby(['category', 'adj', 'noun']).count()\n",
    "cat_an_p['p'] = cat_an_p.doc.values / cat_an_p.doc.sum()"
   ]
  },
  {
   "cell_type": "markdown",
   "id": "072546dc",
   "metadata": {},
   "source": [
    "#### Predict"
   ]
  },
  {
   "cell_type": "code",
   "execution_count": 62,
   "id": "c0bdd674",
   "metadata": {},
   "outputs": [],
   "source": [
    "from collections import defaultdict"
   ]
  },
  {
   "cell_type": "code",
   "execution_count": 63,
   "id": "fb1dc82a",
   "metadata": {},
   "outputs": [],
   "source": [
    "test_data = defaultdict(list)\n",
    "for i, row in X_test.iterrows():\n",
    "    test_data[row['doc']].append((\n",
    "        row['stars'], row['category'], row['adj'], row['noun']\n",
    "    ))"
   ]
  },
  {
   "cell_type": "code",
   "execution_count": 64,
   "id": "6be87a21",
   "metadata": {},
   "outputs": [
    {
     "data": {
      "application/vnd.jupyter.widget-view+json": {
       "model_id": "44a1391f67dc4f5bb03f4badf308bde5",
       "version_major": 2,
       "version_minor": 0
      },
      "text/plain": [
       "  0%|          | 0/2711 [00:00<?, ?it/s]"
      ]
     },
     "metadata": {},
     "output_type": "display_data"
    }
   ],
   "source": [
    "use_prior = True\n",
    "y_true, prediction = [], []\n",
    "running = list(test_data.items())\n",
    "for doc, doc_data in tqdm(running):\n",
    "    y_true.append(doc_data[0][0])\n",
    "    pred = dict([(o, []) for o in range(1, 6)])\n",
    "    for option in range(1, 6):\n",
    "        prior = np.log(stars_p.loc[option].p)\n",
    "        likelihoods = []\n",
    "        norms = []\n",
    "        for _, category, adjective, noun in doc_data:\n",
    "            try:\n",
    "                likelihood = np.log(cat_an_p_stars.loc[(option, category, adjective, noun)].p)\n",
    "            except KeyError:\n",
    "                likelihood = np.log(0.00001)\n",
    "            try:\n",
    "                norm = np.log(cat_an_p.loc[(category, adjective, noun)].p)\n",
    "            except KeyError:\n",
    "                norm = np.log(0.00001)\n",
    "            likelihoods.append(likelihood)\n",
    "            norms.append(norm)\n",
    "        if use_prior:\n",
    "            pred[option] = (prior + np.sum(likelihoods)) - np.sum(norms)\n",
    "        else:\n",
    "            pred[option] = np.sum(likelihoods) - np.sum(norms)\n",
    "    prediction.append(pred)\n",
    "prediction = pd.DataFrame(prediction)"
   ]
  },
  {
   "cell_type": "code",
   "execution_count": 65,
   "id": "5898292d",
   "metadata": {},
   "outputs": [],
   "source": [
    "y_pred = prediction.idxmax(axis=\"columns\").astype(int)"
   ]
  },
  {
   "cell_type": "markdown",
   "id": "113756f0",
   "metadata": {},
   "source": [
    "#### Evaluation"
   ]
  },
  {
   "cell_type": "code",
   "execution_count": 66,
   "id": "069f618d",
   "metadata": {},
   "outputs": [],
   "source": [
    "from sklearn.metrics import classification_report, confusion_matrix, ConfusionMatrixDisplay"
   ]
  },
  {
   "cell_type": "code",
   "execution_count": 67,
   "id": "3bddb973",
   "metadata": {},
   "outputs": [
    {
     "name": "stdout",
     "output_type": "stream",
     "text": [
      "              precision    recall  f1-score   support\n",
      "\n",
      "           1       0.41      0.14      0.20       389\n",
      "           2       0.21      0.12      0.15       223\n",
      "           3       0.18      0.09      0.12       324\n",
      "           4       0.31      0.13      0.18       647\n",
      "           5       0.45      0.80      0.57      1128\n",
      "\n",
      "    accuracy                           0.41      2711\n",
      "   macro avg       0.31      0.26      0.25      2711\n",
      "weighted avg       0.36      0.41      0.34      2711\n",
      "\n"
     ]
    }
   ],
   "source": [
    "print(classification_report(y_true, y_pred))"
   ]
  },
  {
   "cell_type": "code",
   "execution_count": 68,
   "id": "c4dc30b1",
   "metadata": {},
   "outputs": [
    {
     "data": {
      "image/png": "[encoded data removed]",
      "text/plain": [
       "<Figure size 432x432 with 1 Axes>"
      ]
     },
     "metadata": {
      "needs_background": "light"
     },
     "output_type": "display_data"
    }
   ],
   "source": [
    "cm = confusion_matrix(y_true, y_pred)\n",
    "cmd = ConfusionMatrixDisplay(cm)\n",
    "fig, ax = plt.subplots(figsize=(6, 6))\n",
    "cmd.plot(ax=ax, cmap='Blues', colorbar=False)\n",
    "plt.tight_layout()\n",
    "plt.show()"
   ]
  },
  {
   "cell_type": "markdown",
   "id": "ef87c393",
   "metadata": {},
   "source": [
    "## Born\n",
    "[https://eguidotti.github.io/bornrule/](https://eguidotti.github.io/bornrule/)"
   ]
  },
  {
   "cell_type": "code",
   "execution_count": 69,
   "id": "f9699472",
   "metadata": {},
   "outputs": [],
   "source": [
    "from bornrule import BornClassifier"
   ]
  },
  {
   "cell_type": "markdown",
   "id": "7d2aaa57",
   "metadata": {},
   "source": [
    "### Learn adj-noun relation with number of stars"
   ]
  },
  {
   "cell_type": "code",
   "execution_count": 78,
   "id": "d4aee780",
   "metadata": {},
   "outputs": [],
   "source": [
    "pseudo_docs, y = [], S.stars.values\n",
    "categories, adjs, nouns = S.category.values, S.adj.values, S.noun.values\n",
    "for i, cat in enumerate(categories):\n",
    "    doc = \"{}|{} {}\".format(cat, adjs[i], nouns[i])\n",
    "    pseudo_docs.append(doc)"
   ]
  },
  {
   "cell_type": "code",
   "execution_count": 81,
   "id": "286b80b8",
   "metadata": {},
   "outputs": [],
   "source": [
    "from sklearn.feature_extraction.text import TfidfVectorizer"
   ]
  },
  {
   "cell_type": "code",
   "execution_count": 82,
   "id": "251bb67f",
   "metadata": {},
   "outputs": [],
   "source": [
    "vectorizer = TfidfVectorizer(tokenizer=lambda x: x.split('|'))\n",
    "X = vectorizer.fit_transform(pseudo_docs).toarray() # dense to sparse"
   ]
  },
  {
   "cell_type": "code",
   "execution_count": 83,
   "id": "eabccc6d",
   "metadata": {},
   "outputs": [],
   "source": [
    "X_train, X_test, y_train, y_test = train_test_split(X, y, test_size=0.2, random_state=42)"
   ]
  },
  {
   "cell_type": "code",
   "execution_count": 85,
   "id": "8792b8d5",
   "metadata": {},
   "outputs": [
    {
     "name": "stdout",
     "output_type": "stream",
     "text": [
      "['- \\\\/' '- alcoholic' '- bar' '- barman' '- beer' '- boyfriend' '- cafe'\n",
      " '- car' '- certificate' '- chain']\n"
     ]
    }
   ],
   "source": [
    "features = vectorizer.get_feature_names_out()\n",
    "print(features[:10])"
   ]
  },
  {
   "cell_type": "code",
   "execution_count": 86,
   "id": "7428f661",
   "metadata": {},
   "outputs": [],
   "source": [
    "BC = BornClassifier()"
   ]
  },
  {
   "cell_type": "code",
   "execution_count": 87,
   "id": "62047a75",
   "metadata": {},
   "outputs": [
    {
     "data": {
      "text/plain": [
       "BornClassifier()"
      ]
     },
     "execution_count": 87,
     "metadata": {},
     "output_type": "execute_result"
    }
   ],
   "source": [
    "BC.fit(X_train, y_train)"
   ]
  },
  {
   "cell_type": "code",
   "execution_count": 88,
   "id": "36d40d8b",
   "metadata": {},
   "outputs": [],
   "source": [
    "y_pred = BC.predict(X_test)"
   ]
  },
  {
   "cell_type": "code",
   "execution_count": 91,
   "id": "04c90cfc",
   "metadata": {},
   "outputs": [
    {
     "name": "stdout",
     "output_type": "stream",
     "text": [
      "              precision    recall  f1-score   support\n",
      "\n",
      "           1       0.72      0.84      0.77      2467\n",
      "           2       0.63      0.82      0.71      1980\n",
      "           3       0.65      0.79      0.71      2686\n",
      "           4       0.80      0.73      0.76      4985\n",
      "           5       0.89      0.75      0.82      7542\n",
      "\n",
      "    accuracy                           0.77     19660\n",
      "   macro avg       0.74      0.78      0.76     19660\n",
      "weighted avg       0.79      0.77      0.77     19660\n",
      "\n"
     ]
    }
   ],
   "source": [
    "print(classification_report(y_test, y_pred))"
   ]
  },
  {
   "cell_type": "code",
   "execution_count": 95,
   "id": "3ddb550d",
   "metadata": {},
   "outputs": [],
   "source": [
    "E = pd.DataFrame(BC.explain(), index=features, columns=[str(x) for x in range(1, 6)])"
   ]
  },
  {
   "cell_type": "code",
   "execution_count": 103,
   "id": "33d06933",
   "metadata": {},
   "outputs": [
    {
     "data": {
      "text/html": [
       "<div>\n",
       "<style scoped>\n",
       "    .dataframe tbody tr th:only-of-type {\n",
       "        vertical-align: middle;\n",
       "    }\n",
       "\n",
       "    .dataframe tbody tr th {\n",
       "        vertical-align: top;\n",
       "    }\n",
       "\n",
       "    .dataframe thead th {\n",
       "        text-align: right;\n",
       "    }\n",
       "</style>\n",
       "<table border=\"1\" class=\"dataframe\">\n",
       "  <thead>\n",
       "    <tr style=\"text-align: right;\">\n",
       "      <th></th>\n",
       "      <th>1</th>\n",
       "      <th>2</th>\n",
       "      <th>3</th>\n",
       "      <th>4</th>\n",
       "      <th>5</th>\n",
       "    </tr>\n",
       "  </thead>\n",
       "  <tbody>\n",
       "    <tr>\n",
       "      <th>general dentistry</th>\n",
       "      <td>0.000000</td>\n",
       "      <td>0.0</td>\n",
       "      <td>0.0</td>\n",
       "      <td>0.000000</td>\n",
       "      <td>0.033619</td>\n",
       "    </tr>\n",
       "    <tr>\n",
       "      <th>cosmetic dentists</th>\n",
       "      <td>0.000000</td>\n",
       "      <td>0.0</td>\n",
       "      <td>0.0</td>\n",
       "      <td>0.000000</td>\n",
       "      <td>0.029356</td>\n",
       "    </tr>\n",
       "    <tr>\n",
       "      <th>yoga</th>\n",
       "      <td>0.000000</td>\n",
       "      <td>0.0</td>\n",
       "      <td>0.0</td>\n",
       "      <td>0.000000</td>\n",
       "      <td>0.028494</td>\n",
       "    </tr>\n",
       "    <tr>\n",
       "      <th>massage</th>\n",
       "      <td>0.011796</td>\n",
       "      <td>0.0</td>\n",
       "      <td>0.0</td>\n",
       "      <td>0.000000</td>\n",
       "      <td>0.027858</td>\n",
       "    </tr>\n",
       "    <tr>\n",
       "      <th>much fun</th>\n",
       "      <td>0.000000</td>\n",
       "      <td>0.0</td>\n",
       "      <td>0.0</td>\n",
       "      <td>0.000000</td>\n",
       "      <td>0.023738</td>\n",
       "    </tr>\n",
       "    <tr>\n",
       "      <th>outstanding food</th>\n",
       "      <td>0.000000</td>\n",
       "      <td>0.0</td>\n",
       "      <td>0.0</td>\n",
       "      <td>0.000000</td>\n",
       "      <td>0.023697</td>\n",
       "    </tr>\n",
       "    <tr>\n",
       "      <th>awesome service</th>\n",
       "      <td>0.000000</td>\n",
       "      <td>0.0</td>\n",
       "      <td>0.0</td>\n",
       "      <td>0.000000</td>\n",
       "      <td>0.023032</td>\n",
       "    </tr>\n",
       "    <tr>\n",
       "      <th>orthodontists</th>\n",
       "      <td>0.000000</td>\n",
       "      <td>0.0</td>\n",
       "      <td>0.0</td>\n",
       "      <td>0.000000</td>\n",
       "      <td>0.022122</td>\n",
       "    </tr>\n",
       "    <tr>\n",
       "      <th>typical izakaya</th>\n",
       "      <td>0.000000</td>\n",
       "      <td>0.0</td>\n",
       "      <td>0.0</td>\n",
       "      <td>0.000000</td>\n",
       "      <td>0.022066</td>\n",
       "    </tr>\n",
       "    <tr>\n",
       "      <th>dentists</th>\n",
       "      <td>0.004274</td>\n",
       "      <td>0.0</td>\n",
       "      <td>0.0</td>\n",
       "      <td>0.010745</td>\n",
       "      <td>0.021960</td>\n",
       "    </tr>\n",
       "  </tbody>\n",
       "</table>\n",
       "</div>"
      ],
      "text/plain": [
       "                          1    2    3         4         5\n",
       "general dentistry  0.000000  0.0  0.0  0.000000  0.033619\n",
       "cosmetic dentists  0.000000  0.0  0.0  0.000000  0.029356\n",
       "yoga               0.000000  0.0  0.0  0.000000  0.028494\n",
       "massage            0.011796  0.0  0.0  0.000000  0.027858\n",
       "much fun           0.000000  0.0  0.0  0.000000  0.023738\n",
       "outstanding food   0.000000  0.0  0.0  0.000000  0.023697\n",
       "awesome service    0.000000  0.0  0.0  0.000000  0.023032\n",
       "orthodontists      0.000000  0.0  0.0  0.000000  0.022122\n",
       "typical izakaya    0.000000  0.0  0.0  0.000000  0.022066\n",
       "dentists           0.004274  0.0  0.0  0.010745  0.021960"
      ]
     },
     "execution_count": 103,
     "metadata": {},
     "output_type": "execute_result"
    }
   ],
   "source": [
    "E.sort_values('5', ascending=False).head(10)"
   ]
  },
  {
   "cell_type": "code",
   "execution_count": null,
   "id": "f1fd898c",
   "metadata": {},
   "outputs": [],
   "source": []
  }
 ],
 "metadata": {
  "kernelspec": {
   "display_name": "Python 3 (ipykernel)",
   "language": "python",
   "name": "python3"
  },
  "language_info": {
   "codemirror_mode": {
    "name": "ipython",
    "version": 3
   },
   "file_extension": ".py",
   "mimetype": "text/x-python",
   "name": "python",
   "nbconvert_exporter": "python",
   "pygments_lexer": "ipython3",
   "version": "3.8.8"
  },
  "toc": {
   "base_numbering": 1,
   "nav_menu": {},
   "number_sections": true,
   "sideBar": true,
   "skip_h1_title": false,
   "title_cell": "Table of Contents",
   "title_sidebar": "Contents",
   "toc_cell": false,
   "toc_position": {},
   "toc_section_display": true,
   "toc_window_display": false
  }
 },
 "nbformat": 4,
 "nbformat_minor": 5
}

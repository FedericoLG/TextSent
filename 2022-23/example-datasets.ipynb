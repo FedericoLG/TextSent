{
 "cells": [
  {
   "cell_type": "markdown",
   "id": "094cc064",
   "metadata": {},
   "source": [
    "# Datasets that can be used as running examples"
   ]
  },
  {
   "cell_type": "code",
   "execution_count": null,
   "id": "03ea6490",
   "metadata": {},
   "outputs": [],
   "source": [
    "import pandas as pd\n",
    "import numpy as np\n",
    "from tqdm.notebook import tqdm"
   ]
  },
  {
   "cell_type": "markdown",
   "id": "403c5b7b",
   "metadata": {},
   "source": [
    "## News on twitter\n",
    "Collected by [academic tweet developer](https://developer.twitter.com/en/products/twitter-api/academic-research) api from **Uk and Us newspaper** feeds from **23 Dec 2022** to **5 Jan 2023** "
   ]
  },
  {
   "cell_type": "code",
   "execution_count": 1,
   "id": "d67cc5df",
   "metadata": {},
   "outputs": [],
   "source": [
    "import os, json"
   ]
  },
  {
   "cell_type": "code",
   "execution_count": 7,
   "id": "fa5bd4a3",
   "metadata": {},
   "outputs": [],
   "source": [
    "tweets = []\n",
    "folder = '/Users/flint/Data/twitter/uk-us-newspapers/'\n",
    "for file_name in os.listdir(folder):\n",
    "    if file_name.endswith('.json'):\n",
    "        with open(os.path.join(folder, file_name), 'r') as infile:\n",
    "            jdata = json.load(infile)\n",
    "            tweets += jdata"
   ]
  },
  {
   "cell_type": "code",
   "execution_count": 9,
   "id": "4bd9deef",
   "metadata": {},
   "outputs": [
    {
     "data": {
      "text/plain": [
       "(25825,\n",
       " {'edit_history_tweet_ids': ['1608602423198638080'],\n",
       "  'possibly_sensitive': False,\n",
       "  'author_id': '111556423',\n",
       "  'text': 'Time magazine mocked for saying that EXERCISE is racist https://t.co/DkhCUdtVTE',\n",
       "  'created_at': '2022-12-29T23:14:38.000Z',\n",
       "  'id': '1608602423198638080',\n",
       "  'public_metrics': {'retweet_count': 6,\n",
       "   'reply_count': 4,\n",
       "   'like_count': 23,\n",
       "   'quote_count': 1,\n",
       "   'impression_count': 6310},\n",
       "  'timeline': 'DailyMailUK'})"
      ]
     },
     "execution_count": 9,
     "metadata": {},
     "output_type": "execute_result"
    }
   ],
   "source": [
    "len(tweets), tweets[0]"
   ]
  },
  {
   "cell_type": "markdown",
   "id": "99896371",
   "metadata": {},
   "source": [
    "## YELP review\n",
    "[YELP dataset](https://www.yelp.com/dataset)"
   ]
  },
  {
   "cell_type": "code",
   "execution_count": null,
   "id": "51df5317",
   "metadata": {},
   "outputs": [],
   "source": [
    "from sqlalchemy import create_engine\n",
    "import json"
   ]
  },
  {
   "cell_type": "code",
   "execution_count": null,
   "id": "f6fc51dc",
   "metadata": {},
   "outputs": [],
   "source": [
    "with open('/Users/flint/Data/postgresql/conf.json', 'r') as conf_file:\n",
    "    conf = json.load(conf_file)"
   ]
  },
  {
   "cell_type": "code",
   "execution_count": null,
   "id": "cb2c4194",
   "metadata": {},
   "outputs": [],
   "source": [
    "engine = create_engine('postgresql+psycopg2://postgres:{}@localhost/nlp'.format(conf['psw']))"
   ]
  },
  {
   "cell_type": "code",
   "execution_count": null,
   "id": "aa299187",
   "metadata": {},
   "outputs": [],
   "source": [
    "sql = \"SELECT * FROM yelp.textclip T JOIN yelp.review R ON T.id = R.clip LIMIT 5000\"\n",
    "reviews = pd.read_sql(sql, engine)"
   ]
  },
  {
   "cell_type": "code",
   "execution_count": null,
   "id": "fc8808b6",
   "metadata": {},
   "outputs": [],
   "source": [
    "reviews.head()"
   ]
  },
  {
   "cell_type": "markdown",
   "id": "2c43433e",
   "metadata": {},
   "source": [
    "### Categories"
   ]
  },
  {
   "cell_type": "code",
   "execution_count": null,
   "id": "bddcd346",
   "metadata": {},
   "outputs": [],
   "source": [
    "business = \"(\" + \", \".join([\"'{}'\".format(bid) for bid in reviews.business.unique()]) + \")\"\n",
    "sql = \"SELECT * FROM yelp.incat C WHERE C.business IN {}\".format(business)\n",
    "cat = pd.read_sql(sql, engine)"
   ]
  },
  {
   "cell_type": "code",
   "execution_count": null,
   "id": "8070c4d4",
   "metadata": {},
   "outputs": [],
   "source": [
    "cat.head()"
   ]
  },
  {
   "cell_type": "code",
   "execution_count": null,
   "id": "cf8af4df",
   "metadata": {},
   "outputs": [],
   "source": []
  },
  {
   "cell_type": "markdown",
   "id": "423e4be9",
   "metadata": {},
   "source": [
    "## ucberkeley-dlab/measuring-hate-speech\n",
    "[dataset](https://huggingface.co/datasets/ucberkeley-dlab/measuring-hate-speech)\n",
    "\n",
    "> Kennedy, C. J., Bacon, G., Sahn, A., & von Vacano, C. (2020). Constructing interval variables via faceted Rasch measurement and multitask deep learning: a hate speech application. arXiv preprint arXiv:2009.10277."
   ]
  },
  {
   "cell_type": "code",
   "execution_count": null,
   "id": "63445c2d",
   "metadata": {},
   "outputs": [],
   "source": [
    "from datasets import load_dataset"
   ]
  },
  {
   "cell_type": "code",
   "execution_count": null,
   "id": "26453314",
   "metadata": {},
   "outputs": [],
   "source": [
    "dataset = load_dataset('ucberkeley-dlab/measuring-hate-speech', 'binary')   \n",
    "df = dataset['train'].to_pandas()\n",
    "df.describe()"
   ]
  },
  {
   "cell_type": "code",
   "execution_count": null,
   "id": "665ee6e2",
   "metadata": {},
   "outputs": [],
   "source": [
    "df.head()"
   ]
  },
  {
   "cell_type": "code",
   "execution_count": null,
   "id": "ab19b9f5",
   "metadata": {},
   "outputs": [],
   "source": [
    "for column, dtype in df.dtypes.items():\n",
    "    print(column, dtype)"
   ]
  },
  {
   "cell_type": "code",
   "execution_count": null,
   "id": "4897d4bc",
   "metadata": {},
   "outputs": [],
   "source": [
    "df.loc[0].text"
   ]
  },
  {
   "cell_type": "code",
   "execution_count": null,
   "id": "fd9512af",
   "metadata": {},
   "outputs": [],
   "source": []
  }
 ],
 "metadata": {
  "kernelspec": {
   "display_name": "crike",
   "language": "python",
   "name": "crike"
  },
  "language_info": {
   "codemirror_mode": {
    "name": "ipython",
    "version": 3
   },
   "file_extension": ".py",
   "mimetype": "text/x-python",
   "name": "python",
   "nbconvert_exporter": "python",
   "pygments_lexer": "ipython3",
   "version": "3.8.8"
  },
  "toc": {
   "base_numbering": 1,
   "nav_menu": {},
   "number_sections": true,
   "sideBar": true,
   "skip_h1_title": false,
   "title_cell": "Table of Contents",
   "title_sidebar": "Contents",
   "toc_cell": false,
   "toc_position": {},
   "toc_section_display": true,
   "toc_window_display": false
  }
 },
 "nbformat": 4,
 "nbformat_minor": 5
}

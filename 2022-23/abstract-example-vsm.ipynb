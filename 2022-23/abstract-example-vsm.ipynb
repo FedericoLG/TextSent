{
 "cells": [
  {
   "cell_type": "markdown",
   "id": "e33d98e7",
   "metadata": {},
   "source": [
    "# Abstract example of vector space model\n",
    "We create a model for generating synthetic corpora from a limited vocabulary to illustrate the vector space model properties."
   ]
  },
  {
   "cell_type": "code",
   "execution_count": 1,
   "id": "57e6dc02",
   "metadata": {},
   "outputs": [],
   "source": [
    "import pandas as pd\n",
    "import numpy as np\n",
    "from tqdm.notebook import tqdm"
   ]
  },
  {
   "cell_type": "code",
   "execution_count": 2,
   "id": "ad831dfb",
   "metadata": {},
   "outputs": [],
   "source": [
    "def doc(vocabulary, probs=None):\n",
    "    if probs is None:\n",
    "        p = np.random.poisson(10, len(vocabulary))\n",
    "        probs = p / p.sum()\n",
    "    doclen = np.random.poisson(20)\n",
    "    document = np.random.choice(vocabulary, size=doclen, p=probs)\n",
    "    return list(document)"
   ]
  },
  {
   "cell_type": "code",
   "execution_count": 3,
   "id": "882aa384",
   "metadata": {},
   "outputs": [],
   "source": [
    "vocabulary = ['A', 'B']\n",
    "corpus = [doc(vocabulary) for i in range(1000)]\n",
    "corpus += [doc(vocabulary, np.array([.8, .2])) for i in range(1000)]\n",
    "corpus += [doc(vocabulary, np.array([.2, .8])) for i in range(1000)]"
   ]
  },
  {
   "cell_type": "markdown",
   "id": "4ea6ba7e",
   "metadata": {},
   "source": [
    "## Indexing"
   ]
  },
  {
   "cell_type": "code",
   "execution_count": 4,
   "id": "a2f1fde8",
   "metadata": {},
   "outputs": [],
   "source": [
    "import matplotlib.pyplot as plt"
   ]
  },
  {
   "cell_type": "markdown",
   "id": "72c09cb5",
   "metadata": {},
   "source": [
    "### Boolean indexing"
   ]
  },
  {
   "cell_type": "code",
   "execution_count": 5,
   "id": "deaaa473",
   "metadata": {},
   "outputs": [],
   "source": [
    "Ib = np.zeros((len(corpus), len(vocabulary)))\n",
    "for i, d in enumerate(corpus):\n",
    "    for j, w in enumerate(vocabulary):\n",
    "        if w in d:\n",
    "            Ib[i,j] = 1\n",
    "Ib = pd.DataFrame(Ib, columns=vocabulary)"
   ]
  },
  {
   "cell_type": "code",
   "execution_count": 6,
   "id": "9bd71bd3",
   "metadata": {},
   "outputs": [
    {
     "data": {
      "text/html": [
       "<div>\n",
       "<style scoped>\n",
       "    .dataframe tbody tr th:only-of-type {\n",
       "        vertical-align: middle;\n",
       "    }\n",
       "\n",
       "    .dataframe tbody tr th {\n",
       "        vertical-align: top;\n",
       "    }\n",
       "\n",
       "    .dataframe thead th {\n",
       "        text-align: right;\n",
       "    }\n",
       "</style>\n",
       "<table border=\"1\" class=\"dataframe\">\n",
       "  <thead>\n",
       "    <tr style=\"text-align: right;\">\n",
       "      <th></th>\n",
       "      <th>A</th>\n",
       "      <th>B</th>\n",
       "    </tr>\n",
       "  </thead>\n",
       "  <tbody>\n",
       "    <tr>\n",
       "      <th>0</th>\n",
       "      <td>1.0</td>\n",
       "      <td>1.0</td>\n",
       "    </tr>\n",
       "    <tr>\n",
       "      <th>1</th>\n",
       "      <td>1.0</td>\n",
       "      <td>1.0</td>\n",
       "    </tr>\n",
       "    <tr>\n",
       "      <th>2</th>\n",
       "      <td>1.0</td>\n",
       "      <td>1.0</td>\n",
       "    </tr>\n",
       "    <tr>\n",
       "      <th>3</th>\n",
       "      <td>1.0</td>\n",
       "      <td>1.0</td>\n",
       "    </tr>\n",
       "    <tr>\n",
       "      <th>4</th>\n",
       "      <td>1.0</td>\n",
       "      <td>1.0</td>\n",
       "    </tr>\n",
       "  </tbody>\n",
       "</table>\n",
       "</div>"
      ],
      "text/plain": [
       "     A    B\n",
       "0  1.0  1.0\n",
       "1  1.0  1.0\n",
       "2  1.0  1.0\n",
       "3  1.0  1.0\n",
       "4  1.0  1.0"
      ]
     },
     "execution_count": 6,
     "metadata": {},
     "output_type": "execute_result"
    }
   ],
   "source": [
    "Ib.head()"
   ]
  },
  {
   "cell_type": "code",
   "execution_count": 8,
   "id": "b423beae",
   "metadata": {
    "collapsed": true
   },
   "outputs": [
    {
     "data": {
      "image/png": "[encoded data removed]",
      "text/plain": [
       "<Figure size 1008x432 with 2 Axes>"
      ]
     },
     "metadata": {
      "needs_background": "light"
     },
     "output_type": "display_data"
    }
   ],
   "source": [
    "fig, ax = plt.subplots(figsize=(14, 6), ncols=2)\n",
    "labels = [0]*1000 + [1]*1000 + [2]*1000\n",
    "ax[0].scatter(Ib.A, Ib.B, c=labels, alpha=.4)\n",
    "#ax[1].scatter(Ic.A, Ic.B, c=y_pred, alpha=.4)\n",
    "plt.tight_layout()\n",
    "plt.show()"
   ]
  },
  {
   "cell_type": "markdown",
   "id": "87ec35ea",
   "metadata": {},
   "source": [
    "### Count indexing"
   ]
  },
  {
   "cell_type": "code",
   "execution_count": null,
   "id": "b1c8e3fd",
   "metadata": {},
   "outputs": [],
   "source": [
    "from collections import Counter"
   ]
  },
  {
   "cell_type": "code",
   "execution_count": null,
   "id": "ac9585b1",
   "metadata": {},
   "outputs": [],
   "source": [
    "Ic = np.zeros((len(corpus), len(vocabulary)))\n",
    "for i, d in enumerate(corpus):\n",
    "    for w, c in Counter(d).most_common():\n",
    "        Ic[i, vocabulary.index(w)] = c\n",
    "Ic = pd.DataFrame(Ic, columns=vocabulary)"
   ]
  },
  {
   "cell_type": "code",
   "execution_count": null,
   "id": "b2d6634e",
   "metadata": {},
   "outputs": [],
   "source": [
    "fig, ax = plt.subplots(figsize=(14, 6), ncols=2)\n",
    "labels = [0]*1000 + [1]*1000 + [2]*1000\n",
    "ax[0].scatter(Ib.A, Ib.B, c=labels, alpha=.4)\n",
    "ax[1].scatter(Ic.A, Ic.B, c=labels, alpha=.4)\n",
    "plt.tight_layout()\n",
    "plt.show()"
   ]
  },
  {
   "cell_type": "markdown",
   "id": "5f61a183",
   "metadata": {},
   "source": [
    "## Clustering"
   ]
  },
  {
   "cell_type": "code",
   "execution_count": null,
   "id": "5f4b9c84",
   "metadata": {},
   "outputs": [],
   "source": [
    "from sklearn.cluster import KMeans"
   ]
  },
  {
   "cell_type": "code",
   "execution_count": null,
   "id": "9035f067",
   "metadata": {},
   "outputs": [],
   "source": [
    "km = KMeans(n_clusters=3)\n",
    "y_pred = km.fit_predict(Ic)"
   ]
  },
  {
   "cell_type": "code",
   "execution_count": null,
   "id": "14250425",
   "metadata": {},
   "outputs": [],
   "source": [
    "fig, ax = plt.subplots(figsize=(14, 6), ncols=2)\n",
    "labels = [0]*1000 + [1]*1000 + [2]*1000\n",
    "ax[0].scatter(Ic.A, Ic.B, c=labels, alpha=.4)\n",
    "ax[1].scatter(Ic.A, Ic.B, c=y_pred, alpha=.4)\n",
    "plt.tight_layout()\n",
    "plt.show()"
   ]
  },
  {
   "cell_type": "markdown",
   "id": "a773d472",
   "metadata": {},
   "source": [
    "## Document similarity"
   ]
  },
  {
   "cell_type": "code",
   "execution_count": null,
   "id": "4f0718a0",
   "metadata": {},
   "outputs": [],
   "source": [
    "from sklearn.metrics.pairwise import euclidean_distances, cosine_distances"
   ]
  },
  {
   "cell_type": "code",
   "execution_count": null,
   "id": "577373c7",
   "metadata": {},
   "outputs": [],
   "source": [
    "query = ['B', 'B', 'B', 'B']\n",
    "vq = np.zeros(len(vocabulary))\n",
    "for w, c in Counter(query).most_common():\n",
    "    vq[vocabulary.index(w)] = c\n",
    "vq"
   ]
  },
  {
   "cell_type": "code",
   "execution_count": null,
   "id": "6b73beae",
   "metadata": {},
   "outputs": [],
   "source": [
    "Ed = euclidean_distances(vq.reshape(1, -1), Ic)[0]\n",
    "Cd = cosine_distances(vq.reshape(1, -1), Ic)[0]"
   ]
  },
  {
   "cell_type": "code",
   "execution_count": null,
   "id": "79dabcf2",
   "metadata": {},
   "outputs": [],
   "source": [
    "Eds = pd.Series(Ed, index=range(len(Ed)))\n",
    "Cds = pd.Series(Cd, index=range(len(Cd)))"
   ]
  },
  {
   "cell_type": "code",
   "execution_count": null,
   "id": "84c1d9b6",
   "metadata": {},
   "outputs": [],
   "source": [
    "top_similar = lambda i, t: list(i.sort_values()[:t].keys())"
   ]
  },
  {
   "cell_type": "code",
   "execution_count": null,
   "id": "b80f4a11",
   "metadata": {},
   "outputs": [],
   "source": [
    "for d in top_similar(Eds, 5):\n",
    "    print(\" \".join(corpus[d]))"
   ]
  },
  {
   "cell_type": "code",
   "execution_count": null,
   "id": "ec0728f7",
   "metadata": {},
   "outputs": [],
   "source": [
    "for d in top_similar(Cds, 5):\n",
    "    print(\" \".join(corpus[d]))"
   ]
  },
  {
   "cell_type": "code",
   "execution_count": null,
   "id": "539aded3",
   "metadata": {},
   "outputs": [],
   "source": []
  }
 ],
 "metadata": {
  "kernelspec": {
   "display_name": "crike",
   "language": "python",
   "name": "crike"
  },
  "language_info": {
   "codemirror_mode": {
    "name": "ipython",
    "version": 3
   },
   "file_extension": ".py",
   "mimetype": "text/x-python",
   "name": "python",
   "nbconvert_exporter": "python",
   "pygments_lexer": "ipython3",
   "version": "3.8.8"
  },
  "toc": {
   "base_numbering": 1,
   "nav_menu": {},
   "number_sections": true,
   "sideBar": true,
   "skip_h1_title": false,
   "title_cell": "Table of Contents",
   "title_sidebar": "Contents",
   "toc_cell": false,
   "toc_position": {},
   "toc_section_display": true,
   "toc_window_display": false
  }
 },
 "nbformat": 4,
 "nbformat_minor": 5
}

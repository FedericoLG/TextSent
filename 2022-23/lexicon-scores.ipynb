{
 "cells": [
  {
   "cell_type": "markdown",
   "id": "cb4c0689",
   "metadata": {},
   "source": [
    "# Use lexicon-based sentiment to classify documents\n",
    "In this example, we try to classify documents by exploiting lexicon-based sentiment scores combined with tfidf in order to vectorize documents."
   ]
  },
  {
   "cell_type": "code",
   "execution_count": 1,
   "id": "bfdc0fbb",
   "metadata": {},
   "outputs": [],
   "source": [
    "import pandas as pd\n",
    "import numpy as np\n",
    "from tqdm.notebook import tqdm"
   ]
  },
  {
   "cell_type": "markdown",
   "id": "ae0e3ada",
   "metadata": {},
   "source": [
    "## Collect some data"
   ]
  },
  {
   "cell_type": "code",
   "execution_count": 2,
   "id": "f5f4cb9f",
   "metadata": {},
   "outputs": [],
   "source": [
    "import json"
   ]
  },
  {
   "cell_type": "code",
   "execution_count": 3,
   "id": "6c4ccd0e",
   "metadata": {},
   "outputs": [],
   "source": [
    "review_data_file = '../lexicon/data/yelp_sample.json'\n",
    "with open(review_data_file, 'r') as infile:\n",
    "    R = json.load(infile)"
   ]
  },
  {
   "cell_type": "code",
   "execution_count": 4,
   "id": "81560fd5",
   "metadata": {},
   "outputs": [
    {
     "data": {
      "text/plain": [
       "10000"
      ]
     },
     "execution_count": 4,
     "metadata": {},
     "output_type": "execute_result"
    }
   ],
   "source": [
    "len(R)"
   ]
  },
  {
   "cell_type": "code",
   "execution_count": 5,
   "id": "d9502030",
   "metadata": {},
   "outputs": [
    {
     "data": {
      "text/plain": [
       "{'content': \"Red, white and bleu salad was super yum and a great addition to the menu! This location was clean with great service and food served at just the right temps! Kids pizza is always a hit too with lots of great side dish options for the kiddos! When I'm on this side of town, this will definitely be a spot I'll hit up again!\",\n",
       " 'date': '2014-02-17',\n",
       " 'stars': 4,\n",
       " 'useful': 1,\n",
       " 'funny': 0,\n",
       " 'cool': 0,\n",
       " 'business': 'Ue6-WhXvI-_1xUIuapl0zQ',\n",
       " 'id': '----X0BIDP9tA49U3RvdSQ',\n",
       " 'categories': ['American (Traditional)', 'Burgers', 'Restaurants']}"
      ]
     },
     "execution_count": 5,
     "metadata": {},
     "output_type": "execute_result"
    }
   ],
   "source": [
    "R[0]"
   ]
  },
  {
   "cell_type": "markdown",
   "id": "b3f3fb3c",
   "metadata": {},
   "source": [
    "## Task: guess the number of stars for each review"
   ]
  },
  {
   "cell_type": "code",
   "execution_count": 6,
   "id": "ccb6c318",
   "metadata": {},
   "outputs": [
    {
     "data": {
      "text/plain": [
       "{1, 2, 3, 4, 5}"
      ]
     },
     "execution_count": 6,
     "metadata": {},
     "output_type": "execute_result"
    }
   ],
   "source": [
    "target_values = set([doc['stars'] for doc in R])\n",
    "target_values"
   ]
  },
  {
   "cell_type": "markdown",
   "id": "0a3dfd47",
   "metadata": {},
   "source": [
    "## TfIdf Indexing"
   ]
  },
  {
   "cell_type": "code",
   "execution_count": 7,
   "id": "f666165f",
   "metadata": {},
   "outputs": [],
   "source": [
    "from nltk.tokenize import word_tokenize\n",
    "from string import punctuation\n",
    "from sklearn.feature_extraction.text import TfidfVectorizer\n",
    "from sklearn.preprocessing import MinMaxScaler"
   ]
  },
  {
   "cell_type": "markdown",
   "id": "f8f62ba2",
   "metadata": {},
   "source": [
    "### Reduce number of documents and number of features"
   ]
  },
  {
   "cell_type": "code",
   "execution_count": 8,
   "id": "a3061245",
   "metadata": {},
   "outputs": [],
   "source": [
    "import spacy\n",
    "nlp = spacy.load('en_core_web_lg')"
   ]
  },
  {
   "cell_type": "code",
   "execution_count": 9,
   "id": "ed76ae79",
   "metadata": {},
   "outputs": [
    {
     "data": {
      "application/vnd.jupyter.widget-view+json": {
       "model_id": "ea594247d3a14a59a6bb049b383d6771",
       "version_major": 2,
       "version_minor": 0
      },
      "text/plain": [
       "  0%|          | 0/4000 [00:00<?, ?it/s]"
      ]
     },
     "metadata": {},
     "output_type": "display_data"
    }
   ],
   "source": [
    "R = R[:4000]\n",
    "lemmatized_docs = [] \n",
    "for text in tqdm(R):\n",
    "    content = nlp(text['content'])\n",
    "    tokens = []\n",
    "    for sent in content.sents:\n",
    "        for token in sent:\n",
    "            if token.pos_ in {'ADJ', 'ADV', 'NOUN', 'VERB', 'PNOUN'}:\n",
    "                tokens.append(token.lemma_.lower())\n",
    "    lemmatized_docs.append(\" \".join(tokens))"
   ]
  },
  {
   "cell_type": "code",
   "execution_count": 10,
   "id": "b88932b8",
   "metadata": {},
   "outputs": [
    {
     "data": {
      "text/plain": [
       "'eat momo crawl good lot so decide eat restaurant mutton thali equally good'"
      ]
     },
     "execution_count": 10,
     "metadata": {},
     "output_type": "execute_result"
    }
   ],
   "source": [
    "lemmatized_docs[1]"
   ]
  },
  {
   "cell_type": "code",
   "execution_count": 11,
   "id": "a6f2e8d7",
   "metadata": {},
   "outputs": [],
   "source": [
    "vectorizer = TfidfVectorizer(tokenizer=lambda x: x.split())\n",
    "X = vectorizer.fit_transform(lemmatized_docs).toarray() # dense to sparse\n",
    "y = [x['stars'] for x in R]"
   ]
  },
  {
   "cell_type": "code",
   "execution_count": 12,
   "id": "71a00484",
   "metadata": {},
   "outputs": [],
   "source": [
    "features = vectorizer.get_feature_names_out()"
   ]
  },
  {
   "cell_type": "code",
   "execution_count": 13,
   "id": "0653bed6",
   "metadata": {},
   "outputs": [
    {
     "data": {
      "text/plain": [
       "array(['3rd', '3star', '40', '400th', '40th', '45min', '45minute', '48th',\n",
       "       '4\\\\/5', '4am'], dtype=object)"
      ]
     },
     "execution_count": 13,
     "metadata": {},
     "output_type": "execute_result"
    }
   ],
   "source": [
    "features[100:110]"
   ]
  },
  {
   "cell_type": "code",
   "execution_count": 14,
   "id": "f467c031",
   "metadata": {},
   "outputs": [
    {
     "data": {
      "text/plain": [
       "(4000, 11345)"
      ]
     },
     "execution_count": 14,
     "metadata": {},
     "output_type": "execute_result"
    }
   ],
   "source": [
    "X.shape"
   ]
  },
  {
   "cell_type": "markdown",
   "id": "2c47f1fd",
   "metadata": {},
   "source": [
    "## Sentiment polarity"
   ]
  },
  {
   "cell_type": "markdown",
   "id": "60924246",
   "metadata": {},
   "source": [
    "### SentiWordnet\n",
    "In this example we just get the mean of polarities for all the synsets associated with a word."
   ]
  },
  {
   "cell_type": "code",
   "execution_count": 15,
   "id": "9b254ec5",
   "metadata": {},
   "outputs": [],
   "source": [
    "from nltk.corpus import wordnet as wn\n",
    "from nltk.corpus import sentiwordnet as swn"
   ]
  },
  {
   "cell_type": "code",
   "execution_count": 16,
   "id": "7b4b4fbd",
   "metadata": {},
   "outputs": [],
   "source": [
    "def sentiwn_score(word):\n",
    "    synsets = list(swn.senti_synsets(word))\n",
    "    score = 0.0\n",
    "    if len(synsets) > 0:\n",
    "        polarity = pd.DataFrame([{'pos': sw.pos_score(), \n",
    "                                  'neg': sw.neg_score(), \n",
    "                                  'obj': sw.obj_score()} for sw in synsets])\n",
    "        avg_polarity = polarity.mean()\n",
    "        score = (avg_polarity['pos'] + avg_polarity['obj']) - (avg_polarity['neg'] + avg_polarity['obj'])\n",
    "    return score"
   ]
  },
  {
   "cell_type": "code",
   "execution_count": 17,
   "id": "74bcb33d",
   "metadata": {},
   "outputs": [
    {
     "data": {
      "application/vnd.jupyter.widget-view+json": {
       "model_id": "0fe4eb4ede46452fb7276723453f2bd0",
       "version_major": 2,
       "version_minor": 0
      },
      "text/plain": [
       "  0%|          | 0/11345 [00:00<?, ?it/s]"
      ]
     },
     "metadata": {},
     "output_type": "display_data"
    }
   ],
   "source": [
    "scores = []\n",
    "for word in tqdm(features):\n",
    "    scores.append(sentiwn_score(word))\n",
    "scores = np.array(scores)"
   ]
  },
  {
   "cell_type": "markdown",
   "id": "b5952fb0",
   "metadata": {},
   "source": [
    "### Combine scores with TfIdf"
   ]
  },
  {
   "cell_type": "code",
   "execution_count": 18,
   "id": "d1a579e3",
   "metadata": {},
   "outputs": [],
   "source": [
    "Xsw = X * scores"
   ]
  },
  {
   "cell_type": "markdown",
   "id": "06e76b3b",
   "metadata": {},
   "source": [
    "### Vader\n",
    "See [https://github.com/cjhutto/vaderSentiment](https://github.com/cjhutto/vaderSentiment).\n",
    "\n",
    "Vader can be used either for scoring single words, or for getting a comprehensive score for the whole text document (i.e., `compound score`). In the folowing we see and example of sentence score evaluation."
   ]
  },
  {
   "cell_type": "code",
   "execution_count": 19,
   "id": "ae267a7d",
   "metadata": {},
   "outputs": [],
   "source": [
    "from nltk.tokenize import sent_tokenize\n",
    "from vaderSentiment.vaderSentiment import SentimentIntensityAnalyzer"
   ]
  },
  {
   "cell_type": "code",
   "execution_count": 21,
   "id": "3b3dffbd",
   "metadata": {},
   "outputs": [
    {
     "name": "stdout",
     "output_type": "stream",
     "text": [
      "Red, white and bleu salad was super yum and a great addition to the menu!\n",
      "{'neg': 0.0, 'neu': 0.611, 'pos': 0.389, 'compound': 0.8516}\n",
      "===============\n",
      "This location was clean with great service and food served at just the right temps!\n",
      "{'neg': 0.0, 'neu': 0.647, 'pos': 0.353, 'compound': 0.7959}\n",
      "===============\n",
      "Kids pizza is always a hit too with lots of great side dish options for the kiddos!\n",
      "{'neg': 0.0, 'neu': 0.785, 'pos': 0.215, 'compound': 0.6588}\n",
      "===============\n",
      "When I'm on this side of town, this will definitely be a spot I'll hit up again!\n",
      "{'neg': 0.0, 'neu': 0.842, 'pos': 0.158, 'compound': 0.4574}\n",
      "===============\n"
     ]
    }
   ],
   "source": [
    "analyzer = SentimentIntensityAnalyzer()\n",
    "doc = R[0]['content']\n",
    "for sent in sent_tokenize(doc):\n",
    "    vs = analyzer.polarity_scores(sent)\n",
    "    print(sent)\n",
    "    print(vs)\n",
    "    print('===============')"
   ]
  },
  {
   "cell_type": "markdown",
   "id": "15e77fca",
   "metadata": {},
   "source": [
    "### TextBlob\n",
    "See [https://textblob.readthedocs.io/en/dev/](https://textblob.readthedocs.io/en/dev/).\n",
    "\n",
    "TextBlob is a NLP library that provides also some polarity facilities. Let's see an example."
   ]
  },
  {
   "cell_type": "code",
   "execution_count": 22,
   "id": "38d1627e",
   "metadata": {},
   "outputs": [],
   "source": [
    "from textblob import TextBlob"
   ]
  },
  {
   "cell_type": "code",
   "execution_count": 23,
   "id": "643261c6",
   "metadata": {},
   "outputs": [
    {
     "name": "stdout",
     "output_type": "stream",
     "text": [
      "[('Red', 'NNP'), ('white', 'JJ'), ('and', 'CC'), ('bleu', 'JJ'), ('salad', 'NN'), ('was', 'VBD'), ('super', 'JJ'), ('yum', 'NN'), ('and', 'CC'), ('a', 'DT'), ('great', 'JJ'), ('addition', 'NN'), ('to', 'TO'), ('the', 'DT'), ('menu', 'NN'), ('This', 'DT'), ('location', 'NN'), ('was', 'VBD'), ('clean', 'JJ'), ('with', 'IN'), ('great', 'JJ'), ('service', 'NN'), ('and', 'CC'), ('food', 'NN'), ('served', 'VBD'), ('at', 'IN'), ('just', 'RB'), ('the', 'DT'), ('right', 'JJ'), ('temps', 'NN'), ('Kids', 'NNP'), ('pizza', 'NN'), ('is', 'VBZ'), ('always', 'RB'), ('a', 'DT'), ('hit', 'NN'), ('too', 'RB'), ('with', 'IN'), ('lots', 'NNS'), ('of', 'IN'), ('great', 'JJ'), ('side', 'JJ'), ('dish', 'NN'), ('options', 'NNS'), ('for', 'IN'), ('the', 'DT'), ('kiddos', 'NN'), ('When', 'WRB'), ('I', 'PRP'), (\"'m\", 'VBP'), ('on', 'IN'), ('this', 'DT'), ('side', 'NN'), ('of', 'IN'), ('town', 'NN'), ('this', 'DT'), ('will', 'MD'), ('definitely', 'RB'), ('be', 'VB'), ('a', 'DT'), ('spot', 'NN'), ('I', 'PRP'), (\"'ll\", 'MD'), ('hit', 'VB'), ('up', 'RP'), ('again', 'RB')]\n",
      "['bleu salad', 'super yum', 'great addition', 'great service', 'right temps', 'kids', 'great side dish options']\n"
     ]
    }
   ],
   "source": [
    "blob = TextBlob(R[0]['content'])\n",
    "print(blob.tags)\n",
    "print(blob.noun_phrases)"
   ]
  },
  {
   "cell_type": "code",
   "execution_count": 24,
   "id": "eaa9df27",
   "metadata": {},
   "outputs": [
    {
     "name": "stdout",
     "output_type": "stream",
     "text": [
      "Red, white and bleu salad was super yum and a great addition to the menu!\n",
      "Sentiment(polarity=0.3333333333333333, subjectivity=0.35416666666666663)\n",
      "===============\n",
      "This location was clean with great service and food served at just the right temps!\n",
      "Sentiment(polarity=0.5079365079365079, subjectivity=0.6619047619047619)\n",
      "===============\n",
      "Kids pizza is always a hit too with lots of great side dish options for the kiddos!\n",
      "Sentiment(polarity=1.0, subjectivity=0.75)\n",
      "===============\n",
      "When I'm on this side of town, this will definitely be a spot I'll hit up again!\n",
      "Sentiment(polarity=0.0, subjectivity=0.5)\n",
      "===============\n"
     ]
    }
   ],
   "source": [
    "for sent in blob.sentences:\n",
    "    print(sent)\n",
    "    print(sent.sentiment)\n",
    "    print('===============')"
   ]
  },
  {
   "cell_type": "markdown",
   "id": "5ef49a38",
   "metadata": {},
   "source": [
    "## Supervised classification (with SentiWn)"
   ]
  },
  {
   "cell_type": "code",
   "execution_count": 28,
   "id": "e095a166",
   "metadata": {},
   "outputs": [],
   "source": [
    "from sklearn.model_selection import train_test_split\n",
    "from sklearn.naive_bayes import MultinomialNB\n",
    "from sklearn.ensemble import RandomForestClassifier\n",
    "from sklearn.preprocessing import MinMaxScaler\n",
    "from sklearn.pipeline import Pipeline"
   ]
  },
  {
   "cell_type": "code",
   "execution_count": 29,
   "id": "f573dd0b",
   "metadata": {},
   "outputs": [],
   "source": [
    "X_train, X_test, y_train, y_test = train_test_split(Xsw, y, random_state=42)"
   ]
  },
  {
   "cell_type": "code",
   "execution_count": 30,
   "id": "8c1d09c9",
   "metadata": {},
   "outputs": [
    {
     "data": {
      "text/plain": [
       "RandomForestClassifier()"
      ]
     },
     "execution_count": 30,
     "metadata": {},
     "output_type": "execute_result"
    }
   ],
   "source": [
    "scls = RandomForestClassifier()\n",
    "scls.fit(X_train, y_train)"
   ]
  },
  {
   "cell_type": "code",
   "execution_count": 31,
   "id": "7c7ad3bf",
   "metadata": {},
   "outputs": [],
   "source": [
    "y_pred = scls.predict(X_test)"
   ]
  },
  {
   "cell_type": "code",
   "execution_count": 32,
   "id": "6ec84f51",
   "metadata": {},
   "outputs": [
    {
     "data": {
      "text/plain": [
       "array([5, 5, 5, 5, 5, 1, 5, 1, 5, 5])"
      ]
     },
     "execution_count": 32,
     "metadata": {},
     "output_type": "execute_result"
    }
   ],
   "source": [
    "y_pred[:10]"
   ]
  },
  {
   "cell_type": "code",
   "execution_count": 33,
   "id": "acefd987",
   "metadata": {},
   "outputs": [
    {
     "data": {
      "text/plain": [
       "(1000, 5)"
      ]
     },
     "execution_count": 33,
     "metadata": {},
     "output_type": "execute_result"
    }
   ],
   "source": [
    "P = scls.predict_proba(X_test)\n",
    "P.shape"
   ]
  },
  {
   "cell_type": "code",
   "execution_count": 34,
   "id": "fdeb38b4",
   "metadata": {},
   "outputs": [
    {
     "data": {
      "text/plain": [
       "array([0.06, 0.03, 0.08, 0.33, 0.5 ])"
      ]
     },
     "execution_count": 34,
     "metadata": {},
     "output_type": "execute_result"
    }
   ],
   "source": [
    "np.round(P[0], 3)"
   ]
  },
  {
   "cell_type": "code",
   "execution_count": 35,
   "id": "dcb3f821",
   "metadata": {},
   "outputs": [
    {
     "data": {
      "text/plain": [
       "array([0.15103, 0.06471, 0.09936, 0.23378, 0.45112])"
      ]
     },
     "execution_count": 35,
     "metadata": {},
     "output_type": "execute_result"
    }
   ],
   "source": [
    "P.mean(axis=0)"
   ]
  },
  {
   "cell_type": "markdown",
   "id": "75ce377e",
   "metadata": {},
   "source": [
    "### Evaluation"
   ]
  },
  {
   "cell_type": "code",
   "execution_count": 40,
   "id": "e4b50670",
   "metadata": {},
   "outputs": [],
   "source": [
    "import matplotlib.pyplot as plt"
   ]
  },
  {
   "cell_type": "code",
   "execution_count": 41,
   "id": "14a81154",
   "metadata": {},
   "outputs": [],
   "source": [
    "from sklearn.metrics import classification_report, confusion_matrix, ConfusionMatrixDisplay"
   ]
  },
  {
   "cell_type": "code",
   "execution_count": 42,
   "id": "09d94c85",
   "metadata": {},
   "outputs": [
    {
     "name": "stdout",
     "output_type": "stream",
     "text": [
      "              precision    recall  f1-score   support\n",
      "\n",
      "           1       0.58      0.52      0.55       146\n",
      "           2       0.00      0.00      0.00        71\n",
      "           3       0.50      0.01      0.02       116\n",
      "           4       0.36      0.18      0.24       234\n",
      "           5       0.54      0.93      0.68       433\n",
      "\n",
      "    accuracy                           0.52      1000\n",
      "   macro avg       0.39      0.33      0.30      1000\n",
      "weighted avg       0.46      0.52      0.43      1000\n",
      "\n"
     ]
    }
   ],
   "source": [
    "print(classification_report(y_test, y_pred, zero_division=0))"
   ]
  },
  {
   "cell_type": "code",
   "execution_count": 43,
   "id": "385711d3",
   "metadata": {},
   "outputs": [
    {
     "data": {
      "image/png": "[encoded data removed]",
      "text/plain": [
       "<Figure size 432x432 with 2 Axes>"
      ]
     },
     "metadata": {
      "needs_background": "light"
     },
     "output_type": "display_data"
    }
   ],
   "source": [
    "cm = confusion_matrix(y_test, y_pred, labels=list(range(1, 6)))\n",
    "display = ConfusionMatrixDisplay(cm, display_labels=list(range(1, 6)))\n",
    "fig, ax = plt.subplots(figsize=(6,6))\n",
    "display.plot(ax=ax, cmap='Blues')\n",
    "plt.tight_layout()\n",
    "plt.show()"
   ]
  },
  {
   "cell_type": "code",
   "execution_count": null,
   "id": "8bdf8b6e",
   "metadata": {},
   "outputs": [],
   "source": []
  },
  {
   "cell_type": "code",
   "execution_count": null,
   "id": "29e3f36c",
   "metadata": {},
   "outputs": [],
   "source": []
  }
 ],
 "metadata": {
  "kernelspec": {
   "display_name": "crike",
   "language": "python",
   "name": "crike"
  },
  "language_info": {
   "codemirror_mode": {
    "name": "ipython",
    "version": 3
   },
   "file_extension": ".py",
   "mimetype": "text/x-python",
   "name": "python",
   "nbconvert_exporter": "python",
   "pygments_lexer": "ipython3",
   "version": "3.8.8"
  },
  "toc": {
   "base_numbering": 1,
   "nav_menu": {},
   "number_sections": true,
   "sideBar": true,
   "skip_h1_title": false,
   "title_cell": "Table of Contents",
   "title_sidebar": "Contents",
   "toc_cell": false,
   "toc_position": {},
   "toc_section_display": true,
   "toc_window_display": false
  }
 },
 "nbformat": 4,
 "nbformat_minor": 5
}

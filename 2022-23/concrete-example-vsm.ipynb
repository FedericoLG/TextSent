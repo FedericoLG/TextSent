{
 "cells": [
  {
   "cell_type": "markdown",
   "id": "094cc064",
   "metadata": {},
   "source": [
    "# Concrete example of using VSM"
   ]
  },
  {
   "cell_type": "code",
   "execution_count": 1,
   "id": "03ea6490",
   "metadata": {},
   "outputs": [],
   "source": [
    "import pandas as pd\n",
    "import numpy as np\n",
    "from tqdm.notebook import tqdm"
   ]
  },
  {
   "cell_type": "markdown",
   "id": "99896371",
   "metadata": {},
   "source": [
    "## YELP review\n",
    "[YELP dataset](https://www.yelp.com/dataset)"
   ]
  },
  {
   "cell_type": "code",
   "execution_count": 2,
   "id": "51df5317",
   "metadata": {},
   "outputs": [],
   "source": [
    "from sqlalchemy import create_engine\n",
    "import json"
   ]
  },
  {
   "cell_type": "code",
   "execution_count": 3,
   "id": "f6fc51dc",
   "metadata": {},
   "outputs": [],
   "source": [
    "with open('/Users/flint/Data/postgresql/conf.json', 'r') as conf_file:\n",
    "    conf = json.load(conf_file)"
   ]
  },
  {
   "cell_type": "code",
   "execution_count": 4,
   "id": "cb2c4194",
   "metadata": {},
   "outputs": [],
   "source": [
    "engine = create_engine('postgresql+psycopg2://postgres:{}@localhost/nlp'.format(conf['psw']))"
   ]
  },
  {
   "cell_type": "code",
   "execution_count": 22,
   "id": "aa299187",
   "metadata": {},
   "outputs": [],
   "source": [
    "sql = \"SELECT * FROM yelp.textclip T JOIN yelp.review R ON T.id = R.clip LIMIT 2000\"\n",
    "reviews = pd.read_sql(sql, engine)"
   ]
  },
  {
   "cell_type": "code",
   "execution_count": 23,
   "id": "fc8808b6",
   "metadata": {},
   "outputs": [],
   "source": [
    "docs = list(reviews.content.values)"
   ]
  },
  {
   "cell_type": "code",
   "execution_count": 24,
   "id": "fd9512af",
   "metadata": {},
   "outputs": [
    {
     "name": "stdout",
     "output_type": "stream",
     "text": [
      "Red, white and bleu salad was super yum and a great addition to the menu! This location was clean with great service and food served at just the right temps! Kids pizza is always a hit too with lots of great side dish options for the kiddos! When I'm on this side of town, this will definitely be a spot I'll hit up again!\n"
     ]
    }
   ],
   "source": [
    "print(docs[0])"
   ]
  },
  {
   "cell_type": "code",
   "execution_count": 25,
   "id": "f77931b4",
   "metadata": {},
   "outputs": [],
   "source": [
    "from nltk import word_tokenize\n",
    "from collections import Counter"
   ]
  },
  {
   "cell_type": "code",
   "execution_count": 47,
   "id": "a5cb48c6",
   "metadata": {},
   "outputs": [],
   "source": [
    "def tokenize(text):\n",
    "    return [x.lower() for x in word_tokenize(text)]\n",
    "\n",
    "def tf(tokens):\n",
    "    count = Counter(tokens).most_common()\n",
    "    sum_c = count[0][1]\n",
    "    tfout = {}\n",
    "    for x, y in count:\n",
    "        tfout[x] = y / sum_c\n",
    "    return tfout\n",
    "\n",
    "def tfidf(tokens, idf):\n",
    "    count = Counter(tokens).most_common()\n",
    "    sum_c = count[0][1]\n",
    "    tfout = {}\n",
    "    for x, y in count:\n",
    "        tfout[x] = (y / sum_c) * idf[x]\n",
    "    return tfout"
   ]
  },
  {
   "cell_type": "code",
   "execution_count": 27,
   "id": "8e9d8b3e",
   "metadata": {},
   "outputs": [],
   "source": [
    "I = {}\n",
    "for i, doc in enumerate(docs):\n",
    "    I[i] = tf(tokenize(doc))"
   ]
  },
  {
   "cell_type": "code",
   "execution_count": 30,
   "id": "5b3822b5",
   "metadata": {},
   "outputs": [],
   "source": [
    "M = pd.DataFrame(I).T.fillna(0)"
   ]
  },
  {
   "cell_type": "code",
   "execution_count": 31,
   "id": "0825f7a1",
   "metadata": {},
   "outputs": [
    {
     "data": {
      "text/html": [
       "<div>\n",
       "<style scoped>\n",
       "    .dataframe tbody tr th:only-of-type {\n",
       "        vertical-align: middle;\n",
       "    }\n",
       "\n",
       "    .dataframe tbody tr th {\n",
       "        vertical-align: top;\n",
       "    }\n",
       "\n",
       "    .dataframe thead th {\n",
       "        text-align: right;\n",
       "    }\n",
       "</style>\n",
       "<table border=\"1\" class=\"dataframe\">\n",
       "  <thead>\n",
       "    <tr style=\"text-align: right;\">\n",
       "      <th></th>\n",
       "      <th>!</th>\n",
       "      <th>and</th>\n",
       "      <th>a</th>\n",
       "      <th>great</th>\n",
       "      <th>the</th>\n",
       "      <th>this</th>\n",
       "      <th>,</th>\n",
       "      <th>was</th>\n",
       "      <th>with</th>\n",
       "      <th>hit</th>\n",
       "      <th>...</th>\n",
       "      <th>teleflora\\/1-800</th>\n",
       "      <th>thro</th>\n",
       "      <th>abundance</th>\n",
       "      <th>omar</th>\n",
       "      <th>yolks</th>\n",
       "      <th>makers</th>\n",
       "      <th>googling</th>\n",
       "      <th>palette</th>\n",
       "      <th>maine</th>\n",
       "      <th>gimlet</th>\n",
       "    </tr>\n",
       "  </thead>\n",
       "  <tbody>\n",
       "    <tr>\n",
       "      <th>0</th>\n",
       "      <td>1.000000</td>\n",
       "      <td>0.750000</td>\n",
       "      <td>0.75</td>\n",
       "      <td>0.750000</td>\n",
       "      <td>0.750000</td>\n",
       "      <td>0.750000</td>\n",
       "      <td>0.5</td>\n",
       "      <td>0.500000</td>\n",
       "      <td>0.5</td>\n",
       "      <td>0.5</td>\n",
       "      <td>...</td>\n",
       "      <td>0.0</td>\n",
       "      <td>0.0</td>\n",
       "      <td>0.0</td>\n",
       "      <td>0.0</td>\n",
       "      <td>0.0</td>\n",
       "      <td>0.0</td>\n",
       "      <td>0.0</td>\n",
       "      <td>0.0</td>\n",
       "      <td>0.0</td>\n",
       "      <td>0.0</td>\n",
       "    </tr>\n",
       "    <tr>\n",
       "      <th>1</th>\n",
       "      <td>0.333333</td>\n",
       "      <td>0.166667</td>\n",
       "      <td>0.00</td>\n",
       "      <td>0.000000</td>\n",
       "      <td>1.000000</td>\n",
       "      <td>0.000000</td>\n",
       "      <td>0.0</td>\n",
       "      <td>0.333333</td>\n",
       "      <td>0.0</td>\n",
       "      <td>0.0</td>\n",
       "      <td>...</td>\n",
       "      <td>0.0</td>\n",
       "      <td>0.0</td>\n",
       "      <td>0.0</td>\n",
       "      <td>0.0</td>\n",
       "      <td>0.0</td>\n",
       "      <td>0.0</td>\n",
       "      <td>0.0</td>\n",
       "      <td>0.0</td>\n",
       "      <td>0.0</td>\n",
       "      <td>0.0</td>\n",
       "    </tr>\n",
       "    <tr>\n",
       "      <th>2</th>\n",
       "      <td>0.500000</td>\n",
       "      <td>0.500000</td>\n",
       "      <td>0.50</td>\n",
       "      <td>1.000000</td>\n",
       "      <td>0.000000</td>\n",
       "      <td>0.000000</td>\n",
       "      <td>0.0</td>\n",
       "      <td>0.000000</td>\n",
       "      <td>0.5</td>\n",
       "      <td>0.0</td>\n",
       "      <td>...</td>\n",
       "      <td>0.0</td>\n",
       "      <td>0.0</td>\n",
       "      <td>0.0</td>\n",
       "      <td>0.0</td>\n",
       "      <td>0.0</td>\n",
       "      <td>0.0</td>\n",
       "      <td>0.0</td>\n",
       "      <td>0.0</td>\n",
       "      <td>0.0</td>\n",
       "      <td>0.0</td>\n",
       "    </tr>\n",
       "    <tr>\n",
       "      <th>3</th>\n",
       "      <td>0.000000</td>\n",
       "      <td>0.000000</td>\n",
       "      <td>0.50</td>\n",
       "      <td>0.500000</td>\n",
       "      <td>0.000000</td>\n",
       "      <td>0.000000</td>\n",
       "      <td>0.0</td>\n",
       "      <td>0.000000</td>\n",
       "      <td>0.0</td>\n",
       "      <td>0.0</td>\n",
       "      <td>...</td>\n",
       "      <td>0.0</td>\n",
       "      <td>0.0</td>\n",
       "      <td>0.0</td>\n",
       "      <td>0.0</td>\n",
       "      <td>0.0</td>\n",
       "      <td>0.0</td>\n",
       "      <td>0.0</td>\n",
       "      <td>0.0</td>\n",
       "      <td>0.0</td>\n",
       "      <td>0.0</td>\n",
       "    </tr>\n",
       "    <tr>\n",
       "      <th>4</th>\n",
       "      <td>0.333333</td>\n",
       "      <td>0.666667</td>\n",
       "      <td>0.00</td>\n",
       "      <td>0.666667</td>\n",
       "      <td>0.333333</td>\n",
       "      <td>0.666667</td>\n",
       "      <td>1.0</td>\n",
       "      <td>0.000000</td>\n",
       "      <td>0.0</td>\n",
       "      <td>0.0</td>\n",
       "      <td>...</td>\n",
       "      <td>0.0</td>\n",
       "      <td>0.0</td>\n",
       "      <td>0.0</td>\n",
       "      <td>0.0</td>\n",
       "      <td>0.0</td>\n",
       "      <td>0.0</td>\n",
       "      <td>0.0</td>\n",
       "      <td>0.0</td>\n",
       "      <td>0.0</td>\n",
       "      <td>0.0</td>\n",
       "    </tr>\n",
       "  </tbody>\n",
       "</table>\n",
       "<p>5 rows × 14337 columns</p>\n",
       "</div>"
      ],
      "text/plain": [
       "          !       and     a     great       the      this    ,       was  \\\n",
       "0  1.000000  0.750000  0.75  0.750000  0.750000  0.750000  0.5  0.500000   \n",
       "1  0.333333  0.166667  0.00  0.000000  1.000000  0.000000  0.0  0.333333   \n",
       "2  0.500000  0.500000  0.50  1.000000  0.000000  0.000000  0.0  0.000000   \n",
       "3  0.000000  0.000000  0.50  0.500000  0.000000  0.000000  0.0  0.000000   \n",
       "4  0.333333  0.666667  0.00  0.666667  0.333333  0.666667  1.0  0.000000   \n",
       "\n",
       "   with  hit  ...  teleflora\\/1-800  thro  abundance  omar  yolks  makers  \\\n",
       "0   0.5  0.5  ...               0.0   0.0        0.0   0.0    0.0     0.0   \n",
       "1   0.0  0.0  ...               0.0   0.0        0.0   0.0    0.0     0.0   \n",
       "2   0.5  0.0  ...               0.0   0.0        0.0   0.0    0.0     0.0   \n",
       "3   0.0  0.0  ...               0.0   0.0        0.0   0.0    0.0     0.0   \n",
       "4   0.0  0.0  ...               0.0   0.0        0.0   0.0    0.0     0.0   \n",
       "\n",
       "   googling  palette  maine  gimlet  \n",
       "0       0.0      0.0    0.0     0.0  \n",
       "1       0.0      0.0    0.0     0.0  \n",
       "2       0.0      0.0    0.0     0.0  \n",
       "3       0.0      0.0    0.0     0.0  \n",
       "4       0.0      0.0    0.0     0.0  \n",
       "\n",
       "[5 rows x 14337 columns]"
      ]
     },
     "execution_count": 31,
     "metadata": {},
     "output_type": "execute_result"
    }
   ],
   "source": [
    "M.head()"
   ]
  },
  {
   "cell_type": "code",
   "execution_count": 32,
   "id": "73edad90",
   "metadata": {},
   "outputs": [
    {
     "data": {
      "text/plain": [
       "(2000, 14337)"
      ]
     },
     "execution_count": 32,
     "metadata": {},
     "output_type": "execute_result"
    }
   ],
   "source": [
    "M.shape"
   ]
  },
  {
   "cell_type": "code",
   "execution_count": 35,
   "id": "eee8f217",
   "metadata": {},
   "outputs": [
    {
     "name": "stdout",
     "output_type": "stream",
     "text": [
      "Red, white and bleu salad was super yum and a great addition to the menu! This location was clean with great service and food served at just the right temps! Kids pizza is always a hit too with lots of great side dish options for the kiddos! When I'm on this side of town, this will definitely be a spot I'll hit up again!\n"
     ]
    }
   ],
   "source": [
    "docid = 0\n",
    "print(docs[docid])"
   ]
  },
  {
   "cell_type": "code",
   "execution_count": 38,
   "id": "38cdb240",
   "metadata": {},
   "outputs": [
    {
     "data": {
      "text/plain": [
       "!        1.00\n",
       "a        0.75\n",
       "great    0.75\n",
       "the      0.75\n",
       "this     0.75\n",
       "and      0.75\n",
       "hit      0.50\n",
       "i        0.50\n",
       "of       0.50\n",
       "side     0.50\n",
       "Name: 0, dtype: float64"
      ]
     },
     "execution_count": 38,
     "metadata": {},
     "output_type": "execute_result"
    }
   ],
   "source": [
    "M.loc[docid].sort_values(ascending=False)[:10]"
   ]
  },
  {
   "cell_type": "code",
   "execution_count": 52,
   "id": "04f40c20",
   "metadata": {},
   "outputs": [],
   "source": [
    "idf = {}\n",
    "for c in M.columns:\n",
    "    df_c = np.log(M.shape[0] / len([x for x in M[c].values if x > 0]))\n",
    "    idf[c] = df_c"
   ]
  },
  {
   "cell_type": "code",
   "execution_count": 53,
   "id": "68383c3b",
   "metadata": {},
   "outputs": [
    {
     "data": {
      "text/plain": [
       "0.7011793522572095"
      ]
     },
     "execution_count": 53,
     "metadata": {},
     "output_type": "execute_result"
    }
   ],
   "source": [
    "idf['!']"
   ]
  },
  {
   "cell_type": "code",
   "execution_count": 54,
   "id": "5b60abba",
   "metadata": {},
   "outputs": [],
   "source": [
    "TfIdf = {}\n",
    "for i, doc in enumerate(docs):\n",
    "    TfIdf[i] = tfidf(tokenize(doc), idf)\n",
    "T = pd.DataFrame(TfIdf).T.fillna(0)"
   ]
  },
  {
   "cell_type": "code",
   "execution_count": 56,
   "id": "a7c33cb7",
   "metadata": {},
   "outputs": [
    {
     "data": {
      "text/plain": [
       "hit         2.052197\n",
       "kiddos      1.900226\n",
       "temps       1.553652\n",
       "bleu        1.497866\n",
       "side        1.436757\n",
       "addition    1.139095\n",
       "yum         1.105712\n",
       "white       1.011389\n",
       "lots        0.965808\n",
       "red         0.937689\n",
       "served      0.932425\n",
       "kids        0.917269\n",
       "dish        0.893888\n",
       "great       0.859278\n",
       "options     0.820854\n",
       "town        0.807864\n",
       "pizza       0.783749\n",
       "spot        0.780891\n",
       "salad       0.772511\n",
       "super       0.727389\n",
       "Name: 0, dtype: float64"
      ]
     },
     "execution_count": 56,
     "metadata": {},
     "output_type": "execute_result"
    }
   ],
   "source": [
    "T.loc[docid].sort_values(ascending=False)[:20]"
   ]
  },
  {
   "cell_type": "code",
   "execution_count": null,
   "id": "a2f19474",
   "metadata": {},
   "outputs": [],
   "source": []
  }
 ],
 "metadata": {
  "kernelspec": {
   "display_name": "crike",
   "language": "python",
   "name": "crike"
  },
  "language_info": {
   "codemirror_mode": {
    "name": "ipython",
    "version": 3
   },
   "file_extension": ".py",
   "mimetype": "text/x-python",
   "name": "python",
   "nbconvert_exporter": "python",
   "pygments_lexer": "ipython3",
   "version": "3.8.8"
  },
  "toc": {
   "base_numbering": 1,
   "nav_menu": {},
   "number_sections": true,
   "sideBar": true,
   "skip_h1_title": false,
   "title_cell": "Table of Contents",
   "title_sidebar": "Contents",
   "toc_cell": false,
   "toc_position": {},
   "toc_section_display": true,
   "toc_window_display": false
  }
 },
 "nbformat": 4,
 "nbformat_minor": 5
}

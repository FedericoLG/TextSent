{
 "cells": [
  {
   "cell_type": "markdown",
   "id": "e3dc094c",
   "metadata": {},
   "source": [
    "# Supervised and unsupervised classification overview\n",
    "Simple introduction on how classification may be useful for sentiment analysis"
   ]
  },
  {
   "cell_type": "code",
   "execution_count": 1,
   "id": "89efc249",
   "metadata": {},
   "outputs": [],
   "source": [
    "import pandas as pd\n",
    "import numpy as np\n",
    "from tqdm.notebook import tqdm"
   ]
  },
  {
   "cell_type": "markdown",
   "id": "b7a3806d",
   "metadata": {},
   "source": [
    "## Collect some data"
   ]
  },
  {
   "cell_type": "code",
   "execution_count": 2,
   "id": "87db7eb1",
   "metadata": {},
   "outputs": [],
   "source": [
    "import json"
   ]
  },
  {
   "cell_type": "code",
   "execution_count": 3,
   "id": "7aaadc9d",
   "metadata": {},
   "outputs": [],
   "source": [
    "review_data_file = '../lexicon/data/yelp_sample.json'\n",
    "with open(review_data_file, 'r') as infile:\n",
    "    R = json.load(infile)"
   ]
  },
  {
   "cell_type": "code",
   "execution_count": 6,
   "id": "eeb9cffa",
   "metadata": {},
   "outputs": [
    {
     "data": {
      "text/plain": [
       "10000"
      ]
     },
     "execution_count": 6,
     "metadata": {},
     "output_type": "execute_result"
    }
   ],
   "source": [
    "len(R)"
   ]
  },
  {
   "cell_type": "code",
   "execution_count": 5,
   "id": "85f19a6b",
   "metadata": {},
   "outputs": [
    {
     "data": {
      "text/plain": [
       "{'content': \"Red, white and bleu salad was super yum and a great addition to the menu! This location was clean with great service and food served at just the right temps! Kids pizza is always a hit too with lots of great side dish options for the kiddos! When I'm on this side of town, this will definitely be a spot I'll hit up again!\",\n",
       " 'date': '2014-02-17',\n",
       " 'stars': 4,\n",
       " 'useful': 1,\n",
       " 'funny': 0,\n",
       " 'cool': 0,\n",
       " 'business': 'Ue6-WhXvI-_1xUIuapl0zQ',\n",
       " 'id': '----X0BIDP9tA49U3RvdSQ',\n",
       " 'categories': ['American (Traditional)', 'Burgers', 'Restaurants']}"
      ]
     },
     "execution_count": 5,
     "metadata": {},
     "output_type": "execute_result"
    }
   ],
   "source": [
    "R[0]"
   ]
  },
  {
   "cell_type": "markdown",
   "id": "955d7208",
   "metadata": {},
   "source": [
    "## Task: guess the number of stars for each review"
   ]
  },
  {
   "cell_type": "code",
   "execution_count": 7,
   "id": "4cc883eb",
   "metadata": {},
   "outputs": [
    {
     "data": {
      "text/plain": [
       "{1, 2, 3, 4, 5}"
      ]
     },
     "execution_count": 7,
     "metadata": {},
     "output_type": "execute_result"
    }
   ],
   "source": [
    "target_values = set([doc['stars'] for doc in R])\n",
    "target_values"
   ]
  },
  {
   "cell_type": "markdown",
   "id": "32610ae2",
   "metadata": {},
   "source": [
    "## Indexing"
   ]
  },
  {
   "cell_type": "code",
   "execution_count": 11,
   "id": "5d640eae",
   "metadata": {},
   "outputs": [],
   "source": [
    "from nltk.tokenize import word_tokenize\n",
    "from string import punctuation\n",
    "from sklearn.feature_extraction.text import TfidfVectorizer\n",
    "from sklearn.preprocessing import MinMaxScaler"
   ]
  },
  {
   "cell_type": "code",
   "execution_count": 16,
   "id": "dc62509c",
   "metadata": {},
   "outputs": [],
   "source": [
    "def tokenize(document):\n",
    "    return [x.lower() for x in word_tokenize(document) if x not in punctuation]"
   ]
  },
  {
   "cell_type": "code",
   "execution_count": 24,
   "id": "05405b52",
   "metadata": {},
   "outputs": [],
   "source": [
    "vectorizer = TfidfVectorizer(tokenizer=tokenize)\n",
    "X = vectorizer.fit_transform([x['content'] for x in R]).toarray() # dense to sparse\n",
    "y = [x['stars'] for x in R]"
   ]
  },
  {
   "cell_type": "code",
   "execution_count": 25,
   "id": "cbce3848",
   "metadata": {},
   "outputs": [],
   "source": [
    "features = vectorizer.get_feature_names_out()"
   ]
  },
  {
   "cell_type": "code",
   "execution_count": 26,
   "id": "5815d967",
   "metadata": {},
   "outputs": [
    {
     "data": {
      "text/plain": [
       "array([\"''\", \"'08\", \"'1921\", \"'20\", \"'60\", \"'90s\", \"'against\", \"'all\",\n",
       "       \"'anti-sell\", \"'antica\"], dtype=object)"
      ]
     },
     "execution_count": 26,
     "metadata": {},
     "output_type": "execute_result"
    }
   ],
   "source": [
    "features[:10]"
   ]
  },
  {
   "cell_type": "markdown",
   "id": "3f1aae6d",
   "metadata": {},
   "source": [
    "## Unsupervised classification\n",
    "We check to what extent clustering may help"
   ]
  },
  {
   "cell_type": "code",
   "execution_count": 27,
   "id": "1316c258",
   "metadata": {},
   "outputs": [],
   "source": [
    "from sklearn.cluster import KMeans\n",
    "from sklearn.pipeline import Pipeline"
   ]
  },
  {
   "cell_type": "code",
   "execution_count": 28,
   "id": "c7605443",
   "metadata": {},
   "outputs": [],
   "source": [
    "ucls = Pipeline([('scaler', MinMaxScaler()), ('kmeans', KMeans(n_clusters=len(target_values)))])"
   ]
  },
  {
   "cell_type": "code",
   "execution_count": 29,
   "id": "53165162",
   "metadata": {},
   "outputs": [],
   "source": [
    "y_pred = ucls.fit_predict(X, y)"
   ]
  },
  {
   "cell_type": "code",
   "execution_count": 30,
   "id": "ce46d9a8",
   "metadata": {},
   "outputs": [
    {
     "name": "stdout",
     "output_type": "stream",
     "text": [
      "[4, 4, 5, 5, 5, 5, 4, 1, 5, 2]\n",
      "[4 4 4 4 4 3 0 0 2 0]\n"
     ]
    }
   ],
   "source": [
    "print(y[:10])\n",
    "print(y_pred[:10])"
   ]
  },
  {
   "cell_type": "markdown",
   "id": "1f2d6164",
   "metadata": {},
   "source": [
    "### Show some statistics about clusters\n",
    "Let's collect the real stars of documents per cluster"
   ]
  },
  {
   "cell_type": "code",
   "execution_count": 31,
   "id": "2e1adab2",
   "metadata": {},
   "outputs": [],
   "source": [
    "from collections import defaultdict"
   ]
  },
  {
   "cell_type": "code",
   "execution_count": 32,
   "id": "b8794e77",
   "metadata": {},
   "outputs": [],
   "source": [
    "cluster_stars = defaultdict(list)\n",
    "for i, k in enumerate(y_pred):\n",
    "    cluster_stars[k].append(y[i])"
   ]
  },
  {
   "cell_type": "code",
   "execution_count": 33,
   "id": "228fe7e1",
   "metadata": {},
   "outputs": [],
   "source": [
    "import matplotlib.pyplot as plt"
   ]
  },
  {
   "cell_type": "code",
   "execution_count": 35,
   "id": "759ea9aa",
   "metadata": {},
   "outputs": [
    {
     "data": {
      "image/png": "[encoded data removed]",
      "text/plain": [
       "<Figure size 1008x288 with 5 Axes>"
      ]
     },
     "metadata": {
      "needs_background": "light"
     },
     "output_type": "display_data"
    }
   ],
   "source": [
    "fig, ax = plt.subplots(figsize=(14, 4), ncols=len(cluster_stars))\n",
    "for k, stars in cluster_stars.items():\n",
    "    ax[k].boxplot(stars)\n",
    "    ax[k].set_title('CLUSTER {}'.format(k))\n",
    "plt.tight_layout()\n",
    "plt.show()"
   ]
  },
  {
   "cell_type": "markdown",
   "id": "58ae9836",
   "metadata": {},
   "source": [
    "### Cluster evaluation"
   ]
  },
  {
   "cell_type": "code",
   "execution_count": null,
   "id": "7dc510b7",
   "metadata": {},
   "outputs": [],
   "source": []
  },
  {
   "cell_type": "markdown",
   "id": "50f45103",
   "metadata": {},
   "source": [
    "## Supervised classification"
   ]
  },
  {
   "cell_type": "code",
   "execution_count": 36,
   "id": "d42ea3a1",
   "metadata": {},
   "outputs": [],
   "source": [
    "from sklearn.model_selection import train_test_split\n",
    "from sklearn.naive_bayes import MultinomialNB"
   ]
  },
  {
   "cell_type": "code",
   "execution_count": 37,
   "id": "aec48add",
   "metadata": {},
   "outputs": [],
   "source": [
    "X_train, X_test, y_train, y_test = train_test_split(X, y, random_state=42)"
   ]
  },
  {
   "cell_type": "code",
   "execution_count": 38,
   "id": "b98cd98f",
   "metadata": {},
   "outputs": [
    {
     "data": {
      "text/plain": [
       "Pipeline(steps=[('scaler', MinMaxScaler()), ('nb', MultinomialNB())])"
      ]
     },
     "execution_count": 38,
     "metadata": {},
     "output_type": "execute_result"
    }
   ],
   "source": [
    "scls = Pipeline([('scaler', MinMaxScaler()), ('nb', MultinomialNB())])\n",
    "scls.fit(X_train, y_train)"
   ]
  },
  {
   "cell_type": "code",
   "execution_count": 39,
   "id": "86298517",
   "metadata": {},
   "outputs": [],
   "source": [
    "y_pred = scls.predict(X_test)"
   ]
  },
  {
   "cell_type": "markdown",
   "id": "363e6124",
   "metadata": {},
   "source": [
    "### Evaluation"
   ]
  },
  {
   "cell_type": "code",
   "execution_count": 40,
   "id": "6f4a398a",
   "metadata": {},
   "outputs": [],
   "source": [
    "from sklearn.metrics import classification_report"
   ]
  },
  {
   "cell_type": "code",
   "execution_count": 41,
   "id": "27f53507",
   "metadata": {},
   "outputs": [
    {
     "name": "stdout",
     "output_type": "stream",
     "text": [
      "              precision    recall  f1-score   support\n",
      "\n",
      "           1       0.78      0.48      0.59       366\n",
      "           2       0.13      0.01      0.02       196\n",
      "           3       0.10      0.01      0.01       270\n",
      "           4       0.42      0.22      0.29       612\n",
      "           5       0.50      0.91      0.65      1056\n",
      "\n",
      "    accuracy                           0.51      2500\n",
      "   macro avg       0.39      0.33      0.31      2500\n",
      "weighted avg       0.45      0.51      0.44      2500\n",
      "\n"
     ]
    }
   ],
   "source": [
    "print(classification_report(y_test, y_pred))"
   ]
  },
  {
   "cell_type": "markdown",
   "id": "570497ee",
   "metadata": {},
   "source": [
    "# Task 2: what are the options to improve?"
   ]
  },
  {
   "cell_type": "code",
   "execution_count": null,
   "id": "f3920f7f",
   "metadata": {},
   "outputs": [],
   "source": []
  }
 ],
 "metadata": {
  "kernelspec": {
   "display_name": "crike",
   "language": "python",
   "name": "crike"
  },
  "language_info": {
   "codemirror_mode": {
    "name": "ipython",
    "version": 3
   },
   "file_extension": ".py",
   "mimetype": "text/x-python",
   "name": "python",
   "nbconvert_exporter": "python",
   "pygments_lexer": "ipython3",
   "version": "3.8.8"
  },
  "toc": {
   "base_numbering": 1,
   "nav_menu": {},
   "number_sections": true,
   "sideBar": true,
   "skip_h1_title": false,
   "title_cell": "Table of Contents",
   "title_sidebar": "Contents",
   "toc_cell": false,
   "toc_position": {},
   "toc_section_display": true,
   "toc_window_display": false
  }
 },
 "nbformat": 4,
 "nbformat_minor": 5
}

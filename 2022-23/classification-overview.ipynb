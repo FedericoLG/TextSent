{
 "cells": [
  {
   "cell_type": "markdown",
   "id": "cb4c0689",
   "metadata": {},
   "source": [
    "# Supervised and unsupervised classification overview\n",
    "Simple introduction on how classification may be useful for sentiment analysis"
   ]
  },
  {
   "cell_type": "code",
   "execution_count": 1,
   "id": "bfdc0fbb",
   "metadata": {},
   "outputs": [],
   "source": [
    "import pandas as pd\n",
    "import numpy as np\n",
    "from tqdm.notebook import tqdm"
   ]
  },
  {
   "cell_type": "markdown",
   "id": "ae0e3ada",
   "metadata": {},
   "source": [
    "## Collect some data"
   ]
  },
  {
   "cell_type": "code",
   "execution_count": 2,
   "id": "f5f4cb9f",
   "metadata": {},
   "outputs": [],
   "source": [
    "import json"
   ]
  },
  {
   "cell_type": "code",
   "execution_count": 3,
   "id": "6c4ccd0e",
   "metadata": {},
   "outputs": [],
   "source": [
    "review_data_file = '../lexicon/data/yelp_sample.json'\n",
    "with open(review_data_file, 'r') as infile:\n",
    "    R = json.load(infile)"
   ]
  },
  {
   "cell_type": "code",
   "execution_count": 4,
   "id": "81560fd5",
   "metadata": {},
   "outputs": [
    {
     "data": {
      "text/plain": [
       "10000"
      ]
     },
     "execution_count": 4,
     "metadata": {},
     "output_type": "execute_result"
    }
   ],
   "source": [
    "len(R)"
   ]
  },
  {
   "cell_type": "code",
   "execution_count": 5,
   "id": "d9502030",
   "metadata": {},
   "outputs": [
    {
     "data": {
      "text/plain": [
       "{'content': \"Red, white and bleu salad was super yum and a great addition to the menu! This location was clean with great service and food served at just the right temps! Kids pizza is always a hit too with lots of great side dish options for the kiddos! When I'm on this side of town, this will definitely be a spot I'll hit up again!\",\n",
       " 'date': '2014-02-17',\n",
       " 'stars': 4,\n",
       " 'useful': 1,\n",
       " 'funny': 0,\n",
       " 'cool': 0,\n",
       " 'business': 'Ue6-WhXvI-_1xUIuapl0zQ',\n",
       " 'id': '----X0BIDP9tA49U3RvdSQ',\n",
       " 'categories': ['American (Traditional)', 'Burgers', 'Restaurants']}"
      ]
     },
     "execution_count": 5,
     "metadata": {},
     "output_type": "execute_result"
    }
   ],
   "source": [
    "R[0]"
   ]
  },
  {
   "cell_type": "markdown",
   "id": "b3f3fb3c",
   "metadata": {},
   "source": [
    "## Task: guess the number of stars for each review"
   ]
  },
  {
   "cell_type": "code",
   "execution_count": 6,
   "id": "ccb6c318",
   "metadata": {},
   "outputs": [
    {
     "data": {
      "text/plain": [
       "{1, 2, 3, 4, 5}"
      ]
     },
     "execution_count": 6,
     "metadata": {},
     "output_type": "execute_result"
    }
   ],
   "source": [
    "target_values = set([doc['stars'] for doc in R])\n",
    "target_values"
   ]
  },
  {
   "cell_type": "markdown",
   "id": "0a3dfd47",
   "metadata": {},
   "source": [
    "## Indexing"
   ]
  },
  {
   "cell_type": "code",
   "execution_count": 7,
   "id": "f666165f",
   "metadata": {},
   "outputs": [],
   "source": [
    "from nltk.tokenize import word_tokenize\n",
    "from string import punctuation\n",
    "from sklearn.feature_extraction.text import TfidfVectorizer\n",
    "from sklearn.preprocessing import MinMaxScaler"
   ]
  },
  {
   "cell_type": "code",
   "execution_count": 8,
   "id": "f0ca8823",
   "metadata": {},
   "outputs": [],
   "source": [
    "def tokenize(document):\n",
    "    return [x.lower() for x in word_tokenize(document) if x not in punctuation]"
   ]
  },
  {
   "cell_type": "code",
   "execution_count": 9,
   "id": "a6f2e8d7",
   "metadata": {},
   "outputs": [],
   "source": [
    "vectorizer = TfidfVectorizer(tokenizer=tokenize)\n",
    "X = vectorizer.fit_transform([x['content'] for x in R]).toarray() # dense to sparse\n",
    "y = [x['stars'] for x in R]"
   ]
  },
  {
   "cell_type": "code",
   "execution_count": 10,
   "id": "71a00484",
   "metadata": {},
   "outputs": [],
   "source": [
    "features = vectorizer.get_feature_names_out()"
   ]
  },
  {
   "cell_type": "code",
   "execution_count": 11,
   "id": "0653bed6",
   "metadata": {},
   "outputs": [
    {
     "data": {
      "text/plain": [
       "array([\"''\", \"'08\", \"'1921\", \"'20\", \"'60\", \"'90s\", \"'against\", \"'all\",\n",
       "       \"'anti-sell\", \"'antica\"], dtype=object)"
      ]
     },
     "execution_count": 11,
     "metadata": {},
     "output_type": "execute_result"
    }
   ],
   "source": [
    "features[:10]"
   ]
  },
  {
   "cell_type": "code",
   "execution_count": 12,
   "id": "f467c031",
   "metadata": {},
   "outputs": [
    {
     "data": {
      "text/plain": [
       "(10000, 34082)"
      ]
     },
     "execution_count": 12,
     "metadata": {},
     "output_type": "execute_result"
    }
   ],
   "source": [
    "X.shape"
   ]
  },
  {
   "cell_type": "markdown",
   "id": "98e85ad3",
   "metadata": {},
   "source": [
    "## Unsupervised classification\n",
    "We check to what extent clustering may help"
   ]
  },
  {
   "cell_type": "code",
   "execution_count": 13,
   "id": "dfaedf06",
   "metadata": {},
   "outputs": [],
   "source": [
    "from sklearn.cluster import KMeans\n",
    "from sklearn.pipeline import Pipeline"
   ]
  },
  {
   "cell_type": "code",
   "execution_count": 14,
   "id": "25a4a698",
   "metadata": {},
   "outputs": [],
   "source": [
    "ucls = Pipeline([('scaler', MinMaxScaler()), ('kmeans', KMeans(n_clusters=len(target_values)))])"
   ]
  },
  {
   "cell_type": "code",
   "execution_count": 15,
   "id": "7a481528",
   "metadata": {},
   "outputs": [],
   "source": [
    "y_pred = ucls.fit_predict(X, y)"
   ]
  },
  {
   "cell_type": "code",
   "execution_count": 16,
   "id": "52300fd1",
   "metadata": {},
   "outputs": [
    {
     "name": "stdout",
     "output_type": "stream",
     "text": [
      "[4, 4, 5, 5, 5, 5, 4, 1, 5, 2]\n",
      "[2 3 3 3 3 0 4 4 2 4]\n"
     ]
    }
   ],
   "source": [
    "print(y[:10])\n",
    "print(y_pred[:10])"
   ]
  },
  {
   "cell_type": "markdown",
   "id": "85a73e4d",
   "metadata": {},
   "source": [
    "### Show some statistics about clusters\n",
    "Let's collect the real stars of documents per cluster"
   ]
  },
  {
   "cell_type": "code",
   "execution_count": 17,
   "id": "a13c507a",
   "metadata": {},
   "outputs": [],
   "source": [
    "from collections import defaultdict"
   ]
  },
  {
   "cell_type": "code",
   "execution_count": 18,
   "id": "4b419f4f",
   "metadata": {},
   "outputs": [],
   "source": [
    "cluster_stars = defaultdict(list)\n",
    "for i, k in enumerate(y_pred):\n",
    "    cluster_stars[k].append(y[i])"
   ]
  },
  {
   "cell_type": "code",
   "execution_count": 19,
   "id": "00f84dee",
   "metadata": {},
   "outputs": [],
   "source": [
    "import matplotlib.pyplot as plt"
   ]
  },
  {
   "cell_type": "code",
   "execution_count": 20,
   "id": "a769f246",
   "metadata": {},
   "outputs": [
    {
     "data": {
      "image/png": "[encoded data removed]",
      "text/plain": [
       "<Figure size 1008x288 with 5 Axes>"
      ]
     },
     "metadata": {
      "needs_background": "light"
     },
     "output_type": "display_data"
    }
   ],
   "source": [
    "fig, ax = plt.subplots(figsize=(14, 4), ncols=len(cluster_stars))\n",
    "for k, stars in cluster_stars.items():\n",
    "    ax[k].boxplot(stars)\n",
    "    ax[k].set_title('CLUSTER {}'.format(k))\n",
    "plt.tight_layout()\n",
    "plt.show()"
   ]
  },
  {
   "cell_type": "markdown",
   "id": "d9891d72",
   "metadata": {},
   "source": [
    "### Cluster evaluation"
   ]
  },
  {
   "cell_type": "code",
   "execution_count": null,
   "id": "e8b185d5",
   "metadata": {},
   "outputs": [],
   "source": []
  },
  {
   "cell_type": "markdown",
   "id": "5ef49a38",
   "metadata": {},
   "source": [
    "## Supervised classification"
   ]
  },
  {
   "cell_type": "code",
   "execution_count": 31,
   "id": "e095a166",
   "metadata": {},
   "outputs": [],
   "source": [
    "from sklearn.model_selection import train_test_split\n",
    "from sklearn.naive_bayes import MultinomialNB\n",
    "from sklearn.ensemble import RandomForestClassifier"
   ]
  },
  {
   "cell_type": "code",
   "execution_count": 32,
   "id": "f573dd0b",
   "metadata": {},
   "outputs": [],
   "source": [
    "X_train, X_test, y_train, y_test = train_test_split(X, y, random_state=42)"
   ]
  },
  {
   "cell_type": "code",
   "execution_count": 40,
   "id": "8c1d09c9",
   "metadata": {},
   "outputs": [
    {
     "data": {
      "text/plain": [
       "Pipeline(steps=[('scaler', MinMaxScaler()), ('nb', MultinomialNB())])"
      ]
     },
     "execution_count": 40,
     "metadata": {},
     "output_type": "execute_result"
    }
   ],
   "source": [
    "scls = Pipeline([('scaler', MinMaxScaler()), ('nb', MultinomialNB())])\n",
    "scls.fit(X_train, y_train)"
   ]
  },
  {
   "cell_type": "code",
   "execution_count": 41,
   "id": "7c7ad3bf",
   "metadata": {},
   "outputs": [],
   "source": [
    "y_pred = scls.predict(X_test)"
   ]
  },
  {
   "cell_type": "code",
   "execution_count": 42,
   "id": "6ec84f51",
   "metadata": {},
   "outputs": [
    {
     "data": {
      "text/plain": [
       "array([5, 5, 5, 5, 5, 5, 5, 5, 5, 5])"
      ]
     },
     "execution_count": 42,
     "metadata": {},
     "output_type": "execute_result"
    }
   ],
   "source": [
    "y_pred[:10]"
   ]
  },
  {
   "cell_type": "code",
   "execution_count": 44,
   "id": "2eeb682f",
   "metadata": {},
   "outputs": [
    {
     "data": {
      "text/plain": [
       "(2500, 5)"
      ]
     },
     "execution_count": 44,
     "metadata": {},
     "output_type": "execute_result"
    }
   ],
   "source": [
    "P = scls.predict_proba(X_test)\n",
    "P.shape"
   ]
  },
  {
   "cell_type": "code",
   "execution_count": 47,
   "id": "8f598025",
   "metadata": {},
   "outputs": [
    {
     "data": {
      "text/plain": [
       "array([0.068, 0.   , 0.001, 0.226, 0.705])"
      ]
     },
     "execution_count": 47,
     "metadata": {},
     "output_type": "execute_result"
    }
   ],
   "source": [
    "np.round(P[0], 3)"
   ]
  },
  {
   "cell_type": "code",
   "execution_count": 48,
   "id": "7c8cabb0",
   "metadata": {},
   "outputs": [
    {
     "data": {
      "text/plain": [
       "array([0.09330225, 0.00736453, 0.01222639, 0.16813631, 0.71897052])"
      ]
     },
     "execution_count": 48,
     "metadata": {},
     "output_type": "execute_result"
    }
   ],
   "source": [
    "P.mean(axis=0)"
   ]
  },
  {
   "cell_type": "markdown",
   "id": "75ce377e",
   "metadata": {},
   "source": [
    "### Evaluation"
   ]
  },
  {
   "cell_type": "code",
   "execution_count": 43,
   "id": "14a81154",
   "metadata": {},
   "outputs": [],
   "source": [
    "from sklearn.metrics import classification_report, confusion_matrix, ConfusionMatrixDisplay"
   ]
  },
  {
   "cell_type": "code",
   "execution_count": 37,
   "id": "09d94c85",
   "metadata": {},
   "outputs": [
    {
     "name": "stdout",
     "output_type": "stream",
     "text": [
      "              precision    recall  f1-score   support\n",
      "\n",
      "           1       0.68      0.41      0.51       366\n",
      "           2       1.00      0.01      0.01       196\n",
      "           3       0.29      0.01      0.03       270\n",
      "           4       0.44      0.17      0.25       612\n",
      "           5       0.50      0.95      0.65      1056\n",
      "\n",
      "    accuracy                           0.51      2500\n",
      "   macro avg       0.58      0.31      0.29      2500\n",
      "weighted avg       0.53      0.51      0.42      2500\n",
      "\n"
     ]
    }
   ],
   "source": [
    "print(classification_report(y_test, y_pred))"
   ]
  },
  {
   "cell_type": "code",
   "execution_count": 39,
   "id": "32e16bcf",
   "metadata": {},
   "outputs": [
    {
     "data": {
      "image/png": "[encoded data removed]",
      "text/plain": [
       "<Figure size 432x432 with 2 Axes>"
      ]
     },
     "metadata": {
      "needs_background": "light"
     },
     "output_type": "display_data"
    }
   ],
   "source": [
    "cm = confusion_matrix(y_test, y_pred, labels=list(range(1, 6)))\n",
    "display = ConfusionMatrixDisplay(cm, display_labels=list(range(1, 6)))\n",
    "fig, ax = plt.subplots(figsize=(6,6))\n",
    "display.plot(ax=ax, cmap='Blues')\n",
    "plt.tight_layout()\n",
    "plt.show()"
   ]
  },
  {
   "cell_type": "markdown",
   "id": "2dc31720",
   "metadata": {},
   "source": [
    "# Task 2: what are the options to improve?"
   ]
  },
  {
   "cell_type": "code",
   "execution_count": null,
   "id": "46df21ed",
   "metadata": {},
   "outputs": [],
   "source": []
  }
 ],
 "metadata": {
  "kernelspec": {
   "display_name": "crike",
   "language": "python",
   "name": "crike"
  },
  "language_info": {
   "codemirror_mode": {
    "name": "ipython",
    "version": 3
   },
   "file_extension": ".py",
   "mimetype": "text/x-python",
   "name": "python",
   "nbconvert_exporter": "python",
   "pygments_lexer": "ipython3",
   "version": "3.8.8"
  },
  "toc": {
   "base_numbering": 1,
   "nav_menu": {},
   "number_sections": true,
   "sideBar": true,
   "skip_h1_title": false,
   "title_cell": "Table of Contents",
   "title_sidebar": "Contents",
   "toc_cell": false,
   "toc_position": {},
   "toc_section_display": true,
   "toc_window_display": false
  }
 },
 "nbformat": 4,
 "nbformat_minor": 5
}

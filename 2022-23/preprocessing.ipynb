{
 "cells": [
  {
   "cell_type": "markdown",
   "id": "094cc064",
   "metadata": {},
   "source": [
    "# Presentation and discussion of several options for text preprocessing\n",
    "**input**: a raw document collection $D$\n",
    "\n",
    "**output**: the vector space model of $D$ as a matrix $M \\in \\mathbb{R}^{\\mid D \\mid \\times f}$ \n",
    "\n",
    "**steps**:\n",
    "- document tokenization\n",
    "- tokens normalization\n",
    "- weighting"
   ]
  },
  {
   "cell_type": "code",
   "execution_count": 1,
   "id": "03ea6490",
   "metadata": {},
   "outputs": [],
   "source": [
    "import pandas as pd\n",
    "import numpy as np\n",
    "from tqdm.notebook import tqdm"
   ]
  },
  {
   "cell_type": "markdown",
   "id": "99896371",
   "metadata": {},
   "source": [
    "## YELP review\n",
    "[YELP dataset](https://www.yelp.com/dataset)"
   ]
  },
  {
   "cell_type": "code",
   "execution_count": 2,
   "id": "51df5317",
   "metadata": {},
   "outputs": [],
   "source": [
    "from sqlalchemy import create_engine\n",
    "import json"
   ]
  },
  {
   "cell_type": "code",
   "execution_count": 3,
   "id": "f6fc51dc",
   "metadata": {},
   "outputs": [],
   "source": [
    "with open('/Users/flint/Data/postgresql/conf.json', 'r') as conf_file:\n",
    "    conf = json.load(conf_file)"
   ]
  },
  {
   "cell_type": "code",
   "execution_count": 4,
   "id": "cb2c4194",
   "metadata": {},
   "outputs": [],
   "source": [
    "engine = create_engine('postgresql+psycopg2://postgres:{}@localhost/nlp'.format(conf['psw']))"
   ]
  },
  {
   "cell_type": "code",
   "execution_count": 5,
   "id": "aa299187",
   "metadata": {},
   "outputs": [],
   "source": [
    "sql = \"SELECT * FROM yelp.textclip T JOIN yelp.review R ON T.id = R.clip LIMIT 5000\"\n",
    "reviews = pd.read_sql(sql, engine)"
   ]
  },
  {
   "cell_type": "code",
   "execution_count": 6,
   "id": "fc8808b6",
   "metadata": {},
   "outputs": [],
   "source": [
    "docs = list(reviews.content.values)"
   ]
  },
  {
   "cell_type": "code",
   "execution_count": 7,
   "id": "fd9512af",
   "metadata": {},
   "outputs": [
    {
     "name": "stdout",
     "output_type": "stream",
     "text": [
      "The poutines are good, the strength of the place is its variety and ambiance. I wouldn't say its the best place for poutine however.\n"
     ]
    }
   ],
   "source": [
    "print(docs[10])"
   ]
  },
  {
   "cell_type": "markdown",
   "id": "17e15960",
   "metadata": {},
   "source": [
    "## Tokenization\n",
    "Explore different options for tokenize the text and show their impact on the number $f$ of different features in $M$."
   ]
  },
  {
   "cell_type": "code",
   "execution_count": 8,
   "id": "f77931b4",
   "metadata": {},
   "outputs": [],
   "source": [
    "from nltk import word_tokenize\n",
    "import nltk\n",
    "from indexing import InMemoryCountIndex"
   ]
  },
  {
   "cell_type": "code",
   "execution_count": 9,
   "id": "e2e83634",
   "metadata": {},
   "outputs": [],
   "source": [
    "def char_tokenizer(doc):\n",
    "    return list(doc)\n",
    "\n",
    "def bigram_char_tokenizer(doc):\n",
    "    return [\"{}{}\".format(a, b) for a, b in nltk.ngrams(list(doc), 2)]\n",
    "\n",
    "def bigram_tokenizer(doc):\n",
    "    return [\"{} {}\".format(a, b) for a, b in nltk.ngrams(word_tokenize(doc), n=2)]\n",
    "\n",
    "def trigram_tokenizer(doc):\n",
    "    return [\"{} {} {}\".format(a, b, c) for a, b, c in nltk.ngrams(word_tokenize(doc), n=3)]"
   ]
  },
  {
   "cell_type": "code",
   "execution_count": 10,
   "id": "a1d88848",
   "metadata": {},
   "outputs": [],
   "source": [
    "tokenizers = {\n",
    "    'CHAR': char_tokenizer, '2GCHAR': bigram_char_tokenizer, 'WORD': word_tokenize, \n",
    "    '2GRAM': bigram_tokenizer, '3GRAM': trigram_tokenizer\n",
    "}"
   ]
  },
  {
   "cell_type": "code",
   "execution_count": 11,
   "id": "9cb1afa3",
   "metadata": {},
   "outputs": [
    {
     "name": "stdout",
     "output_type": "stream",
     "text": [
      "CHAR \t=>(33/322) R|e|d|,| |w|h|i|t|e ...\n",
      "2GCHAR \t=>(153/321) Re|ed|d,|, | w|wh|hi|it|te|e  ...\n",
      "WORD \t=>(53/72) Red|,|white|and|bleu|salad|was|super|yum|and ...\n",
      "2GRAM \t=>(71/71) Red ,|, white|white and|and bleu|bleu salad|salad was|was super|super yum|yum and|and a ...\n",
      "3GRAM \t=>(70/70) Red , white|, white and|white and bleu|and bleu salad|bleu salad was|salad was super|was super yum|super yum and|yum and a|and a great ...\n"
     ]
    }
   ],
   "source": [
    "example = docs[0] \n",
    "for label, tokenizer in tokenizers.items():\n",
    "    tokens = tokenizer(example)\n",
    "    print(label, \"\\t=>({}/{})\".format(len(set(tokens)), len(tokens)), \"|\".join(tokens[:10]), '...')"
   ]
  },
  {
   "cell_type": "code",
   "execution_count": 12,
   "id": "7c935122",
   "metadata": {},
   "outputs": [
    {
     "data": {
      "application/vnd.jupyter.widget-view+json": {
       "model_id": "aac0bab11e13437e9893186d88ea2f27",
       "version_major": 2,
       "version_minor": 0
      },
      "text/plain": [
       "  0%|          | 0/5000 [00:00<?, ?it/s]"
      ]
     },
     "metadata": {},
     "output_type": "display_data"
    }
   ],
   "source": [
    "indexes = dict([(label, InMemoryCountIndex(tokenizer)) for label, tokenizer in tokenizers.items()])\n",
    "for doc in tqdm(docs):\n",
    "    for _, I in indexes.items():\n",
    "        I.add(doc)"
   ]
  },
  {
   "cell_type": "markdown",
   "id": "14e0852c",
   "metadata": {},
   "source": [
    "### Observe the ratio between size of corpus and unique tokens (size of vocabulary)"
   ]
  },
  {
   "cell_type": "code",
   "execution_count": 13,
   "id": "593393a4",
   "metadata": {},
   "outputs": [],
   "source": [
    "import matplotlib.pyplot as plt"
   ]
  },
  {
   "cell_type": "code",
   "execution_count": 14,
   "id": "9ca3a695",
   "metadata": {},
   "outputs": [
    {
     "data": {
      "image/png": "[encoded data removed]",
      "text/plain": [
       "<Figure size 864x288 with 1 Axes>"
      ]
     },
     "metadata": {
      "needs_background": "light"
     },
     "output_type": "display_data"
    }
   ],
   "source": [
    "fig, ax = plt.subplots(figsize=(12, 4))\n",
    "for label, idx in indexes.items():\n",
    "    ax.plot(np.cumsum(idx.docs_size), idx.unique_words_history, label=label)\n",
    "ax.set_xlabel('Corpus size (in chars)')\n",
    "ax.set_ylabel('Vocabulary size')\n",
    "plt.legend()\n",
    "plt.tight_layout()\n",
    "plt.show()"
   ]
  },
  {
   "cell_type": "code",
   "execution_count": 15,
   "id": "0b1510df",
   "metadata": {},
   "outputs": [
    {
     "data": {
      "image/png": "[encoded data removed]",
      "text/plain": [
       "<Figure size 864x288 with 1 Axes>"
      ]
     },
     "metadata": {
      "needs_background": "light"
     },
     "output_type": "display_data"
    }
   ],
   "source": [
    "fig, ax = plt.subplots(figsize=(12, 4))\n",
    "for label, idx in indexes.items():\n",
    "    y = np.cumsum(idx.unique_words_history)\n",
    "    ax.plot(y, label=label)\n",
    "ax.set_xlabel('Corpus size (in chars)')\n",
    "ax.set_ylabel('Vocabulary size (cumulative)')\n",
    "plt.legend()\n",
    "plt.tight_layout()\n",
    "plt.show()"
   ]
  },
  {
   "cell_type": "markdown",
   "id": "602336a3",
   "metadata": {},
   "source": [
    "## PMI for bigrams"
   ]
  },
  {
   "cell_type": "code",
   "execution_count": 19,
   "id": "7f281a9b",
   "metadata": {},
   "outputs": [
    {
     "data": {
      "text/plain": [
       "(0.00027961570606055457,\n",
       " 0.03558843657744196,\n",
       " 5.137650101118295e-05,\n",
       " 1.556863667005544e-06)"
      ]
     },
     "execution_count": 19,
     "metadata": {},
     "output_type": "execute_result"
    }
   ],
   "source": [
    "word_index = indexes['WORD']\n",
    "bigram_index = indexes['2GRAM']\n",
    "word_index.p('fish'), word_index.p('the'), bigram_index.p('the salad'), bigram_index.p('bleu salad')"
   ]
  },
  {
   "cell_type": "code",
   "execution_count": 28,
   "id": "b40f8aa8",
   "metadata": {},
   "outputs": [],
   "source": [
    "def pmi(bigram, th=10):\n",
    "    a, b = bigram.split()\n",
    "    count_a, count_b = sum(word_index.index[a].values()), sum(word_index.index[b].values())\n",
    "    if count_a > th and count_b > th:\n",
    "        return np.log(bigram_index.p(bigram) / (word_index.p(a) * word_index.p(b)))\n",
    "    else:\n",
    "        return 0"
   ]
  },
  {
   "cell_type": "code",
   "execution_count": 29,
   "id": "d49615d7",
   "metadata": {},
   "outputs": [
    {
     "data": {
      "text/plain": [
       "(1.0439384966781753, 0)"
      ]
     },
     "execution_count": 29,
     "metadata": {},
     "output_type": "execute_result"
    }
   ],
   "source": [
    "pmi('the salad'), pmi('bleu salad')"
   ]
  },
  {
   "cell_type": "code",
   "execution_count": 30,
   "id": "68ab8a3b",
   "metadata": {},
   "outputs": [
    {
     "name": "stderr",
     "output_type": "stream",
     "text": [
      "/var/folders/cn/1cnswmps6xsbv3x70vr8z3v80000gn/T/ipykernel_2414/4262664813.py:5: RuntimeWarning: divide by zero encountered in log\n",
      "  return np.log(bigram_index.p(bigram) / (word_index.p(a) * word_index.p(b)))\n"
     ]
    }
   ],
   "source": [
    "stats = []\n",
    "for bigram in bigram_index.index.keys():\n",
    "    stats.append({'bigram': bigram, 'pmi': pmi(bigram)})\n",
    "S = pd.DataFrame(stats)"
   ]
  },
  {
   "cell_type": "code",
   "execution_count": 31,
   "id": "19462378",
   "metadata": {},
   "outputs": [
    {
     "data": {
      "text/html": [
       "<div>\n",
       "<style scoped>\n",
       "    .dataframe tbody tr th:only-of-type {\n",
       "        vertical-align: middle;\n",
       "    }\n",
       "\n",
       "    .dataframe tbody tr th {\n",
       "        vertical-align: top;\n",
       "    }\n",
       "\n",
       "    .dataframe thead th {\n",
       "        text-align: right;\n",
       "    }\n",
       "</style>\n",
       "<table border=\"1\" class=\"dataframe\">\n",
       "  <thead>\n",
       "    <tr style=\"text-align: right;\">\n",
       "      <th></th>\n",
       "      <th>bigram</th>\n",
       "      <th>pmi</th>\n",
       "    </tr>\n",
       "  </thead>\n",
       "  <tbody>\n",
       "    <tr>\n",
       "      <th>52976</th>\n",
       "      <td>Whole Foods</td>\n",
       "      <td>10.535714</td>\n",
       "    </tr>\n",
       "    <tr>\n",
       "      <th>40655</th>\n",
       "      <td>Ice Cream</td>\n",
       "      <td>10.210292</td>\n",
       "    </tr>\n",
       "    <tr>\n",
       "      <th>47209</th>\n",
       "      <td>carne asada</td>\n",
       "      <td>10.180439</td>\n",
       "    </tr>\n",
       "    <tr>\n",
       "      <th>89016</th>\n",
       "      <td>Cheesecake Factory</td>\n",
       "      <td>10.076182</td>\n",
       "    </tr>\n",
       "    <tr>\n",
       "      <th>163710</th>\n",
       "      <td>shabu shabu</td>\n",
       "      <td>10.050206</td>\n",
       "    </tr>\n",
       "    <tr>\n",
       "      <th>49655</th>\n",
       "      <td>circus circus</td>\n",
       "      <td>9.978849</td>\n",
       "    </tr>\n",
       "    <tr>\n",
       "      <th>10484</th>\n",
       "      <td>Old Town</td>\n",
       "      <td>9.969130</td>\n",
       "    </tr>\n",
       "    <tr>\n",
       "      <th>48679</th>\n",
       "      <td>hash browns</td>\n",
       "      <td>9.954358</td>\n",
       "    </tr>\n",
       "    <tr>\n",
       "      <th>43762</th>\n",
       "      <td>Trader Joe</td>\n",
       "      <td>9.907105</td>\n",
       "    </tr>\n",
       "    <tr>\n",
       "      <th>49021</th>\n",
       "      <td>pan seared</td>\n",
       "      <td>9.781942</td>\n",
       "    </tr>\n",
       "    <tr>\n",
       "      <th>9717</th>\n",
       "      <td>timely manner</td>\n",
       "      <td>9.664375</td>\n",
       "    </tr>\n",
       "    <tr>\n",
       "      <th>11426</th>\n",
       "      <td>Happy Hour</td>\n",
       "      <td>9.622926</td>\n",
       "    </tr>\n",
       "    <tr>\n",
       "      <th>51237</th>\n",
       "      <td>dim sum</td>\n",
       "      <td>9.619423</td>\n",
       "    </tr>\n",
       "    <tr>\n",
       "      <th>4265</th>\n",
       "      <td>gon na</td>\n",
       "      <td>9.604156</td>\n",
       "    </tr>\n",
       "    <tr>\n",
       "      <th>79483</th>\n",
       "      <td>THEY ARE</td>\n",
       "      <td>9.604156</td>\n",
       "    </tr>\n",
       "    <tr>\n",
       "      <th>22466</th>\n",
       "      <td>wan na</td>\n",
       "      <td>9.604156</td>\n",
       "    </tr>\n",
       "    <tr>\n",
       "      <th>10529</th>\n",
       "      <td>filet mignon</td>\n",
       "      <td>9.588240</td>\n",
       "    </tr>\n",
       "    <tr>\n",
       "      <th>24728</th>\n",
       "      <td>Hard Rock</td>\n",
       "      <td>9.524113</td>\n",
       "    </tr>\n",
       "    <tr>\n",
       "      <th>26349</th>\n",
       "      <td>salted caramel</td>\n",
       "      <td>9.517145</td>\n",
       "    </tr>\n",
       "    <tr>\n",
       "      <th>44189</th>\n",
       "      <td>football season</td>\n",
       "      <td>9.517145</td>\n",
       "    </tr>\n",
       "  </tbody>\n",
       "</table>\n",
       "</div>"
      ],
      "text/plain": [
       "                    bigram        pmi\n",
       "52976          Whole Foods  10.535714\n",
       "40655            Ice Cream  10.210292\n",
       "47209          carne asada  10.180439\n",
       "89016   Cheesecake Factory  10.076182\n",
       "163710         shabu shabu  10.050206\n",
       "49655        circus circus   9.978849\n",
       "10484             Old Town   9.969130\n",
       "48679          hash browns   9.954358\n",
       "43762           Trader Joe   9.907105\n",
       "49021           pan seared   9.781942\n",
       "9717         timely manner   9.664375\n",
       "11426           Happy Hour   9.622926\n",
       "51237              dim sum   9.619423\n",
       "4265                gon na   9.604156\n",
       "79483             THEY ARE   9.604156\n",
       "22466               wan na   9.604156\n",
       "10529         filet mignon   9.588240\n",
       "24728            Hard Rock   9.524113\n",
       "26349       salted caramel   9.517145\n",
       "44189      football season   9.517145"
      ]
     },
     "execution_count": 31,
     "metadata": {},
     "output_type": "execute_result"
    }
   ],
   "source": [
    "S.sort_values('pmi', ascending=False).head(20)"
   ]
  },
  {
   "cell_type": "markdown",
   "id": "6b1b43ac",
   "metadata": {},
   "source": [
    "## Syntax-based tokenization"
   ]
  },
  {
   "cell_type": "code",
   "execution_count": null,
   "id": "9bc48e38",
   "metadata": {},
   "outputs": [],
   "source": [
    "import sys\n",
    "sys.path.append('/Users/flint/GitHub/lazy/lazy/openie/')"
   ]
  },
  {
   "cell_type": "code",
   "execution_count": null,
   "id": "8b1f9cd9",
   "metadata": {},
   "outputs": [],
   "source": [
    "import spacy\n",
    "nlp = spacy.load('en_core_web_lg')"
   ]
  },
  {
   "cell_type": "code",
   "execution_count": null,
   "id": "493d3b60",
   "metadata": {},
   "outputs": [],
   "source": [
    "from spanzy import generate_graph, draw_graph\n",
    "from openie_svo import triples, annotate_entities"
   ]
  },
  {
   "cell_type": "code",
   "execution_count": null,
   "id": "d94d76a5",
   "metadata": {},
   "outputs": [],
   "source": [
    "doc = nlp('Red, white and bleu salad was super yum and a great addition to the menu!')\n",
    "G = generate_graph(doc, fold_preps=True)\n",
    "fig = plt.figure(figsize=(22, 20))\n",
    "draw_graph(G)"
   ]
  },
  {
   "cell_type": "code",
   "execution_count": null,
   "id": "a3d67cc5",
   "metadata": {},
   "outputs": [],
   "source": [
    "def syntax_tokenizer(document):\n",
    "    G = generate_graph(nlp(document), fold_preps=True)\n",
    "    return [a['node_text'] for _, a in G.nodes(data=True)]"
   ]
  },
  {
   "cell_type": "code",
   "execution_count": null,
   "id": "92627408",
   "metadata": {},
   "outputs": [],
   "source": [
    "tokenizers['SYNT'] = syntax_tokenizer\n",
    "indexes['SYNT'] = InMemoryCountIndex(syntax_tokenizer)"
   ]
  },
  {
   "cell_type": "code",
   "execution_count": null,
   "id": "5e82e2c2",
   "metadata": {},
   "outputs": [],
   "source": [
    "for label, tokenizer in tokenizers.items():\n",
    "    tokens = tokenizer(example)\n",
    "    print(label, \"\\t=>({}/{})\".format(len(set(tokens)), len(tokens)), \"|\".join(tokens[:10]), '...')"
   ]
  },
  {
   "cell_type": "code",
   "execution_count": null,
   "id": "97bd13a4",
   "metadata": {},
   "outputs": [],
   "source": [
    "for doc in tqdm(docs):\n",
    "    indexes['SYNT'].add(doc)"
   ]
  },
  {
   "cell_type": "code",
   "execution_count": null,
   "id": "d33e1402",
   "metadata": {},
   "outputs": [],
   "source": [
    "fig, ax = plt.subplots(figsize=(12, 4))\n",
    "for label, idx in indexes.items():\n",
    "    ax.plot(np.cumsum(idx.docs_size), idx.unique_words_history, label=label)\n",
    "ax.set_xlabel('Corpus size (in chars)')\n",
    "ax.set_ylabel('Vocabulary size')\n",
    "plt.legend()\n",
    "plt.tight_layout()\n",
    "plt.show()"
   ]
  },
  {
   "cell_type": "code",
   "execution_count": null,
   "id": "fa269d3f",
   "metadata": {},
   "outputs": [],
   "source": [
    "fig, ax = plt.subplots(figsize=(12, 4))\n",
    "for label, idx in indexes.items():\n",
    "    y = np.cumsum(idx.unique_words_history)\n",
    "    ax.plot(y, label=label)\n",
    "ax.set_xlabel('Corpus size (in chars)')\n",
    "ax.set_ylabel('Vocabulary size (cumulative)')\n",
    "plt.legend()\n",
    "plt.tight_layout()\n",
    "plt.show()"
   ]
  },
  {
   "cell_type": "code",
   "execution_count": null,
   "id": "4c47c28f",
   "metadata": {},
   "outputs": [],
   "source": [
    "for word, documents in list(indexes['SYNT'].index.items())[:10]:\n",
    "    print(word, len(documents), list(documents.items())[:10])"
   ]
  },
  {
   "cell_type": "code",
   "execution_count": null,
   "id": "76ef2848",
   "metadata": {},
   "outputs": [],
   "source": [
    "for word, documents in list(indexes['WORD'].index.items())[:10]:\n",
    "    print(word, len(documents), list(documents.items())[:10])"
   ]
  },
  {
   "cell_type": "code",
   "execution_count": null,
   "id": "2bec94aa",
   "metadata": {},
   "outputs": [],
   "source": [
    "fig, ax = plt.subplots(figsize=(12, 4))\n",
    "for label, idx in indexes.items():\n",
    "    if label in ['WORD', 'SYNT']:\n",
    "        y = np.cumsum(idx.unique_words_history)\n",
    "        ax.plot(y, label=label)\n",
    "ax.set_xlabel('Corpus size (in chars)')\n",
    "ax.set_ylabel('Vocabulary size (cumulative)')\n",
    "plt.legend()\n",
    "plt.tight_layout()\n",
    "plt.show()"
   ]
  },
  {
   "cell_type": "markdown",
   "id": "24385df8",
   "metadata": {},
   "source": [
    "# Normalizing text by lemmatization and POS selection"
   ]
  },
  {
   "cell_type": "code",
   "execution_count": null,
   "id": "5a1acf6c",
   "metadata": {},
   "outputs": [],
   "source": [
    "pos_filter = {'NOUN', 'VERB', 'ADJ', 'ADV'}\n",
    "\n",
    "def filtered_lemma_tokenizer(document):\n",
    "    doc = nlp(document)\n",
    "    return [token.lemma_.lower() for token in doc if token.pos_ in pos_filter]"
   ]
  },
  {
   "cell_type": "code",
   "execution_count": null,
   "id": "5649ae71",
   "metadata": {},
   "outputs": [],
   "source": [
    "tokenizers['LEMMA'] = filtered_lemma_tokenizer\n",
    "indexes['LEMMA'] = InMemoryCountIndex(filtered_lemma_tokenizer)"
   ]
  },
  {
   "cell_type": "code",
   "execution_count": null,
   "id": "3b9c21b1",
   "metadata": {},
   "outputs": [],
   "source": [
    "for label, tokenizer in tokenizers.items():\n",
    "    tokens = tokenizer(example)\n",
    "    print(label, \"\\t=>({}/{})\".format(len(set(tokens)), len(tokens)), \"|\".join(tokens[:10]), '...')"
   ]
  },
  {
   "cell_type": "code",
   "execution_count": null,
   "id": "07f324c5",
   "metadata": {},
   "outputs": [],
   "source": [
    "for doc in tqdm(docs):\n",
    "    indexes['LEMMA'].add(doc)"
   ]
  },
  {
   "cell_type": "code",
   "execution_count": null,
   "id": "22e7b0cd",
   "metadata": {},
   "outputs": [],
   "source": [
    "fig, ax = plt.subplots(figsize=(12, 4))\n",
    "for label, idx in indexes.items():\n",
    "    if label in ['WORD', 'SYNT', 'LEMMA']:\n",
    "        y = np.cumsum(idx.unique_words_history)\n",
    "        ax.plot(y, label=label)\n",
    "ax.set_xlabel('Corpus size (in chars)')\n",
    "ax.set_ylabel('Vocabulary size (cumulative)')\n",
    "plt.legend()\n",
    "plt.tight_layout()\n",
    "plt.show()"
   ]
  },
  {
   "cell_type": "code",
   "execution_count": null,
   "id": "e54a209d",
   "metadata": {},
   "outputs": [],
   "source": []
  }
 ],
 "metadata": {
  "kernelspec": {
   "display_name": "crike",
   "language": "python",
   "name": "crike"
  },
  "language_info": {
   "codemirror_mode": {
    "name": "ipython",
    "version": 3
   },
   "file_extension": ".py",
   "mimetype": "text/x-python",
   "name": "python",
   "nbconvert_exporter": "python",
   "pygments_lexer": "ipython3",
   "version": "3.8.8"
  },
  "toc": {
   "base_numbering": 1,
   "nav_menu": {},
   "number_sections": true,
   "sideBar": true,
   "skip_h1_title": false,
   "title_cell": "Table of Contents",
   "title_sidebar": "Contents",
   "toc_cell": false,
   "toc_position": {},
   "toc_section_display": true,
   "toc_window_display": false
  }
 },
 "nbformat": 4,
 "nbformat_minor": 5
}

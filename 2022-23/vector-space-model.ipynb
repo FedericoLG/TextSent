{
 "cells": [
  {
   "cell_type": "markdown",
   "id": "49edec1b",
   "metadata": {},
   "source": [
    "# Introduction to Vector Space Model"
   ]
  },
  {
   "cell_type": "code",
   "execution_count": 6,
   "id": "78346a20",
   "metadata": {},
   "outputs": [],
   "source": [
    "import pandas as pd\n",
    "import numpy as np\n",
    "from tqdm.notebook import tqdm"
   ]
  },
  {
   "cell_type": "markdown",
   "id": "14a4331c",
   "metadata": {},
   "source": [
    "## Data"
   ]
  },
  {
   "cell_type": "code",
   "execution_count": 7,
   "id": "b2153529",
   "metadata": {},
   "outputs": [],
   "source": [
    "from sqlalchemy import create_engine\n",
    "import json"
   ]
  },
  {
   "cell_type": "code",
   "execution_count": 8,
   "id": "7e093419",
   "metadata": {},
   "outputs": [],
   "source": [
    "with open('/Users/flint/Data/postgresql/conf.json', 'r') as conf_file:\n",
    "    conf = json.load(conf_file)\n",
    "engine = create_engine('postgresql+psycopg2://postgres:{}@localhost/nlp'.format(conf['psw']))"
   ]
  },
  {
   "cell_type": "code",
   "execution_count": 9,
   "id": "aa56252e",
   "metadata": {},
   "outputs": [],
   "source": [
    "sql = \"SELECT * FROM yelp.textclip T JOIN yelp.review R ON T.id = R.clip LIMIT 5000\"\n",
    "reviews = pd.read_sql(sql, engine)"
   ]
  },
  {
   "cell_type": "code",
   "execution_count": 10,
   "id": "21a8670d",
   "metadata": {},
   "outputs": [],
   "source": [
    "texts = reviews.content.values"
   ]
  },
  {
   "cell_type": "code",
   "execution_count": 11,
   "id": "02a9fc0c",
   "metadata": {},
   "outputs": [
    {
     "data": {
      "text/plain": [
       "\"Red, white and bleu salad was super yum and a great addition to the menu! This location was clean with great service and food served at just the right temps! Kids pizza is always a hit too with lots of great side dish options for the kiddos! When I'm on this side of town, this will definitely be a spot I'll hit up again!\""
      ]
     },
     "execution_count": 11,
     "metadata": {},
     "output_type": "execute_result"
    }
   ],
   "source": [
    "texts[0]"
   ]
  },
  {
   "cell_type": "markdown",
   "id": "ccad1ac7",
   "metadata": {},
   "source": [
    "## Bag of words"
   ]
  },
  {
   "cell_type": "markdown",
   "id": "94929181",
   "metadata": {},
   "source": [
    "### Tokenization, indexing and vocabulary"
   ]
  },
  {
   "cell_type": "markdown",
   "id": "b407d107",
   "metadata": {},
   "source": [
    "#### Natural Language ToolKit \n",
    "[NLTK](https://www.nltk.org/)"
   ]
  },
  {
   "cell_type": "code",
   "execution_count": 12,
   "id": "e56c3160",
   "metadata": {},
   "outputs": [],
   "source": [
    "from nltk import word_tokenize"
   ]
  },
  {
   "cell_type": "code",
   "execution_count": 16,
   "id": "752e966a",
   "metadata": {},
   "outputs": [
    {
     "name": "stdout",
     "output_type": "stream",
     "text": [
      "Red,\twhite\tand\tbleu\tsalad\twas\tsuper\tyum\tand\ta\tgreat\taddition\tto\tthe\tmenu!\tThis\tlocation\twas\tclean\twith\tgreat\tservice\tand\tfood\tserved\tat\tjust\tthe\tright\ttemps!\tKids\tpizza\tis\talways\ta\thit\ttoo\twith\tlots\tof\tgreat\tside\tdish\toptions\tfor\tthe\tkiddos!\tWhen\tI'm\ton\tthis\tside\tof\ttown,\tthis\twill\tdefinitely\tbe\ta\tspot\tI'll\thit\tup\tagain!\n"
     ]
    }
   ],
   "source": [
    "print(\"\\t\".join([token for token in texts[0].split()]))"
   ]
  },
  {
   "cell_type": "markdown",
   "id": "3f5d5262",
   "metadata": {},
   "source": [
    "#### Spacy\n",
    "[spaCy](https://spacy.io/)"
   ]
  },
  {
   "cell_type": "code",
   "execution_count": null,
   "id": "09c47828",
   "metadata": {},
   "outputs": [],
   "source": [
    "import spacy\n",
    "nlp = spacy.load('en_core_web_lg')"
   ]
  },
  {
   "cell_type": "code",
   "execution_count": null,
   "id": "44170d56",
   "metadata": {},
   "outputs": [],
   "source": []
  },
  {
   "cell_type": "markdown",
   "id": "68f7045e",
   "metadata": {},
   "source": [
    "### Vectorization (by frequency)"
   ]
  },
  {
   "cell_type": "code",
   "execution_count": null,
   "id": "adf2cd77",
   "metadata": {},
   "outputs": [],
   "source": []
  },
  {
   "cell_type": "markdown",
   "id": "e6a7d3a2",
   "metadata": {},
   "source": [
    "### Weighting"
   ]
  },
  {
   "cell_type": "code",
   "execution_count": null,
   "id": "47a23507",
   "metadata": {},
   "outputs": [],
   "source": []
  },
  {
   "cell_type": "markdown",
   "id": "7e427809",
   "metadata": {},
   "source": [
    "### Similarity"
   ]
  },
  {
   "cell_type": "code",
   "execution_count": null,
   "id": "b5338789",
   "metadata": {},
   "outputs": [],
   "source": []
  }
 ],
 "metadata": {
  "kernelspec": {
   "display_name": "crike",
   "language": "python",
   "name": "crike"
  },
  "language_info": {
   "codemirror_mode": {
    "name": "ipython",
    "version": 3
   },
   "file_extension": ".py",
   "mimetype": "text/x-python",
   "name": "python",
   "nbconvert_exporter": "python",
   "pygments_lexer": "ipython3",
   "version": "3.8.8"
  },
  "toc": {
   "base_numbering": 1,
   "nav_menu": {},
   "number_sections": true,
   "sideBar": true,
   "skip_h1_title": false,
   "title_cell": "Table of Contents",
   "title_sidebar": "Contents",
   "toc_cell": false,
   "toc_position": {},
   "toc_section_display": true,
   "toc_window_display": false
  }
 },
 "nbformat": 4,
 "nbformat_minor": 5
}

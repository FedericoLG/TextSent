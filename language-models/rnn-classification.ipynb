{
 "cells": [
  {
   "cell_type": "markdown",
   "id": "cd2eac68",
   "metadata": {},
   "source": [
    "# Example of a classification task using RNN\n",
    "\n",
    "For a similar example, see also:\n",
    "\n",
    "> NLP FROM SCRATCH: CLASSIFYING NAMES WITH A CHARACTER-LEVEL RNN\n",
    "by Sean Robertson on [pytorch](https://pytorch.org/tutorials/intermediate/char_rnn_classification_tutorial.html)"
   ]
  },
  {
   "cell_type": "markdown",
   "id": "70111409",
   "metadata": {},
   "source": [
    "## Data task\n",
    "We work on a collection of dates represented with different formats. The task is to associate each date with the correct month, in spite of the date format."
   ]
  },
  {
   "cell_type": "code",
   "execution_count": 1,
   "id": "2960cfcb",
   "metadata": {},
   "outputs": [],
   "source": [
    "import pandas as pd\n",
    "import numpy as np\n",
    "from tqdm.notebook import tqdm"
   ]
  },
  {
   "cell_type": "code",
   "execution_count": 2,
   "id": "7fda0057",
   "metadata": {},
   "outputs": [],
   "source": [
    "data = pd.read_csv('../data/rome_dates.csv', index_col=0)"
   ]
  },
  {
   "cell_type": "code",
   "execution_count": 4,
   "id": "4b710459",
   "metadata": {},
   "outputs": [
    {
     "data": {
      "text/html": [
       "<div>\n",
       "<style scoped>\n",
       "    .dataframe tbody tr th:only-of-type {\n",
       "        vertical-align: middle;\n",
       "    }\n",
       "\n",
       "    .dataframe tbody tr th {\n",
       "        vertical-align: top;\n",
       "    }\n",
       "\n",
       "    .dataframe thead th {\n",
       "        text-align: right;\n",
       "    }\n",
       "</style>\n",
       "<table border=\"1\" class=\"dataframe\">\n",
       "  <thead>\n",
       "    <tr style=\"text-align: right;\">\n",
       "      <th></th>\n",
       "      <th>text</th>\n",
       "      <th>target</th>\n",
       "      <th>day</th>\n",
       "      <th>month</th>\n",
       "      <th>year</th>\n",
       "      <th>temperature</th>\n",
       "      <th>temperature_class</th>\n",
       "    </tr>\n",
       "  </thead>\n",
       "  <tbody>\n",
       "    <tr>\n",
       "      <th>0</th>\n",
       "      <td>01-01-1960</td>\n",
       "      <td>1960-01-01</td>\n",
       "      <td>1</td>\n",
       "      <td>1</td>\n",
       "      <td>1960</td>\n",
       "      <td>3.638</td>\n",
       "      <td>1</td>\n",
       "    </tr>\n",
       "    <tr>\n",
       "      <th>1</th>\n",
       "      <td>01/01/1960</td>\n",
       "      <td>1960-01-01</td>\n",
       "      <td>1</td>\n",
       "      <td>1</td>\n",
       "      <td>1960</td>\n",
       "      <td>3.638</td>\n",
       "      <td>1</td>\n",
       "    </tr>\n",
       "    <tr>\n",
       "      <th>2</th>\n",
       "      <td>01.01.1960</td>\n",
       "      <td>1960-01-01</td>\n",
       "      <td>1</td>\n",
       "      <td>1</td>\n",
       "      <td>1960</td>\n",
       "      <td>3.638</td>\n",
       "      <td>1</td>\n",
       "    </tr>\n",
       "    <tr>\n",
       "      <th>3</th>\n",
       "      <td>01/01/1960</td>\n",
       "      <td>1960-01-01</td>\n",
       "      <td>1</td>\n",
       "      <td>1</td>\n",
       "      <td>1960</td>\n",
       "      <td>3.638</td>\n",
       "      <td>1</td>\n",
       "    </tr>\n",
       "    <tr>\n",
       "      <th>4</th>\n",
       "      <td>01.01.1960</td>\n",
       "      <td>1960-01-01</td>\n",
       "      <td>1</td>\n",
       "      <td>1</td>\n",
       "      <td>1960</td>\n",
       "      <td>3.638</td>\n",
       "      <td>1</td>\n",
       "    </tr>\n",
       "    <tr>\n",
       "      <th>5</th>\n",
       "      <td>Fri 01, Jan 1960</td>\n",
       "      <td>1960-01-01</td>\n",
       "      <td>1</td>\n",
       "      <td>1</td>\n",
       "      <td>1960</td>\n",
       "      <td>3.638</td>\n",
       "      <td>1</td>\n",
       "    </tr>\n",
       "    <tr>\n",
       "      <th>6</th>\n",
       "      <td>Jan 01, 1960</td>\n",
       "      <td>1960-01-01</td>\n",
       "      <td>1</td>\n",
       "      <td>1</td>\n",
       "      <td>1960</td>\n",
       "      <td>3.638</td>\n",
       "      <td>1</td>\n",
       "    </tr>\n",
       "    <tr>\n",
       "      <th>7</th>\n",
       "      <td>Fri 01, January 1960</td>\n",
       "      <td>1960-01-01</td>\n",
       "      <td>1</td>\n",
       "      <td>1</td>\n",
       "      <td>1960</td>\n",
       "      <td>3.638</td>\n",
       "      <td>1</td>\n",
       "    </tr>\n",
       "    <tr>\n",
       "      <th>8</th>\n",
       "      <td>1960/01/01</td>\n",
       "      <td>1960-01-01</td>\n",
       "      <td>1</td>\n",
       "      <td>1</td>\n",
       "      <td>1960</td>\n",
       "      <td>3.638</td>\n",
       "      <td>1</td>\n",
       "    </tr>\n",
       "    <tr>\n",
       "      <th>9</th>\n",
       "      <td>1960 January 01</td>\n",
       "      <td>1960-01-01</td>\n",
       "      <td>1</td>\n",
       "      <td>1</td>\n",
       "      <td>1960</td>\n",
       "      <td>3.638</td>\n",
       "      <td>1</td>\n",
       "    </tr>\n",
       "    <tr>\n",
       "      <th>10</th>\n",
       "      <td>1960 Jan 01</td>\n",
       "      <td>1960-01-01</td>\n",
       "      <td>1</td>\n",
       "      <td>1</td>\n",
       "      <td>1960</td>\n",
       "      <td>3.638</td>\n",
       "      <td>1</td>\n",
       "    </tr>\n",
       "    <tr>\n",
       "      <th>11</th>\n",
       "      <td>02-01-1960</td>\n",
       "      <td>1960-01-02</td>\n",
       "      <td>2</td>\n",
       "      <td>1</td>\n",
       "      <td>1960</td>\n",
       "      <td>3.638</td>\n",
       "      <td>1</td>\n",
       "    </tr>\n",
       "    <tr>\n",
       "      <th>12</th>\n",
       "      <td>02/01/1960</td>\n",
       "      <td>1960-01-02</td>\n",
       "      <td>2</td>\n",
       "      <td>1</td>\n",
       "      <td>1960</td>\n",
       "      <td>3.638</td>\n",
       "      <td>1</td>\n",
       "    </tr>\n",
       "    <tr>\n",
       "      <th>13</th>\n",
       "      <td>02.01.1960</td>\n",
       "      <td>1960-01-02</td>\n",
       "      <td>2</td>\n",
       "      <td>1</td>\n",
       "      <td>1960</td>\n",
       "      <td>3.638</td>\n",
       "      <td>1</td>\n",
       "    </tr>\n",
       "    <tr>\n",
       "      <th>14</th>\n",
       "      <td>01/02/1960</td>\n",
       "      <td>1960-01-02</td>\n",
       "      <td>2</td>\n",
       "      <td>1</td>\n",
       "      <td>1960</td>\n",
       "      <td>3.638</td>\n",
       "      <td>1</td>\n",
       "    </tr>\n",
       "    <tr>\n",
       "      <th>15</th>\n",
       "      <td>01.02.1960</td>\n",
       "      <td>1960-01-02</td>\n",
       "      <td>2</td>\n",
       "      <td>1</td>\n",
       "      <td>1960</td>\n",
       "      <td>3.638</td>\n",
       "      <td>1</td>\n",
       "    </tr>\n",
       "    <tr>\n",
       "      <th>16</th>\n",
       "      <td>Sat 02, Jan 1960</td>\n",
       "      <td>1960-01-02</td>\n",
       "      <td>2</td>\n",
       "      <td>1</td>\n",
       "      <td>1960</td>\n",
       "      <td>3.638</td>\n",
       "      <td>1</td>\n",
       "    </tr>\n",
       "    <tr>\n",
       "      <th>17</th>\n",
       "      <td>Jan 02, 1960</td>\n",
       "      <td>1960-01-02</td>\n",
       "      <td>2</td>\n",
       "      <td>1</td>\n",
       "      <td>1960</td>\n",
       "      <td>3.638</td>\n",
       "      <td>1</td>\n",
       "    </tr>\n",
       "    <tr>\n",
       "      <th>18</th>\n",
       "      <td>Sat 02, January 1960</td>\n",
       "      <td>1960-01-02</td>\n",
       "      <td>2</td>\n",
       "      <td>1</td>\n",
       "      <td>1960</td>\n",
       "      <td>3.638</td>\n",
       "      <td>1</td>\n",
       "    </tr>\n",
       "    <tr>\n",
       "      <th>19</th>\n",
       "      <td>1960/01/02</td>\n",
       "      <td>1960-01-02</td>\n",
       "      <td>2</td>\n",
       "      <td>1</td>\n",
       "      <td>1960</td>\n",
       "      <td>3.638</td>\n",
       "      <td>1</td>\n",
       "    </tr>\n",
       "  </tbody>\n",
       "</table>\n",
       "</div>"
      ],
      "text/plain": [
       "                    text      target  day  month  year  temperature  \\\n",
       "0             01-01-1960  1960-01-01    1      1  1960        3.638   \n",
       "1             01/01/1960  1960-01-01    1      1  1960        3.638   \n",
       "2             01.01.1960  1960-01-01    1      1  1960        3.638   \n",
       "3             01/01/1960  1960-01-01    1      1  1960        3.638   \n",
       "4             01.01.1960  1960-01-01    1      1  1960        3.638   \n",
       "5       Fri 01, Jan 1960  1960-01-01    1      1  1960        3.638   \n",
       "6           Jan 01, 1960  1960-01-01    1      1  1960        3.638   \n",
       "7   Fri 01, January 1960  1960-01-01    1      1  1960        3.638   \n",
       "8             1960/01/01  1960-01-01    1      1  1960        3.638   \n",
       "9        1960 January 01  1960-01-01    1      1  1960        3.638   \n",
       "10           1960 Jan 01  1960-01-01    1      1  1960        3.638   \n",
       "11            02-01-1960  1960-01-02    2      1  1960        3.638   \n",
       "12            02/01/1960  1960-01-02    2      1  1960        3.638   \n",
       "13            02.01.1960  1960-01-02    2      1  1960        3.638   \n",
       "14            01/02/1960  1960-01-02    2      1  1960        3.638   \n",
       "15            01.02.1960  1960-01-02    2      1  1960        3.638   \n",
       "16      Sat 02, Jan 1960  1960-01-02    2      1  1960        3.638   \n",
       "17          Jan 02, 1960  1960-01-02    2      1  1960        3.638   \n",
       "18  Sat 02, January 1960  1960-01-02    2      1  1960        3.638   \n",
       "19            1960/01/02  1960-01-02    2      1  1960        3.638   \n",
       "\n",
       "    temperature_class  \n",
       "0                   1  \n",
       "1                   1  \n",
       "2                   1  \n",
       "3                   1  \n",
       "4                   1  \n",
       "5                   1  \n",
       "6                   1  \n",
       "7                   1  \n",
       "8                   1  \n",
       "9                   1  \n",
       "10                  1  \n",
       "11                  1  \n",
       "12                  1  \n",
       "13                  1  \n",
       "14                  1  \n",
       "15                  1  \n",
       "16                  1  \n",
       "17                  1  \n",
       "18                  1  \n",
       "19                  1  "
      ]
     },
     "execution_count": 4,
     "metadata": {},
     "output_type": "execute_result"
    }
   ],
   "source": [
    "data.head(20)"
   ]
  },
  {
   "cell_type": "markdown",
   "id": "189bc62d",
   "metadata": {},
   "source": [
    "### Get a subset of dates with month names"
   ]
  },
  {
   "cell_type": "code",
   "execution_count": 5,
   "id": "55dedf34",
   "metadata": {},
   "outputs": [],
   "source": [
    "from datetime import datetime"
   ]
  },
  {
   "cell_type": "code",
   "execution_count": 6,
   "id": "f86580a3",
   "metadata": {},
   "outputs": [],
   "source": [
    "selected_months = ['January', 'February', 'March', 'April', 'May', 'June', 'July', 'August', 'September', \n",
    "                  'October', 'November', 'December']\n",
    "date_list, month_list, dates_list = data.text.values, data.month.values, data.target.values\n",
    "dataset = []\n",
    "for i, d in enumerate(date_list):\n",
    "    for m in selected_months:\n",
    "        if m in d:\n",
    "#            dt = datetime.strptime(dates_list[i], '%Y-%m-%d')\n",
    "            parts = d.split(m)\n",
    "            dataset.append((\"{}{}\".format(parts[0], m), month_list[i]))\n",
    "            break"
   ]
  },
  {
   "cell_type": "code",
   "execution_count": 7,
   "id": "9db953aa",
   "metadata": {},
   "outputs": [
    {
     "data": {
      "text/plain": [
       "[('Fri 01, January', 1),\n",
       " ('1960 January', 1),\n",
       " ('Sat 02, January', 1),\n",
       " ('1960 January', 1),\n",
       " ('Sun 03, January', 1),\n",
       " ('1960 January', 1)]"
      ]
     },
     "execution_count": 7,
     "metadata": {},
     "output_type": "execute_result"
    }
   ],
   "source": [
    "dataset[:6]"
   ]
  },
  {
   "cell_type": "markdown",
   "id": "829cde50",
   "metadata": {},
   "source": [
    "## Prepare data\n",
    "In this example, we read each date (text) as a **sequence of chars** represented according to the one-hot encoding scheme."
   ]
  },
  {
   "cell_type": "code",
   "execution_count": 8,
   "id": "5dc60b3a",
   "metadata": {},
   "outputs": [],
   "source": [
    "import string\n",
    "import torch"
   ]
  },
  {
   "cell_type": "markdown",
   "id": "5955b664",
   "metadata": {},
   "source": [
    "### Date strings to PyTorch tensors"
   ]
  },
  {
   "cell_type": "code",
   "execution_count": 9,
   "id": "6b1e78c7",
   "metadata": {},
   "outputs": [],
   "source": [
    "alphabet = string.ascii_letters + string.digits + \" -./,\""
   ]
  },
  {
   "cell_type": "code",
   "execution_count": 10,
   "id": "e60c5d72",
   "metadata": {},
   "outputs": [],
   "source": [
    "def date2tensor(date_text):\n",
    "    tensor = torch.zeros(len(date_text), 1, len(alphabet))\n",
    "    for i, char in enumerate(date_text):\n",
    "        tensor[i][0][alphabet.find(char)] = 1\n",
    "    return tensor\n",
    "\n",
    "def tensor2date(date_tensor):\n",
    "    return \"\".join([alphabet[x] for x in torch.nonzero(date_tensor)[:,2]])"
   ]
  },
  {
   "cell_type": "markdown",
   "id": "2dc94c83",
   "metadata": {},
   "source": [
    "#### Example"
   ]
  },
  {
   "cell_type": "code",
   "execution_count": 11,
   "id": "b0329814",
   "metadata": {},
   "outputs": [],
   "source": [
    "dt = date2tensor('Sun 03, January')\n",
    "td = tensor2date(dt)"
   ]
  },
  {
   "cell_type": "code",
   "execution_count": 12,
   "id": "74afa9d2",
   "metadata": {},
   "outputs": [
    {
     "data": {
      "text/plain": [
       "torch.Size([15, 1, 67])"
      ]
     },
     "execution_count": 12,
     "metadata": {},
     "output_type": "execute_result"
    }
   ],
   "source": [
    "dt.size()"
   ]
  },
  {
   "cell_type": "code",
   "execution_count": 13,
   "id": "56b52e8e",
   "metadata": {},
   "outputs": [
    {
     "data": {
      "text/plain": [
       "tensor([[[0., 0., 0., 0., 0., 0., 0., 0., 0., 0., 0., 0., 0., 0., 0., 0., 0.,\n",
       "          0., 0., 0., 0., 0., 0., 0., 0., 0., 0., 0., 0., 0., 0., 0., 0., 0.,\n",
       "          0., 0., 0., 0., 0., 0., 0., 0., 0., 0., 1., 0., 0., 0., 0., 0., 0.,\n",
       "          0., 0., 0., 0., 0., 0., 0., 0., 0., 0., 0., 0., 0., 0., 0., 0.]],\n",
       "\n",
       "        [[0., 0., 0., 0., 0., 0., 0., 0., 0., 0., 0., 0., 0., 0., 0., 0., 0.,\n",
       "          0., 0., 0., 1., 0., 0., 0., 0., 0., 0., 0., 0., 0., 0., 0., 0., 0.,\n",
       "          0., 0., 0., 0., 0., 0., 0., 0., 0., 0., 0., 0., 0., 0., 0., 0., 0.,\n",
       "          0., 0., 0., 0., 0., 0., 0., 0., 0., 0., 0., 0., 0., 0., 0., 0.]]])"
      ]
     },
     "execution_count": 13,
     "metadata": {},
     "output_type": "execute_result"
    }
   ],
   "source": [
    "dt[:2]"
   ]
  },
  {
   "cell_type": "code",
   "execution_count": 14,
   "id": "08c8ff86",
   "metadata": {},
   "outputs": [
    {
     "data": {
      "text/plain": [
       "'Sun 03, January'"
      ]
     },
     "execution_count": 14,
     "metadata": {},
     "output_type": "execute_result"
    }
   ],
   "source": [
    "td"
   ]
  },
  {
   "cell_type": "markdown",
   "id": "703f738b",
   "metadata": {},
   "source": [
    "## RNN network structure\n",
    "\n",
    "![rnn](../data/rnn.png)"
   ]
  },
  {
   "cell_type": "code",
   "execution_count": 15,
   "id": "a759f3f5",
   "metadata": {},
   "outputs": [],
   "source": [
    "import torch.nn as nn"
   ]
  },
  {
   "cell_type": "code",
   "execution_count": 16,
   "id": "9a326b2f",
   "metadata": {},
   "outputs": [],
   "source": [
    "class RNN(nn.Module):\n",
    "    def __init__(self, input_size, hidden_size, output_size):\n",
    "        super(RNN, self).__init__()\n",
    "        self.hidden_size = hidden_size\n",
    "        self.i2h = nn.Linear(input_size + hidden_size, hidden_size)\n",
    "        self.i2o = nn.Linear(input_size + hidden_size, output_size)\n",
    "        self.softmax = nn.LogSoftmax(dim=1)\n",
    "\n",
    "    def forward(self, input_tensor, hidden):\n",
    "        combined = torch.cat((input_tensor, hidden), 1)\n",
    "        hidden = self.i2h(combined)\n",
    "        output = self.i2o(combined)\n",
    "        output = self.softmax(output)\n",
    "        return output, hidden\n",
    "\n",
    "    def init_hidden(self):\n",
    "        return torch.zeros(1, self.hidden_size)"
   ]
  },
  {
   "cell_type": "code",
   "execution_count": 17,
   "id": "b7ba1985",
   "metadata": {},
   "outputs": [],
   "source": [
    "hidden_size = 128\n",
    "rnn = RNN(len(alphabet), hidden_size, len(selected_months))"
   ]
  },
  {
   "cell_type": "markdown",
   "id": "3068d5bd",
   "metadata": {},
   "source": [
    "### Forward step"
   ]
  },
  {
   "cell_type": "code",
   "execution_count": 18,
   "id": "8de6fbb5",
   "metadata": {},
   "outputs": [],
   "source": [
    "date_tensor = date2tensor('Sun 03, January')\n",
    "hidden_tensor = rnn.init_hidden()"
   ]
  },
  {
   "cell_type": "code",
   "execution_count": 19,
   "id": "26c7e3db",
   "metadata": {},
   "outputs": [],
   "source": [
    "output, next_hidden = rnn(date_tensor[0], hidden_tensor)"
   ]
  },
  {
   "cell_type": "code",
   "execution_count": 20,
   "id": "8b10e6b3",
   "metadata": {},
   "outputs": [
    {
     "data": {
      "text/plain": [
       "tensor([[-2.5066, -2.3869, -2.3978, -2.5525, -2.5709, -2.4713, -2.4918, -2.3893,\n",
       "         -2.5823, -2.4691, -2.5687, -2.4598]], grad_fn=<LogSoftmaxBackward0>)"
      ]
     },
     "execution_count": 20,
     "metadata": {},
     "output_type": "execute_result"
    }
   ],
   "source": [
    "output"
   ]
  },
  {
   "cell_type": "markdown",
   "id": "c7eb689f",
   "metadata": {},
   "source": [
    "## Training"
   ]
  },
  {
   "cell_type": "code",
   "execution_count": 21,
   "id": "a752be13",
   "metadata": {},
   "outputs": [],
   "source": [
    "def output2month(output):\n",
    "    top_n, top_i = output.topk(1)\n",
    "    return selected_months[top_i[0].item()]"
   ]
  },
  {
   "cell_type": "code",
   "execution_count": 22,
   "id": "4fe2fe79",
   "metadata": {},
   "outputs": [
    {
     "data": {
      "text/plain": [
       "'February'"
      ]
     },
     "execution_count": 22,
     "metadata": {},
     "output_type": "execute_result"
    }
   ],
   "source": [
    "output2month(output)"
   ]
  },
  {
   "cell_type": "markdown",
   "id": "dd68f7dd",
   "metadata": {},
   "source": [
    "### Create a training data generator"
   ]
  },
  {
   "cell_type": "code",
   "execution_count": 23,
   "id": "8dccacf3",
   "metadata": {},
   "outputs": [],
   "source": [
    "def create_training():\n",
    "    date_string, month = dataset[np.random.choice(range(len(dataset)))]\n",
    "    date_tensor = date2tensor(date_string)\n",
    "    target_tensor = torch.tensor([month-1], dtype=torch.long)\n",
    "    return date_tensor, target_tensor, date_string, month"
   ]
  },
  {
   "cell_type": "code",
   "execution_count": 25,
   "id": "18ae9b4d",
   "metadata": {},
   "outputs": [
    {
     "name": "stdout",
     "output_type": "stream",
     "text": [
      "tensor([8]) 1984 September 9\n"
     ]
    }
   ],
   "source": [
    "input_t, target, date_string, month = create_training()\n",
    "print(target, date_string, month)"
   ]
  },
  {
   "cell_type": "markdown",
   "id": "a8bb58c5",
   "metadata": {},
   "source": [
    "### Training"
   ]
  },
  {
   "cell_type": "code",
   "execution_count": 26,
   "id": "5a8e45a4",
   "metadata": {},
   "outputs": [],
   "source": [
    "loss_function = nn.NLLLoss()\n",
    "learning_rate = 0.005"
   ]
  },
  {
   "cell_type": "code",
   "execution_count": 27,
   "id": "f66e8328",
   "metadata": {},
   "outputs": [],
   "source": [
    "def train(target_tensor, date_tensor):\n",
    "    hidden = rnn.init_hidden()\n",
    "    rnn.zero_grad()\n",
    "    for i in range(date_tensor.size()[0]):\n",
    "        output, hidden = rnn(date_tensor[i], hidden)\n",
    "    loss = loss_function(output, target_tensor)\n",
    "    loss.backward()\n",
    "    # Add parameters' gradients to their values, multiplied by learning rate\n",
    "    for p in rnn.parameters():\n",
    "        p.data.add_(p.grad.data, alpha=-learning_rate)\n",
    "    return output, loss.item()"
   ]
  },
  {
   "cell_type": "markdown",
   "id": "445f2404",
   "metadata": {},
   "source": [
    "#### Example"
   ]
  },
  {
   "cell_type": "code",
   "execution_count": 28,
   "id": "5bd481d8",
   "metadata": {},
   "outputs": [],
   "source": [
    "date_tensor, target_tensor, date_text, month = create_training()\n",
    "output, loss = train(target_tensor, date_tensor)"
   ]
  },
  {
   "cell_type": "code",
   "execution_count": 29,
   "id": "7bca210a",
   "metadata": {},
   "outputs": [
    {
     "data": {
      "text/plain": [
       "2.4746501445770264"
      ]
     },
     "execution_count": 29,
     "metadata": {},
     "output_type": "execute_result"
    }
   ],
   "source": [
    "loss"
   ]
  },
  {
   "cell_type": "code",
   "execution_count": 30,
   "id": "688ed540",
   "metadata": {},
   "outputs": [
    {
     "name": "stdout",
     "output_type": "stream",
     "text": [
      "1987 June\n",
      "1987 June\n",
      "March\n"
     ]
    }
   ],
   "source": [
    "print(date_text)\n",
    "print(tensor2date(date_tensor))\n",
    "print(output2month(output))"
   ]
  },
  {
   "cell_type": "markdown",
   "id": "4fcef3b5",
   "metadata": {},
   "source": [
    "### Training with more data"
   ]
  },
  {
   "cell_type": "code",
   "execution_count": 31,
   "id": "d0c3fdd5",
   "metadata": {},
   "outputs": [],
   "source": [
    "hidden_size = 128\n",
    "rnn = RNN(len(alphabet), hidden_size, len(selected_months))"
   ]
  },
  {
   "cell_type": "code",
   "execution_count": 32,
   "id": "a16f3c63",
   "metadata": {},
   "outputs": [
    {
     "data": {
      "application/vnd.jupyter.widget-view+json": {
       "model_id": "82999bc5d2ee4354983dbe2046714dce",
       "version_major": 2,
       "version_minor": 0
      },
      "text/plain": [
       "  0%|          | 0/3000 [00:00<?, ?it/s]"
      ]
     },
     "metadata": {},
     "output_type": "display_data"
    }
   ],
   "source": [
    "epochs = 3000\n",
    "error_history = []\n",
    "run = list(enumerate(range(epochs)))\n",
    "e = 0\n",
    "log_period = 50\n",
    "\n",
    "for i, epoch in tqdm(run):\n",
    "    date_tensor, target_tensor, date_text, month = create_training()\n",
    "    output, loss = train(target_tensor, date_tensor)\n",
    "    e += loss\n",
    "    if i > 0 and i % log_period == 0:\n",
    "        error_history.append(e / log_period)\n",
    "        e = 0"
   ]
  },
  {
   "cell_type": "markdown",
   "id": "bd0193cd",
   "metadata": {},
   "source": [
    "#### Plot error rate"
   ]
  },
  {
   "cell_type": "code",
   "execution_count": 33,
   "id": "4a21fdb2",
   "metadata": {},
   "outputs": [],
   "source": [
    "import matplotlib.pyplot as plt"
   ]
  },
  {
   "cell_type": "code",
   "execution_count": 34,
   "id": "9c494895",
   "metadata": {},
   "outputs": [
    {
     "data": {
      "image/png": "[encoded data removed]",
      "text/plain": [
       "<Figure size 864x288 with 1 Axes>"
      ]
     },
     "metadata": {
      "needs_background": "light"
     },
     "output_type": "display_data"
    }
   ],
   "source": [
    "fig, ax = plt.subplots(figsize=(12, 4))\n",
    "ax.plot(error_history)\n",
    "plt.tight_layout()\n",
    "plt.show()"
   ]
  },
  {
   "cell_type": "markdown",
   "id": "72e06060",
   "metadata": {},
   "source": [
    "## Test and evaluate"
   ]
  },
  {
   "cell_type": "markdown",
   "id": "a1205ddd",
   "metadata": {},
   "source": [
    "### Test"
   ]
  },
  {
   "cell_type": "code",
   "execution_count": 35,
   "id": "1cde301f",
   "metadata": {},
   "outputs": [],
   "source": [
    "def predict(date_text):\n",
    "    hidden = rnn.init_hidden()\n",
    "    date_tensor = date2tensor(date_text)\n",
    "    for char_tensor in date_tensor:\n",
    "        output, hidden = rnn(char_tensor, hidden)\n",
    "    return output\n",
    "\n",
    "def output2month(output):\n",
    "    return int(output.argmax() + 1)"
   ]
  },
  {
   "cell_type": "code",
   "execution_count": 37,
   "id": "03b3f5b0",
   "metadata": {},
   "outputs": [
    {
     "data": {
      "text/plain": [
       "5"
      ]
     },
     "execution_count": 37,
     "metadata": {},
     "output_type": "execute_result"
    }
   ],
   "source": [
    "output2month(predict('1, May'))"
   ]
  },
  {
   "cell_type": "code",
   "execution_count": 38,
   "id": "d71afc4d",
   "metadata": {},
   "outputs": [
    {
     "name": "stdout",
     "output_type": "stream",
     "text": [
      "1968 November month is 12\n",
      "Wed 24, September month is 9\n",
      "Sat 26, March month is 3\n",
      "1971 April month is 4\n",
      "1993 December month is 12\n",
      "Mon 26, August month is 8\n",
      "1967 June month is 6\n",
      "Wed 11, August month is 8\n",
      "2000 November month is 12\n",
      "1965 March month is 3\n"
     ]
    }
   ],
   "source": [
    "sample = np.random.choice([x for x, y in dataset], 10)\n",
    "for d in sample:\n",
    "    print(d, \"month is\", output2month(predict(d)))"
   ]
  },
  {
   "cell_type": "code",
   "execution_count": 42,
   "id": "0b4ee629",
   "metadata": {},
   "outputs": [
    {
     "data": {
      "text/plain": [
       "12"
      ]
     },
     "execution_count": 42,
     "metadata": {},
     "output_type": "execute_result"
    }
   ],
   "source": [
    "output2month(predict('Christmass is on December'))"
   ]
  },
  {
   "cell_type": "code",
   "execution_count": 48,
   "id": "125960c7",
   "metadata": {},
   "outputs": [
    {
     "data": {
      "text/plain": [
       "4"
      ]
     },
     "execution_count": 48,
     "metadata": {},
     "output_type": "execute_result"
    }
   ],
   "source": [
    "output2month(predict('3012 ril'))"
   ]
  },
  {
   "cell_type": "markdown",
   "id": "5f1eedcf",
   "metadata": {},
   "source": [
    "### Evaluate"
   ]
  },
  {
   "cell_type": "code",
   "execution_count": 49,
   "id": "dd883f55",
   "metadata": {},
   "outputs": [],
   "source": [
    "from sklearn.metrics import classification_report, confusion_matrix, ConfusionMatrixDisplay"
   ]
  },
  {
   "cell_type": "code",
   "execution_count": 50,
   "id": "37808dae",
   "metadata": {},
   "outputs": [],
   "source": [
    "y_true, y_pred = [], []\n",
    "for i in range(2000):\n",
    "    date_tensor, target_tensor, date_text, month = create_training()\n",
    "    y_true.append(selected_months[month-1])\n",
    "    p = output2month(predict(date_text))\n",
    "    y_pred.append(selected_months[p-1])"
   ]
  },
  {
   "cell_type": "code",
   "execution_count": 52,
   "id": "631ad76e",
   "metadata": {},
   "outputs": [
    {
     "name": "stdout",
     "output_type": "stream",
     "text": [
      "              precision    recall  f1-score   support\n",
      "\n",
      "       April       1.00      1.00      1.00       144\n",
      "      August       1.00      1.00      1.00       153\n",
      "    December       0.51      1.00      0.68       159\n",
      "    February       1.00      1.00      1.00       122\n",
      "     January       1.00      1.00      1.00       160\n",
      "        July       1.00      1.00      1.00       148\n",
      "        June       1.00      1.00      1.00       141\n",
      "       March       1.00      1.00      1.00       155\n",
      "         May       1.00      1.00      1.00       364\n",
      "    November       0.00      0.00      0.00       151\n",
      "     October       1.00      1.00      1.00       164\n",
      "   September       1.00      1.00      1.00       139\n",
      "\n",
      "    accuracy                           0.92      2000\n",
      "   macro avg       0.88      0.92      0.89      2000\n",
      "weighted avg       0.89      0.92      0.90      2000\n",
      "\n"
     ]
    }
   ],
   "source": [
    "print(classification_report(y_true, y_pred, zero_division=0))"
   ]
  },
  {
   "cell_type": "code",
   "execution_count": 53,
   "id": "05d34f4c",
   "metadata": {},
   "outputs": [],
   "source": [
    "cm = confusion_matrix(y_true, y_pred, labels=selected_months)"
   ]
  },
  {
   "cell_type": "code",
   "execution_count": 54,
   "id": "f4533965",
   "metadata": {},
   "outputs": [
    {
     "data": {
      "image/png": "[encoded data removed]",
      "text/plain": [
       "<Figure size 864x576 with 2 Axes>"
      ]
     },
     "metadata": {
      "needs_background": "light"
     },
     "output_type": "display_data"
    }
   ],
   "source": [
    "fig, ax = plt.subplots(figsize=(12, 8))\n",
    "dis = ConfusionMatrixDisplay(cm, display_labels=selected_months)\n",
    "dis.plot(ax=ax, cmap='Greens', xticks_rotation='vertical')\n",
    "plt.tight_layout()\n",
    "plt.show()"
   ]
  },
  {
   "cell_type": "code",
   "execution_count": null,
   "id": "c3a64ce0",
   "metadata": {},
   "outputs": [],
   "source": []
  }
 ],
 "metadata": {
  "kernelspec": {
   "display_name": "crike",
   "language": "python",
   "name": "crike"
  },
  "language_info": {
   "codemirror_mode": {
    "name": "ipython",
    "version": 3
   },
   "file_extension": ".py",
   "mimetype": "text/x-python",
   "name": "python",
   "nbconvert_exporter": "python",
   "pygments_lexer": "ipython3",
   "version": "3.8.8"
  },
  "toc": {
   "base_numbering": 1,
   "nav_menu": {},
   "number_sections": true,
   "sideBar": true,
   "skip_h1_title": false,
   "title_cell": "Table of Contents",
   "title_sidebar": "Contents",
   "toc_cell": false,
   "toc_position": {},
   "toc_section_display": true,
   "toc_window_display": false
  }
 },
 "nbformat": 4,
 "nbformat_minor": 5
}

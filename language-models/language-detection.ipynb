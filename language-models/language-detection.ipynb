{
 "cells": [
  {
   "cell_type": "markdown",
   "id": "55c6f469",
   "metadata": {},
   "source": [
    "# Example of language detection by RNN\n",
    "Inspired from **NLP FROM SCRATCH: CLASSIFYING NAMES WITH A CHARACTER-LEVEL RNN** by *Sean Robertson* (see [here](https://pytorch.org/tutorials/intermediate/char_rnn_classification_tutorial.html))"
   ]
  },
  {
   "cell_type": "code",
   "execution_count": 1,
   "id": "0f5dba18",
   "metadata": {},
   "outputs": [],
   "source": [
    "import pandas as pd\n",
    "import numpy as np\n",
    "from tqdm.notebook import tqdm"
   ]
  },
  {
   "cell_type": "markdown",
   "id": "452e2138",
   "metadata": {},
   "source": [
    "## Design\n",
    "### Data\n",
    "We need to collect samples of words from different languages and produce a training set that maps single words to the corresponding language:\n",
    "\n",
    "| word | lang |\n",
    "|---|---|\n",
    "|play|eng|\n",
    "|gioco|ita|\n",
    "|...|...|\n",
    "\n",
    "### Model the problem as sequence learning by RNN\n",
    "The input is given by the sequence of characters of each word. Each character is a one-hot vector over the alphabet.\n",
    "\n",
    "The RNN module (mostly copied from the PyTorch for Torch users tutorial) is just 2 linear layers which operate on an input and hidden state, with a LogSoftmax layer after the output.\n",
    "![](Z2xbySO.png)\n",
    "\n",
    "The final `softmax` layer wil produce a probability distribution over the possible languages for each arbitrary sequence of characters."
   ]
  },
  {
   "cell_type": "markdown",
   "id": "a4173d34",
   "metadata": {},
   "source": [
    "## Data preparation\n",
    "We create controlled lists of words per language by taking to most frequent ones. Frequency lists may be found online but they can be also built from corpora. See as a resource [this web site](https://github.com/oprogramador/most-common-words-by-language)."
   ]
  },
  {
   "cell_type": "code",
   "execution_count": 2,
   "id": "ff90e0a8",
   "metadata": {},
   "outputs": [],
   "source": [
    "import os"
   ]
  },
  {
   "cell_type": "code",
   "execution_count": 3,
   "id": "f8d3deaf",
   "metadata": {},
   "outputs": [],
   "source": [
    "folder = '/Users/flint/Data/wordlists/wiki/'\n",
    "files = os.listdir(folder)"
   ]
  },
  {
   "cell_type": "code",
   "execution_count": 4,
   "id": "f48fb591",
   "metadata": {},
   "outputs": [],
   "source": [
    "languages = {}\n",
    "for filename in files:\n",
    "    lang = filename.split('.')[0]\n",
    "    with open(os.path.join(folder, filename), 'r') as infile:\n",
    "        content = infile.read()\n",
    "        languages[lang] = []\n",
    "        for candidate in content.split():\n",
    "            try:\n",
    "                w = int(candidate.replace('.', ''))\n",
    "            except ValueError:\n",
    "                if len(languages[lang]) < 5000:\n",
    "                    languages[lang].append(candidate)"
   ]
  },
  {
   "cell_type": "code",
   "execution_count": 7,
   "id": "e14d73db",
   "metadata": {},
   "outputs": [
    {
     "data": {
      "text/plain": [
       "['the', 'of', 'and', 'to', 'a', 'in', 'for', 'is', 'on', 'that']"
      ]
     },
     "execution_count": 7,
     "metadata": {},
     "output_type": "execute_result"
    }
   ],
   "source": [
    "languages['english'][:10]"
   ]
  },
  {
   "cell_type": "code",
   "execution_count": 8,
   "id": "161987af",
   "metadata": {},
   "outputs": [
    {
     "name": "stdout",
     "output_type": "stream",
     "text": [
      "german 5000\n",
      "french 5000\n",
      "english 5000\n",
      "spanish 5000\n",
      "italian 5000\n"
     ]
    }
   ],
   "source": [
    "for lang, lang_list in languages.items():\n",
    "    print(lang, len(lang_list))"
   ]
  },
  {
   "cell_type": "markdown",
   "id": "c4ea2fbe",
   "metadata": {},
   "source": [
    "### Create alphabet"
   ]
  },
  {
   "cell_type": "code",
   "execution_count": 9,
   "id": "201b83c4",
   "metadata": {},
   "outputs": [],
   "source": [
    "alphabet = set()\n",
    "for lang_list in languages.values():\n",
    "    a = set()\n",
    "    for w in lang_list:\n",
    "        a = a.union(set(w))\n",
    "    alphabet = alphabet.union(a)\n",
    "alphabet = list(alphabet) + [' ']"
   ]
  },
  {
   "cell_type": "code",
   "execution_count": 10,
   "id": "f0485430",
   "metadata": {},
   "outputs": [
    {
     "data": {
      "text/plain": [
       "93"
      ]
     },
     "execution_count": 10,
     "metadata": {},
     "output_type": "execute_result"
    }
   ],
   "source": [
    "len(alphabet)"
   ]
  },
  {
   "cell_type": "markdown",
   "id": "80e9334d",
   "metadata": {},
   "source": [
    "### Words to tensors\n",
    "To represent a single letter, we use a ``one-hot vector`` of size ``<1 x n_letters>``. A one-hot vector is filled with 0s except for a 1 at index of the current letter, e.g. ``b = <0 1 0 0 0 ...>``.\n",
    "\n",
    "To make a word we join a bunch of those into a 2D matrix ``<line_length x 1 x n_letters>``.\n",
    "\n",
    "That extra 1 dimension is because PyTorch assumes everything is in batches - we're just using a batch size of 1 here."
   ]
  },
  {
   "cell_type": "code",
   "execution_count": 13,
   "id": "cf526d4a",
   "metadata": {},
   "outputs": [],
   "source": [
    "import torch"
   ]
  },
  {
   "cell_type": "code",
   "execution_count": 18,
   "id": "59ce77dd",
   "metadata": {},
   "outputs": [],
   "source": [
    "def char2index(char):\n",
    "    return alphabet.index(char)\n",
    "\n",
    "def char2tensor(char):\n",
    "    tensor = torch.zeros(1, len(alphabet))\n",
    "    tensor[0][char2index(char)] = 1\n",
    "    return tensor\n",
    "\n",
    "def word2tensor(word):\n",
    "    tensor = torch.zeros(len(word), 1, len(alphabet))\n",
    "    for li, char in enumerate(word):\n",
    "        tensor[li][0][char2index(char)] = 1\n",
    "    return tensor"
   ]
  },
  {
   "cell_type": "code",
   "execution_count": 19,
   "id": "68fd5344",
   "metadata": {},
   "outputs": [
    {
     "data": {
      "text/plain": [
       "tensor([[0., 0., 0., 0., 0., 0., 0., 0., 0., 0., 0., 0., 0., 0., 0., 0., 0., 0.,\n",
       "         0., 0., 0., 0., 0., 0., 0., 0., 0., 0., 0., 0., 0., 0., 0., 0., 0., 0.,\n",
       "         0., 0., 0., 0., 0., 0., 0., 0., 0., 0., 0., 0., 0., 0., 0., 0., 0., 0.,\n",
       "         0., 0., 0., 0., 0., 0., 0., 0., 0., 0., 0., 0., 0., 0., 0., 0., 0., 0.,\n",
       "         0., 0., 0., 0., 0., 0., 0., 1., 0., 0., 0., 0., 0., 0., 0., 0., 0., 0.,\n",
       "         0., 0., 0.]])"
      ]
     },
     "execution_count": 19,
     "metadata": {},
     "output_type": "execute_result"
    }
   ],
   "source": [
    "char2tensor('F')"
   ]
  },
  {
   "cell_type": "code",
   "execution_count": 21,
   "id": "3ae4885e",
   "metadata": {},
   "outputs": [
    {
     "data": {
      "text/plain": [
       "torch.Size([3, 1, 93])"
      ]
     },
     "execution_count": 21,
     "metadata": {},
     "output_type": "execute_result"
    }
   ],
   "source": [
    "word2tensor('Fer').size()"
   ]
  },
  {
   "cell_type": "markdown",
   "id": "81ead314",
   "metadata": {},
   "source": [
    "## Network"
   ]
  },
  {
   "cell_type": "code",
   "execution_count": 22,
   "id": "5a6117d1",
   "metadata": {},
   "outputs": [],
   "source": [
    "import torch.nn as nn"
   ]
  },
  {
   "cell_type": "code",
   "execution_count": 27,
   "id": "0cb128d8",
   "metadata": {},
   "outputs": [],
   "source": [
    "class RNN(nn.Module):\n",
    "    def __init__(self, input_size, hidden_size, output_size):\n",
    "        super(RNN, self).__init__()\n",
    "\n",
    "        self.hidden_size = hidden_size\n",
    "\n",
    "        self.i2h = nn.Linear(input_size + hidden_size, hidden_size)\n",
    "        self.i2o = nn.Linear(input_size + hidden_size, output_size)\n",
    "        self.softmax = nn.LogSoftmax(dim=1)\n",
    "\n",
    "    def forward(self, input, hidden):\n",
    "        combined = torch.cat((input, hidden), 1)\n",
    "        hidden = self.i2h(combined)\n",
    "        output = self.i2o(combined)\n",
    "        output = self.softmax(output)\n",
    "        return output, hidden\n",
    "\n",
    "    def initHidden(self):\n",
    "        return torch.zeros(1, self.hidden_size)"
   ]
  },
  {
   "cell_type": "code",
   "execution_count": 28,
   "id": "65d06771",
   "metadata": {},
   "outputs": [],
   "source": [
    "n_hidden = 64\n",
    "target_labels = list(languages.keys()) \n",
    "rnn = RNN(len(alphabet), n_hidden, len(target_labels))"
   ]
  },
  {
   "cell_type": "markdown",
   "id": "adc9100a",
   "metadata": {},
   "source": [
    "### Network forward step\n",
    "To run a step of this network we need to pass an input (in our case, the Tensor for the current letter) and a previous hidden state (which we initialize as zeros at first). We'll get back the output (probability of each language) and a next hidden state (which we keep for the next step)."
   ]
  },
  {
   "cell_type": "code",
   "execution_count": 29,
   "id": "cce8427f",
   "metadata": {},
   "outputs": [],
   "source": [
    "input_chars = word2tensor('Test')\n",
    "hidden = torch.zeros(1, n_hidden)\n",
    "output, next_hidden = rnn(input_chars[0], hidden)"
   ]
  },
  {
   "cell_type": "code",
   "execution_count": 33,
   "id": "f3fde9ce",
   "metadata": {},
   "outputs": [
    {
     "data": {
      "text/plain": [
       "['german', 'french', 'english', 'spanish', 'italian']"
      ]
     },
     "execution_count": 33,
     "metadata": {},
     "output_type": "execute_result"
    }
   ],
   "source": [
    "target_labels"
   ]
  },
  {
   "cell_type": "code",
   "execution_count": 32,
   "id": "db92f68c",
   "metadata": {},
   "outputs": [
    {
     "data": {
      "text/plain": [
       "tensor([[-1.6441, -1.5655, -1.5662, -1.6536, -1.6213]],\n",
       "       grad_fn=<LogSoftmaxBackward0>)"
      ]
     },
     "execution_count": 32,
     "metadata": {},
     "output_type": "execute_result"
    }
   ],
   "source": [
    "output"
   ]
  },
  {
   "cell_type": "code",
   "execution_count": 34,
   "id": "082076ee",
   "metadata": {},
   "outputs": [
    {
     "name": "stdout",
     "output_type": "stream",
     "text": [
      "german -1.6441367864608765\n",
      "french -1.5655066967010498\n",
      "english -1.566218376159668\n",
      "spanish -1.6535898447036743\n",
      "italian -1.6212900876998901\n",
      "\n",
      "french\n"
     ]
    }
   ],
   "source": [
    "for i, lang in enumerate(target_labels):\n",
    "    print(lang, float(output[0][i]))\n",
    "print()\n",
    "topv, topi = output.topk(1)\n",
    "print(target_labels[topi])"
   ]
  },
  {
   "cell_type": "markdown",
   "id": "4c76f711",
   "metadata": {},
   "source": [
    "### Training"
   ]
  },
  {
   "cell_type": "code",
   "execution_count": 35,
   "id": "55404cbe",
   "metadata": {},
   "outputs": [],
   "source": [
    "import random"
   ]
  },
  {
   "cell_type": "code",
   "execution_count": 36,
   "id": "9608394b",
   "metadata": {},
   "outputs": [],
   "source": [
    "def choice(l):\n",
    "    return l[random.randint(0, len(l) - 1)]\n",
    "\n",
    "def random_training_sample():\n",
    "    category = choice(target_labels)\n",
    "    word = choice(languages[category])\n",
    "    category_tensor = torch.tensor(\n",
    "        [target_labels.index(category)], dtype=torch.long)\n",
    "    word_tensor = word2tensor(word)\n",
    "    return category, word, category_tensor, word_tensor"
   ]
  },
  {
   "cell_type": "code",
   "execution_count": 37,
   "id": "95af1387",
   "metadata": {},
   "outputs": [
    {
     "name": "stdout",
     "output_type": "stream",
     "text": [
      "category = spanish \t word = mandó\n",
      "category = spanish \t word = ayudas\n",
      "category = italian \t word = sé\n",
      "category = spanish \t word = elizabeth\n",
      "category = french \t word = anglaise\n",
      "category = french \t word = dents\n",
      "category = english \t word = shoppers\n",
      "category = italian \t word = sieda\n",
      "category = french \t word = êtes\n",
      "category = french \t word = voile\n"
     ]
    }
   ],
   "source": [
    "for i in range(10):\n",
    "    category, word, category_tensor, word_tensor = random_training_sample()\n",
    "    print('category =', category, '\\t word =', word)"
   ]
  },
  {
   "cell_type": "code",
   "execution_count": 38,
   "id": "e972169d",
   "metadata": {},
   "outputs": [],
   "source": [
    "criterion = nn.NLLLoss()\n",
    "learning_rate = 0.005\n",
    "\n",
    "def train(category_tensor, word_tensor):\n",
    "    hidden = rnn.initHidden()\n",
    "    rnn.zero_grad()\n",
    "\n",
    "    for i in range(word_tensor.size()[0]):\n",
    "        output, hidden = rnn(word_tensor[i], hidden)\n",
    "\n",
    "    loss = criterion(output, category_tensor)\n",
    "    loss.backward()\n",
    "\n",
    "    # Add parameters' gradients to their values, \n",
    "    # multiplied by learning rate\n",
    "    for p in rnn.parameters():\n",
    "        p.data.add_(p.grad.data, alpha=-learning_rate)\n",
    "\n",
    "    return output, loss.item()"
   ]
  },
  {
   "cell_type": "markdown",
   "id": "1495b3fa",
   "metadata": {},
   "source": [
    "Now we just have to run that with a bunch of examples. Since the train function returns both the output and loss we can print its guesses and also keep track of loss for plotting. Since there are 1000s of examples we print only every print_every examples, and take an average of the loss."
   ]
  },
  {
   "cell_type": "code",
   "execution_count": 39,
   "id": "86ca559e",
   "metadata": {},
   "outputs": [
    {
     "data": {
      "application/vnd.jupyter.widget-view+json": {
       "model_id": "db0ba578b210417891894764f52bd934",
       "version_major": 2,
       "version_minor": 0
      },
      "text/plain": [
       "  0%|          | 0/100000 [00:00<?, ?it/s]"
      ]
     },
     "metadata": {},
     "output_type": "display_data"
    }
   ],
   "source": [
    "n_iters = 100000\n",
    "plot_every = 500\n",
    "\n",
    "# Keep track of losses for plotting\n",
    "current_loss = 0\n",
    "all_losses = []\n",
    "\n",
    "run = tqdm(list(range(1, n_iters + 1)))\n",
    "\n",
    "for iteration in run:\n",
    "    category, word, category_tensor, word_tensor = random_training_sample()\n",
    "    output, loss = train(category_tensor, word_tensor)\n",
    "    current_loss += loss\n",
    "\n",
    "    # Add current loss avg to list of losses\n",
    "    if iteration % plot_every == 0:\n",
    "        all_losses.append(current_loss / plot_every)\n",
    "        current_loss = 0"
   ]
  },
  {
   "cell_type": "code",
   "execution_count": 40,
   "id": "e4083a47",
   "metadata": {},
   "outputs": [],
   "source": [
    "import matplotlib.pyplot as plt"
   ]
  },
  {
   "cell_type": "code",
   "execution_count": 41,
   "id": "1c16a52d",
   "metadata": {},
   "outputs": [
    {
     "data": {
      "image/png": "[encoded data removed]",
      "text/plain": [
       "<Figure size 720x288 with 1 Axes>"
      ]
     },
     "metadata": {
      "needs_background": "light"
     },
     "output_type": "display_data"
    }
   ],
   "source": [
    "fig, ax = plt.subplots(figsize=(10,4))\n",
    "ax.plot(all_losses)\n",
    "plt.tight_layout()\n",
    "plt.show()"
   ]
  },
  {
   "cell_type": "markdown",
   "id": "504339bc",
   "metadata": {},
   "source": [
    "## Evaluate"
   ]
  },
  {
   "cell_type": "code",
   "execution_count": 42,
   "id": "03210934",
   "metadata": {},
   "outputs": [],
   "source": [
    "from sklearn.metrics import classification_report, confusion_matrix, ConfusionMatrixDisplay"
   ]
  },
  {
   "cell_type": "code",
   "execution_count": 43,
   "id": "4b92f8ba",
   "metadata": {},
   "outputs": [],
   "source": [
    "def evaluate(word_tensor):\n",
    "    hidden = rnn.initHidden()\n",
    "    for i in range(word_tensor.size()[0]):\n",
    "        output, hidden = rnn(word_tensor[i], hidden)\n",
    "    return output"
   ]
  },
  {
   "cell_type": "code",
   "execution_count": 44,
   "id": "e10d3a32",
   "metadata": {},
   "outputs": [],
   "source": [
    "y_true, y_pred = [], []\n",
    "for test in range(1000):\n",
    "    category, word, category_tensor, word_tensor = random_training_sample()\n",
    "    out = evaluate(word_tensor)\n",
    "    topv, topi = out.topk(1)\n",
    "    y_true.append(category)\n",
    "    y_pred.append(target_labels[topi])"
   ]
  },
  {
   "cell_type": "code",
   "execution_count": 45,
   "id": "0039b678",
   "metadata": {},
   "outputs": [
    {
     "name": "stdout",
     "output_type": "stream",
     "text": [
      "              precision    recall  f1-score   support\n",
      "\n",
      "     english       0.66      0.43      0.52       222\n",
      "      french       0.53      0.61      0.57       197\n",
      "      german       0.74      0.90      0.81       173\n",
      "     italian       0.77      0.45      0.57       211\n",
      "     spanish       0.45      0.68      0.54       197\n",
      "\n",
      "    accuracy                           0.60      1000\n",
      "   macro avg       0.63      0.61      0.60      1000\n",
      "weighted avg       0.63      0.60      0.59      1000\n",
      "\n"
     ]
    },
    {
     "data": {
      "image/png": "[encoded data removed]",
      "text/plain": [
       "<Figure size 432x288 with 2 Axes>"
      ]
     },
     "metadata": {
      "needs_background": "light"
     },
     "output_type": "display_data"
    }
   ],
   "source": [
    "print(classification_report(y_true, y_pred))\n",
    "cm = confusion_matrix(y_true, y_pred, labels=target_labels)\n",
    "disp = ConfusionMatrixDisplay(confusion_matrix=cm, \n",
    "                              display_labels=target_labels)\n",
    "disp.plot()\n",
    "plt.show()"
   ]
  },
  {
   "cell_type": "markdown",
   "id": "d46990c9",
   "metadata": {},
   "source": [
    "### Predictions"
   ]
  },
  {
   "cell_type": "code",
   "execution_count": null,
   "id": "a26313ce",
   "metadata": {},
   "outputs": [],
   "source": [
    "def predict(input_line, n_predictions=3):\n",
    "    print('\\n> %s' % input_line)\n",
    "    with torch.no_grad():\n",
    "        output = evaluate(word2tensor(input_line))\n",
    "\n",
    "        # Get top N categories\n",
    "        topv, topi = output.topk(n_predictions, 1, True)\n",
    "        predictions = []\n",
    "\n",
    "        for i in range(n_predictions):\n",
    "            value = topv[0][i].item()\n",
    "            category_index = topi[0][i].item()\n",
    "            print('(%.2f) %s' % (value, target_labels[category_index]))\n",
    "            predictions.append([value, target_labels[category_index]])"
   ]
  },
  {
   "cell_type": "code",
   "execution_count": null,
   "id": "93fe1b5e",
   "metadata": {},
   "outputs": [],
   "source": [
    "for sample in range(10):\n",
    "    category, word, category_tensor, word_tensor = random_training_sample()\n",
    "    print(category)\n",
    "    predict(word)\n",
    "    print()"
   ]
  },
  {
   "cell_type": "code",
   "execution_count": null,
   "id": "5d044d3b",
   "metadata": {},
   "outputs": [],
   "source": [
    "predict('io parlo italiano')"
   ]
  },
  {
   "cell_type": "code",
   "execution_count": null,
   "id": "51987b77",
   "metadata": {},
   "outputs": [],
   "source": [
    "predict('io')"
   ]
  },
  {
   "cell_type": "code",
   "execution_count": null,
   "id": "be8e2d24",
   "metadata": {},
   "outputs": [],
   "source": [
    "predict('do you play football')"
   ]
  },
  {
   "cell_type": "code",
   "execution_count": null,
   "id": "5021c37c",
   "metadata": {},
   "outputs": [],
   "source": []
  },
  {
   "cell_type": "code",
   "execution_count": null,
   "id": "74e1e583",
   "metadata": {},
   "outputs": [],
   "source": []
  }
 ],
 "metadata": {
  "kernelspec": {
   "display_name": "Python 3 (ipykernel)",
   "language": "python",
   "name": "python3"
  },
  "language_info": {
   "codemirror_mode": {
    "name": "ipython",
    "version": 3
   },
   "file_extension": ".py",
   "mimetype": "text/x-python",
   "name": "python",
   "nbconvert_exporter": "python",
   "pygments_lexer": "ipython3",
   "version": "3.8.8"
  },
  "toc": {
   "base_numbering": 1,
   "nav_menu": {},
   "number_sections": true,
   "sideBar": true,
   "skip_h1_title": false,
   "title_cell": "Table of Contents",
   "title_sidebar": "Contents",
   "toc_cell": false,
   "toc_position": {},
   "toc_section_display": true,
   "toc_window_display": false
  }
 },
 "nbformat": 4,
 "nbformat_minor": 5
}

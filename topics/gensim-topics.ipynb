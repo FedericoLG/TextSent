{
 "cells": [
  {
   "cell_type": "markdown",
   "id": "d6f46b59",
   "metadata": {},
   "source": [
    "# Get topics by Gensim"
   ]
  },
  {
   "cell_type": "code",
   "execution_count": 1,
   "id": "ca4c69e0",
   "metadata": {},
   "outputs": [],
   "source": [
    "import pandas as pd\n",
    "import numpy as np\n",
    "from tqdm.notebook import tqdm"
   ]
  },
  {
   "cell_type": "code",
   "execution_count": 2,
   "id": "5f615dff",
   "metadata": {},
   "outputs": [],
   "source": [
    "import json"
   ]
  },
  {
   "cell_type": "code",
   "execution_count": 3,
   "id": "b5f3b5fc",
   "metadata": {},
   "outputs": [],
   "source": [
    "review_data_file = '../lexicon/data/yelp_sample.json'\n",
    "with open(review_data_file, 'r') as infile:\n",
    "    R = json.load(infile)"
   ]
  },
  {
   "cell_type": "code",
   "execution_count": 4,
   "id": "fa2560e8",
   "metadata": {},
   "outputs": [],
   "source": [
    "from nltk.tokenize import word_tokenize\n",
    "from string import punctuation\n",
    "from sklearn.feature_extraction.text import TfidfVectorizer"
   ]
  },
  {
   "cell_type": "code",
   "execution_count": 5,
   "id": "4898f469",
   "metadata": {},
   "outputs": [],
   "source": [
    "import spacy\n",
    "nlp = spacy.load('en_core_web_lg')"
   ]
  },
  {
   "cell_type": "code",
   "execution_count": 6,
   "id": "b24d92c1",
   "metadata": {},
   "outputs": [
    {
     "data": {
      "application/vnd.jupyter.widget-view+json": {
       "model_id": "a72566c920c84b92b698ece5463afbfc",
       "version_major": 2,
       "version_minor": 0
      },
      "text/plain": [
       "  0%|          | 0/4000 [00:00<?, ?it/s]"
      ]
     },
     "metadata": {},
     "output_type": "display_data"
    }
   ],
   "source": [
    "R = R[:4000]\n",
    "lemmatized_docs = [] \n",
    "for text in tqdm(R):\n",
    "    content = nlp(text['content'])\n",
    "    tokens = []\n",
    "    for sent in content.sents:\n",
    "        for token in sent:\n",
    "            if token.pos_ in {'NOUN', 'PNOUN'}:\n",
    "                tokens.append(token.lemma_.lower())\n",
    "    lemmatized_docs.append(tokens)"
   ]
  },
  {
   "cell_type": "code",
   "execution_count": 7,
   "id": "81b4643d",
   "metadata": {},
   "outputs": [
    {
     "data": {
      "text/plain": [
       "['salad', 'yum', 'addition', 'menu', 'location', 'service']"
      ]
     },
     "execution_count": 7,
     "metadata": {},
     "output_type": "execute_result"
    }
   ],
   "source": [
    "lemmatized_docs[0][:6]"
   ]
  },
  {
   "cell_type": "markdown",
   "id": "f86fdf82",
   "metadata": {},
   "source": [
    "## LDA by Gensim"
   ]
  },
  {
   "cell_type": "code",
   "execution_count": 8,
   "id": "02badea0",
   "metadata": {},
   "outputs": [],
   "source": [
    "from gensim.corpora.dictionary import Dictionary\n",
    "from gensim.models.ldamodel import LdaModel\n",
    "from gensim.test.utils import common_texts"
   ]
  },
  {
   "cell_type": "code",
   "execution_count": 9,
   "id": "2ada0892",
   "metadata": {},
   "outputs": [],
   "source": [
    "common_dictionary = Dictionary(lemmatized_docs)\n",
    "common_corpus = [common_dictionary.doc2bow(text) for text in lemmatized_docs]"
   ]
  },
  {
   "cell_type": "code",
   "execution_count": 10,
   "id": "28dbb568",
   "metadata": {},
   "outputs": [],
   "source": [
    "lda = LdaModel(common_corpus, id2word=common_dictionary, num_topics=10)"
   ]
  },
  {
   "cell_type": "code",
   "execution_count": 11,
   "id": "f55f63d4",
   "metadata": {},
   "outputs": [
    {
     "data": {
      "text/plain": [
       "(10, 7062)"
      ]
     },
     "execution_count": 11,
     "metadata": {},
     "output_type": "execute_result"
    }
   ],
   "source": [
    "lda.get_topics().shape"
   ]
  },
  {
   "cell_type": "code",
   "execution_count": 14,
   "id": "2a53d20d",
   "metadata": {},
   "outputs": [
    {
     "name": "stdout",
     "output_type": "stream",
     "text": [
      "Topic 0\n",
      "['food', 'burger', 'restaurant', 'service', 'table', 'time']\n",
      "Topic 1\n",
      "['food', 'place', 'time', 'restaurant', 'room', 'service']\n",
      "Topic 2\n",
      "['time', 'food', 'service', 'day', 'place', 'hair']\n",
      "Topic 3\n",
      "['food', 'place', 'chicken', 'time', 'price', 'sauce']\n",
      "Topic 4\n",
      "['service', 'time', 'place', 'food', 'location', 'experience']\n",
      "Topic 5\n",
      "['time', 'place', 'cheese', 'year', 'pizza', 'restaurant']\n",
      "Topic 6\n",
      "['place', 'food', 'time', 'drink', 'menu', 'salad']\n",
      "Topic 7\n",
      "['time', 'service', 'food', 'room', 'place', 'customer']\n",
      "Topic 8\n",
      "['service', 'car', 'time', 'place', 'store', 'day']\n",
      "Topic 9\n",
      "['cake', 'time', 'day', 'drink', 'place', 'chocolate']\n"
     ]
    }
   ],
   "source": [
    "for topic in range(10):\n",
    "    print(\"Topic {}\".format(topic))\n",
    "    print([x for x, y in lda.show_topic(topic, topn=6)])"
   ]
  },
  {
   "cell_type": "code",
   "execution_count": 19,
   "id": "47225360",
   "metadata": {},
   "outputs": [
    {
     "name": "stdout",
     "output_type": "stream",
     "text": [
      "['salad', 'yum', 'addition', 'menu', 'location', 'service', 'food', 'temp', 'kid', 'pizza']\n",
      "[(6, 0.9549691)]\n",
      "\n",
      "['momo', 'crawl', 'lot', 'restaurant', 'mutton', 'thali']\n",
      "[(0, 0.014326497), (1, 0.8710648), (2, 0.014325845), (3, 0.014325832), (4, 0.0143260555), (5, 0.014326038), (6, 0.014326456), (7, 0.014326368), (8, 0.014326025), (9, 0.014326103)]\n",
      "\n",
      "['night', 'people', 'pizza', 'attitude']\n",
      "[(0, 0.020003648), (1, 0.020006752), (2, 0.020003483), (3, 0.020008855), (4, 0.02000376), (5, 0.020006001), (6, 0.020005068), (7, 0.81995654), (8, 0.020004053), (9, 0.02000187)]\n",
      "\n",
      "['brisket', 'sandwich', 'gas', 'hipster', 'bbq', 'lunch', 'spot\\\\/', 'store', 'carwash']\n",
      "[(0, 0.010009057), (1, 0.0100082755), (2, 0.010007902), (3, 0.010008967), (4, 0.9099241), (5, 0.010007616), (6, 0.010007954), (7, 0.0100078685), (8, 0.0100091), (9, 0.010009191)]\n",
      "\n"
     ]
    }
   ],
   "source": [
    "for doc in lemmatized_docs[:4]:\n",
    "    dist = lda.get_document_topics(common_dictionary.doc2bow(doc))\n",
    "    print(doc[:10])\n",
    "    print(dist)\n",
    "    print()"
   ]
  },
  {
   "cell_type": "code",
   "execution_count": null,
   "id": "cf4170f8",
   "metadata": {},
   "outputs": [],
   "source": []
  }
 ],
 "metadata": {
  "kernelspec": {
   "display_name": "crike",
   "language": "python",
   "name": "crike"
  },
  "language_info": {
   "codemirror_mode": {
    "name": "ipython",
    "version": 3
   },
   "file_extension": ".py",
   "mimetype": "text/x-python",
   "name": "python",
   "nbconvert_exporter": "python",
   "pygments_lexer": "ipython3",
   "version": "3.8.8"
  },
  "toc": {
   "base_numbering": 1,
   "nav_menu": {},
   "number_sections": true,
   "sideBar": true,
   "skip_h1_title": false,
   "title_cell": "Table of Contents",
   "title_sidebar": "Contents",
   "toc_cell": false,
   "toc_position": {},
   "toc_section_display": true,
   "toc_window_display": false
  }
 },
 "nbformat": 4,
 "nbformat_minor": 5
}

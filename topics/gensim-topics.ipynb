{
 "cells": [
  {
   "cell_type": "markdown",
   "id": "d6f46b59",
   "metadata": {},
   "source": [
    "# Get topics by Gensim"
   ]
  },
  {
   "cell_type": "code",
   "execution_count": 1,
   "id": "ca4c69e0",
   "metadata": {},
   "outputs": [],
   "source": [
    "import pandas as pd\n",
    "import numpy as np\n",
    "from tqdm.notebook import tqdm"
   ]
  },
  {
   "cell_type": "code",
   "execution_count": 2,
   "id": "5f615dff",
   "metadata": {},
   "outputs": [],
   "source": [
    "import json"
   ]
  },
  {
   "cell_type": "code",
   "execution_count": 3,
   "id": "b5f3b5fc",
   "metadata": {},
   "outputs": [],
   "source": [
    "review_data_file = '../lexicon/data/yelp_sample.json'\n",
    "with open(review_data_file, 'r') as infile:\n",
    "    R = json.load(infile)"
   ]
  },
  {
   "cell_type": "code",
   "execution_count": 4,
   "id": "fa2560e8",
   "metadata": {},
   "outputs": [],
   "source": [
    "from nltk.tokenize import word_tokenize\n",
    "from string import punctuation\n",
    "from sklearn.feature_extraction.text import TfidfVectorizer"
   ]
  },
  {
   "cell_type": "code",
   "execution_count": 5,
   "id": "4898f469",
   "metadata": {},
   "outputs": [],
   "source": [
    "import spacy\n",
    "nlp = spacy.load('en_core_web_lg')"
   ]
  },
  {
   "cell_type": "code",
   "execution_count": 6,
   "id": "b24d92c1",
   "metadata": {},
   "outputs": [
    {
     "data": {
      "application/vnd.jupyter.widget-view+json": {
       "model_id": "ed718ad175344652b5b19df9e921f57a",
       "version_major": 2,
       "version_minor": 0
      },
      "text/plain": [
       "  0%|          | 0/6000 [00:00<?, ?it/s]"
      ]
     },
     "metadata": {},
     "output_type": "display_data"
    }
   ],
   "source": [
    "R = R[:6000]\n",
    "lemmatized_docs = [] \n",
    "for text in tqdm(R):\n",
    "    content = nlp(text['content'])\n",
    "    tokens = []\n",
    "    for sent in content.sents:\n",
    "        for token in sent:\n",
    "            if token.pos_ in {'NOUN', 'PNOUN'}:\n",
    "                tokens.append(token.lemma_.lower())\n",
    "    lemmatized_docs.append(tokens)"
   ]
  },
  {
   "cell_type": "code",
   "execution_count": 7,
   "id": "81b4643d",
   "metadata": {},
   "outputs": [
    {
     "data": {
      "text/plain": [
       "['salad', 'yum', 'addition', 'menu', 'location', 'service']"
      ]
     },
     "execution_count": 7,
     "metadata": {},
     "output_type": "execute_result"
    }
   ],
   "source": [
    "lemmatized_docs[0][:6]"
   ]
  },
  {
   "cell_type": "markdown",
   "id": "f86fdf82",
   "metadata": {},
   "source": [
    "## LDA by Gensim"
   ]
  },
  {
   "cell_type": "code",
   "execution_count": 37,
   "id": "02badea0",
   "metadata": {},
   "outputs": [],
   "source": [
    "from gensim.corpora.dictionary import Dictionary\n",
    "from gensim.models.ldamodel import LdaModel\n",
    "from gensim.models.lsimodel import LsiModel\n",
    "from gensim.test.utils import common_texts"
   ]
  },
  {
   "cell_type": "code",
   "execution_count": 38,
   "id": "2ada0892",
   "metadata": {},
   "outputs": [],
   "source": [
    "common_dictionary = Dictionary(lemmatized_docs)\n",
    "common_corpus = [common_dictionary.doc2bow(text) for text in lemmatized_docs]"
   ]
  },
  {
   "cell_type": "code",
   "execution_count": 44,
   "id": "28dbb568",
   "metadata": {},
   "outputs": [],
   "source": [
    "lda = LdaModel(common_corpus, id2word=common_dictionary, num_topics=10)"
   ]
  },
  {
   "cell_type": "code",
   "execution_count": 45,
   "id": "f55f63d4",
   "metadata": {},
   "outputs": [
    {
     "data": {
      "text/plain": [
       "(10, 8764)"
      ]
     },
     "execution_count": 45,
     "metadata": {},
     "output_type": "execute_result"
    }
   ],
   "source": [
    "lda.get_topics().shape"
   ]
  },
  {
   "cell_type": "code",
   "execution_count": 46,
   "id": "2a53d20d",
   "metadata": {},
   "outputs": [
    {
     "name": "stdout",
     "output_type": "stream",
     "text": [
      "Topic 0\n",
      "['nail', 'time', 'place', 'job', 'salon', 'hair']\n",
      "Topic 1\n",
      "['food', 'place', 'room', 'time', 'staff', 'service']\n",
      "Topic 2\n",
      "['food', 'service', 'burger', 'order', 'place', 'fry']\n",
      "Topic 3\n",
      "['place', 'time', 'service', 'people', 'food', 'year']\n",
      "Topic 4\n",
      "['class', 'store', 'place', 'dress', 'gym', 'job']\n",
      "Topic 5\n",
      "['food', 'time', 'restaurant', 'service', 'place', 'table']\n",
      "Topic 6\n",
      "['time', 'service', 'car', 'customer', 'place', 'shop']\n",
      "Topic 7\n",
      "['time', 'place', 'service', 'store', 'dog', 'food']\n",
      "Topic 8\n",
      "['place', 'drink', 'food', 'service', 'time', 'area']\n",
      "Topic 9\n",
      "['food', 'place', 'time', 'ice', 'cream', 'service']\n"
     ]
    }
   ],
   "source": [
    "for topic in range(10):\n",
    "    print(\"Topic {}\".format(topic))\n",
    "    print([x for x, y in lda.show_topic(topic, topn=6)])"
   ]
  },
  {
   "cell_type": "code",
   "execution_count": 47,
   "id": "47225360",
   "metadata": {},
   "outputs": [
    {
     "name": "stdout",
     "output_type": "stream",
     "text": [
      "['salad', 'yum', 'addition', 'menu', 'location', 'service', 'food', 'temp', 'kid', 'pizza']\n",
      "[(3, 0.49349156), (5, 0.4664632)]\n",
      "\n",
      "['momo', 'crawl', 'lot', 'restaurant', 'mutton', 'thali']\n",
      "[(0, 0.0143885305), (1, 0.01439218), (2, 0.014390268), (3, 0.014389338), (4, 0.014387952), (5, 0.014396155), (6, 0.014388528), (7, 0.8704889), (8, 0.014388934), (9, 0.014389274)]\n",
      "\n",
      "['night', 'people', 'pizza', 'attitude']\n",
      "[(0, 0.020004109), (1, 0.020004153), (2, 0.020005535), (3, 0.819947), (4, 0.020002637), (5, 0.020007875), (6, 0.02001265), (7, 0.020008035), (8, 0.020003235), (9, 0.020004736)]\n",
      "\n",
      "['brisket', 'sandwich', 'gas', 'hipster', 'bbq', 'lunch', 'spot\\\\/', 'store', 'carwash']\n",
      "[(0, 0.010019705), (1, 0.010022195), (2, 0.010022508), (3, 0.010020465), (4, 0.010019288), (5, 0.010022131), (6, 0.18740547), (7, 0.7324268), (8, 0.010019697), (9, 0.010021674)]\n",
      "\n"
     ]
    }
   ],
   "source": [
    "for doc in lemmatized_docs[:4]:\n",
    "    dist = lda.get_document_topics(common_dictionary.doc2bow(doc))\n",
    "    print(doc[:10])\n",
    "    print(dist)\n",
    "    print()"
   ]
  },
  {
   "cell_type": "markdown",
   "id": "715ea4e2",
   "metadata": {},
   "source": [
    "## TfIdf over the topic terms"
   ]
  },
  {
   "cell_type": "code",
   "execution_count": 48,
   "id": "1564f125",
   "metadata": {},
   "outputs": [],
   "source": [
    "from collections import defaultdict"
   ]
  },
  {
   "cell_type": "code",
   "execution_count": 49,
   "id": "0270fd49",
   "metadata": {},
   "outputs": [],
   "source": [
    "I = defaultdict(lambda: defaultdict(lambda: 0))\n",
    "for topic in range(10):\n",
    "    for x, y in lda.show_topic(topic, topn=20):\n",
    "        I[topic][x] += y\n",
    "Idf = pd.DataFrame(I).T.fillna(0)"
   ]
  },
  {
   "cell_type": "code",
   "execution_count": 25,
   "id": "ba4dad74",
   "metadata": {},
   "outputs": [],
   "source": [
    "IDF = {}\n",
    "for word in Idf.columns:\n",
    "    col = Idf[word]\n",
    "    n = len([x for x, y in col.items() if y > 0])\n",
    "    IDF[word] = np.log(Idf.shape[0] / n)"
   ]
  },
  {
   "cell_type": "code",
   "execution_count": 26,
   "id": "0f7eda54",
   "metadata": {},
   "outputs": [],
   "source": [
    "IDFs = pd.Series(IDF)"
   ]
  },
  {
   "cell_type": "code",
   "execution_count": 28,
   "id": "c03dbe3a",
   "metadata": {},
   "outputs": [
    {
     "data": {
      "text/plain": [
       "piece        2.302585\n",
       "nail         2.302585\n",
       "breakfast    2.302585\n",
       "lunch        2.302585\n",
       "rice         2.302585\n",
       "               ...   \n",
       "staff        0.356675\n",
       "food         0.356675\n",
       "service      0.000000\n",
       "time         0.000000\n",
       "place        0.000000\n",
       "Length: 90, dtype: float64"
      ]
     },
     "execution_count": 28,
     "metadata": {},
     "output_type": "execute_result"
    }
   ],
   "source": [
    "IDFs.sort_values(ascending=False)"
   ]
  },
  {
   "cell_type": "code",
   "execution_count": 36,
   "id": "74a01520",
   "metadata": {},
   "outputs": [
    {
     "data": {
      "text/plain": [
       "dish         0.022714\n",
       "salad        0.021602\n",
       "flavor       0.021082\n",
       "sauce        0.018902\n",
       "bit          0.016056\n",
       "               ...   \n",
       "selection    0.000000\n",
       "friend       0.000000\n",
       "lot          0.000000\n",
       "bar          0.000000\n",
       "parking      0.000000\n",
       "Length: 90, dtype: float64"
      ]
     },
     "execution_count": 36,
     "metadata": {},
     "output_type": "execute_result"
    }
   ],
   "source": [
    "(Idf.loc[7] * IDFs).sort_values(ascending=False)"
   ]
  },
  {
   "cell_type": "code",
   "execution_count": 34,
   "id": "db456299",
   "metadata": {},
   "outputs": [
    {
     "data": {
      "text/plain": [
       "food       0.044006\n",
       "place      0.037613\n",
       "service    0.024877\n",
       "time       0.021346\n",
       "pizza      0.012704\n",
       "             ...   \n",
       "stylist    0.000000\n",
       "care       0.000000\n",
       "bike       0.000000\n",
       "pain       0.000000\n",
       "parking    0.000000\n",
       "Name: 1, Length: 90, dtype: float64"
      ]
     },
     "execution_count": 34,
     "metadata": {},
     "output_type": "execute_result"
    }
   ],
   "source": [
    "Idf.loc[1].sort_values(ascending=False)"
   ]
  },
  {
   "cell_type": "code",
   "execution_count": null,
   "id": "006fde49",
   "metadata": {},
   "outputs": [],
   "source": []
  }
 ],
 "metadata": {
  "kernelspec": {
   "display_name": "crike",
   "language": "python",
   "name": "crike"
  },
  "language_info": {
   "codemirror_mode": {
    "name": "ipython",
    "version": 3
   },
   "file_extension": ".py",
   "mimetype": "text/x-python",
   "name": "python",
   "nbconvert_exporter": "python",
   "pygments_lexer": "ipython3",
   "version": "3.8.8"
  },
  "toc": {
   "base_numbering": 1,
   "nav_menu": {},
   "number_sections": true,
   "sideBar": true,
   "skip_h1_title": false,
   "title_cell": "Table of Contents",
   "title_sidebar": "Contents",
   "toc_cell": false,
   "toc_position": {},
   "toc_section_display": true,
   "toc_window_display": false
  }
 },
 "nbformat": 4,
 "nbformat_minor": 5
}

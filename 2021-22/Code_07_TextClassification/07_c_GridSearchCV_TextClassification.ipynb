{
 "cells": [
  {
   "cell_type": "markdown",
   "metadata": {},
   "source": [
    "# Classification Algorithms"
   ]
  },
  {
   "cell_type": "code",
   "execution_count": 4,
   "metadata": {},
   "outputs": [],
   "source": [
    "#   packages\n",
    "import gc\n",
    "import os\n",
    "\n",
    "import json\n",
    "import pandas as pd\n",
    "import numpy as np\n",
    "\n",
    "import collections\n",
    "\n",
    "from sklearn.model_selection import train_test_split\n",
    "\n",
    "## Vectorizers\n",
    "from sklearn.feature_extraction.text import CountVectorizer\n",
    "from sklearn.feature_extraction.text import TfidfVectorizer\n",
    "\n",
    "## Classifiers\n",
    "##> Logistic Regression\n",
    "from sklearn.linear_model import LogisticRegression\n",
    "\n",
    "## prediction score\n",
    "from sklearn.metrics import accuracy_score"
   ]
  },
  {
   "cell_type": "code",
   "execution_count": 5,
   "metadata": {},
   "outputs": [],
   "source": [
    "preProcDF = pd.DataFrame.from_dict(json.load(open('data/yelp_example_1.json')))\n",
    "documents = preProcDF[\"docs\"].str.join(\" \")\n",
    "\n",
    "# TF-IDF vectorizer\n",
    "tfidf_vectorizer = TfidfVectorizer()\n",
    "X_tfidf = tfidf_vectorizer.fit_transform(documents).toarray()\n",
    "\n",
    "# Train/Test\n",
    "labels = preProcDF.scores.tolist()\n",
    "category_list = preProcDF.scores.unique()\n",
    "X_tfidf_train, X_tfidf_test, y_tfidf_train, y_tfidf_test = train_test_split(X_tfidf, labels, train_size=0.85, stratify=labels, random_state=1)"
   ]
  },
  {
   "cell_type": "markdown",
   "metadata": {},
   "source": [
    "## Logistic Regression"
   ]
  },
  {
   "cell_type": "code",
   "execution_count": 6,
   "metadata": {},
   "outputs": [
    {
     "name": "stdout",
     "output_type": "stream",
     "text": [
      "1.0 Accuracy: 0.556\n",
      "10.0 Accuracy: 0.552\n",
      "50.0 Accuracy: 0.5186666666666667\n",
      "100.0 Accuracy: 0.516\n",
      "1000.0 Accuracy: 0.5\n"
     ]
    }
   ],
   "source": [
    "for c_param in [1.0, 10.0, 50.0, 100.0, 1000.0]:\n",
    "    model = LogisticRegression(solver='liblinear', C=c_param, random_state=0).fit(X_tfidf_train, y_tfidf_train)\n",
    "    y_tfidf_test_pred = model.predict(X_tfidf_test)\n",
    "    print(str(c_param), \"Accuracy:\", accuracy_score(y_tfidf_test, y_tfidf_test_pred))"
   ]
  },
  {
   "cell_type": "markdown",
   "metadata": {},
   "source": [
    "## Hyperparameters Tuning"
   ]
  },
  {
   "cell_type": "code",
   "execution_count": 7,
   "metadata": {},
   "outputs": [],
   "source": [
    "from sklearn.model_selection import RepeatedStratifiedKFold\n",
    "from sklearn.model_selection import GridSearchCV\n",
    "\n",
    "gc.collect()\n",
    "\n",
    "param_grid = {'solver': [\"liblinear\", \"lbfgs\", \"newton-cg\"]\n",
    "   ,'penalty': [\"l2\"]\n",
    "   ,'C': [1.0, 5.0, 10.0]\n",
    "   ,'fit_intercept': [True]   #Specifies if a constant (a.k.a. bias or intercept) should be added to the decision function.\n",
    "   ,'multi_class': ['auto']\n",
    "}\n",
    "\n",
    "LR_model = LogisticRegression(max_iter=1000)\n",
    "\n",
    "cv = RepeatedStratifiedKFold(n_splits=10, n_repeats=2, random_state=1)\n",
    "grid_search = GridSearchCV(estimator=LR_model, param_grid=param_grid, n_jobs=-1, cv=cv, scoring='accuracy', error_score=0)\n",
    "grid_result = grid_search.fit(X_tfidf_train, y_tfidf_train)"
   ]
  },
  {
   "cell_type": "code",
   "execution_count": 10,
   "metadata": {},
   "outputs": [
    {
     "name": "stdout",
     "output_type": "stream",
     "text": [
      "Best: 0.555059 using {'C': 5.0, 'fit_intercept': True, 'multi_class': 'auto', 'penalty': 'l2', 'solver': 'liblinear'}\n",
      "0.547059 (0.015075) with: {'C': 1.0, 'fit_intercept': True, 'multi_class': 'auto', 'penalty': 'l2', 'solver': 'liblinear'}\n",
      "0.550471 (0.016778) with: {'C': 1.0, 'fit_intercept': True, 'multi_class': 'auto', 'penalty': 'l2', 'solver': 'lbfgs'}\n",
      "0.550471 (0.016778) with: {'C': 1.0, 'fit_intercept': True, 'multi_class': 'auto', 'penalty': 'l2', 'solver': 'newton-cg'}\n",
      "0.555059 (0.019085) with: {'C': 5.0, 'fit_intercept': True, 'multi_class': 'auto', 'penalty': 'l2', 'solver': 'liblinear'}\n",
      "0.551765 (0.018787) with: {'C': 5.0, 'fit_intercept': True, 'multi_class': 'auto', 'penalty': 'l2', 'solver': 'lbfgs'}\n",
      "0.551765 (0.018787) with: {'C': 5.0, 'fit_intercept': True, 'multi_class': 'auto', 'penalty': 'l2', 'solver': 'newton-cg'}\n",
      "0.548471 (0.019157) with: {'C': 10.0, 'fit_intercept': True, 'multi_class': 'auto', 'penalty': 'l2', 'solver': 'liblinear'}\n",
      "0.545529 (0.021530) with: {'C': 10.0, 'fit_intercept': True, 'multi_class': 'auto', 'penalty': 'l2', 'solver': 'lbfgs'}\n",
      "0.545529 (0.021530) with: {'C': 10.0, 'fit_intercept': True, 'multi_class': 'auto', 'penalty': 'l2', 'solver': 'newton-cg'}\n"
     ]
    }
   ],
   "source": [
    "# summarize results\n",
    "print(\"Best: %f using %s\" % (grid_result.best_score_, grid_result.best_params_))\n",
    "means = grid_result.cv_results_['mean_test_score']\n",
    "stds = grid_result.cv_results_['std_test_score']\n",
    "params = grid_result.cv_results_['params']\n",
    "for mean, stdev, param in zip(means, stds, params):\n",
    "    print(\"%f (%f) with: %r\" % (mean, stdev, param))"
   ]
  },
  {
   "cell_type": "code",
   "execution_count": 11,
   "metadata": {},
   "outputs": [
    {
     "name": "stdout",
     "output_type": "stream",
     "text": [
      "Accuracy: 0.556\n"
     ]
    }
   ],
   "source": [
    "y_tfidf_test_pred = grid_result.predict(X_tfidf_test)\n",
    "print(\"Accuracy:\", accuracy_score(y_tfidf_test, y_tfidf_test_pred))"
   ]
  },
  {
   "cell_type": "code",
   "execution_count": null,
   "metadata": {},
   "outputs": [],
   "source": []
  }
 ],
 "metadata": {
  "interpreter": {
   "hash": "bfb75dc7d96d332aeaa21ae2d7b833083e393049992869c7fba312a269a18e76"
  },
  "kernelspec": {
   "display_name": "text-mining",
   "language": "python",
   "name": "python3"
  },
  "language_info": {
   "codemirror_mode": {
    "name": "ipython",
    "version": 3
   },
   "file_extension": ".py",
   "mimetype": "text/x-python",
   "name": "python",
   "nbconvert_exporter": "python",
   "pygments_lexer": "ipython3",
   "version": "3.8.10"
  }
 },
 "nbformat": 4,
 "nbformat_minor": 2
}

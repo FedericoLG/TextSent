{
 "cells": [
  {
   "cell_type": "markdown",
   "metadata": {},
   "source": [
    "# Classification Algorithms"
   ]
  },
  {
   "cell_type": "code",
   "execution_count": 87,
   "metadata": {},
   "outputs": [],
   "source": [
    "\"\"\"https://scikit-learn.org/stable/model_selection.html\n",
    "\"\"\"\n",
    "\n",
    "#   packages\n",
    "import gc\n",
    "gc.collect()\n",
    "import os\n",
    "\n",
    "import pandas as pd\n",
    "import numpy as np\n",
    "\n",
    "from sklearn.model_selection import train_test_split\n",
    "\n",
    "## Vectorizers\n",
    "from sklearn.feature_extraction.text import TfidfVectorizer\n",
    "\n",
    "## Classifiers\n",
    "##> Logistic Regression\n",
    "from sklearn.linear_model import LogisticRegression\n",
    "##> Naive Bayes\n",
    "from sklearn.naive_bayes import ComplementNB\n",
    "\n",
    "## prediction score\n",
    "from sklearn.metrics import accuracy_score"
   ]
  },
  {
   "cell_type": "code",
   "execution_count": 88,
   "metadata": {},
   "outputs": [
    {
     "data": {
      "image/png": "[encoded data removed]",
      "text/plain": [
       "<Figure size 432x288 with 1 Axes>"
      ]
     },
     "metadata": {
      "needs_background": "light"
     },
     "output_type": "display_data"
    }
   ],
   "source": [
    "preProcDF_20ng = pd.read_pickle(os.path.join(\"data\", \"preProc_all_20_newsgroup.pkl\"))\n",
    "\n",
    "fig=preProcDF_20ng.target.value_counts().plot(kind='bar')\n",
    "labelFig=fig.get_figure()"
   ]
  },
  {
   "cell_type": "code",
   "execution_count": 89,
   "metadata": {},
   "outputs": [
    {
     "data": {
      "text/plain": [
       "title                     target\n",
       "alt.atheism               0         799\n",
       "comp.graphics             1         973\n",
       "comp.os.ms-windows.misc   2         985\n",
       "comp.sys.ibm.pc.hardware  3         982\n",
       "comp.sys.mac.hardware     4         963\n",
       "comp.windows.x            5         988\n",
       "misc.forsale              6         975\n",
       "rec.autos                 7         990\n",
       "rec.motorcycles           8         996\n",
       "rec.sport.baseball        9         994\n",
       "rec.sport.hockey          10        999\n",
       "sci.crypt                 11        991\n",
       "sci.electronics           12        984\n",
       "sci.med                   13        990\n",
       "sci.space                 14        987\n",
       "soc.religion.christian    15        997\n",
       "talk.politics.guns        16        910\n",
       "talk.politics.mideast     17        940\n",
       "talk.politics.misc        18        775\n",
       "talk.religion.misc        19        628\n",
       "dtype: int64"
      ]
     },
     "execution_count": 89,
     "metadata": {},
     "output_type": "execute_result"
    }
   ],
   "source": [
    "preProcDF_20ng[[\"title\", \"target\"]].groupby([\"title\", \"target\"]).size()"
   ]
  },
  {
   "cell_type": "code",
   "execution_count": 90,
   "metadata": {},
   "outputs": [
    {
     "name": "stderr",
     "output_type": "stream",
     "text": [
      "<ipython-input-90-724de34a79ca>:25: SettingWithCopyWarning: \n",
      "A value is trying to be set on a copy of a slice from a DataFrame\n",
      "\n",
      "See the caveats in the documentation: https://pandas.pydata.org/pandas-docs/stable/user_guide/indexing.html#returning-a-view-versus-a-copy\n",
      "  preProcDF_20ng[\"Label\"][preProcDF_20ng.target.isin([1, 2, 3, 4, 5])]=\"COMP\"\n"
     ]
    }
   ],
   "source": [
    "\"\"\"\n",
    "comp.graphics             1         973\n",
    "comp.os.ms-windows.misc   2         985\n",
    "comp.sys.ibm.pc.hardware  3         982\n",
    "comp.sys.mac.hardware     4         963\n",
    "comp.windows.x            5         988\n",
    "\n",
    "rec.autos                 7         990\n",
    "rec.motorcycles           8         996\n",
    "rec.sport.baseball        9         994\n",
    "rec.sport.hockey          10        999\n",
    "\n",
    "sci.crypt                 11        991\n",
    "sci.electronics           12        984\n",
    "sci.med                   13        990\n",
    "sci.space                 14        987\n",
    "\n",
    "talk.politics.guns        16        910\n",
    "talk.politics.mideast     17        940\n",
    "talk.politics.misc        18        775\n",
    "talk.religion.misc        19        628\n",
    "\"\"\"\n",
    "\n",
    "preProcDF_20ng[\"Label\"] = np.nan\n",
    "preProcDF_20ng[\"Label\"][preProcDF_20ng.target.isin([1, 2, 3, 4, 5])]=\"COMP\"\n",
    "preProcDF_20ng[\"Label\"][preProcDF_20ng.target.isin([7, 8, 9, 10])]=\"REC\"\n",
    "preProcDF_20ng[\"Label\"][preProcDF_20ng.target.isin([11, 12, 13, 14])]=\"SCI\"\n",
    "preProcDF_20ng[\"Label\"][preProcDF_20ng.target.isin([16, 17, 18, 19])]=\"TALK\""
   ]
  },
  {
   "cell_type": "code",
   "execution_count": 115,
   "metadata": {},
   "outputs": [
    {
     "name": "stderr",
     "output_type": "stream",
     "text": [
      "<ipython-input-115-baba19c85622>:3: SettingWithCopyWarning: \n",
      "A value is trying to be set on a copy of a slice from a DataFrame.\n",
      "Try using .loc[row_indexer,col_indexer] = value instead\n",
      "\n",
      "See the caveats in the documentation: https://pandas.pydata.org/pandas-docs/stable/user_guide/indexing.html#returning-a-view-versus-a-copy\n",
      "  filteredDF[\"len\"] = list(filteredDF.tokens.str.len())\n"
     ]
    },
    {
     "data": {
      "image/png": "[encoded data removed]",
      "text/plain": [
       "<Figure size 432x288 with 1 Axes>"
      ]
     },
     "metadata": {
      "needs_background": "light"
     },
     "output_type": "display_data"
    }
   ],
   "source": [
    "filteredDF = preProcDF_20ng.loc[preProcDF_20ng.Label.isin([\"COMP\", \"REC\", \"SCI\", \"TALK\"])]\n",
    "\n",
    "filteredDF[\"len\"] = list(filteredDF.tokens.str.len())\n",
    "\n",
    "filteredDF = filteredDF[filteredDF.len>0]\n",
    "\n",
    "fig=filteredDF.Label.value_counts().plot(kind='bar')\n",
    "labelFig=fig.get_figure()"
   ]
  },
  {
   "cell_type": "code",
   "execution_count": 92,
   "metadata": {},
   "outputs": [
    {
     "data": {
      "text/html": [
       "<div>\n",
       "<style scoped>\n",
       "    .dataframe tbody tr th:only-of-type {\n",
       "        vertical-align: middle;\n",
       "    }\n",
       "\n",
       "    .dataframe tbody tr th {\n",
       "        vertical-align: top;\n",
       "    }\n",
       "\n",
       "    .dataframe thead th {\n",
       "        text-align: right;\n",
       "    }\n",
       "</style>\n",
       "<table border=\"1\" class=\"dataframe\">\n",
       "  <thead>\n",
       "    <tr style=\"text-align: right;\">\n",
       "      <th></th>\n",
       "      <th>text</th>\n",
       "      <th>target</th>\n",
       "      <th>title</th>\n",
       "      <th>date</th>\n",
       "      <th>tokens</th>\n",
       "      <th>preProc</th>\n",
       "      <th>Label</th>\n",
       "      <th>len</th>\n",
       "    </tr>\n",
       "  </thead>\n",
       "  <tbody>\n",
       "    <tr>\n",
       "      <th>0</th>\n",
       "      <td>\\n\\nI am sure some bashers of Pens fans are pr...</td>\n",
       "      <td>10</td>\n",
       "      <td>rec.sport.hockey</td>\n",
       "      <td>2022-02-02 14:49:56.537861</td>\n",
       "      <td>[sure, basher, fan, pretty, confused, lack, ki...</td>\n",
       "      <td>sure basher fan pretty confused lack kind post...</td>\n",
       "      <td>REC</td>\n",
       "      <td>60</td>\n",
       "    </tr>\n",
       "    <tr>\n",
       "      <th>7</th>\n",
       "      <td>\\n[stuff deleted]\\n\\nOk, here's the solution t...</td>\n",
       "      <td>10</td>\n",
       "      <td>rec.sport.hockey</td>\n",
       "      <td>2022-02-02 14:49:56.537861</td>\n",
       "      <td>[stuff, delete, solution, problem, move, yeste...</td>\n",
       "      <td>stuff delete solution problem move yesterday a...</td>\n",
       "      <td>REC</td>\n",
       "      <td>51</td>\n",
       "    </tr>\n",
       "    <tr>\n",
       "      <th>8</th>\n",
       "      <td>\\n\\n\\nYeah, it's the second one.  And I believ...</td>\n",
       "      <td>10</td>\n",
       "      <td>rec.sport.hockey</td>\n",
       "      <td>2022-02-02 14:49:56.537861</td>\n",
       "      <td>[second, believe, price, try, get, good, look,...</td>\n",
       "      <td>second believe price try get good look telecas...</td>\n",
       "      <td>REC</td>\n",
       "      <td>20</td>\n",
       "    </tr>\n",
       "    <tr>\n",
       "      <th>24</th>\n",
       "      <td>I don't know the exact coverage in the states....</td>\n",
       "      <td>10</td>\n",
       "      <td>rec.sport.hockey</td>\n",
       "      <td>2022-02-02 14:49:56.537861</td>\n",
       "      <td>[not, know, exact, coverage, state, cover, may...</td>\n",
       "      <td>not know exact coverage state cover maybe grab...</td>\n",
       "      <td>REC</td>\n",
       "      <td>65</td>\n",
       "    </tr>\n",
       "    <tr>\n",
       "      <th>44</th>\n",
       "      <td>Here are the NHL's alltime leaders in goals an...</td>\n",
       "      <td>10</td>\n",
       "      <td>rec.sport.hockey</td>\n",
       "      <td>2022-02-02 14:49:56.537861</td>\n",
       "      <td>[alltime, leader, goal, point, end, season, mu...</td>\n",
       "      <td>alltime leader goal point end season much than...</td>\n",
       "      <td>REC</td>\n",
       "      <td>50</td>\n",
       "    </tr>\n",
       "  </tbody>\n",
       "</table>\n",
       "</div>"
      ],
      "text/plain": [
       "                                                 text target  \\\n",
       "0   \\n\\nI am sure some bashers of Pens fans are pr...     10   \n",
       "7   \\n[stuff deleted]\\n\\nOk, here's the solution t...     10   \n",
       "8   \\n\\n\\nYeah, it's the second one.  And I believ...     10   \n",
       "24  I don't know the exact coverage in the states....     10   \n",
       "44  Here are the NHL's alltime leaders in goals an...     10   \n",
       "\n",
       "               title                       date  \\\n",
       "0   rec.sport.hockey 2022-02-02 14:49:56.537861   \n",
       "7   rec.sport.hockey 2022-02-02 14:49:56.537861   \n",
       "8   rec.sport.hockey 2022-02-02 14:49:56.537861   \n",
       "24  rec.sport.hockey 2022-02-02 14:49:56.537861   \n",
       "44  rec.sport.hockey 2022-02-02 14:49:56.537861   \n",
       "\n",
       "                                               tokens  \\\n",
       "0   [sure, basher, fan, pretty, confused, lack, ki...   \n",
       "7   [stuff, delete, solution, problem, move, yeste...   \n",
       "8   [second, believe, price, try, get, good, look,...   \n",
       "24  [not, know, exact, coverage, state, cover, may...   \n",
       "44  [alltime, leader, goal, point, end, season, mu...   \n",
       "\n",
       "                                              preProc Label  len  \n",
       "0   sure basher fan pretty confused lack kind post...   REC   60  \n",
       "7   stuff delete solution problem move yesterday a...   REC   51  \n",
       "8   second believe price try get good look telecas...   REC   20  \n",
       "24  not know exact coverage state cover maybe grab...   REC   65  \n",
       "44  alltime leader goal point end season much than...   REC   50  "
      ]
     },
     "execution_count": 92,
     "metadata": {},
     "output_type": "execute_result"
    }
   ],
   "source": [
    "filteredDF.head(5)"
   ]
  },
  {
   "cell_type": "code",
   "execution_count": 93,
   "metadata": {},
   "outputs": [],
   "source": [
    "labels = filteredDF.Label.tolist()\n",
    "category_list = filteredDF.Label.unique()\n",
    "\n",
    "tfidf_vectorizer = TfidfVectorizer()\n",
    "X_tfidf_20ng = tfidf_vectorizer.fit_transform(filteredDF.preProc).toarray()\n",
    "\n",
    "X_tfidf_train_20ng, X_tfidf_test_20ng, y_tfidf_train_20ng, y_tfidf_test_20ng = train_test_split(X_tfidf_20ng, labels, train_size=0.85, stratify=labels, random_state=1)"
   ]
  },
  {
   "cell_type": "code",
   "execution_count": 94,
   "metadata": {},
   "outputs": [
    {
     "name": "stdout",
     "output_type": "stream",
     "text": [
      "Accuracy: 0.8592274678111588\n"
     ]
    }
   ],
   "source": [
    "LR_model = LogisticRegression(solver='liblinear', C=10.0, random_state=0).fit(X_tfidf_train_20ng, y_tfidf_train_20ng)\n",
    "y_tfidf_test_pred_20ng = LR_model.predict(X_tfidf_test_20ng)\n",
    "\n",
    "print(\"Accuracy:\", accuracy_score(y_tfidf_test_20ng, y_tfidf_test_pred_20ng))"
   ]
  },
  {
   "cell_type": "code",
   "execution_count": 95,
   "metadata": {},
   "outputs": [
    {
     "data": {
      "text/plain": [
       "array([[ 6.77129314, -7.78911552, -5.04413208, -9.57310422],\n",
       "       [-4.68853004, -5.74959897, -3.2834177 ,  2.76293617],\n",
       "       [-2.80078567,  0.36767354, -2.80150721, -2.59941174],\n",
       "       ...,\n",
       "       [-6.88211248, -0.13281891, -4.27100846,  1.37276945],\n",
       "       [ 3.04282143, -5.13746645, -5.7131247 , -1.81312366],\n",
       "       [-2.90113655, -1.02458319, -2.67377105, -0.52073558]])"
      ]
     },
     "execution_count": 95,
     "metadata": {},
     "output_type": "execute_result"
    }
   ],
   "source": [
    "y_tfidf_score_20ng = LR_model.decision_function(X_tfidf_test_20ng)\n",
    "y_tfidf_score_20ng"
   ]
  },
  {
   "cell_type": "code",
   "execution_count": 96,
   "metadata": {},
   "outputs": [
    {
     "data": {
      "text/plain": [
       "array([[9.93149977e-01, 4.11682683e-04, 6.36916773e-03, 6.91728699e-05],\n",
       "       [9.21702847e-03, 3.20901134e-03, 3.65437187e-02, 9.51030242e-01],\n",
       "       [7.39503209e-02, 7.62843535e-01, 7.39000356e-02, 8.93061089e-02],\n",
       "       ...,\n",
       "       [8.01051772e-04, 3.64872545e-01, 1.07663844e-02, 6.23560018e-01],\n",
       "       [8.64665411e-01, 5.28894187e-03, 2.98177400e-03, 1.27063874e-01],\n",
       "       [6.91449424e-02, 3.50567184e-01, 8.56576218e-02, 4.94630252e-01]])"
      ]
     },
     "execution_count": 96,
     "metadata": {},
     "output_type": "execute_result"
    }
   ],
   "source": [
    "y_tfidf_proba_20ng = LR_model.predict_proba(X_tfidf_test_20ng)\n",
    "y_tfidf_proba_20ng"
   ]
  },
  {
   "cell_type": "code",
   "execution_count": 97,
   "metadata": {},
   "outputs": [
    {
     "name": "stdout",
     "output_type": "stream",
     "text": [
      "0.8592274678111588\n",
      "2002\n"
     ]
    }
   ],
   "source": [
    "from sklearn.metrics import accuracy_score\n",
    "\n",
    "print(accuracy_score(y_tfidf_test_20ng, y_tfidf_test_pred_20ng))\n",
    "print(accuracy_score(y_tfidf_test_20ng, y_tfidf_test_pred_20ng, normalize=False))"
   ]
  },
  {
   "cell_type": "code",
   "execution_count": 98,
   "metadata": {},
   "outputs": [
    {
     "name": "stdout",
     "output_type": "stream",
     "text": [
      "0.9515021459227467\n",
      "0.9515021459227467\n"
     ]
    }
   ],
   "source": [
    "from sklearn.metrics import top_k_accuracy_score\n",
    "\n",
    "print(top_k_accuracy_score(y_tfidf_test_20ng, y_tfidf_score_20ng, k=2))\n",
    "print(top_k_accuracy_score(y_tfidf_test_20ng, y_tfidf_proba_20ng, k=2))"
   ]
  },
  {
   "cell_type": "code",
   "execution_count": 99,
   "metadata": {},
   "outputs": [
    {
     "name": "stdout",
     "output_type": "stream",
     "text": [
      "0.8584380669633894\n"
     ]
    }
   ],
   "source": [
    "from sklearn.metrics import balanced_accuracy_score\n",
    "\n",
    "print(balanced_accuracy_score(y_tfidf_test_20ng, y_tfidf_test_pred_20ng))"
   ]
  },
  {
   "cell_type": "code",
   "execution_count": 100,
   "metadata": {},
   "outputs": [
    {
     "name": "stdout",
     "output_type": "stream",
     "text": [
      "0.810928745985353\n"
     ]
    }
   ],
   "source": [
    "from sklearn.metrics import cohen_kappa_score\n",
    "\n",
    "print(cohen_kappa_score(y_tfidf_test_20ng, y_tfidf_test_pred_20ng))"
   ]
  },
  {
   "cell_type": "code",
   "execution_count": 101,
   "metadata": {},
   "outputs": [
    {
     "data": {
      "text/plain": [
       "0.1407725321888412"
      ]
     },
     "execution_count": 101,
     "metadata": {},
     "output_type": "execute_result"
    }
   ],
   "source": [
    "from sklearn.metrics import hamming_loss\n",
    "\n",
    "hamming_loss(y_tfidf_test_20ng, y_tfidf_test_pred_20ng)"
   ]
  },
  {
   "cell_type": "code",
   "execution_count": 102,
   "metadata": {},
   "outputs": [
    {
     "data": {
      "text/plain": [
       "array([[630,  23,  57,   3],\n",
       "       [ 24, 490,  30,  27],\n",
       "       [ 50,  28, 468,  27],\n",
       "       [ 10,  21,  28, 414]], dtype=int64)"
      ]
     },
     "execution_count": 102,
     "metadata": {},
     "output_type": "execute_result"
    }
   ],
   "source": [
    "from sklearn.metrics import confusion_matrix, ConfusionMatrixDisplay\n",
    "\n",
    "cm = confusion_matrix(y_tfidf_test_20ng, y_tfidf_test_pred_20ng\n",
    "                        #, normalize='all'\n",
    "                        )\n",
    "cm"
   ]
  },
  {
   "cell_type": "code",
   "execution_count": 103,
   "metadata": {},
   "outputs": [
    {
     "data": {
      "image/png": "[encoded data removed]",
      "text/plain": [
       "<Figure size 432x288 with 2 Axes>"
      ]
     },
     "metadata": {
      "needs_background": "light"
     },
     "output_type": "display_data"
    }
   ],
   "source": [
    "import matplotlib.pyplot as plt\n",
    "disp = ConfusionMatrixDisplay(confusion_matrix=cm,\n",
    "                              display_labels=LR_model.classes_)\n",
    "disp.plot()\n",
    "\n",
    "plt.show()"
   ]
  },
  {
   "cell_type": "code",
   "execution_count": 104,
   "metadata": {},
   "outputs": [
    {
     "name": "stdout",
     "output_type": "stream",
     "text": [
      "0.858991094819648\n",
      "0.8592274678111588\n",
      "0.8595258110203311\n",
      "[0.88235294 0.87188612 0.80274443 0.87898089]\n",
      "0.8584380669633894\n",
      "0.8592274678111588\n",
      "0.8592274678111588\n",
      "[0.88359046 0.85814361 0.81675393 0.87526427]\n"
     ]
    }
   ],
   "source": [
    "from sklearn.metrics import precision_score\n",
    "from sklearn.metrics import recall_score\n",
    "\n",
    "print(precision_score(y_tfidf_test_20ng, y_tfidf_test_pred_20ng, average='macro'))\n",
    "print(precision_score(y_tfidf_test_20ng, y_tfidf_test_pred_20ng, average='micro'))\n",
    "print(precision_score(y_tfidf_test_20ng, y_tfidf_test_pred_20ng, average='weighted'))\n",
    "print(precision_score(y_tfidf_test_20ng, y_tfidf_test_pred_20ng, average=None))\n",
    "\n",
    "print(recall_score(y_tfidf_test_20ng, y_tfidf_test_pred_20ng, average='macro'))\n",
    "print(recall_score(y_tfidf_test_20ng, y_tfidf_test_pred_20ng, average='micro'))\n",
    "print(recall_score(y_tfidf_test_20ng, y_tfidf_test_pred_20ng, average='weighted'))\n",
    "print(recall_score(y_tfidf_test_20ng, y_tfidf_test_pred_20ng, average=None))"
   ]
  },
  {
   "cell_type": "code",
   "execution_count": 105,
   "metadata": {},
   "outputs": [
    {
     "name": "stdout",
     "output_type": "stream",
     "text": [
      "              precision    recall  f1-score   support\n",
      "\n",
      "        COMP       0.88      0.88      0.88       713\n",
      "         REC       0.87      0.86      0.86       571\n",
      "         SCI       0.80      0.82      0.81       573\n",
      "        TALK       0.88      0.88      0.88       473\n",
      "\n",
      "    accuracy                           0.86      2330\n",
      "   macro avg       0.86      0.86      0.86      2330\n",
      "weighted avg       0.86      0.86      0.86      2330\n",
      "\n"
     ]
    }
   ],
   "source": [
    "from sklearn.metrics import classification_report\n",
    "\n",
    "print(classification_report(y_tfidf_test_20ng, y_tfidf_test_pred_20ng, target_names=LR_model.classes_))"
   ]
  },
  {
   "cell_type": "code",
   "execution_count": 106,
   "metadata": {},
   "outputs": [
    {
     "name": "stdout",
     "output_type": "stream",
     "text": [
      "0.8586846940534802\n",
      "0.8592274678111588\n",
      "0.8593474297743596\n",
      "[0.88297127 0.86496028 0.80968858 0.87711864]\n"
     ]
    }
   ],
   "source": [
    "from sklearn.metrics import f1_score\n",
    "\n",
    "print(f1_score(y_tfidf_test_20ng, y_tfidf_test_pred_20ng, average='macro'))\n",
    "print(f1_score(y_tfidf_test_20ng, y_tfidf_test_pred_20ng, average='micro'))\n",
    "print(f1_score(y_tfidf_test_20ng, y_tfidf_test_pred_20ng, average='weighted'))\n",
    "print(f1_score(y_tfidf_test_20ng, y_tfidf_test_pred_20ng, average=None))"
   ]
  },
  {
   "cell_type": "code",
   "execution_count": 107,
   "metadata": {},
   "outputs": [
    {
     "name": "stdout",
     "output_type": "stream",
     "text": [
      "0.8588613691382199\n",
      "0.8592274678111588\n",
      "0.8594474558406615\n",
      "[0.88260017 0.86910252 0.80550775 0.87823504]\n"
     ]
    }
   ],
   "source": [
    "from sklearn.metrics import fbeta_score\n",
    "\n",
    "print(fbeta_score(y_tfidf_test_20ng, y_tfidf_test_pred_20ng, average='macro', beta=0.5))\n",
    "print(fbeta_score(y_tfidf_test_20ng, y_tfidf_test_pred_20ng, average='micro', beta=0.5))\n",
    "print(fbeta_score(y_tfidf_test_20ng, y_tfidf_test_pred_20ng, average='weighted', beta=0.5))\n",
    "print(fbeta_score(y_tfidf_test_20ng, y_tfidf_test_pred_20ng, average=None, beta=0.5))"
   ]
  },
  {
   "cell_type": "markdown",
   "metadata": {},
   "source": [
    "OneVsRestClassifier"
   ]
  },
  {
   "cell_type": "code",
   "execution_count": 108,
   "metadata": {},
   "outputs": [],
   "source": [
    "from sklearn.multiclass import OneVsRestClassifier\n",
    "from sklearn.preprocessing import label_binarize\n",
    "\n",
    "import matplotlib.pyplot as plt\n",
    "\n",
    "n_classes = len(category_list.tolist())\n",
    "y = label_binarize(labels, classes=category_list.tolist())\n",
    "\n",
    "# shuffle and split training and test sets\n",
    "X_train, X_test, y_train, y_test = train_test_split(X_tfidf_20ng, y, train_size=0.85, random_state=0)\n",
    "\n",
    "clf = OneVsRestClassifier(LogisticRegression(solver='liblinear', C=10.0, random_state=0))\n",
    "\n",
    "clf_fitted = clf.fit(X_train, y_train)\n",
    "\n",
    "y_test_pred = clf_fitted.predict(X_test)\n",
    "\n",
    "y_proba = clf_fitted.predict_proba(X_test)"
   ]
  },
  {
   "cell_type": "code",
   "execution_count": 109,
   "metadata": {},
   "outputs": [
    {
     "data": {
      "image/png": "[encoded data removed]",
      "text/plain": [
       "<Figure size 432x288 with 1 Axes>"
      ]
     },
     "metadata": {
      "needs_background": "light"
     },
     "output_type": "display_data"
    }
   ],
   "source": [
    "from sklearn.metrics import precision_recall_curve\n",
    "from sklearn.metrics import f1_score\n",
    "\n",
    "# precision recall curve\n",
    "precision = dict()\n",
    "recall = dict()\n",
    "lr_f1 = dict()\n",
    "for i in range(n_classes):\n",
    "    precision[i], recall[i], _ = precision_recall_curve(y_test[:, i],\n",
    "                                                        y_proba[:, i])\n",
    "    lr_f1[i] = f1_score(y_test[:, i], y_test_pred[:, i])\n",
    "    cls = category_list.tolist()[i]\n",
    "    plt.plot(precision[i], recall[i], lw=2, label=f'class {cls} : f1 {round(lr_f1[i], 2)}')\n",
    "    \n",
    "plt.xlabel(\"recall\")\n",
    "plt.ylabel(\"precision\")\n",
    "plt.legend(loc=\"best\")\n",
    "plt.title(\"precision vs. recall curve\")\n",
    "plt.show()"
   ]
  },
  {
   "cell_type": "code",
   "execution_count": 110,
   "metadata": {},
   "outputs": [
    {
     "data": {
      "image/png": "[encoded data removed]",
      "text/plain": [
       "<Figure size 432x288 with 1 Axes>"
      ]
     },
     "metadata": {
      "needs_background": "light"
     },
     "output_type": "display_data"
    }
   ],
   "source": [
    "from sklearn.metrics import roc_curve\n",
    "from sklearn.metrics import roc_auc_score\n",
    "\n",
    "# roc curve\n",
    "fpr = dict()\n",
    "tpr = dict()\n",
    "lr_auc = dict()\n",
    "for i in range(n_classes):\n",
    "    fpr[i], tpr[i], _ = roc_curve(y_test[:, i],\n",
    "                                  y_proba[:, i])\n",
    "    lr_auc[i] = roc_auc_score(y_test[:, i], y_proba[:, i])\n",
    "    cls = category_list.tolist()[i]\n",
    "    plt.plot(fpr[i], tpr[i], lw=2, label=f'class {cls} : roc_auc {round(lr_auc[i], 2)}')\n",
    "\n",
    "plt.xlabel(\"false positive rate\")\n",
    "plt.ylabel(\"true positive rate\")\n",
    "plt.legend(loc=\"best\")\n",
    "plt.title(\"ROC curve\")\n",
    "plt.show()"
   ]
  },
  {
   "cell_type": "code",
   "execution_count": null,
   "metadata": {},
   "outputs": [],
   "source": []
  }
 ],
 "metadata": {
  "interpreter": {
   "hash": "bfb75dc7d96d332aeaa21ae2d7b833083e393049992869c7fba312a269a18e76"
  },
  "kernelspec": {
   "display_name": "text-mining",
   "language": "python",
   "name": "python3"
  },
  "language_info": {
   "codemirror_mode": {
    "name": "ipython",
    "version": 3
   },
   "file_extension": ".py",
   "mimetype": "text/x-python",
   "name": "python",
   "nbconvert_exporter": "python",
   "pygments_lexer": "ipython3",
   "version": "3.8.10"
  }
 },
 "nbformat": 4,
 "nbformat_minor": 2
}

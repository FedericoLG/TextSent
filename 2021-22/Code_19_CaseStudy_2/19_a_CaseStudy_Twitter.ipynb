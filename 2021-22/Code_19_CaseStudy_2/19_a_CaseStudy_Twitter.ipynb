{
 "cells": [
  {
   "cell_type": "code",
   "execution_count": 25,
   "metadata": {},
   "outputs": [],
   "source": [
    "import os\n",
    "import datetime\n",
    "\n",
    "from tqdm import tqdm\n",
    "import numpy as np\n",
    "import pandas as pd\n",
    "\n",
    "import tweepy as tw\n",
    "import credentials"
   ]
  },
  {
   "cell_type": "code",
   "execution_count": 11,
   "metadata": {},
   "outputs": [],
   "source": [
    "# Setup access to API\n",
    "def connect_to_twitter_OAuth():\n",
    "    auth = tw.OAuthHandler(credentials.consumer_key, credentials.consumer_secret)\n",
    "    auth.set_access_token(credentials.access_token, credentials.access_token_secret)\n",
    "\n",
    "    api = tw.API(auth)\n",
    "    return api\n",
    "\n",
    "\n",
    "# Create API object\n",
    "api = connect_to_twitter_OAuth()"
   ]
  },
  {
   "cell_type": "code",
   "execution_count": 12,
   "metadata": {},
   "outputs": [
    {
     "name": "stdout",
     "output_type": "stream",
     "text": [
      "Markov Chain Introduction in R  {https://t.co/M4iyIbjj62} #rstats #DataScience\n",
      "Capture errors, warnings and messages  {https://t.co/1wth9bSSfY} #rstats #DataScience\n",
      "RT @blueyedgenes: Was asked to revisit an analysis after 10+ months away (now the manuscript is being written) - spun up my #RStats session…\n",
      "RT @SavranWeb: Learn R Part 4: What is Data Frames in R #SQLServer #rstats https://t.co/l7LdNxh84u\n",
      "RT @DD_Serena_: Introduction to Regression in R. Predict housing prices and ad click-through rate by implementing, analyzing, and interpret…\n",
      "RT @tidyversetweets: Change values in a variable based on a conditional value in R #tidyverse #rstats https://t.co/fCthDjIvJ6\n",
      "RT @finnstats: How to read a stock chart pattern Chart Reading Technique \n",
      "How to read a stock https://t.co/cETSapCu07 #statistics #programm…\n",
      "RT @MartynPhillips1: Which is nicer? #RStats https://t.co/aoBLEuw2UR https://t.co/YQaM0j7c0J\n",
      "RT @paezha: \"If the Lottery is an intensification of chance, a periodic infusion of chaos into the cosmos, then is it not appropriate that…\n",
      "RT @VanishingData: @lisalendway @mike_ketchbrook @delaBJL @heatherklus We'd love your thoughts on it, Lisa. #RStats ✊ \n",
      "https://t.co/ghGS5Yi…\n",
      "RT @c_gebhard: To be honest, I had to use a gene list and regex to find my way through this.\n",
      "#rstats for the win. Now someone build a {gene…\n",
      "RT @SavranWeb: Introduction to R Data Visualization. #SQLServer 2016 #rstats https://t.co/aUfvFZjfqy\n",
      "RT @JohnKL07231550: Next up:\n",
      "Basics of data viz with R 📚\n",
      "#rstats #DataScience https://t.co/AYAwgs8LFP\n",
      "RT @toeb18: Playing around with #rayshader in #RStats and ran into a problem. I got a geotiff elevation model and transform it to a raster:…\n",
      "RT @tidyversetweets: Incorrect Conversion to JSON #tidyverse #rstats https://t.co/6N6CVU1Pkj\n",
      "RT @tidyversetweets: Obtaining geom_line values at mid-month for unequally spread geom_points #tidyverse #rstats https://t.co/qgX9YgnnUI\n",
      "RT @forthesp0rts: @juliasilge Following you means seeing the word “package” and automatically thinking of something completely different 😂…\n",
      "RT @tidyversetweets: ggplot2: Repel text using same x coordination #tidyverse #rstats https://t.co/6I64EdHxgE\n",
      "RT @SavranWeb: Learning R : Introduction to matrices and factors.  #SQLServer 2016 #rstats https://t.co/lit4BSS23i\n",
      "RT @RPy_DataScience: #stackoverflow is down for maintenance. Enjoy your book. 😂 \n",
      "#RStats\n"
     ]
    }
   ],
   "source": [
    "# tweets from my stream\n",
    "public_tweets = api.home_timeline()\n",
    "for tweet in public_tweets:\n",
    "    print(tweet.text)"
   ]
  },
  {
   "cell_type": "code",
   "execution_count": 13,
   "metadata": {},
   "outputs": [
    {
     "name": "stdout",
     "output_type": "stream",
     "text": [
      "Biyombo's sole mission is to dedicate his season to his father's memory — channeled through his performances and th… https://t.co/CyN4iUu53V\n",
      "The price surcharge will be in place for at least 60 days, Uber said, and the company will continue monitoring gas… https://t.co/Wijqv8Rlbe\n",
      "The armorer on the set of the film “Rust” said she was not called to inspect the gun that ultimately fired a live r… https://t.co/8nMt4Wwmdg\n",
      "In its hunt for content, Amazon Prime Video has turned to Nigeria, where it has secured key deals with studios that… https://t.co/I8xKQHgLjI\n",
      "Manchester United superstar Cristiano Ronaldo scored his 806th career goal in Old Trafford on Saturday, breaking FI… https://t.co/vHgL2qyKV7\n",
      "From dual fridges and zoom rooms to escape spaces, home builders are preparing for the next pandemic. https://t.co/CDMdTZ0rAM\n",
      "The armorer on the set of the film “Rust” said she was not called to inspect the gun that ultimately fired a live r… https://t.co/2yafusZygj\n",
      "An Ohio doctor says he's working 18 hours a day to send supplies to Ukraine. @EvanMcS talks with Ukrainian-American… https://t.co/dvNPDXhVB9\n",
      "The model and wife of Justin Bieber explained the scary situation to her fans in an Instagram post to her stories o… https://t.co/JBobqQC0LX\n",
      "“These signals are not an accident. They are trying to scare people.” Ukrainian President Zelensky warns Russia is… https://t.co/jNwVOU8ZlC\n",
      "A false story that actor Leonardo DiCaprio made a $10 million donation to Ukraine was repeated this week by media o… https://t.co/rjwJnZNTWH\n",
      "Nearly 1 in 5 mail-in ballots in Houston area were rejected because of Texas voting law, election officials say https://t.co/JbKv77V7pQ\n",
      "For loved ones ripped apart by war in Ukraine, phone messages bring hope and despair https://t.co/umFszdJvfv\n",
      "In a significant reversal, Deutsche Bank announced Friday it is planning to shut down its business in Russia https://t.co/WWRvTwTZGW\n",
      "The incredible story behind Shackleton's Endurance shipwreck https://t.co/x5wXZJUxX8\n",
      "Daylight Saving Time is back...like clockwork. But did you know that 70 percent of Americans dislike it? ⏰👎… https://t.co/1HUodJPkfC\n",
      "Although the United States barely uses Russian oil, Russia's invasion of Ukraine is still a big factor in the gas-p… https://t.co/DydiHtBQ5Q\n",
      "ADA foundation staff members are risking their lives driving into Ukraine to help empty out shelters, and they are… https://t.co/kKg8LBAFas\n",
      "Far-reaching global sanctions against Russia for its invasion of Ukraine are affecting the global supply of a preci… https://t.co/pIU9cVywrC\n",
      "The Baltimore City State's Attorney's Office and Adnan Syed, whose case became nationally known in the \"Serial\" pod… https://t.co/f4FPtMW6oX\n"
     ]
    }
   ],
   "source": [
    "# tweets from a specific user\n",
    "trump_tweets = api.user_timeline(screen_name='cnn')\n",
    "for tweet in trump_tweets:\n",
    "    print(tweet.text)"
   ]
  },
  {
   "cell_type": "code",
   "execution_count": 31,
   "metadata": {},
   "outputs": [
    {
     "data": {
      "text/plain": [
       "['There was an anti war protest for #Ukraine as well but it’s not getting any headlines. \\n\\nSerbia has a good relation… https://t.co/9NImiPlmkP',\n",
       " \"Russia Sanctions Will Hurt the US 'in a Profound Way': Ken Griffin https://t.co/jYNcpVtFcq\",\n",
       " '@mfa_russia @RusEmbUSA @RussiaUN @MFA_Ukraine @natomission_ru @RusEmbEst @StateDept @RusembUkraine @RF_OSCE You my… https://t.co/TY0lPuPUFW',\n",
       " 'ATTENTION: UKRAINIAN PEOPLE. Resist your fascist leaders and rise up! #UkraineUnderAttaсk #UkraineRussianWar… https://t.co/tmS8osQU28',\n",
       " '@Blklivesmatter Zelenskyy should keep families together &amp; prevent death by helping Ukraine citizens transition into… https://t.co/5lRjmWnJx1']"
      ]
     },
     "execution_count": 31,
     "metadata": {},
     "output_type": "execute_result"
    }
   ],
   "source": [
    "#Search Twitter for Tweets\n",
    "# Define the search term and the date_since date as variables\n",
    "search_words = \"ukraine russia -filter:retweets\"\n",
    "\n",
    "todayDate = datetime.datetime.today().strftime('%Y-%m-%d')\n",
    "date_until = (datetime.datetime.strptime(todayDate, \"%Y-%m-%d\")-datetime.timedelta(days=7)).strftime(\"%Y-%m-%d\")\n",
    "\n",
    "# Collect tweets\n",
    "tweets = tw.Cursor(api.search_tweets\n",
    "              ,q=search_words\n",
    "              ,lang=\"en\"\n",
    "              ,until=date_until #Keep in mind that the search index has a 7-day limit\n",
    "              ).items(5)\n",
    "\n",
    "# Collect a list of tweets\n",
    "[tweet.text for tweet in tweets]"
   ]
  },
  {
   "cell_type": "code",
   "execution_count": null,
   "metadata": {},
   "outputs": [],
   "source": []
  }
 ],
 "metadata": {
  "kernelspec": {
   "display_name": "Python 3",
   "language": "python",
   "name": "python3"
  },
  "language_info": {
   "codemirror_mode": {
    "name": "ipython",
    "version": 3
   },
   "file_extension": ".py",
   "mimetype": "text/x-python",
   "name": "python",
   "nbconvert_exporter": "python",
   "pygments_lexer": "ipython3",
   "version": "3.8.10"
  }
 },
 "nbformat": 4,
 "nbformat_minor": 2
}

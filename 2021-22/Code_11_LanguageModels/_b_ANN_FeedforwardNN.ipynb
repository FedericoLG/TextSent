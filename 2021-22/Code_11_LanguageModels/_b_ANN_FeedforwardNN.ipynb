{
 "cells": [
  {
   "cell_type": "code",
   "execution_count": 1,
   "metadata": {},
   "outputs": [
    {
     "name": "stdout",
     "output_type": "stream",
     "text": [
      "[[-1]\n",
      " [ 1]\n",
      " [ 1]]\n"
     ]
    }
   ],
   "source": [
    "#   FEEDFORWARD NEURAL NETWORK\n",
    "#---------------------------------------------------\n",
    "import numpy as np\n",
    "f = lambda x: 1.0/(1.0 + np.exp(-x)) # activation function (use sigmoid)\n",
    "x = np.array([[-1], [1], [1]]) # random input vector of three numbers (3x1)\n",
    "\n",
    "W1 = np.random.uniform(-0.5, 0.5, 12).reshape(4, 3)\n",
    "b1 = np.random.uniform(-0.05, 0.05, 4).reshape(4, 1)\n",
    "W2 = np.random.uniform(-0.5, 0.5, 16).reshape(4, 4)\n",
    "b2 = np.random.uniform(-0.05, 0.05, 4).reshape(4, 1)\n",
    "W3 = np.random.uniform(-0.5, 0.5, 4).reshape(1, 4)\n",
    "\n",
    "print(x)"
   ]
  },
  {
   "cell_type": "code",
   "execution_count": 2,
   "metadata": {},
   "outputs": [],
   "source": [
    "#   Feedforward Neural Networks\n",
    "h1 = f(np.dot(W1, x) + b1) # calculate first hidden layer activations (4x1)\n",
    "h2 = f(np.dot(W2, h1) + b2) # calculate second hidden layer activations (4x1)\n",
    "out = np.dot(W3, h2) # output neuron (1x1)"
   ]
  },
  {
   "cell_type": "code",
   "execution_count": 3,
   "metadata": {},
   "outputs": [
    {
     "name": "stdout",
     "output_type": "stream",
     "text": [
      "Not Activated\n"
     ]
    }
   ],
   "source": [
    "#   Feedforward Neural Networks\n",
    "#Check the Activation\n",
    "if out>0:\n",
    "    print(\"Activated\")\n",
    "else:\n",
    "    print(\"Not Activated\")"
   ]
  },
  {
   "cell_type": "code",
   "execution_count": 3,
   "metadata": {},
   "outputs": [
    {
     "name": "stdout",
     "output_type": "stream",
     "text": [
      "Not Activated\n",
      "Not Activated\n",
      "Activated\n",
      "Activated\n",
      "Not Activated\n",
      "Not Activated\n",
      "Not Activated\n",
      "Activated\n",
      "Activated\n",
      "Not Activated\n"
     ]
    }
   ],
   "source": [
    "import numpy as np\n",
    "for i in range(0, 10):\n",
    "    f = lambda x: 1.0/(1.0 + np.exp(-x)) # activation function (use sigmoid)\n",
    "    x = np.array([[0], [0], [0]]) # if is set to 0 everything depend by the bias\n",
    "    W1 = np.random.uniform(-0.5, 0.5, 12).reshape(4, 3)\n",
    "    b1 = np.random.uniform(-0.05, 0.05, 4).reshape(4, 1)\n",
    "    W2 = np.random.uniform(-0.5, 0.5, 16).reshape(4, 4)\n",
    "    b2 = np.random.uniform(-0.05, 0.05, 4).reshape(4, 1)\n",
    "    W3 = np.random.uniform(-0.5, 0.5, 4).reshape(1, 4)\n",
    "    #   Feedforward Neural Networks\n",
    "    h1 = f(np.dot(W1, x) + b1) # calculate first hidden layer activations (4x1)\n",
    "    h2 = f(np.dot(W2, h1) + b2) # calculate second hidden layer activations (4x1)\n",
    "    out = np.dot(W3, h2) # output neuron (1x1)\n",
    "    #   Feedforward Neural Networks\n",
    "    #Check the Activation\n",
    "    if out>0:\n",
    "        print(\"Activated\")\n",
    "    else:\n",
    "        print(\"Not Activated\")"
   ]
  },
  {
   "cell_type": "code",
   "execution_count": null,
   "metadata": {},
   "outputs": [],
   "source": []
  }
 ],
 "metadata": {
  "kernelspec": {
   "display_name": "Python 3.8.6 64-bit",
   "metadata": {
    "interpreter": {
     "hash": "7c5e198bb2c26c0a7f9b5ac7b90cc1f6445a13379518e9d3e56a5bc5aee09fec"
    }
   },
   "name": "python3"
  },
  "language_info": {
   "codemirror_mode": {
    "name": "ipython",
    "version": 3
   },
   "file_extension": ".py",
   "mimetype": "text/x-python",
   "name": "python",
   "nbconvert_exporter": "python",
   "pygments_lexer": "ipython3",
   "version": "3.8.10"
  }
 },
 "nbformat": 4,
 "nbformat_minor": 4
}

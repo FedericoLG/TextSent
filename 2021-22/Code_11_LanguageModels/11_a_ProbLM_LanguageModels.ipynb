{
 "cells": [
  {
   "cell_type": "code",
   "execution_count": 1,
   "metadata": {},
   "outputs": [
    {
     "name": "stderr",
     "output_type": "stream",
     "text": [
      "100%|██████████| 18/18 [00:28<00:00,  1.56s/it]\n"
     ]
    }
   ],
   "source": [
    "from tqdm import tqdm\n",
    "\n",
    "import nltk\n",
    "from nltk.corpus import gutenberg\n",
    "from nltk import word_tokenize\n",
    "from nltk import trigrams, ngrams\n",
    "\n",
    "import string\n",
    "myPunctation = string.punctuation +'“'+'”'+'-'+'’'+'‘'+'—'\n",
    "myPunctation = myPunctation.replace('.', '')\n",
    "myPunctation\n",
    "\n",
    "from collections import defaultdict\n",
    "import random\n",
    "\n",
    "sentence_list = []\n",
    "\n",
    "for Opera in tqdm(nltk.corpus.gutenberg.fileids()):\n",
    "    #print(Opera)\n",
    "    sentence_opera = gutenberg.sents(Opera)\n",
    "    for sentence in sentence_opera:\n",
    "        filteredSentence = [word for word in sentence if word not in myPunctation]\n",
    "        sentence_list.append(\" \".join(filteredSentence))"
   ]
  },
  {
   "cell_type": "code",
   "execution_count": 2,
   "metadata": {},
   "outputs": [
    {
     "data": {
      "text/plain": [
       "'Emma by Jane Austen 1816 VOLUME I CHAPTER I Emma Woodhouse handsome clever and rich with a comfortab'"
      ]
     },
     "execution_count": 2,
     "metadata": {},
     "output_type": "execute_result"
    }
   ],
   "source": [
    "corpusText = \" \".join(sentence_list)[:100]\n",
    "corpusText"
   ]
  },
  {
   "cell_type": "code",
   "execution_count": 10,
   "metadata": {},
   "outputs": [
    {
     "name": "stdout",
     "output_type": "stream",
     "text": [
      "number of tokens:  2644603\n",
      "number of unique tokens:  50947\n"
     ]
    }
   ],
   "source": [
    "#   wordTokens = word_tokenize(\" \".join(sentence_list))\n",
    "#   print(\"number of tokens: \", len(wordTokens))\n",
    "#   print(\"number of unique tokens: \", len(set(wordTokens)))"
   ]
  },
  {
   "cell_type": "code",
   "execution_count": 3,
   "metadata": {},
   "outputs": [],
   "source": [
    "# Create a placeholder for model\n",
    "trigram_model = defaultdict(lambda: defaultdict(lambda: 0))\n",
    "\n",
    "# Count frequency of co-occurance\n",
    "for sentence in sentence_list:\n",
    "    sentence_words = word_tokenize(sentence)\n",
    "    for w1, w2, w3 in trigrams(sentence_words, pad_right=True, pad_left=True):\n",
    "        trigram_model[(w1, w2)][w3] += 1"
   ]
  },
  {
   "cell_type": "code",
   "execution_count": 4,
   "metadata": {},
   "outputs": [
    {
     "data": {
      "text/plain": [
       "[(None, None),\n",
       " (None, 'Emma'),\n",
       " ('Emma', 'by'),\n",
       " ('by', 'Jane'),\n",
       " ('Jane', 'Austen'),\n",
       " ('Austen', '1816'),\n",
       " ('1816', None),\n",
       " (None, 'VOLUME'),\n",
       " ('VOLUME', 'I'),\n",
       " ('I', None)]"
      ]
     },
     "execution_count": 4,
     "metadata": {},
     "output_type": "execute_result"
    }
   ],
   "source": [
    "list(trigram_model.keys())[:10]"
   ]
  },
  {
   "cell_type": "code",
   "execution_count": 5,
   "metadata": {},
   "outputs": [
    {
     "data": {
      "text/plain": [
       "defaultdict(<function __main__.<lambda>.<locals>.<lambda>()>,\n",
       "            {'it': 58,\n",
       "             'there': 12,\n",
       "             'you': 46,\n",
       "             'very': 4,\n",
       "             'Mr': 3,\n",
       "             'Harriet': 2,\n",
       "             'a': 7,\n",
       "             'they': 13,\n",
       "             'her': 4,\n",
       "             'one': 2,\n",
       "             'Mrs': 1,\n",
       "             'I': 57,\n",
       "             'the': 17,\n",
       "             'as': 2,\n",
       "             'this': 3,\n",
       "             'my': 3,\n",
       "             '!': 1,\n",
       "             'Emma': 1,\n",
       "             'their': 1,\n",
       "             'indeed': 1,\n",
       "             'your': 1,\n",
       "             'we': 22,\n",
       "             'quite': 1,\n",
       "             'she': 10,\n",
       "             'will': 1,\n",
       "             'who': 2,\n",
       "             'of': 20,\n",
       "             'he': 17,\n",
       "             'Miss': 3,\n",
       "             '.': 17,\n",
       "             'at': 4,\n",
       "             'on': 2,\n",
       "             '?': 6,\n",
       "             'than': 1,\n",
       "             'must': 1,\n",
       "             'do': 1,\n",
       "             'would': 1,\n",
       "             'but': 2,\n",
       "             'before': 1,\n",
       "             'him': 5,\n",
       "             'could': 1,\n",
       "             'to': 3,\n",
       "             'is': 1,\n",
       "             'be': 4,\n",
       "             'every': 2,\n",
       "             '--': 9,\n",
       "             'our': 1,\n",
       "             'Lady': 1,\n",
       "             'highly': 1,\n",
       "             'not': 3,\n",
       "             'Anne': 1,\n",
       "             'ends': 1,\n",
       "             'differently': 1,\n",
       "             'if': 1,\n",
       "             'all': 2,\n",
       "             'and': 3,\n",
       "             'Edward': 1,\n",
       "             ',': 15,\n",
       "             'whether': 1,\n",
       "             'for': 3,\n",
       "             'so': 5,\n",
       "             'nothing': 1,\n",
       "             '``': 1,\n",
       "             'Elinor': 2,\n",
       "             'lodges': 1,\n",
       "             'upon': 1,\n",
       "             'toward': 1,\n",
       "             'myself': 1,\n",
       "             'that': 14,\n",
       "             'also': 1,\n",
       "             'in': 2,\n",
       "             'concede': 1,\n",
       "             None: 1,\n",
       "             'less': 1,\n",
       "             'He': 1,\n",
       "             'Fleet': 1,\n",
       "             'Dr': 1,\n",
       "             'these': 1,\n",
       "             'them': 1,\n",
       "             'wears': 1,\n",
       "             'his': 2,\n",
       "             'about': 1,\n",
       "             'something': 2,\n",
       "             'shine': 1,\n",
       "             'comes': 1,\n",
       "             'maybe': 1,\n",
       "             'fittest': 1,\n",
       "             'seem': 1,\n",
       "             'without': 1,\n",
       "             'madam': 1,\n",
       "             'has': 1,\n",
       "             'Frederick': 1,\n",
       "             'where': 2,\n",
       "             'ye': 1,\n",
       "             'exists': 1,\n",
       "             'sir': 1,\n",
       "             'now': 3,\n",
       "             'neither': 1,\n",
       "             'some': 1,\n",
       "             'heroic': 1,\n",
       "             'whatever': 1,\n",
       "             'whoever': 1,\n",
       "             'O': 1,\n",
       "             'how': 1,\n",
       "             'begin': 1,\n",
       "             'no': 1})"
      ]
     },
     "execution_count": 5,
     "metadata": {},
     "output_type": "execute_result"
    }
   ],
   "source": [
    "trigram_model[(\"I\", \"think\")]"
   ]
  },
  {
   "cell_type": "code",
   "execution_count": 6,
   "metadata": {},
   "outputs": [],
   "source": [
    "# Let's transform the counts to probabilities\n",
    "for w1_w2 in trigram_model:\n",
    "    total_count = float(sum(trigram_model[w1_w2].values()))\n",
    "    for w3 in trigram_model[w1_w2]:\n",
    "        trigram_model[w1_w2][w3] /= total_count"
   ]
  },
  {
   "cell_type": "code",
   "execution_count": 7,
   "metadata": {},
   "outputs": [
    {
     "data": {
      "text/plain": [
       "0.999999999999998"
      ]
     },
     "execution_count": 7,
     "metadata": {},
     "output_type": "execute_result"
    }
   ],
   "source": [
    "float(sum(trigram_model[(\"I\", \"think\")].values()))"
   ]
  },
  {
   "cell_type": "code",
   "execution_count": 8,
   "metadata": {},
   "outputs": [
    {
     "name": "stdout",
     "output_type": "stream",
     "text": [
      "If I take it and peering in upon them .\n"
     ]
    }
   ],
   "source": [
    "# starting words\n",
    "text = [\"If\", \"I\"]\n",
    "sentence_finished = False\n",
    " \n",
    "while not sentence_finished:\n",
    "  # select a random probability threshold  \n",
    "  r = random.random()\n",
    "  accumulator = .0\n",
    "\n",
    "  for word in trigram_model[tuple(text[-2:])].keys():\n",
    "      accumulator += trigram_model[tuple(text[-2:])][word]\n",
    "      # select words that are above the probability threshold\n",
    "      if accumulator >= r:\n",
    "          text.append(word)\n",
    "          break\n",
    "\n",
    "  #if text[-2:] == [None, None]:\n",
    "  #    sentence_finished = True\n",
    "  if text[-1] in [\".\", \"!\", \"?\"]:\n",
    "      sentence_finished = True\n",
    "\n",
    "print (' '.join([t for t in text if t]))"
   ]
  },
  {
   "cell_type": "markdown",
   "metadata": {},
   "source": [
    "### ngrams models"
   ]
  },
  {
   "cell_type": "code",
   "execution_count": 9,
   "metadata": {},
   "outputs": [],
   "source": [
    "# Create a placeholder for model\n",
    "fourgram_model = defaultdict(lambda: defaultdict(lambda: 0))\n",
    "\n",
    "# Count frequency of co-occurance\n",
    "for sentence in sentence_list:\n",
    "    sentence_words = word_tokenize(sentence)\n",
    "    for w1, w2, w3, w4 in ngrams(sentence_words, 4):\n",
    "        fourgram_model[(w1, w2, w3)][w4] += 1\n",
    "\n",
    "# Let's transform the counts to probabilities\n",
    "for w1_w2_w3 in fourgram_model:\n",
    "    total_count = float(sum(fourgram_model[w1_w2_w3].values()))\n",
    "    for w4 in fourgram_model[w1_w2_w3]:\n",
    "        fourgram_model[w1_w2_w3][w4] /= total_count"
   ]
  },
  {
   "cell_type": "code",
   "execution_count": 11,
   "metadata": {},
   "outputs": [
    {
     "name": "stdout",
     "output_type": "stream",
     "text": [
      "If I take the wings of a great deal too handsome in my opinion as to the Lord and to all of whom high or low Thy Selfe and Office deaftly show .\n"
     ]
    }
   ],
   "source": [
    "# starting words\n",
    "text = [\"If\", \"I\",  \"take\"]\n",
    "sentence_finished = False\n",
    " \n",
    "while not sentence_finished:\n",
    "  # select a random probability threshold  \n",
    "  r = random.random()\n",
    "  accumulator = .0\n",
    "\n",
    "  for word in fourgram_model[tuple(text[-3:])].keys():\n",
    "      accumulator += fourgram_model[tuple(text[-3:])][word]\n",
    "      # select words that are above the probability threshold\n",
    "      if accumulator >= r:\n",
    "          text.append(word)\n",
    "          break\n",
    "\n",
    "  if text[-1] in [\".\", \"!\", \"?\"]:\n",
    "      sentence_finished = True\n",
    "\n",
    "print (' '.join([t for t in text if t]))"
   ]
  },
  {
   "cell_type": "code",
   "execution_count": null,
   "metadata": {},
   "outputs": [],
   "source": []
  }
 ],
 "metadata": {
  "interpreter": {
   "hash": "bfb75dc7d96d332aeaa21ae2d7b833083e393049992869c7fba312a269a18e76"
  },
  "kernelspec": {
   "display_name": "text-mining",
   "language": "python",
   "name": "python3"
  },
  "language_info": {
   "codemirror_mode": {
    "name": "ipython",
    "version": 3
   },
   "file_extension": ".py",
   "mimetype": "text/x-python",
   "name": "python",
   "nbconvert_exporter": "python",
   "pygments_lexer": "ipython3",
   "version": "3.8.10"
  }
 },
 "nbformat": 4,
 "nbformat_minor": 2
}

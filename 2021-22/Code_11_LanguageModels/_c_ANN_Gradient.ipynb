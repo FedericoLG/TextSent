{
 "cells": [
  {
   "cell_type": "code",
   "execution_count": 2,
   "metadata": {},
   "outputs": [],
   "source": [
    "#   GRADIENT DESCENT\n",
    "#---------------------------------------------------"
   ]
  },
  {
   "cell_type": "code",
   "execution_count": 13,
   "metadata": {},
   "outputs": [],
   "source": [
    "import numpy as np\n",
    "\n",
    "def gradient_descent(\n",
    "    gradient, start, learn_rate, n_iter=50, tolerance=1e-09\n",
    "):\n",
    "    vector = start\n",
    "    for _ in range(n_iter):\n",
    "        #print(\"gradient\", gradient(vector))\n",
    "        diff = -learn_rate * gradient(vector)\n",
    "        #print(\"diff\", diff)\n",
    "        if np.all(np.abs(diff) <= tolerance):\n",
    "            break\n",
    "        vector += diff\n",
    "    print(\"vector\",vector)\n",
    "    return vector"
   ]
  },
  {
   "cell_type": "code",
   "execution_count": 2,
   "metadata": {},
   "outputs": [
    {
     "data": {
      "text/plain": [
       "<function __main__.<lambda>(v)>"
      ]
     },
     "execution_count": 2,
     "metadata": {},
     "output_type": "execute_result"
    }
   ],
   "source": [
    "lambda v: 2 * v"
   ]
  },
  {
   "cell_type": "code",
   "execution_count": 9,
   "metadata": {},
   "outputs": [
    {
     "name": "stdout",
     "output_type": "stream",
     "text": [
      "gradient 20.0\n",
      "diff -4.0\n",
      "vector 6.0\n",
      "gradient 12.0\n",
      "diff -2.4000000000000004\n",
      "vector 3.5999999999999996\n",
      "gradient 7.199999999999999\n",
      "diff -1.44\n",
      "vector 2.1599999999999997\n",
      "gradient 4.319999999999999\n",
      "diff -0.8639999999999999\n",
      "vector 1.2959999999999998\n",
      "gradient 2.5919999999999996\n",
      "diff -0.5184\n",
      "vector 0.7775999999999998\n",
      "gradient 1.5551999999999997\n",
      "diff -0.31104\n",
      "vector 0.46655999999999986\n",
      "gradient 0.9331199999999997\n",
      "diff -0.18662399999999996\n",
      "vector 0.2799359999999999\n",
      "gradient 0.5598719999999998\n",
      "diff -0.11197439999999997\n",
      "vector 0.16796159999999993\n",
      "gradient 0.33592319999999987\n",
      "diff -0.06718463999999998\n",
      "vector 0.10077695999999996\n",
      "gradient 0.20155391999999991\n",
      "diff -0.04031078399999999\n",
      "vector 0.06046617599999997\n",
      "gradient 0.12093235199999994\n",
      "diff -0.02418647039999999\n",
      "vector 0.036279705599999976\n",
      "gradient 0.07255941119999995\n",
      "diff -0.01451188223999999\n",
      "vector 0.021767823359999987\n",
      "gradient 0.043535646719999974\n",
      "diff -0.008707129343999994\n",
      "vector 0.013060694015999992\n",
      "gradient 0.026121388031999985\n",
      "diff -0.005224277606399997\n",
      "vector 0.007836416409599995\n",
      "gradient 0.01567283281919999\n",
      "diff -0.0031345665638399982\n",
      "vector 0.004701849845759997\n",
      "gradient 0.009403699691519994\n",
      "diff -0.001880739938303999\n",
      "vector 0.002821109907455998\n",
      "gradient 0.005642219814911996\n",
      "diff -0.0011284439629823991\n",
      "vector 0.0016926659444735988\n",
      "gradient 0.0033853318889471976\n",
      "diff -0.0006770663777894395\n",
      "vector 0.0010155995666841593\n",
      "gradient 0.0020311991333683186\n",
      "diff -0.00040623982667366374\n",
      "vector 0.0006093597400104956\n",
      "gradient 0.001218719480020991\n",
      "diff -0.00024374389600419823\n",
      "vector 0.0003656158440062973\n",
      "gradient 0.0007312316880125946\n",
      "diff -0.00014624633760251893\n",
      "vector 0.0002193695064037784\n",
      "gradient 0.0004387390128075568\n",
      "diff -8.774780256151136e-05\n",
      "vector 0.00013162170384226703\n",
      "gradient 0.00026324340768453405\n",
      "diff -5.2648681536906814e-05\n",
      "vector 7.897302230536021e-05\n",
      "gradient 0.00015794604461072043\n",
      "diff -3.158920892214409e-05\n",
      "vector 4.7383813383216124e-05\n",
      "gradient 9.476762676643225e-05\n",
      "diff -1.895352535328645e-05\n",
      "vector 2.8430288029929674e-05\n",
      "gradient 5.686057605985935e-05\n",
      "diff -1.137211521197187e-05\n",
      "vector 1.7058172817957805e-05\n",
      "gradient 3.411634563591561e-05\n",
      "diff -6.8232691271831225e-06\n",
      "vector 1.0234903690774682e-05\n",
      "gradient 2.0469807381549363e-05\n",
      "diff -4.093961476309873e-06\n",
      "vector 6.1409422144648085e-06\n",
      "gradient 1.2281884428929617e-05\n",
      "diff -2.4563768857859235e-06\n",
      "vector 3.684565328678885e-06\n",
      "gradient 7.36913065735777e-06\n",
      "diff -1.473826131471554e-06\n",
      "vector 2.210739197207331e-06\n",
      "gradient 4.421478394414662e-06\n",
      "diff -8.842956788829324e-07\n"
     ]
    },
    {
     "data": {
      "text/plain": [
       "2.210739197207331e-06"
      ]
     },
     "execution_count": 9,
     "metadata": {},
     "output_type": "execute_result"
    }
   ],
   "source": [
    "gradient_descent(\n",
    "     gradient=lambda v: 2 * v, start=10.0, learn_rate=0.2\n",
    "     , tolerance=1e-06\n",
    ")"
   ]
  },
  {
   "cell_type": "markdown",
   "metadata": {},
   "source": [
    "![](https://files.realpython.com/media/gd-1.25c5ef2aed4e.png)"
   ]
  },
  {
   "cell_type": "code",
   "execution_count": 18,
   "metadata": {},
   "outputs": [
    {
     "name": "stdout",
     "output_type": "stream",
     "text": [
      "vector 0.4970208620284744\n"
     ]
    },
    {
     "data": {
      "text/plain": [
       "0.4970208620284744"
      ]
     },
     "execution_count": 18,
     "metadata": {},
     "output_type": "execute_result"
    }
   ],
   "source": [
    "gradient_descent(\n",
    "    gradient=lambda v: 4 * v**3 - 10 * v - 3, start=0,\n",
    "    learn_rate=0.11\n",
    "    , tolerance=1e-06\n",
    ")"
   ]
  },
  {
   "cell_type": "markdown",
   "metadata": {},
   "source": [
    "![](https://files.realpython.com/media/gd-8.f055cad0b634.png)"
   ]
  }
 ],
 "metadata": {
  "kernelspec": {
   "display_name": "Python 3.8.6 64-bit",
   "metadata": {
    "interpreter": {
     "hash": "7c5e198bb2c26c0a7f9b5ac7b90cc1f6445a13379518e9d3e56a5bc5aee09fec"
    }
   },
   "name": "python3"
  },
  "language_info": {
   "codemirror_mode": {
    "name": "ipython",
    "version": 3
   },
   "file_extension": ".py",
   "mimetype": "text/x-python",
   "name": "python",
   "nbconvert_exporter": "python",
   "pygments_lexer": "ipython3",
   "version": "3.8.10"
  }
 },
 "nbformat": 4,
 "nbformat_minor": 4
}

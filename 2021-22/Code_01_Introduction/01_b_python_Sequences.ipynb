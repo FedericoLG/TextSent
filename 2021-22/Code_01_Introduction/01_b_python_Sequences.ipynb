{
 "cells": [
  {
   "cell_type": "markdown",
   "metadata": {},
   "source": [
    "# Lists"
   ]
  },
  {
   "cell_type": "code",
   "execution_count": 2,
   "metadata": {},
   "outputs": [
    {
     "name": "stdout",
     "output_type": "stream",
     "text": [
      "['apple', 'banana', 'cherry']\n",
      "['pen', 'on', 'table']\n",
      "apple\n",
      "banana\n",
      "cherry\n"
     ]
    },
    {
     "data": {
      "text/plain": [
       "'\\nappend()\\t#\\tAdds an element at the end of the list\\nclear()\\t#\\tRemoves all the elements from the list\\ncopy()\\t#\\tReturns a copy of the list\\ncount()\\t#\\tReturns the number of elements with the specified value\\nextend()\\t#\\tAdd the elements of a list (or any iterable), to the end of the current list\\nindex()\\t#\\tReturns the index of the first element with the specified value\\ninsert()\\t#\\tAdds an element at the specified position\\npop()\\t#\\tRemoves the element at the specified position\\nremove()\\t#\\tRemoves the item with the specified value\\nreverse()\\t#\\tReverses the order of the list\\nsort()\\t#\\tSorts the list\\n'"
      ]
     },
     "execution_count": 2,
     "metadata": {},
     "output_type": "execute_result"
    }
   ],
   "source": [
    "thisList = [\"apple\", \"banana\", \"cherry\"]\n",
    "alsoThis = list((\"pen\", \"on\", \"table\")) # note the double round-brackets\n",
    "print(thisList)\n",
    "print(alsoThis)\n",
    "\n",
    "#   List item\n",
    "print(thisList[0])\n",
    "print(thisList[1])\n",
    "print(thisList[2])\n",
    "\n",
    "#   Order-Changeable\n",
    "\"\"\"\n",
    "append()\t#\tAdds an element at the end of the list\n",
    "clear()\t#\tRemoves all the elements from the list\n",
    "copy()\t#\tReturns a copy of the list\n",
    "count()\t#\tReturns the number of elements with the specified value\n",
    "extend()\t#\tAdd the elements of a list (or any iterable), to the end of the current list\n",
    "index()\t#\tReturns the index of the first element with the specified value\n",
    "insert()\t#\tAdds an element at the specified position\n",
    "pop()\t#\tRemoves the element at the specified position\n",
    "remove()\t#\tRemoves the item with the specified value\n",
    "reverse()\t#\tReverses the order of the list\n",
    "sort()\t#\tSorts the list\n",
    "\"\"\""
   ]
  },
  {
   "cell_type": "code",
   "execution_count": 3,
   "metadata": {},
   "outputs": [
    {
     "name": "stdout",
     "output_type": "stream",
     "text": [
      "['apple', 'banana', 'cherry', 'apple', 'cherry']\n",
      "['cherry', 'banana', 'apple']\n"
     ]
    }
   ],
   "source": [
    "#   Allow Duplicates\n",
    "anotherList = [\"apple\", \"banana\", \"cherry\", \"apple\", \"cherry\"]\n",
    "print(anotherList)\n",
    "\n",
    "#you need to use the set() sequence\n",
    "print(list(set(anotherList)))"
   ]
  },
  {
   "cell_type": "code",
   "execution_count": 4,
   "metadata": {},
   "outputs": [
    {
     "name": "stdout",
     "output_type": "stream",
     "text": [
      "5\n"
     ]
    }
   ],
   "source": [
    "#   List Length\n",
    "print(len(anotherList))"
   ]
  },
  {
   "cell_type": "code",
   "execution_count": 5,
   "metadata": {},
   "outputs": [
    {
     "name": "stdout",
     "output_type": "stream",
     "text": [
      "['apple', 'banana', 'cherry']\n",
      "[1, 5, 7, 9, 3]\n",
      "[True, False, False]\n",
      "['abc', 34, True, 40, 'male']\n"
     ]
    }
   ],
   "source": [
    "#   List item\n",
    "list1 = [\"apple\", \"banana\", \"cherry\"]\n",
    "list2 = [1, 5, 7, 9, 3]\n",
    "list3 = [True, False, False]\n",
    "list0 = [\"abc\", 34, True, 40, \"male\"]\n",
    "print(list1)\n",
    "print(list2)\n",
    "print(list3)\n",
    "print(list0)"
   ]
  },
  {
   "cell_type": "code",
   "execution_count": 6,
   "metadata": {},
   "outputs": [
    {
     "name": "stdout",
     "output_type": "stream",
     "text": [
      "['abc', 34, True, 40, 'male', 'apple']\n"
     ]
    }
   ],
   "source": [
    "#   Add list item\n",
    "list0.append(list1[0])\n",
    "\n",
    "print(list0)"
   ]
  },
  {
   "cell_type": "code",
   "execution_count": 7,
   "metadata": {},
   "outputs": [
    {
     "name": "stdout",
     "output_type": "stream",
     "text": [
      "['abc', 34, True, 40, 'male', ['apple', 'banana', 'cherry']]\n",
      "['abc', 34, True, 40, 'male', 'apple', 'banana', 'cherry']\n"
     ]
    }
   ],
   "source": [
    "#   Append Vs Extend\n",
    "list0 = [\"abc\", 34, True, 40, \"male\"]\n",
    "list0.append(list1) #nested lists\n",
    "\n",
    "print(list0)\n",
    "\n",
    "list0 = [\"abc\", 34, True, 40, \"male\"]\n",
    "list0.extend(list1)\n",
    "\n",
    "print(list0)"
   ]
  },
  {
   "cell_type": "code",
   "execution_count": 8,
   "metadata": {},
   "outputs": [
    {
     "name": "stdout",
     "output_type": "stream",
     "text": [
      "['abc', 34, True, 40, 'male', 'apple']\n",
      "['abc', 'apple', 34, True, 40, 'male']\n"
     ]
    }
   ],
   "source": [
    "#   Append Vs Insert\n",
    "list0 = [\"abc\", 34, True, 40, \"male\"]\n",
    "list0.append(list1[0])\n",
    "\n",
    "print(list0)\n",
    "\n",
    "list0 = [\"abc\", 34, True, 40, \"male\"]\n",
    "list0.insert(1, list1[0])\n",
    "\n",
    "print(list0)"
   ]
  },
  {
   "cell_type": "code",
   "execution_count": 9,
   "metadata": {},
   "outputs": [
    {
     "name": "stdout",
     "output_type": "stream",
     "text": [
      "['A', 'E', 'I', 'U', 'Y']\n",
      "['A', 'I', 'U', 'Y']\n",
      "['List', 'to', 'delete']\n",
      "[]\n"
     ]
    }
   ],
   "source": [
    "#   Remove from a list\n",
    "\n",
    "#Using the item (only if it's present)\n",
    "aList = [\"A\", \"E\", \"I\", \"O\", \"U\", \"Y\"]\n",
    "aList.remove(\"O\")\n",
    "print(aList)\n",
    "#list.remove(\"B\")\n",
    "#>ValueError: aList.remove(x): x not in list\n",
    "\n",
    "#Using the index\n",
    "aList.pop(1)\n",
    "print(aList)\n",
    "\n",
    "#Delete the entire list\n",
    "delList = [\"List\", \"to\", \"delete\"]\n",
    "print(delList)\n",
    "del delList\n",
    "#print(delList)\n",
    "#>NameError: name 'delList' is not defined\n",
    "\n",
    "#Clear the list\n",
    "aList.clear()\n",
    "print(aList)\n",
    "\n",
    "#list.pop(1)\n",
    "#>IndexError: pop from empty list"
   ]
  },
  {
   "cell_type": "code",
   "execution_count": 10,
   "metadata": {},
   "outputs": [
    {
     "name": "stdout",
     "output_type": "stream",
     "text": [
      "['abc', 'apple', 34, True, 40, 'male']\n",
      "['abc', 'apple', 34, True, 40, 'male', 'Hello!!']\n",
      "-----------------\n",
      "['apple', 34, True, 40, 'male', 'Hello!!']\n",
      "['abc', 'apple', 34, True, 40, 'male', 'Hello!!']\n",
      "-----------------\n",
      "[34, True, 40, 'male', 'Hello!!']\n",
      "['apple', 34, True, 40, 'male', 'Hello!!']\n"
     ]
    }
   ],
   "source": [
    "#   Copy a List\n",
    "\n",
    "listX = list0   # listX isn't a copy but a reference\n",
    "\n",
    "print(listX)\n",
    "\n",
    "list0.append(\"Hello!!\")\n",
    "\n",
    "print(listX)\n",
    "\n",
    "print(\"-----------------\")\n",
    "\n",
    "listX = list0.copy()\n",
    "\n",
    "list0.remove(\"abc\")\n",
    "\n",
    "print(list0)\n",
    "print(listX)\n",
    "\n",
    "print(\"-----------------\")\n",
    "\n",
    "listY = list(list0)\n",
    "\n",
    "list0.remove(\"apple\")\n",
    "\n",
    "print(list0)\n",
    "print(listY)"
   ]
  },
  {
   "cell_type": "markdown",
   "metadata": {},
   "source": [
    "# Dictionaries"
   ]
  },
  {
   "cell_type": "code",
   "execution_count": 12,
   "metadata": {},
   "outputs": [
    {
     "name": "stdout",
     "output_type": "stream",
     "text": [
      "Ford\n"
     ]
    },
    {
     "data": {
      "text/plain": [
       "\"\\nclear()\\t#\\tRemoves all the elements from the dictionary\\ncopy()\\t#\\tReturns a copy of the dictionary\\nfromkeys()\\t#\\tReturns a dictionary with the specified keys and value\\nget()\\t#\\tReturns the value of the specified key\\nitems()\\t#\\tReturns a list containing a tuple for each key value pair\\nkeys()\\t#\\tReturns a list containing the dictionary's keys\\npop()\\t#\\tRemoves the element with the specified key\\npopitem()\\t#\\tRemoves the last inserted key-value pair\\nsetdefault()\\t#\\tReturns the value of the specified key. If the key does not exist: insert the key, with the specified value\\nupdate()\\t#\\tUpdates the dictionary with the specified key-value pairs\\nvalues()\\t#\\tReturns a list of all the values in the dictionary\\n\""
      ]
     },
     "execution_count": 12,
     "metadata": {},
     "output_type": "execute_result"
    }
   ],
   "source": [
    "#\t\tDictionary\n",
    "thisdict = {\n",
    "  \"brand\": \"Ford\",\n",
    "  \"model\": \"Mustang\",\n",
    "  \"year\": 1964\n",
    "}\n",
    "\n",
    "#\t\tDictionary values\n",
    "print(thisdict[\"brand\"])    #select a specific value using the key\n",
    "\n",
    "\"\"\"\n",
    "clear()\t#\tRemoves all the elements from the dictionary\n",
    "copy()\t#\tReturns a copy of the dictionary\n",
    "fromkeys()\t#\tReturns a dictionary with the specified keys and value\n",
    "get()\t#\tReturns the value of the specified key\n",
    "items()\t#\tReturns a list containing a tuple for each key value pair\n",
    "keys()\t#\tReturns a list containing the dictionary's keys\n",
    "pop()\t#\tRemoves the element with the specified key\n",
    "popitem()\t#\tRemoves the last inserted key-value pair\n",
    "setdefault()\t#\tReturns the value of the specified key. If the key does not exist: insert the key, with the specified value\n",
    "update()\t#\tUpdates the dictionary with the specified key-value pairs\n",
    "values()\t#\tReturns a list of all the values in the dictionary\n",
    "\"\"\""
   ]
  },
  {
   "cell_type": "code",
   "execution_count": 13,
   "metadata": {},
   "outputs": [
    {
     "name": "stdout",
     "output_type": "stream",
     "text": [
      "{'brand': 'Ford', 'model': 'Mustang', 'year': 2020}\n"
     ]
    }
   ],
   "source": [
    "#\t\tDuplicate keys not allowed\n",
    "thisdict = {\n",
    "  \"brand\": \"Ford\",\n",
    "  \"model\": \"Mustang\",\n",
    "  \"year\": 1964,\n",
    "  \"year\": 2020\n",
    "}\n",
    "print(thisdict)"
   ]
  },
  {
   "cell_type": "code",
   "execution_count": 14,
   "metadata": {},
   "outputs": [
    {
     "name": "stdout",
     "output_type": "stream",
     "text": [
      "{'brand': 'Ford', 'electric': False, 'year': 1964, 'colors': ['red', 'white', 'blue']}\n"
     ]
    }
   ],
   "source": [
    "#\t\tDictionary Items - Data Types\n",
    "thisdict = {\n",
    "  \"brand\": \"Ford\",\n",
    "  \"electric\": False,\n",
    "  \"year\": 1964,\n",
    "  \"colors\": [\"red\", \"white\", \"blue\"]\n",
    "}\n",
    "print(thisdict)"
   ]
  },
  {
   "cell_type": "code",
   "execution_count": 15,
   "metadata": {},
   "outputs": [
    {
     "name": "stdout",
     "output_type": "stream",
     "text": [
      "dict_keys(['brand', 'electric', 'year', 'colors'])\n",
      "dict_values(['Ford', False, 1964, ['red', 'white', 'blue']])\n",
      "dict_items([('brand', 'Ford'), ('electric', False), ('year', 1964), ('colors', ['red', 'white', 'blue'])])\n"
     ]
    }
   ],
   "source": [
    "#\t\tGet Keys\n",
    "print(thisdict.keys())\n",
    "\n",
    "#\t\tGet Values\n",
    "print(thisdict.values())\n",
    "\n",
    "#\t\tGet Items\n",
    "print(thisdict.items())"
   ]
  },
  {
   "cell_type": "code",
   "execution_count": 16,
   "metadata": {},
   "outputs": [],
   "source": [
    "#\t\tCheck if Key Exists\n",
    "if \"model\" in thisdict:\n",
    "  print(\"Yes, 'model' is one of the keys in your dictionary\")"
   ]
  },
  {
   "cell_type": "code",
   "execution_count": 17,
   "metadata": {},
   "outputs": [
    {
     "name": "stdout",
     "output_type": "stream",
     "text": [
      "{'child1': {'name': 'Emil', 'year': 2004}, 'child2': {'name': 'Tobias', 'year': 2007}, 'child3': {'name': 'Linus', 'year': 2011}}\n"
     ]
    }
   ],
   "source": [
    "#\t\tNested Dictionaries\n",
    "myFamily = {\n",
    "  \"child1\" : {\n",
    "    \"name\" : \"Emil\",\n",
    "    \"year\" : 2004\n",
    "  },\n",
    "  \"child2\" : {\n",
    "    \"name\" : \"Tobias\",\n",
    "    \"year\" : 2007\n",
    "  },\n",
    "  \"child3\" : {\n",
    "    \"name\" : \"Linus\",\n",
    "    \"year\" : 2011\n",
    "  }\n",
    "}\n",
    "print(myFamily)"
   ]
  },
  {
   "cell_type": "code",
   "execution_count": 18,
   "metadata": {},
   "outputs": [
    {
     "name": "stdout",
     "output_type": "stream",
     "text": [
      "{'child1': {'name': 'Emil', 'year': 2004}, 'child2': {'name': 'Tobias', 'year': 2007}, 'child3': {'name': 'Linus', 'year': 2011}}\n"
     ]
    }
   ],
   "source": [
    "child1 = {\n",
    "  \"name\" : \"Emil\",\n",
    "  \"year\" : 2004\n",
    "}\n",
    "child2 = {\n",
    "  \"name\" : \"Tobias\",\n",
    "  \"year\" : 2007\n",
    "}\n",
    "child3 = {\n",
    "  \"name\" : \"Linus\",\n",
    "  \"year\" : 2011\n",
    "}\n",
    "\n",
    "myNewFamily = {\n",
    "  \"child1\" : child1,\n",
    "  \"child2\" : child2,\n",
    "  \"child3\" : child3\n",
    "}\n",
    "print(myNewFamily)"
   ]
  },
  {
   "cell_type": "code",
   "execution_count": 19,
   "metadata": {},
   "outputs": [
    {
     "data": {
      "text/html": [
       "<div>\n",
       "<style scoped>\n",
       "    .dataframe tbody tr th:only-of-type {\n",
       "        vertical-align: middle;\n",
       "    }\n",
       "\n",
       "    .dataframe tbody tr th {\n",
       "        vertical-align: top;\n",
       "    }\n",
       "\n",
       "    .dataframe thead th {\n",
       "        text-align: right;\n",
       "    }\n",
       "</style>\n",
       "<table border=\"1\" class=\"dataframe\">\n",
       "  <thead>\n",
       "    <tr style=\"text-align: right;\">\n",
       "      <th></th>\n",
       "      <th>name</th>\n",
       "      <th>year</th>\n",
       "    </tr>\n",
       "  </thead>\n",
       "  <tbody>\n",
       "    <tr>\n",
       "      <th>child1</th>\n",
       "      <td>Emil</td>\n",
       "      <td>2004</td>\n",
       "    </tr>\n",
       "    <tr>\n",
       "      <th>child2</th>\n",
       "      <td>Tobias</td>\n",
       "      <td>2007</td>\n",
       "    </tr>\n",
       "    <tr>\n",
       "      <th>child3</th>\n",
       "      <td>Linus</td>\n",
       "      <td>2011</td>\n",
       "    </tr>\n",
       "  </tbody>\n",
       "</table>\n",
       "</div>"
      ],
      "text/plain": [
       "          name  year\n",
       "child1    Emil  2004\n",
       "child2  Tobias  2007\n",
       "child3   Linus  2011"
      ]
     },
     "execution_count": 19,
     "metadata": {},
     "output_type": "execute_result"
    }
   ],
   "source": [
    "#   Convert a Dict to a DataFrame\n",
    "import pandas as pd\n",
    "\n",
    "pd.DataFrame.from_dict(myNewFamily, orient='index')\n"
   ]
  },
  {
   "cell_type": "code",
   "execution_count": 20,
   "metadata": {},
   "outputs": [
    {
     "data": {
      "text/html": [
       "<div>\n",
       "<style scoped>\n",
       "    .dataframe tbody tr th:only-of-type {\n",
       "        vertical-align: middle;\n",
       "    }\n",
       "\n",
       "    .dataframe tbody tr th {\n",
       "        vertical-align: top;\n",
       "    }\n",
       "\n",
       "    .dataframe thead th {\n",
       "        text-align: right;\n",
       "    }\n",
       "</style>\n",
       "<table border=\"1\" class=\"dataframe\">\n",
       "  <thead>\n",
       "    <tr style=\"text-align: right;\">\n",
       "      <th></th>\n",
       "      <th>child1</th>\n",
       "      <th>child2</th>\n",
       "      <th>child3</th>\n",
       "    </tr>\n",
       "  </thead>\n",
       "  <tbody>\n",
       "    <tr>\n",
       "      <th>name</th>\n",
       "      <td>Emil</td>\n",
       "      <td>Tobias</td>\n",
       "      <td>Linus</td>\n",
       "    </tr>\n",
       "    <tr>\n",
       "      <th>year</th>\n",
       "      <td>2004</td>\n",
       "      <td>2007</td>\n",
       "      <td>2011</td>\n",
       "    </tr>\n",
       "  </tbody>\n",
       "</table>\n",
       "</div>"
      ],
      "text/plain": [
       "     child1  child2 child3\n",
       "name   Emil  Tobias  Linus\n",
       "year   2004    2007   2011"
      ]
     },
     "execution_count": 20,
     "metadata": {},
     "output_type": "execute_result"
    }
   ],
   "source": [
    "pd.DataFrame.from_dict(myNewFamily, orient='columns')"
   ]
  },
  {
   "cell_type": "code",
   "execution_count": 25,
   "metadata": {},
   "outputs": [
    {
     "data": {
      "text/plain": [
       "'NaN'"
      ]
     },
     "execution_count": 25,
     "metadata": {},
     "output_type": "execute_result"
    }
   ],
   "source": [
    "#   Default Dictionaries\n",
    "\n",
    "from collections import defaultdict #automatically create an entry for a new key and give it a default value\n",
    "\n",
    "standardDict = {}\n",
    "#standardDict[\"aKey\"]\n",
    "#>KeyError: 'aKey'\n",
    "\n",
    "defaultDict = defaultdict(lambda: 'NaN')\n",
    "defaultDict[\"aKey\"]"
   ]
  },
  {
   "cell_type": "markdown",
   "metadata": {},
   "source": [
    "# Array"
   ]
  },
  {
   "cell_type": "code",
   "execution_count": 26,
   "metadata": {},
   "outputs": [
    {
     "name": "stdout",
     "output_type": "stream",
     "text": [
      "[1 2 3 4 5]\n",
      "[[1 2 3]\n",
      " [4 5 6]]\n",
      "[[[ 1  2  3]\n",
      "  [ 4  5  6]]\n",
      "\n",
      " [[ 7  8  9]\n",
      "  [10 11 12]]]\n"
     ]
    }
   ],
   "source": [
    "import numpy as np\n",
    "\n",
    "arr1D = np.array([1, 2, 3, 4, 5])\n",
    "print(arr1D)\n",
    "\n",
    "arr2D = np.array([[1, 2, 3], [4, 5, 6]])\n",
    "print(arr2D)\n",
    "\n",
    "arr3D = np.array([[[1, 2, 3], [4, 5, 6]], [[7, 8, 9], [10, 11, 12]]])\n",
    "print(arr3D)"
   ]
  },
  {
   "cell_type": "code",
   "execution_count": 27,
   "metadata": {},
   "outputs": [
    {
     "name": "stdout",
     "output_type": "stream",
     "text": [
      "1\n",
      "2\n",
      "3\n",
      "-----------------\n",
      "[[1 2 3]\n",
      " [4 5 6]]\n",
      "[1 2 3]\n",
      "1\n",
      "2\n",
      "3\n",
      "[4 5 6]\n",
      "4\n",
      "5\n",
      "6\n",
      "[[ 7  8  9]\n",
      " [10 11 12]]\n",
      "[7 8 9]\n",
      "7\n",
      "8\n",
      "9\n",
      "[10 11 12]\n",
      "10\n",
      "11\n",
      "12\n"
     ]
    }
   ],
   "source": [
    "#   Number of dimensions?\n",
    "print(arr1D.ndim)\n",
    "print(arr2D.ndim)\n",
    "print(arr3D.ndim)\n",
    "\n",
    "print(\"-----------------\")\n",
    "\n",
    "for dim1 in arr3D:\n",
    "  print(dim1)\n",
    "  for dim2 in dim1:\n",
    "    print(dim2)\n",
    "    for dim3 in dim2:\n",
    "      print(dim3)"
   ]
  },
  {
   "cell_type": "code",
   "execution_count": 22,
   "metadata": {},
   "outputs": [
    {
     "name": "stdout",
     "output_type": "stream",
     "text": [
      "[5 6 7]\n",
      "[1 3 5 7]\n"
     ]
    }
   ],
   "source": [
    "#   Slicing arrays  {a[start:stop:step] is equivalent to a[slice(start, stop, step)]}\n",
    "arr = np.array([1, 2, 3, 4, 5, 6, 7]) #Slice elements from index 4 to the end of the array\n",
    "print(arr[4:])\n",
    "\n",
    "arr = np.array([1, 2, 3, 4, 5, 6, 7]) #Return every other element from index 1 to index 5\n",
    "print(arr[::2])"
   ]
  },
  {
   "cell_type": "code",
   "execution_count": 23,
   "metadata": {},
   "outputs": [
    {
     "name": "stdout",
     "output_type": "stream",
     "text": [
      "[7 8 9]\n",
      "[3 8]\n",
      "[[2 3 4]\n",
      " [7 8 9]]\n"
     ]
    }
   ],
   "source": [
    "arr = np.array([[1, 2, 3, 4, 5], [6, 7, 8, 9, 10]]) #From the second element, slice elements from index 1 to index 4 (not included)\n",
    "print(arr[1, 1:4])\n",
    "\n",
    "arr = np.array([[1, 2, 3, 4, 5], [6, 7, 8, 9, 10]]) #From both elements, return index 2\n",
    "print(arr[0:2, 2])\n",
    "\n",
    "arr = np.array([[1, 2, 3, 4, 5], [6, 7, 8, 9, 10], [11, 12, 13, 14, 15]]) #From the first and second, slice index 1 to index 4 (not included), this will return a 2-D array\n",
    "print(arr[0:2, 1:4])"
   ]
  },
  {
   "cell_type": "code",
   "execution_count": 28,
   "metadata": {},
   "outputs": [
    {
     "name": "stdout",
     "output_type": "stream",
     "text": [
      "(5,)\n",
      "(2, 3)\n",
      "(2, 2, 3)\n"
     ]
    }
   ],
   "source": [
    "#   Shape of an Array\n",
    "print(arr1D.shape)\n",
    "print(arr2D.shape)\n",
    "print(arr3D.shape)"
   ]
  },
  {
   "cell_type": "code",
   "execution_count": 25,
   "metadata": {},
   "outputs": [
    {
     "name": "stdout",
     "output_type": "stream",
     "text": [
      "[[ 1  2  3]\n",
      " [ 4  5  6]\n",
      " [ 7  8  9]\n",
      " [10 11 12]]\n"
     ]
    }
   ],
   "source": [
    "#   Reshape\n",
    "#Reshape From 1-D to 2-D\n",
    "arr = np.array([1, 2, 3, 4, 5, 6, 7, 8, 9, 10, 11, 12])\n",
    "newarr = arr.reshape(4, 3)\n",
    "print(newarr)"
   ]
  },
  {
   "cell_type": "code",
   "execution_count": 32,
   "metadata": {},
   "outputs": [
    {
     "name": "stdout",
     "output_type": "stream",
     "text": [
      "[[[ 1  2]\n",
      "  [ 3  4]\n",
      "  [ 5  6]]\n",
      "\n",
      " [[ 7  8]\n",
      "  [ 9 10]\n",
      "  [11 12]]]\n"
     ]
    }
   ],
   "source": [
    "#Reshape From 1-D to 3-D\n",
    "arr = np.array([1, 2, 3, 4, 5, 6, 7, 8, 9, 10, 11, 12])\n",
    "newarr = arr.reshape(2, 3, 2)\n",
    "print(newarr)"
   ]
  },
  {
   "cell_type": "code",
   "execution_count": 30,
   "metadata": {},
   "outputs": [
    {
     "name": "stdout",
     "output_type": "stream",
     "text": [
      "[[[1 2]\n",
      "  [3 4]]\n",
      "\n",
      " [[5 6]\n",
      "  [7 8]]]\n",
      "(2, 2, 2)\n"
     ]
    }
   ],
   "source": [
    "#Unknown Dimension\n",
    "arr = np.array([1, 2, 3, 4, 5, 6, 7, 8])\n",
    "newarr = arr.reshape(2, 2, -1)\n",
    "print(newarr)\n",
    "\n",
    "print(newarr.shape)"
   ]
  },
  {
   "cell_type": "code",
   "execution_count": 31,
   "metadata": {},
   "outputs": [
    {
     "name": "stdout",
     "output_type": "stream",
     "text": [
      "[1 2 3 4 5 6]\n"
     ]
    }
   ],
   "source": [
    "#Flattening the arrays\n",
    "arr = np.array([[1, 2, 3], [4, 5, 6]])\n",
    "newarr = arr.reshape(-1)\n",
    "print(newarr)"
   ]
  },
  {
   "cell_type": "code",
   "execution_count": null,
   "metadata": {},
   "outputs": [],
   "source": []
  }
 ],
 "metadata": {
  "interpreter": {
   "hash": "bfb75dc7d96d332aeaa21ae2d7b833083e393049992869c7fba312a269a18e76"
  },
  "kernelspec": {
   "display_name": "text-mining",
   "language": "python",
   "name": "python3"
  },
  "language_info": {
   "codemirror_mode": {
    "name": "ipython",
    "version": 3
   },
   "file_extension": ".py",
   "mimetype": "text/x-python",
   "name": "python",
   "nbconvert_exporter": "python",
   "pygments_lexer": "ipython3",
   "version": "3.8.10"
  }
 },
 "nbformat": 4,
 "nbformat_minor": 2
}

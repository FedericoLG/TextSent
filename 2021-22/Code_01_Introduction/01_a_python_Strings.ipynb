{
 "cells": [
  {
   "cell_type": "markdown",
   "metadata": {},
   "source": [
    "# Prerequisistes : Data Types"
   ]
  },
  {
   "cell_type": "code",
   "execution_count": 1,
   "metadata": {},
   "outputs": [
    {
     "name": "stdout",
     "output_type": "stream",
     "text": [
      "Hello World!!!\n",
      "20\n",
      "20.5\n",
      "['apple', 'banana', 'cherry']\n",
      "('apple', 'banana', 'cherry')\n",
      "{'name': 'John', 'age': 36}\n",
      "{'cherry', 'apple', 'banana'}\n",
      "20\n",
      "20\n",
      "20.5\n",
      "['apple', 'banana', 'cherry']\n",
      "('apple', 'banana', 'cherry')\n",
      "{'name': 'John', 'age': 36}\n",
      "{'cherry', 'apple', 'banana'}\n",
      "True\n"
     ]
    }
   ],
   "source": [
    "#   Setting the Data Type\n",
    "x = \"Hello World!!!\"\t#str\t\n",
    "print(x)\n",
    "x = 20\t#int\t\n",
    "print(x)\n",
    "x = 20.5\t#float\t\n",
    "print(x)\n",
    "\n",
    "x = [\"apple\", \"banana\", \"cherry\"]\t#list\t\n",
    "print(x)\n",
    "x = (\"apple\", \"banana\", \"cherry\")\t#tuple\t\n",
    "print(x)\n",
    "x = {\"name\" : \"John\", \"age\" : 36}\t#dict\t\n",
    "print(x)\n",
    "x = {\"apple\", \"banana\", \"cherry\"}\t#set\t\n",
    "print(x)\n",
    "\n",
    "#   Setting the Specific Data Type\n",
    "x = str(20)\n",
    "print(x)\n",
    "x = int(\"20\")\n",
    "print(x)\n",
    "x = float(\"20.5\")\n",
    "print(x)\n",
    "\n",
    "x = list((\"apple\", \"banana\", \"cherry\"))\n",
    "print(x)\n",
    "x = tuple((\"apple\", \"banana\", \"cherry\"))\n",
    "print(x)\n",
    "x = dict(name=\"John\", age=36)\n",
    "print(x)\n",
    "x = set((\"apple\", \"banana\", \"cherry\"))\n",
    "print(x)\n",
    "\n",
    "x = bool(5)\n",
    "print(x)"
   ]
  },
  {
   "cell_type": "code",
   "execution_count": 2,
   "metadata": {},
   "outputs": [
    {
     "name": "stdout",
     "output_type": "stream",
     "text": [
      "Hello\n",
      "Hello\n",
      "\n",
      "Yo, check the diagonal\n",
      "Three brothers gone\n",
      "Come on\n",
      "Doesn't that make it three in a row\n",
      "Anger is a gift\n",
      "\n"
     ]
    }
   ],
   "source": [
    "#    Text Type\n",
    "#-------------------------------------------------------\n",
    "#   Strings\n",
    "print(\"Hello\")\n",
    "print('Hello')\n",
    "\n",
    "#   Multiline Strings\n",
    "x = \"\"\"\n",
    "Yo, check the diagonal\n",
    "Three brothers gone\n",
    "Come on\n",
    "Doesn't that make it three in a row\n",
    "Anger is a gift\n",
    "\"\"\"\n",
    "print(x)"
   ]
  },
  {
   "cell_type": "code",
   "execution_count": 3,
   "metadata": {},
   "outputs": [
    {
     "name": "stdout",
     "output_type": "stream",
     "text": [
      "T\n"
     ]
    }
   ],
   "source": [
    "#   Strings are Arrays\n",
    "txt = \"The answer is 42\"\n",
    "print(txt[0])"
   ]
  },
  {
   "cell_type": "code",
   "execution_count": 4,
   "metadata": {},
   "outputs": [
    {
     "name": "stdout",
     "output_type": "stream",
     "text": [
      "T\n",
      "h\n",
      "e\n",
      " \n",
      "a\n",
      "n\n",
      "s\n",
      "w\n",
      "e\n",
      "r\n",
      " \n",
      "i\n",
      "s\n",
      " \n",
      "4\n",
      "2\n"
     ]
    }
   ],
   "source": [
    "#   Looping Through a String\n",
    "for y in txt:\n",
    "  print(y)"
   ]
  },
  {
   "cell_type": "code",
   "execution_count": 5,
   "metadata": {},
   "outputs": [
    {
     "name": "stdout",
     "output_type": "stream",
     "text": [
      "16\n",
      "1\n"
     ]
    }
   ],
   "source": [
    "#   String Length\n",
    "print(len(txt))\n",
    "print(len(y))"
   ]
  },
  {
   "cell_type": "code",
   "execution_count": 6,
   "metadata": {},
   "outputs": [
    {
     "name": "stdout",
     "output_type": "stream",
     "text": [
      "Yes, the answer is 42!!!\n",
      "No, because the answer is 42!!!\n"
     ]
    }
   ],
   "source": [
    "#   Check String & Check if NOT\n",
    "if \"42\" in txt:\n",
    "  print(\"Yes, the answer is 42!!!\")\n",
    "\n",
    "if \"24\" not in txt:\n",
    "  print(\"No, because the answer is 42!!!\")"
   ]
  },
  {
   "cell_type": "markdown",
   "metadata": {},
   "source": [
    "## Using strings"
   ]
  },
  {
   "cell_type": "code",
   "execution_count": 7,
   "metadata": {},
   "outputs": [
    {
     "name": "stdout",
     "output_type": "stream",
     "text": [
      "is is\n"
     ]
    }
   ],
   "source": [
    "#\tSlicing\n",
    "x = \"This is the End!\"\n",
    "print(x[2:7])"
   ]
  },
  {
   "cell_type": "code",
   "execution_count": 8,
   "metadata": {},
   "outputs": [
    {
     "name": "stdout",
     "output_type": "stream",
     "text": [
      "This is\n"
     ]
    }
   ],
   "source": [
    "#\tSlice From the Start\n",
    "print(x[:7])"
   ]
  },
  {
   "cell_type": "code",
   "execution_count": 9,
   "metadata": {},
   "outputs": [
    {
     "name": "stdout",
     "output_type": "stream",
     "text": [
      " the End!\n"
     ]
    }
   ],
   "source": [
    "#\tSlice To the End\n",
    "print(x[7:])"
   ]
  },
  {
   "cell_type": "code",
   "execution_count": 10,
   "metadata": {},
   "outputs": [
    {
     "name": "stdout",
     "output_type": "stream",
     "text": [
      "he En\n",
      "This is the En\n",
      "he End!\n"
     ]
    }
   ],
   "source": [
    "#\tNegative Indexing\n",
    "print(x[-7:-2])\n",
    "print(x[:-2])\n",
    "print(x[-7:])"
   ]
  },
  {
   "cell_type": "code",
   "execution_count": 11,
   "metadata": {},
   "outputs": [
    {
     "name": "stdout",
     "output_type": "stream",
     "text": [
      "THIS IS THE END!\n",
      "this is the end!\n"
     ]
    }
   ],
   "source": [
    "#\tUpper/Lower Case\n",
    "print(x.upper())\n",
    "print(x.lower())"
   ]
  },
  {
   "cell_type": "code",
   "execution_count": 12,
   "metadata": {},
   "outputs": [
    {
     "name": "stdout",
     "output_type": "stream",
     "text": [
      "Whitespace Removed!\n"
     ]
    }
   ],
   "source": [
    "#\tRemove Whitespace\n",
    "y = \"   Whitespace Removed!   \"\n",
    "print(y.strip())"
   ]
  },
  {
   "cell_type": "code",
   "execution_count": 13,
   "metadata": {},
   "outputs": [
    {
     "name": "stdout",
     "output_type": "stream",
     "text": [
      "This is the Start!\n"
     ]
    }
   ],
   "source": [
    "#\tReplace String\n",
    "print(x.replace(\"End\", \"Start\"))"
   ]
  },
  {
   "cell_type": "code",
   "execution_count": 14,
   "metadata": {},
   "outputs": [
    {
     "name": "stdout",
     "output_type": "stream",
     "text": [
      "['This', 'is', 'the', 'End!']\n"
     ]
    }
   ],
   "source": [
    "#\tSplit String\n",
    "print(x.split(\" \"))"
   ]
  },
  {
   "cell_type": "code",
   "execution_count": 15,
   "metadata": {},
   "outputs": [
    {
     "name": "stdout",
     "output_type": "stream",
     "text": [
      "This\n",
      "is\n",
      "the\n",
      "End!\n"
     ]
    }
   ],
   "source": [
    "for w in x.split(\" \"):\n",
    "    print(w)"
   ]
  },
  {
   "cell_type": "code",
   "execution_count": 15,
   "metadata": {},
   "outputs": [
    {
     "name": "stdout",
     "output_type": "stream",
     "text": [
      "StringConcatenation\n",
      "String Concatenation\n"
     ]
    }
   ],
   "source": [
    "#\tString Concatenation\n",
    "a = \"String\"\n",
    "b = \"Conca\"\n",
    "c = \"tenation\"\n",
    "print(a+b+c)\n",
    "print(a+\" \"+b+c)"
   ]
  },
  {
   "cell_type": "code",
   "execution_count": 16,
   "metadata": {},
   "outputs": [
    {
     "name": "stdout",
     "output_type": "stream",
     "text": [
      "Two plus Three is equal to 5\n",
      "Two plus Three is equal to 5\n",
      "2 plus 3 is equal to 5\n",
      "2 plus 3 is equal to 5\n"
     ]
    }
   ],
   "source": [
    "#\tString Format\n",
    "result = 5\n",
    "Answer = \"Two plus Three is equal to \"\n",
    "print(Answer + str(result))\n",
    "\n",
    "Answer = \"Two plus Three is equal to {}\"\n",
    "print(Answer.format(result))\n",
    "\n",
    "Two = 2\n",
    "Three = 3\n",
    "result = Two + Three\n",
    "Answer = \"{0} plus {1} is equal to {2}\"\n",
    "print(Answer.format(Two, Three, result))\n",
    "\n",
    "print(f\"{Two} plus {Three} is equal to {result}\")"
   ]
  },
  {
   "cell_type": "code",
   "execution_count": 16,
   "metadata": {},
   "outputs": [
    {
     "name": "stdout",
     "output_type": "stream",
     "text": [
      "We are studing \"Python\"!!!\n"
     ]
    }
   ],
   "source": [
    "#   Escape Character\n",
    "#txt = \"We are studing \"Python\"!!!\"\n",
    "txt = \"We are studing \\\"Python\\\"!!!\"\n",
    "print(txt)"
   ]
  },
  {
   "cell_type": "code",
   "execution_count": null,
   "metadata": {},
   "outputs": [],
   "source": []
  }
 ],
 "metadata": {
  "interpreter": {
   "hash": "bfb75dc7d96d332aeaa21ae2d7b833083e393049992869c7fba312a269a18e76"
  },
  "kernelspec": {
   "display_name": "text-mining",
   "language": "python",
   "name": "python3"
  },
  "language_info": {
   "codemirror_mode": {
    "name": "ipython",
    "version": 3
   },
   "file_extension": ".py",
   "mimetype": "text/x-python",
   "name": "python",
   "nbconvert_exporter": "python",
   "pygments_lexer": "ipython3",
   "version": "3.8.10"
  }
 },
 "nbformat": 4,
 "nbformat_minor": 2
}

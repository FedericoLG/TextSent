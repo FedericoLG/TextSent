{
 "cells": [
  {
   "cell_type": "markdown",
   "metadata": {},
   "source": [
    "# Vector Space Model"
   ]
  },
  {
   "cell_type": "markdown",
   "metadata": {},
   "source": [
    "$$\n",
    "\n",
    "C = \n",
    "\\left(\\begin{array}{cc} \n",
    "d_1\\\\\n",
    "d_2\\\\\n",
    ".\\\\\n",
    ".\\\\\n",
    "d_m\\\\\n",
    "\\end{array}\\right)\n",
    "=\n",
    "\\left(\\begin{array}{cc} \n",
    "w_{1, 1} & ... & w_{1, n}\\\\\n",
    "w_{2, 1} & ... & w_{2, n}\\\\\n",
    "... & ... & ...\\\\ \n",
    "... & ... & ...\\\\ \n",
    "w_{m, 1} & ... & w_{m, n}\n",
    "\\end{array}\\right)\n",
    "$$"
   ]
  },
  {
   "cell_type": "markdown",
   "metadata": {},
   "source": [
    "#### Similarity (angle)\n",
    "\n",
    "$D_1$ = [green, blue, blue] = <1, 2, 0>\n",
    "\n",
    "$D_2$ = [green, blue, red, red] = <1, 1, 2>\n",
    "\n",
    "$D_1 \\cdot D_2$ = $1 \\cdot 1 + 2 \\cdot 1 + 0 \\cdot 2$ = 3\n",
    "\n",
    "$||D_1|| \\cdot ||D_2||$ = $\\sqrt[]{1^2 + 2^2 + 0^2} \\cdot \\sqrt[]{1^2 + 1^2 + 2^2}$ = $\\sqrt[]{5} \\cdot \\sqrt[]{6}$\n",
    "\n",
    "$\\frac{3}{\\sqrt[]{5} \\cdot \\sqrt[]{6}} \\approx 0.55 $"
   ]
  },
  {
   "cell_type": "markdown",
   "metadata": {},
   "source": [
    "# Scoring"
   ]
  },
  {
   "cell_type": "code",
   "execution_count": 13,
   "metadata": {},
   "outputs": [],
   "source": [
    "documents = [\n",
    "     'He is internationally known for making great music', \n",
    "     'He is globally prominent for making great music',\n",
    "     'They are widely known around the planet',\n",
    "     'They are prominent around the planet',\n",
    "     'You have been proudly acknowledged for your actions',\n",
    "]"
   ]
  },
  {
   "cell_type": "markdown",
   "metadata": {},
   "source": [
    "## Bag of Words (BOW)\n",
    "\n",
    "With Bag of Words (BOW), we refer to a Vector Space Model where:\n",
    "    \n",
    "    > Terms: words (more generally we may use n-grams, etc.)\n",
    "    > Weights: number of occurences of the terms in the document."
   ]
  },
  {
   "cell_type": "code",
   "execution_count": 14,
   "metadata": {},
   "outputs": [
    {
     "data": {
      "text/plain": [
       "<5x23 sparse matrix of type '<class 'numpy.int64'>'\n",
       "\twith 37 stored elements in Compressed Sparse Row format>"
      ]
     },
     "execution_count": 14,
     "metadata": {},
     "output_type": "execute_result"
    }
   ],
   "source": [
    "from sklearn.feature_extraction.text import CountVectorizer\n",
    "count_vect = CountVectorizer()\n",
    "X_train_counts = count_vect.fit_transform(documents)\n",
    "X_train_counts"
   ]
  },
  {
   "cell_type": "code",
   "execution_count": 15,
   "metadata": {},
   "outputs": [
    {
     "data": {
      "text/plain": [
       "array([[0, 0, 0, 0, 0, 1, 0, 1, 0, 1, 1, 1, 1, 1, 1, 0, 0, 0, 0, 0, 0, 0,\n",
       "        0],\n",
       "       [0, 0, 0, 0, 0, 1, 1, 1, 0, 1, 0, 1, 0, 1, 1, 0, 1, 0, 0, 0, 0, 0,\n",
       "        0],\n",
       "       [0, 0, 1, 1, 0, 0, 0, 0, 0, 0, 0, 0, 1, 0, 0, 1, 0, 0, 1, 1, 1, 0,\n",
       "        0],\n",
       "       [0, 0, 1, 1, 0, 0, 0, 0, 0, 0, 0, 0, 0, 0, 0, 1, 1, 0, 1, 1, 0, 0,\n",
       "        0],\n",
       "       [1, 1, 0, 0, 1, 1, 0, 0, 1, 0, 0, 0, 0, 0, 0, 0, 0, 1, 0, 0, 0, 1,\n",
       "        1]], dtype=int64)"
      ]
     },
     "execution_count": 15,
     "metadata": {},
     "output_type": "execute_result"
    }
   ],
   "source": [
    "# Convert to standard matrix\n",
    "X_train_counts.toarray()"
   ]
  },
  {
   "cell_type": "code",
   "execution_count": 16,
   "metadata": {},
   "outputs": [
    {
     "data": {
      "text/plain": [
       "['acknowledged',\n",
       " 'actions',\n",
       " 'are',\n",
       " 'around',\n",
       " 'been',\n",
       " 'for',\n",
       " 'globally',\n",
       " 'great',\n",
       " 'have',\n",
       " 'he',\n",
       " 'internationally',\n",
       " 'is',\n",
       " 'known',\n",
       " 'making',\n",
       " 'music',\n",
       " 'planet',\n",
       " 'prominent',\n",
       " 'proudly',\n",
       " 'the',\n",
       " 'they',\n",
       " 'widely',\n",
       " 'you',\n",
       " 'your']"
      ]
     },
     "execution_count": 16,
     "metadata": {},
     "output_type": "execute_result"
    }
   ],
   "source": [
    "# Print the features (corresponding to the columns of the term-document matrix)\n",
    "count_vect.get_feature_names()"
   ]
  },
  {
   "cell_type": "markdown",
   "metadata": {},
   "source": [
    "## TF_IDF"
   ]
  },
  {
   "cell_type": "code",
   "execution_count": 17,
   "metadata": {},
   "outputs": [
    {
     "data": {
      "text/plain": [
       "array([[0.        , 0.        , 0.        , 0.        , 0.        ,\n",
       "        0.35355339, 0.        , 0.35355339, 0.        , 0.35355339,\n",
       "        0.35355339, 0.35355339, 0.35355339, 0.35355339, 0.35355339,\n",
       "        0.        , 0.        , 0.        , 0.        , 0.        ,\n",
       "        0.        , 0.        , 0.        ],\n",
       "       [0.        , 0.        , 0.        , 0.        , 0.        ,\n",
       "        0.35355339, 0.35355339, 0.35355339, 0.        , 0.35355339,\n",
       "        0.        , 0.35355339, 0.        , 0.35355339, 0.35355339,\n",
       "        0.        , 0.35355339, 0.        , 0.        , 0.        ,\n",
       "        0.        , 0.        , 0.        ],\n",
       "       [0.        , 0.        , 0.37796447, 0.37796447, 0.        ,\n",
       "        0.        , 0.        , 0.        , 0.        , 0.        ,\n",
       "        0.        , 0.        , 0.37796447, 0.        , 0.        ,\n",
       "        0.37796447, 0.        , 0.        , 0.37796447, 0.37796447,\n",
       "        0.37796447, 0.        , 0.        ],\n",
       "       [0.        , 0.        , 0.40824829, 0.40824829, 0.        ,\n",
       "        0.        , 0.        , 0.        , 0.        , 0.        ,\n",
       "        0.        , 0.        , 0.        , 0.        , 0.        ,\n",
       "        0.40824829, 0.40824829, 0.        , 0.40824829, 0.40824829,\n",
       "        0.        , 0.        , 0.        ],\n",
       "       [0.35355339, 0.35355339, 0.        , 0.        , 0.35355339,\n",
       "        0.35355339, 0.        , 0.        , 0.35355339, 0.        ,\n",
       "        0.        , 0.        , 0.        , 0.        , 0.        ,\n",
       "        0.        , 0.        , 0.35355339, 0.        , 0.        ,\n",
       "        0.        , 0.35355339, 0.35355339]])"
      ]
     },
     "execution_count": 17,
     "metadata": {},
     "output_type": "execute_result"
    }
   ],
   "source": [
    "#   only tf\n",
    "\n",
    "from sklearn.feature_extraction.text import TfidfVectorizer \n",
    "\n",
    "#  we firstly use the fit(..) method to fit our estimator to the data\n",
    "tf_vectorizer = TfidfVectorizer(use_idf=False).fit(documents)\n",
    "#  the transform(..) method to transform our count-matrix to a tf-idf representation.\n",
    "X_tf = tf_vectorizer.transform(documents)\n",
    "# Convert to standard matrix\n",
    "X_tf.toarray()"
   ]
  },
  {
   "cell_type": "code",
   "execution_count": 18,
   "metadata": {},
   "outputs": [
    {
     "data": {
      "text/plain": [
       "array([[0.        , 0.        , 0.        , 0.        , 0.        ,\n",
       "        0.28943314, 0.        , 0.34867668, 0.        , 0.34867668,\n",
       "        0.43217576, 0.34867668, 0.34867668, 0.34867668, 0.34867668,\n",
       "        0.        , 0.        , 0.        , 0.        , 0.        ,\n",
       "        0.        , 0.        , 0.        ],\n",
       "       [0.        , 0.        , 0.        , 0.        , 0.        ,\n",
       "        0.28943314, 0.43217576, 0.34867668, 0.        , 0.34867668,\n",
       "        0.        , 0.34867668, 0.        , 0.34867668, 0.34867668,\n",
       "        0.        , 0.34867668, 0.        , 0.        , 0.        ,\n",
       "        0.        , 0.        , 0.        ],\n",
       "       [0.        , 0.        , 0.364268  , 0.364268  , 0.        ,\n",
       "        0.        , 0.        , 0.        , 0.        , 0.        ,\n",
       "        0.        , 0.        , 0.364268  , 0.        , 0.        ,\n",
       "        0.364268  , 0.        , 0.        , 0.364268  , 0.364268  ,\n",
       "        0.45150079, 0.        , 0.        ],\n",
       "       [0.        , 0.        , 0.40824829, 0.40824829, 0.        ,\n",
       "        0.        , 0.        , 0.        , 0.        , 0.        ,\n",
       "        0.        , 0.        , 0.        , 0.        , 0.        ,\n",
       "        0.40824829, 0.40824829, 0.        , 0.40824829, 0.40824829,\n",
       "        0.        , 0.        , 0.        ],\n",
       "       [0.3664082 , 0.3664082 , 0.        , 0.        , 0.3664082 ,\n",
       "        0.24538784, 0.        , 0.        , 0.3664082 , 0.        ,\n",
       "        0.        , 0.        , 0.        , 0.        , 0.        ,\n",
       "        0.        , 0.        , 0.3664082 , 0.        , 0.        ,\n",
       "        0.        , 0.3664082 , 0.3664082 ]])"
      ]
     },
     "execution_count": 18,
     "metadata": {},
     "output_type": "execute_result"
    }
   ],
   "source": [
    "#   tf–idf\n",
    "tfidf_vectorizer = TfidfVectorizer()\n",
    "X_tfidf = tfidf_vectorizer.fit_transform(documents)\n",
    "# Convert to standard matrix\n",
    "X_tfidf.toarray()"
   ]
  },
  {
   "cell_type": "code",
   "execution_count": 19,
   "metadata": {},
   "outputs": [
    {
     "data": {
      "text/html": [
       "<div>\n",
       "<style scoped>\n",
       "    .dataframe tbody tr th:only-of-type {\n",
       "        vertical-align: middle;\n",
       "    }\n",
       "\n",
       "    .dataframe tbody tr th {\n",
       "        vertical-align: top;\n",
       "    }\n",
       "\n",
       "    .dataframe thead th {\n",
       "        text-align: right;\n",
       "    }\n",
       "</style>\n",
       "<table border=\"1\" class=\"dataframe\">\n",
       "  <thead>\n",
       "    <tr style=\"text-align: right;\">\n",
       "      <th></th>\n",
       "      <th>idf_weights</th>\n",
       "    </tr>\n",
       "  </thead>\n",
       "  <tbody>\n",
       "    <tr>\n",
       "      <th>for</th>\n",
       "      <td>1.405465</td>\n",
       "    </tr>\n",
       "    <tr>\n",
       "      <th>is</th>\n",
       "      <td>1.693147</td>\n",
       "    </tr>\n",
       "    <tr>\n",
       "      <th>are</th>\n",
       "      <td>1.693147</td>\n",
       "    </tr>\n",
       "    <tr>\n",
       "      <th>around</th>\n",
       "      <td>1.693147</td>\n",
       "    </tr>\n",
       "    <tr>\n",
       "      <th>they</th>\n",
       "      <td>1.693147</td>\n",
       "    </tr>\n",
       "    <tr>\n",
       "      <th>the</th>\n",
       "      <td>1.693147</td>\n",
       "    </tr>\n",
       "    <tr>\n",
       "      <th>great</th>\n",
       "      <td>1.693147</td>\n",
       "    </tr>\n",
       "    <tr>\n",
       "      <th>he</th>\n",
       "      <td>1.693147</td>\n",
       "    </tr>\n",
       "    <tr>\n",
       "      <th>prominent</th>\n",
       "      <td>1.693147</td>\n",
       "    </tr>\n",
       "    <tr>\n",
       "      <th>planet</th>\n",
       "      <td>1.693147</td>\n",
       "    </tr>\n",
       "    <tr>\n",
       "      <th>known</th>\n",
       "      <td>1.693147</td>\n",
       "    </tr>\n",
       "    <tr>\n",
       "      <th>making</th>\n",
       "      <td>1.693147</td>\n",
       "    </tr>\n",
       "    <tr>\n",
       "      <th>music</th>\n",
       "      <td>1.693147</td>\n",
       "    </tr>\n",
       "    <tr>\n",
       "      <th>widely</th>\n",
       "      <td>2.098612</td>\n",
       "    </tr>\n",
       "    <tr>\n",
       "      <th>proudly</th>\n",
       "      <td>2.098612</td>\n",
       "    </tr>\n",
       "    <tr>\n",
       "      <th>acknowledged</th>\n",
       "      <td>2.098612</td>\n",
       "    </tr>\n",
       "    <tr>\n",
       "      <th>internationally</th>\n",
       "      <td>2.098612</td>\n",
       "    </tr>\n",
       "    <tr>\n",
       "      <th>have</th>\n",
       "      <td>2.098612</td>\n",
       "    </tr>\n",
       "    <tr>\n",
       "      <th>globally</th>\n",
       "      <td>2.098612</td>\n",
       "    </tr>\n",
       "    <tr>\n",
       "      <th>been</th>\n",
       "      <td>2.098612</td>\n",
       "    </tr>\n",
       "    <tr>\n",
       "      <th>actions</th>\n",
       "      <td>2.098612</td>\n",
       "    </tr>\n",
       "    <tr>\n",
       "      <th>you</th>\n",
       "      <td>2.098612</td>\n",
       "    </tr>\n",
       "    <tr>\n",
       "      <th>your</th>\n",
       "      <td>2.098612</td>\n",
       "    </tr>\n",
       "  </tbody>\n",
       "</table>\n",
       "</div>"
      ],
      "text/plain": [
       "                 idf_weights\n",
       "for                 1.405465\n",
       "is                  1.693147\n",
       "are                 1.693147\n",
       "around              1.693147\n",
       "they                1.693147\n",
       "the                 1.693147\n",
       "great               1.693147\n",
       "he                  1.693147\n",
       "prominent           1.693147\n",
       "planet              1.693147\n",
       "known               1.693147\n",
       "making              1.693147\n",
       "music               1.693147\n",
       "widely              2.098612\n",
       "proudly             2.098612\n",
       "acknowledged        2.098612\n",
       "internationally     2.098612\n",
       "have                2.098612\n",
       "globally            2.098612\n",
       "been                2.098612\n",
       "actions             2.098612\n",
       "you                 2.098612\n",
       "your                2.098612"
      ]
     },
     "execution_count": 19,
     "metadata": {},
     "output_type": "execute_result"
    }
   ],
   "source": [
    "import pandas as pd\n",
    "\n",
    "# print idf values \n",
    "df_idf = pd.DataFrame(tfidf_vectorizer.idf_\n",
    "                        , index=count_vect.get_feature_names()\n",
    "                        , columns=[\"idf_weights\"])\n",
    "\n",
    "# sort ascending \n",
    "df_idf.sort_values(by=['idf_weights'])"
   ]
  },
  {
   "cell_type": "code",
   "execution_count": 20,
   "metadata": {},
   "outputs": [
    {
     "data": {
      "text/html": [
       "<div>\n",
       "<style scoped>\n",
       "    .dataframe tbody tr th:only-of-type {\n",
       "        vertical-align: middle;\n",
       "    }\n",
       "\n",
       "    .dataframe tbody tr th {\n",
       "        vertical-align: top;\n",
       "    }\n",
       "\n",
       "    .dataframe thead th {\n",
       "        text-align: right;\n",
       "    }\n",
       "</style>\n",
       "<table border=\"1\" class=\"dataframe\">\n",
       "  <thead>\n",
       "    <tr style=\"text-align: right;\">\n",
       "      <th></th>\n",
       "      <th>tfidf</th>\n",
       "    </tr>\n",
       "  </thead>\n",
       "  <tbody>\n",
       "    <tr>\n",
       "      <th>internationally</th>\n",
       "      <td>0.432176</td>\n",
       "    </tr>\n",
       "    <tr>\n",
       "      <th>is</th>\n",
       "      <td>0.348677</td>\n",
       "    </tr>\n",
       "    <tr>\n",
       "      <th>great</th>\n",
       "      <td>0.348677</td>\n",
       "    </tr>\n",
       "    <tr>\n",
       "      <th>he</th>\n",
       "      <td>0.348677</td>\n",
       "    </tr>\n",
       "    <tr>\n",
       "      <th>known</th>\n",
       "      <td>0.348677</td>\n",
       "    </tr>\n",
       "    <tr>\n",
       "      <th>making</th>\n",
       "      <td>0.348677</td>\n",
       "    </tr>\n",
       "    <tr>\n",
       "      <th>music</th>\n",
       "      <td>0.348677</td>\n",
       "    </tr>\n",
       "    <tr>\n",
       "      <th>for</th>\n",
       "      <td>0.289433</td>\n",
       "    </tr>\n",
       "    <tr>\n",
       "      <th>planet</th>\n",
       "      <td>0.000000</td>\n",
       "    </tr>\n",
       "    <tr>\n",
       "      <th>you</th>\n",
       "      <td>0.000000</td>\n",
       "    </tr>\n",
       "    <tr>\n",
       "      <th>widely</th>\n",
       "      <td>0.000000</td>\n",
       "    </tr>\n",
       "    <tr>\n",
       "      <th>they</th>\n",
       "      <td>0.000000</td>\n",
       "    </tr>\n",
       "    <tr>\n",
       "      <th>the</th>\n",
       "      <td>0.000000</td>\n",
       "    </tr>\n",
       "    <tr>\n",
       "      <th>proudly</th>\n",
       "      <td>0.000000</td>\n",
       "    </tr>\n",
       "    <tr>\n",
       "      <th>prominent</th>\n",
       "      <td>0.000000</td>\n",
       "    </tr>\n",
       "    <tr>\n",
       "      <th>acknowledged</th>\n",
       "      <td>0.000000</td>\n",
       "    </tr>\n",
       "    <tr>\n",
       "      <th>actions</th>\n",
       "      <td>0.000000</td>\n",
       "    </tr>\n",
       "    <tr>\n",
       "      <th>have</th>\n",
       "      <td>0.000000</td>\n",
       "    </tr>\n",
       "    <tr>\n",
       "      <th>globally</th>\n",
       "      <td>0.000000</td>\n",
       "    </tr>\n",
       "    <tr>\n",
       "      <th>been</th>\n",
       "      <td>0.000000</td>\n",
       "    </tr>\n",
       "    <tr>\n",
       "      <th>around</th>\n",
       "      <td>0.000000</td>\n",
       "    </tr>\n",
       "    <tr>\n",
       "      <th>are</th>\n",
       "      <td>0.000000</td>\n",
       "    </tr>\n",
       "    <tr>\n",
       "      <th>your</th>\n",
       "      <td>0.000000</td>\n",
       "    </tr>\n",
       "  </tbody>\n",
       "</table>\n",
       "</div>"
      ],
      "text/plain": [
       "                    tfidf\n",
       "internationally  0.432176\n",
       "is               0.348677\n",
       "great            0.348677\n",
       "he               0.348677\n",
       "known            0.348677\n",
       "making           0.348677\n",
       "music            0.348677\n",
       "for              0.289433\n",
       "planet           0.000000\n",
       "you              0.000000\n",
       "widely           0.000000\n",
       "they             0.000000\n",
       "the              0.000000\n",
       "proudly          0.000000\n",
       "prominent        0.000000\n",
       "acknowledged     0.000000\n",
       "actions          0.000000\n",
       "have             0.000000\n",
       "globally         0.000000\n",
       "been             0.000000\n",
       "around           0.000000\n",
       "are              0.000000\n",
       "your             0.000000"
      ]
     },
     "execution_count": 20,
     "metadata": {},
     "output_type": "execute_result"
    }
   ],
   "source": [
    "# get the first vector out (for the first document) \n",
    "first_vector_tfidf=X_tfidf[0] \n",
    " \n",
    "# place tf-idf values in a pandas data frame \n",
    "df = pd.DataFrame(first_vector_tfidf.T.todense()\n",
    "                    , index=tfidf_vectorizer.get_feature_names()\n",
    "                    , columns=[\"tfidf\"]) \n",
    "\n",
    "df.sort_values(by=[\"tfidf\"], ascending=False)"
   ]
  },
  {
   "cell_type": "markdown",
   "metadata": {},
   "source": [
    "## Standardization"
   ]
  },
  {
   "cell_type": "code",
   "execution_count": 22,
   "metadata": {},
   "outputs": [
    {
     "data": {
      "text/plain": [
       "array([[-0.5       , -0.5       , -0.81430014, -0.81430014, -0.5       ,\n",
       "         0.91903605, -0.5       ,  1.22474487, -0.5       ,  1.22474487,\n",
       "         2.        ,  1.22474487,  1.17963513,  1.22474487,  1.22474487,\n",
       "        -0.81430014, -0.81231443, -0.5       , -0.81430014, -0.81430014,\n",
       "        -0.5       , -0.5       , -0.5       ],\n",
       "       [-0.5       , -0.5       , -0.81430014, -0.81430014, -0.5       ,\n",
       "         0.91903605,  2.        ,  1.22474487, -0.5       ,  1.22474487,\n",
       "        -0.5       ,  1.22474487, -0.81617137,  1.22474487,  1.22474487,\n",
       "        -0.81430014,  1.05864446, -0.5       , -0.81430014, -0.81430014,\n",
       "        -0.5       , -0.5       , -0.5       ],\n",
       "       [-0.5       , -0.5       ,  1.10555246,  1.10555246, -0.5       ,\n",
       "        -1.21609435, -0.5       , -0.81649658, -0.5       , -0.81649658,\n",
       "        -0.5       , -0.81649658,  1.26887897, -0.81649658, -0.81649658,\n",
       "         1.10555246, -0.81231443, -0.5       ,  1.10555246,  1.10555246,\n",
       "         2.        , -0.5       , -0.5       ],\n",
       "       [-0.5       , -0.5       ,  1.33734797,  1.33734797, -0.5       ,\n",
       "        -1.21609435, -0.5       , -0.81649658, -0.5       , -0.81649658,\n",
       "        -0.5       , -0.81649658, -0.81617137, -0.81649658, -0.81649658,\n",
       "         1.33734797,  1.37829884, -0.5       ,  1.33734797,  1.33734797,\n",
       "        -0.5       , -0.5       , -0.5       ],\n",
       "       [ 2.        ,  2.        , -0.81430014, -0.81430014,  2.        ,\n",
       "         0.59411661, -0.5       , -0.81649658,  2.        , -0.81649658,\n",
       "        -0.5       , -0.81649658, -0.81617137, -0.81649658, -0.81649658,\n",
       "        -0.81430014, -0.81231443,  2.        , -0.81430014, -0.81430014,\n",
       "        -0.5       ,  2.        ,  2.        ]])"
      ]
     },
     "execution_count": 22,
     "metadata": {},
     "output_type": "execute_result"
    }
   ],
   "source": [
    "from sklearn.preprocessing import StandardScaler\n",
    "\n",
    "# Standardization of datasets is a common requirement for many machine learning estimators implemented in scikit-learn; they might behave badly if the individual features do not more or less look like standard normally distributed data: Gaussian with zero mean and unit variance.\n",
    "\n",
    "scaler = StandardScaler()\n",
    "stand_X_tfidf = scaler.fit_transform(X_tfidf.toarray())\n",
    "stand_X_tfidf"
   ]
  },
  {
   "cell_type": "markdown",
   "metadata": {},
   "source": [
    "## Choosing the number of components\n",
    "A vital part of using PCA in practice is the ability to estimate how many components are needed to describe the data. This can be determined by looking at the cumulative explained variance ratio as a function of the number of components:"
   ]
  },
  {
   "cell_type": "code",
   "execution_count": 23,
   "metadata": {},
   "outputs": [
    {
     "name": "stdout",
     "output_type": "stream",
     "text": [
      "number of components: [1, 2, 3, 4, 5]\n",
      "cumulative explained variance: [0.4433905  0.84504464 0.95965065 1.         1.        ]\n"
     ]
    },
    {
     "data": {
      "image/png": "[encoded data removed]",
      "text/plain": [
       "<Figure size 432x288 with 1 Axes>"
      ]
     },
     "metadata": {
      "needs_background": "light"
     },
     "output_type": "display_data"
    }
   ],
   "source": [
    "import numpy as np\n",
    "from sklearn.decomposition import PCA\n",
    "import matplotlib.pyplot as plt\n",
    "\n",
    "pca = PCA().fit(stand_X_tfidf)\n",
    "nc  = list(range(1,1+len(pca.explained_variance_ratio_)))\n",
    "ev  = np.cumsum(pca.explained_variance_ratio_)\n",
    "\n",
    "print(f'number of components: {nc}')\n",
    "print(f'cumulative explained variance: {ev}')\n",
    "\n",
    "plt.plot(nc, ev)\n",
    "plt.xlabel('number of components')\n",
    "plt.ylabel('cumulative explained variance')\n",
    "plt.show()"
   ]
  },
  {
   "cell_type": "markdown",
   "metadata": {},
   "source": [
    "This curve quantifies how much of the total variance is contained within the first N components. For example, we see that the first 2 components contain approximately 85% of the variance, while we need 4 components to describe 100% of the variance. __Looking at this plot for a high-dimensional dataset can help you understand the level of redundancy present in multiple observations.__"
   ]
  },
  {
   "cell_type": "code",
   "execution_count": 24,
   "metadata": {},
   "outputs": [
    {
     "data": {
      "text/html": [
       "<div>\n",
       "<style scoped>\n",
       "    .dataframe tbody tr th:only-of-type {\n",
       "        vertical-align: middle;\n",
       "    }\n",
       "\n",
       "    .dataframe tbody tr th {\n",
       "        vertical-align: top;\n",
       "    }\n",
       "\n",
       "    .dataframe thead th {\n",
       "        text-align: right;\n",
       "    }\n",
       "</style>\n",
       "<table border=\"1\" class=\"dataframe\">\n",
       "  <thead>\n",
       "    <tr style=\"text-align: right;\">\n",
       "      <th></th>\n",
       "      <th>pc1</th>\n",
       "      <th>pc2</th>\n",
       "    </tr>\n",
       "  </thead>\n",
       "  <tbody>\n",
       "    <tr>\n",
       "      <th>0</th>\n",
       "      <td>-3.232832</td>\n",
       "      <td>-2.127795</td>\n",
       "    </tr>\n",
       "    <tr>\n",
       "      <th>1</th>\n",
       "      <td>-3.209608</td>\n",
       "      <td>-2.094494</td>\n",
       "    </tr>\n",
       "    <tr>\n",
       "      <th>2</th>\n",
       "      <td>3.844764</td>\n",
       "      <td>-0.893644</td>\n",
       "    </tr>\n",
       "    <tr>\n",
       "      <th>3</th>\n",
       "      <td>3.756576</td>\n",
       "      <td>-0.861890</td>\n",
       "    </tr>\n",
       "    <tr>\n",
       "      <th>4</th>\n",
       "      <td>-1.158901</td>\n",
       "      <td>5.977822</td>\n",
       "    </tr>\n",
       "  </tbody>\n",
       "</table>\n",
       "</div>"
      ],
      "text/plain": [
       "        pc1       pc2\n",
       "0 -3.232832 -2.127795\n",
       "1 -3.209608 -2.094494\n",
       "2  3.844764 -0.893644\n",
       "3  3.756576 -0.861890\n",
       "4 -1.158901  5.977822"
      ]
     },
     "execution_count": 24,
     "metadata": {},
     "output_type": "execute_result"
    }
   ],
   "source": [
    "import pandas as pd\n",
    "\n",
    "# Keep only the first 2 components\n",
    "pca = PCA(n_components = 2)\n",
    "\n",
    "# Fit PCA and transform the data in the new coordinates\n",
    "X_pca = pca.fit_transform(stand_X_tfidf)\n",
    "\n",
    "# term-document matrix in the new coordinates\n",
    "X_pca = pd.DataFrame(data = X_pca, columns = ['pc1', 'pc2'])\n",
    "X_pca"
   ]
  },
  {
   "cell_type": "markdown",
   "metadata": {},
   "source": [
    "This is the term-document matrix in the new coordinates. It is much smaller than the original one. We achieved this at the price of losing 15% of information contained in the original dataset. The new coordinates are linear combinations of the original features."
   ]
  },
  {
   "cell_type": "code",
   "execution_count": 25,
   "metadata": {},
   "outputs": [
    {
     "data": {
      "image/png": "[encoded data removed]",
      "text/plain": [
       "<Figure size 432x288 with 1 Axes>"
      ]
     },
     "metadata": {
      "needs_background": "light"
     },
     "output_type": "display_data"
    }
   ],
   "source": [
    "# plot the documents in the new 2-dimesional space\n",
    "X_pca.plot(kind = 'scatter', x = 'pc1', y = 'pc2', color = ['red','blue','green','orange', 'purple'])\n",
    "plt.show()"
   ]
  },
  {
   "cell_type": "markdown",
   "metadata": {},
   "source": [
    "The distance between the first (red), second (blue) document is the same, like the distance between the 3-th (green) and the 4-th (orange); while the 5-th (purple) document is by itself."
   ]
  },
  {
   "cell_type": "markdown",
   "metadata": {},
   "source": [
    "## Remarks!\n",
    "This is just a simple example to illustrate PCA and let visualize the data in a 2-dimensional space. In real applications:\n",
    "- the number of documents should be greater than the number of features\n",
    "- the term-document matrix is huge\n",
    "- there are several thousands of features\n",
    "- several hundreds or thousands of principal components are kept (i.e. the reduced vector space is still high-dimensional and cannot be visualized)"
   ]
  },
  {
   "cell_type": "code",
   "execution_count": null,
   "metadata": {},
   "outputs": [],
   "source": []
  }
 ],
 "metadata": {
  "interpreter": {
   "hash": "bfb75dc7d96d332aeaa21ae2d7b833083e393049992869c7fba312a269a18e76"
  },
  "kernelspec": {
   "display_name": "text-mining",
   "language": "python",
   "name": "python3"
  },
  "language_info": {
   "codemirror_mode": {
    "name": "ipython",
    "version": 3
   },
   "file_extension": ".py",
   "mimetype": "text/x-python",
   "name": "python",
   "nbconvert_exporter": "python",
   "pygments_lexer": "ipython3",
   "version": "3.8.10"
  }
 },
 "nbformat": 4,
 "nbformat_minor": 2
}

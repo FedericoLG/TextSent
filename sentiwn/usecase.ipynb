{
 "cells": [
  {
   "cell_type": "markdown",
   "metadata": {},
   "source": [
    "# Explore usage of Sentiwordnet and potential drawbacks\n",
    "Based on the data available [here](https://www.kaggle.com/marklvl/sentiment-labelled-sentences-data-set)"
   ]
  },
  {
   "cell_type": "code",
   "execution_count": 1,
   "metadata": {},
   "outputs": [],
   "source": [
    "import numpy as np\n",
    "import pandas as pd\n",
    "from tqdm.notebook import tqdm"
   ]
  },
  {
   "cell_type": "code",
   "execution_count": 2,
   "metadata": {},
   "outputs": [],
   "source": [
    "from nltk.corpus import wordnet as wn\n",
    "from nltk.corpus import sentiwordnet as swn"
   ]
  },
  {
   "cell_type": "code",
   "execution_count": 3,
   "metadata": {},
   "outputs": [],
   "source": [
    "from IPython.display import display"
   ]
  },
  {
   "cell_type": "code",
   "execution_count": 7,
   "metadata": {},
   "outputs": [],
   "source": [
    "with open('../data/imdb_labelled.txt', 'r') as infile:\n",
    "    lines = infile.readlines()"
   ]
  },
  {
   "cell_type": "code",
   "execution_count": 8,
   "metadata": {},
   "outputs": [],
   "source": [
    "data = [(x[0].rstrip(), int(x[1].rstrip())) for x in [k.split('\\t') for k in lines]]"
   ]
  },
  {
   "cell_type": "code",
   "execution_count": 9,
   "metadata": {},
   "outputs": [
    {
     "data": {
      "text/plain": [
       "('A very, very, very slow-moving, aimless movie about a distressed, drifting young man.',\n",
       " 0)"
      ]
     },
     "execution_count": 9,
     "metadata": {},
     "output_type": "execute_result"
    }
   ],
   "source": [
    "data[0]"
   ]
  },
  {
   "cell_type": "code",
   "execution_count": 10,
   "metadata": {},
   "outputs": [
    {
     "name": "stdout",
     "output_type": "stream",
     "text": [
      "{0, 1}\n"
     ]
    }
   ],
   "source": [
    "print(set([y for x, y in data]))"
   ]
  },
  {
   "cell_type": "markdown",
   "metadata": {},
   "source": [
    "## Tokenize"
   ]
  },
  {
   "cell_type": "code",
   "execution_count": 12,
   "metadata": {},
   "outputs": [],
   "source": [
    "import spacy"
   ]
  },
  {
   "cell_type": "code",
   "execution_count": 13,
   "metadata": {},
   "outputs": [],
   "source": [
    "nlp = spacy.load(\"en_core_web_lg\")"
   ]
  },
  {
   "cell_type": "code",
   "execution_count": 29,
   "metadata": {},
   "outputs": [],
   "source": [
    "tokens = lambda x: [(w.text, w.pos_) for w in nlp(x) if w.pos_ not in [\n",
    "    'PUNCT', 'DET']]"
   ]
  },
  {
   "cell_type": "code",
   "execution_count": 30,
   "metadata": {},
   "outputs": [
    {
     "data": {
      "text/plain": [
       "[('very', 'ADV'),\n",
       " ('very', 'ADV'),\n",
       " ('very', 'ADV'),\n",
       " ('slow', 'ADV'),\n",
       " ('moving', 'VERB'),\n",
       " ('aimless', 'ADJ')]"
      ]
     },
     "execution_count": 30,
     "metadata": {},
     "output_type": "execute_result"
    }
   ],
   "source": [
    "tokens(data[0][0])[:6]"
   ]
  },
  {
   "cell_type": "markdown",
   "metadata": {},
   "source": [
    "## SentiWordnet"
   ]
  },
  {
   "cell_type": "code",
   "execution_count": 31,
   "metadata": {},
   "outputs": [],
   "source": [
    "pos_map = {'NOUN': wn.NOUN, 'ADV': wn.ADV, 'ADJ': wn.ADJ, 'VERB': wn.VERB}"
   ]
  },
  {
   "cell_type": "code",
   "execution_count": 32,
   "metadata": {},
   "outputs": [],
   "source": [
    "def get_pos(pos_token):\n",
    "    try:\n",
    "        return pos_map[pos_token]\n",
    "    except KeyError:\n",
    "        return None"
   ]
  },
  {
   "cell_type": "code",
   "execution_count": 33,
   "metadata": {},
   "outputs": [],
   "source": [
    "def scores(token, pos):\n",
    "    synsets = wn.synsets(token, pos=get_pos(pos))\n",
    "    if len(synsets) == 0:\n",
    "        return np.zeros(1), np.zeros(1), np.zeros(1)\n",
    "    else:\n",
    "        plus, minus, obj = np.zeros(len(synsets)), np.zeros(len(synsets)), np.zeros(len(synsets))\n",
    "        for i, syn in enumerate(synsets):\n",
    "            sw = swn.senti_synset(syn.name())\n",
    "            plus[i] = sw.pos_score()\n",
    "            minus[i] = sw.neg_score()\n",
    "            obj[i] = sw.obj_score()\n",
    "        return plus, minus, obj"
   ]
  },
  {
   "cell_type": "code",
   "execution_count": 34,
   "metadata": {},
   "outputs": [],
   "source": [
    "def mean_strategy(text):\n",
    "    tks = tokens(text)\n",
    "    m = np.zeros((len(tks), 3))\n",
    "    for i, (token, p) in enumerate(tks):\n",
    "        p, n, o = scores(token, p)\n",
    "        m[i] = np.array([p.mean(), n.mean(), o.mean()])\n",
    "    return m"
   ]
  },
  {
   "cell_type": "code",
   "execution_count": 35,
   "metadata": {},
   "outputs": [
    {
     "data": {
      "text/plain": [
       "array([[0.25      , 0.125     , 0.625     ],\n",
       "       [0.25      , 0.125     , 0.625     ],\n",
       "       [0.25      , 0.125     , 0.625     ],\n",
       "       [0.        , 0.        , 1.        ],\n",
       "       [0.046875  , 0.0234375 , 0.9296875 ],\n",
       "       [0.1875    , 0.        , 0.8125    ],\n",
       "       [0.        , 0.        , 1.        ],\n",
       "       [0.0625    , 0.03125   , 0.90625   ],\n",
       "       [0.0625    , 0.78125   , 0.15625   ],\n",
       "       [0.025     , 0.0625    , 0.9125    ],\n",
       "       [0.15      , 0.15      , 0.7       ],\n",
       "       [0.01136364, 0.        , 0.98863636]])"
      ]
     },
     "metadata": {},
     "output_type": "display_data"
    },
    {
     "data": {
      "text/plain": [
       "array([0.10797822, 0.11861979, 0.77340199])"
      ]
     },
     "metadata": {},
     "output_type": "display_data"
    }
   ],
   "source": [
    "display(mean_strategy(data[0][0]))\n",
    "display(mean_strategy(data[0][0]).mean(axis=0))"
   ]
  },
  {
   "cell_type": "markdown",
   "metadata": {},
   "source": [
    "## Explore the dataset"
   ]
  },
  {
   "cell_type": "code",
   "execution_count": 36,
   "metadata": {},
   "outputs": [],
   "source": [
    "sentence_scores = np.array([mean_strategy(x).mean(axis=0) for x, _ in data])"
   ]
  },
  {
   "cell_type": "code",
   "execution_count": 37,
   "metadata": {},
   "outputs": [
    {
     "data": {
      "text/plain": [
       "array([[0.10797822, 0.11861979, 0.77340199],\n",
       "       [0.04490501, 0.09180223, 0.73829276],\n",
       "       [0.05327299, 0.06953248, 0.59148025],\n",
       "       ...,\n",
       "       [0.00576923, 0.15384615, 0.84038462],\n",
       "       [0.00892857, 0.33035714, 0.66071429],\n",
       "       [0.06388889, 0.04401709, 0.58440171]])"
      ]
     },
     "execution_count": 37,
     "metadata": {},
     "output_type": "execute_result"
    }
   ],
   "source": [
    "sentence_scores"
   ]
  },
  {
   "cell_type": "code",
   "execution_count": 38,
   "metadata": {},
   "outputs": [],
   "source": [
    "import matplotlib.pyplot as plt"
   ]
  },
  {
   "cell_type": "code",
   "execution_count": 39,
   "metadata": {},
   "outputs": [
    {
     "data": {
      "image/png": "[encoded data removed]",
      "text/plain": [
       "<Figure size 432x432 with 1 Axes>"
      ]
     },
     "metadata": {
      "needs_background": "light"
     },
     "output_type": "display_data"
    }
   ],
   "source": [
    "fig, ax = plt.subplots(figsize=(6, 6))\n",
    "colors = [y for _, y in data]\n",
    "ax.scatter(sentence_scores[:,0], sentence_scores[:,1], alpha=0.4, c=colors)\n",
    "plt.tight_layout()\n",
    "plt.show()"
   ]
  },
  {
   "cell_type": "markdown",
   "metadata": {},
   "source": [
    "## Check errors and performances\n",
    "- **Exercise**: try with a non-trivial supervised classifier\n",
    "- **Exercise**: try with another non-trivial unsupervised classifier"
   ]
  },
  {
   "cell_type": "code",
   "execution_count": 41,
   "metadata": {},
   "outputs": [],
   "source": [
    "from sklearn.neighbors import KNeighborsClassifier\n",
    "from sklearn.tree import DecisionTreeClassifier"
   ]
  },
  {
   "cell_type": "code",
   "execution_count": 42,
   "metadata": {},
   "outputs": [],
   "source": [
    "from sklearn.model_selection import train_test_split\n",
    "from sklearn.metrics import classification_report, confusion_matrix, ConfusionMatrixDisplay"
   ]
  },
  {
   "cell_type": "code",
   "execution_count": 43,
   "metadata": {},
   "outputs": [],
   "source": [
    "knn = KNeighborsClassifier()\n",
    "dt = DecisionTreeClassifier()"
   ]
  },
  {
   "cell_type": "code",
   "execution_count": 44,
   "metadata": {},
   "outputs": [],
   "source": [
    "def dummy_classifier(X):\n",
    "    return np.array([x[0] > x[1] for x in X]).astype(int)"
   ]
  },
  {
   "cell_type": "code",
   "execution_count": 45,
   "metadata": {},
   "outputs": [],
   "source": [
    "y = np.array([j for _, j in data])\n",
    "X_train, X_test, y_train, y_test = train_test_split(sentence_scores, y, test_size=0.33, random_state=42)"
   ]
  },
  {
   "cell_type": "code",
   "execution_count": 46,
   "metadata": {},
   "outputs": [
    {
     "data": {
      "text/plain": [
       "DecisionTreeClassifier()"
      ]
     },
     "execution_count": 46,
     "metadata": {},
     "output_type": "execute_result"
    }
   ],
   "source": [
    "knn.fit(X_train, y_train)\n",
    "dt.fit(X_train, y_train)"
   ]
  },
  {
   "cell_type": "code",
   "execution_count": 47,
   "metadata": {},
   "outputs": [],
   "source": [
    "y_pred = dummy_classifier(X_test)\n",
    "y_pred_knn = knn.predict(X_test)\n",
    "y_pred_dt = dt.predict(X_test)"
   ]
  },
  {
   "cell_type": "code",
   "execution_count": 48,
   "metadata": {},
   "outputs": [
    {
     "name": "stdout",
     "output_type": "stream",
     "text": [
      "              precision    recall  f1-score   support\n",
      "\n",
      "           0       0.76      0.62      0.68       155\n",
      "           1       0.71      0.82      0.76       175\n",
      "\n",
      "    accuracy                           0.73       330\n",
      "   macro avg       0.73      0.72      0.72       330\n",
      "weighted avg       0.73      0.73      0.72       330\n",
      "\n"
     ]
    }
   ],
   "source": [
    "print(classification_report(y_test, y_pred))"
   ]
  },
  {
   "cell_type": "code",
   "execution_count": 49,
   "metadata": {},
   "outputs": [
    {
     "name": "stdout",
     "output_type": "stream",
     "text": [
      "              precision    recall  f1-score   support\n",
      "\n",
      "           0       0.62      0.63      0.63       155\n",
      "           1       0.67      0.66      0.67       175\n",
      "\n",
      "    accuracy                           0.65       330\n",
      "   macro avg       0.65      0.65      0.65       330\n",
      "weighted avg       0.65      0.65      0.65       330\n",
      "\n"
     ]
    }
   ],
   "source": [
    "print(classification_report(y_test, y_pred_knn))"
   ]
  },
  {
   "cell_type": "code",
   "execution_count": 50,
   "metadata": {},
   "outputs": [
    {
     "name": "stdout",
     "output_type": "stream",
     "text": [
      "              precision    recall  f1-score   support\n",
      "\n",
      "           0       0.62      0.66      0.64       155\n",
      "           1       0.68      0.64      0.66       175\n",
      "\n",
      "    accuracy                           0.65       330\n",
      "   macro avg       0.65      0.65      0.65       330\n",
      "weighted avg       0.65      0.65      0.65       330\n",
      "\n"
     ]
    }
   ],
   "source": [
    "print(classification_report(y_test, y_pred_dt))"
   ]
  },
  {
   "cell_type": "code",
   "execution_count": 51,
   "metadata": {},
   "outputs": [],
   "source": [
    "cm = confusion_matrix(y_test, y_pred_knn, labels=[0, 1])\n",
    "cmd = ConfusionMatrixDisplay(cm)"
   ]
  },
  {
   "cell_type": "code",
   "execution_count": 52,
   "metadata": {},
   "outputs": [
    {
     "data": {
      "image/png": "[encoded data removed]",
      "text/plain": [
       "<Figure size 432x432 with 1 Axes>"
      ]
     },
     "metadata": {
      "needs_background": "light"
     },
     "output_type": "display_data"
    }
   ],
   "source": [
    "fig, ax = plt.subplots(figsize=(6, 6))\n",
    "cmd.plot(ax=ax, cmap='Blues', colorbar=False)\n",
    "plt.tight_layout()\n",
    "plt.show()"
   ]
  },
  {
   "cell_type": "markdown",
   "metadata": {},
   "source": [
    "### False positive vs False negative"
   ]
  },
  {
   "cell_type": "code",
   "execution_count": 53,
   "metadata": {},
   "outputs": [],
   "source": [
    "all_sentences = dummy_classifier(sentence_scores)"
   ]
  },
  {
   "cell_type": "code",
   "execution_count": 54,
   "metadata": {},
   "outputs": [],
   "source": [
    "fp = [i for i, v in enumerate(all_sentences) if v == 1 and y[i] == 0]\n",
    "fn = [i for i, v in enumerate(all_sentences) if v == 0 and y[i] == 1]"
   ]
  },
  {
   "cell_type": "code",
   "execution_count": 55,
   "metadata": {},
   "outputs": [
    {
     "name": "stdout",
     "output_type": "stream",
     "text": [
      "177 100\n"
     ]
    }
   ],
   "source": [
    "print(len(fp), len(fn))"
   ]
  },
  {
   "cell_type": "code",
   "execution_count": 56,
   "metadata": {},
   "outputs": [
    {
     "name": "stdout",
     "output_type": "stream",
     "text": [
      "Very little music or anything to speak of.\n",
      "[0.05703125 0.04492188 0.52304688] \n",
      "\n",
      "The rest of the movie lacks art, charm, meaning... If it's about emptiness, it works I guess because it's empty.\n",
      "[0.05408399 0.01989914 0.67601687] \n",
      "\n",
      "Graphics is far from the best part of the game.\n",
      "[0.08837603 0.00876501 0.65285896] \n",
      "\n",
      "Today the graphics are crap.\n",
      "[0.02232143 0.00446429 0.72321429] \n",
      "\n",
      "This was a flick doomed from its conception.\n",
      "[0.02008929 0.00297619 0.81026786] \n",
      "\n",
      "The very idea of it was lame - take a minor character from a mediocre PG-13 film, and make a complete non-sequel while changing its tone to a PG-rated family movie.\n",
      "[0.06935765 0.06400099 0.58092707] \n",
      "\n",
      "I wasn't the least bit interested.\n",
      "[0.05654762 0.0275974  0.74918831] \n",
      "\n",
      "But even the talented Carrell can't save this.\n",
      "[0.09577922 0.02922078 0.73214286] \n",
      "\n",
      "The story itself is just predictable and lazy.\n",
      "[0.01900183 0.01167582 0.68360806] \n",
      "\n",
      "But whatever it was that cost them so much, it didn't translate to quality, that's for sure.\n",
      "[0.05062607 0.02422035 0.61265358] \n",
      "\n"
     ]
    }
   ],
   "source": [
    "for s in fp[:10]:\n",
    "    print(data[s][0])\n",
    "    print(sentence_scores[s], '\\n')"
   ]
  },
  {
   "cell_type": "code",
   "execution_count": 31,
   "metadata": {},
   "outputs": [
    {
     "name": "stdout",
     "output_type": "stream",
     "text": [
      "This review is long overdue, since I consider A Tale of Two Sisters to be the single greatest film ever made.\n",
      "[0.04104811 0.04390426 0.74838096] \n",
      "\n",
      "I'll put this gem up against any movie in terms of screenplay, cinematography, acting, post-production, editing, directing, or any other aspect of film-making.\n",
      "[0.01602914 0.01739211 0.75824541] \n",
      "\n",
      "In other words, the content level of this film is enough to easily fill a dozen other films.\n",
      "[0.04646011 0.05169872 0.76850783] \n",
      "\n",
      "It is an insane game.\n",
      "[0.05976836 0.10992133 0.83031031] \n",
      "\n",
      "Waste your money on this game.\n",
      "[0.03380682 0.03636364 0.92982955] \n",
      "\n",
      "As they say in Canada, This is the fun game, aye.\n",
      "[0.0083819  0.01135392 0.64693085] \n",
      "\n",
      "This game rocks.\n",
      "[0.01136364 0.02272727 0.96590909] \n",
      "\n",
      "The film succeeds despite, or perhaps because of, an obviously meagre budget.\n",
      "[0.05625 0.10625 0.6375 ] \n",
      "\n",
      "It's hard not to fall head-over-heels in love with that girl.\n",
      "[0.02817027 0.08306927 0.65799123] \n",
      "\n",
      "Sam Shepard's portrayal of a gung ho Marine was sobering.\n",
      "[0.00267857 0.02857143 0.66875   ] \n",
      "\n"
     ]
    }
   ],
   "source": [
    "for s in fn[:10]:\n",
    "    print(data[s][0])\n",
    "    print(sentence_scores[s], '\\n')"
   ]
  },
  {
   "cell_type": "code",
   "execution_count": null,
   "metadata": {},
   "outputs": [],
   "source": []
  }
 ],
 "metadata": {
  "kernelspec": {
   "display_name": "Python 3 (ipykernel)",
   "language": "python",
   "name": "python3"
  },
  "language_info": {
   "codemirror_mode": {
    "name": "ipython",
    "version": 3
   },
   "file_extension": ".py",
   "mimetype": "text/x-python",
   "name": "python",
   "nbconvert_exporter": "python",
   "pygments_lexer": "ipython3",
   "version": "3.8.8"
  },
  "toc": {
   "base_numbering": 1,
   "nav_menu": {},
   "number_sections": true,
   "sideBar": true,
   "skip_h1_title": true,
   "title_cell": "Table of Contents",
   "title_sidebar": "Contents",
   "toc_cell": false,
   "toc_position": {},
   "toc_section_display": true,
   "toc_window_display": false
  }
 },
 "nbformat": 4,
 "nbformat_minor": 2
}

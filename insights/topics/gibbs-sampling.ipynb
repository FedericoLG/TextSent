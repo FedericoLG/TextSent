{
 "cells": [
  {
   "cell_type": "markdown",
   "metadata": {},
   "source": [
    "# Tutorial on collapsed Gibbs sampling"
   ]
  },
  {
   "cell_type": "code",
   "execution_count": 1,
   "metadata": {},
   "outputs": [],
   "source": [
    "import numpy as np\n",
    "import pandas as pd\n",
    "from IPython.display import display\n",
    "\n",
    "docs = [\n",
    "    ['apple', 'ios', 'mac', 'book'],\n",
    "    ['apple', 'mac', 'book', 'apple', 'store'],\n",
    "    ['mac', 'book', 'ios', 'store'],\n",
    "    ['banana', 'mango', 'fruit'],\n",
    "    ['apple', 'fruit'],\n",
    "    ['orange', 'strawberry', 'banana'],\n",
    "    ['orange', 'mango', 'banana'],\n",
    "    ['fruit', 'apple', 'mac', 'ios']\n",
    "]\n",
    "K = 2\n",
    "words = list(set([x for y in docs for x in y]))\n",
    "alpha = np.array([1]*K)\n",
    "beta = np.array([1]*len(words))"
   ]
  },
  {
   "cell_type": "markdown",
   "metadata": {},
   "source": [
    "## Init counters of assignments\n",
    "- $n_{d,k}$ number of words of the document $d$ assigned to $k$\n",
    "- $n_{k,w}$ number of times (instances of) word $w$ is assigned to $k$\n",
    "- $n_k$ number of word instances assignements to $k$\n",
    "- $z$ array of assignments to topics for each of the words instances"
   ]
  },
  {
   "cell_type": "code",
   "execution_count": 2,
   "metadata": {},
   "outputs": [],
   "source": [
    "N = sum([len(x) for x in docs])\n",
    "z = np.zeros(N)\n",
    "ndk = np.zeros((len(docs), K))\n",
    "nkw = np.zeros((K, len(words)))\n",
    "nk = np.zeros(K)"
   ]
  },
  {
   "cell_type": "markdown",
   "metadata": {},
   "source": [
    "### Randomly initialize"
   ]
  },
  {
   "cell_type": "code",
   "execution_count": 3,
   "metadata": {},
   "outputs": [],
   "source": [
    "instance = 0\n",
    "occurrences = []\n",
    "for i, doc in enumerate(docs):\n",
    "    for w in doc:\n",
    "        occurrences.append(w)\n",
    "        t = np.random.choice(range(0,K))\n",
    "        z[instance] = t\n",
    "        nk[t] += 1\n",
    "        ndk[i,t] += 1\n",
    "        nkw[t, words.index(w)] += 1\n",
    "        instance += 1"
   ]
  },
  {
   "cell_type": "code",
   "execution_count": 4,
   "metadata": {},
   "outputs": [
    {
     "data": {
      "text/html": [
       "<div>\n",
       "<style scoped>\n",
       "    .dataframe tbody tr th:only-of-type {\n",
       "        vertical-align: middle;\n",
       "    }\n",
       "\n",
       "    .dataframe tbody tr th {\n",
       "        vertical-align: top;\n",
       "    }\n",
       "\n",
       "    .dataframe thead th {\n",
       "        text-align: right;\n",
       "    }\n",
       "</style>\n",
       "<table border=\"1\" class=\"dataframe\">\n",
       "  <thead>\n",
       "    <tr style=\"text-align: right;\">\n",
       "      <th></th>\n",
       "      <th>apple</th>\n",
       "      <th>ios</th>\n",
       "      <th>mac</th>\n",
       "      <th>book</th>\n",
       "      <th>apple</th>\n",
       "      <th>mac</th>\n",
       "      <th>book</th>\n",
       "      <th>apple</th>\n",
       "      <th>store</th>\n",
       "      <th>mac</th>\n",
       "      <th>...</th>\n",
       "      <th>orange</th>\n",
       "      <th>strawberry</th>\n",
       "      <th>banana</th>\n",
       "      <th>orange</th>\n",
       "      <th>mango</th>\n",
       "      <th>banana</th>\n",
       "      <th>fruit</th>\n",
       "      <th>apple</th>\n",
       "      <th>mac</th>\n",
       "      <th>ios</th>\n",
       "    </tr>\n",
       "  </thead>\n",
       "  <tbody>\n",
       "    <tr>\n",
       "      <th>0</th>\n",
       "      <td>0.0</td>\n",
       "      <td>1.0</td>\n",
       "      <td>1.0</td>\n",
       "      <td>1.0</td>\n",
       "      <td>1.0</td>\n",
       "      <td>0.0</td>\n",
       "      <td>0.0</td>\n",
       "      <td>1.0</td>\n",
       "      <td>1.0</td>\n",
       "      <td>1.0</td>\n",
       "      <td>...</td>\n",
       "      <td>1.0</td>\n",
       "      <td>0.0</td>\n",
       "      <td>0.0</td>\n",
       "      <td>0.0</td>\n",
       "      <td>0.0</td>\n",
       "      <td>0.0</td>\n",
       "      <td>0.0</td>\n",
       "      <td>0.0</td>\n",
       "      <td>0.0</td>\n",
       "      <td>0.0</td>\n",
       "    </tr>\n",
       "  </tbody>\n",
       "</table>\n",
       "<p>1 rows × 28 columns</p>\n",
       "</div>"
      ],
      "text/plain": [
       "   apple  ios  mac  book  apple  mac  book  apple  store  mac  ...  orange  \\\n",
       "0    0.0  1.0  1.0   1.0    1.0  0.0   0.0    1.0    1.0  1.0  ...     1.0   \n",
       "\n",
       "   strawberry  banana  orange  mango  banana  fruit  apple  mac  ios  \n",
       "0         0.0     0.0     0.0    0.0     0.0    0.0    0.0  0.0  0.0  \n",
       "\n",
       "[1 rows x 28 columns]"
      ]
     },
     "metadata": {},
     "output_type": "display_data"
    },
    {
     "data": {
      "text/html": [
       "<div>\n",
       "<style scoped>\n",
       "    .dataframe tbody tr th:only-of-type {\n",
       "        vertical-align: middle;\n",
       "    }\n",
       "\n",
       "    .dataframe tbody tr th {\n",
       "        vertical-align: top;\n",
       "    }\n",
       "\n",
       "    .dataframe thead th {\n",
       "        text-align: right;\n",
       "    }\n",
       "</style>\n",
       "<table border=\"1\" class=\"dataframe\">\n",
       "  <thead>\n",
       "    <tr style=\"text-align: right;\">\n",
       "      <th></th>\n",
       "      <th>0</th>\n",
       "      <th>1</th>\n",
       "      <th>2</th>\n",
       "      <th>3</th>\n",
       "      <th>4</th>\n",
       "      <th>5</th>\n",
       "      <th>6</th>\n",
       "      <th>7</th>\n",
       "    </tr>\n",
       "  </thead>\n",
       "  <tbody>\n",
       "    <tr>\n",
       "      <th>0</th>\n",
       "      <td>1.0</td>\n",
       "      <td>2.0</td>\n",
       "      <td>3.0</td>\n",
       "      <td>1.0</td>\n",
       "      <td>0.0</td>\n",
       "      <td>2.0</td>\n",
       "      <td>3.0</td>\n",
       "      <td>4.0</td>\n",
       "    </tr>\n",
       "    <tr>\n",
       "      <th>1</th>\n",
       "      <td>3.0</td>\n",
       "      <td>3.0</td>\n",
       "      <td>1.0</td>\n",
       "      <td>2.0</td>\n",
       "      <td>2.0</td>\n",
       "      <td>1.0</td>\n",
       "      <td>0.0</td>\n",
       "      <td>0.0</td>\n",
       "    </tr>\n",
       "  </tbody>\n",
       "</table>\n",
       "</div>"
      ],
      "text/plain": [
       "     0    1    2    3    4    5    6    7\n",
       "0  1.0  2.0  3.0  1.0  0.0  2.0  3.0  4.0\n",
       "1  3.0  3.0  1.0  2.0  2.0  1.0  0.0  0.0"
      ]
     },
     "metadata": {},
     "output_type": "display_data"
    },
    {
     "data": {
      "text/html": [
       "<div>\n",
       "<style scoped>\n",
       "    .dataframe tbody tr th:only-of-type {\n",
       "        vertical-align: middle;\n",
       "    }\n",
       "\n",
       "    .dataframe tbody tr th {\n",
       "        vertical-align: top;\n",
       "    }\n",
       "\n",
       "    .dataframe thead th {\n",
       "        text-align: right;\n",
       "    }\n",
       "</style>\n",
       "<table border=\"1\" class=\"dataframe\">\n",
       "  <thead>\n",
       "    <tr style=\"text-align: right;\">\n",
       "      <th></th>\n",
       "      <th>store</th>\n",
       "      <th>orange</th>\n",
       "      <th>mango</th>\n",
       "      <th>ios</th>\n",
       "      <th>strawberry</th>\n",
       "      <th>mac</th>\n",
       "      <th>apple</th>\n",
       "      <th>book</th>\n",
       "      <th>fruit</th>\n",
       "      <th>banana</th>\n",
       "    </tr>\n",
       "  </thead>\n",
       "  <tbody>\n",
       "    <tr>\n",
       "      <th>0</th>\n",
       "      <td>1.0</td>\n",
       "      <td>1.0</td>\n",
       "      <td>1.0</td>\n",
       "      <td>2.0</td>\n",
       "      <td>1.0</td>\n",
       "      <td>2.0</td>\n",
       "      <td>2.0</td>\n",
       "      <td>2.0</td>\n",
       "      <td>2.0</td>\n",
       "      <td>2.0</td>\n",
       "    </tr>\n",
       "    <tr>\n",
       "      <th>1</th>\n",
       "      <td>1.0</td>\n",
       "      <td>1.0</td>\n",
       "      <td>1.0</td>\n",
       "      <td>1.0</td>\n",
       "      <td>0.0</td>\n",
       "      <td>2.0</td>\n",
       "      <td>3.0</td>\n",
       "      <td>1.0</td>\n",
       "      <td>1.0</td>\n",
       "      <td>1.0</td>\n",
       "    </tr>\n",
       "  </tbody>\n",
       "</table>\n",
       "</div>"
      ],
      "text/plain": [
       "   store  orange  mango  ios  strawberry  mac  apple  book  fruit  banana\n",
       "0    1.0     1.0    1.0  2.0         1.0  2.0    2.0   2.0    2.0     2.0\n",
       "1    1.0     1.0    1.0  1.0         0.0  2.0    3.0   1.0    1.0     1.0"
      ]
     },
     "metadata": {},
     "output_type": "display_data"
    }
   ],
   "source": [
    "display(pd.DataFrame(z, index=occurrences).T)\n",
    "display(pd.DataFrame(ndk, index=range(len(docs)), columns=range(K)).T)\n",
    "display(pd.DataFrame(nkw, index=range(K), columns=words))"
   ]
  },
  {
   "cell_type": "markdown",
   "metadata": {},
   "source": [
    "## Likelihood"
   ]
  },
  {
   "cell_type": "code",
   "execution_count": 5,
   "metadata": {},
   "outputs": [],
   "source": [
    "def theta(ndk, alpha, d_i, k_i):\n",
    "    return (ndk[d_i, k_i] + alpha[k_i]) / (np.sum(ndk[d_i,:]) + alpha[k_i])\n",
    "\n",
    "def phi(nkw, beta, w_i, k_i):\n",
    "    return (nkw[k_i, w_i] + beta[w_i]) / (np.sum(nkw[k_i,:] + beta))"
   ]
  },
  {
   "cell_type": "code",
   "execution_count": 6,
   "metadata": {},
   "outputs": [
    {
     "name": "stdout",
     "output_type": "stream",
     "text": [
      "0.5\n"
     ]
    }
   ],
   "source": [
    "print(theta(ndk, alpha, 1, 0))"
   ]
  },
  {
   "cell_type": "markdown",
   "metadata": {},
   "source": [
    "# Gibbs Sampling"
   ]
  },
  {
   "cell_type": "code",
   "execution_count": 7,
   "metadata": {},
   "outputs": [],
   "source": [
    "from IPython.display import clear_output"
   ]
  },
  {
   "cell_type": "code",
   "execution_count": 8,
   "metadata": {},
   "outputs": [],
   "source": [
    "def copy(a):\n",
    "    if a.ndim == 1:\n",
    "        new_a = np.zeros(a.shape)\n",
    "        for i, v in enumerate(a):\n",
    "            new_a[i] = v\n",
    "    else:\n",
    "        new_a = np.zeros(a.shape)\n",
    "        for i, row in enumerate(a):\n",
    "            for j, v in enumerate(row):\n",
    "                new_a[i,j] = v\n",
    "    return new_a"
   ]
  },
  {
   "cell_type": "code",
   "execution_count": 9,
   "metadata": {},
   "outputs": [],
   "source": [
    "def gibbs(docs, words, topics, ndk, nkw, nk, alpha, beta, iterations=10):\n",
    "    history = [(copy(ndk), copy(nkw), copy(topics))]\n",
    "    for it in range(0, iterations):\n",
    "        w_i = 0\n",
    "        for doc_i, doc in enumerate(docs):\n",
    "            for w in doc:\n",
    "                word = [x for y in docs for x in y][w_i]\n",
    "                topic = int(topics[w_i])\n",
    "                p_z = np.zeros(len(alpha))\n",
    "                for k_i in range(0, len(alpha)):\n",
    "                    p_z[k_i] = theta(ndk, alpha, doc_i, k_i) * phi(nkw, beta, words.index(word), k_i)\n",
    "                p_z = p_z / np.sum(p_z)\n",
    "                # Sample from p_z\n",
    "                new_topic = np.random.choice(len(p_z), 1, p=p_z)[0]\n",
    "                # Update\n",
    "                # Remove current assignment\n",
    "                ndk[doc_i, topic] -= 1\n",
    "                nkw[topic, words.index(word)] -= 1\n",
    "                nk[topic] -= 1\n",
    "                topics[w_i] = new_topic\n",
    "                ndk[doc_i, new_topic] += 1\n",
    "                nkw[new_topic, words.index(word)] += 1\n",
    "                nk[new_topic] += 1\n",
    "                w_i += 1\n",
    "            history.append((copy(ndk), copy(nkw), copy(topics)))\n",
    "    return history"
   ]
  },
  {
   "cell_type": "code",
   "execution_count": 10,
   "metadata": {},
   "outputs": [],
   "source": [
    "history = gibbs(docs, words, z, ndk, nkw, nk, alpha, beta, iterations=1000)"
   ]
  },
  {
   "cell_type": "code",
   "execution_count": 11,
   "metadata": {},
   "outputs": [
    {
     "data": {
      "text/html": [
       "<div>\n",
       "<style scoped>\n",
       "    .dataframe tbody tr th:only-of-type {\n",
       "        vertical-align: middle;\n",
       "    }\n",
       "\n",
       "    .dataframe tbody tr th {\n",
       "        vertical-align: top;\n",
       "    }\n",
       "\n",
       "    .dataframe thead th {\n",
       "        text-align: right;\n",
       "    }\n",
       "</style>\n",
       "<table border=\"1\" class=\"dataframe\">\n",
       "  <thead>\n",
       "    <tr style=\"text-align: right;\">\n",
       "      <th></th>\n",
       "      <th>apple</th>\n",
       "      <th>ios</th>\n",
       "      <th>mac</th>\n",
       "      <th>book</th>\n",
       "      <th>apple</th>\n",
       "      <th>mac</th>\n",
       "      <th>book</th>\n",
       "      <th>apple</th>\n",
       "      <th>store</th>\n",
       "      <th>mac</th>\n",
       "      <th>...</th>\n",
       "      <th>orange</th>\n",
       "      <th>strawberry</th>\n",
       "      <th>banana</th>\n",
       "      <th>orange</th>\n",
       "      <th>mango</th>\n",
       "      <th>banana</th>\n",
       "      <th>fruit</th>\n",
       "      <th>apple</th>\n",
       "      <th>mac</th>\n",
       "      <th>ios</th>\n",
       "    </tr>\n",
       "  </thead>\n",
       "  <tbody>\n",
       "    <tr>\n",
       "      <th>0</th>\n",
       "      <td>0.0</td>\n",
       "      <td>0.0</td>\n",
       "      <td>1.0</td>\n",
       "      <td>0.0</td>\n",
       "      <td>1.0</td>\n",
       "      <td>1.0</td>\n",
       "      <td>1.0</td>\n",
       "      <td>1.0</td>\n",
       "      <td>1.0</td>\n",
       "      <td>0.0</td>\n",
       "      <td>...</td>\n",
       "      <td>1.0</td>\n",
       "      <td>1.0</td>\n",
       "      <td>0.0</td>\n",
       "      <td>0.0</td>\n",
       "      <td>0.0</td>\n",
       "      <td>0.0</td>\n",
       "      <td>0.0</td>\n",
       "      <td>0.0</td>\n",
       "      <td>0.0</td>\n",
       "      <td>0.0</td>\n",
       "    </tr>\n",
       "  </tbody>\n",
       "</table>\n",
       "<p>1 rows × 28 columns</p>\n",
       "</div>"
      ],
      "text/plain": [
       "   apple  ios  mac  book  apple  mac  book  apple  store  mac  ...  orange  \\\n",
       "0    0.0  0.0  1.0   0.0    1.0  1.0   1.0    1.0    1.0  0.0  ...     1.0   \n",
       "\n",
       "   strawberry  banana  orange  mango  banana  fruit  apple  mac  ios  \n",
       "0         1.0     0.0     0.0    0.0     0.0    0.0    0.0  0.0  0.0  \n",
       "\n",
       "[1 rows x 28 columns]"
      ]
     },
     "metadata": {},
     "output_type": "display_data"
    },
    {
     "data": {
      "text/html": [
       "<div>\n",
       "<style scoped>\n",
       "    .dataframe tbody tr th:only-of-type {\n",
       "        vertical-align: middle;\n",
       "    }\n",
       "\n",
       "    .dataframe tbody tr th {\n",
       "        vertical-align: top;\n",
       "    }\n",
       "\n",
       "    .dataframe thead th {\n",
       "        text-align: right;\n",
       "    }\n",
       "</style>\n",
       "<table border=\"1\" class=\"dataframe\">\n",
       "  <thead>\n",
       "    <tr style=\"text-align: right;\">\n",
       "      <th></th>\n",
       "      <th>0</th>\n",
       "      <th>1</th>\n",
       "      <th>2</th>\n",
       "      <th>3</th>\n",
       "      <th>4</th>\n",
       "      <th>5</th>\n",
       "      <th>6</th>\n",
       "      <th>7</th>\n",
       "    </tr>\n",
       "  </thead>\n",
       "  <tbody>\n",
       "    <tr>\n",
       "      <th>0</th>\n",
       "      <td>3.0</td>\n",
       "      <td>0.0</td>\n",
       "      <td>3.0</td>\n",
       "      <td>3.0</td>\n",
       "      <td>1.0</td>\n",
       "      <td>1.0</td>\n",
       "      <td>3.0</td>\n",
       "      <td>4.0</td>\n",
       "    </tr>\n",
       "    <tr>\n",
       "      <th>1</th>\n",
       "      <td>1.0</td>\n",
       "      <td>5.0</td>\n",
       "      <td>1.0</td>\n",
       "      <td>0.0</td>\n",
       "      <td>1.0</td>\n",
       "      <td>2.0</td>\n",
       "      <td>0.0</td>\n",
       "      <td>0.0</td>\n",
       "    </tr>\n",
       "  </tbody>\n",
       "</table>\n",
       "</div>"
      ],
      "text/plain": [
       "     0    1    2    3    4    5    6    7\n",
       "0  3.0  0.0  3.0  3.0  1.0  1.0  3.0  4.0\n",
       "1  1.0  5.0  1.0  0.0  1.0  2.0  0.0  0.0"
      ]
     },
     "metadata": {},
     "output_type": "display_data"
    },
    {
     "data": {
      "text/html": [
       "<div>\n",
       "<style scoped>\n",
       "    .dataframe tbody tr th:only-of-type {\n",
       "        vertical-align: middle;\n",
       "    }\n",
       "\n",
       "    .dataframe tbody tr th {\n",
       "        vertical-align: top;\n",
       "    }\n",
       "\n",
       "    .dataframe thead th {\n",
       "        text-align: right;\n",
       "    }\n",
       "</style>\n",
       "<table border=\"1\" class=\"dataframe\">\n",
       "  <thead>\n",
       "    <tr style=\"text-align: right;\">\n",
       "      <th></th>\n",
       "      <th>store</th>\n",
       "      <th>orange</th>\n",
       "      <th>mango</th>\n",
       "      <th>ios</th>\n",
       "      <th>strawberry</th>\n",
       "      <th>mac</th>\n",
       "      <th>apple</th>\n",
       "      <th>book</th>\n",
       "      <th>fruit</th>\n",
       "      <th>banana</th>\n",
       "    </tr>\n",
       "  </thead>\n",
       "  <tbody>\n",
       "    <tr>\n",
       "      <th>0</th>\n",
       "      <td>0.0</td>\n",
       "      <td>1.0</td>\n",
       "      <td>2.0</td>\n",
       "      <td>3.0</td>\n",
       "      <td>0.0</td>\n",
       "      <td>2.0</td>\n",
       "      <td>2.0</td>\n",
       "      <td>2.0</td>\n",
       "      <td>3.0</td>\n",
       "      <td>3.0</td>\n",
       "    </tr>\n",
       "    <tr>\n",
       "      <th>1</th>\n",
       "      <td>2.0</td>\n",
       "      <td>1.0</td>\n",
       "      <td>0.0</td>\n",
       "      <td>0.0</td>\n",
       "      <td>1.0</td>\n",
       "      <td>2.0</td>\n",
       "      <td>3.0</td>\n",
       "      <td>1.0</td>\n",
       "      <td>0.0</td>\n",
       "      <td>0.0</td>\n",
       "    </tr>\n",
       "  </tbody>\n",
       "</table>\n",
       "</div>"
      ],
      "text/plain": [
       "   store  orange  mango  ios  strawberry  mac  apple  book  fruit  banana\n",
       "0    0.0     1.0    2.0  3.0         0.0  2.0    2.0   2.0    3.0     3.0\n",
       "1    2.0     1.0    0.0  0.0         1.0  2.0    3.0   1.0    0.0     0.0"
      ]
     },
     "metadata": {},
     "output_type": "display_data"
    },
    {
     "name": "stdout",
     "output_type": "stream",
     "text": [
      "quit\n"
     ]
    }
   ],
   "source": [
    "for ndk_h, nkw_h, z_h in history:\n",
    "    clear_output(wait=True)\n",
    "    display(pd.DataFrame(z_h, index=occurrences).T)\n",
    "    display(pd.DataFrame(ndk_h, index=range(len(docs)), columns=range(K)).T)\n",
    "    display(pd.DataFrame(nkw_h, index=range(K), columns=words))\n",
    "    command = input()\n",
    "    if command == 'quit':\n",
    "        break"
   ]
  },
  {
   "cell_type": "markdown",
   "metadata": {},
   "source": [
    "# Sklearn implementation"
   ]
  },
  {
   "cell_type": "code",
   "execution_count": null,
   "metadata": {},
   "outputs": [],
   "source": [
    "from sklearn.decomposition import LatentDirichletAllocation\n",
    "from collections import Counter\n",
    "\n",
    "\n",
    "M = np.zeros((len(words), len(docs)))\n",
    "for i, doc in enumerate(docs):\n",
    "    for k, w in Counter(doc).most_common():\n",
    "        M[words.index(k), i] = w\n",
    "LDA = LatentDirichletAllocation(n_components=2, learning_method='batch', max_iter=100).fit(M.T)"
   ]
  },
  {
   "cell_type": "code",
   "execution_count": null,
   "metadata": {},
   "outputs": [],
   "source": [
    "A = LDA.components_"
   ]
  },
  {
   "cell_type": "code",
   "execution_count": null,
   "metadata": {},
   "outputs": [],
   "source": [
    "A.T"
   ]
  },
  {
   "cell_type": "markdown",
   "metadata": {},
   "source": [
    "Topic word distribution. components_[i, j] represents word j in topic i."
   ]
  },
  {
   "cell_type": "code",
   "execution_count": null,
   "metadata": {},
   "outputs": [],
   "source": [
    "display(pd.DataFrame(A, index=range(K), columns=words))"
   ]
  },
  {
   "cell_type": "code",
   "execution_count": null,
   "metadata": {},
   "outputs": [],
   "source": [
    "Terms = np.zeros((len(words), K))\n",
    "Docs = np.zeros((len(docs), K))\n",
    "\n",
    "for w_i, w in enumerate(words):\n",
    "    Terms[w_i] = A.T[w_i] / np.sum(A.T[w_i])\n",
    "\n",
    "for d_i, d in enumerate(docs):\n",
    "    dM = np.zeros((len(d), K))\n",
    "    for j, w in enumerate(d):\n",
    "        dM[j] = Terms[words.index(w)]\n",
    "    Docs[d_i] = np.sum(dM, axis=0) / np.array([len(d)]*K)"
   ]
  },
  {
   "cell_type": "code",
   "execution_count": null,
   "metadata": {},
   "outputs": [],
   "source": [
    "display(pd.DataFrame(Terms, index=words, columns=range(0,K)))\n",
    "display(pd.DataFrame(Docs, index=range(0, len(docs)), columns=range(0,K)))"
   ]
  },
  {
   "cell_type": "code",
   "execution_count": null,
   "metadata": {},
   "outputs": [],
   "source": [
    "sigma_w, sigma_d = 4, 3\n",
    "for t_k in range(0, K):\n",
    "    print('topic', t_k)\n",
    "    top_w = sorted([(i, wk) for i, wk in enumerate(Terms.T[t_k])], key=lambda y: -y[1])[:sigma_w]\n",
    "    top_d = sorted([(i, dk) for i, dk in enumerate(Docs.T[t_k])], key=lambda y: -y[1])[:sigma_d]\n",
    "    print([words[x[0]] for x in top_w])\n",
    "    print([docs[x[0]] for x in top_d])\n",
    "    print(\"\")"
   ]
  },
  {
   "cell_type": "code",
   "execution_count": null,
   "metadata": {},
   "outputs": [],
   "source": []
  },
  {
   "cell_type": "code",
   "execution_count": null,
   "metadata": {},
   "outputs": [],
   "source": []
  }
 ],
 "metadata": {
  "kernelspec": {
   "display_name": "Python 3 (ipykernel)",
   "language": "python",
   "name": "python3"
  },
  "language_info": {
   "codemirror_mode": {
    "name": "ipython",
    "version": 3
   },
   "file_extension": ".py",
   "mimetype": "text/x-python",
   "name": "python",
   "nbconvert_exporter": "python",
   "pygments_lexer": "ipython3",
   "version": "3.8.8"
  },
  "toc": {
   "base_numbering": 1,
   "nav_menu": {},
   "number_sections": true,
   "sideBar": true,
   "skip_h1_title": true,
   "title_cell": "Table of Contents",
   "title_sidebar": "Contents",
   "toc_cell": false,
   "toc_position": {},
   "toc_section_display": true,
   "toc_window_display": false
  }
 },
 "nbformat": 4,
 "nbformat_minor": 2
}

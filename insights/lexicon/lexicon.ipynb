{
 "cells": [
  {
   "cell_type": "markdown",
   "id": "ec217873",
   "metadata": {},
   "source": [
    "# Explore pro and cons of lexicon-based sentiment analysis"
   ]
  },
  {
   "cell_type": "code",
   "execution_count": 1,
   "id": "d853dcbb",
   "metadata": {},
   "outputs": [],
   "source": [
    "import pandas as pd\n",
    "import numpy as np\n",
    "from tqdm.notebook import tqdm"
   ]
  },
  {
   "cell_type": "markdown",
   "id": "6429d7b7",
   "metadata": {},
   "source": [
    "## Data sample"
   ]
  },
  {
   "cell_type": "code",
   "execution_count": 2,
   "id": "50c94a20",
   "metadata": {},
   "outputs": [],
   "source": [
    "import json"
   ]
  },
  {
   "cell_type": "code",
   "execution_count": 3,
   "id": "fbee9762",
   "metadata": {},
   "outputs": [],
   "source": [
    "with open('./data/yelp_sample.json', 'r') as infile:\n",
    "    reviews = json.load(infile)[:200]"
   ]
  },
  {
   "cell_type": "code",
   "execution_count": 4,
   "id": "fa6222a8",
   "metadata": {},
   "outputs": [
    {
     "data": {
      "text/plain": [
       "{'content': \"Red, white and bleu salad was super yum and a great addition to the menu! This location was clean with great service and food served at just the right temps! Kids pizza is always a hit too with lots of great side dish options for the kiddos! When I'm on this side of town, this will definitely be a spot I'll hit up again!\",\n",
       " 'date': '2014-02-17',\n",
       " 'stars': 4,\n",
       " 'useful': 1,\n",
       " 'funny': 0,\n",
       " 'cool': 0,\n",
       " 'business': 'Ue6-WhXvI-_1xUIuapl0zQ',\n",
       " 'id': '----X0BIDP9tA49U3RvdSQ',\n",
       " 'categories': ['American (Traditional)', 'Burgers', 'Restaurants']}"
      ]
     },
     "execution_count": 4,
     "metadata": {},
     "output_type": "execute_result"
    }
   ],
   "source": [
    "reviews[0]"
   ]
  },
  {
   "cell_type": "markdown",
   "id": "8b167a39",
   "metadata": {},
   "source": [
    "### Parsing and lemmatization"
   ]
  },
  {
   "cell_type": "code",
   "execution_count": 5,
   "id": "1b3fa8d6",
   "metadata": {},
   "outputs": [],
   "source": [
    "import spacy\n",
    "nlp = spacy.load('en_core_web_lg')"
   ]
  },
  {
   "cell_type": "code",
   "execution_count": 6,
   "id": "e27d47cd",
   "metadata": {},
   "outputs": [],
   "source": [
    "tokens = [[(x.lemma_.lower(), x.pos_) for x in nlp(doc['content']) if x.pos_ not in ['PUNCT']] \n",
    "          for doc in reviews]"
   ]
  },
  {
   "cell_type": "code",
   "execution_count": 7,
   "id": "6c77c123",
   "metadata": {},
   "outputs": [
    {
     "data": {
      "text/plain": [
       "[('red', 'ADJ'),\n",
       " ('white', 'ADJ'),\n",
       " ('and', 'CCONJ'),\n",
       " ('bleu', 'PROPN'),\n",
       " ('salad', 'NOUN'),\n",
       " ('be', 'AUX')]"
      ]
     },
     "execution_count": 7,
     "metadata": {},
     "output_type": "execute_result"
    }
   ],
   "source": [
    "tokens[0][:6]"
   ]
  },
  {
   "cell_type": "markdown",
   "id": "13ce2cd5",
   "metadata": {},
   "source": [
    "## SentiWn"
   ]
  },
  {
   "cell_type": "code",
   "execution_count": 8,
   "id": "ac767aa6",
   "metadata": {},
   "outputs": [],
   "source": [
    "from nltk.corpus import wordnet as wn\n",
    "from nltk.corpus import sentiwordnet as swn"
   ]
  },
  {
   "cell_type": "code",
   "execution_count": 9,
   "id": "e327895e",
   "metadata": {},
   "outputs": [],
   "source": [
    "pos_map = {'NOUN': wn.NOUN, 'ADV': wn.ADV, 'ADJ': wn.ADJ, 'VERB': wn.VERB}"
   ]
  },
  {
   "cell_type": "code",
   "execution_count": 10,
   "id": "47242919",
   "metadata": {},
   "outputs": [
    {
     "name": "stdout",
     "output_type": "stream",
     "text": [
      "0.0 0.0 1.0\n",
      "0.25 0.625 0.125\n",
      "0.0 0.25 0.75\n"
     ]
    }
   ],
   "source": [
    "syns = wn.synsets('red', pos=pos_map['ADJ'])\n",
    "for syn in syns:\n",
    "    ssy = swn.senti_synset(syn.name())\n",
    "    print(ssy.pos_score(), ssy.neg_score(), ssy.obj_score())"
   ]
  },
  {
   "cell_type": "code",
   "execution_count": 11,
   "id": "aa814f27",
   "metadata": {},
   "outputs": [],
   "source": [
    "def average_score(token, pos):\n",
    "    p, n, o = [], [], []\n",
    "    try:\n",
    "        syns = wn.synsets(token, pos=pos_map[pos])\n",
    "        for syn in syns:\n",
    "            ssy = swn.senti_synset(syn.name())\n",
    "            p.append(ssy.pos_score())\n",
    "            n.append(ssy.neg_score())\n",
    "            o.append(ssy.obj_score())\n",
    "    except KeyError:\n",
    "        pass\n",
    "    return np.array(p), np.array(n), np.array(o)"
   ]
  },
  {
   "cell_type": "markdown",
   "id": "42ecdffd",
   "metadata": {},
   "source": [
    "### Text scores"
   ]
  },
  {
   "cell_type": "code",
   "execution_count": 12,
   "id": "ec495da5",
   "metadata": {},
   "outputs": [],
   "source": [
    "def tokens_score(document_tokens):\n",
    "    text_data = []\n",
    "    for token, pos in document_tokens:\n",
    "        p, n, o = average_score(token, pos)\n",
    "        td = {\n",
    "            'token': token, 'pos': pos, 'senses': p.shape[0]\n",
    "        }\n",
    "        if p.shape[0] > 0:\n",
    "            td['pos_mean'] = p.mean()\n",
    "            td['neu_mean'] = n.mean()\n",
    "            td['obj_mean'] = o.mean()\n",
    "            td['pos_std'] = p.std()\n",
    "            td['neu_std'] = n.std()\n",
    "            td['obj_std'] = o.std()\n",
    "        text_data.append(td)\n",
    "    return pd.DataFrame(text_data).dropna(inplace=False)"
   ]
  },
  {
   "cell_type": "code",
   "execution_count": 13,
   "id": "f5a5b377",
   "metadata": {},
   "outputs": [
    {
     "name": "stdout",
     "output_type": "stream",
     "text": [
      "The poutines are good, the strength of the place is its variety and ambiance. I wouldn't say its the best place for poutine however.\n",
      "STARS 4 CATEGORIES ['Diners', 'Poutineries', 'Restaurants']\n"
     ]
    }
   ],
   "source": [
    "doc_id = 10\n",
    "print(reviews[doc_id]['content'])\n",
    "print('STARS', reviews[doc_id]['stars'], 'CATEGORIES', reviews[doc_id]['categories'])\n",
    "T = tokens_score(tokens[doc_id])"
   ]
  },
  {
   "cell_type": "code",
   "execution_count": 14,
   "id": "643d92cd",
   "metadata": {},
   "outputs": [
    {
     "data": {
      "text/html": [
       "<div>\n",
       "<style scoped>\n",
       "    .dataframe tbody tr th:only-of-type {\n",
       "        vertical-align: middle;\n",
       "    }\n",
       "\n",
       "    .dataframe tbody tr th {\n",
       "        vertical-align: top;\n",
       "    }\n",
       "\n",
       "    .dataframe thead th {\n",
       "        text-align: right;\n",
       "    }\n",
       "</style>\n",
       "<table border=\"1\" class=\"dataframe\">\n",
       "  <thead>\n",
       "    <tr style=\"text-align: right;\">\n",
       "      <th></th>\n",
       "      <th>token</th>\n",
       "      <th>pos</th>\n",
       "      <th>senses</th>\n",
       "      <th>pos_mean</th>\n",
       "      <th>neu_mean</th>\n",
       "      <th>obj_mean</th>\n",
       "      <th>pos_std</th>\n",
       "      <th>neu_std</th>\n",
       "      <th>obj_std</th>\n",
       "    </tr>\n",
       "  </thead>\n",
       "  <tbody>\n",
       "    <tr>\n",
       "      <th>3</th>\n",
       "      <td>good</td>\n",
       "      <td>ADJ</td>\n",
       "      <td>21</td>\n",
       "      <td>0.619048</td>\n",
       "      <td>0.005952</td>\n",
       "      <td>0.375000</td>\n",
       "      <td>0.268584</td>\n",
       "      <td>0.026620</td>\n",
       "      <td>0.264463</td>\n",
       "    </tr>\n",
       "    <tr>\n",
       "      <th>5</th>\n",
       "      <td>strength</td>\n",
       "      <td>NOUN</td>\n",
       "      <td>9</td>\n",
       "      <td>0.138889</td>\n",
       "      <td>0.027778</td>\n",
       "      <td>0.833333</td>\n",
       "      <td>0.124226</td>\n",
       "      <td>0.078567</td>\n",
       "      <td>0.144338</td>\n",
       "    </tr>\n",
       "    <tr>\n",
       "      <th>8</th>\n",
       "      <td>place</td>\n",
       "      <td>NOUN</td>\n",
       "      <td>16</td>\n",
       "      <td>0.007812</td>\n",
       "      <td>0.007812</td>\n",
       "      <td>0.984375</td>\n",
       "      <td>0.030258</td>\n",
       "      <td>0.030258</td>\n",
       "      <td>0.041340</td>\n",
       "    </tr>\n",
       "    <tr>\n",
       "      <th>11</th>\n",
       "      <td>variety</td>\n",
       "      <td>NOUN</td>\n",
       "      <td>6</td>\n",
       "      <td>0.145833</td>\n",
       "      <td>0.083333</td>\n",
       "      <td>0.770833</td>\n",
       "      <td>0.232924</td>\n",
       "      <td>0.138193</td>\n",
       "      <td>0.326093</td>\n",
       "    </tr>\n",
       "    <tr>\n",
       "      <th>13</th>\n",
       "      <td>ambiance</td>\n",
       "      <td>NOUN</td>\n",
       "      <td>2</td>\n",
       "      <td>0.000000</td>\n",
       "      <td>0.000000</td>\n",
       "      <td>1.000000</td>\n",
       "      <td>0.000000</td>\n",
       "      <td>0.000000</td>\n",
       "      <td>0.000000</td>\n",
       "    </tr>\n",
       "  </tbody>\n",
       "</table>\n",
       "</div>"
      ],
      "text/plain": [
       "       token   pos  senses  pos_mean  neu_mean  obj_mean   pos_std   neu_std  \\\n",
       "3       good   ADJ      21  0.619048  0.005952  0.375000  0.268584  0.026620   \n",
       "5   strength  NOUN       9  0.138889  0.027778  0.833333  0.124226  0.078567   \n",
       "8      place  NOUN      16  0.007812  0.007812  0.984375  0.030258  0.030258   \n",
       "11   variety  NOUN       6  0.145833  0.083333  0.770833  0.232924  0.138193   \n",
       "13  ambiance  NOUN       2  0.000000  0.000000  1.000000  0.000000  0.000000   \n",
       "\n",
       "     obj_std  \n",
       "3   0.264463  \n",
       "5   0.144338  \n",
       "8   0.041340  \n",
       "11  0.326093  \n",
       "13  0.000000  "
      ]
     },
     "execution_count": 14,
     "metadata": {},
     "output_type": "execute_result"
    }
   ],
   "source": [
    "T.head(5)"
   ]
  },
  {
   "cell_type": "code",
   "execution_count": 15,
   "id": "b53e7f95",
   "metadata": {},
   "outputs": [
    {
     "data": {
      "text/html": [
       "<div>\n",
       "<style scoped>\n",
       "    .dataframe tbody tr th:only-of-type {\n",
       "        vertical-align: middle;\n",
       "    }\n",
       "\n",
       "    .dataframe tbody tr th {\n",
       "        vertical-align: top;\n",
       "    }\n",
       "\n",
       "    .dataframe thead th {\n",
       "        text-align: right;\n",
       "    }\n",
       "</style>\n",
       "<table border=\"1\" class=\"dataframe\">\n",
       "  <thead>\n",
       "    <tr style=\"text-align: right;\">\n",
       "      <th></th>\n",
       "      <th>pos_mean</th>\n",
       "      <th>neu_mean</th>\n",
       "      <th>obj_mean</th>\n",
       "    </tr>\n",
       "  </thead>\n",
       "  <tbody>\n",
       "    <tr>\n",
       "      <th>0</th>\n",
       "      <td>1.674806</td>\n",
       "      <td>0.263641</td>\n",
       "      <td>7.061553</td>\n",
       "    </tr>\n",
       "  </tbody>\n",
       "</table>\n",
       "</div>"
      ],
      "text/plain": [
       "   pos_mean  neu_mean  obj_mean\n",
       "0  1.674806  0.263641  7.061553"
      ]
     },
     "execution_count": 15,
     "metadata": {},
     "output_type": "execute_result"
    }
   ],
   "source": [
    "pd.DataFrame(T.sum(axis=0)).T[['pos_mean', 'neu_mean', 'obj_mean']]"
   ]
  },
  {
   "cell_type": "markdown",
   "id": "16dc19e9",
   "metadata": {},
   "source": [
    "### Run over all the reviews"
   ]
  },
  {
   "cell_type": "code",
   "execution_count": 16,
   "id": "cdde51ca",
   "metadata": {},
   "outputs": [],
   "source": [
    "prediction_data = []\n",
    "for doc_id, data in enumerate(reviews):\n",
    "    T = tokens_score(tokens[doc_id])\n",
    "    prediction_data.append({\n",
    "        'doc_id': data['id'], 'text': data['content'], 'stars': data['stars'], 'business': data['business'],\n",
    "        'positive': T.pos_mean.sum(), 'negative': T.neu_mean.sum(), 'objective': T.obj_mean.sum()\n",
    "    })\n",
    "P = pd.DataFrame(prediction_data)"
   ]
  },
  {
   "cell_type": "code",
   "execution_count": 17,
   "id": "1e2c8b0e",
   "metadata": {},
   "outputs": [
    {
     "data": {
      "text/html": [
       "<div>\n",
       "<style scoped>\n",
       "    .dataframe tbody tr th:only-of-type {\n",
       "        vertical-align: middle;\n",
       "    }\n",
       "\n",
       "    .dataframe tbody tr th {\n",
       "        vertical-align: top;\n",
       "    }\n",
       "\n",
       "    .dataframe thead th {\n",
       "        text-align: right;\n",
       "    }\n",
       "</style>\n",
       "<table border=\"1\" class=\"dataframe\">\n",
       "  <thead>\n",
       "    <tr style=\"text-align: right;\">\n",
       "      <th></th>\n",
       "      <th>doc_id</th>\n",
       "      <th>text</th>\n",
       "      <th>stars</th>\n",
       "      <th>business</th>\n",
       "      <th>positive</th>\n",
       "      <th>negative</th>\n",
       "      <th>objective</th>\n",
       "    </tr>\n",
       "  </thead>\n",
       "  <tbody>\n",
       "    <tr>\n",
       "      <th>0</th>\n",
       "      <td>----X0BIDP9tA49U3RvdSQ</td>\n",
       "      <td>Red, white and bleu salad was super yum and a ...</td>\n",
       "      <td>4</td>\n",
       "      <td>Ue6-WhXvI-_1xUIuapl0zQ</td>\n",
       "      <td>3.017216</td>\n",
       "      <td>1.433087</td>\n",
       "      <td>29.549697</td>\n",
       "    </tr>\n",
       "    <tr>\n",
       "      <th>1</th>\n",
       "      <td>---0hl58W-sjVTKi5LghGw</td>\n",
       "      <td>Ate the momos during the momo crawl.. Was the ...</td>\n",
       "      <td>4</td>\n",
       "      <td>Ae4ABFarGMaI5lk1i98A0w</td>\n",
       "      <td>1.350275</td>\n",
       "      <td>0.165064</td>\n",
       "      <td>10.484661</td>\n",
       "    </tr>\n",
       "    <tr>\n",
       "      <th>2</th>\n",
       "      <td>---3OXpexMp0oAg77xWfYA</td>\n",
       "      <td>Pizza here made my night... Good people and gr...</td>\n",
       "      <td>5</td>\n",
       "      <td>lKq4Qsz13FDcAVgp49uukQ</td>\n",
       "      <td>1.376431</td>\n",
       "      <td>0.191948</td>\n",
       "      <td>10.431621</td>\n",
       "    </tr>\n",
       "    <tr>\n",
       "      <th>3</th>\n",
       "      <td>---65iIIGzHj96QnOh89EQ</td>\n",
       "      <td>Great brisket sandwich as claimed. Weird that ...</td>\n",
       "      <td>5</td>\n",
       "      <td>6nKR80xEGHYf2UxAe_Cu_g</td>\n",
       "      <td>0.562500</td>\n",
       "      <td>0.395833</td>\n",
       "      <td>6.041667</td>\n",
       "    </tr>\n",
       "    <tr>\n",
       "      <th>4</th>\n",
       "      <td>---7WhU-FtzSUOje87Y4uw</td>\n",
       "      <td>Interesting food, great atmosphere, and great ...</td>\n",
       "      <td>5</td>\n",
       "      <td>Z_mJYg3vi8cPZHa1J4BALw</td>\n",
       "      <td>2.159873</td>\n",
       "      <td>0.178829</td>\n",
       "      <td>13.661298</td>\n",
       "    </tr>\n",
       "  </tbody>\n",
       "</table>\n",
       "</div>"
      ],
      "text/plain": [
       "                   doc_id                                               text  \\\n",
       "0  ----X0BIDP9tA49U3RvdSQ  Red, white and bleu salad was super yum and a ...   \n",
       "1  ---0hl58W-sjVTKi5LghGw  Ate the momos during the momo crawl.. Was the ...   \n",
       "2  ---3OXpexMp0oAg77xWfYA  Pizza here made my night... Good people and gr...   \n",
       "3  ---65iIIGzHj96QnOh89EQ  Great brisket sandwich as claimed. Weird that ...   \n",
       "4  ---7WhU-FtzSUOje87Y4uw  Interesting food, great atmosphere, and great ...   \n",
       "\n",
       "   stars                business  positive  negative  objective  \n",
       "0      4  Ue6-WhXvI-_1xUIuapl0zQ  3.017216  1.433087  29.549697  \n",
       "1      4  Ae4ABFarGMaI5lk1i98A0w  1.350275  0.165064  10.484661  \n",
       "2      5  lKq4Qsz13FDcAVgp49uukQ  1.376431  0.191948  10.431621  \n",
       "3      5  6nKR80xEGHYf2UxAe_Cu_g  0.562500  0.395833   6.041667  \n",
       "4      5  Z_mJYg3vi8cPZHa1J4BALw  2.159873  0.178829  13.661298  "
      ]
     },
     "execution_count": 17,
     "metadata": {},
     "output_type": "execute_result"
    }
   ],
   "source": [
    "P.head()"
   ]
  },
  {
   "cell_type": "code",
   "execution_count": 18,
   "id": "4647073e",
   "metadata": {},
   "outputs": [],
   "source": [
    "scores = P[['positive', 'negative', 'objective']]"
   ]
  },
  {
   "cell_type": "code",
   "execution_count": 19,
   "id": "a60fc3ad",
   "metadata": {},
   "outputs": [
    {
     "data": {
      "text/html": [
       "<div>\n",
       "<style scoped>\n",
       "    .dataframe tbody tr th:only-of-type {\n",
       "        vertical-align: middle;\n",
       "    }\n",
       "\n",
       "    .dataframe tbody tr th {\n",
       "        vertical-align: top;\n",
       "    }\n",
       "\n",
       "    .dataframe thead th {\n",
       "        text-align: right;\n",
       "    }\n",
       "</style>\n",
       "<table border=\"1\" class=\"dataframe\">\n",
       "  <thead>\n",
       "    <tr style=\"text-align: right;\">\n",
       "      <th></th>\n",
       "      <th>positive</th>\n",
       "      <th>negative</th>\n",
       "      <th>objective</th>\n",
       "    </tr>\n",
       "  </thead>\n",
       "  <tbody>\n",
       "    <tr>\n",
       "      <th>0</th>\n",
       "      <td>3.017216</td>\n",
       "      <td>1.433087</td>\n",
       "      <td>29.549697</td>\n",
       "    </tr>\n",
       "    <tr>\n",
       "      <th>1</th>\n",
       "      <td>1.350275</td>\n",
       "      <td>0.165064</td>\n",
       "      <td>10.484661</td>\n",
       "    </tr>\n",
       "  </tbody>\n",
       "</table>\n",
       "</div>"
      ],
      "text/plain": [
       "   positive  negative  objective\n",
       "0  3.017216  1.433087  29.549697\n",
       "1  1.350275  0.165064  10.484661"
      ]
     },
     "execution_count": 19,
     "metadata": {},
     "output_type": "execute_result"
    }
   ],
   "source": [
    "scores.head(2)"
   ]
  },
  {
   "cell_type": "markdown",
   "id": "f1850915",
   "metadata": {},
   "source": [
    "### Scores interpretation"
   ]
  },
  {
   "cell_type": "code",
   "execution_count": 20,
   "id": "7931cc07",
   "metadata": {},
   "outputs": [],
   "source": [
    "from sklearn.preprocessing import StandardScaler"
   ]
  },
  {
   "cell_type": "code",
   "execution_count": 21,
   "id": "0e873a99",
   "metadata": {},
   "outputs": [
    {
     "data": {
      "text/html": [
       "<div>\n",
       "<style scoped>\n",
       "    .dataframe tbody tr th:only-of-type {\n",
       "        vertical-align: middle;\n",
       "    }\n",
       "\n",
       "    .dataframe tbody tr th {\n",
       "        vertical-align: top;\n",
       "    }\n",
       "\n",
       "    .dataframe thead th {\n",
       "        text-align: right;\n",
       "    }\n",
       "</style>\n",
       "<table border=\"1\" class=\"dataframe\">\n",
       "  <thead>\n",
       "    <tr style=\"text-align: right;\">\n",
       "      <th></th>\n",
       "      <th>positive</th>\n",
       "      <th>negative</th>\n",
       "      <th>objective</th>\n",
       "    </tr>\n",
       "  </thead>\n",
       "  <tbody>\n",
       "    <tr>\n",
       "      <th>0</th>\n",
       "      <td>-0.380789</td>\n",
       "      <td>-0.477391</td>\n",
       "      <td>-0.375100</td>\n",
       "    </tr>\n",
       "    <tr>\n",
       "      <th>1</th>\n",
       "      <td>-0.842574</td>\n",
       "      <td>-0.952627</td>\n",
       "      <td>-0.793509</td>\n",
       "    </tr>\n",
       "  </tbody>\n",
       "</table>\n",
       "</div>"
      ],
      "text/plain": [
       "   positive  negative  objective\n",
       "0 -0.380789 -0.477391  -0.375100\n",
       "1 -0.842574 -0.952627  -0.793509"
      ]
     },
     "execution_count": 21,
     "metadata": {},
     "output_type": "execute_result"
    }
   ],
   "source": [
    "S = pd.DataFrame(StandardScaler().fit_transform(scores), columns=['positive', 'negative', 'objective'])\n",
    "S.head(2)"
   ]
  },
  {
   "cell_type": "code",
   "execution_count": 22,
   "id": "7ed6d56b",
   "metadata": {},
   "outputs": [],
   "source": [
    "decision = [np.argmax(row) for i, row in S.iterrows()]\n",
    "prediction = [(S.columns[x], S.iloc[i][x]) for i, x in enumerate(decision)]"
   ]
  },
  {
   "cell_type": "code",
   "execution_count": 23,
   "id": "bd91b497",
   "metadata": {},
   "outputs": [
    {
     "data": {
      "text/plain": [
       "[('objective', -0.3751001476557547), ('objective', -0.7935087440889592)]"
      ]
     },
     "execution_count": 23,
     "metadata": {},
     "output_type": "execute_result"
    }
   ],
   "source": [
    "prediction[:2]"
   ]
  },
  {
   "cell_type": "code",
   "execution_count": 24,
   "id": "25e86a0f",
   "metadata": {},
   "outputs": [
    {
     "data": {
      "text/plain": [
       "array([4, 4])"
      ]
     },
     "execution_count": 24,
     "metadata": {},
     "output_type": "execute_result"
    }
   ],
   "source": [
    "P.stars.values[:2]"
   ]
  },
  {
   "cell_type": "markdown",
   "id": "65309181",
   "metadata": {},
   "source": [
    "### Interpretation 1: discretize scores in the stars range"
   ]
  },
  {
   "cell_type": "code",
   "execution_count": 25,
   "id": "1b776ab5",
   "metadata": {},
   "outputs": [],
   "source": [
    "import matplotlib.pyplot as plt"
   ]
  },
  {
   "cell_type": "code",
   "execution_count": 26,
   "id": "3d7992bd",
   "metadata": {},
   "outputs": [
    {
     "data": {
      "image/png": "[encoded data removed]",
      "text/plain": [
       "<Figure size 432x288 with 1 Axes>"
      ]
     },
     "metadata": {
      "needs_background": "light"
     },
     "output_type": "display_data"
    }
   ],
   "source": [
    "S.boxplot(column=['positive', 'negative', 'objective'])\n",
    "plt.show()"
   ]
  },
  {
   "cell_type": "markdown",
   "id": "c07a23bd",
   "metadata": {},
   "source": [
    "#### Option 1: use percentiles"
   ]
  },
  {
   "cell_type": "code",
   "execution_count": 27,
   "id": "cef2f39f",
   "metadata": {},
   "outputs": [
    {
     "data": {
      "text/plain": [
       "array([-0.72834831, -0.5033804 , -0.050468  ,  0.5546313 ])"
      ]
     },
     "execution_count": 27,
     "metadata": {},
     "output_type": "execute_result"
    }
   ],
   "source": [
    "positive_thresholds = np.percentile(S.positive, [20, 40, 60, 80])\n",
    "positive_thresholds"
   ]
  },
  {
   "cell_type": "markdown",
   "id": "078e7ec8",
   "metadata": {},
   "source": [
    "#### Option 2: clustering"
   ]
  },
  {
   "cell_type": "code",
   "execution_count": 28,
   "id": "6acbba56",
   "metadata": {},
   "outputs": [],
   "source": [
    "from sklearn.cluster import KMeans\n",
    "from collections import defaultdict"
   ]
  },
  {
   "cell_type": "code",
   "execution_count": 29,
   "id": "0dac7589",
   "metadata": {},
   "outputs": [],
   "source": [
    "k = {'positive': KMeans(n_clusters=5), 'negative': KMeans(n_clusters=5), 'objective': KMeans(n_clusters=5)}\n",
    "clusters = dict([(lab, km.fit_predict(S[lab].values.reshape(-1, 1))) for lab, km in k.items()])"
   ]
  },
  {
   "cell_type": "code",
   "execution_count": 30,
   "id": "78910645",
   "metadata": {},
   "outputs": [
    {
     "data": {
      "text/plain": [
       "array([1, 3, 3, 3, 3, 1, 4, 4, 4, 4, 3, 3, 3, 3, 1, 2, 3, 1, 3, 3, 1, 1,\n",
       "       4, 1, 4, 3, 3, 2, 3, 3, 3, 3, 1, 4, 1, 4, 3, 0, 4, 0, 1, 3, 3, 1,\n",
       "       0, 4, 4, 3, 3, 3, 3, 3, 3, 4, 3, 3, 1, 3, 4, 0, 0, 1, 4, 3, 1, 1,\n",
       "       3, 0, 1, 3, 2, 3, 3, 4, 3, 3, 4, 1, 3, 0, 3, 3, 4, 1, 3, 3, 4, 1,\n",
       "       0, 3, 4, 1, 3, 0, 3, 1, 1, 3, 3, 3, 4, 3, 3, 1, 0, 1, 4, 3, 1, 4,\n",
       "       3, 0, 4, 1, 1, 1, 3, 0, 4, 4, 3, 0, 3, 3, 4, 4, 3, 1, 1, 1, 0, 3,\n",
       "       4, 3, 4, 3, 3, 3, 1, 3, 3, 3, 2, 3, 4, 4, 4, 1, 3, 3, 0, 0, 3, 3,\n",
       "       1, 3, 4, 3, 3, 1, 3, 3, 1, 2, 3, 1, 3, 0, 0, 3, 3, 3, 3, 3, 1, 1,\n",
       "       0, 3, 4, 3, 0, 1, 3, 4, 3, 0, 3, 3, 4, 0, 4, 1, 1, 3, 1, 1, 1, 1,\n",
       "       1, 1], dtype=int32)"
      ]
     },
     "execution_count": 30,
     "metadata": {},
     "output_type": "execute_result"
    }
   ],
   "source": [
    "clusters['positive']"
   ]
  },
  {
   "cell_type": "markdown",
   "id": "99adce7a",
   "metadata": {},
   "source": [
    "Now, we sort cluster labels according to their mean corresponding value and we map them to stars"
   ]
  },
  {
   "cell_type": "code",
   "execution_count": 31,
   "id": "b9b3cc0a",
   "metadata": {},
   "outputs": [],
   "source": [
    "cluster_scores = defaultdict(lambda: defaultdict(list))\n",
    "for label, cl in clusters.items():\n",
    "    label_scores = S[label].values\n",
    "    for i, item in enumerate(cl):\n",
    "        cl_score = label_scores[i]\n",
    "        cluster_scores[label][item].append(cl_score)"
   ]
  },
  {
   "cell_type": "code",
   "execution_count": 32,
   "id": "a1ebb90f",
   "metadata": {},
   "outputs": [],
   "source": [
    "def map_clusters(label, cluster_scores):\n",
    "    k = cluster_scores[label]\n",
    "    means = {}\n",
    "    for key, value in k.items():\n",
    "        means[key] = np.array(value).mean()\n",
    "    sorted_labels = [x for x, y in sorted(means.items(), key=lambda x: x[1])]\n",
    "    return dict([(x, i+1) for i, x in enumerate(sorted_labels)])"
   ]
  },
  {
   "cell_type": "code",
   "execution_count": 33,
   "id": "d8e740ea",
   "metadata": {},
   "outputs": [
    {
     "data": {
      "text/plain": [
       "{3: 1, 1: 2, 4: 3, 0: 4, 2: 5}"
      ]
     },
     "execution_count": 33,
     "metadata": {},
     "output_type": "execute_result"
    }
   ],
   "source": [
    "map_clusters('positive', cluster_scores)"
   ]
  },
  {
   "cell_type": "code",
   "execution_count": null,
   "id": "c7df2206",
   "metadata": {},
   "outputs": [],
   "source": [
    "cluster_map = dict([(label, map_clusters(label, cluster_scores)) for label in ['positive', 'negative', 'objective']])"
   ]
  },
  {
   "cell_type": "markdown",
   "id": "01ad1aed",
   "metadata": {},
   "source": [
    "### Final prediction (without using clusters)"
   ]
  },
  {
   "cell_type": "code",
   "execution_count": 34,
   "id": "d32ead9d",
   "metadata": {},
   "outputs": [],
   "source": [
    "thresholds = dict([(lab, np.median(S[lab].values)) for lab in ['positive', 'negative', 'objective']])"
   ]
  },
  {
   "cell_type": "code",
   "execution_count": 39,
   "id": "71024310",
   "metadata": {},
   "outputs": [],
   "source": [
    "y_true = P.stars.values\n",
    "y_pred = []\n",
    "for i, (prediction_label, value) in enumerate(prediction):\n",
    "    if prediction_label == 'objective':\n",
    "        if value > thresholds[prediction_label]:\n",
    "            prediction_value = 4\n",
    "        else:\n",
    "            prediction_value = 3\n",
    "    elif prediction_label == 'positive':\n",
    "        if value > thresholds[prediction_label]:\n",
    "            prediction_value = 5\n",
    "        else:\n",
    "            prediction_value = 4\n",
    "    else:\n",
    "        if value > thresholds[prediction_label]:\n",
    "            prediction_value = 2\n",
    "        else:\n",
    "            prediction_value = 1\n",
    "    y_pred.append(prediction_value)"
   ]
  },
  {
   "cell_type": "markdown",
   "id": "201ed175",
   "metadata": {},
   "source": [
    "### Evaluation"
   ]
  },
  {
   "cell_type": "code",
   "execution_count": 40,
   "id": "f237b5d6",
   "metadata": {},
   "outputs": [],
   "source": [
    "from sklearn.metrics import confusion_matrix, ConfusionMatrixDisplay, classification_report"
   ]
  },
  {
   "cell_type": "code",
   "execution_count": 41,
   "id": "a972d350",
   "metadata": {},
   "outputs": [
    {
     "data": {
      "image/png": "[encoded data removed]",
      "text/plain": [
       "<Figure size 432x288 with 2 Axes>"
      ]
     },
     "metadata": {
      "needs_background": "light"
     },
     "output_type": "display_data"
    }
   ],
   "source": [
    "cmd = ConfusionMatrixDisplay.from_predictions(y_true, y_pred)\n",
    "plt.show()"
   ]
  },
  {
   "cell_type": "code",
   "execution_count": 42,
   "id": "8153175a",
   "metadata": {},
   "outputs": [
    {
     "name": "stdout",
     "output_type": "stream",
     "text": [
      "              precision    recall  f1-score   support\n",
      "\n",
      "           1       0.25      0.19      0.22        31\n",
      "           2       0.14      0.26      0.18        19\n",
      "           3       0.04      0.04      0.04        26\n",
      "           4       0.18      0.31      0.23        36\n",
      "           5       0.55      0.33      0.41        88\n",
      "\n",
      "    accuracy                           0.26       200\n",
      "   macro avg       0.23      0.23      0.22       200\n",
      "weighted avg       0.33      0.26      0.28       200\n",
      "\n"
     ]
    }
   ],
   "source": [
    "print(classification_report(y_true, y_pred))"
   ]
  },
  {
   "cell_type": "markdown",
   "id": "bdeeac35",
   "metadata": {},
   "source": [
    "### Manually check errors"
   ]
  },
  {
   "cell_type": "code",
   "execution_count": 43,
   "id": "0c34fd14",
   "metadata": {},
   "outputs": [],
   "source": [
    "from IPython.display import display"
   ]
  },
  {
   "cell_type": "code",
   "execution_count": 44,
   "id": "5de2fdd5",
   "metadata": {},
   "outputs": [
    {
     "data": {
      "text/plain": [
       "[(0, 4, 3), (1, 4, 3), (2, 5, 3)]"
      ]
     },
     "execution_count": 44,
     "metadata": {},
     "output_type": "execute_result"
    }
   ],
   "source": [
    "errors = [(i, true, y_pred[i]) for i, true in enumerate(y_true) if true != y_pred[i]]\n",
    "errors[:3]"
   ]
  },
  {
   "cell_type": "code",
   "execution_count": 45,
   "id": "5cf00163",
   "metadata": {},
   "outputs": [
    {
     "name": "stdout",
     "output_type": "stream",
     "text": [
      "4\n",
      "Red, white and bleu salad was super yum and a great addition to the menu! This location was clean with great service and food served at just the right temps! Kids pizza is always a hit too with lots of great side dish options for the kiddos! When I'm on this side of town, this will definitely be a spot I'll hit up again!\n"
     ]
    },
    {
     "data": {
      "text/html": [
       "<div>\n",
       "<style scoped>\n",
       "    .dataframe tbody tr th:only-of-type {\n",
       "        vertical-align: middle;\n",
       "    }\n",
       "\n",
       "    .dataframe tbody tr th {\n",
       "        vertical-align: top;\n",
       "    }\n",
       "\n",
       "    .dataframe thead th {\n",
       "        text-align: right;\n",
       "    }\n",
       "</style>\n",
       "<table border=\"1\" class=\"dataframe\">\n",
       "  <thead>\n",
       "    <tr style=\"text-align: right;\">\n",
       "      <th></th>\n",
       "      <th>positive</th>\n",
       "      <th>negative</th>\n",
       "      <th>objective</th>\n",
       "    </tr>\n",
       "  </thead>\n",
       "  <tbody>\n",
       "    <tr>\n",
       "      <th>0</th>\n",
       "      <td>-0.380789</td>\n",
       "      <td>-0.477391</td>\n",
       "      <td>-0.3751</td>\n",
       "    </tr>\n",
       "  </tbody>\n",
       "</table>\n",
       "</div>"
      ],
      "text/plain": [
       "   positive  negative  objective\n",
       "0 -0.380789 -0.477391    -0.3751"
      ]
     },
     "metadata": {},
     "output_type": "display_data"
    },
    {
     "name": "stdout",
     "output_type": "stream",
     "text": [
      "4\n",
      "Ate the momos during the momo crawl.. Was the best of the lot so decided to eat at the restaurant and the mutton thali was equally good!!\n"
     ]
    },
    {
     "data": {
      "text/html": [
       "<div>\n",
       "<style scoped>\n",
       "    .dataframe tbody tr th:only-of-type {\n",
       "        vertical-align: middle;\n",
       "    }\n",
       "\n",
       "    .dataframe tbody tr th {\n",
       "        vertical-align: top;\n",
       "    }\n",
       "\n",
       "    .dataframe thead th {\n",
       "        text-align: right;\n",
       "    }\n",
       "</style>\n",
       "<table border=\"1\" class=\"dataframe\">\n",
       "  <thead>\n",
       "    <tr style=\"text-align: right;\">\n",
       "      <th></th>\n",
       "      <th>positive</th>\n",
       "      <th>negative</th>\n",
       "      <th>objective</th>\n",
       "    </tr>\n",
       "  </thead>\n",
       "  <tbody>\n",
       "    <tr>\n",
       "      <th>1</th>\n",
       "      <td>-0.842574</td>\n",
       "      <td>-0.952627</td>\n",
       "      <td>-0.793509</td>\n",
       "    </tr>\n",
       "  </tbody>\n",
       "</table>\n",
       "</div>"
      ],
      "text/plain": [
       "   positive  negative  objective\n",
       "1 -0.842574 -0.952627  -0.793509"
      ]
     },
     "metadata": {},
     "output_type": "display_data"
    },
    {
     "name": "stdout",
     "output_type": "stream",
     "text": [
      "5\n",
      "Pizza here made my night... Good people and great pizza. They can do anything you ask with a great attitude!\n"
     ]
    },
    {
     "data": {
      "text/html": [
       "<div>\n",
       "<style scoped>\n",
       "    .dataframe tbody tr th:only-of-type {\n",
       "        vertical-align: middle;\n",
       "    }\n",
       "\n",
       "    .dataframe tbody tr th {\n",
       "        vertical-align: top;\n",
       "    }\n",
       "\n",
       "    .dataframe thead th {\n",
       "        text-align: right;\n",
       "    }\n",
       "</style>\n",
       "<table border=\"1\" class=\"dataframe\">\n",
       "  <thead>\n",
       "    <tr style=\"text-align: right;\">\n",
       "      <th></th>\n",
       "      <th>positive</th>\n",
       "      <th>negative</th>\n",
       "      <th>objective</th>\n",
       "    </tr>\n",
       "  </thead>\n",
       "  <tbody>\n",
       "    <tr>\n",
       "      <th>2</th>\n",
       "      <td>-0.835328</td>\n",
       "      <td>-0.942552</td>\n",
       "      <td>-0.794673</td>\n",
       "    </tr>\n",
       "  </tbody>\n",
       "</table>\n",
       "</div>"
      ],
      "text/plain": [
       "   positive  negative  objective\n",
       "2 -0.835328 -0.942552  -0.794673"
      ]
     },
     "metadata": {},
     "output_type": "display_data"
    },
    {
     "name": "stdout",
     "output_type": "stream",
     "text": [
      "5\n",
      "Great brisket sandwich as claimed. Weird that it's a gas station\\/ hipster bbq lunch spot\\/ hallmark store carwash.\n"
     ]
    },
    {
     "data": {
      "text/html": [
       "<div>\n",
       "<style scoped>\n",
       "    .dataframe tbody tr th:only-of-type {\n",
       "        vertical-align: middle;\n",
       "    }\n",
       "\n",
       "    .dataframe tbody tr th {\n",
       "        vertical-align: top;\n",
       "    }\n",
       "\n",
       "    .dataframe thead th {\n",
       "        text-align: right;\n",
       "    }\n",
       "</style>\n",
       "<table border=\"1\" class=\"dataframe\">\n",
       "  <thead>\n",
       "    <tr style=\"text-align: right;\">\n",
       "      <th></th>\n",
       "      <th>positive</th>\n",
       "      <th>negative</th>\n",
       "      <th>objective</th>\n",
       "    </tr>\n",
       "  </thead>\n",
       "  <tbody>\n",
       "    <tr>\n",
       "      <th>3</th>\n",
       "      <td>-1.060807</td>\n",
       "      <td>-0.866138</td>\n",
       "      <td>-0.891016</td>\n",
       "    </tr>\n",
       "  </tbody>\n",
       "</table>\n",
       "</div>"
      ],
      "text/plain": [
       "   positive  negative  objective\n",
       "3 -1.060807 -0.866138  -0.891016"
      ]
     },
     "metadata": {},
     "output_type": "display_data"
    },
    {
     "name": "stdout",
     "output_type": "stream",
     "text": [
      "5\n",
      "Interesting food, great atmosphere, and great service. I like this place because there really isn't anything like this around the Charlotte area. I will definitely be coming back!\n",
      "\n",
      "Oh, and MILK BREAD.\n"
     ]
    },
    {
     "data": {
      "text/html": [
       "<div>\n",
       "<style scoped>\n",
       "    .dataframe tbody tr th:only-of-type {\n",
       "        vertical-align: middle;\n",
       "    }\n",
       "\n",
       "    .dataframe tbody tr th {\n",
       "        vertical-align: top;\n",
       "    }\n",
       "\n",
       "    .dataframe thead th {\n",
       "        text-align: right;\n",
       "    }\n",
       "</style>\n",
       "<table border=\"1\" class=\"dataframe\">\n",
       "  <thead>\n",
       "    <tr style=\"text-align: right;\">\n",
       "      <th></th>\n",
       "      <th>positive</th>\n",
       "      <th>negative</th>\n",
       "      <th>objective</th>\n",
       "    </tr>\n",
       "  </thead>\n",
       "  <tbody>\n",
       "    <tr>\n",
       "      <th>4</th>\n",
       "      <td>-0.618295</td>\n",
       "      <td>-0.947468</td>\n",
       "      <td>-0.723793</td>\n",
       "    </tr>\n",
       "  </tbody>\n",
       "</table>\n",
       "</div>"
      ],
      "text/plain": [
       "   positive  negative  objective\n",
       "4 -0.618295 -0.947468  -0.723793"
      ]
     },
     "metadata": {},
     "output_type": "display_data"
    },
    {
     "name": "stdout",
     "output_type": "stream",
     "text": [
      "1\n",
      "Boarded my English Mastiff here over New Year's.  They're closed on Sunday, so even though we got home on Sunday, we had to leave him here another day (and pay for another day) because we couldn't pick him up until Monday morning.  He got a complimentary bath with his boarding.  When I did pick him up, once I got him in the car I noticed a very pungent, musky odor.  Couldn't figure out what it was until I got him home the smell was so bad I had to leave the car windows open to air it out.  He had a greenish \"material\" on the underside of his tail and around his butt.  I tried to clean it off.  Let him outside and he had watery diarrhea.  I called them and asked why the stinky green stuff wasn't noticed by their groomer.  They said he did notice it and figured he had \"rolled in something\".  They didn't clean it all off and sent him home that way.  It was anal gland secretions, and I'm thinking why a groomer, working at a veterinary hospital wouldn't recognize that and go grab a tech somewhere (they're all over the place) to have them take a look.  I had to bring my poor dog all the way back over there, making me late for work, for something they never should've sent him home with.  They did express his anal glands, but brought him out to me still stinky and leaving oily green stuff where he was sitting in their lobby.  I asked the gal behind the counter \"what is this\", she tried to tell me it was soap.  I asked for a tissue and wiped it up, showed it to her and asked \"does this look like soap?  Would you like to tell me if you think it smells like soap?\"  They AGAIN took him back and cleaned him off.  Then prescribed anti-diarrheal medication as they noticed he had bad diarrhea while he was back there.  I will never board my dog here again.\n"
     ]
    },
    {
     "data": {
      "text/html": [
       "<div>\n",
       "<style scoped>\n",
       "    .dataframe tbody tr th:only-of-type {\n",
       "        vertical-align: middle;\n",
       "    }\n",
       "\n",
       "    .dataframe tbody tr th {\n",
       "        vertical-align: top;\n",
       "    }\n",
       "\n",
       "    .dataframe thead th {\n",
       "        text-align: right;\n",
       "    }\n",
       "</style>\n",
       "<table border=\"1\" class=\"dataframe\">\n",
       "  <thead>\n",
       "    <tr style=\"text-align: right;\">\n",
       "      <th></th>\n",
       "      <th>positive</th>\n",
       "      <th>negative</th>\n",
       "      <th>objective</th>\n",
       "    </tr>\n",
       "  </thead>\n",
       "  <tbody>\n",
       "    <tr>\n",
       "      <th>7</th>\n",
       "      <td>0.284121</td>\n",
       "      <td>2.74972</td>\n",
       "      <td>1.929034</td>\n",
       "    </tr>\n",
       "  </tbody>\n",
       "</table>\n",
       "</div>"
      ],
      "text/plain": [
       "   positive  negative  objective\n",
       "7  0.284121   2.74972   1.929034"
      ]
     },
     "metadata": {},
     "output_type": "display_data"
    },
    {
     "name": "stdout",
     "output_type": "stream",
     "text": [
      "2\n",
      "Granted everyone raves about this place , not everyone's experience will be the same. I go to a different place for my nails but I heard good things about this place from yelp and my boyfriend who occasionally gets a pedicure from here. Since we were next door at Costco my sister had mentioned she had wanted to get her nails done for her birthday so I recommended that we go there when we were done. \n",
      "\n",
      "Upon arriving we signed in and waited for our turn. I decided to change the polish on my nails so I signed in for both of us. We waited about 5 min and they took me first so I got my polish changed. A few minutes later a different girl had seated my sister and started on her full set. She placed the tip on and started to cut them and then said a different girl would finish and left her sitting there. I don't mind that u needed to leave early she should have just waited for someone to complete the job one time. As I got up from the nail dryer I saw her siting there and asked what's going on. The nail tech next to her said she would finish as soon as she was done with the job she was doing but didn't and started on a pedicure. Meanwhile my sister has been waiting at least 15 min meanwhile the guy there was going to start on someone else when he noticed that she needed to have her nails finished. So he took her and finished them and then she has to go to a third person for the paint and design. \n",
      "\n",
      "I'm rating it 2 stars based on there  service. Granted we did come in at 5 pm and they close at 6 but they were still taking walk ins well after we came in. The wait wasn't the issue for me. I don't mind  waiting just don't have us sit down and then wait for someone to come finish the job. I would have rated 1 star but they offered me water. I'm glad my nail tech is private and I don't have to come to nail establishments like this.\n"
     ]
    },
    {
     "data": {
      "text/html": [
       "<div>\n",
       "<style scoped>\n",
       "    .dataframe tbody tr th:only-of-type {\n",
       "        vertical-align: middle;\n",
       "    }\n",
       "\n",
       "    .dataframe tbody tr th {\n",
       "        vertical-align: top;\n",
       "    }\n",
       "\n",
       "    .dataframe thead th {\n",
       "        text-align: right;\n",
       "    }\n",
       "</style>\n",
       "<table border=\"1\" class=\"dataframe\">\n",
       "  <thead>\n",
       "    <tr style=\"text-align: right;\">\n",
       "      <th></th>\n",
       "      <th>positive</th>\n",
       "      <th>negative</th>\n",
       "      <th>objective</th>\n",
       "    </tr>\n",
       "  </thead>\n",
       "  <tbody>\n",
       "    <tr>\n",
       "      <th>9</th>\n",
       "      <td>0.664934</td>\n",
       "      <td>0.942819</td>\n",
       "      <td>2.421654</td>\n",
       "    </tr>\n",
       "  </tbody>\n",
       "</table>\n",
       "</div>"
      ],
      "text/plain": [
       "   positive  negative  objective\n",
       "9  0.664934  0.942819   2.421654"
      ]
     },
     "metadata": {},
     "output_type": "display_data"
    },
    {
     "name": "stdout",
     "output_type": "stream",
     "text": [
      "1\n",
      "2Nd time eating here today.1st time was great but now i dont think so. My husband ordered chicken fried steak. The gravey tasted very strange. He scraped most of it off & continued 2eat. I ate1\\/2half of 1 of his hashbrown paties which had some gravey on it . W\\/in 30 mins i threw up ,w\\/in 1hr he also did the same & has not stoped all day vomiting.  I finally called & spoke 2a manager, the lady was nice &suggested  i call the operarions manager. I said no . but u need thow that gravey shit away!!\n"
     ]
    },
    {
     "data": {
      "text/html": [
       "<div>\n",
       "<style scoped>\n",
       "    .dataframe tbody tr th:only-of-type {\n",
       "        vertical-align: middle;\n",
       "    }\n",
       "\n",
       "    .dataframe tbody tr th {\n",
       "        vertical-align: top;\n",
       "    }\n",
       "\n",
       "    .dataframe thead th {\n",
       "        text-align: right;\n",
       "    }\n",
       "</style>\n",
       "<table border=\"1\" class=\"dataframe\">\n",
       "  <thead>\n",
       "    <tr style=\"text-align: right;\">\n",
       "      <th></th>\n",
       "      <th>positive</th>\n",
       "      <th>negative</th>\n",
       "      <th>objective</th>\n",
       "    </tr>\n",
       "  </thead>\n",
       "  <tbody>\n",
       "    <tr>\n",
       "      <th>11</th>\n",
       "      <td>-0.454808</td>\n",
       "      <td>-0.332253</td>\n",
       "      <td>-0.180218</td>\n",
       "    </tr>\n",
       "  </tbody>\n",
       "</table>\n",
       "</div>"
      ],
      "text/plain": [
       "    positive  negative  objective\n",
       "11 -0.454808 -0.332253  -0.180218"
      ]
     },
     "metadata": {},
     "output_type": "display_data"
    },
    {
     "name": "stdout",
     "output_type": "stream",
     "text": [
      "5\n",
      "Tara has been a great resource during my pregnancy! We feel so confident and prepared for birth. Thankful we found this class and recommend it highly!!!\n"
     ]
    },
    {
     "data": {
      "text/html": [
       "<div>\n",
       "<style scoped>\n",
       "    .dataframe tbody tr th:only-of-type {\n",
       "        vertical-align: middle;\n",
       "    }\n",
       "\n",
       "    .dataframe tbody tr th {\n",
       "        vertical-align: top;\n",
       "    }\n",
       "\n",
       "    .dataframe thead th {\n",
       "        text-align: right;\n",
       "    }\n",
       "</style>\n",
       "<table border=\"1\" class=\"dataframe\">\n",
       "  <thead>\n",
       "    <tr style=\"text-align: right;\">\n",
       "      <th></th>\n",
       "      <th>positive</th>\n",
       "      <th>negative</th>\n",
       "      <th>objective</th>\n",
       "    </tr>\n",
       "  </thead>\n",
       "  <tbody>\n",
       "    <tr>\n",
       "      <th>12</th>\n",
       "      <td>-0.653261</td>\n",
       "      <td>-0.738432</td>\n",
       "      <td>-0.777156</td>\n",
       "    </tr>\n",
       "  </tbody>\n",
       "</table>\n",
       "</div>"
      ],
      "text/plain": [
       "    positive  negative  objective\n",
       "12 -0.653261 -0.738432  -0.777156"
      ]
     },
     "metadata": {},
     "output_type": "display_data"
    },
    {
     "name": "stdout",
     "output_type": "stream",
     "text": [
      "5\n",
      "We went yesterday as a family and had a complete blast!! I would definitely recommend going! We had Kelli as a guide and she was fantastic, she kept us all laughing and was really knowledgable about the river and history surrounding it.\n"
     ]
    },
    {
     "data": {
      "text/html": [
       "<div>\n",
       "<style scoped>\n",
       "    .dataframe tbody tr th:only-of-type {\n",
       "        vertical-align: middle;\n",
       "    }\n",
       "\n",
       "    .dataframe tbody tr th {\n",
       "        vertical-align: top;\n",
       "    }\n",
       "\n",
       "    .dataframe thead th {\n",
       "        text-align: right;\n",
       "    }\n",
       "</style>\n",
       "<table border=\"1\" class=\"dataframe\">\n",
       "  <thead>\n",
       "    <tr style=\"text-align: right;\">\n",
       "      <th></th>\n",
       "      <th>positive</th>\n",
       "      <th>negative</th>\n",
       "      <th>objective</th>\n",
       "    </tr>\n",
       "  </thead>\n",
       "  <tbody>\n",
       "    <tr>\n",
       "      <th>13</th>\n",
       "      <td>-0.624701</td>\n",
       "      <td>-0.73838</td>\n",
       "      <td>-0.647744</td>\n",
       "    </tr>\n",
       "  </tbody>\n",
       "</table>\n",
       "</div>"
      ],
      "text/plain": [
       "    positive  negative  objective\n",
       "13 -0.624701  -0.73838  -0.647744"
      ]
     },
     "metadata": {},
     "output_type": "display_data"
    },
    {
     "name": "stdout",
     "output_type": "stream",
     "text": [
      "1\n",
      "Another case of the Emperor's New Clothes.  Someone of the artsy set decided that this relatively good but overpriced fare was great pizza and all the lemmings followed suit.  Will anyone tell the Emperor he has no clothes?  The limited hours, no delivery, and lack of dining area add to the snob appeal.  Don't be taken in.\n"
     ]
    },
    {
     "data": {
      "text/html": [
       "<div>\n",
       "<style scoped>\n",
       "    .dataframe tbody tr th:only-of-type {\n",
       "        vertical-align: middle;\n",
       "    }\n",
       "\n",
       "    .dataframe tbody tr th {\n",
       "        vertical-align: top;\n",
       "    }\n",
       "\n",
       "    .dataframe thead th {\n",
       "        text-align: right;\n",
       "    }\n",
       "</style>\n",
       "<table border=\"1\" class=\"dataframe\">\n",
       "  <thead>\n",
       "    <tr style=\"text-align: right;\">\n",
       "      <th></th>\n",
       "      <th>positive</th>\n",
       "      <th>negative</th>\n",
       "      <th>objective</th>\n",
       "    </tr>\n",
       "  </thead>\n",
       "  <tbody>\n",
       "    <tr>\n",
       "      <th>16</th>\n",
       "      <td>-0.725374</td>\n",
       "      <td>-0.703882</td>\n",
       "      <td>-0.554003</td>\n",
       "    </tr>\n",
       "  </tbody>\n",
       "</table>\n",
       "</div>"
      ],
      "text/plain": [
       "    positive  negative  objective\n",
       "16 -0.725374 -0.703882  -0.554003"
      ]
     },
     "metadata": {},
     "output_type": "display_data"
    },
    {
     "name": "stdout",
     "output_type": "stream",
     "text": [
      "2\n",
      "It has been over 4 years I have not been to Boston Pizza, but I decided to try it out again after all my other options were closed. So I know if you come to Boston Pizza you should have the pizza, but I really wanted pasta. So I ordered plain penne with marinara sauce. In the menu it says juicy fresh cherry tomatoes with fresh grounded basil and oregano with a side of frilled garlic panini bread. Let me tell you this was not the plate that was described in the menu. I swear the sauce was Classico sauce you buy at your grocery store. There was no fresh grounded basil. The bread was a grilled toast not a panini. Overall it sucked. I now remember why I did not like it 4 years ago. I will definitely not make the same mistake again.\n"
     ]
    },
    {
     "data": {
      "text/html": [
       "<div>\n",
       "<style scoped>\n",
       "    .dataframe tbody tr th:only-of-type {\n",
       "        vertical-align: middle;\n",
       "    }\n",
       "\n",
       "    .dataframe tbody tr th {\n",
       "        vertical-align: top;\n",
       "    }\n",
       "\n",
       "    .dataframe thead th {\n",
       "        text-align: right;\n",
       "    }\n",
       "</style>\n",
       "<table border=\"1\" class=\"dataframe\">\n",
       "  <thead>\n",
       "    <tr style=\"text-align: right;\">\n",
       "      <th></th>\n",
       "      <th>positive</th>\n",
       "      <th>negative</th>\n",
       "      <th>objective</th>\n",
       "    </tr>\n",
       "  </thead>\n",
       "  <tbody>\n",
       "    <tr>\n",
       "      <th>17</th>\n",
       "      <td>-0.241362</td>\n",
       "      <td>0.181794</td>\n",
       "      <td>0.321431</td>\n",
       "    </tr>\n",
       "  </tbody>\n",
       "</table>\n",
       "</div>"
      ],
      "text/plain": [
       "    positive  negative  objective\n",
       "17 -0.241362  0.181794   0.321431"
      ]
     },
     "metadata": {},
     "output_type": "display_data"
    },
    {
     "name": "stdout",
     "output_type": "stream",
     "text": [
      "5\n",
      "This is your home town cleaners.  The staff usually remembers my name and they are always friendly.  I haven't check around to compare prices, but the price that I pay always seems fair.  It is also in a super convenient location.\n"
     ]
    },
    {
     "data": {
      "text/html": [
       "<div>\n",
       "<style scoped>\n",
       "    .dataframe tbody tr th:only-of-type {\n",
       "        vertical-align: middle;\n",
       "    }\n",
       "\n",
       "    .dataframe tbody tr th {\n",
       "        vertical-align: top;\n",
       "    }\n",
       "\n",
       "    .dataframe thead th {\n",
       "        text-align: right;\n",
       "    }\n",
       "</style>\n",
       "<table border=\"1\" class=\"dataframe\">\n",
       "  <thead>\n",
       "    <tr style=\"text-align: right;\">\n",
       "      <th></th>\n",
       "      <th>positive</th>\n",
       "      <th>negative</th>\n",
       "      <th>objective</th>\n",
       "    </tr>\n",
       "  </thead>\n",
       "  <tbody>\n",
       "    <tr>\n",
       "      <th>18</th>\n",
       "      <td>-0.773439</td>\n",
       "      <td>-0.71877</td>\n",
       "      <td>-0.593216</td>\n",
       "    </tr>\n",
       "  </tbody>\n",
       "</table>\n",
       "</div>"
      ],
      "text/plain": [
       "    positive  negative  objective\n",
       "18 -0.773439  -0.71877  -0.593216"
      ]
     },
     "metadata": {},
     "output_type": "display_data"
    },
    {
     "name": "stdout",
     "output_type": "stream",
     "text": [
      "1\n",
      "Came on Valentine's Day night having pre-bought tickets. We ended up waiting in line for over ten minutes (missing the beginning of our movie) because all of their automated ticketing machines were broken and they weren't properly staffed at the ticket counters. Just to pick up tickets that we had already bought!!! Seriously annoying from a theater that usually is so enjoyable.\n"
     ]
    },
    {
     "data": {
      "text/html": [
       "<div>\n",
       "<style scoped>\n",
       "    .dataframe tbody tr th:only-of-type {\n",
       "        vertical-align: middle;\n",
       "    }\n",
       "\n",
       "    .dataframe tbody tr th {\n",
       "        vertical-align: top;\n",
       "    }\n",
       "\n",
       "    .dataframe thead th {\n",
       "        text-align: right;\n",
       "    }\n",
       "</style>\n",
       "<table border=\"1\" class=\"dataframe\">\n",
       "  <thead>\n",
       "    <tr style=\"text-align: right;\">\n",
       "      <th></th>\n",
       "      <th>positive</th>\n",
       "      <th>negative</th>\n",
       "      <th>objective</th>\n",
       "    </tr>\n",
       "  </thead>\n",
       "  <tbody>\n",
       "    <tr>\n",
       "      <th>19</th>\n",
       "      <td>-0.743652</td>\n",
       "      <td>-0.471294</td>\n",
       "      <td>-0.390603</td>\n",
       "    </tr>\n",
       "  </tbody>\n",
       "</table>\n",
       "</div>"
      ],
      "text/plain": [
       "    positive  negative  objective\n",
       "19 -0.743652 -0.471294  -0.390603"
      ]
     },
     "metadata": {},
     "output_type": "display_data"
    },
    {
     "name": "stdout",
     "output_type": "stream",
     "text": [
      "5\n",
      "Wow, we've been missing out, should've tried this a lot sooner. Our NYE at home featured pizza and tiki drinks. My bf called for take-out (I figured it would be at least an hour wait), and they told him 20 minutes, nice! It wasn't hard to find, though definitely not in a well-traveled area. Actually, had it been across Rio Salado in the Tempe Marketplace, we would not have tried it, because I HATE HATE HATE Tempe Marketplace, but that's another story. \n",
      "\n",
      "We got the thin crust option with italian sausage, mushrooms and olives. So good!! like other reviewers said, the sauce is unbelievable. I wish I knew their secret. \n",
      "\n",
      "What a great find in our (relative) neighborhood. I can't wait to try Spinato's again.\n"
     ]
    },
    {
     "data": {
      "text/html": [
       "<div>\n",
       "<style scoped>\n",
       "    .dataframe tbody tr th:only-of-type {\n",
       "        vertical-align: middle;\n",
       "    }\n",
       "\n",
       "    .dataframe tbody tr th {\n",
       "        vertical-align: top;\n",
       "    }\n",
       "\n",
       "    .dataframe thead th {\n",
       "        text-align: right;\n",
       "    }\n",
       "</style>\n",
       "<table border=\"1\" class=\"dataframe\">\n",
       "  <thead>\n",
       "    <tr style=\"text-align: right;\">\n",
       "      <th></th>\n",
       "      <th>positive</th>\n",
       "      <th>negative</th>\n",
       "      <th>objective</th>\n",
       "    </tr>\n",
       "  </thead>\n",
       "  <tbody>\n",
       "    <tr>\n",
       "      <th>20</th>\n",
       "      <td>0.079033</td>\n",
       "      <td>0.769344</td>\n",
       "      <td>0.04218</td>\n",
       "    </tr>\n",
       "  </tbody>\n",
       "</table>\n",
       "</div>"
      ],
      "text/plain": [
       "    positive  negative  objective\n",
       "20  0.079033  0.769344    0.04218"
      ]
     },
     "metadata": {},
     "output_type": "display_data"
    },
    {
     "name": "stdout",
     "output_type": "stream",
     "text": [
      "3\n",
      "Very small but cozy restaurant. I liked cocktail menu made with a real book as a part of cover.  Cocktail was good (I asked something like mojito which wasn't on the menu) but not out of the world...\n",
      "\n",
      "I thought pasta was overpriced.... same for mashed potatoes.. I guess the flavor of food was pretty well-balanced but not very memorable..especially for the price.\n",
      "\n",
      "Complimentary bread was warm and OK.\n"
     ]
    },
    {
     "data": {
      "text/html": [
       "<div>\n",
       "<style scoped>\n",
       "    .dataframe tbody tr th:only-of-type {\n",
       "        vertical-align: middle;\n",
       "    }\n",
       "\n",
       "    .dataframe tbody tr th {\n",
       "        vertical-align: top;\n",
       "    }\n",
       "\n",
       "    .dataframe thead th {\n",
       "        text-align: right;\n",
       "    }\n",
       "</style>\n",
       "<table border=\"1\" class=\"dataframe\">\n",
       "  <thead>\n",
       "    <tr style=\"text-align: right;\">\n",
       "      <th></th>\n",
       "      <th>positive</th>\n",
       "      <th>negative</th>\n",
       "      <th>objective</th>\n",
       "    </tr>\n",
       "  </thead>\n",
       "  <tbody>\n",
       "    <tr>\n",
       "      <th>21</th>\n",
       "      <td>-0.065038</td>\n",
       "      <td>-0.380964</td>\n",
       "      <td>-0.361868</td>\n",
       "    </tr>\n",
       "  </tbody>\n",
       "</table>\n",
       "</div>"
      ],
      "text/plain": [
       "    positive  negative  objective\n",
       "21 -0.065038 -0.380964  -0.361868"
      ]
     },
     "metadata": {},
     "output_type": "display_data"
    },
    {
     "name": "stdout",
     "output_type": "stream",
     "text": [
      "4\n",
      "Super good food!\n",
      "My friends and I ordered 2 lbs of shrimp, 2 lbs of crab legs, 2 Cajun fries, sweet potato fries, calamari, and fried catfish!\n",
      "\n",
      "We ate it allllll up.\n",
      "\n",
      "My only concern was that the crabs were a bit difficult to crack but then again I'm used to cracking the Alaskan crab legs.\n",
      "\n",
      "But other than the difficult cracking, the mix of all the seasonings was just a great fusion of flavors to really individualize their seafood from anything I've ever tried.\n",
      "\n",
      "And it was not primetime when we went so service was pretty fast!\n",
      "Hope they're on top of their game when it is busy!\n"
     ]
    },
    {
     "data": {
      "text/html": [
       "<div>\n",
       "<style scoped>\n",
       "    .dataframe tbody tr th:only-of-type {\n",
       "        vertical-align: middle;\n",
       "    }\n",
       "\n",
       "    .dataframe tbody tr th {\n",
       "        vertical-align: top;\n",
       "    }\n",
       "\n",
       "    .dataframe thead th {\n",
       "        text-align: right;\n",
       "    }\n",
       "</style>\n",
       "<table border=\"1\" class=\"dataframe\">\n",
       "  <thead>\n",
       "    <tr style=\"text-align: right;\">\n",
       "      <th></th>\n",
       "      <th>positive</th>\n",
       "      <th>negative</th>\n",
       "      <th>objective</th>\n",
       "    </tr>\n",
       "  </thead>\n",
       "  <tbody>\n",
       "    <tr>\n",
       "      <th>23</th>\n",
       "      <td>-0.315625</td>\n",
       "      <td>0.298195</td>\n",
       "      <td>0.057142</td>\n",
       "    </tr>\n",
       "  </tbody>\n",
       "</table>\n",
       "</div>"
      ],
      "text/plain": [
       "    positive  negative  objective\n",
       "23 -0.315625  0.298195   0.057142"
      ]
     },
     "metadata": {},
     "output_type": "display_data"
    },
    {
     "name": "stdout",
     "output_type": "stream",
     "text": [
      "1\n",
      "Allegiant is a disaster.  Their fares are cheap, but not cheap enough.  Our flight out of Las Vegas was scheduled to leave at 11:00 am.  We boarded and were told to de-plane because of an electrical problem.  After four hours, we get back on, only to be told that the problem hasn't been resolved.  Off again.  Eventually, we're told they are getting us a different plane and that we will take off at 6:00.  We'll see.\n",
      "\n",
      "The issue is not that there was a problem with an Allegiant flight.  The issue is the consistency with which this airline has problems.  I do not believe it is an exaggeration to say that half of its flights are delayed or cancelled.\n",
      "\n",
      "Update:  6:30 pm and the boarding estimate is now 7:50 pm.\n"
     ]
    },
    {
     "data": {
      "text/html": [
       "<div>\n",
       "<style scoped>\n",
       "    .dataframe tbody tr th:only-of-type {\n",
       "        vertical-align: middle;\n",
       "    }\n",
       "\n",
       "    .dataframe tbody tr th {\n",
       "        vertical-align: top;\n",
       "    }\n",
       "\n",
       "    .dataframe thead th {\n",
       "        text-align: right;\n",
       "    }\n",
       "</style>\n",
       "<table border=\"1\" class=\"dataframe\">\n",
       "  <thead>\n",
       "    <tr style=\"text-align: right;\">\n",
       "      <th></th>\n",
       "      <th>positive</th>\n",
       "      <th>negative</th>\n",
       "      <th>objective</th>\n",
       "    </tr>\n",
       "  </thead>\n",
       "  <tbody>\n",
       "    <tr>\n",
       "      <th>25</th>\n",
       "      <td>-0.702637</td>\n",
       "      <td>0.286569</td>\n",
       "      <td>0.022643</td>\n",
       "    </tr>\n",
       "  </tbody>\n",
       "</table>\n",
       "</div>"
      ],
      "text/plain": [
       "    positive  negative  objective\n",
       "25 -0.702637  0.286569   0.022643"
      ]
     },
     "metadata": {},
     "output_type": "display_data"
    },
    {
     "name": "stdout",
     "output_type": "stream",
     "text": [
      "5\n",
      "The food here is fantastic and the service is exceptional. Certainly a 3.5 star \"diamond in the rough!\" I can't wait to dine here again!\n"
     ]
    },
    {
     "data": {
      "text/html": [
       "<div>\n",
       "<style scoped>\n",
       "    .dataframe tbody tr th:only-of-type {\n",
       "        vertical-align: middle;\n",
       "    }\n",
       "\n",
       "    .dataframe tbody tr th {\n",
       "        vertical-align: top;\n",
       "    }\n",
       "\n",
       "    .dataframe thead th {\n",
       "        text-align: right;\n",
       "    }\n",
       "</style>\n",
       "<table border=\"1\" class=\"dataframe\">\n",
       "  <thead>\n",
       "    <tr style=\"text-align: right;\">\n",
       "      <th></th>\n",
       "      <th>positive</th>\n",
       "      <th>negative</th>\n",
       "      <th>objective</th>\n",
       "    </tr>\n",
       "  </thead>\n",
       "  <tbody>\n",
       "    <tr>\n",
       "      <th>26</th>\n",
       "      <td>-0.962742</td>\n",
       "      <td>-0.595243</td>\n",
       "      <td>-0.761024</td>\n",
       "    </tr>\n",
       "  </tbody>\n",
       "</table>\n",
       "</div>"
      ],
      "text/plain": [
       "    positive  negative  objective\n",
       "26 -0.962742 -0.595243  -0.761024"
      ]
     },
     "metadata": {},
     "output_type": "display_data"
    },
    {
     "name": "stdout",
     "output_type": "stream",
     "text": [
      "2\n",
      "I went here twice and after leaving with a \"eh\" feeling after both visits decided it was time to switch to another dermatologist.\n",
      "\n",
      "My first visit I specifically requested Dr. Woodson herself after reading a lot of neutral to negative reviews for her PA and NP. After filling out a ton of paperwork (most of which was not very welcoming- I think I signed about three different forms promising I would definitely pay my bill or be sent to a debt collector. I get they want their money, but what a way to greet your new patients!) I went into the exam room and lo and behold PA John Notabartolo walks into the room. Since I was already there I just went with it. He examined my skin (I went in for some mild adult acne) for less than ten seconds, told me basic skin care advice that I've known about for years, and then wrote me some prescriptions. The whole visit with him lasted about three minutes. No real suggestions or overview of my current skin care regime, no explanation of the possible cause of my condition or what level of severity it was. Basically the only thing I couldn't have found on my own online was the prescriptions.\n",
      "\n",
      "As another reviewer noted, they tend to prescribe the newest brand name drugs and of course both of mine were brand name and expensive! Thankfully my insurance covered mine with a reasonable co-pay, but definitely double check with your insurance before getting them filled. The prescriptions did help my skin, which was awesome. I went back for a follow up as they'd requested to see me in a few weeks and after waiting for over forty minutes past my appointment time was taken back with very little apology for the wait. Again another three minute visit with the PA with another very hurried skin examination and I left wondering why I'd wasted two hours of my time and another doctor's bill.\n",
      "\n",
      "Only one lady at the front desk was very friendly; everyone one else in the office seemed less than thrilled to be there. They did call with appointment reminders, which was nice, however the first time they left a voicemail with the time but not the date, and the second time they left a voicemail with one time and then called back and left another voicemail with a different time. Their bills also have the quickest due date I have ever seen. They give you 10 days from when they print the bill until the due date- but they seem to take 1-2 days to mail the bill (so 8 days left), plus 1-2 days in the mail (6 days left), so by the time you get it you have about 4-5 days to get it in the mail to make sure it arrives on time. You better hope you're not on vacation when they send the bill!\n",
      "\n",
      "The last in the chain of events to make me move on to a new doctor was when I called to reschedule my third appointment and was put on hold for 7 minutes and then was greeted by a bored sounding woman who barely apologized for the wait. Instead of rescheduling I just asked her to cancel. I hung up and smiled as I realized I'd successfully broken up with my doctor.\n",
      "\n",
      "Nothing this office did was horrible, but nothing they did was great either. The little moments of what I consider mediocre medical care and blase customer service just added up for me to the point where I didn't want to deal with it anymore. There's plenty of dermatology offices in this city and given the low reviews dating back for years I feel like this office isn't that interested in improving their business- so I'll just take mine elsewhere.\n"
     ]
    },
    {
     "data": {
      "text/html": [
       "<div>\n",
       "<style scoped>\n",
       "    .dataframe tbody tr th:only-of-type {\n",
       "        vertical-align: middle;\n",
       "    }\n",
       "\n",
       "    .dataframe tbody tr th {\n",
       "        vertical-align: top;\n",
       "    }\n",
       "\n",
       "    .dataframe thead th {\n",
       "        text-align: right;\n",
       "    }\n",
       "</style>\n",
       "<table border=\"1\" class=\"dataframe\">\n",
       "  <thead>\n",
       "    <tr style=\"text-align: right;\">\n",
       "      <th></th>\n",
       "      <th>positive</th>\n",
       "      <th>negative</th>\n",
       "      <th>objective</th>\n",
       "    </tr>\n",
       "  </thead>\n",
       "  <tbody>\n",
       "    <tr>\n",
       "      <th>27</th>\n",
       "      <td>4.321043</td>\n",
       "      <td>4.306551</td>\n",
       "      <td>5.051427</td>\n",
       "    </tr>\n",
       "  </tbody>\n",
       "</table>\n",
       "</div>"
      ],
      "text/plain": [
       "    positive  negative  objective\n",
       "27  4.321043  4.306551   5.051427"
      ]
     },
     "metadata": {},
     "output_type": "display_data"
    },
    {
     "name": "stdout",
     "output_type": "stream",
     "text": [
      "5\n",
      "Every time I come here the food is perfect !!!!! One of my favorite sushi spots in vegas! They make it right every time always happy to come here\n"
     ]
    },
    {
     "data": {
      "text/html": [
       "<div>\n",
       "<style scoped>\n",
       "    .dataframe tbody tr th:only-of-type {\n",
       "        vertical-align: middle;\n",
       "    }\n",
       "\n",
       "    .dataframe tbody tr th {\n",
       "        vertical-align: top;\n",
       "    }\n",
       "\n",
       "    .dataframe thead th {\n",
       "        text-align: right;\n",
       "    }\n",
       "</style>\n",
       "<table border=\"1\" class=\"dataframe\">\n",
       "  <thead>\n",
       "    <tr style=\"text-align: right;\">\n",
       "      <th></th>\n",
       "      <th>positive</th>\n",
       "      <th>negative</th>\n",
       "      <th>objective</th>\n",
       "    </tr>\n",
       "  </thead>\n",
       "  <tbody>\n",
       "    <tr>\n",
       "      <th>29</th>\n",
       "      <td>-0.648073</td>\n",
       "      <td>-0.907664</td>\n",
       "      <td>-0.745711</td>\n",
       "    </tr>\n",
       "  </tbody>\n",
       "</table>\n",
       "</div>"
      ],
      "text/plain": [
       "    positive  negative  objective\n",
       "29 -0.648073 -0.907664  -0.745711"
      ]
     },
     "metadata": {},
     "output_type": "display_data"
    },
    {
     "name": "stdout",
     "output_type": "stream",
     "text": [
      "5\n",
      "Very nice seats, the sound is ok, good prices I still prefer the theater out in Robertson or even lowes\n"
     ]
    },
    {
     "data": {
      "text/html": [
       "<div>\n",
       "<style scoped>\n",
       "    .dataframe tbody tr th:only-of-type {\n",
       "        vertical-align: middle;\n",
       "    }\n",
       "\n",
       "    .dataframe tbody tr th {\n",
       "        vertical-align: top;\n",
       "    }\n",
       "\n",
       "    .dataframe thead th {\n",
       "        text-align: right;\n",
       "    }\n",
       "</style>\n",
       "<table border=\"1\" class=\"dataframe\">\n",
       "  <thead>\n",
       "    <tr style=\"text-align: right;\">\n",
       "      <th></th>\n",
       "      <th>positive</th>\n",
       "      <th>negative</th>\n",
       "      <th>objective</th>\n",
       "    </tr>\n",
       "  </thead>\n",
       "  <tbody>\n",
       "    <tr>\n",
       "      <th>30</th>\n",
       "      <td>-0.537345</td>\n",
       "      <td>-0.785046</td>\n",
       "      <td>-0.849449</td>\n",
       "    </tr>\n",
       "  </tbody>\n",
       "</table>\n",
       "</div>"
      ],
      "text/plain": [
       "    positive  negative  objective\n",
       "30 -0.537345 -0.785046  -0.849449"
      ]
     },
     "metadata": {},
     "output_type": "display_data"
    },
    {
     "name": "stdout",
     "output_type": "stream",
     "text": [
      "5\n",
      "Oh my.. I had the best meatball sandwich I've ever had in my entire life at this restaurant. We were visiting only for a few days and I wish they had another restaurant like this local to me here in Virginia. This was a five-star place in my opinion. I loved it. Everything was delicious\n"
     ]
    },
    {
     "data": {
      "text/html": [
       "<div>\n",
       "<style scoped>\n",
       "    .dataframe tbody tr th:only-of-type {\n",
       "        vertical-align: middle;\n",
       "    }\n",
       "\n",
       "    .dataframe tbody tr th {\n",
       "        vertical-align: top;\n",
       "    }\n",
       "\n",
       "    .dataframe thead th {\n",
       "        text-align: right;\n",
       "    }\n",
       "</style>\n",
       "<table border=\"1\" class=\"dataframe\">\n",
       "  <thead>\n",
       "    <tr style=\"text-align: right;\">\n",
       "      <th></th>\n",
       "      <th>positive</th>\n",
       "      <th>negative</th>\n",
       "      <th>objective</th>\n",
       "    </tr>\n",
       "  </thead>\n",
       "  <tbody>\n",
       "    <tr>\n",
       "      <th>31</th>\n",
       "      <td>-0.547099</td>\n",
       "      <td>-0.692212</td>\n",
       "      <td>-0.612702</td>\n",
       "    </tr>\n",
       "  </tbody>\n",
       "</table>\n",
       "</div>"
      ],
      "text/plain": [
       "    positive  negative  objective\n",
       "31 -0.547099 -0.692212  -0.612702"
      ]
     },
     "metadata": {},
     "output_type": "display_data"
    },
    {
     "name": "stdout",
     "output_type": "stream",
     "text": [
      "5\n",
      "My husband and I went here on our honeymoon to enjoy a nice dinner, not to mention that we both love chef Ramsey. Eating at one of his restaurants was a bucket list item for us. We were not disappointed at all.  The food was beyond perfection and the service was spot on!!  The beef Wellington and vanilla cheesecake were to die for. If I could give Gordon Ramsey Steak in Las Vegas 10 stars I would!!\n"
     ]
    },
    {
     "data": {
      "text/html": [
       "<div>\n",
       "<style scoped>\n",
       "    .dataframe tbody tr th:only-of-type {\n",
       "        vertical-align: middle;\n",
       "    }\n",
       "\n",
       "    .dataframe tbody tr th {\n",
       "        vertical-align: top;\n",
       "    }\n",
       "\n",
       "    .dataframe thead th {\n",
       "        text-align: right;\n",
       "    }\n",
       "</style>\n",
       "<table border=\"1\" class=\"dataframe\">\n",
       "  <thead>\n",
       "    <tr style=\"text-align: right;\">\n",
       "      <th></th>\n",
       "      <th>positive</th>\n",
       "      <th>negative</th>\n",
       "      <th>objective</th>\n",
       "    </tr>\n",
       "  </thead>\n",
       "  <tbody>\n",
       "    <tr>\n",
       "      <th>32</th>\n",
       "      <td>-0.398199</td>\n",
       "      <td>-0.682102</td>\n",
       "      <td>-0.537305</td>\n",
       "    </tr>\n",
       "  </tbody>\n",
       "</table>\n",
       "</div>"
      ],
      "text/plain": [
       "    positive  negative  objective\n",
       "32 -0.398199 -0.682102  -0.537305"
      ]
     },
     "metadata": {},
     "output_type": "display_data"
    },
    {
     "name": "stdout",
     "output_type": "stream",
     "text": [
      "4\n",
      "I had never tried Colombian food before, so I wasn't sure what to order.  (My palate is as American as it gets.)  The staff was very helpful, and I decided on the Churrasco de Pollo.  It was savory and delicious, the side of plantains added a mildly sweet twist, as well.  I will certainly eat there again.  The food is prepared while you wait, so it's best to call in your order.\n"
     ]
    },
    {
     "data": {
      "text/html": [
       "<div>\n",
       "<style scoped>\n",
       "    .dataframe tbody tr th:only-of-type {\n",
       "        vertical-align: middle;\n",
       "    }\n",
       "\n",
       "    .dataframe tbody tr th {\n",
       "        vertical-align: top;\n",
       "    }\n",
       "\n",
       "    .dataframe thead th {\n",
       "        text-align: right;\n",
       "    }\n",
       "</style>\n",
       "<table border=\"1\" class=\"dataframe\">\n",
       "  <thead>\n",
       "    <tr style=\"text-align: right;\">\n",
       "      <th></th>\n",
       "      <th>positive</th>\n",
       "      <th>negative</th>\n",
       "      <th>objective</th>\n",
       "    </tr>\n",
       "  </thead>\n",
       "  <tbody>\n",
       "    <tr>\n",
       "      <th>34</th>\n",
       "      <td>-0.036474</td>\n",
       "      <td>-0.191845</td>\n",
       "      <td>-0.375205</td>\n",
       "    </tr>\n",
       "  </tbody>\n",
       "</table>\n",
       "</div>"
      ],
      "text/plain": [
       "    positive  negative  objective\n",
       "34 -0.036474 -0.191845  -0.375205"
      ]
     },
     "metadata": {},
     "output_type": "display_data"
    },
    {
     "name": "stdout",
     "output_type": "stream",
     "text": [
      "4\n",
      "Came here for my first Yelp Office Hours last Thursday. I was very impressed with the layout of the place. It is very open and you don't feel like you are sitting on top of the stranger next to you. I feel like most coffee shops are really small and claustrophobic, ie Starbucks.  Lola's bucks that trend.\n",
      "\n",
      "Dallas G, Richard Z and I decided to make a cameo here before our #ThaiThursday at Yupha's.  I didn't want to ruin lunch with a coffee, so I went with a yerba mate tea.  It wasn't served the traditional way with a bombilla, but it still tasted good.  The Yelp group occupied a large table in the center of the space.  Good conversation was had by all and new friends were made.  Sarah G brought some baked goods that knocked my socks off.  I have already requested that I get cookies sent to me on a weekly basis. Crosses fingers.  I will surely be returning and I heard they are opening a second location at 3rd Ave and Roosevelt.\n",
      "\n",
      "Thanks Gabi for picking up the tab.  Can't wait to make the next Office Hours.\n"
     ]
    },
    {
     "data": {
      "text/html": [
       "<div>\n",
       "<style scoped>\n",
       "    .dataframe tbody tr th:only-of-type {\n",
       "        vertical-align: middle;\n",
       "    }\n",
       "\n",
       "    .dataframe tbody tr th {\n",
       "        vertical-align: top;\n",
       "    }\n",
       "\n",
       "    .dataframe thead th {\n",
       "        text-align: right;\n",
       "    }\n",
       "</style>\n",
       "<table border=\"1\" class=\"dataframe\">\n",
       "  <thead>\n",
       "    <tr style=\"text-align: right;\">\n",
       "      <th></th>\n",
       "      <th>positive</th>\n",
       "      <th>negative</th>\n",
       "      <th>objective</th>\n",
       "    </tr>\n",
       "  </thead>\n",
       "  <tbody>\n",
       "    <tr>\n",
       "      <th>35</th>\n",
       "      <td>0.351269</td>\n",
       "      <td>0.699218</td>\n",
       "      <td>0.50754</td>\n",
       "    </tr>\n",
       "  </tbody>\n",
       "</table>\n",
       "</div>"
      ],
      "text/plain": [
       "    positive  negative  objective\n",
       "35  0.351269  0.699218    0.50754"
      ]
     },
     "metadata": {},
     "output_type": "display_data"
    },
    {
     "name": "stdout",
     "output_type": "stream",
     "text": [
      "3\n",
      "Voting three stars for now, because it hasn't been opened for a full week so I still want to give it the benefit of the doubt and return due to my love of sushi and Lakewood. \n",
      "\n",
      "Atmosphere was nice, I love the Lakewood vibe and this place fits right in.\n",
      "\n",
      "Drinks were good, strong. One of the perks of waiting is getting just a little tipsy. \n",
      "\n",
      "My waitress Natalie was nice, can't really blame her for the long wait, but she did everything we asked.\n",
      "\n",
      "Three problems.\n",
      "\n",
      "The wait: Now I don't want to be too hard on them because I can imagine how difficult opening week is before everyone gets into the groove of things. But we ordered our appetizer ( which is two veggie egg rolls ) and two maki rolls ( one Lakewood maki and the one Crab Rangoon) at the same time. It took about twenty mins for the appetizer and then another forty mins on top of that for our maki rolls. If the wait will be this long I can only hope they will provide some type of munchies to keep us distracted. Like wontons and dip or something. \n",
      "\n",
      "The Food: The veggie egg rolls came out soggy in the middle, it was good but the inside was way softer than any egg roll I've ever tasted, as if the oil was not hot enough so the egg roll oil sucked up the oil a little more.  But it was good, 3\\/5. When the maki rolls finally came out, my maki felt like it was sitting out a little longer than the other one but it was good just wished I could taste the heat from it being deep fried. \n",
      "\n",
      "The TV: My only personal pet peeve is too have a variety of channels going on multi TVs not only one game going on, especially if we are loosing, winning no problem, I love being apart of the hype. But when the wait for food is over a hour long and shark week is on, never change shark week. \n",
      "\n",
      "Looking forward to coming back, hoping the wait isn't as long and I can tune into shark week.\n"
     ]
    },
    {
     "data": {
      "text/html": [
       "<div>\n",
       "<style scoped>\n",
       "    .dataframe tbody tr th:only-of-type {\n",
       "        vertical-align: middle;\n",
       "    }\n",
       "\n",
       "    .dataframe tbody tr th {\n",
       "        vertical-align: top;\n",
       "    }\n",
       "\n",
       "    .dataframe thead th {\n",
       "        text-align: right;\n",
       "    }\n",
       "</style>\n",
       "<table border=\"1\" class=\"dataframe\">\n",
       "  <thead>\n",
       "    <tr style=\"text-align: right;\">\n",
       "      <th></th>\n",
       "      <th>positive</th>\n",
       "      <th>negative</th>\n",
       "      <th>objective</th>\n",
       "    </tr>\n",
       "  </thead>\n",
       "  <tbody>\n",
       "    <tr>\n",
       "      <th>37</th>\n",
       "      <td>2.207957</td>\n",
       "      <td>2.918496</td>\n",
       "      <td>2.249562</td>\n",
       "    </tr>\n",
       "  </tbody>\n",
       "</table>\n",
       "</div>"
      ],
      "text/plain": [
       "    positive  negative  objective\n",
       "37  2.207957  2.918496   2.249562"
      ]
     },
     "metadata": {},
     "output_type": "display_data"
    },
    {
     "name": "stdout",
     "output_type": "stream",
     "text": [
      "3\n",
      "Average B-dubs but better than most around NEO. Stopped in tonight before the Lutheran West FB game and everything was good. The orders for our party of 8 came out hot, reasonably fast, and most importantly...correct. The service was also really good for being as busy as they were. I still think b-dubs is overpriced though. We really only come here bc it's convenient before football games.\n"
     ]
    },
    {
     "data": {
      "text/html": [
       "<div>\n",
       "<style scoped>\n",
       "    .dataframe tbody tr th:only-of-type {\n",
       "        vertical-align: middle;\n",
       "    }\n",
       "\n",
       "    .dataframe tbody tr th {\n",
       "        vertical-align: top;\n",
       "    }\n",
       "\n",
       "    .dataframe thead th {\n",
       "        text-align: right;\n",
       "    }\n",
       "</style>\n",
       "<table border=\"1\" class=\"dataframe\">\n",
       "  <thead>\n",
       "    <tr style=\"text-align: right;\">\n",
       "      <th></th>\n",
       "      <th>positive</th>\n",
       "      <th>negative</th>\n",
       "      <th>objective</th>\n",
       "    </tr>\n",
       "  </thead>\n",
       "  <tbody>\n",
       "    <tr>\n",
       "      <th>38</th>\n",
       "      <td>0.242215</td>\n",
       "      <td>-0.478892</td>\n",
       "      <td>-0.424368</td>\n",
       "    </tr>\n",
       "  </tbody>\n",
       "</table>\n",
       "</div>"
      ],
      "text/plain": [
       "    positive  negative  objective\n",
       "38  0.242215 -0.478892  -0.424368"
      ]
     },
     "metadata": {},
     "output_type": "display_data"
    },
    {
     "name": "stdout",
     "output_type": "stream",
     "text": [
      "4\n",
      "I booked a deluxe suite in vdara for this past weekend for two nights and I realllllllly like this hotel. \n",
      "\n",
      "I was a little worried at first because it is a little off the strip behind cosmo but honestly, its not an issue at all. You can walk through cosmo super easily and get to the strip and everything else. And if you can't you were probably going to cab it anyways.\n",
      "\n",
      "I love modern and clean and windows and open space. And this weekend when I came they already had up their christmas decor which I also loved! It made me feel so happy!!!!! :D \n",
      "\n",
      "The suite opened up and theres the kitchen area with the microwave, sink, refrigerator and stove. (Lets be real we weren't actually gonna cook ) but the fridge is good for storing alchyyy ;)\n",
      "\n",
      "I liked this room bc we had a few girls in there and they had plenty of mirrors both full length and normal. The bathroom was nice. a separate tub and shower with a sliding door. to separate it from the bedroom. The couch turns into a sofa bed as well so you could fit 5 girls in there somewhat comfortably. Our room was a freaking mess though hahaha. \n",
      "\n",
      "Will be back in two weeks! woot!\n"
     ]
    },
    {
     "data": {
      "text/html": [
       "<div>\n",
       "<style scoped>\n",
       "    .dataframe tbody tr th:only-of-type {\n",
       "        vertical-align: middle;\n",
       "    }\n",
       "\n",
       "    .dataframe tbody tr th {\n",
       "        vertical-align: top;\n",
       "    }\n",
       "\n",
       "    .dataframe thead th {\n",
       "        text-align: right;\n",
       "    }\n",
       "</style>\n",
       "<table border=\"1\" class=\"dataframe\">\n",
       "  <thead>\n",
       "    <tr style=\"text-align: right;\">\n",
       "      <th></th>\n",
       "      <th>positive</th>\n",
       "      <th>negative</th>\n",
       "      <th>objective</th>\n",
       "    </tr>\n",
       "  </thead>\n",
       "  <tbody>\n",
       "    <tr>\n",
       "      <th>39</th>\n",
       "      <td>1.05505</td>\n",
       "      <td>0.562656</td>\n",
       "      <td>0.810924</td>\n",
       "    </tr>\n",
       "  </tbody>\n",
       "</table>\n",
       "</div>"
      ],
      "text/plain": [
       "    positive  negative  objective\n",
       "39   1.05505  0.562656   0.810924"
      ]
     },
     "metadata": {},
     "output_type": "display_data"
    },
    {
     "name": "stdout",
     "output_type": "stream",
     "text": [
      "4\n",
      "I like the food, it was really fresh. The service was also on point and it was a full house. The beef is really good, any of them. The fried rice feeds about 3 ppl. I love this place, I come here often. And always bring ppl here who come to Vegas to visit, they all love it. The price is also very reasonable. For 2 ppl I usually spend about $40 but leave STUFFED.\n"
     ]
    },
    {
     "data": {
      "text/html": [
       "<div>\n",
       "<style scoped>\n",
       "    .dataframe tbody tr th:only-of-type {\n",
       "        vertical-align: middle;\n",
       "    }\n",
       "\n",
       "    .dataframe tbody tr th {\n",
       "        vertical-align: top;\n",
       "    }\n",
       "\n",
       "    .dataframe thead th {\n",
       "        text-align: right;\n",
       "    }\n",
       "</style>\n",
       "<table border=\"1\" class=\"dataframe\">\n",
       "  <thead>\n",
       "    <tr style=\"text-align: right;\">\n",
       "      <th></th>\n",
       "      <th>positive</th>\n",
       "      <th>negative</th>\n",
       "      <th>objective</th>\n",
       "    </tr>\n",
       "  </thead>\n",
       "  <tbody>\n",
       "    <tr>\n",
       "      <th>40</th>\n",
       "      <td>0.109371</td>\n",
       "      <td>-0.596303</td>\n",
       "      <td>-0.385022</td>\n",
       "    </tr>\n",
       "  </tbody>\n",
       "</table>\n",
       "</div>"
      ],
      "text/plain": [
       "    positive  negative  objective\n",
       "40  0.109371 -0.596303  -0.385022"
      ]
     },
     "metadata": {},
     "output_type": "display_data"
    },
    {
     "name": "stdout",
     "output_type": "stream",
     "text": [
      "4\n",
      "Pasión por Arnalado. Tengo una amiga que vive cerca y cada vez que voy a su casa es visita obligada.\n",
      "\n",
      "La relación precio-calidad es una cosa increíble. No existe, en serio. Febrero 2016 y el kilo está 130 pe. La heladería está a la altura de las grandes marcas y los precios parecen del 2008. \n",
      "\n",
      "Eso sí, hay que ir preparados porque se llena y mucho. Un día de calor puede haber cola hasta afuera y seguir toda la cuadra. Pero no se desesperen, porque Arnaldo es taaaan groso que te atienden rapidísimo, avanzás enseguida y, de todas formas, la espera lo vale!\n"
     ]
    },
    {
     "data": {
      "text/html": [
       "<div>\n",
       "<style scoped>\n",
       "    .dataframe tbody tr th:only-of-type {\n",
       "        vertical-align: middle;\n",
       "    }\n",
       "\n",
       "    .dataframe tbody tr th {\n",
       "        vertical-align: top;\n",
       "    }\n",
       "\n",
       "    .dataframe thead th {\n",
       "        text-align: right;\n",
       "    }\n",
       "</style>\n",
       "<table border=\"1\" class=\"dataframe\">\n",
       "  <thead>\n",
       "    <tr style=\"text-align: right;\">\n",
       "      <th></th>\n",
       "      <th>positive</th>\n",
       "      <th>negative</th>\n",
       "      <th>objective</th>\n",
       "    </tr>\n",
       "  </thead>\n",
       "  <tbody>\n",
       "    <tr>\n",
       "      <th>41</th>\n",
       "      <td>-1.216634</td>\n",
       "      <td>-1.014491</td>\n",
       "      <td>-1.001663</td>\n",
       "    </tr>\n",
       "  </tbody>\n",
       "</table>\n",
       "</div>"
      ],
      "text/plain": [
       "    positive  negative  objective\n",
       "41 -1.216634 -1.014491  -1.001663"
      ]
     },
     "metadata": {},
     "output_type": "display_data"
    },
    {
     "name": "stdout",
     "output_type": "stream",
     "text": [
      "3\n",
      "This show wasn't super extravagant but Lance Burton is one of the classic icons in the magian world.  He's funny and entertaining.  This is just one of those shows that you should do once on one of your vegas visits.  When i watched the show there were a lot of kids in the audience and a couple of loud drunks so be aware of your surroundings :o)\n"
     ]
    },
    {
     "data": {
      "text/html": [
       "<div>\n",
       "<style scoped>\n",
       "    .dataframe tbody tr th:only-of-type {\n",
       "        vertical-align: middle;\n",
       "    }\n",
       "\n",
       "    .dataframe tbody tr th {\n",
       "        vertical-align: top;\n",
       "    }\n",
       "\n",
       "    .dataframe thead th {\n",
       "        text-align: right;\n",
       "    }\n",
       "</style>\n",
       "<table border=\"1\" class=\"dataframe\">\n",
       "  <thead>\n",
       "    <tr style=\"text-align: right;\">\n",
       "      <th></th>\n",
       "      <th>positive</th>\n",
       "      <th>negative</th>\n",
       "      <th>objective</th>\n",
       "    </tr>\n",
       "  </thead>\n",
       "  <tbody>\n",
       "    <tr>\n",
       "      <th>42</th>\n",
       "      <td>-0.60527</td>\n",
       "      <td>-0.46732</td>\n",
       "      <td>-0.555424</td>\n",
       "    </tr>\n",
       "  </tbody>\n",
       "</table>\n",
       "</div>"
      ],
      "text/plain": [
       "    positive  negative  objective\n",
       "42  -0.60527  -0.46732  -0.555424"
      ]
     },
     "metadata": {},
     "output_type": "display_data"
    },
    {
     "name": "stdout",
     "output_type": "stream",
     "text": [
      "5\n",
      "This place has an awesome vibe. Brett Rubin's B-day bash this Sat nite after 11, with Brett spinning! A must attend... Brett is the best in LV for deep House & TechHouse.\n",
      "\n",
      "Plus the grill is open, and Lando and Gabe promise an awesome experience. You've been warned; miss this one and you'll kick yourself! He spins at DISTRIKT.\n"
     ]
    },
    {
     "data": {
      "text/html": [
       "<div>\n",
       "<style scoped>\n",
       "    .dataframe tbody tr th:only-of-type {\n",
       "        vertical-align: middle;\n",
       "    }\n",
       "\n",
       "    .dataframe tbody tr th {\n",
       "        vertical-align: top;\n",
       "    }\n",
       "\n",
       "    .dataframe thead th {\n",
       "        text-align: right;\n",
       "    }\n",
       "</style>\n",
       "<table border=\"1\" class=\"dataframe\">\n",
       "  <thead>\n",
       "    <tr style=\"text-align: right;\">\n",
       "      <th></th>\n",
       "      <th>positive</th>\n",
       "      <th>negative</th>\n",
       "      <th>objective</th>\n",
       "    </tr>\n",
       "  </thead>\n",
       "  <tbody>\n",
       "    <tr>\n",
       "      <th>43</th>\n",
       "      <td>-0.349207</td>\n",
       "      <td>-0.583552</td>\n",
       "      <td>-0.656689</td>\n",
       "    </tr>\n",
       "  </tbody>\n",
       "</table>\n",
       "</div>"
      ],
      "text/plain": [
       "    positive  negative  objective\n",
       "43 -0.349207 -0.583552  -0.656689"
      ]
     },
     "metadata": {},
     "output_type": "display_data"
    },
    {
     "name": "stdout",
     "output_type": "stream",
     "text": [
      "4\n",
      "An absolute favourite of mine....I don't understand why this place isn't getting better reviews. I love love Thai food and Pi Toms does it better than any place I have ever been to, hands down. \n",
      "\n",
      "I usually order Pi Tom's own version of Pad Thai....they also have a 'Traditional' version too but I prefer the restaurants own and it is delicious. The ingredients for both dishes are practically the same but Pi Toms dish uses a lighter, more subtle sauce (not ketchup like most traditional pad thai dishes) leaving the flavours of the other ingredients to be fully appreciated. They give pretty decent portion sizes....I rarely finish the entire thing but makes for a great lunch the next day...\n",
      "\n",
      "The mango salad here is to die for! Really fresh ingredients makes this salad extra special and they use a delicious sweet dressing. \n",
      "\n",
      "There are many Pi Toms around Toronto but this one is my personal favourite...its on a nice, fairly quiet street just off Yonge and Wellesley , and has a cute patio complete with romantic lighting, perfect for a dinner date or a relaxing night with a friend. \n",
      " \n",
      "Great service, great place, even better food... what more can you ask for?..\n"
     ]
    },
    {
     "data": {
      "text/html": [
       "<div>\n",
       "<style scoped>\n",
       "    .dataframe tbody tr th:only-of-type {\n",
       "        vertical-align: middle;\n",
       "    }\n",
       "\n",
       "    .dataframe tbody tr th {\n",
       "        vertical-align: top;\n",
       "    }\n",
       "\n",
       "    .dataframe thead th {\n",
       "        text-align: right;\n",
       "    }\n",
       "</style>\n",
       "<table border=\"1\" class=\"dataframe\">\n",
       "  <thead>\n",
       "    <tr style=\"text-align: right;\">\n",
       "      <th></th>\n",
       "      <th>positive</th>\n",
       "      <th>negative</th>\n",
       "      <th>objective</th>\n",
       "    </tr>\n",
       "  </thead>\n",
       "  <tbody>\n",
       "    <tr>\n",
       "      <th>44</th>\n",
       "      <td>2.627937</td>\n",
       "      <td>0.771676</td>\n",
       "      <td>1.02522</td>\n",
       "    </tr>\n",
       "  </tbody>\n",
       "</table>\n",
       "</div>"
      ],
      "text/plain": [
       "    positive  negative  objective\n",
       "44  2.627937  0.771676    1.02522"
      ]
     },
     "metadata": {},
     "output_type": "display_data"
    },
    {
     "name": "stdout",
     "output_type": "stream",
     "text": [
      "2\n",
      "We have been going here for several years and every time the only thing consistent is the rude staff behind the front desk.\n",
      "My grandson was visiting from Cali for spring break and wanted to go bowling yesterday.  I am on their email list and had received a coupon for two hours of bowling with shoes, food, etc for $7.99.  I asked for the special rate and was very rudely told that it doesn't apply during spring break and that lanes were $3+ and shoes were $4.50.  When I asked about who has spring break now he rudely replied Paradise Valley schools.  Really????  This was Scottsdale, wtf?\n",
      "So I paid over $30 for three of us to bowl.  When I asked for two lanes (one w\\/ bumper for grandson) he acted really put out.\n",
      "We had a good time, but both my daughter and myself have our own shoes and I felt ripped off and hate rude workers, so I was mad.\n",
      "Then afterwords we went to the game part of the place and almost every game was broken or did not give out tickets.  My grandson wanted to play ski ball he loves and they were broken too.  Of course the desk people could care less.\n",
      "We will not be going back here again. Too many times they have treated us like crap and I would much rather take my money somewhere else where I am appreciated and provides even some sort of customer service.\n"
     ]
    },
    {
     "data": {
      "text/html": [
       "<div>\n",
       "<style scoped>\n",
       "    .dataframe tbody tr th:only-of-type {\n",
       "        vertical-align: middle;\n",
       "    }\n",
       "\n",
       "    .dataframe tbody tr th {\n",
       "        vertical-align: top;\n",
       "    }\n",
       "\n",
       "    .dataframe thead th {\n",
       "        text-align: right;\n",
       "    }\n",
       "</style>\n",
       "<table border=\"1\" class=\"dataframe\">\n",
       "  <thead>\n",
       "    <tr style=\"text-align: right;\">\n",
       "      <th></th>\n",
       "      <th>positive</th>\n",
       "      <th>negative</th>\n",
       "      <th>objective</th>\n",
       "    </tr>\n",
       "  </thead>\n",
       "  <tbody>\n",
       "    <tr>\n",
       "      <th>45</th>\n",
       "      <td>0.6784</td>\n",
       "      <td>0.938872</td>\n",
       "      <td>1.279607</td>\n",
       "    </tr>\n",
       "  </tbody>\n",
       "</table>\n",
       "</div>"
      ],
      "text/plain": [
       "    positive  negative  objective\n",
       "45    0.6784  0.938872   1.279607"
      ]
     },
     "metadata": {},
     "output_type": "display_data"
    },
    {
     "name": "stdout",
     "output_type": "stream",
     "text": [
      "3\n",
      "A word of caution! Don't use their ATM if you have  a credit union. My Fiancé and I visited last Saturday. We expected to grab a to-go burger, just to say we tried it. We ended up staying over an hour and having an absolute blast. Nurse Stephanie was fantastic. She is perfect for her job and went above and beyond for us. The food was amazing, although, if you are not used to the grease, be careful (if you know what I mean). The only reason I gave 3 stars is, when I tried to take money out of the ATM, I got an error message. So my Fiancé used his card and we thought everything was fine. Come to find out I was charged for the money I never received. I contacted the grill and am waiting to hear back, hopefully we will resolve this quickly and I can up my review to 5 stars!\n"
     ]
    },
    {
     "data": {
      "text/html": [
       "<div>\n",
       "<style scoped>\n",
       "    .dataframe tbody tr th:only-of-type {\n",
       "        vertical-align: middle;\n",
       "    }\n",
       "\n",
       "    .dataframe tbody tr th {\n",
       "        vertical-align: top;\n",
       "    }\n",
       "\n",
       "    .dataframe thead th {\n",
       "        text-align: right;\n",
       "    }\n",
       "</style>\n",
       "<table border=\"1\" class=\"dataframe\">\n",
       "  <thead>\n",
       "    <tr style=\"text-align: right;\">\n",
       "      <th></th>\n",
       "      <th>positive</th>\n",
       "      <th>negative</th>\n",
       "      <th>objective</th>\n",
       "    </tr>\n",
       "  </thead>\n",
       "  <tbody>\n",
       "    <tr>\n",
       "      <th>46</th>\n",
       "      <td>0.278739</td>\n",
       "      <td>0.133956</td>\n",
       "      <td>0.173297</td>\n",
       "    </tr>\n",
       "  </tbody>\n",
       "</table>\n",
       "</div>"
      ],
      "text/plain": [
       "    positive  negative  objective\n",
       "46  0.278739  0.133956   0.173297"
      ]
     },
     "metadata": {},
     "output_type": "display_data"
    },
    {
     "name": "stdout",
     "output_type": "stream",
     "text": [
      "5\n",
      "This is a great place to get affordable  workout clothes and shoes. Everyone is really down to earth and helpful. My favorite part of the mall.\n"
     ]
    },
    {
     "data": {
      "text/html": [
       "<div>\n",
       "<style scoped>\n",
       "    .dataframe tbody tr th:only-of-type {\n",
       "        vertical-align: middle;\n",
       "    }\n",
       "\n",
       "    .dataframe tbody tr th {\n",
       "        vertical-align: top;\n",
       "    }\n",
       "\n",
       "    .dataframe thead th {\n",
       "        text-align: right;\n",
       "    }\n",
       "</style>\n",
       "<table border=\"1\" class=\"dataframe\">\n",
       "  <thead>\n",
       "    <tr style=\"text-align: right;\">\n",
       "      <th></th>\n",
       "      <th>positive</th>\n",
       "      <th>negative</th>\n",
       "      <th>objective</th>\n",
       "    </tr>\n",
       "  </thead>\n",
       "  <tbody>\n",
       "    <tr>\n",
       "      <th>47</th>\n",
       "      <td>-0.858569</td>\n",
       "      <td>-0.914334</td>\n",
       "      <td>-0.794484</td>\n",
       "    </tr>\n",
       "  </tbody>\n",
       "</table>\n",
       "</div>"
      ],
      "text/plain": [
       "    positive  negative  objective\n",
       "47 -0.858569 -0.914334  -0.794484"
      ]
     },
     "metadata": {},
     "output_type": "display_data"
    },
    {
     "name": "stdout",
     "output_type": "stream",
     "text": [
      "5\n",
      "Most romantic spot in LV. Great for people watching. Nice menu and very good food and service. A must if you come to Las Vegas.\n"
     ]
    },
    {
     "data": {
      "text/html": [
       "<div>\n",
       "<style scoped>\n",
       "    .dataframe tbody tr th:only-of-type {\n",
       "        vertical-align: middle;\n",
       "    }\n",
       "\n",
       "    .dataframe tbody tr th {\n",
       "        vertical-align: top;\n",
       "    }\n",
       "\n",
       "    .dataframe thead th {\n",
       "        text-align: right;\n",
       "    }\n",
       "</style>\n",
       "<table border=\"1\" class=\"dataframe\">\n",
       "  <thead>\n",
       "    <tr style=\"text-align: right;\">\n",
       "      <th></th>\n",
       "      <th>positive</th>\n",
       "      <th>negative</th>\n",
       "      <th>objective</th>\n",
       "    </tr>\n",
       "  </thead>\n",
       "  <tbody>\n",
       "    <tr>\n",
       "      <th>48</th>\n",
       "      <td>-0.59712</td>\n",
       "      <td>-0.82576</td>\n",
       "      <td>-0.798437</td>\n",
       "    </tr>\n",
       "  </tbody>\n",
       "</table>\n",
       "</div>"
      ],
      "text/plain": [
       "    positive  negative  objective\n",
       "48  -0.59712  -0.82576  -0.798437"
      ]
     },
     "metadata": {},
     "output_type": "display_data"
    },
    {
     "name": "stdout",
     "output_type": "stream",
     "text": [
      "4\n",
      "For a quick lunch, grab the sides! Chicken is well peppered, salad is crispy and cold. Only reason it's not five stars is because I haven't tried any main dishes! But I do want to... to be continued...\n"
     ]
    },
    {
     "data": {
      "text/html": [
       "<div>\n",
       "<style scoped>\n",
       "    .dataframe tbody tr th:only-of-type {\n",
       "        vertical-align: middle;\n",
       "    }\n",
       "\n",
       "    .dataframe tbody tr th {\n",
       "        vertical-align: top;\n",
       "    }\n",
       "\n",
       "    .dataframe thead th {\n",
       "        text-align: right;\n",
       "    }\n",
       "</style>\n",
       "<table border=\"1\" class=\"dataframe\">\n",
       "  <thead>\n",
       "    <tr style=\"text-align: right;\">\n",
       "      <th></th>\n",
       "      <th>positive</th>\n",
       "      <th>negative</th>\n",
       "      <th>objective</th>\n",
       "    </tr>\n",
       "  </thead>\n",
       "  <tbody>\n",
       "    <tr>\n",
       "      <th>49</th>\n",
       "      <td>-0.817081</td>\n",
       "      <td>-0.60399</td>\n",
       "      <td>-0.640373</td>\n",
       "    </tr>\n",
       "  </tbody>\n",
       "</table>\n",
       "</div>"
      ],
      "text/plain": [
       "    positive  negative  objective\n",
       "49 -0.817081  -0.60399  -0.640373"
      ]
     },
     "metadata": {},
     "output_type": "display_data"
    },
    {
     "name": "stdout",
     "output_type": "stream",
     "text": [
      "1\n",
      "Very unimpressed by their pad Thai.. one of the worst I have had.. lacks flavor and beef tastes like rubber.. I ordered though UberEATS so I don't know if in store it's different but won't be returning for sure!\n"
     ]
    },
    {
     "data": {
      "text/html": [
       "<div>\n",
       "<style scoped>\n",
       "    .dataframe tbody tr th:only-of-type {\n",
       "        vertical-align: middle;\n",
       "    }\n",
       "\n",
       "    .dataframe tbody tr th {\n",
       "        vertical-align: top;\n",
       "    }\n",
       "\n",
       "    .dataframe thead th {\n",
       "        text-align: right;\n",
       "    }\n",
       "</style>\n",
       "<table border=\"1\" class=\"dataframe\">\n",
       "  <thead>\n",
       "    <tr style=\"text-align: right;\">\n",
       "      <th></th>\n",
       "      <th>positive</th>\n",
       "      <th>negative</th>\n",
       "      <th>objective</th>\n",
       "    </tr>\n",
       "  </thead>\n",
       "  <tbody>\n",
       "    <tr>\n",
       "      <th>50</th>\n",
       "      <td>-0.874921</td>\n",
       "      <td>-0.219499</td>\n",
       "      <td>-0.702198</td>\n",
       "    </tr>\n",
       "  </tbody>\n",
       "</table>\n",
       "</div>"
      ],
      "text/plain": [
       "    positive  negative  objective\n",
       "50 -0.874921 -0.219499  -0.702198"
      ]
     },
     "metadata": {},
     "output_type": "display_data"
    },
    {
     "name": "stdout",
     "output_type": "stream",
     "text": [
      "5\n",
      "Over the years I have seen Lisa for reiki and reflexology 4, 5 times... and there will be 6th, 7th, 8th time. And so on.  Very intuitive, caring person,  powerful presence, she is one of those wise women you NEED to have in life. Even if for an hour. I always leave her studio balanced, grounded, encouraged, inspired and empowered. Thank you for your work, Lisa!\n"
     ]
    },
    {
     "data": {
      "text/html": [
       "<div>\n",
       "<style scoped>\n",
       "    .dataframe tbody tr th:only-of-type {\n",
       "        vertical-align: middle;\n",
       "    }\n",
       "\n",
       "    .dataframe tbody tr th {\n",
       "        vertical-align: top;\n",
       "    }\n",
       "\n",
       "    .dataframe thead th {\n",
       "        text-align: right;\n",
       "    }\n",
       "</style>\n",
       "<table border=\"1\" class=\"dataframe\">\n",
       "  <thead>\n",
       "    <tr style=\"text-align: right;\">\n",
       "      <th></th>\n",
       "      <th>positive</th>\n",
       "      <th>negative</th>\n",
       "      <th>objective</th>\n",
       "    </tr>\n",
       "  </thead>\n",
       "  <tbody>\n",
       "    <tr>\n",
       "      <th>51</th>\n",
       "      <td>-0.561607</td>\n",
       "      <td>-0.749915</td>\n",
       "      <td>-0.344817</td>\n",
       "    </tr>\n",
       "  </tbody>\n",
       "</table>\n",
       "</div>"
      ],
      "text/plain": [
       "    positive  negative  objective\n",
       "51 -0.561607 -0.749915  -0.344817"
      ]
     },
     "metadata": {},
     "output_type": "display_data"
    },
    {
     "name": "stdout",
     "output_type": "stream",
     "text": [
      "2\n",
      "It's cheap for what it is, but there are many options in the area which delivers the same quality and price.\n",
      "\n",
      "I'd rather go elsewhere if I'm craving for some good chinese bbq meats :P\n"
     ]
    },
    {
     "data": {
      "text/html": [
       "<div>\n",
       "<style scoped>\n",
       "    .dataframe tbody tr th:only-of-type {\n",
       "        vertical-align: middle;\n",
       "    }\n",
       "\n",
       "    .dataframe tbody tr th {\n",
       "        vertical-align: top;\n",
       "    }\n",
       "\n",
       "    .dataframe thead th {\n",
       "        text-align: right;\n",
       "    }\n",
       "</style>\n",
       "<table border=\"1\" class=\"dataframe\">\n",
       "  <thead>\n",
       "    <tr style=\"text-align: right;\">\n",
       "      <th></th>\n",
       "      <th>positive</th>\n",
       "      <th>negative</th>\n",
       "      <th>objective</th>\n",
       "    </tr>\n",
       "  </thead>\n",
       "  <tbody>\n",
       "    <tr>\n",
       "      <th>52</th>\n",
       "      <td>-0.717589</td>\n",
       "      <td>-0.61369</td>\n",
       "      <td>-0.735472</td>\n",
       "    </tr>\n",
       "  </tbody>\n",
       "</table>\n",
       "</div>"
      ],
      "text/plain": [
       "    positive  negative  objective\n",
       "52 -0.717589  -0.61369  -0.735472"
      ]
     },
     "metadata": {},
     "output_type": "display_data"
    },
    {
     "name": "stdout",
     "output_type": "stream",
     "text": [
      "1\n",
      "I just called this North york Location at 416-446-1045 and was told i cannot make a reservation the whole day. I told the guy 5 minutes ago i spoke to a lady that i could book until 5:30pm. He told me well the lady who told you that must be misinformed cause she doesn't know how busy we are. I said well you guys should better train your staff because 5 mins ago you guys told me i can book and 5 mins later you are giving me attitude that absolutely you guys cannot book even before 5:30pm. this is ridiculous and the man who told me was very rude. Don't even have to come into the restaurant to learn your good training and customer service. I know I won't be going into this restaurant and obviously they don't need me as they are too busy\n"
     ]
    },
    {
     "data": {
      "text/html": [
       "<div>\n",
       "<style scoped>\n",
       "    .dataframe tbody tr th:only-of-type {\n",
       "        vertical-align: middle;\n",
       "    }\n",
       "\n",
       "    .dataframe tbody tr th {\n",
       "        vertical-align: top;\n",
       "    }\n",
       "\n",
       "    .dataframe thead th {\n",
       "        text-align: right;\n",
       "    }\n",
       "</style>\n",
       "<table border=\"1\" class=\"dataframe\">\n",
       "  <thead>\n",
       "    <tr style=\"text-align: right;\">\n",
       "      <th></th>\n",
       "      <th>positive</th>\n",
       "      <th>negative</th>\n",
       "      <th>objective</th>\n",
       "    </tr>\n",
       "  </thead>\n",
       "  <tbody>\n",
       "    <tr>\n",
       "      <th>53</th>\n",
       "      <td>0.4429</td>\n",
       "      <td>0.019902</td>\n",
       "      <td>0.123078</td>\n",
       "    </tr>\n",
       "  </tbody>\n",
       "</table>\n",
       "</div>"
      ],
      "text/plain": [
       "    positive  negative  objective\n",
       "53    0.4429  0.019902   0.123078"
      ]
     },
     "metadata": {},
     "output_type": "display_data"
    },
    {
     "name": "stdout",
     "output_type": "stream",
     "text": [
      "5\n",
      "Place is amazing, Dr roach is the best!! Staff is super friendly i think we have found our new vet.\n"
     ]
    },
    {
     "data": {
      "text/html": [
       "<div>\n",
       "<style scoped>\n",
       "    .dataframe tbody tr th:only-of-type {\n",
       "        vertical-align: middle;\n",
       "    }\n",
       "\n",
       "    .dataframe tbody tr th {\n",
       "        vertical-align: top;\n",
       "    }\n",
       "\n",
       "    .dataframe thead th {\n",
       "        text-align: right;\n",
       "    }\n",
       "</style>\n",
       "<table border=\"1\" class=\"dataframe\">\n",
       "  <thead>\n",
       "    <tr style=\"text-align: right;\">\n",
       "      <th></th>\n",
       "      <th>positive</th>\n",
       "      <th>negative</th>\n",
       "      <th>objective</th>\n",
       "    </tr>\n",
       "  </thead>\n",
       "  <tbody>\n",
       "    <tr>\n",
       "      <th>54</th>\n",
       "      <td>-0.683893</td>\n",
       "      <td>-0.796242</td>\n",
       "      <td>-0.85913</td>\n",
       "    </tr>\n",
       "  </tbody>\n",
       "</table>\n",
       "</div>"
      ],
      "text/plain": [
       "    positive  negative  objective\n",
       "54 -0.683893 -0.796242   -0.85913"
      ]
     },
     "metadata": {},
     "output_type": "display_data"
    },
    {
     "name": "stdout",
     "output_type": "stream",
     "text": [
      "2\n",
      "Unbelievable how the employees that work in the front part of the store can be so nice and helpful, but the guys that work behind the counter in the back  (parts?) can be such assholes. When we need to buy something for our trailer, we avoid the back of the store at all costs.\n"
     ]
    },
    {
     "data": {
      "text/html": [
       "<div>\n",
       "<style scoped>\n",
       "    .dataframe tbody tr th:only-of-type {\n",
       "        vertical-align: middle;\n",
       "    }\n",
       "\n",
       "    .dataframe tbody tr th {\n",
       "        vertical-align: top;\n",
       "    }\n",
       "\n",
       "    .dataframe thead th {\n",
       "        text-align: right;\n",
       "    }\n",
       "</style>\n",
       "<table border=\"1\" class=\"dataframe\">\n",
       "  <thead>\n",
       "    <tr style=\"text-align: right;\">\n",
       "      <th></th>\n",
       "      <th>positive</th>\n",
       "      <th>negative</th>\n",
       "      <th>objective</th>\n",
       "    </tr>\n",
       "  </thead>\n",
       "  <tbody>\n",
       "    <tr>\n",
       "      <th>57</th>\n",
       "      <td>-0.861552</td>\n",
       "      <td>-0.556233</td>\n",
       "      <td>-0.529914</td>\n",
       "    </tr>\n",
       "  </tbody>\n",
       "</table>\n",
       "</div>"
      ],
      "text/plain": [
       "    positive  negative  objective\n",
       "57 -0.861552 -0.556233  -0.529914"
      ]
     },
     "metadata": {},
     "output_type": "display_data"
    },
    {
     "name": "stdout",
     "output_type": "stream",
     "text": [
      "1\n",
      "The main reason we came here was to try the lane buster mason jar dessert. We had family visiting and we figured we would show them a little bit of what Charlotte had to offer by taking them to what sounded like a very unique Bowling alley. What a horrible regret. The service was terrible. It was incredibly hard to locate our waitress. We have twin toddlers which do not have an ounce of patience and even though I came fully equipped with snacks and drinks they all ran out before we could get our food. The food not impressive, my husband's burger was dry(for which we had to wait 30 minutes for ketchup). My quesadilla was extremely greasy and our sweet potato fries were cold. It took one of the family members I brought having to ask 3 times for a refill on her Sprite for which she got when she was done eating her sandwich. By the time the desert came I was so discouraged that I didn't even want to try it. I am completely disappointed at this establishment and embarrassed that I brought out of towners here.\n"
     ]
    },
    {
     "data": {
      "text/html": [
       "<div>\n",
       "<style scoped>\n",
       "    .dataframe tbody tr th:only-of-type {\n",
       "        vertical-align: middle;\n",
       "    }\n",
       "\n",
       "    .dataframe tbody tr th {\n",
       "        vertical-align: top;\n",
       "    }\n",
       "\n",
       "    .dataframe thead th {\n",
       "        text-align: right;\n",
       "    }\n",
       "</style>\n",
       "<table border=\"1\" class=\"dataframe\">\n",
       "  <thead>\n",
       "    <tr style=\"text-align: right;\">\n",
       "      <th></th>\n",
       "      <th>positive</th>\n",
       "      <th>negative</th>\n",
       "      <th>objective</th>\n",
       "    </tr>\n",
       "  </thead>\n",
       "  <tbody>\n",
       "    <tr>\n",
       "      <th>61</th>\n",
       "      <td>0.121811</td>\n",
       "      <td>1.525867</td>\n",
       "      <td>0.587043</td>\n",
       "    </tr>\n",
       "  </tbody>\n",
       "</table>\n",
       "</div>"
      ],
      "text/plain": [
       "    positive  negative  objective\n",
       "61  0.121811  1.525867   0.587043"
      ]
     },
     "metadata": {},
     "output_type": "display_data"
    },
    {
     "name": "stdout",
     "output_type": "stream",
     "text": [
      "4\n",
      "What's with the reviews about the cost? If you're on the strip, it's going to be expensive. I enjoyed great service, a terrific waiter who was not pushy & made great suggestions. The garbage fries were perfect to share, the truffled cheese on my waygu Kobe & port wine reduction gravy made for a perfect burger. The spiked vanilla shake was yummilicious & blended nicely with the vanilla vodka.\n",
      "\n",
      "My husband enjoyed his caprese burger, too! Will be back!\n"
     ]
    },
    {
     "data": {
      "text/html": [
       "<div>\n",
       "<style scoped>\n",
       "    .dataframe tbody tr th:only-of-type {\n",
       "        vertical-align: middle;\n",
       "    }\n",
       "\n",
       "    .dataframe tbody tr th {\n",
       "        vertical-align: top;\n",
       "    }\n",
       "\n",
       "    .dataframe thead th {\n",
       "        text-align: right;\n",
       "    }\n",
       "</style>\n",
       "<table border=\"1\" class=\"dataframe\">\n",
       "  <thead>\n",
       "    <tr style=\"text-align: right;\">\n",
       "      <th></th>\n",
       "      <th>positive</th>\n",
       "      <th>negative</th>\n",
       "      <th>objective</th>\n",
       "    </tr>\n",
       "  </thead>\n",
       "  <tbody>\n",
       "    <tr>\n",
       "      <th>62</th>\n",
       "      <td>0.246297</td>\n",
       "      <td>-0.636372</td>\n",
       "      <td>-0.239898</td>\n",
       "    </tr>\n",
       "  </tbody>\n",
       "</table>\n",
       "</div>"
      ],
      "text/plain": [
       "    positive  negative  objective\n",
       "62  0.246297 -0.636372  -0.239898"
      ]
     },
     "metadata": {},
     "output_type": "display_data"
    },
    {
     "name": "stdout",
     "output_type": "stream",
     "text": [
      "5\n",
      "The fastest in\\/out I have ever experienced at any discount tire... and it was done right with the correct psi.\n"
     ]
    },
    {
     "data": {
      "text/html": [
       "<div>\n",
       "<style scoped>\n",
       "    .dataframe tbody tr th:only-of-type {\n",
       "        vertical-align: middle;\n",
       "    }\n",
       "\n",
       "    .dataframe tbody tr th {\n",
       "        vertical-align: top;\n",
       "    }\n",
       "\n",
       "    .dataframe thead th {\n",
       "        text-align: right;\n",
       "    }\n",
       "</style>\n",
       "<table border=\"1\" class=\"dataframe\">\n",
       "  <thead>\n",
       "    <tr style=\"text-align: right;\">\n",
       "      <th></th>\n",
       "      <th>positive</th>\n",
       "      <th>negative</th>\n",
       "      <th>objective</th>\n",
       "    </tr>\n",
       "  </thead>\n",
       "  <tbody>\n",
       "    <tr>\n",
       "      <th>63</th>\n",
       "      <td>-0.954259</td>\n",
       "      <td>-0.927461</td>\n",
       "      <td>-0.851974</td>\n",
       "    </tr>\n",
       "  </tbody>\n",
       "</table>\n",
       "</div>"
      ],
      "text/plain": [
       "    positive  negative  objective\n",
       "63 -0.954259 -0.927461  -0.851974"
      ]
     },
     "metadata": {},
     "output_type": "display_data"
    },
    {
     "name": "stdout",
     "output_type": "stream",
     "text": [
      "3\n",
      "Excellent food, not as good as fish and chips from Australia but excellent none the less. Wish they had pineapple fritters or potatoes scallops..\n",
      "I did Sri e though girls are pleaaant, but while waiting for my food I hear the 'F' word, thankfully 4 year old was not on the car. Talk about boyfriends, substitute teachers and so on. If it were my business or I was the manager I'd have the girls engage with the cuatomers, how is your day going is this your first time, no up selling nothing. .\n"
     ]
    },
    {
     "data": {
      "text/html": [
       "<div>\n",
       "<style scoped>\n",
       "    .dataframe tbody tr th:only-of-type {\n",
       "        vertical-align: middle;\n",
       "    }\n",
       "\n",
       "    .dataframe tbody tr th {\n",
       "        vertical-align: top;\n",
       "    }\n",
       "\n",
       "    .dataframe thead th {\n",
       "        text-align: right;\n",
       "    }\n",
       "</style>\n",
       "<table border=\"1\" class=\"dataframe\">\n",
       "  <thead>\n",
       "    <tr style=\"text-align: right;\">\n",
       "      <th></th>\n",
       "      <th>positive</th>\n",
       "      <th>negative</th>\n",
       "      <th>objective</th>\n",
       "    </tr>\n",
       "  </thead>\n",
       "  <tbody>\n",
       "    <tr>\n",
       "      <th>64</th>\n",
       "      <td>-0.166683</td>\n",
       "      <td>-0.683141</td>\n",
       "      <td>-0.116657</td>\n",
       "    </tr>\n",
       "  </tbody>\n",
       "</table>\n",
       "</div>"
      ],
      "text/plain": [
       "    positive  negative  objective\n",
       "64 -0.166683 -0.683141  -0.116657"
      ]
     },
     "metadata": {},
     "output_type": "display_data"
    },
    {
     "name": "stdout",
     "output_type": "stream",
     "text": [
      "5\n",
      "Eye have found the best place in town for contacts and glasses!!! I made an appointment in April and the eye doctor gave me a prescription for both contacts and glasses.  I bought contacts in April.  They sent them to my house; so convenient.  I went back yesterday and I bought new glasses.  The process for the doctor exam and the purchase of my contacts and glasses were quick, easy, and efficient.  By far, the best experience I've ever had purchasing contacts and eye glasses ever!!!\n"
     ]
    },
    {
     "data": {
      "text/html": [
       "<div>\n",
       "<style scoped>\n",
       "    .dataframe tbody tr th:only-of-type {\n",
       "        vertical-align: middle;\n",
       "    }\n",
       "\n",
       "    .dataframe tbody tr th {\n",
       "        vertical-align: top;\n",
       "    }\n",
       "\n",
       "    .dataframe thead th {\n",
       "        text-align: right;\n",
       "    }\n",
       "</style>\n",
       "<table border=\"1\" class=\"dataframe\">\n",
       "  <thead>\n",
       "    <tr style=\"text-align: right;\">\n",
       "      <th></th>\n",
       "      <th>positive</th>\n",
       "      <th>negative</th>\n",
       "      <th>objective</th>\n",
       "    </tr>\n",
       "  </thead>\n",
       "  <tbody>\n",
       "    <tr>\n",
       "      <th>65</th>\n",
       "      <td>-0.20796</td>\n",
       "      <td>-0.629153</td>\n",
       "      <td>-0.138495</td>\n",
       "    </tr>\n",
       "  </tbody>\n",
       "</table>\n",
       "</div>"
      ],
      "text/plain": [
       "    positive  negative  objective\n",
       "65  -0.20796 -0.629153  -0.138495"
      ]
     },
     "metadata": {},
     "output_type": "display_data"
    },
    {
     "name": "stdout",
     "output_type": "stream",
     "text": [
      "1\n",
      "Well, I am back.\n",
      "And it will definitely be my and my family and friend's last time back. \n",
      "\n",
      "A whoppin' one star! Here's why:\n",
      "1. Their pho is still good. Not my favorite, but it's still good. Our server was a nice guy. \n",
      "2. We order a flat noodle stir fry dish -- so greasy and 60% of it was white onions, not noodles. Did we order a plate of onions with some noodles and shrimp in it??? Plus, our order was placed wrong in the first place, so we had to wait again for the correct order. Our server was apologetic, so that's fine. \n",
      "3. I ordered thai tea, but they were out of half & half, for about another 20-30 minutes. You want to wait? Yeah, sure. Half&half gets delivered....eventually, our server remembers and asks if I still want thai tea. Yes, please. Never got it. But I ended up somewhere else after to fix my craving, and I'm super glad I went somewhere else to splurge my money. \n",
      "4. Substituted two orders of pho that had eye round steak for beef meatballs in one and tripe in the other. Got charged extra because they said beef meatballs and beef tripe are each worth more than eye round steak. \n",
      "First of all, if a bowl of pho w\\/ steak is $6.99, and a bowl of pho w\\/ meatballs is $6.99, how is one worth more than the other? Second, TRIPE IS WORTH MORE THAN STEAK?! I know no one besides my father that would want tripe over steak. Third, our server said he would ask if I can substitute and let me know, but he never let me know. Fourth, I eat A LOT of pho everywhere, no joke, and I have never ever had to pay extra. But then again, all the places I go to actually have a menu item that has brisket and meatball. And guess what, it's the same price as all the other pho bowls w\\/ two meats. \n",
      "Anyways, super irritated that the owner argued with me that meatballs and tripe are each worth more than steak, hence they have to charge to make up the difference. Please. \n",
      "5. I guess last time I went the bowls were $6, now it's $7. \n",
      "6. The spring rolls -- meh. It had so much lettuce in there, and the peanut sauce was very watery. I've had much better spring rolls. \n",
      "7. It's still a nice and clean restaurant. \n",
      "\n",
      "Anyways, at least now I can narrow down my pho choices a little easier!\n"
     ]
    },
    {
     "data": {
      "text/html": [
       "<div>\n",
       "<style scoped>\n",
       "    .dataframe tbody tr th:only-of-type {\n",
       "        vertical-align: middle;\n",
       "    }\n",
       "\n",
       "    .dataframe tbody tr th {\n",
       "        vertical-align: top;\n",
       "    }\n",
       "\n",
       "    .dataframe thead th {\n",
       "        text-align: right;\n",
       "    }\n",
       "</style>\n",
       "<table border=\"1\" class=\"dataframe\">\n",
       "  <thead>\n",
       "    <tr style=\"text-align: right;\">\n",
       "      <th></th>\n",
       "      <th>positive</th>\n",
       "      <th>negative</th>\n",
       "      <th>objective</th>\n",
       "    </tr>\n",
       "  </thead>\n",
       "  <tbody>\n",
       "    <tr>\n",
       "      <th>67</th>\n",
       "      <td>2.419291</td>\n",
       "      <td>3.413076</td>\n",
       "      <td>2.92809</td>\n",
       "    </tr>\n",
       "  </tbody>\n",
       "</table>\n",
       "</div>"
      ],
      "text/plain": [
       "    positive  negative  objective\n",
       "67  2.419291  3.413076    2.92809"
      ]
     },
     "metadata": {},
     "output_type": "display_data"
    },
    {
     "name": "stdout",
     "output_type": "stream",
     "text": [
      "4\n",
      "Mind you the wait time could be loooong! So bring someone who is diamond or 7 star member with you if you can. So u can skip the line. All the sea food was very fresh and tasty. I love their cooked oyster! Desserts are very yummy, love their flan!! So many choices. Service was okay, our server didn't bother to check on us much but the table next to us.\n"
     ]
    },
    {
     "data": {
      "text/html": [
       "<div>\n",
       "<style scoped>\n",
       "    .dataframe tbody tr th:only-of-type {\n",
       "        vertical-align: middle;\n",
       "    }\n",
       "\n",
       "    .dataframe tbody tr th {\n",
       "        vertical-align: top;\n",
       "    }\n",
       "\n",
       "    .dataframe thead th {\n",
       "        text-align: right;\n",
       "    }\n",
       "</style>\n",
       "<table border=\"1\" class=\"dataframe\">\n",
       "  <thead>\n",
       "    <tr style=\"text-align: right;\">\n",
       "      <th></th>\n",
       "      <th>positive</th>\n",
       "      <th>negative</th>\n",
       "      <th>objective</th>\n",
       "    </tr>\n",
       "  </thead>\n",
       "  <tbody>\n",
       "    <tr>\n",
       "      <th>68</th>\n",
       "      <td>-0.071129</td>\n",
       "      <td>-0.308029</td>\n",
       "      <td>-0.34371</td>\n",
       "    </tr>\n",
       "  </tbody>\n",
       "</table>\n",
       "</div>"
      ],
      "text/plain": [
       "    positive  negative  objective\n",
       "68 -0.071129 -0.308029   -0.34371"
      ]
     },
     "metadata": {},
     "output_type": "display_data"
    },
    {
     "name": "stdout",
     "output_type": "stream",
     "text": [
      "5\n",
      "I've been a local in the area for the past 7 years and it has been my experience that the employees here have always treated me in a courteous manner. I stopped in again today and Lisa assisted me with Pest Control products. Her product knowledge is vast and that, coupled with her genuine 'Southern Hospitality' type personality helped to brighten my day. Great customer service is hard to come by and it really does make a difference!\n"
     ]
    },
    {
     "data": {
      "text/html": [
       "<div>\n",
       "<style scoped>\n",
       "    .dataframe tbody tr th:only-of-type {\n",
       "        vertical-align: middle;\n",
       "    }\n",
       "\n",
       "    .dataframe tbody tr th {\n",
       "        vertical-align: top;\n",
       "    }\n",
       "\n",
       "    .dataframe thead th {\n",
       "        text-align: right;\n",
       "    }\n",
       "</style>\n",
       "<table border=\"1\" class=\"dataframe\">\n",
       "  <thead>\n",
       "    <tr style=\"text-align: right;\">\n",
       "      <th></th>\n",
       "      <th>positive</th>\n",
       "      <th>negative</th>\n",
       "      <th>objective</th>\n",
       "    </tr>\n",
       "  </thead>\n",
       "  <tbody>\n",
       "    <tr>\n",
       "      <th>69</th>\n",
       "      <td>-0.479176</td>\n",
       "      <td>-0.515503</td>\n",
       "      <td>-0.343128</td>\n",
       "    </tr>\n",
       "  </tbody>\n",
       "</table>\n",
       "</div>"
      ],
      "text/plain": [
       "    positive  negative  objective\n",
       "69 -0.479176 -0.515503  -0.343128"
      ]
     },
     "metadata": {},
     "output_type": "display_data"
    },
    {
     "name": "stdout",
     "output_type": "stream",
     "text": [
      "3\n",
      "Okay, I have been meaning to write this review for a while. \n",
      "\n",
      "Spas of AZ have 4 Valley locations. There website is different than their name. Their website is: http:\\/\\/acrylicspasaz.com\\/\n",
      "\n",
      "Completely different than their store name... ANYWAY! My wife and I go in to the store after several happy hour drinks one day at Logan Grill (right next door) and we want to buy a spa. We had been talking about this for a while and we thought since we had extra liquid courage that we could finally just go and pick one!.\n",
      "\n",
      "Well, spas are not cheap. Cheapest tub in the place at that time was $3,500. We had our eye on one that didn't have water in it, so all we could do is just imagine what the jets felt like. The sales guy Forest, explained to us that we would love it and yada yada. All we said we wanted is strong jets to massage our sore muscles after the gym or other physical activities that we do. We ended up buying one for $200 bucks more that the cheapest one - paid in full - had a 30 day fix warranty. They do not do refunds or returns just fyi.\n",
      "\n",
      "We were happy. Then we realized we had to have a concrete pour, and a 220v line extended 80 feet to our back yard from the breaker box. Concrete Pour 10.5'x10.5'= $650. 220v line $989.\n",
      "\n",
      "Day of hot tub delivery - \n",
      "I got a call from the the delivery guys stating they were at my house, I was luckily able to leave work and meet them. They didn't call 30 minutes before like they said they would and they forgot to bring my chemicals that were also promised to me. Side note** they also looked like two gang bangers right out of a C.O.P.S. episode. I'm sure to the older generation they would seem pretty scary. Spas of AZ may want to look in to uniforms.\n",
      "\n",
      "Fast fwd 2 weeks - \n",
      "The jets were so weak, the hot tub wouldn't get very hot, and there was a leak. I called the service guy to come out and he did in a very quick manner. Said he would put an order in for the parts and have everything fixed up by next week. At this time, I was getting very close to that 30 day warranty limit they say you have. Well our hot tub sucked and no one was doing anything about it.\n",
      "\n",
      "2 weeks later still nothing.\n",
      "\n",
      "I call Forest and basically yell at him and then I do the same to the corporate office on Bell Rd. They acted faster than I thought they would. They said that they would give me an upgraded tub (a $500 more expensive one), a year of chemicals, a free step-up to the hot tub, free delivery and hook-up, and free to take the old hot tub away. All I had to do was pay $250 of the $500.\n",
      "\n",
      "Let me just say my wife and I would have paid $500 more originally on a hot tub if we knew the jets were actually what we wanted. There was just no way to tell in the beginning besides believing the word of Forest the salesman.\n",
      "\n",
      "Well they kept their word and made everything right. We love our new hot tub, and it is perfect for us. 1 thing you should know when buying a hot tub is: \n",
      "\n",
      "Never get a 110v hot tub. I don't care if they say it is convertible to a 220v. Always get a 200v. No matter what the salesman tells you.\n"
     ]
    },
    {
     "data": {
      "text/html": [
       "<div>\n",
       "<style scoped>\n",
       "    .dataframe tbody tr th:only-of-type {\n",
       "        vertical-align: middle;\n",
       "    }\n",
       "\n",
       "    .dataframe tbody tr th {\n",
       "        vertical-align: top;\n",
       "    }\n",
       "\n",
       "    .dataframe thead th {\n",
       "        text-align: right;\n",
       "    }\n",
       "</style>\n",
       "<table border=\"1\" class=\"dataframe\">\n",
       "  <thead>\n",
       "    <tr style=\"text-align: right;\">\n",
       "      <th></th>\n",
       "      <th>positive</th>\n",
       "      <th>negative</th>\n",
       "      <th>objective</th>\n",
       "    </tr>\n",
       "  </thead>\n",
       "  <tbody>\n",
       "    <tr>\n",
       "      <th>70</th>\n",
       "      <td>4.239603</td>\n",
       "      <td>4.449774</td>\n",
       "      <td>4.215529</td>\n",
       "    </tr>\n",
       "  </tbody>\n",
       "</table>\n",
       "</div>"
      ],
      "text/plain": [
       "    positive  negative  objective\n",
       "70  4.239603  4.449774   4.215529"
      ]
     },
     "metadata": {},
     "output_type": "display_data"
    },
    {
     "name": "stdout",
     "output_type": "stream",
     "text": [
      "5\n",
      "Over two years later and I still have nothing but great things to say about this business! I am very surprised that others haven't posted yet?\n"
     ]
    },
    {
     "data": {
      "text/html": [
       "<div>\n",
       "<style scoped>\n",
       "    .dataframe tbody tr th:only-of-type {\n",
       "        vertical-align: middle;\n",
       "    }\n",
       "\n",
       "    .dataframe tbody tr th {\n",
       "        vertical-align: top;\n",
       "    }\n",
       "\n",
       "    .dataframe thead th {\n",
       "        text-align: right;\n",
       "    }\n",
       "</style>\n",
       "<table border=\"1\" class=\"dataframe\">\n",
       "  <thead>\n",
       "    <tr style=\"text-align: right;\">\n",
       "      <th></th>\n",
       "      <th>positive</th>\n",
       "      <th>negative</th>\n",
       "      <th>objective</th>\n",
       "    </tr>\n",
       "  </thead>\n",
       "  <tbody>\n",
       "    <tr>\n",
       "      <th>71</th>\n",
       "      <td>-0.95985</td>\n",
       "      <td>-0.635596</td>\n",
       "      <td>-0.802782</td>\n",
       "    </tr>\n",
       "  </tbody>\n",
       "</table>\n",
       "</div>"
      ],
      "text/plain": [
       "    positive  negative  objective\n",
       "71  -0.95985 -0.635596  -0.802782"
      ]
     },
     "metadata": {},
     "output_type": "display_data"
    },
    {
     "name": "stdout",
     "output_type": "stream",
     "text": [
      "1\n",
      "Arrived at 1:40pm on a Sunday just to get flat out rejected from the restaurant, didn't even try to seat us. \n",
      "\n",
      "The host claimed that their kitchen was \"closed\" and will not take requests until 3:30pm, upon which they would re-open and their lunch would start.\n",
      "\n",
      "1. Where does it say that there is a midday break? Their business hours say 8:30AM TO 8:00PM continuous. No where does it say there is service stop of any kind. I checked yelp, website and google.\n",
      "2. We were thinking of going there for brunch; admittedly, we did arrive a little close to the end, but the website menu says service is available until 2pm SHARP. Which we fully complied with, so why would they close early?\n",
      "3. How can a kitchen just close down during late-lunch hours and not have any other options? \n",
      "\n",
      "Absolutely despicable.\n"
     ]
    },
    {
     "data": {
      "text/html": [
       "<div>\n",
       "<style scoped>\n",
       "    .dataframe tbody tr th:only-of-type {\n",
       "        vertical-align: middle;\n",
       "    }\n",
       "\n",
       "    .dataframe tbody tr th {\n",
       "        vertical-align: top;\n",
       "    }\n",
       "\n",
       "    .dataframe thead th {\n",
       "        text-align: right;\n",
       "    }\n",
       "</style>\n",
       "<table border=\"1\" class=\"dataframe\">\n",
       "  <thead>\n",
       "    <tr style=\"text-align: right;\">\n",
       "      <th></th>\n",
       "      <th>positive</th>\n",
       "      <th>negative</th>\n",
       "      <th>objective</th>\n",
       "    </tr>\n",
       "  </thead>\n",
       "  <tbody>\n",
       "    <tr>\n",
       "      <th>72</th>\n",
       "      <td>-0.516403</td>\n",
       "      <td>0.169309</td>\n",
       "      <td>0.278112</td>\n",
       "    </tr>\n",
       "  </tbody>\n",
       "</table>\n",
       "</div>"
      ],
      "text/plain": [
       "    positive  negative  objective\n",
       "72 -0.516403  0.169309   0.278112"
      ]
     },
     "metadata": {},
     "output_type": "display_data"
    },
    {
     "name": "stdout",
     "output_type": "stream",
     "text": [
      "4\n",
      "Great happy hour pricing and food. \n",
      "Make sure your entire party is present or they won't seat you.\n"
     ]
    },
    {
     "data": {
      "text/html": [
       "<div>\n",
       "<style scoped>\n",
       "    .dataframe tbody tr th:only-of-type {\n",
       "        vertical-align: middle;\n",
       "    }\n",
       "\n",
       "    .dataframe tbody tr th {\n",
       "        vertical-align: top;\n",
       "    }\n",
       "\n",
       "    .dataframe thead th {\n",
       "        text-align: right;\n",
       "    }\n",
       "</style>\n",
       "<table border=\"1\" class=\"dataframe\">\n",
       "  <thead>\n",
       "    <tr style=\"text-align: right;\">\n",
       "      <th></th>\n",
       "      <th>positive</th>\n",
       "      <th>negative</th>\n",
       "      <th>objective</th>\n",
       "    </tr>\n",
       "  </thead>\n",
       "  <tbody>\n",
       "    <tr>\n",
       "      <th>74</th>\n",
       "      <td>-0.849541</td>\n",
       "      <td>-0.873951</td>\n",
       "      <td>-0.81951</td>\n",
       "    </tr>\n",
       "  </tbody>\n",
       "</table>\n",
       "</div>"
      ],
      "text/plain": [
       "    positive  negative  objective\n",
       "74 -0.849541 -0.873951   -0.81951"
      ]
     },
     "metadata": {},
     "output_type": "display_data"
    },
    {
     "name": "stdout",
     "output_type": "stream",
     "text": [
      "5\n",
      "We went to Captain's Boil yesterday, and couldn't help racking up a huge bill! We ordered lobster, clams, snow crab, king crab, dungeness crab (all with the Captain Boil sauce) and cajun fries. Everything ordered was superb. Every member of the staff was extremely helpful. Like another review I saw, it's recommended that you come before 6:00 PM to nab a seat.\n"
     ]
    },
    {
     "data": {
      "text/html": [
       "<div>\n",
       "<style scoped>\n",
       "    .dataframe tbody tr th:only-of-type {\n",
       "        vertical-align: middle;\n",
       "    }\n",
       "\n",
       "    .dataframe tbody tr th {\n",
       "        vertical-align: top;\n",
       "    }\n",
       "\n",
       "    .dataframe thead th {\n",
       "        text-align: right;\n",
       "    }\n",
       "</style>\n",
       "<table border=\"1\" class=\"dataframe\">\n",
       "  <thead>\n",
       "    <tr style=\"text-align: right;\">\n",
       "      <th></th>\n",
       "      <th>positive</th>\n",
       "      <th>negative</th>\n",
       "      <th>objective</th>\n",
       "    </tr>\n",
       "  </thead>\n",
       "  <tbody>\n",
       "    <tr>\n",
       "      <th>75</th>\n",
       "      <td>-0.656695</td>\n",
       "      <td>-0.882795</td>\n",
       "      <td>-0.461181</td>\n",
       "    </tr>\n",
       "  </tbody>\n",
       "</table>\n",
       "</div>"
      ],
      "text/plain": [
       "    positive  negative  objective\n",
       "75 -0.656695 -0.882795  -0.461181"
      ]
     },
     "metadata": {},
     "output_type": "display_data"
    },
    {
     "name": "stdout",
     "output_type": "stream",
     "text": [
      "5\n",
      "Ann is the BEST! We came in and wanted her to choreograph a dance for our wedding and it turned out amazing! We can't thank her enough. Im so excited for everyone to see it. Their prices for classes are also very reasonable. I will definitely be back.\n"
     ]
    },
    {
     "data": {
      "text/html": [
       "<div>\n",
       "<style scoped>\n",
       "    .dataframe tbody tr th:only-of-type {\n",
       "        vertical-align: middle;\n",
       "    }\n",
       "\n",
       "    .dataframe tbody tr th {\n",
       "        vertical-align: top;\n",
       "    }\n",
       "\n",
       "    .dataframe thead th {\n",
       "        text-align: right;\n",
       "    }\n",
       "</style>\n",
       "<table border=\"1\" class=\"dataframe\">\n",
       "  <thead>\n",
       "    <tr style=\"text-align: right;\">\n",
       "      <th></th>\n",
       "      <th>positive</th>\n",
       "      <th>negative</th>\n",
       "      <th>objective</th>\n",
       "    </tr>\n",
       "  </thead>\n",
       "  <tbody>\n",
       "    <tr>\n",
       "      <th>77</th>\n",
       "      <td>-0.411889</td>\n",
       "      <td>-0.730576</td>\n",
       "      <td>-0.643114</td>\n",
       "    </tr>\n",
       "  </tbody>\n",
       "</table>\n",
       "</div>"
      ],
      "text/plain": [
       "    positive  negative  objective\n",
       "77 -0.411889 -0.730576  -0.643114"
      ]
     },
     "metadata": {},
     "output_type": "display_data"
    },
    {
     "name": "stdout",
     "output_type": "stream",
     "text": [
      "5\n",
      "I love coming here! The food is great and I love the service. I always ask for savanna when I come. She is extra helpful and gives me a five star experience every time!\n"
     ]
    },
    {
     "data": {
      "text/html": [
       "<div>\n",
       "<style scoped>\n",
       "    .dataframe tbody tr th:only-of-type {\n",
       "        vertical-align: middle;\n",
       "    }\n",
       "\n",
       "    .dataframe tbody tr th {\n",
       "        vertical-align: top;\n",
       "    }\n",
       "\n",
       "    .dataframe thead th {\n",
       "        text-align: right;\n",
       "    }\n",
       "</style>\n",
       "<table border=\"1\" class=\"dataframe\">\n",
       "  <thead>\n",
       "    <tr style=\"text-align: right;\">\n",
       "      <th></th>\n",
       "      <th>positive</th>\n",
       "      <th>negative</th>\n",
       "      <th>objective</th>\n",
       "    </tr>\n",
       "  </thead>\n",
       "  <tbody>\n",
       "    <tr>\n",
       "      <th>78</th>\n",
       "      <td>-0.515965</td>\n",
       "      <td>-0.914021</td>\n",
       "      <td>-0.711912</td>\n",
       "    </tr>\n",
       "  </tbody>\n",
       "</table>\n",
       "</div>"
      ],
      "text/plain": [
       "    positive  negative  objective\n",
       "78 -0.515965 -0.914021  -0.711912"
      ]
     },
     "metadata": {},
     "output_type": "display_data"
    },
    {
     "name": "stdout",
     "output_type": "stream",
     "text": [
      "3\n",
      "This place is definitely for hipsters, which me and my boyfriend are not. It is well decorated and feels really \"cool\" but the food wasn't anything to rave about. One of those places that people go to just to say they've been there, I guess. I went for dinner, and the dinner menu is actually smaller than their lunch menu? I thought that was weird. All the things that I saw on yelp reviews and I actually wanted to try were not for sale at the time I went. I settled and had curry, it was alright. So they get an okay review, because everything there was okay. Nothing bad, just nothing special.\n",
      "\n",
      "Oh I lied, there was one thing that was pretty great. We paid four bucks for their self-filtered water and it was actually really amazing. LOL. I know that sounds like I totally got ripped off but the water was literally tasteless it felt so weird to drink. Quite the experience. I wouldn't go back for water, but I am glad I tried it once!\n"
     ]
    },
    {
     "data": {
      "text/html": [
       "<div>\n",
       "<style scoped>\n",
       "    .dataframe tbody tr th:only-of-type {\n",
       "        vertical-align: middle;\n",
       "    }\n",
       "\n",
       "    .dataframe tbody tr th {\n",
       "        vertical-align: top;\n",
       "    }\n",
       "\n",
       "    .dataframe thead th {\n",
       "        text-align: right;\n",
       "    }\n",
       "</style>\n",
       "<table border=\"1\" class=\"dataframe\">\n",
       "  <thead>\n",
       "    <tr style=\"text-align: right;\">\n",
       "      <th></th>\n",
       "      <th>positive</th>\n",
       "      <th>negative</th>\n",
       "      <th>objective</th>\n",
       "    </tr>\n",
       "  </thead>\n",
       "  <tbody>\n",
       "    <tr>\n",
       "      <th>79</th>\n",
       "      <td>1.135954</td>\n",
       "      <td>0.755618</td>\n",
       "      <td>0.63959</td>\n",
       "    </tr>\n",
       "  </tbody>\n",
       "</table>\n",
       "</div>"
      ],
      "text/plain": [
       "    positive  negative  objective\n",
       "79  1.135954  0.755618    0.63959"
      ]
     },
     "metadata": {},
     "output_type": "display_data"
    },
    {
     "name": "stdout",
     "output_type": "stream",
     "text": [
      "5\n",
      "Super friendly & made me feel comfortable w\\/ almost no clothes on.\n"
     ]
    },
    {
     "data": {
      "text/html": [
       "<div>\n",
       "<style scoped>\n",
       "    .dataframe tbody tr th:only-of-type {\n",
       "        vertical-align: middle;\n",
       "    }\n",
       "\n",
       "    .dataframe tbody tr th {\n",
       "        vertical-align: top;\n",
       "    }\n",
       "\n",
       "    .dataframe thead th {\n",
       "        text-align: right;\n",
       "    }\n",
       "</style>\n",
       "<table border=\"1\" class=\"dataframe\">\n",
       "  <thead>\n",
       "    <tr style=\"text-align: right;\">\n",
       "      <th></th>\n",
       "      <th>positive</th>\n",
       "      <th>negative</th>\n",
       "      <th>objective</th>\n",
       "    </tr>\n",
       "  </thead>\n",
       "  <tbody>\n",
       "    <tr>\n",
       "      <th>80</th>\n",
       "      <td>-1.006544</td>\n",
       "      <td>-0.862429</td>\n",
       "      <td>-0.939425</td>\n",
       "    </tr>\n",
       "  </tbody>\n",
       "</table>\n",
       "</div>"
      ],
      "text/plain": [
       "    positive  negative  objective\n",
       "80 -1.006544 -0.862429  -0.939425"
      ]
     },
     "metadata": {},
     "output_type": "display_data"
    },
    {
     "name": "stdout",
     "output_type": "stream",
     "text": [
      "4\n",
      "First visit and I'm not at all disappointed. I can't tell you how many times I walk by and just take for granted that it's there. \"I'll get there sometime\" kind of attitude. Jeez, I'm mad it took me so long.\n",
      "Sushi is just amazing and super fresh. And oh so affordable!\n",
      "Can't wait to get back!\n"
     ]
    },
    {
     "data": {
      "text/html": [
       "<div>\n",
       "<style scoped>\n",
       "    .dataframe tbody tr th:only-of-type {\n",
       "        vertical-align: middle;\n",
       "    }\n",
       "\n",
       "    .dataframe tbody tr th {\n",
       "        vertical-align: top;\n",
       "    }\n",
       "\n",
       "    .dataframe thead th {\n",
       "        text-align: right;\n",
       "    }\n",
       "</style>\n",
       "<table border=\"1\" class=\"dataframe\">\n",
       "  <thead>\n",
       "    <tr style=\"text-align: right;\">\n",
       "      <th></th>\n",
       "      <th>positive</th>\n",
       "      <th>negative</th>\n",
       "      <th>objective</th>\n",
       "    </tr>\n",
       "  </thead>\n",
       "  <tbody>\n",
       "    <tr>\n",
       "      <th>81</th>\n",
       "      <td>-0.533827</td>\n",
       "      <td>-0.05577</td>\n",
       "      <td>-0.431558</td>\n",
       "    </tr>\n",
       "  </tbody>\n",
       "</table>\n",
       "</div>"
      ],
      "text/plain": [
       "    positive  negative  objective\n",
       "81 -0.533827  -0.05577  -0.431558"
      ]
     },
     "metadata": {},
     "output_type": "display_data"
    },
    {
     "name": "stdout",
     "output_type": "stream",
     "text": [
      "3\n",
      "I've gone to Eva Nails & Spa for the last month or so to get my nails filled. It's a nice little place. They offered me water every time I'm there.  \n",
      "As for my nails, they always come out looking great. I get the white tips with pink polish on top. I can usually go about 2 1\\/2-3 weeks between fills. They know exactly what I want and how I like my nails. I do get annoyed that one of the nail tech's son (about 1-2years old) runs around the shop. He snuck up and took off with my phone one day and then screamed when they took it away. Another time he tried to get it but I was able to get to it before him. It's a little annoying they have him running around when customers are there. He plays with the stuff on the other tables and gets into things. I think they should either not bring him, or hire a sitter.\n"
     ]
    },
    {
     "data": {
      "text/html": [
       "<div>\n",
       "<style scoped>\n",
       "    .dataframe tbody tr th:only-of-type {\n",
       "        vertical-align: middle;\n",
       "    }\n",
       "\n",
       "    .dataframe tbody tr th {\n",
       "        vertical-align: top;\n",
       "    }\n",
       "\n",
       "    .dataframe thead th {\n",
       "        text-align: right;\n",
       "    }\n",
       "</style>\n",
       "<table border=\"1\" class=\"dataframe\">\n",
       "  <thead>\n",
       "    <tr style=\"text-align: right;\">\n",
       "      <th></th>\n",
       "      <th>positive</th>\n",
       "      <th>negative</th>\n",
       "      <th>objective</th>\n",
       "    </tr>\n",
       "  </thead>\n",
       "  <tbody>\n",
       "    <tr>\n",
       "      <th>83</th>\n",
       "      <td>-0.037465</td>\n",
       "      <td>0.387913</td>\n",
       "      <td>0.490726</td>\n",
       "    </tr>\n",
       "  </tbody>\n",
       "</table>\n",
       "</div>"
      ],
      "text/plain": [
       "    positive  negative  objective\n",
       "83 -0.037465  0.387913   0.490726"
      ]
     },
     "metadata": {},
     "output_type": "display_data"
    },
    {
     "name": "stdout",
     "output_type": "stream",
     "text": [
      "5\n",
      "These guys did an amazing job on our front yard! We needed the front yard and sides of the house cleaned up and it looks amazing. They pulled all the weeds, blew out all debris, sprayed weed killer and trimmed all the shrubs. I will most definitely be using their service again in the future!!\n"
     ]
    },
    {
     "data": {
      "text/html": [
       "<div>\n",
       "<style scoped>\n",
       "    .dataframe tbody tr th:only-of-type {\n",
       "        vertical-align: middle;\n",
       "    }\n",
       "\n",
       "    .dataframe tbody tr th {\n",
       "        vertical-align: top;\n",
       "    }\n",
       "\n",
       "    .dataframe thead th {\n",
       "        text-align: right;\n",
       "    }\n",
       "</style>\n",
       "<table border=\"1\" class=\"dataframe\">\n",
       "  <thead>\n",
       "    <tr style=\"text-align: right;\">\n",
       "      <th></th>\n",
       "      <th>positive</th>\n",
       "      <th>negative</th>\n",
       "      <th>objective</th>\n",
       "    </tr>\n",
       "  </thead>\n",
       "  <tbody>\n",
       "    <tr>\n",
       "      <th>84</th>\n",
       "      <td>-0.656697</td>\n",
       "      <td>-0.446646</td>\n",
       "      <td>-0.464775</td>\n",
       "    </tr>\n",
       "  </tbody>\n",
       "</table>\n",
       "</div>"
      ],
      "text/plain": [
       "    positive  negative  objective\n",
       "84 -0.656697 -0.446646  -0.464775"
      ]
     },
     "metadata": {},
     "output_type": "display_data"
    },
    {
     "name": "stdout",
     "output_type": "stream",
     "text": [
      "1\n",
      "I waited for my order for over 10 minutes. I ordered two chicken finger kids meals and two adult meals. Had to pull forward and wait another ten minutes for food. When I got home they didn't give me my kids meals.\n"
     ]
    },
    {
     "data": {
      "text/html": [
       "<div>\n",
       "<style scoped>\n",
       "    .dataframe tbody tr th:only-of-type {\n",
       "        vertical-align: middle;\n",
       "    }\n",
       "\n",
       "    .dataframe tbody tr th {\n",
       "        vertical-align: top;\n",
       "    }\n",
       "\n",
       "    .dataframe thead th {\n",
       "        text-align: right;\n",
       "    }\n",
       "</style>\n",
       "<table border=\"1\" class=\"dataframe\">\n",
       "  <thead>\n",
       "    <tr style=\"text-align: right;\">\n",
       "      <th></th>\n",
       "      <th>positive</th>\n",
       "      <th>negative</th>\n",
       "      <th>objective</th>\n",
       "    </tr>\n",
       "  </thead>\n",
       "  <tbody>\n",
       "    <tr>\n",
       "      <th>85</th>\n",
       "      <td>-1.151214</td>\n",
       "      <td>-0.791026</td>\n",
       "      <td>-0.581003</td>\n",
       "    </tr>\n",
       "  </tbody>\n",
       "</table>\n",
       "</div>"
      ],
      "text/plain": [
       "    positive  negative  objective\n",
       "85 -1.151214 -0.791026  -0.581003"
      ]
     },
     "metadata": {},
     "output_type": "display_data"
    },
    {
     "name": "stdout",
     "output_type": "stream",
     "text": [
      "5\n",
      "How I love you Waffle House....\n",
      "\n",
      "When I see your awkward plain square yellow letters...W...A...F....F....L...E.....H....O....U....S...E....I truly light up inside.....you have been my inspiration to continue driving on many of my road trips.....I just keep going and going and going...from one waffle house to the next through out the whole country......sometimes I am unfaithful to you and swing in to Cracker Barrel...but you always get me first..they get your sloppy seconds......Yes I can see your sign in my mind right now.....\n",
      "\n",
      "I swing in and almost sprint inside....I force myself in between to fat smelly truck drivers at the counter...and then I wait for the oh so ugly staff with the lazy eye and missing teeth to ask my for my order.( I wonder if having a lazy eye is a job requirement at Waffle House ).....no need for a menu...I know....I always know.....I want the cheese egg special that comes with raison toast ,apple butter and yummy ass hashbrowns ( be careful in some states it comes with nasty ass grits ).......sometimes I get a double order of eggs......and a diet coke ofcourse.....\n",
      "\n",
      "Then I watch as the even uglier sweaty cooks go to work on my breakfast...my mouth waters...not even the stench of the fat truck driver staring a my tits next to me....can stop my excitement...my tongue waits to lick the plate...greesy cheesy goodness....no need to have any class here....as I look around at another truck driver picking his nose in the corner.....\n",
      "\n",
      "I dream of Waffle House.....and my 3 dollar breakfast...its the first place I stop as soon as I leave California.....God how I wish we had one in my State\n"
     ]
    },
    {
     "data": {
      "text/html": [
       "<div>\n",
       "<style scoped>\n",
       "    .dataframe tbody tr th:only-of-type {\n",
       "        vertical-align: middle;\n",
       "    }\n",
       "\n",
       "    .dataframe tbody tr th {\n",
       "        vertical-align: top;\n",
       "    }\n",
       "\n",
       "    .dataframe thead th {\n",
       "        text-align: right;\n",
       "    }\n",
       "</style>\n",
       "<table border=\"1\" class=\"dataframe\">\n",
       "  <thead>\n",
       "    <tr style=\"text-align: right;\">\n",
       "      <th></th>\n",
       "      <th>positive</th>\n",
       "      <th>negative</th>\n",
       "      <th>objective</th>\n",
       "    </tr>\n",
       "  </thead>\n",
       "  <tbody>\n",
       "    <tr>\n",
       "      <th>88</th>\n",
       "      <td>1.433177</td>\n",
       "      <td>2.994267</td>\n",
       "      <td>1.91147</td>\n",
       "    </tr>\n",
       "  </tbody>\n",
       "</table>\n",
       "</div>"
      ],
      "text/plain": [
       "    positive  negative  objective\n",
       "88  1.433177  2.994267    1.91147"
      ]
     },
     "metadata": {},
     "output_type": "display_data"
    },
    {
     "name": "stdout",
     "output_type": "stream",
     "text": [
      "4\n",
      "Grabbed a beer post-farmers market. Great spot with Wisconsin roots and solid service.\n"
     ]
    },
    {
     "data": {
      "text/html": [
       "<div>\n",
       "<style scoped>\n",
       "    .dataframe tbody tr th:only-of-type {\n",
       "        vertical-align: middle;\n",
       "    }\n",
       "\n",
       "    .dataframe tbody tr th {\n",
       "        vertical-align: top;\n",
       "    }\n",
       "\n",
       "    .dataframe thead th {\n",
       "        text-align: right;\n",
       "    }\n",
       "</style>\n",
       "<table border=\"1\" class=\"dataframe\">\n",
       "  <thead>\n",
       "    <tr style=\"text-align: right;\">\n",
       "      <th></th>\n",
       "      <th>positive</th>\n",
       "      <th>negative</th>\n",
       "      <th>objective</th>\n",
       "    </tr>\n",
       "  </thead>\n",
       "  <tbody>\n",
       "    <tr>\n",
       "      <th>89</th>\n",
       "      <td>-1.080925</td>\n",
       "      <td>-0.941541</td>\n",
       "      <td>-0.863061</td>\n",
       "    </tr>\n",
       "  </tbody>\n",
       "</table>\n",
       "</div>"
      ],
      "text/plain": [
       "    positive  negative  objective\n",
       "89 -1.080925 -0.941541  -0.863061"
      ]
     },
     "metadata": {},
     "output_type": "display_data"
    },
    {
     "name": "stdout",
     "output_type": "stream",
     "text": [
      "5\n",
      "Small quiet street parking available. The food was carefully done they do take their time. Be ready for a short wait. If you're in a hurry this isn't the place for you. Like being in your mother's kitchen. Close Quarters happy people a little noisy but all worth it. Food was carefully done. Lots of choices. Love getting the waffle poached eggs bacon and a good cup of coffee. That's what life is made of small memories socializing happy people Good Times.\n"
     ]
    },
    {
     "data": {
      "text/html": [
       "<div>\n",
       "<style scoped>\n",
       "    .dataframe tbody tr th:only-of-type {\n",
       "        vertical-align: middle;\n",
       "    }\n",
       "\n",
       "    .dataframe tbody tr th {\n",
       "        vertical-align: top;\n",
       "    }\n",
       "\n",
       "    .dataframe thead th {\n",
       "        text-align: right;\n",
       "    }\n",
       "</style>\n",
       "<table border=\"1\" class=\"dataframe\">\n",
       "  <thead>\n",
       "    <tr style=\"text-align: right;\">\n",
       "      <th></th>\n",
       "      <th>positive</th>\n",
       "      <th>negative</th>\n",
       "      <th>objective</th>\n",
       "    </tr>\n",
       "  </thead>\n",
       "  <tbody>\n",
       "    <tr>\n",
       "      <th>91</th>\n",
       "      <td>-0.067154</td>\n",
       "      <td>0.033684</td>\n",
       "      <td>-0.100678</td>\n",
       "    </tr>\n",
       "  </tbody>\n",
       "</table>\n",
       "</div>"
      ],
      "text/plain": [
       "    positive  negative  objective\n",
       "91 -0.067154  0.033684  -0.100678"
      ]
     },
     "metadata": {},
     "output_type": "display_data"
    },
    {
     "name": "stdout",
     "output_type": "stream",
     "text": [
      "2\n",
      "Strike 1: our reserved, non-smoking room was not ready at check in. We were given the excuse that 'we cannot guarantee specific room types, rather do our best to fulfill special requests.' That's BS in my opinion. After a long drive, having to wait any amount of time for a room to be ready is not okay. \n",
      "\n",
      "Strike 2: the room was not cleaned well, aside from a made bed, empty trash and folded towels. Actually, it looks like it hadn't been cleaned well in quite some time. Lots of dust and random liquid stains in the room. Gross. The walk up to the room was also disappointing, the symbols they use as lighting fixtures were missing throughout the halls, it looked very sloppy and unkept. \n",
      "\n",
      "Strike 3: for the price we paid, we would have stayed closer to the strip at a chain hotel (embassy, Westin etc. etc. ) with better cleanliness. Although the maids were nice, they looked a little overwhelmed. \n",
      "\n",
      "On another note, the food at Mr. Luckys was good. The staff were nice and the food tasted great.\n"
     ]
    },
    {
     "data": {
      "text/html": [
       "<div>\n",
       "<style scoped>\n",
       "    .dataframe tbody tr th:only-of-type {\n",
       "        vertical-align: middle;\n",
       "    }\n",
       "\n",
       "    .dataframe tbody tr th {\n",
       "        vertical-align: top;\n",
       "    }\n",
       "\n",
       "    .dataframe thead th {\n",
       "        text-align: right;\n",
       "    }\n",
       "</style>\n",
       "<table border=\"1\" class=\"dataframe\">\n",
       "  <thead>\n",
       "    <tr style=\"text-align: right;\">\n",
       "      <th></th>\n",
       "      <th>positive</th>\n",
       "      <th>negative</th>\n",
       "      <th>objective</th>\n",
       "    </tr>\n",
       "  </thead>\n",
       "  <tbody>\n",
       "    <tr>\n",
       "      <th>93</th>\n",
       "      <td>1.548805</td>\n",
       "      <td>0.895949</td>\n",
       "      <td>0.598666</td>\n",
       "    </tr>\n",
       "  </tbody>\n",
       "</table>\n",
       "</div>"
      ],
      "text/plain": [
       "    positive  negative  objective\n",
       "93  1.548805  0.895949   0.598666"
      ]
     },
     "metadata": {},
     "output_type": "display_data"
    },
    {
     "name": "stdout",
     "output_type": "stream",
     "text": [
      "5\n",
      "I don't usually take my clothes to the dry cleaner because it is such a hassle. I had a formal though and needed my suit cleaned. I brought some other shirts and pants along since I was going anyway.\n",
      "\n",
      "I am super happy with the results. They starched and pressed everything perfectly. But amazingly they removed a grease stain from one of my shirts that I assumed was impossible to remove. I didn't even ask them to do it but they did it anyway!\n"
     ]
    },
    {
     "data": {
      "text/html": [
       "<div>\n",
       "<style scoped>\n",
       "    .dataframe tbody tr th:only-of-type {\n",
       "        vertical-align: middle;\n",
       "    }\n",
       "\n",
       "    .dataframe tbody tr th {\n",
       "        vertical-align: top;\n",
       "    }\n",
       "\n",
       "    .dataframe thead th {\n",
       "        text-align: right;\n",
       "    }\n",
       "</style>\n",
       "<table border=\"1\" class=\"dataframe\">\n",
       "  <thead>\n",
       "    <tr style=\"text-align: right;\">\n",
       "      <th></th>\n",
       "      <th>positive</th>\n",
       "      <th>negative</th>\n",
       "      <th>objective</th>\n",
       "    </tr>\n",
       "  </thead>\n",
       "  <tbody>\n",
       "    <tr>\n",
       "      <th>94</th>\n",
       "      <td>-0.584705</td>\n",
       "      <td>0.014134</td>\n",
       "      <td>-0.299942</td>\n",
       "    </tr>\n",
       "  </tbody>\n",
       "</table>\n",
       "</div>"
      ],
      "text/plain": [
       "    positive  negative  objective\n",
       "94 -0.584705  0.014134  -0.299942"
      ]
     },
     "metadata": {},
     "output_type": "display_data"
    },
    {
     "name": "stdout",
     "output_type": "stream",
     "text": [
      "5\n",
      "NICE!!! I called for information, Randy took the time to walk me through the options...even telling me how to do it myself if I wanted. I tested out his thoughts and then called him back. He was prompt, polite, educational and efficient!!! The best I've seen! THANKS!!!!\n"
     ]
    },
    {
     "data": {
      "text/html": [
       "<div>\n",
       "<style scoped>\n",
       "    .dataframe tbody tr th:only-of-type {\n",
       "        vertical-align: middle;\n",
       "    }\n",
       "\n",
       "    .dataframe tbody tr th {\n",
       "        vertical-align: top;\n",
       "    }\n",
       "\n",
       "    .dataframe thead th {\n",
       "        text-align: right;\n",
       "    }\n",
       "</style>\n",
       "<table border=\"1\" class=\"dataframe\">\n",
       "  <thead>\n",
       "    <tr style=\"text-align: right;\">\n",
       "      <th></th>\n",
       "      <th>positive</th>\n",
       "      <th>negative</th>\n",
       "      <th>objective</th>\n",
       "    </tr>\n",
       "  </thead>\n",
       "  <tbody>\n",
       "    <tr>\n",
       "      <th>95</th>\n",
       "      <td>-0.325429</td>\n",
       "      <td>-0.61514</td>\n",
       "      <td>-0.634776</td>\n",
       "    </tr>\n",
       "  </tbody>\n",
       "</table>\n",
       "</div>"
      ],
      "text/plain": [
       "    positive  negative  objective\n",
       "95 -0.325429  -0.61514  -0.634776"
      ]
     },
     "metadata": {},
     "output_type": "display_data"
    },
    {
     "name": "stdout",
     "output_type": "stream",
     "text": [
      "3\n",
      "24 hour tacos? Yes please.\n",
      "\n",
      "This place is a modest spot in the middle of a strip mall, seats about 2 dozen, and has a little self serve (I think? I hope?) mini buffet nook for peppers and veggies and whatnot. \n",
      "\n",
      "The dude working here was nice enough, but the real point we care about is the food, huh? \n",
      "\n",
      "I got the shredded beef burrito, which was tasty, but wet\\/soggy and not exactly overly flavorful. We also got the chicken chimichanga, which was huge, stuffed with a ton of chicken and cheese. Lastly was the shredded beef enchilada plate, which had a ton of onions, despite being told otherwise. \n",
      "\n",
      "Overall, if you order a plate, the portions are huge. 3 stars because it's satisfying and a decent price, but not memorable.\n"
     ]
    },
    {
     "data": {
      "text/html": [
       "<div>\n",
       "<style scoped>\n",
       "    .dataframe tbody tr th:only-of-type {\n",
       "        vertical-align: middle;\n",
       "    }\n",
       "\n",
       "    .dataframe tbody tr th {\n",
       "        vertical-align: top;\n",
       "    }\n",
       "\n",
       "    .dataframe thead th {\n",
       "        text-align: right;\n",
       "    }\n",
       "</style>\n",
       "<table border=\"1\" class=\"dataframe\">\n",
       "  <thead>\n",
       "    <tr style=\"text-align: right;\">\n",
       "      <th></th>\n",
       "      <th>positive</th>\n",
       "      <th>negative</th>\n",
       "      <th>objective</th>\n",
       "    </tr>\n",
       "  </thead>\n",
       "  <tbody>\n",
       "    <tr>\n",
       "      <th>96</th>\n",
       "      <td>0.066105</td>\n",
       "      <td>0.396205</td>\n",
       "      <td>0.306464</td>\n",
       "    </tr>\n",
       "  </tbody>\n",
       "</table>\n",
       "</div>"
      ],
      "text/plain": [
       "    positive  negative  objective\n",
       "96  0.066105  0.396205   0.306464"
      ]
     },
     "metadata": {},
     "output_type": "display_data"
    },
    {
     "name": "stdout",
     "output_type": "stream",
     "text": [
      "5\n",
      "I love this place! The food is fresh and the portions are huge. So glad they have a 2nd location\n"
     ]
    },
    {
     "data": {
      "text/html": [
       "<div>\n",
       "<style scoped>\n",
       "    .dataframe tbody tr th:only-of-type {\n",
       "        vertical-align: middle;\n",
       "    }\n",
       "\n",
       "    .dataframe tbody tr th {\n",
       "        vertical-align: top;\n",
       "    }\n",
       "\n",
       "    .dataframe thead th {\n",
       "        text-align: right;\n",
       "    }\n",
       "</style>\n",
       "<table border=\"1\" class=\"dataframe\">\n",
       "  <thead>\n",
       "    <tr style=\"text-align: right;\">\n",
       "      <th></th>\n",
       "      <th>positive</th>\n",
       "      <th>negative</th>\n",
       "      <th>objective</th>\n",
       "    </tr>\n",
       "  </thead>\n",
       "  <tbody>\n",
       "    <tr>\n",
       "      <th>97</th>\n",
       "      <td>-0.85473</td>\n",
       "      <td>-0.691829</td>\n",
       "      <td>-0.807817</td>\n",
       "    </tr>\n",
       "  </tbody>\n",
       "</table>\n",
       "</div>"
      ],
      "text/plain": [
       "    positive  negative  objective\n",
       "97  -0.85473 -0.691829  -0.807817"
      ]
     },
     "metadata": {},
     "output_type": "display_data"
    },
    {
     "name": "stdout",
     "output_type": "stream",
     "text": [
      "5\n",
      "One of my favorite museums.  It is several floors and the best part is that they let you take pictures (and I proceeded to photograph every piece of work on display).  I was there close to 3 hours which is rare.  They regularly rotate his work and what you see if probably just a fraction of it.  I can't wait to return!\n"
     ]
    },
    {
     "data": {
      "text/html": [
       "<div>\n",
       "<style scoped>\n",
       "    .dataframe tbody tr th:only-of-type {\n",
       "        vertical-align: middle;\n",
       "    }\n",
       "\n",
       "    .dataframe tbody tr th {\n",
       "        vertical-align: top;\n",
       "    }\n",
       "\n",
       "    .dataframe thead th {\n",
       "        text-align: right;\n",
       "    }\n",
       "</style>\n",
       "<table border=\"1\" class=\"dataframe\">\n",
       "  <thead>\n",
       "    <tr style=\"text-align: right;\">\n",
       "      <th></th>\n",
       "      <th>positive</th>\n",
       "      <th>negative</th>\n",
       "      <th>objective</th>\n",
       "    </tr>\n",
       "  </thead>\n",
       "  <tbody>\n",
       "    <tr>\n",
       "      <th>98</th>\n",
       "      <td>-0.741845</td>\n",
       "      <td>-0.70853</td>\n",
       "      <td>-0.442694</td>\n",
       "    </tr>\n",
       "  </tbody>\n",
       "</table>\n",
       "</div>"
      ],
      "text/plain": [
       "    positive  negative  objective\n",
       "98 -0.741845  -0.70853  -0.442694"
      ]
     },
     "metadata": {},
     "output_type": "display_data"
    },
    {
     "name": "stdout",
     "output_type": "stream",
     "text": [
      "1\n",
      "Excited to go to stop by a new fabric store and the hours on the door was posted as being open at 10 AM, got there at 10:15 and it was dark inside, no lights on and \n",
      "the door was locked.... looked really small and not too many bolts of fabric.  Won't be driving out there again.\n"
     ]
    },
    {
     "data": {
      "text/html": [
       "<div>\n",
       "<style scoped>\n",
       "    .dataframe tbody tr th:only-of-type {\n",
       "        vertical-align: middle;\n",
       "    }\n",
       "\n",
       "    .dataframe tbody tr th {\n",
       "        vertical-align: top;\n",
       "    }\n",
       "\n",
       "    .dataframe thead th {\n",
       "        text-align: right;\n",
       "    }\n",
       "</style>\n",
       "<table border=\"1\" class=\"dataframe\">\n",
       "  <thead>\n",
       "    <tr style=\"text-align: right;\">\n",
       "      <th></th>\n",
       "      <th>positive</th>\n",
       "      <th>negative</th>\n",
       "      <th>objective</th>\n",
       "    </tr>\n",
       "  </thead>\n",
       "  <tbody>\n",
       "    <tr>\n",
       "      <th>99</th>\n",
       "      <td>-0.83446</td>\n",
       "      <td>-0.422816</td>\n",
       "      <td>-0.408194</td>\n",
       "    </tr>\n",
       "  </tbody>\n",
       "</table>\n",
       "</div>"
      ],
      "text/plain": [
       "    positive  negative  objective\n",
       "99  -0.83446 -0.422816  -0.408194"
      ]
     },
     "metadata": {},
     "output_type": "display_data"
    },
    {
     "name": "stdout",
     "output_type": "stream",
     "text": [
      "5\n",
      "Great price on a JVC double din for my Vette.  Nice guys and pretty quick.  You need an appointment for Saturday work I think.  Saw a review about someone complaining about low end equipment.  You get what you pay for...if you pick low end stuff it's not the shops fault.  I didn't see much low end stuff while I was there mostly name brands like JVC and Kenwood.   I recommend these guys.\n"
     ]
    },
    {
     "data": {
      "text/html": [
       "<div>\n",
       "<style scoped>\n",
       "    .dataframe tbody tr th:only-of-type {\n",
       "        vertical-align: middle;\n",
       "    }\n",
       "\n",
       "    .dataframe tbody tr th {\n",
       "        vertical-align: top;\n",
       "    }\n",
       "\n",
       "    .dataframe thead th {\n",
       "        text-align: right;\n",
       "    }\n",
       "</style>\n",
       "<table border=\"1\" class=\"dataframe\">\n",
       "  <thead>\n",
       "    <tr style=\"text-align: right;\">\n",
       "      <th></th>\n",
       "      <th>positive</th>\n",
       "      <th>negative</th>\n",
       "      <th>objective</th>\n",
       "    </tr>\n",
       "  </thead>\n",
       "  <tbody>\n",
       "    <tr>\n",
       "      <th>101</th>\n",
       "      <td>-0.539712</td>\n",
       "      <td>0.134176</td>\n",
       "      <td>-0.310536</td>\n",
       "    </tr>\n",
       "  </tbody>\n",
       "</table>\n",
       "</div>"
      ],
      "text/plain": [
       "     positive  negative  objective\n",
       "101 -0.539712  0.134176  -0.310536"
      ]
     },
     "metadata": {},
     "output_type": "display_data"
    },
    {
     "name": "stdout",
     "output_type": "stream",
     "text": [
      "5\n",
      "This is probably the 6 th time me and my boyfriend coming here. There hamburgers are awesome and so are there wings. We found this place by going on yelp. Boy am I glad that we choose this place and the waitress Jess is GREAT!!! They have the fishbowl drink specials on Fridays $10. And they are normally $15. Either way worth every penny not watered down. They are 84 oz. always a great time\n"
     ]
    },
    {
     "data": {
      "text/html": [
       "<div>\n",
       "<style scoped>\n",
       "    .dataframe tbody tr th:only-of-type {\n",
       "        vertical-align: middle;\n",
       "    }\n",
       "\n",
       "    .dataframe tbody tr th {\n",
       "        vertical-align: top;\n",
       "    }\n",
       "\n",
       "    .dataframe thead th {\n",
       "        text-align: right;\n",
       "    }\n",
       "</style>\n",
       "<table border=\"1\" class=\"dataframe\">\n",
       "  <thead>\n",
       "    <tr style=\"text-align: right;\">\n",
       "      <th></th>\n",
       "      <th>positive</th>\n",
       "      <th>negative</th>\n",
       "      <th>objective</th>\n",
       "    </tr>\n",
       "  </thead>\n",
       "  <tbody>\n",
       "    <tr>\n",
       "      <th>102</th>\n",
       "      <td>-0.507067</td>\n",
       "      <td>-0.764945</td>\n",
       "      <td>-0.436043</td>\n",
       "    </tr>\n",
       "  </tbody>\n",
       "</table>\n",
       "</div>"
      ],
      "text/plain": [
       "     positive  negative  objective\n",
       "102 -0.507067 -0.764945  -0.436043"
      ]
     },
     "metadata": {},
     "output_type": "display_data"
    },
    {
     "name": "stdout",
     "output_type": "stream",
     "text": [
      "5\n",
      "Caveman has always been helpful and generous with their time to help get my projects right. The first product I ever purchased from them was an enlargement of a CD cover that was being blown up to poster-size so I could give it to my wife as a gift, and it was reasonably priced and turned out looking great. I'm currently in the design stage of having business shirts made for my computer repair company, Working Technologies. I'll post some pictures up once they're finished! Thanks for being a quality, independently run company, places like this are a rare breed these days and deserve more business.\n"
     ]
    },
    {
     "data": {
      "text/html": [
       "<div>\n",
       "<style scoped>\n",
       "    .dataframe tbody tr th:only-of-type {\n",
       "        vertical-align: middle;\n",
       "    }\n",
       "\n",
       "    .dataframe tbody tr th {\n",
       "        vertical-align: top;\n",
       "    }\n",
       "\n",
       "    .dataframe thead th {\n",
       "        text-align: right;\n",
       "    }\n",
       "</style>\n",
       "<table border=\"1\" class=\"dataframe\">\n",
       "  <thead>\n",
       "    <tr style=\"text-align: right;\">\n",
       "      <th></th>\n",
       "      <th>positive</th>\n",
       "      <th>negative</th>\n",
       "      <th>objective</th>\n",
       "    </tr>\n",
       "  </thead>\n",
       "  <tbody>\n",
       "    <tr>\n",
       "      <th>105</th>\n",
       "      <td>-0.210484</td>\n",
       "      <td>-0.419821</td>\n",
       "      <td>0.046965</td>\n",
       "    </tr>\n",
       "  </tbody>\n",
       "</table>\n",
       "</div>"
      ],
      "text/plain": [
       "     positive  negative  objective\n",
       "105 -0.210484 -0.419821   0.046965"
      ]
     },
     "metadata": {},
     "output_type": "display_data"
    },
    {
     "name": "stdout",
     "output_type": "stream",
     "text": [
      "3\n",
      "I'm giving this place a 3.5! (and that's a good thing)\n",
      "\n",
      "Whenever I'm craving Korean BBQ and don't have much $$ I go here strictly for the price. It's a lot more affordable than other ayce places which will cost me (+ tip) around $30 for dinner. The meat and banchans are pretty good, not crappy at all. They do lack desserts but so does Sura. I guess desserts aren't highlighted in Korean BBQ because people are too stuffed with meat and ran out of room for anything sweet afterwards. Everything they serve on the buffet may not be an A+... maybe a B- \n",
      "\n",
      "They have at least 4 different marinated meat selections and another 3 or 4 \"dry\" meat which includes beef, pork and chicken. They also serve seafood such as shrimp and squid. They have all sorts of \"salads\" or cold dishes, along side other appetizers? Such as pot stickers and grilled fish. They also serve sushi rolls but I never give those any attention. If I want to eat sushi, ayce Korean BBQ (or any buffet in general) ain't the place. I go to ayce sushi joints for that. They serve rose tea and I'm addicted to it. I'd drink like 5 servings lol\n",
      "\n",
      "I know there are better places, but you can't beat it for the price. It definitely satisfies my meat cravings ;)\n"
     ]
    },
    {
     "data": {
      "text/html": [
       "<div>\n",
       "<style scoped>\n",
       "    .dataframe tbody tr th:only-of-type {\n",
       "        vertical-align: middle;\n",
       "    }\n",
       "\n",
       "    .dataframe tbody tr th {\n",
       "        vertical-align: top;\n",
       "    }\n",
       "\n",
       "    .dataframe thead th {\n",
       "        text-align: right;\n",
       "    }\n",
       "</style>\n",
       "<table border=\"1\" class=\"dataframe\">\n",
       "  <thead>\n",
       "    <tr style=\"text-align: right;\">\n",
       "      <th></th>\n",
       "      <th>positive</th>\n",
       "      <th>negative</th>\n",
       "      <th>objective</th>\n",
       "    </tr>\n",
       "  </thead>\n",
       "  <tbody>\n",
       "    <tr>\n",
       "      <th>106</th>\n",
       "      <td>0.654741</td>\n",
       "      <td>0.895284</td>\n",
       "      <td>1.064569</td>\n",
       "    </tr>\n",
       "  </tbody>\n",
       "</table>\n",
       "</div>"
      ],
      "text/plain": [
       "     positive  negative  objective\n",
       "106  0.654741  0.895284   1.064569"
      ]
     },
     "metadata": {},
     "output_type": "display_data"
    },
    {
     "name": "stdout",
     "output_type": "stream",
     "text": [
      "5\n",
      "Really enjoyed taking my niece (7 years old) to get pedicures. Nice people, good pedis! $20 isn't a bad deal :D\n"
     ]
    },
    {
     "data": {
      "text/html": [
       "<div>\n",
       "<style scoped>\n",
       "    .dataframe tbody tr th:only-of-type {\n",
       "        vertical-align: middle;\n",
       "    }\n",
       "\n",
       "    .dataframe tbody tr th {\n",
       "        vertical-align: top;\n",
       "    }\n",
       "\n",
       "    .dataframe thead th {\n",
       "        text-align: right;\n",
       "    }\n",
       "</style>\n",
       "<table border=\"1\" class=\"dataframe\">\n",
       "  <thead>\n",
       "    <tr style=\"text-align: right;\">\n",
       "      <th></th>\n",
       "      <th>positive</th>\n",
       "      <th>negative</th>\n",
       "      <th>objective</th>\n",
       "    </tr>\n",
       "  </thead>\n",
       "  <tbody>\n",
       "    <tr>\n",
       "      <th>107</th>\n",
       "      <td>-0.539393</td>\n",
       "      <td>-0.644818</td>\n",
       "      <td>-0.813605</td>\n",
       "    </tr>\n",
       "  </tbody>\n",
       "</table>\n",
       "</div>"
      ],
      "text/plain": [
       "     positive  negative  objective\n",
       "107 -0.539393 -0.644818  -0.813605"
      ]
     },
     "metadata": {},
     "output_type": "display_data"
    },
    {
     "name": "stdout",
     "output_type": "stream",
     "text": [
      "4\n",
      "I absolutely love this bakery and I am so glad it is too far to go to on a regular or I would be big as a house LOL!. I highly recommend the butterscotch ganache and the coffee and donuts or just the donuts without the coffee LOL! You'll go away happy that's for sure!\n"
     ]
    },
    {
     "data": {
      "text/html": [
       "<div>\n",
       "<style scoped>\n",
       "    .dataframe tbody tr th:only-of-type {\n",
       "        vertical-align: middle;\n",
       "    }\n",
       "\n",
       "    .dataframe tbody tr th {\n",
       "        vertical-align: top;\n",
       "    }\n",
       "\n",
       "    .dataframe thead th {\n",
       "        text-align: right;\n",
       "    }\n",
       "</style>\n",
       "<table border=\"1\" class=\"dataframe\">\n",
       "  <thead>\n",
       "    <tr style=\"text-align: right;\">\n",
       "      <th></th>\n",
       "      <th>positive</th>\n",
       "      <th>negative</th>\n",
       "      <th>objective</th>\n",
       "    </tr>\n",
       "  </thead>\n",
       "  <tbody>\n",
       "    <tr>\n",
       "      <th>108</th>\n",
       "      <td>-0.155481</td>\n",
       "      <td>-0.563805</td>\n",
       "      <td>-0.585407</td>\n",
       "    </tr>\n",
       "  </tbody>\n",
       "</table>\n",
       "</div>"
      ],
      "text/plain": [
       "     positive  negative  objective\n",
       "108 -0.155481 -0.563805  -0.585407"
      ]
     },
     "metadata": {},
     "output_type": "display_data"
    },
    {
     "name": "stdout",
     "output_type": "stream",
     "text": [
      "5\n",
      "Great service and seen in a timely manner. Came in with back spasms and pain. Left with all the meds and exercises to get over it. Did not need to see anyone else. Felt completely better soon after.\n"
     ]
    },
    {
     "data": {
      "text/html": [
       "<div>\n",
       "<style scoped>\n",
       "    .dataframe tbody tr th:only-of-type {\n",
       "        vertical-align: middle;\n",
       "    }\n",
       "\n",
       "    .dataframe tbody tr th {\n",
       "        vertical-align: top;\n",
       "    }\n",
       "\n",
       "    .dataframe thead th {\n",
       "        text-align: right;\n",
       "    }\n",
       "</style>\n",
       "<table border=\"1\" class=\"dataframe\">\n",
       "  <thead>\n",
       "    <tr style=\"text-align: right;\">\n",
       "      <th></th>\n",
       "      <th>positive</th>\n",
       "      <th>negative</th>\n",
       "      <th>objective</th>\n",
       "    </tr>\n",
       "  </thead>\n",
       "  <tbody>\n",
       "    <tr>\n",
       "      <th>110</th>\n",
       "      <td>-0.688569</td>\n",
       "      <td>-0.406258</td>\n",
       "      <td>-0.662132</td>\n",
       "    </tr>\n",
       "  </tbody>\n",
       "</table>\n",
       "</div>"
      ],
      "text/plain": [
       "     positive  negative  objective\n",
       "110 -0.688569 -0.406258  -0.662132"
      ]
     },
     "metadata": {},
     "output_type": "display_data"
    },
    {
     "name": "stdout",
     "output_type": "stream",
     "text": [
      "5\n",
      "Great pulled pork sandwiches. Perfect for a take to go meal or a quick sit down. The Bbq sauce was pretty good, and their unique sides to put on the sandwich like safe were tasty.\n",
      "     They were central and perfect to grab a bite of you were heading over to the park or to simple hang out.\n",
      "     The only complaint we had was that the place didn't serve beer, only non-alcoholic unfortunately. \n",
      "     We would definitely venture here again our next trip to Edinburgh\n"
     ]
    },
    {
     "data": {
      "text/html": [
       "<div>\n",
       "<style scoped>\n",
       "    .dataframe tbody tr th:only-of-type {\n",
       "        vertical-align: middle;\n",
       "    }\n",
       "\n",
       "    .dataframe tbody tr th {\n",
       "        vertical-align: top;\n",
       "    }\n",
       "\n",
       "    .dataframe thead th {\n",
       "        text-align: right;\n",
       "    }\n",
       "</style>\n",
       "<table border=\"1\" class=\"dataframe\">\n",
       "  <thead>\n",
       "    <tr style=\"text-align: right;\">\n",
       "      <th></th>\n",
       "      <th>positive</th>\n",
       "      <th>negative</th>\n",
       "      <th>objective</th>\n",
       "    </tr>\n",
       "  </thead>\n",
       "  <tbody>\n",
       "    <tr>\n",
       "      <th>113</th>\n",
       "      <td>0.03994</td>\n",
       "      <td>0.123978</td>\n",
       "      <td>-0.268075</td>\n",
       "    </tr>\n",
       "  </tbody>\n",
       "</table>\n",
       "</div>"
      ],
      "text/plain": [
       "     positive  negative  objective\n",
       "113   0.03994  0.123978  -0.268075"
      ]
     },
     "metadata": {},
     "output_type": "display_data"
    },
    {
     "name": "stdout",
     "output_type": "stream",
     "text": [
      "4\n",
      "While visiting Pittsburgh from NY had the good fortune  of dining here. Excellent gastropub. Food was great with an awesome beer selection. I highly recommend this establishment if you're in the downtown pittsburgh  area\n"
     ]
    },
    {
     "data": {
      "text/html": [
       "<div>\n",
       "<style scoped>\n",
       "    .dataframe tbody tr th:only-of-type {\n",
       "        vertical-align: middle;\n",
       "    }\n",
       "\n",
       "    .dataframe tbody tr th {\n",
       "        vertical-align: top;\n",
       "    }\n",
       "\n",
       "    .dataframe thead th {\n",
       "        text-align: right;\n",
       "    }\n",
       "</style>\n",
       "<table border=\"1\" class=\"dataframe\">\n",
       "  <thead>\n",
       "    <tr style=\"text-align: right;\">\n",
       "      <th></th>\n",
       "      <th>positive</th>\n",
       "      <th>negative</th>\n",
       "      <th>objective</th>\n",
       "    </tr>\n",
       "  </thead>\n",
       "  <tbody>\n",
       "    <tr>\n",
       "      <th>114</th>\n",
       "      <td>-0.171752</td>\n",
       "      <td>-0.846735</td>\n",
       "      <td>-0.721175</td>\n",
       "    </tr>\n",
       "  </tbody>\n",
       "</table>\n",
       "</div>"
      ],
      "text/plain": [
       "     positive  negative  objective\n",
       "114 -0.171752 -0.846735  -0.721175"
      ]
     },
     "metadata": {},
     "output_type": "display_data"
    },
    {
     "name": "stdout",
     "output_type": "stream",
     "text": [
      "5\n",
      "These guys are great!  They are honest, only sell you what you really need.  Love working with D and D, thanks!\n"
     ]
    },
    {
     "data": {
      "text/html": [
       "<div>\n",
       "<style scoped>\n",
       "    .dataframe tbody tr th:only-of-type {\n",
       "        vertical-align: middle;\n",
       "    }\n",
       "\n",
       "    .dataframe tbody tr th {\n",
       "        vertical-align: top;\n",
       "    }\n",
       "\n",
       "    .dataframe thead th {\n",
       "        text-align: right;\n",
       "    }\n",
       "</style>\n",
       "<table border=\"1\" class=\"dataframe\">\n",
       "  <thead>\n",
       "    <tr style=\"text-align: right;\">\n",
       "      <th></th>\n",
       "      <th>positive</th>\n",
       "      <th>negative</th>\n",
       "      <th>objective</th>\n",
       "    </tr>\n",
       "  </thead>\n",
       "  <tbody>\n",
       "    <tr>\n",
       "      <th>116</th>\n",
       "      <td>-0.812479</td>\n",
       "      <td>-0.767732</td>\n",
       "      <td>-0.894505</td>\n",
       "    </tr>\n",
       "  </tbody>\n",
       "</table>\n",
       "</div>"
      ],
      "text/plain": [
       "     positive  negative  objective\n",
       "116 -0.812479 -0.767732  -0.894505"
      ]
     },
     "metadata": {},
     "output_type": "display_data"
    },
    {
     "name": "stdout",
     "output_type": "stream",
     "text": [
      "3\n",
      "I've been coming in to Drop Bar for over a year, and service is consistently good. \n",
      "\n",
      "I get \"free well drink\" tickets every week, when I cash my paycheck, so I always pop in here for a quick shot of whiskey or tequila.\n",
      "\n",
      "Their well drinks are not great, but they're higher quality than some places...\n",
      "\n",
      "Its dark, and sometimes they have live musicians, which is fun.  \n",
      "\n",
      "I can't comment on the prices, because I always use my free tickets here, but the service is definitely good...I'd probably stop in here for a drink without a ticket, if I'm in the area.\n"
     ]
    },
    {
     "data": {
      "text/html": [
       "<div>\n",
       "<style scoped>\n",
       "    .dataframe tbody tr th:only-of-type {\n",
       "        vertical-align: middle;\n",
       "    }\n",
       "\n",
       "    .dataframe tbody tr th {\n",
       "        vertical-align: top;\n",
       "    }\n",
       "\n",
       "    .dataframe thead th {\n",
       "        text-align: right;\n",
       "    }\n",
       "</style>\n",
       "<table border=\"1\" class=\"dataframe\">\n",
       "  <thead>\n",
       "    <tr style=\"text-align: right;\">\n",
       "      <th></th>\n",
       "      <th>positive</th>\n",
       "      <th>negative</th>\n",
       "      <th>objective</th>\n",
       "    </tr>\n",
       "  </thead>\n",
       "  <tbody>\n",
       "    <tr>\n",
       "      <th>118</th>\n",
       "      <td>0.184699</td>\n",
       "      <td>-0.383873</td>\n",
       "      <td>0.013552</td>\n",
       "    </tr>\n",
       "  </tbody>\n",
       "</table>\n",
       "</div>"
      ],
      "text/plain": [
       "     positive  negative  objective\n",
       "118  0.184699 -0.383873   0.013552"
      ]
     },
     "metadata": {},
     "output_type": "display_data"
    },
    {
     "name": "stdout",
     "output_type": "stream",
     "text": [
      "2\n",
      "The line for this place can be horrendous, and really, it's not that worth the wait.  Most of the crowd can be \"trendy\" and stuck up, though some people are genuinely there to have some fun.  Bottle service isn't worth it, and the music is pretty average for a club.  The place can get REALLY packed, which provides for a wide assortment of people.  The drinks are expensive, but they're made pretty well.  This is a decent spot to hang with friends, but in my opinion it gets too crowded with people who are trying too hard to seem important.  I'd go elsewhere to just hang and have a good time.\n"
     ]
    },
    {
     "data": {
      "text/html": [
       "<div>\n",
       "<style scoped>\n",
       "    .dataframe tbody tr th:only-of-type {\n",
       "        vertical-align: middle;\n",
       "    }\n",
       "\n",
       "    .dataframe tbody tr th {\n",
       "        vertical-align: top;\n",
       "    }\n",
       "\n",
       "    .dataframe thead th {\n",
       "        text-align: right;\n",
       "    }\n",
       "</style>\n",
       "<table border=\"1\" class=\"dataframe\">\n",
       "  <thead>\n",
       "    <tr style=\"text-align: right;\">\n",
       "      <th></th>\n",
       "      <th>positive</th>\n",
       "      <th>negative</th>\n",
       "      <th>objective</th>\n",
       "    </tr>\n",
       "  </thead>\n",
       "  <tbody>\n",
       "    <tr>\n",
       "      <th>119</th>\n",
       "      <td>0.565321</td>\n",
       "      <td>0.122933</td>\n",
       "      <td>0.107346</td>\n",
       "    </tr>\n",
       "  </tbody>\n",
       "</table>\n",
       "</div>"
      ],
      "text/plain": [
       "     positive  negative  objective\n",
       "119  0.565321  0.122933   0.107346"
      ]
     },
     "metadata": {},
     "output_type": "display_data"
    },
    {
     "name": "stdout",
     "output_type": "stream",
     "text": [
      "1\n",
      "Terrible.  Very disappointing. We went for ramen and it was very plain and tasteless.  Hard boiled egg instead of pickled.  Dry pork instead of pork belly. Asked if they could make just a plate of noodles for our 3 year old and she said no.  We don't have noodles.  Well what is in your ramen?  Services was just plain rude.\n"
     ]
    },
    {
     "data": {
      "text/html": [
       "<div>\n",
       "<style scoped>\n",
       "    .dataframe tbody tr th:only-of-type {\n",
       "        vertical-align: middle;\n",
       "    }\n",
       "\n",
       "    .dataframe tbody tr th {\n",
       "        vertical-align: top;\n",
       "    }\n",
       "\n",
       "    .dataframe thead th {\n",
       "        text-align: right;\n",
       "    }\n",
       "</style>\n",
       "<table border=\"1\" class=\"dataframe\">\n",
       "  <thead>\n",
       "    <tr style=\"text-align: right;\">\n",
       "      <th></th>\n",
       "      <th>positive</th>\n",
       "      <th>negative</th>\n",
       "      <th>objective</th>\n",
       "    </tr>\n",
       "  </thead>\n",
       "  <tbody>\n",
       "    <tr>\n",
       "      <th>120</th>\n",
       "      <td>-0.445422</td>\n",
       "      <td>0.221483</td>\n",
       "      <td>-0.520636</td>\n",
       "    </tr>\n",
       "  </tbody>\n",
       "</table>\n",
       "</div>"
      ],
      "text/plain": [
       "     positive  negative  objective\n",
       "120 -0.445422  0.221483  -0.520636"
      ]
     },
     "metadata": {},
     "output_type": "display_data"
    },
    {
     "name": "stdout",
     "output_type": "stream",
     "text": [
      "5\n",
      "If you're lucky enough, Adam Thompson will fix all your electric problems! Adam Thompson is the BEST of the BEST!\n"
     ]
    },
    {
     "data": {
      "text/html": [
       "<div>\n",
       "<style scoped>\n",
       "    .dataframe tbody tr th:only-of-type {\n",
       "        vertical-align: middle;\n",
       "    }\n",
       "\n",
       "    .dataframe tbody tr th {\n",
       "        vertical-align: top;\n",
       "    }\n",
       "\n",
       "    .dataframe thead th {\n",
       "        text-align: right;\n",
       "    }\n",
       "</style>\n",
       "<table border=\"1\" class=\"dataframe\">\n",
       "  <thead>\n",
       "    <tr style=\"text-align: right;\">\n",
       "      <th></th>\n",
       "      <th>positive</th>\n",
       "      <th>negative</th>\n",
       "      <th>objective</th>\n",
       "    </tr>\n",
       "  </thead>\n",
       "  <tbody>\n",
       "    <tr>\n",
       "      <th>122</th>\n",
       "      <td>-0.699258</td>\n",
       "      <td>-0.81395</td>\n",
       "      <td>-0.900769</td>\n",
       "    </tr>\n",
       "  </tbody>\n",
       "</table>\n",
       "</div>"
      ],
      "text/plain": [
       "     positive  negative  objective\n",
       "122 -0.699258  -0.81395  -0.900769"
      ]
     },
     "metadata": {},
     "output_type": "display_data"
    },
    {
     "name": "stdout",
     "output_type": "stream",
     "text": [
      "1\n",
      "This review is for T-mobile in general. \n",
      "I cant make phone calls on my phone. people cant hear me. they cut in and out, and its impossible to understand them. usually people give up and hang up on me. \n",
      "i took my phone in to a tmobile store on 48th st and baseline, and they told me they couldnt help me because i didnt buy the warranty. im not paying extra money for a warranty with a $200 deductible. no. so i took it to apple. apple said the phone is fine, and its the service. so i went back to tmobile and they changed my sim card. it did nothing. we pay more than 200 a month for a phone i cant use. tmobile, get it together or you are going to start losing customers. FIX MY PHONE OR GET ME A NEW ONE.\n"
     ]
    },
    {
     "data": {
      "text/html": [
       "<div>\n",
       "<style scoped>\n",
       "    .dataframe tbody tr th:only-of-type {\n",
       "        vertical-align: middle;\n",
       "    }\n",
       "\n",
       "    .dataframe tbody tr th {\n",
       "        vertical-align: top;\n",
       "    }\n",
       "\n",
       "    .dataframe thead th {\n",
       "        text-align: right;\n",
       "    }\n",
       "</style>\n",
       "<table border=\"1\" class=\"dataframe\">\n",
       "  <thead>\n",
       "    <tr style=\"text-align: right;\">\n",
       "      <th></th>\n",
       "      <th>positive</th>\n",
       "      <th>negative</th>\n",
       "      <th>objective</th>\n",
       "    </tr>\n",
       "  </thead>\n",
       "  <tbody>\n",
       "    <tr>\n",
       "      <th>123</th>\n",
       "      <td>-0.723846</td>\n",
       "      <td>-0.480099</td>\n",
       "      <td>0.178949</td>\n",
       "    </tr>\n",
       "  </tbody>\n",
       "</table>\n",
       "</div>"
      ],
      "text/plain": [
       "     positive  negative  objective\n",
       "123 -0.723846 -0.480099   0.178949"
      ]
     },
     "metadata": {},
     "output_type": "display_data"
    },
    {
     "name": "stdout",
     "output_type": "stream",
     "text": [
      "3\n",
      "I'm really not sold on this place. I thought the appetizers that were raved about were average and unexciting. \n",
      "\n",
      "I can only recommend the entrees. The pork chop was phenomenal. \n",
      "\n",
      "Service gets an A+ as well..\n",
      "\n",
      "BUT, it was also extremely loud and dark.  I could barely hear the person sitting across from me at our tiny table, and it was too dark to read the menu.\n",
      "\n",
      "This was on a Tuesday. Very crowded, and I\"m not sure what all the fuss is about.\n",
      "\n",
      "If there's a wait, go somewhere else, it's not worth your trouble.\n",
      "\n",
      "3 stars. Nothing great, but not really bad.\n",
      "\n",
      "UPDATE:\n",
      "They also really chinced at Devoured. Only served a salad and a drink. Really did not showcase anything worth going there for.\n"
     ]
    },
    {
     "data": {
      "text/html": [
       "<div>\n",
       "<style scoped>\n",
       "    .dataframe tbody tr th:only-of-type {\n",
       "        vertical-align: middle;\n",
       "    }\n",
       "\n",
       "    .dataframe tbody tr th {\n",
       "        vertical-align: top;\n",
       "    }\n",
       "\n",
       "    .dataframe thead th {\n",
       "        text-align: right;\n",
       "    }\n",
       "</style>\n",
       "<table border=\"1\" class=\"dataframe\">\n",
       "  <thead>\n",
       "    <tr style=\"text-align: right;\">\n",
       "      <th></th>\n",
       "      <th>positive</th>\n",
       "      <th>negative</th>\n",
       "      <th>objective</th>\n",
       "    </tr>\n",
       "  </thead>\n",
       "  <tbody>\n",
       "    <tr>\n",
       "      <th>124</th>\n",
       "      <td>0.38859</td>\n",
       "      <td>0.430928</td>\n",
       "      <td>0.015527</td>\n",
       "    </tr>\n",
       "  </tbody>\n",
       "</table>\n",
       "</div>"
      ],
      "text/plain": [
       "     positive  negative  objective\n",
       "124   0.38859  0.430928   0.015527"
      ]
     },
     "metadata": {},
     "output_type": "display_data"
    },
    {
     "name": "stdout",
     "output_type": "stream",
     "text": [
      "5\n",
      "I saw the reviews so I decided to check it out. I got the italian beef and it was great. The sandwich was packed with beef. This was one of the best beef sandwiches that I have had. I got it to go and had the au jus on the side which let the sandwich travel well. I will definitely be back to try the rest of the menu. the staff was friendly and the wait time was pretty quick.\n"
     ]
    },
    {
     "data": {
      "text/html": [
       "<div>\n",
       "<style scoped>\n",
       "    .dataframe tbody tr th:only-of-type {\n",
       "        vertical-align: middle;\n",
       "    }\n",
       "\n",
       "    .dataframe tbody tr th {\n",
       "        vertical-align: top;\n",
       "    }\n",
       "\n",
       "    .dataframe thead th {\n",
       "        text-align: right;\n",
       "    }\n",
       "</style>\n",
       "<table border=\"1\" class=\"dataframe\">\n",
       "  <thead>\n",
       "    <tr style=\"text-align: right;\">\n",
       "      <th></th>\n",
       "      <th>positive</th>\n",
       "      <th>negative</th>\n",
       "      <th>objective</th>\n",
       "    </tr>\n",
       "  </thead>\n",
       "  <tbody>\n",
       "    <tr>\n",
       "      <th>126</th>\n",
       "      <td>-0.470575</td>\n",
       "      <td>-0.638377</td>\n",
       "      <td>-0.292721</td>\n",
       "    </tr>\n",
       "  </tbody>\n",
       "</table>\n",
       "</div>"
      ],
      "text/plain": [
       "     positive  negative  objective\n",
       "126 -0.470575 -0.638377  -0.292721"
      ]
     },
     "metadata": {},
     "output_type": "display_data"
    },
    {
     "name": "stdout",
     "output_type": "stream",
     "text": [
      "4\n",
      "Cool way to spend your Friday night with friends. I was glad to come to NoDa because we buy their cans at Trader Joes so getting a flight was not a complete shot in the dark. I liked the live music and the atmosphere outside. It's pretty loud inside since it's not designed to be acoustically quiet but to function like a brewery. There's no food options and if the food trucks aren't there you are on your own. You can bring your own food or order pizza like we saw one table do! Smart! Lots of dogs since it's dog friendly.\n"
     ]
    },
    {
     "data": {
      "text/html": [
       "<div>\n",
       "<style scoped>\n",
       "    .dataframe tbody tr th:only-of-type {\n",
       "        vertical-align: middle;\n",
       "    }\n",
       "\n",
       "    .dataframe tbody tr th {\n",
       "        vertical-align: top;\n",
       "    }\n",
       "\n",
       "    .dataframe thead th {\n",
       "        text-align: right;\n",
       "    }\n",
       "</style>\n",
       "<table border=\"1\" class=\"dataframe\">\n",
       "  <thead>\n",
       "    <tr style=\"text-align: right;\">\n",
       "      <th></th>\n",
       "      <th>positive</th>\n",
       "      <th>negative</th>\n",
       "      <th>objective</th>\n",
       "    </tr>\n",
       "  </thead>\n",
       "  <tbody>\n",
       "    <tr>\n",
       "      <th>129</th>\n",
       "      <td>-0.006145</td>\n",
       "      <td>0.060029</td>\n",
       "      <td>-0.019269</td>\n",
       "    </tr>\n",
       "  </tbody>\n",
       "</table>\n",
       "</div>"
      ],
      "text/plain": [
       "     positive  negative  objective\n",
       "129 -0.006145  0.060029  -0.019269"
      ]
     },
     "metadata": {},
     "output_type": "display_data"
    },
    {
     "name": "stdout",
     "output_type": "stream",
     "text": [
      "3\n",
      "Friend and I started with red sangria.  It was pretty awesome.  Merlot + spiced rum and seasonal fruit.  I love a good sangria!\n",
      "\n",
      "I had their Authentic Greek Salad + chicken.  The salad was good, even a hint of anchovy, though I could not find physical evidence.\n",
      "\n",
      "Friend had a crab cake sandwich, which she proclaimed excellent - and I can tell you it was pretty excellent looking!\n",
      "\n",
      "Service was attentive and happy.  Pricing was rather high...  high enough that if the service and sangria weren't so good, I'd skip the next visit without issue.\n"
     ]
    },
    {
     "data": {
      "text/html": [
       "<div>\n",
       "<style scoped>\n",
       "    .dataframe tbody tr th:only-of-type {\n",
       "        vertical-align: middle;\n",
       "    }\n",
       "\n",
       "    .dataframe tbody tr th {\n",
       "        vertical-align: top;\n",
       "    }\n",
       "\n",
       "    .dataframe thead th {\n",
       "        text-align: right;\n",
       "    }\n",
       "</style>\n",
       "<table border=\"1\" class=\"dataframe\">\n",
       "  <thead>\n",
       "    <tr style=\"text-align: right;\">\n",
       "      <th></th>\n",
       "      <th>positive</th>\n",
       "      <th>negative</th>\n",
       "      <th>objective</th>\n",
       "    </tr>\n",
       "  </thead>\n",
       "  <tbody>\n",
       "    <tr>\n",
       "      <th>130</th>\n",
       "      <td>1.173098</td>\n",
       "      <td>-0.090461</td>\n",
       "      <td>-0.169717</td>\n",
       "    </tr>\n",
       "  </tbody>\n",
       "</table>\n",
       "</div>"
      ],
      "text/plain": [
       "     positive  negative  objective\n",
       "130  1.173098 -0.090461  -0.169717"
      ]
     },
     "metadata": {},
     "output_type": "display_data"
    },
    {
     "name": "stdout",
     "output_type": "stream",
     "text": [
      "5\n",
      "This place was SO good! The fish tacos, steak burrito and ceviche were outstanding .. We also ordered chips & salsa & guacamole. Everything tasted so fresh and it was all really good prices!\n"
     ]
    },
    {
     "data": {
      "text/html": [
       "<div>\n",
       "<style scoped>\n",
       "    .dataframe tbody tr th:only-of-type {\n",
       "        vertical-align: middle;\n",
       "    }\n",
       "\n",
       "    .dataframe tbody tr th {\n",
       "        vertical-align: top;\n",
       "    }\n",
       "\n",
       "    .dataframe thead th {\n",
       "        text-align: right;\n",
       "    }\n",
       "</style>\n",
       "<table border=\"1\" class=\"dataframe\">\n",
       "  <thead>\n",
       "    <tr style=\"text-align: right;\">\n",
       "      <th></th>\n",
       "      <th>positive</th>\n",
       "      <th>negative</th>\n",
       "      <th>objective</th>\n",
       "    </tr>\n",
       "  </thead>\n",
       "  <tbody>\n",
       "    <tr>\n",
       "      <th>133</th>\n",
       "      <td>-0.514603</td>\n",
       "      <td>-0.819008</td>\n",
       "      <td>-0.651744</td>\n",
       "    </tr>\n",
       "  </tbody>\n",
       "</table>\n",
       "</div>"
      ],
      "text/plain": [
       "     positive  negative  objective\n",
       "133 -0.514603 -0.819008  -0.651744"
      ]
     },
     "metadata": {},
     "output_type": "display_data"
    },
    {
     "name": "stdout",
     "output_type": "stream",
     "text": [
      "4\n",
      "I have never been to this place before. I saw it on Groupon and decided to give it a try. I noticed the Groupon said \"not to be used during happy hour\" so we went at 8:00. Turns out, Happy Hour is 4-closing. Unfortunately, we ended up paying full price for a meal that was 25% off \"during Happy Hour\". Other HH items include select rolls discounted and the remainder \"roll\" menu is 10% off. All draft beers are $1.99 all day. \n",
      "\n",
      "My friend and I went on a Friday night. The restaurant is hidden from the street and a little hard to find. The place was pretty full but seating was available. \"Sit wherever you want\" a server said as she walked by. \n",
      "\n",
      "We ordered two rolls, as an appetizer, and two entrées. I was disappointed with the Vegas roll. I won't order it again. The other role, Philly, was pretty good. I ordered the curry rice for dinner. The dish had just the right amount of spice (maybe too spicy for those who don't like hot\\/spicy food). Unfortunately, the chicken was fried. I don't believe it said that on the menu or else I wouldn't have ordered it. The fried chicken was cut into thin strips and there was a lot of it. It was served over rice. The curry was a mix of potatoes and carrots. This is a good dish, if you don't mind fried. My friend ordered the teriyaki chicken. The chicken was grilled and served over rice and a small side salad. (I will order this next time.) Both entrées were big enough to split, especially after having the appetizer rolls. \n",
      "\n",
      "I may dine at this restaurant again, now that I know their happy hour is 4 to closing.\n"
     ]
    },
    {
     "data": {
      "text/html": [
       "<div>\n",
       "<style scoped>\n",
       "    .dataframe tbody tr th:only-of-type {\n",
       "        vertical-align: middle;\n",
       "    }\n",
       "\n",
       "    .dataframe tbody tr th {\n",
       "        vertical-align: top;\n",
       "    }\n",
       "\n",
       "    .dataframe thead th {\n",
       "        text-align: right;\n",
       "    }\n",
       "</style>\n",
       "<table border=\"1\" class=\"dataframe\">\n",
       "  <thead>\n",
       "    <tr style=\"text-align: right;\">\n",
       "      <th></th>\n",
       "      <th>positive</th>\n",
       "      <th>negative</th>\n",
       "      <th>objective</th>\n",
       "    </tr>\n",
       "  </thead>\n",
       "  <tbody>\n",
       "    <tr>\n",
       "      <th>134</th>\n",
       "      <td>0.748149</td>\n",
       "      <td>1.823794</td>\n",
       "      <td>1.66119</td>\n",
       "    </tr>\n",
       "  </tbody>\n",
       "</table>\n",
       "</div>"
      ],
      "text/plain": [
       "     positive  negative  objective\n",
       "134  0.748149  1.823794    1.66119"
      ]
     },
     "metadata": {},
     "output_type": "display_data"
    },
    {
     "name": "stdout",
     "output_type": "stream",
     "text": [
      "5\n",
      "We went in there to get a quick\n",
      "Bite. The waitress was great. She really helped with there big menu. I got a melon margarita and my husband got a beer. The nachos are very big and they don't have a bunch of fake cheese on it. Real cheeses and it was great. Would come here again when in town.\n"
     ]
    },
    {
     "data": {
      "text/html": [
       "<div>\n",
       "<style scoped>\n",
       "    .dataframe tbody tr th:only-of-type {\n",
       "        vertical-align: middle;\n",
       "    }\n",
       "\n",
       "    .dataframe tbody tr th {\n",
       "        vertical-align: top;\n",
       "    }\n",
       "\n",
       "    .dataframe thead th {\n",
       "        text-align: right;\n",
       "    }\n",
       "</style>\n",
       "<table border=\"1\" class=\"dataframe\">\n",
       "  <thead>\n",
       "    <tr style=\"text-align: right;\">\n",
       "      <th></th>\n",
       "      <th>positive</th>\n",
       "      <th>negative</th>\n",
       "      <th>objective</th>\n",
       "    </tr>\n",
       "  </thead>\n",
       "  <tbody>\n",
       "    <tr>\n",
       "      <th>135</th>\n",
       "      <td>-0.615857</td>\n",
       "      <td>-0.415231</td>\n",
       "      <td>-0.425957</td>\n",
       "    </tr>\n",
       "  </tbody>\n",
       "</table>\n",
       "</div>"
      ],
      "text/plain": [
       "     positive  negative  objective\n",
       "135 -0.615857 -0.415231  -0.425957"
      ]
     },
     "metadata": {},
     "output_type": "display_data"
    },
    {
     "name": "stdout",
     "output_type": "stream",
     "text": [
      "2\n",
      "typical gas station what do you want for a neighborhood that has hardly nothing in it?\n"
     ]
    },
    {
     "data": {
      "text/html": [
       "<div>\n",
       "<style scoped>\n",
       "    .dataframe tbody tr th:only-of-type {\n",
       "        vertical-align: middle;\n",
       "    }\n",
       "\n",
       "    .dataframe tbody tr th {\n",
       "        vertical-align: top;\n",
       "    }\n",
       "\n",
       "    .dataframe thead th {\n",
       "        text-align: right;\n",
       "    }\n",
       "</style>\n",
       "<table border=\"1\" class=\"dataframe\">\n",
       "  <thead>\n",
       "    <tr style=\"text-align: right;\">\n",
       "      <th></th>\n",
       "      <th>positive</th>\n",
       "      <th>negative</th>\n",
       "      <th>objective</th>\n",
       "    </tr>\n",
       "  </thead>\n",
       "  <tbody>\n",
       "    <tr>\n",
       "      <th>136</th>\n",
       "      <td>-1.115362</td>\n",
       "      <td>-0.868275</td>\n",
       "      <td>-0.886569</td>\n",
       "    </tr>\n",
       "  </tbody>\n",
       "</table>\n",
       "</div>"
      ],
      "text/plain": [
       "     positive  negative  objective\n",
       "136 -1.115362 -0.868275  -0.886569"
      ]
     },
     "metadata": {},
     "output_type": "display_data"
    },
    {
     "name": "stdout",
     "output_type": "stream",
     "text": [
      "4\n",
      "After a grueling hike on Saturday mornings I like to indulge with breakfast.  Switch's Fried Toast is a common item for such a craving.  It's very delicious and flavorful, crispy on the outside and soggy in the inside.  I think between my husband and I we've tried everything on the breakfast menu.  Nothing has been disappointing.  \n",
      "\n",
      "The service is meh.  The servers always seem like they have something better going on.  Once we ordered French press coffee and the server made fun of us because we didn't know what it was.  It's called \"trying something new\" you bounder!\n"
     ]
    },
    {
     "data": {
      "text/html": [
       "<div>\n",
       "<style scoped>\n",
       "    .dataframe tbody tr th:only-of-type {\n",
       "        vertical-align: middle;\n",
       "    }\n",
       "\n",
       "    .dataframe tbody tr th {\n",
       "        vertical-align: top;\n",
       "    }\n",
       "\n",
       "    .dataframe thead th {\n",
       "        text-align: right;\n",
       "    }\n",
       "</style>\n",
       "<table border=\"1\" class=\"dataframe\">\n",
       "  <thead>\n",
       "    <tr style=\"text-align: right;\">\n",
       "      <th></th>\n",
       "      <th>positive</th>\n",
       "      <th>negative</th>\n",
       "      <th>objective</th>\n",
       "    </tr>\n",
       "  </thead>\n",
       "  <tbody>\n",
       "    <tr>\n",
       "      <th>138</th>\n",
       "      <td>-0.216696</td>\n",
       "      <td>0.513165</td>\n",
       "      <td>-0.270533</td>\n",
       "    </tr>\n",
       "  </tbody>\n",
       "</table>\n",
       "</div>"
      ],
      "text/plain": [
       "     positive  negative  objective\n",
       "138 -0.216696  0.513165  -0.270533"
      ]
     },
     "metadata": {},
     "output_type": "display_data"
    },
    {
     "name": "stdout",
     "output_type": "stream",
     "text": [
      "2\n",
      "Total rip off. Ravioli tasted fantastic but only 3. Appetizer size for $18!. Offered water nonsparkiling charged $6. Once bitten twice shy.\n"
     ]
    },
    {
     "data": {
      "text/html": [
       "<div>\n",
       "<style scoped>\n",
       "    .dataframe tbody tr th:only-of-type {\n",
       "        vertical-align: middle;\n",
       "    }\n",
       "\n",
       "    .dataframe tbody tr th {\n",
       "        vertical-align: top;\n",
       "    }\n",
       "\n",
       "    .dataframe thead th {\n",
       "        text-align: right;\n",
       "    }\n",
       "</style>\n",
       "<table border=\"1\" class=\"dataframe\">\n",
       "  <thead>\n",
       "    <tr style=\"text-align: right;\">\n",
       "      <th></th>\n",
       "      <th>positive</th>\n",
       "      <th>negative</th>\n",
       "      <th>objective</th>\n",
       "    </tr>\n",
       "  </thead>\n",
       "  <tbody>\n",
       "    <tr>\n",
       "      <th>139</th>\n",
       "      <td>-0.979339</td>\n",
       "      <td>-0.647001</td>\n",
       "      <td>-0.756678</td>\n",
       "    </tr>\n",
       "  </tbody>\n",
       "</table>\n",
       "</div>"
      ],
      "text/plain": [
       "     positive  negative  objective\n",
       "139 -0.979339 -0.647001  -0.756678"
      ]
     },
     "metadata": {},
     "output_type": "display_data"
    },
    {
     "name": "stdout",
     "output_type": "stream",
     "text": [
      "2\n",
      "The taste is good. Although its pretty expensive. And the space is quite crammed too. Its one additional choice in the valley - but i doubt i would go a second time.\n"
     ]
    },
    {
     "data": {
      "text/html": [
       "<div>\n",
       "<style scoped>\n",
       "    .dataframe tbody tr th:only-of-type {\n",
       "        vertical-align: middle;\n",
       "    }\n",
       "\n",
       "    .dataframe tbody tr th {\n",
       "        vertical-align: top;\n",
       "    }\n",
       "\n",
       "    .dataframe thead th {\n",
       "        text-align: right;\n",
       "    }\n",
       "</style>\n",
       "<table border=\"1\" class=\"dataframe\">\n",
       "  <thead>\n",
       "    <tr style=\"text-align: right;\">\n",
       "      <th></th>\n",
       "      <th>positive</th>\n",
       "      <th>negative</th>\n",
       "      <th>objective</th>\n",
       "    </tr>\n",
       "  </thead>\n",
       "  <tbody>\n",
       "    <tr>\n",
       "      <th>140</th>\n",
       "      <td>-0.6052</td>\n",
       "      <td>-0.72552</td>\n",
       "      <td>-0.78172</td>\n",
       "    </tr>\n",
       "  </tbody>\n",
       "</table>\n",
       "</div>"
      ],
      "text/plain": [
       "     positive  negative  objective\n",
       "140   -0.6052  -0.72552   -0.78172"
      ]
     },
     "metadata": {},
     "output_type": "display_data"
    },
    {
     "name": "stdout",
     "output_type": "stream",
     "text": [
      "1\n",
      "I went into this Alex and Ani just browsing. I ended up selecting bracelets with no help from any sales associates. Only one girl was working, but couldn't help me because she was with a customer. I went up to a woman with red hair and asked how much a bracelet was. She quickly answered then walked away to do absolutely nothing. 3 sales persons were standing around doing nothing but talking, and I was left in the middle of the store holding my bracelets in hand. I ended up not buying anything, and put back the bracelets I selected because nobody helped me. I love Alex and Ani bracelets, but this experience was very disappointing.\n"
     ]
    },
    {
     "data": {
      "text/html": [
       "<div>\n",
       "<style scoped>\n",
       "    .dataframe tbody tr th:only-of-type {\n",
       "        vertical-align: middle;\n",
       "    }\n",
       "\n",
       "    .dataframe tbody tr th {\n",
       "        vertical-align: top;\n",
       "    }\n",
       "\n",
       "    .dataframe thead th {\n",
       "        text-align: right;\n",
       "    }\n",
       "</style>\n",
       "<table border=\"1\" class=\"dataframe\">\n",
       "  <thead>\n",
       "    <tr style=\"text-align: right;\">\n",
       "      <th></th>\n",
       "      <th>positive</th>\n",
       "      <th>negative</th>\n",
       "      <th>objective</th>\n",
       "    </tr>\n",
       "  </thead>\n",
       "  <tbody>\n",
       "    <tr>\n",
       "      <th>141</th>\n",
       "      <td>-0.45845</td>\n",
       "      <td>-0.254567</td>\n",
       "      <td>0.034986</td>\n",
       "    </tr>\n",
       "  </tbody>\n",
       "</table>\n",
       "</div>"
      ],
      "text/plain": [
       "     positive  negative  objective\n",
       "141  -0.45845 -0.254567   0.034986"
      ]
     },
     "metadata": {},
     "output_type": "display_data"
    },
    {
     "name": "stdout",
     "output_type": "stream",
     "text": [
      "1\n",
      "The car we rented was horrible filthy. It looked like someone took a muddy shame to try and wipe down the interior after they wiped down the outside. This is expected as I travel for business and we have and cooperate account with National.\n",
      "\n",
      "Their cars are always dirty and not even presentable to my business partners, several times I have had to pick them up in a taxis due to the dirty conditions of their vehicles. I have already filed a complaint to have our cooperate account transfered to a competitor, it's sad times in customer service  when a clean car is considered out of the norm from a car rental company.\n"
     ]
    },
    {
     "data": {
      "text/html": [
       "<div>\n",
       "<style scoped>\n",
       "    .dataframe tbody tr th:only-of-type {\n",
       "        vertical-align: middle;\n",
       "    }\n",
       "\n",
       "    .dataframe tbody tr th {\n",
       "        vertical-align: top;\n",
       "    }\n",
       "\n",
       "    .dataframe thead th {\n",
       "        text-align: right;\n",
       "    }\n",
       "</style>\n",
       "<table border=\"1\" class=\"dataframe\">\n",
       "  <thead>\n",
       "    <tr style=\"text-align: right;\">\n",
       "      <th></th>\n",
       "      <th>positive</th>\n",
       "      <th>negative</th>\n",
       "      <th>objective</th>\n",
       "    </tr>\n",
       "  </thead>\n",
       "  <tbody>\n",
       "    <tr>\n",
       "      <th>143</th>\n",
       "      <td>-0.477231</td>\n",
       "      <td>0.956053</td>\n",
       "      <td>-0.056363</td>\n",
       "    </tr>\n",
       "  </tbody>\n",
       "</table>\n",
       "</div>"
      ],
      "text/plain": [
       "     positive  negative  objective\n",
       "143 -0.477231  0.956053  -0.056363"
      ]
     },
     "metadata": {},
     "output_type": "display_data"
    },
    {
     "name": "stdout",
     "output_type": "stream",
     "text": [
      "3\n",
      "Food: \n",
      "- Beef Gyro: Very typical gyro, wasn't super good but wasn't bad either. Came wrapped like a big cigar served in a plastic basket. Wrapped with typical supermarket pita bread and the filling was alright. \n",
      "\n",
      "Service: \n",
      "Kinda neglectful and very neutral. Didn't feel too welcomed or particularly nice to us. My friend ordered a meal deal and the waiter didn't even bother to ask my friend what drink he wanted. My friend had to chase him down and ask for the drink. \n",
      "\n",
      "Ambiance: \n",
      "Very casual lunch spot. Very small and cozy. \n",
      "\n",
      "Price: \n",
      "Typically priced for a gyro. Had lunch specials where you can get a gyro, drink and fries, but it wasn't like a super good deal or anything. \n",
      "\n",
      "Overall: \n",
      "I'm a HUGE Gyro fan and I love Medit. food but this place wdidn't really hit the spot...probably won't come again.\n"
     ]
    },
    {
     "data": {
      "text/html": [
       "<div>\n",
       "<style scoped>\n",
       "    .dataframe tbody tr th:only-of-type {\n",
       "        vertical-align: middle;\n",
       "    }\n",
       "\n",
       "    .dataframe tbody tr th {\n",
       "        vertical-align: top;\n",
       "    }\n",
       "\n",
       "    .dataframe thead th {\n",
       "        text-align: right;\n",
       "    }\n",
       "</style>\n",
       "<table border=\"1\" class=\"dataframe\">\n",
       "  <thead>\n",
       "    <tr style=\"text-align: right;\">\n",
       "      <th></th>\n",
       "      <th>positive</th>\n",
       "      <th>negative</th>\n",
       "      <th>objective</th>\n",
       "    </tr>\n",
       "  </thead>\n",
       "  <tbody>\n",
       "    <tr>\n",
       "      <th>144</th>\n",
       "      <td>0.81147</td>\n",
       "      <td>0.803847</td>\n",
       "      <td>0.552741</td>\n",
       "    </tr>\n",
       "  </tbody>\n",
       "</table>\n",
       "</div>"
      ],
      "text/plain": [
       "     positive  negative  objective\n",
       "144   0.81147  0.803847   0.552741"
      ]
     },
     "metadata": {},
     "output_type": "display_data"
    },
    {
     "name": "stdout",
     "output_type": "stream",
     "text": [
      "4\n",
      "We came here for a breakfast at around 1:00 in the afternoon after a bad experience at another area restaurant. The place is new and surprisingly nice, as you can't really tell from the outside. Our server was friendly, seasoned, and courteous. We told her about our fiasco attempt at a breakfast before stopping there, and she brought out our meal fast and it was delicious, fresh and under $8.00 for their Classic eggs with fries and salad. \n",
      "The decor is dark and delicious with a bright front window to check out the scene.  \n",
      "Will definitely be back to try out a lunch and dinner here.\n"
     ]
    },
    {
     "data": {
      "text/html": [
       "<div>\n",
       "<style scoped>\n",
       "    .dataframe tbody tr th:only-of-type {\n",
       "        vertical-align: middle;\n",
       "    }\n",
       "\n",
       "    .dataframe tbody tr th {\n",
       "        vertical-align: top;\n",
       "    }\n",
       "\n",
       "    .dataframe thead th {\n",
       "        text-align: right;\n",
       "    }\n",
       "</style>\n",
       "<table border=\"1\" class=\"dataframe\">\n",
       "  <thead>\n",
       "    <tr style=\"text-align: right;\">\n",
       "      <th></th>\n",
       "      <th>positive</th>\n",
       "      <th>negative</th>\n",
       "      <th>objective</th>\n",
       "    </tr>\n",
       "  </thead>\n",
       "  <tbody>\n",
       "    <tr>\n",
       "      <th>145</th>\n",
       "      <td>0.394389</td>\n",
       "      <td>0.066584</td>\n",
       "      <td>-0.117223</td>\n",
       "    </tr>\n",
       "  </tbody>\n",
       "</table>\n",
       "</div>"
      ],
      "text/plain": [
       "     positive  negative  objective\n",
       "145  0.394389  0.066584  -0.117223"
      ]
     },
     "metadata": {},
     "output_type": "display_data"
    },
    {
     "name": "stdout",
     "output_type": "stream",
     "text": [
      "1\n",
      "Not a bad place to stay. Given the lack of amenities, you basically pay much more compared to other costs of accessing those amenities outside of apartment complex! The payment system is outdated, you basically have to keep your own records about payment information and management is clueless about their communication with residents. \n",
      "Its not everyday that management is unreasonable, but occasionally (and recently a lot) management tends to not communicate properly, take things for granted, and have no decency in the way they interact with tenants.\n",
      "\n",
      "Absolute no sense of time for interaction during weekdays. Many a times, office is closed at 4:30 even though the timings say they are open till 5, which makes it hard for working professionals to clarify issues with management. And management has no sense of keeping proper records. All they do when they mess-up communication is shout and yell at tenants than amicably resolving the issue by providing further clarification. \n",
      "\n",
      "Tip: Whatever you talk to the management, take their signature with agreement on paper. (I faced this issue, and I had to give in to their demands and pay extra rent!).\n"
     ]
    },
    {
     "data": {
      "text/html": [
       "<div>\n",
       "<style scoped>\n",
       "    .dataframe tbody tr th:only-of-type {\n",
       "        vertical-align: middle;\n",
       "    }\n",
       "\n",
       "    .dataframe tbody tr th {\n",
       "        vertical-align: top;\n",
       "    }\n",
       "\n",
       "    .dataframe thead th {\n",
       "        text-align: right;\n",
       "    }\n",
       "</style>\n",
       "<table border=\"1\" class=\"dataframe\">\n",
       "  <thead>\n",
       "    <tr style=\"text-align: right;\">\n",
       "      <th></th>\n",
       "      <th>positive</th>\n",
       "      <th>negative</th>\n",
       "      <th>objective</th>\n",
       "    </tr>\n",
       "  </thead>\n",
       "  <tbody>\n",
       "    <tr>\n",
       "      <th>146</th>\n",
       "      <td>0.782921</td>\n",
       "      <td>0.99664</td>\n",
       "      <td>0.938748</td>\n",
       "    </tr>\n",
       "  </tbody>\n",
       "</table>\n",
       "</div>"
      ],
      "text/plain": [
       "     positive  negative  objective\n",
       "146  0.782921   0.99664   0.938748"
      ]
     },
     "metadata": {},
     "output_type": "display_data"
    },
    {
     "name": "stdout",
     "output_type": "stream",
     "text": [
      "1\n",
      "Poor customer service, poor quality of food, dirty store and not very good prices considering the quality I have no idea how they keep this store open\n"
     ]
    },
    {
     "data": {
      "text/html": [
       "<div>\n",
       "<style scoped>\n",
       "    .dataframe tbody tr th:only-of-type {\n",
       "        vertical-align: middle;\n",
       "    }\n",
       "\n",
       "    .dataframe tbody tr th {\n",
       "        vertical-align: top;\n",
       "    }\n",
       "\n",
       "    .dataframe thead th {\n",
       "        text-align: right;\n",
       "    }\n",
       "</style>\n",
       "<table border=\"1\" class=\"dataframe\">\n",
       "  <thead>\n",
       "    <tr style=\"text-align: right;\">\n",
       "      <th></th>\n",
       "      <th>positive</th>\n",
       "      <th>negative</th>\n",
       "      <th>objective</th>\n",
       "    </tr>\n",
       "  </thead>\n",
       "  <tbody>\n",
       "    <tr>\n",
       "      <th>148</th>\n",
       "      <td>-0.649641</td>\n",
       "      <td>-0.24269</td>\n",
       "      <td>-0.718687</td>\n",
       "    </tr>\n",
       "  </tbody>\n",
       "</table>\n",
       "</div>"
      ],
      "text/plain": [
       "     positive  negative  objective\n",
       "148 -0.649641  -0.24269  -0.718687"
      ]
     },
     "metadata": {},
     "output_type": "display_data"
    },
    {
     "name": "stdout",
     "output_type": "stream",
     "text": [
      "3\n",
      "Did a Groupon deal to give Mellow Mushroom a try, went there 1st time ever and I have to say I was rather disappointed. \n",
      "Ordered 2 medium pizzas, (cant remeber which kind) the Groupon should have covered $20, however I still had to pay an additional $25.  This was takeout so nothing else was ordered.\n",
      "\n",
      "So my overall total was around $45 for 2 medium pizzas that in the end tasted like pizza patron anyways.  Thanks but no thanks, this place is too expensive!\n"
     ]
    },
    {
     "data": {
      "text/html": [
       "<div>\n",
       "<style scoped>\n",
       "    .dataframe tbody tr th:only-of-type {\n",
       "        vertical-align: middle;\n",
       "    }\n",
       "\n",
       "    .dataframe tbody tr th {\n",
       "        vertical-align: top;\n",
       "    }\n",
       "\n",
       "    .dataframe thead th {\n",
       "        text-align: right;\n",
       "    }\n",
       "</style>\n",
       "<table border=\"1\" class=\"dataframe\">\n",
       "  <thead>\n",
       "    <tr style=\"text-align: right;\">\n",
       "      <th></th>\n",
       "      <th>positive</th>\n",
       "      <th>negative</th>\n",
       "      <th>objective</th>\n",
       "    </tr>\n",
       "  </thead>\n",
       "  <tbody>\n",
       "    <tr>\n",
       "      <th>149</th>\n",
       "      <td>-0.805106</td>\n",
       "      <td>-0.327402</td>\n",
       "      <td>-0.240536</td>\n",
       "    </tr>\n",
       "  </tbody>\n",
       "</table>\n",
       "</div>"
      ],
      "text/plain": [
       "     positive  negative  objective\n",
       "149 -0.805106 -0.327402  -0.240536"
      ]
     },
     "metadata": {},
     "output_type": "display_data"
    },
    {
     "name": "stdout",
     "output_type": "stream",
     "text": [
      "1\n",
      "DO NOT come here! I thought I did enough research and chose the right place, but I ended up extremely pissed and disappointed. First off, when I called for an appointment I confirmed with Gina the receptionist that they were in network and requested a price estimate after insurance. Second, I go to my appointment, explain my severe allergies, swollen face, runny nose and all and the doctor chuckles and says \"I'm trying to figure out why you are here to see me.\" Literally those were his words. I blew it off. He advised that they would do one set of tests on day one and I had to come back to do a second set of tests on day two. This is because they only test on the arms and there wasn't enough arm space. When I asked the doctor why he doesn't test anywhere else on the body he told me it was simply so his patients could see the results, no medical reason. (I later figured out this is so they can charge you twice.) I did my testing and also wanted to do food allergy, gluten and dairy testing and the doctor refused with no reasoning. I asked a second time and he said maybe next time. I was insistent because this was something I really wanted and he said he doesn't recommend it and said adults usually have false negatives. At this point I wasn't asking I was telling him this is what I wanted. He leaves for 20 minutes and comes back with a paper, doesn't explain a single thing and tells me to have a nice day. Apparently, it turned out to be a referral to another allergy blood testing center. I had no idea. Gina advised that insurance came back and my co pay was $35. I also asked the if anything would be charged for the second visit and I was told NO. Sure enough nothing was charged for the second visit, not even a copay. Then it gets better, I get a bill in the mail for $600!!!!!!!!!!!!!!!!!!! They charge $140 for a new patient fee, $760 for the two days of allergy testing, an extra $35 copay that they didn't charge for the second visit and some other stupid fees. I also saw another Yelp review with the same problem. I would have probably been okay paying for it if I hadn't been lied to!\n"
     ]
    },
    {
     "data": {
      "text/html": [
       "<div>\n",
       "<style scoped>\n",
       "    .dataframe tbody tr th:only-of-type {\n",
       "        vertical-align: middle;\n",
       "    }\n",
       "\n",
       "    .dataframe tbody tr th {\n",
       "        vertical-align: top;\n",
       "    }\n",
       "\n",
       "    .dataframe thead th {\n",
       "        text-align: right;\n",
       "    }\n",
       "</style>\n",
       "<table border=\"1\" class=\"dataframe\">\n",
       "  <thead>\n",
       "    <tr style=\"text-align: right;\">\n",
       "      <th></th>\n",
       "      <th>positive</th>\n",
       "      <th>negative</th>\n",
       "      <th>objective</th>\n",
       "    </tr>\n",
       "  </thead>\n",
       "  <tbody>\n",
       "    <tr>\n",
       "      <th>151</th>\n",
       "      <td>1.689903</td>\n",
       "      <td>2.343448</td>\n",
       "      <td>2.653472</td>\n",
       "    </tr>\n",
       "  </tbody>\n",
       "</table>\n",
       "</div>"
      ],
      "text/plain": [
       "     positive  negative  objective\n",
       "151  1.689903  2.343448   2.653472"
      ]
     },
     "metadata": {},
     "output_type": "display_data"
    },
    {
     "name": "stdout",
     "output_type": "stream",
     "text": [
      "5\n",
      "I love this place! What a life saver! I was up all night and came here to sober up with the oxygen bar. No hang over after I was here for about 20 min. If you like to party like I do you need this place to keep going.\n"
     ]
    },
    {
     "data": {
      "text/html": [
       "<div>\n",
       "<style scoped>\n",
       "    .dataframe tbody tr th:only-of-type {\n",
       "        vertical-align: middle;\n",
       "    }\n",
       "\n",
       "    .dataframe tbody tr th {\n",
       "        vertical-align: top;\n",
       "    }\n",
       "\n",
       "    .dataframe thead th {\n",
       "        text-align: right;\n",
       "    }\n",
       "</style>\n",
       "<table border=\"1\" class=\"dataframe\">\n",
       "  <thead>\n",
       "    <tr style=\"text-align: right;\">\n",
       "      <th></th>\n",
       "      <th>positive</th>\n",
       "      <th>negative</th>\n",
       "      <th>objective</th>\n",
       "    </tr>\n",
       "  </thead>\n",
       "  <tbody>\n",
       "    <tr>\n",
       "      <th>152</th>\n",
       "      <td>-0.812151</td>\n",
       "      <td>-0.657377</td>\n",
       "      <td>-0.593744</td>\n",
       "    </tr>\n",
       "  </tbody>\n",
       "</table>\n",
       "</div>"
      ],
      "text/plain": [
       "     positive  negative  objective\n",
       "152 -0.812151 -0.657377  -0.593744"
      ]
     },
     "metadata": {},
     "output_type": "display_data"
    },
    {
     "name": "stdout",
     "output_type": "stream",
     "text": [
      "1\n",
      "This place is awful! Sat us at a table and before we could place our order the sent the waitress on her lunch break. Food was not good. We did point it out to the waitress when she came off of break. No effort at all to make things right! Will not come again.\n"
     ]
    },
    {
     "data": {
      "text/html": [
       "<div>\n",
       "<style scoped>\n",
       "    .dataframe tbody tr th:only-of-type {\n",
       "        vertical-align: middle;\n",
       "    }\n",
       "\n",
       "    .dataframe tbody tr th {\n",
       "        vertical-align: top;\n",
       "    }\n",
       "\n",
       "    .dataframe thead th {\n",
       "        text-align: right;\n",
       "    }\n",
       "</style>\n",
       "<table border=\"1\" class=\"dataframe\">\n",
       "  <thead>\n",
       "    <tr style=\"text-align: right;\">\n",
       "      <th></th>\n",
       "      <th>positive</th>\n",
       "      <th>negative</th>\n",
       "      <th>objective</th>\n",
       "    </tr>\n",
       "  </thead>\n",
       "  <tbody>\n",
       "    <tr>\n",
       "      <th>153</th>\n",
       "      <td>-0.620968</td>\n",
       "      <td>-0.692916</td>\n",
       "      <td>-0.584862</td>\n",
       "    </tr>\n",
       "  </tbody>\n",
       "</table>\n",
       "</div>"
      ],
      "text/plain": [
       "     positive  negative  objective\n",
       "153 -0.620968 -0.692916  -0.584862"
      ]
     },
     "metadata": {},
     "output_type": "display_data"
    },
    {
     "name": "stdout",
     "output_type": "stream",
     "text": [
      "4\n",
      "If you like fried chicken and fries this is definitely the place to go!  It has a sports bar vibe and the main attraction besides the fried chicken is the bowling alley.  I love the upbeat vibe and it's a nice alternative to a bar where you have to fight for seats, and a definite upgrade from a classic american restaurant such as Applebee's.  \n",
      "\n",
      "It is within minutes of the High Roller, so if you're in the area definitely check it out! Plenty of parking at the lot as well.\n"
     ]
    },
    {
     "data": {
      "text/html": [
       "<div>\n",
       "<style scoped>\n",
       "    .dataframe tbody tr th:only-of-type {\n",
       "        vertical-align: middle;\n",
       "    }\n",
       "\n",
       "    .dataframe tbody tr th {\n",
       "        vertical-align: top;\n",
       "    }\n",
       "\n",
       "    .dataframe thead th {\n",
       "        text-align: right;\n",
       "    }\n",
       "</style>\n",
       "<table border=\"1\" class=\"dataframe\">\n",
       "  <thead>\n",
       "    <tr style=\"text-align: right;\">\n",
       "      <th></th>\n",
       "      <th>positive</th>\n",
       "      <th>negative</th>\n",
       "      <th>objective</th>\n",
       "    </tr>\n",
       "  </thead>\n",
       "  <tbody>\n",
       "    <tr>\n",
       "      <th>154</th>\n",
       "      <td>-0.104472</td>\n",
       "      <td>-0.229153</td>\n",
       "      <td>-0.214009</td>\n",
       "    </tr>\n",
       "  </tbody>\n",
       "</table>\n",
       "</div>"
      ],
      "text/plain": [
       "     positive  negative  objective\n",
       "154 -0.104472 -0.229153  -0.214009"
      ]
     },
     "metadata": {},
     "output_type": "display_data"
    },
    {
     "name": "stdout",
     "output_type": "stream",
     "text": [
      "3\n",
      "Cute joint! Great for after work or after school hang out! They have a decent selection of cakes and waffle type desserts along with large variety of cold, hot and bubble tea drinks!\n"
     ]
    },
    {
     "data": {
      "text/html": [
       "<div>\n",
       "<style scoped>\n",
       "    .dataframe tbody tr th:only-of-type {\n",
       "        vertical-align: middle;\n",
       "    }\n",
       "\n",
       "    .dataframe tbody tr th {\n",
       "        vertical-align: top;\n",
       "    }\n",
       "\n",
       "    .dataframe thead th {\n",
       "        text-align: right;\n",
       "    }\n",
       "</style>\n",
       "<table border=\"1\" class=\"dataframe\">\n",
       "  <thead>\n",
       "    <tr style=\"text-align: right;\">\n",
       "      <th></th>\n",
       "      <th>positive</th>\n",
       "      <th>negative</th>\n",
       "      <th>objective</th>\n",
       "    </tr>\n",
       "  </thead>\n",
       "  <tbody>\n",
       "    <tr>\n",
       "      <th>155</th>\n",
       "      <td>-0.630999</td>\n",
       "      <td>-0.68628</td>\n",
       "      <td>-0.650296</td>\n",
       "    </tr>\n",
       "  </tbody>\n",
       "</table>\n",
       "</div>"
      ],
      "text/plain": [
       "     positive  negative  objective\n",
       "155 -0.630999  -0.68628  -0.650296"
      ]
     },
     "metadata": {},
     "output_type": "display_data"
    },
    {
     "name": "stdout",
     "output_type": "stream",
     "text": [
      "4\n",
      "Feels like you stepped into Fear and Loathing's official warped diner. Had a solid steak with some shrimps on the side -- hit the spot. Decently priced considering how expensive most restaurants are around these parts - looking around at other dishes -- portions are massive. Open 24hrs is ideal for soaking up the booze consumed on the strip. Lounge area continues the vibe with a center piece fire on the water. Cocktails are good - bartenders didn't mind the few suggestive tweaks I asked for. Staff was friendly, accommodating, and quite easy on the eyes. Good spot for a solid meal and funky ambiance.\n"
     ]
    },
    {
     "data": {
      "text/html": [
       "<div>\n",
       "<style scoped>\n",
       "    .dataframe tbody tr th:only-of-type {\n",
       "        vertical-align: middle;\n",
       "    }\n",
       "\n",
       "    .dataframe tbody tr th {\n",
       "        vertical-align: top;\n",
       "    }\n",
       "\n",
       "    .dataframe thead th {\n",
       "        text-align: right;\n",
       "    }\n",
       "</style>\n",
       "<table border=\"1\" class=\"dataframe\">\n",
       "  <thead>\n",
       "    <tr style=\"text-align: right;\">\n",
       "      <th></th>\n",
       "      <th>positive</th>\n",
       "      <th>negative</th>\n",
       "      <th>objective</th>\n",
       "    </tr>\n",
       "  </thead>\n",
       "  <tbody>\n",
       "    <tr>\n",
       "      <th>156</th>\n",
       "      <td>0.272522</td>\n",
       "      <td>0.269259</td>\n",
       "      <td>0.078081</td>\n",
       "    </tr>\n",
       "  </tbody>\n",
       "</table>\n",
       "</div>"
      ],
      "text/plain": [
       "     positive  negative  objective\n",
       "156  0.272522  0.269259   0.078081"
      ]
     },
     "metadata": {},
     "output_type": "display_data"
    },
    {
     "name": "stdout",
     "output_type": "stream",
     "text": [
      "5\n",
      "Very friendly and helpful service all the way around. The comfy waiting area is a good plus. The shop crew was fast and friendly too. My overall experience was an A+.\n"
     ]
    },
    {
     "data": {
      "text/html": [
       "<div>\n",
       "<style scoped>\n",
       "    .dataframe tbody tr th:only-of-type {\n",
       "        vertical-align: middle;\n",
       "    }\n",
       "\n",
       "    .dataframe tbody tr th {\n",
       "        vertical-align: top;\n",
       "    }\n",
       "\n",
       "    .dataframe thead th {\n",
       "        text-align: right;\n",
       "    }\n",
       "</style>\n",
       "<table border=\"1\" class=\"dataframe\">\n",
       "  <thead>\n",
       "    <tr style=\"text-align: right;\">\n",
       "      <th></th>\n",
       "      <th>positive</th>\n",
       "      <th>negative</th>\n",
       "      <th>objective</th>\n",
       "    </tr>\n",
       "  </thead>\n",
       "  <tbody>\n",
       "    <tr>\n",
       "      <th>157</th>\n",
       "      <td>-0.567851</td>\n",
       "      <td>-0.501615</td>\n",
       "      <td>-0.710004</td>\n",
       "    </tr>\n",
       "  </tbody>\n",
       "</table>\n",
       "</div>"
      ],
      "text/plain": [
       "     positive  negative  objective\n",
       "157 -0.567851 -0.501615  -0.710004"
      ]
     },
     "metadata": {},
     "output_type": "display_data"
    },
    {
     "name": "stdout",
     "output_type": "stream",
     "text": [
      "1\n",
      "Terrible service. Ordered two dishes, never even received either of them! I was going to walk out because the food was taking so long (over an hour) and the manager THREATENED TO CALL THE COPS ON ME! Eventually the gave us some food that we didn't even actually order. They forgot about our other order too. All in all, a truly terrible experience. I would not recommend this place to anyone!\n"
     ]
    },
    {
     "data": {
      "text/html": [
       "<div>\n",
       "<style scoped>\n",
       "    .dataframe tbody tr th:only-of-type {\n",
       "        vertical-align: middle;\n",
       "    }\n",
       "\n",
       "    .dataframe tbody tr th {\n",
       "        vertical-align: top;\n",
       "    }\n",
       "\n",
       "    .dataframe thead th {\n",
       "        text-align: right;\n",
       "    }\n",
       "</style>\n",
       "<table border=\"1\" class=\"dataframe\">\n",
       "  <thead>\n",
       "    <tr style=\"text-align: right;\">\n",
       "      <th></th>\n",
       "      <th>positive</th>\n",
       "      <th>negative</th>\n",
       "      <th>objective</th>\n",
       "    </tr>\n",
       "  </thead>\n",
       "  <tbody>\n",
       "    <tr>\n",
       "      <th>158</th>\n",
       "      <td>-0.599415</td>\n",
       "      <td>0.266543</td>\n",
       "      <td>-0.35745</td>\n",
       "    </tr>\n",
       "  </tbody>\n",
       "</table>\n",
       "</div>"
      ],
      "text/plain": [
       "     positive  negative  objective\n",
       "158 -0.599415  0.266543   -0.35745"
      ]
     },
     "metadata": {},
     "output_type": "display_data"
    },
    {
     "name": "stdout",
     "output_type": "stream",
     "text": [
      "2\n",
      "Despite the number of Yelpers stating this place has slow\\/bad service, I decided to try it for myself. Silly me!\n",
      "\n",
      "The bartender spent more time looking at liquor bottles and restocking than the seven people sitting at the bar. She did spend time talking to wait staff and some of her friends over at the service area. Couldn't even get her attention to place a food order. \n",
      "\n",
      "On the bright side, there was plenty of open parking space and the Coca-Cola was cold.\n"
     ]
    },
    {
     "data": {
      "text/html": [
       "<div>\n",
       "<style scoped>\n",
       "    .dataframe tbody tr th:only-of-type {\n",
       "        vertical-align: middle;\n",
       "    }\n",
       "\n",
       "    .dataframe tbody tr th {\n",
       "        vertical-align: top;\n",
       "    }\n",
       "\n",
       "    .dataframe thead th {\n",
       "        text-align: right;\n",
       "    }\n",
       "</style>\n",
       "<table border=\"1\" class=\"dataframe\">\n",
       "  <thead>\n",
       "    <tr style=\"text-align: right;\">\n",
       "      <th></th>\n",
       "      <th>positive</th>\n",
       "      <th>negative</th>\n",
       "      <th>objective</th>\n",
       "    </tr>\n",
       "  </thead>\n",
       "  <tbody>\n",
       "    <tr>\n",
       "      <th>160</th>\n",
       "      <td>-0.80455</td>\n",
       "      <td>-0.231305</td>\n",
       "      <td>-0.202315</td>\n",
       "    </tr>\n",
       "  </tbody>\n",
       "</table>\n",
       "</div>"
      ],
      "text/plain": [
       "     positive  negative  objective\n",
       "160  -0.80455 -0.231305  -0.202315"
      ]
     },
     "metadata": {},
     "output_type": "display_data"
    },
    {
     "name": "stdout",
     "output_type": "stream",
     "text": [
      "5\n",
      "Always the best French fries. Always. And I love that they have a veggie sandwich option now. Makes me more apt to come back often!\n"
     ]
    },
    {
     "data": {
      "text/html": [
       "<div>\n",
       "<style scoped>\n",
       "    .dataframe tbody tr th:only-of-type {\n",
       "        vertical-align: middle;\n",
       "    }\n",
       "\n",
       "    .dataframe tbody tr th {\n",
       "        vertical-align: top;\n",
       "    }\n",
       "\n",
       "    .dataframe thead th {\n",
       "        text-align: right;\n",
       "    }\n",
       "</style>\n",
       "<table border=\"1\" class=\"dataframe\">\n",
       "  <thead>\n",
       "    <tr style=\"text-align: right;\">\n",
       "      <th></th>\n",
       "      <th>positive</th>\n",
       "      <th>negative</th>\n",
       "      <th>objective</th>\n",
       "    </tr>\n",
       "  </thead>\n",
       "  <tbody>\n",
       "    <tr>\n",
       "      <th>161</th>\n",
       "      <td>-0.673771</td>\n",
       "      <td>-0.777622</td>\n",
       "      <td>-0.707397</td>\n",
       "    </tr>\n",
       "  </tbody>\n",
       "</table>\n",
       "</div>"
      ],
      "text/plain": [
       "     positive  negative  objective\n",
       "161 -0.673771 -0.777622  -0.707397"
      ]
     },
     "metadata": {},
     "output_type": "display_data"
    },
    {
     "name": "stdout",
     "output_type": "stream",
     "text": [
      "5\n",
      "Fast, friendly, lots of options, and literally the best chilli I've ever had. This place would make Cincinnati ashamed to call themselves the chilli capital of America.\n"
     ]
    },
    {
     "data": {
      "text/html": [
       "<div>\n",
       "<style scoped>\n",
       "    .dataframe tbody tr th:only-of-type {\n",
       "        vertical-align: middle;\n",
       "    }\n",
       "\n",
       "    .dataframe tbody tr th {\n",
       "        vertical-align: top;\n",
       "    }\n",
       "\n",
       "    .dataframe thead th {\n",
       "        text-align: right;\n",
       "    }\n",
       "</style>\n",
       "<table border=\"1\" class=\"dataframe\">\n",
       "  <thead>\n",
       "    <tr style=\"text-align: right;\">\n",
       "      <th></th>\n",
       "      <th>positive</th>\n",
       "      <th>negative</th>\n",
       "      <th>objective</th>\n",
       "    </tr>\n",
       "  </thead>\n",
       "  <tbody>\n",
       "    <tr>\n",
       "      <th>164</th>\n",
       "      <td>-0.921259</td>\n",
       "      <td>-0.571797</td>\n",
       "      <td>-0.765683</td>\n",
       "    </tr>\n",
       "  </tbody>\n",
       "</table>\n",
       "</div>"
      ],
      "text/plain": [
       "     positive  negative  objective\n",
       "164 -0.921259 -0.571797  -0.765683"
      ]
     },
     "metadata": {},
     "output_type": "display_data"
    },
    {
     "name": "stdout",
     "output_type": "stream",
     "text": [
      "3\n",
      "My fear with mexican restaurants is that at the end, they're just another Chilli's or Pedro's disguised.\n",
      "\n",
      "And sadly, I have to say, well.. this is yet another one.\n",
      "\n",
      "I think I just must not be very keen on mexican food, and all I'm interested is in a margarita. \n",
      "\n",
      "Although I will say that pretty much everyone else in our party enjoyed the food, so KNOWING my issue with mexican cuisine.... eh\n",
      "\n",
      "I will give the restaurant 3 stars only because it is LARGE and you feel that you're not elbowing with the next person (or maybe it's because of the high ceilings).\n",
      "\n",
      "I bet the Middleton peeps are excited about all the progress and development in their area though... Hmmm.\n"
     ]
    },
    {
     "data": {
      "text/html": [
       "<div>\n",
       "<style scoped>\n",
       "    .dataframe tbody tr th:only-of-type {\n",
       "        vertical-align: middle;\n",
       "    }\n",
       "\n",
       "    .dataframe tbody tr th {\n",
       "        vertical-align: top;\n",
       "    }\n",
       "\n",
       "    .dataframe thead th {\n",
       "        text-align: right;\n",
       "    }\n",
       "</style>\n",
       "<table border=\"1\" class=\"dataframe\">\n",
       "  <thead>\n",
       "    <tr style=\"text-align: right;\">\n",
       "      <th></th>\n",
       "      <th>positive</th>\n",
       "      <th>negative</th>\n",
       "      <th>objective</th>\n",
       "    </tr>\n",
       "  </thead>\n",
       "  <tbody>\n",
       "    <tr>\n",
       "      <th>165</th>\n",
       "      <td>-0.208488</td>\n",
       "      <td>0.096887</td>\n",
       "      <td>0.016549</td>\n",
       "    </tr>\n",
       "  </tbody>\n",
       "</table>\n",
       "</div>"
      ],
      "text/plain": [
       "     positive  negative  objective\n",
       "165 -0.208488  0.096887   0.016549"
      ]
     },
     "metadata": {},
     "output_type": "display_data"
    },
    {
     "name": "stdout",
     "output_type": "stream",
     "text": [
      "5\n",
      "This is by far the best vet I have been to.   We have come here for 5 years or more and recently moved about and hour and a half away.  I tried some vets in our new area for about 6 months.  I am happy to say we are all back (4 dogs ) with Dr. Wodiske and will never leave again!\n"
     ]
    },
    {
     "data": {
      "text/html": [
       "<div>\n",
       "<style scoped>\n",
       "    .dataframe tbody tr th:only-of-type {\n",
       "        vertical-align: middle;\n",
       "    }\n",
       "\n",
       "    .dataframe tbody tr th {\n",
       "        vertical-align: top;\n",
       "    }\n",
       "\n",
       "    .dataframe thead th {\n",
       "        text-align: right;\n",
       "    }\n",
       "</style>\n",
       "<table border=\"1\" class=\"dataframe\">\n",
       "  <thead>\n",
       "    <tr style=\"text-align: right;\">\n",
       "      <th></th>\n",
       "      <th>positive</th>\n",
       "      <th>negative</th>\n",
       "      <th>objective</th>\n",
       "    </tr>\n",
       "  </thead>\n",
       "  <tbody>\n",
       "    <tr>\n",
       "      <th>166</th>\n",
       "      <td>-0.592108</td>\n",
       "      <td>-0.628244</td>\n",
       "      <td>-0.481204</td>\n",
       "    </tr>\n",
       "  </tbody>\n",
       "</table>\n",
       "</div>"
      ],
      "text/plain": [
       "     positive  negative  objective\n",
       "166 -0.592108 -0.628244  -0.481204"
      ]
     },
     "metadata": {},
     "output_type": "display_data"
    },
    {
     "name": "stdout",
     "output_type": "stream",
     "text": [
      "4\n",
      "Wow!  After reading all the reviews, I'm not sure we went to the right place.  \n",
      "\n",
      "We arrived pretty late on Saturday night, the parking lot wasn't too crowded.  There was a sign at the desk to walk around and seat yourself...so we did.  They only had seating in the bar area, but there were plenty of tables available.  We sat, and within seconds, we were handed menus and gave our drink order.\n",
      "\n",
      "Our server was Jeanette, who was very friendly and helpful.  We hadn't been here before, so she gave us the rundown on everything.  We couldn't decide which app to go with, and she suggested the potato skins.  So glad she did, because they were really good.\n",
      "\n",
      "We decided to get 20 honey BBQ traditional wings.  They were well-sauced and meaty.  I got the bleu cheese and hubby got the ranch.  We totally enjoyed them, and finished them off!\n",
      "\n",
      "Jeanette was quick on refills of our iced teas, and brought over extra napkins for us.\n",
      "\n",
      "Hubby took a look at the desserts (it's always dangerous when he does), so we ended up sharing the chocolate bundt cake.  OMG!  It was warm and moist, with hot chocolate sauce all over it...soooo good!\n",
      "\n",
      "All in all, we really enjoyed ourselves!  We'll definitely be coming back again.\n"
     ]
    },
    {
     "data": {
      "text/html": [
       "<div>\n",
       "<style scoped>\n",
       "    .dataframe tbody tr th:only-of-type {\n",
       "        vertical-align: middle;\n",
       "    }\n",
       "\n",
       "    .dataframe tbody tr th {\n",
       "        vertical-align: top;\n",
       "    }\n",
       "\n",
       "    .dataframe thead th {\n",
       "        text-align: right;\n",
       "    }\n",
       "</style>\n",
       "<table border=\"1\" class=\"dataframe\">\n",
       "  <thead>\n",
       "    <tr style=\"text-align: right;\">\n",
       "      <th></th>\n",
       "      <th>positive</th>\n",
       "      <th>negative</th>\n",
       "      <th>objective</th>\n",
       "    </tr>\n",
       "  </thead>\n",
       "  <tbody>\n",
       "    <tr>\n",
       "      <th>167</th>\n",
       "      <td>1.371612</td>\n",
       "      <td>0.517186</td>\n",
       "      <td>1.029918</td>\n",
       "    </tr>\n",
       "  </tbody>\n",
       "</table>\n",
       "</div>"
      ],
      "text/plain": [
       "     positive  negative  objective\n",
       "167  1.371612  0.517186   1.029918"
      ]
     },
     "metadata": {},
     "output_type": "display_data"
    },
    {
     "name": "stdout",
     "output_type": "stream",
     "text": [
      "1\n",
      "If I could give this place no stars I would.  This has to be one of the worst nail experiences I have ever had.  You would think what they lack in talent they make up for in customer service but that is not the case.  I went there to have my nails done since they are on my way home.  I told them many times I wanted the bio gel UV nails and after doing a clear coat of that she proceeded to put shellac on my nails, I asked her again and she said that it will last longer since there is gel underneath, so I went with it.  I got a black and red french manicure with gems on one finger and the grant total was $60.  I mentioned to the lady that the last time I did gel nails which I had on at the time (done somewhere else) they lasted me 5 weeks and she said these will last even longer.  Anyway 2 days later one nail chipped and then another and then by Monday the gems had fallen off.  I called them to complain and that I wanted a refund they said they don't do that and that the manager would call me back.  They did not and I had to call back and they asked me to come back in to have it redone so I reluctantly agreed.  I went back in on Tuesday to have them redone and the service I received was beyond AWFUL.  The lady who greeted me said that it was somehow my fault my nails had chipped and that she would only do a color and not the french or gems even though that is what I paid for.  I asked to speak to a manager and apparently there is never anyone there who is equipped to handle any customer issues.  Anyway she did an absolutely AWFUL job with my nails and practically painted my fingers in the process, I would have been able to do a better job on my own at home.  The whole time she  was RUDE and extremely unaccommodating.  I will NEVER go back to this place and I strongly suggest anyone considering to go here will go elsewhere.  I learnt my lesson and will stick to my regular nail salon in the future.  My advice to the owner give your employees a lesson in customer service and nail tech.  Also maybe be more available to talk to a disgruntled customer.\n"
     ]
    },
    {
     "data": {
      "text/html": [
       "<div>\n",
       "<style scoped>\n",
       "    .dataframe tbody tr th:only-of-type {\n",
       "        vertical-align: middle;\n",
       "    }\n",
       "\n",
       "    .dataframe tbody tr th {\n",
       "        vertical-align: top;\n",
       "    }\n",
       "\n",
       "    .dataframe thead th {\n",
       "        text-align: right;\n",
       "    }\n",
       "</style>\n",
       "<table border=\"1\" class=\"dataframe\">\n",
       "  <thead>\n",
       "    <tr style=\"text-align: right;\">\n",
       "      <th></th>\n",
       "      <th>positive</th>\n",
       "      <th>negative</th>\n",
       "      <th>objective</th>\n",
       "    </tr>\n",
       "  </thead>\n",
       "  <tbody>\n",
       "    <tr>\n",
       "      <th>168</th>\n",
       "      <td>1.317528</td>\n",
       "      <td>2.253613</td>\n",
       "      <td>2.88575</td>\n",
       "    </tr>\n",
       "  </tbody>\n",
       "</table>\n",
       "</div>"
      ],
      "text/plain": [
       "     positive  negative  objective\n",
       "168  1.317528  2.253613    2.88575"
      ]
     },
     "metadata": {},
     "output_type": "display_data"
    },
    {
     "name": "stdout",
     "output_type": "stream",
     "text": [
      "1\n",
      "Appointment is there for a reason. When 2.5 hours after the appointment time, the customer is still waiting to be seen. Something is wrong with this unorganized place\n"
     ]
    },
    {
     "data": {
      "text/html": [
       "<div>\n",
       "<style scoped>\n",
       "    .dataframe tbody tr th:only-of-type {\n",
       "        vertical-align: middle;\n",
       "    }\n",
       "\n",
       "    .dataframe tbody tr th {\n",
       "        vertical-align: top;\n",
       "    }\n",
       "\n",
       "    .dataframe thead th {\n",
       "        text-align: right;\n",
       "    }\n",
       "</style>\n",
       "<table border=\"1\" class=\"dataframe\">\n",
       "  <thead>\n",
       "    <tr style=\"text-align: right;\">\n",
       "      <th></th>\n",
       "      <th>positive</th>\n",
       "      <th>negative</th>\n",
       "      <th>objective</th>\n",
       "    </tr>\n",
       "  </thead>\n",
       "  <tbody>\n",
       "    <tr>\n",
       "      <th>169</th>\n",
       "      <td>-1.085095</td>\n",
       "      <td>-0.323806</td>\n",
       "      <td>-0.789171</td>\n",
       "    </tr>\n",
       "  </tbody>\n",
       "</table>\n",
       "</div>"
      ],
      "text/plain": [
       "     positive  negative  objective\n",
       "169 -1.085095 -0.323806  -0.789171"
      ]
     },
     "metadata": {},
     "output_type": "display_data"
    },
    {
     "name": "stdout",
     "output_type": "stream",
     "text": [
      "2\n",
      "I went on Saturday afternoon it was packed. The pizza was good. The floor by the soda machine was all sticky. The carpet was tacky! It was gross. Under the salad bar was all kinds of food all over the floor. The parents didn't watch their kids. We played some games and came back to our table and a little boy had our left over pizza in his hands! I told his dad he could have the pizza, I wasn't going to take it.. Also a lot of the game were down without a sign on them!\n"
     ]
    },
    {
     "data": {
      "text/html": [
       "<div>\n",
       "<style scoped>\n",
       "    .dataframe tbody tr th:only-of-type {\n",
       "        vertical-align: middle;\n",
       "    }\n",
       "\n",
       "    .dataframe tbody tr th {\n",
       "        vertical-align: top;\n",
       "    }\n",
       "\n",
       "    .dataframe thead th {\n",
       "        text-align: right;\n",
       "    }\n",
       "</style>\n",
       "<table border=\"1\" class=\"dataframe\">\n",
       "  <thead>\n",
       "    <tr style=\"text-align: right;\">\n",
       "      <th></th>\n",
       "      <th>positive</th>\n",
       "      <th>negative</th>\n",
       "      <th>objective</th>\n",
       "    </tr>\n",
       "  </thead>\n",
       "  <tbody>\n",
       "    <tr>\n",
       "      <th>170</th>\n",
       "      <td>-0.500922</td>\n",
       "      <td>-0.316844</td>\n",
       "      <td>-0.15552</td>\n",
       "    </tr>\n",
       "  </tbody>\n",
       "</table>\n",
       "</div>"
      ],
      "text/plain": [
       "     positive  negative  objective\n",
       "170 -0.500922 -0.316844   -0.15552"
      ]
     },
     "metadata": {},
     "output_type": "display_data"
    },
    {
     "name": "stdout",
     "output_type": "stream",
     "text": [
      "5\n",
      "We ate here on a whim after going to the castle & our server was Carla and she was the best! Amazing food!! Wish we were staying long enough to come back for more\n"
     ]
    },
    {
     "data": {
      "text/html": [
       "<div>\n",
       "<style scoped>\n",
       "    .dataframe tbody tr th:only-of-type {\n",
       "        vertical-align: middle;\n",
       "    }\n",
       "\n",
       "    .dataframe tbody tr th {\n",
       "        vertical-align: top;\n",
       "    }\n",
       "\n",
       "    .dataframe thead th {\n",
       "        text-align: right;\n",
       "    }\n",
       "</style>\n",
       "<table border=\"1\" class=\"dataframe\">\n",
       "  <thead>\n",
       "    <tr style=\"text-align: right;\">\n",
       "      <th></th>\n",
       "      <th>positive</th>\n",
       "      <th>negative</th>\n",
       "      <th>objective</th>\n",
       "    </tr>\n",
       "  </thead>\n",
       "  <tbody>\n",
       "    <tr>\n",
       "      <th>171</th>\n",
       "      <td>-0.740247</td>\n",
       "      <td>-0.793883</td>\n",
       "      <td>-0.679233</td>\n",
       "    </tr>\n",
       "  </tbody>\n",
       "</table>\n",
       "</div>"
      ],
      "text/plain": [
       "     positive  negative  objective\n",
       "171 -0.740247 -0.793883  -0.679233"
      ]
     },
     "metadata": {},
     "output_type": "display_data"
    },
    {
     "name": "stdout",
     "output_type": "stream",
     "text": [
      "5\n",
      "The ribeye tacos are so go.  They are by far amazing.   The salsa bar is great the three salsas enhances  the food.  Simply the best carne taco around.\n"
     ]
    },
    {
     "data": {
      "text/html": [
       "<div>\n",
       "<style scoped>\n",
       "    .dataframe tbody tr th:only-of-type {\n",
       "        vertical-align: middle;\n",
       "    }\n",
       "\n",
       "    .dataframe tbody tr th {\n",
       "        vertical-align: top;\n",
       "    }\n",
       "\n",
       "    .dataframe thead th {\n",
       "        text-align: right;\n",
       "    }\n",
       "</style>\n",
       "<table border=\"1\" class=\"dataframe\">\n",
       "  <thead>\n",
       "    <tr style=\"text-align: right;\">\n",
       "      <th></th>\n",
       "      <th>positive</th>\n",
       "      <th>negative</th>\n",
       "      <th>objective</th>\n",
       "    </tr>\n",
       "  </thead>\n",
       "  <tbody>\n",
       "    <tr>\n",
       "      <th>172</th>\n",
       "      <td>-0.510138</td>\n",
       "      <td>-0.874058</td>\n",
       "      <td>-0.758607</td>\n",
       "    </tr>\n",
       "  </tbody>\n",
       "</table>\n",
       "</div>"
      ],
      "text/plain": [
       "     positive  negative  objective\n",
       "172 -0.510138 -0.874058  -0.758607"
      ]
     },
     "metadata": {},
     "output_type": "display_data"
    },
    {
     "name": "stdout",
     "output_type": "stream",
     "text": [
      "3\n",
      "This is definitely one of the best ayce japanese restaurants downtown. I really like the variety they have on their menu even though we only came for their weekend lunch ($16 before tax). I'm a huge fan of their iPad ordering system and we got everything we ordered. One criticism I have is their portion sizes. One order of maki rolls and a lot of their hot dishes were huge, which makes it hard to try a variety of food if you're going with just 2 or 3 people.\n"
     ]
    },
    {
     "data": {
      "text/html": [
       "<div>\n",
       "<style scoped>\n",
       "    .dataframe tbody tr th:only-of-type {\n",
       "        vertical-align: middle;\n",
       "    }\n",
       "\n",
       "    .dataframe tbody tr th {\n",
       "        vertical-align: top;\n",
       "    }\n",
       "\n",
       "    .dataframe thead th {\n",
       "        text-align: right;\n",
       "    }\n",
       "</style>\n",
       "<table border=\"1\" class=\"dataframe\">\n",
       "  <thead>\n",
       "    <tr style=\"text-align: right;\">\n",
       "      <th></th>\n",
       "      <th>positive</th>\n",
       "      <th>negative</th>\n",
       "      <th>objective</th>\n",
       "    </tr>\n",
       "  </thead>\n",
       "  <tbody>\n",
       "    <tr>\n",
       "      <th>175</th>\n",
       "      <td>-0.316367</td>\n",
       "      <td>-0.374157</td>\n",
       "      <td>-0.232624</td>\n",
       "    </tr>\n",
       "  </tbody>\n",
       "</table>\n",
       "</div>"
      ],
      "text/plain": [
       "     positive  negative  objective\n",
       "175 -0.316367 -0.374157  -0.232624"
      ]
     },
     "metadata": {},
     "output_type": "display_data"
    },
    {
     "name": "stdout",
     "output_type": "stream",
     "text": [
      "3\n",
      "I want to give this place two stars. It deserves two stars, HOWEVER, I have decided on 3 for the sheer fact of the sale of cheap tacos and cheap beer. \n",
      "\n",
      "I will be first to say that I strongly dislike the semi-douchey scene of Loco Patron, but what can one expect when they're in an OTSCO bar that is frequented by barely legal drinkers? So I set my thirty year old snobbery aside and went for some cheap tacos. When I walked in to what I thought was a restaurant, I was carded! WTF? There was a 7 year old kid munching on his taco, watching my carding go down. We locked eyes for a moment while the bouncer flashed his light on my ID, I think the child was mocking me. I was wondering why he was allowed in. Oh well. \n",
      "\n",
      "After that puzzling moment, I met the gang. While the conversation at the table was rousing, I couldn't help but notice the coke-ho dancing without any rhythm or to the music that was in her head at the bar in front of us. She was really working it too! I tore my eyes away from the train wreck to peruse the simple menu. I ordered off of the regular menu to get some shrimp tacos. They were pretty flavorful! I was rather surprised. I also ordered a steak taco off of the \"Taco Tuesday\" menu to try. Again, another pretty good, flavorful taco! The rice and beans were just alright. Nothing too amazing. \n",
      "\n",
      "I guess my overall impression is that Loco Patron is a great place to meet some friends if you're broke on a Tuesday and you're hungry and want a beer or two! I wouldn't rush back to visit this joint, but it would do in a pinch.\n"
     ]
    },
    {
     "data": {
      "text/html": [
       "<div>\n",
       "<style scoped>\n",
       "    .dataframe tbody tr th:only-of-type {\n",
       "        vertical-align: middle;\n",
       "    }\n",
       "\n",
       "    .dataframe tbody tr th {\n",
       "        vertical-align: top;\n",
       "    }\n",
       "\n",
       "    .dataframe thead th {\n",
       "        text-align: right;\n",
       "    }\n",
       "</style>\n",
       "<table border=\"1\" class=\"dataframe\">\n",
       "  <thead>\n",
       "    <tr style=\"text-align: right;\">\n",
       "      <th></th>\n",
       "      <th>positive</th>\n",
       "      <th>negative</th>\n",
       "      <th>objective</th>\n",
       "    </tr>\n",
       "  </thead>\n",
       "  <tbody>\n",
       "    <tr>\n",
       "      <th>176</th>\n",
       "      <td>1.340555</td>\n",
       "      <td>2.742944</td>\n",
       "      <td>1.516543</td>\n",
       "    </tr>\n",
       "  </tbody>\n",
       "</table>\n",
       "</div>"
      ],
      "text/plain": [
       "     positive  negative  objective\n",
       "176  1.340555  2.742944   1.516543"
      ]
     },
     "metadata": {},
     "output_type": "display_data"
    },
    {
     "name": "stdout",
     "output_type": "stream",
     "text": [
      "1\n",
      "I went to the bar last night (sat) and it took FOREVER to get my drink. I order a Long Island, when I got it the drink was CLEAR! I told the bartender \"Ashely\" that my drink wasn't right and she had the nerve to take a drink out of my drink and told me \"it taste fine and I not making you a new one\"! WTF don't ever go here!\n"
     ]
    },
    {
     "data": {
      "text/html": [
       "<div>\n",
       "<style scoped>\n",
       "    .dataframe tbody tr th:only-of-type {\n",
       "        vertical-align: middle;\n",
       "    }\n",
       "\n",
       "    .dataframe tbody tr th {\n",
       "        vertical-align: top;\n",
       "    }\n",
       "\n",
       "    .dataframe thead th {\n",
       "        text-align: right;\n",
       "    }\n",
       "</style>\n",
       "<table border=\"1\" class=\"dataframe\">\n",
       "  <thead>\n",
       "    <tr style=\"text-align: right;\">\n",
       "      <th></th>\n",
       "      <th>positive</th>\n",
       "      <th>negative</th>\n",
       "      <th>objective</th>\n",
       "    </tr>\n",
       "  </thead>\n",
       "  <tbody>\n",
       "    <tr>\n",
       "      <th>177</th>\n",
       "      <td>-0.56891</td>\n",
       "      <td>-0.603154</td>\n",
       "      <td>-0.418672</td>\n",
       "    </tr>\n",
       "  </tbody>\n",
       "</table>\n",
       "</div>"
      ],
      "text/plain": [
       "     positive  negative  objective\n",
       "177  -0.56891 -0.603154  -0.418672"
      ]
     },
     "metadata": {},
     "output_type": "display_data"
    },
    {
     "name": "stdout",
     "output_type": "stream",
     "text": [
      "5\n",
      "Where can I even begin to explain how pleased I am? \n",
      "\n",
      "Last night, my laptop suffered an unfortunate accident where a bottle of pure acetone was knocked over and spilled onto my laptop. Attempts were made to see if my Macbook Air had survived before it shut down completely and refused to turn on. Cue freak out the moment I found out. \n",
      "\n",
      "Around 10:20 this morning, I called Allen and explained my situation to him. He was more than able to accommodate me dropping in an hour later to diagnose the damages. Turns out, there was a very strong chance that it would just be some keyboard damage. You can imagine the relief. \n",
      "\n",
      "Apple would have charged us close to $700 for a repair of both the keyboard, and supposedly the Logic Board which was said to be minorly damaged as well. Allen quoted $150. \n",
      "\n",
      "I left my laptop with him and went about my errands, receiving a call a few hours later with the good news that it was just keyboard damage and that my laptop was ready to be picked up. Now it works and looks like it's brand new! I can't thank Elitetek enough for everything and they'll surely be on our call list the next time we have a Macbook issue!\n"
     ]
    },
    {
     "data": {
      "text/html": [
       "<div>\n",
       "<style scoped>\n",
       "    .dataframe tbody tr th:only-of-type {\n",
       "        vertical-align: middle;\n",
       "    }\n",
       "\n",
       "    .dataframe tbody tr th {\n",
       "        vertical-align: top;\n",
       "    }\n",
       "\n",
       "    .dataframe thead th {\n",
       "        text-align: right;\n",
       "    }\n",
       "</style>\n",
       "<table border=\"1\" class=\"dataframe\">\n",
       "  <thead>\n",
       "    <tr style=\"text-align: right;\">\n",
       "      <th></th>\n",
       "      <th>positive</th>\n",
       "      <th>negative</th>\n",
       "      <th>objective</th>\n",
       "    </tr>\n",
       "  </thead>\n",
       "  <tbody>\n",
       "    <tr>\n",
       "      <th>178</th>\n",
       "      <td>0.524872</td>\n",
       "      <td>1.042902</td>\n",
       "      <td>0.780911</td>\n",
       "    </tr>\n",
       "  </tbody>\n",
       "</table>\n",
       "</div>"
      ],
      "text/plain": [
       "     positive  negative  objective\n",
       "178  0.524872  1.042902   0.780911"
      ]
     },
     "metadata": {},
     "output_type": "display_data"
    },
    {
     "name": "stdout",
     "output_type": "stream",
     "text": [
      "1\n",
      "Ehhh, pass on this one, Highly disappointing! I had read their menu on line (so that I wouldn't have to figure out what I wanted while standing in line) but was told the menu is wrong and they don't have those items any longer. That should have been the first clue. Horrible! Portions were ridiculously small but since the taste was pretty nonexistent I didn't miss much. Absurd amount of money for worse than mediocre food!\n"
     ]
    },
    {
     "data": {
      "text/html": [
       "<div>\n",
       "<style scoped>\n",
       "    .dataframe tbody tr th:only-of-type {\n",
       "        vertical-align: middle;\n",
       "    }\n",
       "\n",
       "    .dataframe tbody tr th {\n",
       "        vertical-align: top;\n",
       "    }\n",
       "\n",
       "    .dataframe thead th {\n",
       "        text-align: right;\n",
       "    }\n",
       "</style>\n",
       "<table border=\"1\" class=\"dataframe\">\n",
       "  <thead>\n",
       "    <tr style=\"text-align: right;\">\n",
       "      <th></th>\n",
       "      <th>positive</th>\n",
       "      <th>negative</th>\n",
       "      <th>objective</th>\n",
       "    </tr>\n",
       "  </thead>\n",
       "  <tbody>\n",
       "    <tr>\n",
       "      <th>179</th>\n",
       "      <td>-0.529444</td>\n",
       "      <td>1.037637</td>\n",
       "      <td>-0.364254</td>\n",
       "    </tr>\n",
       "  </tbody>\n",
       "</table>\n",
       "</div>"
      ],
      "text/plain": [
       "     positive  negative  objective\n",
       "179 -0.529444  1.037637  -0.364254"
      ]
     },
     "metadata": {},
     "output_type": "display_data"
    },
    {
     "name": "stdout",
     "output_type": "stream",
     "text": [
      "5\n",
      "I hired Desert Designers to convert the concrete slab that was my backyard into an inviting space to entertain and relax. After removing many square feet of concrete, Rob Plowright and his team converted my backyard into a desert oasis.  \n",
      "I met Rob Plowright with Desert Designer at the home show in February 2016.  Rob was one of five landscape designers who I interviewed.  I ultimately decided to go with Desert Designer because Rob understood how I wanted to use my yard and the problems that I had with the space in its original state.  Rob came up with a great plan that was functional and esthetically pleasing.  In fact, he took an off-hand comment that I had made about eventually wanting a container garden on the side yard, and came up with a unique container garden that will withstand prolonged sun exposure without deteriorating.  Rob is also extremely organized and detail-oriented.  He was the only one of the five designers who I interviewed who scheduled a follow-up appointment at the time of our first meeting.  Within a week of our first meeting, I had received multiple emails with alternative price lists and pictures of the proposed plants.  At our second meeting, Rob presented his plans with line-item pricelists, walked me through two proposals, and explained to me why he made the choices that he did.  Although other designers may have had fancier presentations with 3D computer models, Rob's plan was spot-on to my vision and under budget!  In fact, because the estimate was so reasonable, I ultimately expanded the project to include additional landscaping in the backyard and replacement of the irrigation system in the front yard.  Rob was also patient and responsive to the numerous questions that I emailed him sent before, during, and after the project was complete.\n",
      "On the day my project was scheduled to begin, the Desert Designer team was on time (maybe even earlier), and worked quickly without sacrificing attention to detail.  Not only did the team work efficiently, finishing the project in just four days, but it was done perfectly, and my yard and the street were immaculate.  Even my neighbors commented on how great a job Desert Designers had done on cleaning up.  And because the workers are employees, and not merely contracted for the day or project, I didn't worry while I was at work about whether they would show up or complete the day.  The following day, I met Rob at my house where he gave me an orientation on plant care, the new irrigation system, and the warranty on the pavers and labor. Like any home improvement project, there were a few hiccups along the way, but I had complete confidence that Desert Designer would make sure the job was completed to the highest standards.  \n",
      "I am beyond pleased with the way my backyard turned out.  If you are looking to transform your yard, I highly recommend that you contact Desert Designer.\n"
     ]
    },
    {
     "data": {
      "text/html": [
       "<div>\n",
       "<style scoped>\n",
       "    .dataframe tbody tr th:only-of-type {\n",
       "        vertical-align: middle;\n",
       "    }\n",
       "\n",
       "    .dataframe tbody tr th {\n",
       "        vertical-align: top;\n",
       "    }\n",
       "\n",
       "    .dataframe thead th {\n",
       "        text-align: right;\n",
       "    }\n",
       "</style>\n",
       "<table border=\"1\" class=\"dataframe\">\n",
       "  <thead>\n",
       "    <tr style=\"text-align: right;\">\n",
       "      <th></th>\n",
       "      <th>positive</th>\n",
       "      <th>negative</th>\n",
       "      <th>objective</th>\n",
       "    </tr>\n",
       "  </thead>\n",
       "  <tbody>\n",
       "    <tr>\n",
       "      <th>180</th>\n",
       "      <td>2.510134</td>\n",
       "      <td>1.832979</td>\n",
       "      <td>3.540132</td>\n",
       "    </tr>\n",
       "  </tbody>\n",
       "</table>\n",
       "</div>"
      ],
      "text/plain": [
       "     positive  negative  objective\n",
       "180  2.510134  1.832979   3.540132"
      ]
     },
     "metadata": {},
     "output_type": "display_data"
    },
    {
     "name": "stdout",
     "output_type": "stream",
     "text": [
      "3\n",
      "I have dined here on multiple occasions. The pizza is very good.  I just have a few issues with the place. First, they only have beer and wine. No rum and cokes for me! Secondly, most of the pizzas don't have meat on them. As a carnivore I want sausage and pepperoni! Third, they don't have much for kids. Overall, I would say the place is ok. Just very convenient when you live 3 blocks away!\n"
     ]
    },
    {
     "data": {
      "text/html": [
       "<div>\n",
       "<style scoped>\n",
       "    .dataframe tbody tr th:only-of-type {\n",
       "        vertical-align: middle;\n",
       "    }\n",
       "\n",
       "    .dataframe tbody tr th {\n",
       "        vertical-align: top;\n",
       "    }\n",
       "\n",
       "    .dataframe thead th {\n",
       "        text-align: right;\n",
       "    }\n",
       "</style>\n",
       "<table border=\"1\" class=\"dataframe\">\n",
       "  <thead>\n",
       "    <tr style=\"text-align: right;\">\n",
       "      <th></th>\n",
       "      <th>positive</th>\n",
       "      <th>negative</th>\n",
       "      <th>objective</th>\n",
       "    </tr>\n",
       "  </thead>\n",
       "  <tbody>\n",
       "    <tr>\n",
       "      <th>182</th>\n",
       "      <td>-0.490092</td>\n",
       "      <td>-0.656462</td>\n",
       "      <td>-0.20233</td>\n",
       "    </tr>\n",
       "  </tbody>\n",
       "</table>\n",
       "</div>"
      ],
      "text/plain": [
       "     positive  negative  objective\n",
       "182 -0.490092 -0.656462   -0.20233"
      ]
     },
     "metadata": {},
     "output_type": "display_data"
    },
    {
     "name": "stdout",
     "output_type": "stream",
     "text": [
      "3\n",
      "The food here is fantastic but the service is soooooo horrible that I can't give it more than three stars.  Clearly the owner has only hired his wait staff based on gender...all females.\n"
     ]
    },
    {
     "data": {
      "text/html": [
       "<div>\n",
       "<style scoped>\n",
       "    .dataframe tbody tr th:only-of-type {\n",
       "        vertical-align: middle;\n",
       "    }\n",
       "\n",
       "    .dataframe tbody tr th {\n",
       "        vertical-align: top;\n",
       "    }\n",
       "\n",
       "    .dataframe thead th {\n",
       "        text-align: right;\n",
       "    }\n",
       "</style>\n",
       "<table border=\"1\" class=\"dataframe\">\n",
       "  <thead>\n",
       "    <tr style=\"text-align: right;\">\n",
       "      <th></th>\n",
       "      <th>positive</th>\n",
       "      <th>negative</th>\n",
       "      <th>objective</th>\n",
       "    </tr>\n",
       "  </thead>\n",
       "  <tbody>\n",
       "    <tr>\n",
       "      <th>184</th>\n",
       "      <td>-1.019481</td>\n",
       "      <td>-0.580438</td>\n",
       "      <td>-0.691556</td>\n",
       "    </tr>\n",
       "  </tbody>\n",
       "</table>\n",
       "</div>"
      ],
      "text/plain": [
       "     positive  negative  objective\n",
       "184 -1.019481 -0.580438  -0.691556"
      ]
     },
     "metadata": {},
     "output_type": "display_data"
    },
    {
     "name": "stdout",
     "output_type": "stream",
     "text": [
      "3\n",
      "I really like P.F. Chang's, but I really hate this location. \n",
      "\n",
      "Maybe it's my fault. I primarily do take out orders at this store. Look, I get that it's always busy here. But, why is it always a cluster-expletive at the hostess stand and waiting area? There are enough people behind that counter to land a space shuttle. How is my five minute interaction with the workers here always awful?\n",
      "\n",
      "My latest unfortunate service experience: I placed my take out order Sunday for soup and egg rolls. And by Sunday, I mean it was 3:30pm. It wasn't during church rush-hour. The girl who took my order warned me that at the moment it was taking 25 minutes for to-go orders. Okay, that's fine. She also talked to me like she would rather play in traffic than be behind that counter. Here's the real problem: my order came out ten minutes later. No one even bothered to look at the bag. I never gave it a second thought because I was told it would be at least 25 minutes. I figured it was a call-in order and that's why no one did anything. So, 30 minutes after placing my order I finally walked up to ask about my food. I was handed the bag, which was the only bag there on the counter. I said, \"oh, it's the bag that's been sitting there for 20 minutes and no one called my name.\" The girl just kind of rolled her eyes and gave me attitude. Sigh.\n",
      "\n",
      "Things to know: like I said, this place is always busy. Go ahead and expect a wait. Your best bet is to make a reservation. Although, the family next to me made their reservation a week ahead of time and still had to wait for their table to be ready. Also, check the bar area. You may be able to snag a spot there. \n",
      "\n",
      "My favorite thing here is the egg drop soup. I usually just order a large size of that and the lettuce wraps for my meal. I'm also a fan of the Sichuan-style asparagus.\n",
      "\n",
      "I don't know what the secret is to having a solid experience here. The Phillips Place location seems to function more smoothly than this one. My advice is to just be patient.\n"
     ]
    },
    {
     "data": {
      "text/html": [
       "<div>\n",
       "<style scoped>\n",
       "    .dataframe tbody tr th:only-of-type {\n",
       "        vertical-align: middle;\n",
       "    }\n",
       "\n",
       "    .dataframe tbody tr th {\n",
       "        vertical-align: top;\n",
       "    }\n",
       "\n",
       "    .dataframe thead th {\n",
       "        text-align: right;\n",
       "    }\n",
       "</style>\n",
       "<table border=\"1\" class=\"dataframe\">\n",
       "  <thead>\n",
       "    <tr style=\"text-align: right;\">\n",
       "      <th></th>\n",
       "      <th>positive</th>\n",
       "      <th>negative</th>\n",
       "      <th>objective</th>\n",
       "    </tr>\n",
       "  </thead>\n",
       "  <tbody>\n",
       "    <tr>\n",
       "      <th>185</th>\n",
       "      <td>1.243724</td>\n",
       "      <td>2.382272</td>\n",
       "      <td>2.796278</td>\n",
       "    </tr>\n",
       "  </tbody>\n",
       "</table>\n",
       "</div>"
      ],
      "text/plain": [
       "     positive  negative  objective\n",
       "185  1.243724  2.382272   2.796278"
      ]
     },
     "metadata": {},
     "output_type": "display_data"
    },
    {
     "name": "stdout",
     "output_type": "stream",
     "text": [
      "5\n",
      "Used no cover multiple times on my most recent trip to Vegas from 10\\/20-10\\/26.  Had no issue on any of the guest lists we were put on.  There were 4 of us guys and we usually gathered women at the line to get expedited entry.  Great resource while in Vegas!\n"
     ]
    },
    {
     "data": {
      "text/html": [
       "<div>\n",
       "<style scoped>\n",
       "    .dataframe tbody tr th:only-of-type {\n",
       "        vertical-align: middle;\n",
       "    }\n",
       "\n",
       "    .dataframe tbody tr th {\n",
       "        vertical-align: top;\n",
       "    }\n",
       "\n",
       "    .dataframe thead th {\n",
       "        text-align: right;\n",
       "    }\n",
       "</style>\n",
       "<table border=\"1\" class=\"dataframe\">\n",
       "  <thead>\n",
       "    <tr style=\"text-align: right;\">\n",
       "      <th></th>\n",
       "      <th>positive</th>\n",
       "      <th>negative</th>\n",
       "      <th>objective</th>\n",
       "    </tr>\n",
       "  </thead>\n",
       "  <tbody>\n",
       "    <tr>\n",
       "      <th>186</th>\n",
       "      <td>-1.028172</td>\n",
       "      <td>-0.901998</td>\n",
       "      <td>-0.562306</td>\n",
       "    </tr>\n",
       "  </tbody>\n",
       "</table>\n",
       "</div>"
      ],
      "text/plain": [
       "     positive  negative  objective\n",
       "186 -1.028172 -0.901998  -0.562306"
      ]
     },
     "metadata": {},
     "output_type": "display_data"
    },
    {
     "name": "stdout",
     "output_type": "stream",
     "text": [
      "5\n",
      "Best Italian food in Charlotte; hands down. Food is delicious and affordable. Unlike most American Italian restaurants, the portions are \"just right\". Try the lasagna and the fried calamari and zucchini small plate!\n"
     ]
    },
    {
     "data": {
      "text/html": [
       "<div>\n",
       "<style scoped>\n",
       "    .dataframe tbody tr th:only-of-type {\n",
       "        vertical-align: middle;\n",
       "    }\n",
       "\n",
       "    .dataframe tbody tr th {\n",
       "        vertical-align: top;\n",
       "    }\n",
       "\n",
       "    .dataframe thead th {\n",
       "        text-align: right;\n",
       "    }\n",
       "</style>\n",
       "<table border=\"1\" class=\"dataframe\">\n",
       "  <thead>\n",
       "    <tr style=\"text-align: right;\">\n",
       "      <th></th>\n",
       "      <th>positive</th>\n",
       "      <th>negative</th>\n",
       "      <th>objective</th>\n",
       "    </tr>\n",
       "  </thead>\n",
       "  <tbody>\n",
       "    <tr>\n",
       "      <th>187</th>\n",
       "      <td>-0.665882</td>\n",
       "      <td>-0.791776</td>\n",
       "      <td>-0.619408</td>\n",
       "    </tr>\n",
       "  </tbody>\n",
       "</table>\n",
       "</div>"
      ],
      "text/plain": [
       "     positive  negative  objective\n",
       "187 -0.665882 -0.791776  -0.619408"
      ]
     },
     "metadata": {},
     "output_type": "display_data"
    },
    {
     "name": "stdout",
     "output_type": "stream",
     "text": [
      "3\n",
      "Came here with my Monday BYOW posse (I love you guys, long time!)\n",
      "\n",
      "The neighbourhood was dark and bleak that night, so this place definitely stood out as looking like 'one of these things is not like the other'. It is a really chic, minimalist looking place with a lot of variety on the menu so there is definitely something for everyone. Our waiter was very friendly and helpful and given that we were pretty much the only people dining here, the service was extra snappy.\n",
      "\n",
      "I had the mushroom tart followed up by the tuna tartare. Both were done well, but nothing spectacular about either of them: the tart was buttery and the tartare was nice and not overly seasoned. I agree with Risa D's comment that the  math of the Table D'Hote  didn't quite add up, so definitely go à la carte. I feel like the place was a tad pricey for what it was, but I wouldn't say no to going back again.\n",
      "\n",
      "Love the vibe, handwritten menu and service, but the food didn't blow my mind.\n"
     ]
    },
    {
     "data": {
      "text/html": [
       "<div>\n",
       "<style scoped>\n",
       "    .dataframe tbody tr th:only-of-type {\n",
       "        vertical-align: middle;\n",
       "    }\n",
       "\n",
       "    .dataframe tbody tr th {\n",
       "        vertical-align: top;\n",
       "    }\n",
       "\n",
       "    .dataframe thead th {\n",
       "        text-align: right;\n",
       "    }\n",
       "</style>\n",
       "<table border=\"1\" class=\"dataframe\">\n",
       "  <thead>\n",
       "    <tr style=\"text-align: right;\">\n",
       "      <th></th>\n",
       "      <th>positive</th>\n",
       "      <th>negative</th>\n",
       "      <th>objective</th>\n",
       "    </tr>\n",
       "  </thead>\n",
       "  <tbody>\n",
       "    <tr>\n",
       "      <th>189</th>\n",
       "      <td>1.401128</td>\n",
       "      <td>0.622858</td>\n",
       "      <td>0.560518</td>\n",
       "    </tr>\n",
       "  </tbody>\n",
       "</table>\n",
       "</div>"
      ],
      "text/plain": [
       "     positive  negative  objective\n",
       "189  1.401128  0.622858   0.560518"
      ]
     },
     "metadata": {},
     "output_type": "display_data"
    },
    {
     "name": "stdout",
     "output_type": "stream",
     "text": [
      "5\n",
      "Tucked away in the commercial center outlets is this unsuspecting Gem. Nothing snooty on the outside. On the inside palate heaven awaits. Took 3 of my co-workers there today, impressed with the menu selection and variety of pasty flavor combinations including multiple vegetarian selections. But I'm a meat kind of man. I had the Carne Adovada pasty, filled with delicious Mexican spiced pork paired with salsa and sour cream and a Wookey Jack dark rye IPA. Crust was baked to perfection, flaky and delicious. Beer was prompt and wonderful. Friends had Bangers and Mash (with house made sausage) and the Pesto Chicken (house made pesto), we inhaled everything. Great fast service and turnaround and you can watch the creation of multiple pastys near the bar area by the friendly rag-tag crew. Good selection of draft microbrews and canned beer to satisfy your thirst. Looking forward to their new digs and cocktail menu when they make the move downtown in the future. Regardless this remains a great place with takeout or dine-in for a great meal.\n"
     ]
    },
    {
     "data": {
      "text/html": [
       "<div>\n",
       "<style scoped>\n",
       "    .dataframe tbody tr th:only-of-type {\n",
       "        vertical-align: middle;\n",
       "    }\n",
       "\n",
       "    .dataframe tbody tr th {\n",
       "        vertical-align: top;\n",
       "    }\n",
       "\n",
       "    .dataframe thead th {\n",
       "        text-align: right;\n",
       "    }\n",
       "</style>\n",
       "<table border=\"1\" class=\"dataframe\">\n",
       "  <thead>\n",
       "    <tr style=\"text-align: right;\">\n",
       "      <th></th>\n",
       "      <th>positive</th>\n",
       "      <th>negative</th>\n",
       "      <th>objective</th>\n",
       "    </tr>\n",
       "  </thead>\n",
       "  <tbody>\n",
       "    <tr>\n",
       "      <th>190</th>\n",
       "      <td>0.744789</td>\n",
       "      <td>0.619961</td>\n",
       "      <td>0.87604</td>\n",
       "    </tr>\n",
       "  </tbody>\n",
       "</table>\n",
       "</div>"
      ],
      "text/plain": [
       "     positive  negative  objective\n",
       "190  0.744789  0.619961    0.87604"
      ]
     },
     "metadata": {},
     "output_type": "display_data"
    },
    {
     "name": "stdout",
     "output_type": "stream",
     "text": [
      "4\n",
      "I came here for lunch with a friend and really enjoyed it. She had the basic BLD eggs Benedict and I had a burger with sweet potato fries. The burger was so large I had to cut it in half and even then could hardly get my mouth around it. It was delicious though and service was pleasant. It's definitely the type of place that was much needed for this area!\n"
     ]
    },
    {
     "data": {
      "text/html": [
       "<div>\n",
       "<style scoped>\n",
       "    .dataframe tbody tr th:only-of-type {\n",
       "        vertical-align: middle;\n",
       "    }\n",
       "\n",
       "    .dataframe tbody tr th {\n",
       "        vertical-align: top;\n",
       "    }\n",
       "\n",
       "    .dataframe thead th {\n",
       "        text-align: right;\n",
       "    }\n",
       "</style>\n",
       "<table border=\"1\" class=\"dataframe\">\n",
       "  <thead>\n",
       "    <tr style=\"text-align: right;\">\n",
       "      <th></th>\n",
       "      <th>positive</th>\n",
       "      <th>negative</th>\n",
       "      <th>objective</th>\n",
       "    </tr>\n",
       "  </thead>\n",
       "  <tbody>\n",
       "    <tr>\n",
       "      <th>191</th>\n",
       "      <td>-0.112553</td>\n",
       "      <td>-0.584072</td>\n",
       "      <td>-0.346211</td>\n",
       "    </tr>\n",
       "  </tbody>\n",
       "</table>\n",
       "</div>"
      ],
      "text/plain": [
       "     positive  negative  objective\n",
       "191 -0.112553 -0.584072  -0.346211"
      ]
     },
     "metadata": {},
     "output_type": "display_data"
    },
    {
     "name": "stdout",
     "output_type": "stream",
     "text": [
      "5\n",
      "I followed Nikki here from her previous salon. She is amazing at coloring and styling your hair just the way you requested! I will never again go to anyone except her! Everytime she does my hair I receive so many compliments! Sweetest and nicest girl! I love her!\n"
     ]
    },
    {
     "data": {
      "text/html": [
       "<div>\n",
       "<style scoped>\n",
       "    .dataframe tbody tr th:only-of-type {\n",
       "        vertical-align: middle;\n",
       "    }\n",
       "\n",
       "    .dataframe tbody tr th {\n",
       "        vertical-align: top;\n",
       "    }\n",
       "\n",
       "    .dataframe thead th {\n",
       "        text-align: right;\n",
       "    }\n",
       "</style>\n",
       "<table border=\"1\" class=\"dataframe\">\n",
       "  <thead>\n",
       "    <tr style=\"text-align: right;\">\n",
       "      <th></th>\n",
       "      <th>positive</th>\n",
       "      <th>negative</th>\n",
       "      <th>objective</th>\n",
       "    </tr>\n",
       "  </thead>\n",
       "  <tbody>\n",
       "    <tr>\n",
       "      <th>192</th>\n",
       "      <td>-0.364693</td>\n",
       "      <td>-0.63388</td>\n",
       "      <td>-0.586676</td>\n",
       "    </tr>\n",
       "  </tbody>\n",
       "</table>\n",
       "</div>"
      ],
      "text/plain": [
       "     positive  negative  objective\n",
       "192 -0.364693  -0.63388  -0.586676"
      ]
     },
     "metadata": {},
     "output_type": "display_data"
    },
    {
     "name": "stdout",
     "output_type": "stream",
     "text": [
      "2\n",
      "This is the ghetto! Our room looks like it was last remodeled in the 80's! 40 rings and the front desk will answer! Refrigerator is cool, no microwave  rooms are large, that's the best thing. I won't be staying here no more.\n"
     ]
    },
    {
     "data": {
      "text/html": [
       "<div>\n",
       "<style scoped>\n",
       "    .dataframe tbody tr th:only-of-type {\n",
       "        vertical-align: middle;\n",
       "    }\n",
       "\n",
       "    .dataframe tbody tr th {\n",
       "        vertical-align: top;\n",
       "    }\n",
       "\n",
       "    .dataframe thead th {\n",
       "        text-align: right;\n",
       "    }\n",
       "</style>\n",
       "<table border=\"1\" class=\"dataframe\">\n",
       "  <thead>\n",
       "    <tr style=\"text-align: right;\">\n",
       "      <th></th>\n",
       "      <th>positive</th>\n",
       "      <th>negative</th>\n",
       "      <th>objective</th>\n",
       "    </tr>\n",
       "  </thead>\n",
       "  <tbody>\n",
       "    <tr>\n",
       "      <th>193</th>\n",
       "      <td>-0.755192</td>\n",
       "      <td>-0.585701</td>\n",
       "      <td>-0.6244</td>\n",
       "    </tr>\n",
       "  </tbody>\n",
       "</table>\n",
       "</div>"
      ],
      "text/plain": [
       "     positive  negative  objective\n",
       "193 -0.755192 -0.585701    -0.6244"
      ]
     },
     "metadata": {},
     "output_type": "display_data"
    },
    {
     "name": "stdout",
     "output_type": "stream",
     "text": [
      "5\n",
      "A whole lot of hep cat awesomeness under one roof! So happy they decided to join the 7th avenue shops. They have joined forces with Bo's Funky Stuff in one larger more convenient location! Sometimes you just don't want to make the trek way out to Glendale...now you don't have to. They are open late for first fridays as well if you want to do some late night shopping. Too cool!\n"
     ]
    },
    {
     "data": {
      "text/html": [
       "<div>\n",
       "<style scoped>\n",
       "    .dataframe tbody tr th:only-of-type {\n",
       "        vertical-align: middle;\n",
       "    }\n",
       "\n",
       "    .dataframe tbody tr th {\n",
       "        vertical-align: top;\n",
       "    }\n",
       "\n",
       "    .dataframe thead th {\n",
       "        text-align: right;\n",
       "    }\n",
       "</style>\n",
       "<table border=\"1\" class=\"dataframe\">\n",
       "  <thead>\n",
       "    <tr style=\"text-align: right;\">\n",
       "      <th></th>\n",
       "      <th>positive</th>\n",
       "      <th>negative</th>\n",
       "      <th>objective</th>\n",
       "    </tr>\n",
       "  </thead>\n",
       "  <tbody>\n",
       "    <tr>\n",
       "      <th>194</th>\n",
       "      <td>-0.332946</td>\n",
       "      <td>-0.296044</td>\n",
       "      <td>-0.279778</td>\n",
       "    </tr>\n",
       "  </tbody>\n",
       "</table>\n",
       "</div>"
      ],
      "text/plain": [
       "     positive  negative  objective\n",
       "194 -0.332946 -0.296044  -0.279778"
      ]
     },
     "metadata": {},
     "output_type": "display_data"
    },
    {
     "name": "stdout",
     "output_type": "stream",
     "text": [
      "3\n",
      "Hopefully a quick review for once!\n",
      "\n",
      "It's a small Starbucks, but right outside of Haymarket station so convenient all the same.  I haven't noticed a difference between here and other Starbucks in all honesty, other than it being a bit smaller than I'm used to, so it is what it is... if you're looking for a convenient Starbucks for the station then this one will certainly do.\n",
      "\n",
      "One plus point is that every now and again at a Starbucks I get a watery frappucino... you know, the kind that just isn't icy enough... I hate it when that happens!  I can't say I've really had that happen here though.\n",
      "\n",
      "It looks like they are readying a cut pseudo outside sitting area... when that's done it might even make 4 stars... it's not that it's bad as it is, it's just more like a really big stand versus sit in Starbucks at the moment.\n"
     ]
    },
    {
     "data": {
      "text/html": [
       "<div>\n",
       "<style scoped>\n",
       "    .dataframe tbody tr th:only-of-type {\n",
       "        vertical-align: middle;\n",
       "    }\n",
       "\n",
       "    .dataframe tbody tr th {\n",
       "        vertical-align: top;\n",
       "    }\n",
       "\n",
       "    .dataframe thead th {\n",
       "        text-align: right;\n",
       "    }\n",
       "</style>\n",
       "<table border=\"1\" class=\"dataframe\">\n",
       "  <thead>\n",
       "    <tr style=\"text-align: right;\">\n",
       "      <th></th>\n",
       "      <th>positive</th>\n",
       "      <th>negative</th>\n",
       "      <th>objective</th>\n",
       "    </tr>\n",
       "  </thead>\n",
       "  <tbody>\n",
       "    <tr>\n",
       "      <th>195</th>\n",
       "      <td>0.000014</td>\n",
       "      <td>0.913382</td>\n",
       "      <td>0.215576</td>\n",
       "    </tr>\n",
       "  </tbody>\n",
       "</table>\n",
       "</div>"
      ],
      "text/plain": [
       "     positive  negative  objective\n",
       "195  0.000014  0.913382   0.215576"
      ]
     },
     "metadata": {},
     "output_type": "display_data"
    },
    {
     "name": "stdout",
     "output_type": "stream",
     "text": [
      "5\n",
      "This place is exceptional! Dr. Miaoulis is a wonderful doctor and his colleagues were so pleasant and professional. My kids needed a check up and I felt that techs went above and beyond to ensure our first visit was going to leave a lasting impression and indeed they did. I would recommend this place to anyone. I mean when we stepped in, my entire family looked like we just woke up (and we did) but they treated us with kindness and treated us with such care.\n",
      "\n",
      "We will be coming back.\n"
     ]
    },
    {
     "data": {
      "text/html": [
       "<div>\n",
       "<style scoped>\n",
       "    .dataframe tbody tr th:only-of-type {\n",
       "        vertical-align: middle;\n",
       "    }\n",
       "\n",
       "    .dataframe tbody tr th {\n",
       "        vertical-align: top;\n",
       "    }\n",
       "\n",
       "    .dataframe thead th {\n",
       "        text-align: right;\n",
       "    }\n",
       "</style>\n",
       "<table border=\"1\" class=\"dataframe\">\n",
       "  <thead>\n",
       "    <tr style=\"text-align: right;\">\n",
       "      <th></th>\n",
       "      <th>positive</th>\n",
       "      <th>negative</th>\n",
       "      <th>objective</th>\n",
       "    </tr>\n",
       "  </thead>\n",
       "  <tbody>\n",
       "    <tr>\n",
       "      <th>196</th>\n",
       "      <td>-0.219721</td>\n",
       "      <td>-0.472675</td>\n",
       "      <td>-0.212565</td>\n",
       "    </tr>\n",
       "  </tbody>\n",
       "</table>\n",
       "</div>"
      ],
      "text/plain": [
       "     positive  negative  objective\n",
       "196 -0.219721 -0.472675  -0.212565"
      ]
     },
     "metadata": {},
     "output_type": "display_data"
    },
    {
     "name": "stdout",
     "output_type": "stream",
     "text": [
      "5\n",
      "My favorite cup of coffee in TO. Seriously, their coffee is like the stuff of legends! Always consistent quality and super smooth.\n",
      "\n",
      "Staff are fast and friendly, interior is super well set-up, and the price is just right. :3\n"
     ]
    },
    {
     "data": {
      "text/html": [
       "<div>\n",
       "<style scoped>\n",
       "    .dataframe tbody tr th:only-of-type {\n",
       "        vertical-align: middle;\n",
       "    }\n",
       "\n",
       "    .dataframe tbody tr th {\n",
       "        vertical-align: top;\n",
       "    }\n",
       "\n",
       "    .dataframe thead th {\n",
       "        text-align: right;\n",
       "    }\n",
       "</style>\n",
       "<table border=\"1\" class=\"dataframe\">\n",
       "  <thead>\n",
       "    <tr style=\"text-align: right;\">\n",
       "      <th></th>\n",
       "      <th>positive</th>\n",
       "      <th>negative</th>\n",
       "      <th>objective</th>\n",
       "    </tr>\n",
       "  </thead>\n",
       "  <tbody>\n",
       "    <tr>\n",
       "      <th>198</th>\n",
       "      <td>-0.39867</td>\n",
       "      <td>-0.609397</td>\n",
       "      <td>-0.607364</td>\n",
       "    </tr>\n",
       "  </tbody>\n",
       "</table>\n",
       "</div>"
      ],
      "text/plain": [
       "     positive  negative  objective\n",
       "198  -0.39867 -0.609397  -0.607364"
      ]
     },
     "metadata": {},
     "output_type": "display_data"
    }
   ],
   "source": [
    "for review, stars, pred in errors:\n",
    "    print(stars)\n",
    "    print(P.iloc[review].text)\n",
    "    display(pd.DataFrame(S.iloc[review]).T)"
   ]
  },
  {
   "cell_type": "code",
   "execution_count": 46,
   "id": "86ee2fa3",
   "metadata": {},
   "outputs": [
    {
     "name": "stdout",
     "output_type": "stream",
     "text": [
      "Red, white and bleu salad was super yum and a great addition to the menu! This location was clean with great service and food served at just the right temps! Kids pizza is always a hit too with lots of great side dish options for the kiddos! When I'm on this side of town, this will definitely be a spot I'll hit up again!\n",
      "\n",
      "STARS: 4\n"
     ]
    }
   ],
   "source": [
    "review, stars, pred = errors[0]\n",
    "print(P.iloc[review].text)\n",
    "print(\"\\nSTARS: {}\".format(stars))"
   ]
  },
  {
   "cell_type": "code",
   "execution_count": 47,
   "id": "dc84ec1a",
   "metadata": {},
   "outputs": [
    {
     "data": {
      "text/html": [
       "<div>\n",
       "<style scoped>\n",
       "    .dataframe tbody tr th:only-of-type {\n",
       "        vertical-align: middle;\n",
       "    }\n",
       "\n",
       "    .dataframe tbody tr th {\n",
       "        vertical-align: top;\n",
       "    }\n",
       "\n",
       "    .dataframe thead th {\n",
       "        text-align: right;\n",
       "    }\n",
       "</style>\n",
       "<table border=\"1\" class=\"dataframe\">\n",
       "  <thead>\n",
       "    <tr style=\"text-align: right;\">\n",
       "      <th></th>\n",
       "      <th>positive</th>\n",
       "      <th>negative</th>\n",
       "      <th>objective</th>\n",
       "    </tr>\n",
       "  </thead>\n",
       "  <tbody>\n",
       "    <tr>\n",
       "      <th>0</th>\n",
       "      <td>-0.380789</td>\n",
       "      <td>-0.477391</td>\n",
       "      <td>-0.3751</td>\n",
       "    </tr>\n",
       "  </tbody>\n",
       "</table>\n",
       "</div>"
      ],
      "text/plain": [
       "   positive  negative  objective\n",
       "0 -0.380789 -0.477391    -0.3751"
      ]
     },
     "metadata": {},
     "output_type": "display_data"
    }
   ],
   "source": [
    "W = pd.DataFrame(tokens_score(tokens[review]))\n",
    "display(pd.DataFrame(S.iloc[review]).T)"
   ]
  },
  {
   "cell_type": "code",
   "execution_count": 48,
   "id": "0f4a5bcd",
   "metadata": {},
   "outputs": [
    {
     "data": {
      "text/html": [
       "<div>\n",
       "<style scoped>\n",
       "    .dataframe tbody tr th:only-of-type {\n",
       "        vertical-align: middle;\n",
       "    }\n",
       "\n",
       "    .dataframe tbody tr th {\n",
       "        vertical-align: top;\n",
       "    }\n",
       "\n",
       "    .dataframe thead th {\n",
       "        text-align: right;\n",
       "    }\n",
       "</style>\n",
       "<table border=\"1\" class=\"dataframe\">\n",
       "  <thead>\n",
       "    <tr style=\"text-align: right;\">\n",
       "      <th></th>\n",
       "      <th>token</th>\n",
       "      <th>pos</th>\n",
       "      <th>senses</th>\n",
       "      <th>pos_mean</th>\n",
       "      <th>neu_mean</th>\n",
       "      <th>obj_mean</th>\n",
       "      <th>pos_std</th>\n",
       "      <th>neu_std</th>\n",
       "      <th>obj_std</th>\n",
       "    </tr>\n",
       "  </thead>\n",
       "  <tbody>\n",
       "    <tr>\n",
       "      <th>18</th>\n",
       "      <td>clean</td>\n",
       "      <td>ADJ</td>\n",
       "      <td>18</td>\n",
       "      <td>0.375000</td>\n",
       "      <td>0.187500</td>\n",
       "      <td>0.437500</td>\n",
       "      <td>0.260208</td>\n",
       "      <td>0.236621</td>\n",
       "      <td>0.229167</td>\n",
       "    </tr>\n",
       "    <tr>\n",
       "      <th>28</th>\n",
       "      <td>right</td>\n",
       "      <td>ADJ</td>\n",
       "      <td>14</td>\n",
       "      <td>0.330357</td>\n",
       "      <td>0.026786</td>\n",
       "      <td>0.642857</td>\n",
       "      <td>0.308391</td>\n",
       "      <td>0.069734</td>\n",
       "      <td>0.333599</td>\n",
       "    </tr>\n",
       "    <tr>\n",
       "      <th>40</th>\n",
       "      <td>great</td>\n",
       "      <td>ADJ</td>\n",
       "      <td>6</td>\n",
       "      <td>0.312500</td>\n",
       "      <td>0.020833</td>\n",
       "      <td>0.666667</td>\n",
       "      <td>0.366217</td>\n",
       "      <td>0.046585</td>\n",
       "      <td>0.365624</td>\n",
       "    </tr>\n",
       "    <tr>\n",
       "      <th>10</th>\n",
       "      <td>great</td>\n",
       "      <td>ADJ</td>\n",
       "      <td>6</td>\n",
       "      <td>0.312500</td>\n",
       "      <td>0.020833</td>\n",
       "      <td>0.666667</td>\n",
       "      <td>0.366217</td>\n",
       "      <td>0.046585</td>\n",
       "      <td>0.365624</td>\n",
       "    </tr>\n",
       "  </tbody>\n",
       "</table>\n",
       "</div>"
      ],
      "text/plain": [
       "    token  pos  senses  pos_mean  neu_mean  obj_mean   pos_std   neu_std  \\\n",
       "18  clean  ADJ      18  0.375000  0.187500  0.437500  0.260208  0.236621   \n",
       "28  right  ADJ      14  0.330357  0.026786  0.642857  0.308391  0.069734   \n",
       "40  great  ADJ       6  0.312500  0.020833  0.666667  0.366217  0.046585   \n",
       "10  great  ADJ       6  0.312500  0.020833  0.666667  0.366217  0.046585   \n",
       "\n",
       "     obj_std  \n",
       "18  0.229167  \n",
       "28  0.333599  \n",
       "40  0.365624  \n",
       "10  0.365624  "
      ]
     },
     "metadata": {},
     "output_type": "display_data"
    },
    {
     "data": {
      "text/html": [
       "<div>\n",
       "<style scoped>\n",
       "    .dataframe tbody tr th:only-of-type {\n",
       "        vertical-align: middle;\n",
       "    }\n",
       "\n",
       "    .dataframe tbody tr th {\n",
       "        vertical-align: top;\n",
       "    }\n",
       "\n",
       "    .dataframe thead th {\n",
       "        text-align: right;\n",
       "    }\n",
       "</style>\n",
       "<table border=\"1\" class=\"dataframe\">\n",
       "  <thead>\n",
       "    <tr style=\"text-align: right;\">\n",
       "      <th></th>\n",
       "      <th>token</th>\n",
       "      <th>pos</th>\n",
       "      <th>senses</th>\n",
       "      <th>pos_mean</th>\n",
       "      <th>neu_mean</th>\n",
       "      <th>obj_mean</th>\n",
       "      <th>pos_std</th>\n",
       "      <th>neu_std</th>\n",
       "      <th>obj_std</th>\n",
       "    </tr>\n",
       "  </thead>\n",
       "  <tbody>\n",
       "    <tr>\n",
       "      <th>0</th>\n",
       "      <td>red</td>\n",
       "      <td>ADJ</td>\n",
       "      <td>3</td>\n",
       "      <td>0.083333</td>\n",
       "      <td>0.291667</td>\n",
       "      <td>0.625000</td>\n",
       "      <td>0.117851</td>\n",
       "      <td>0.256851</td>\n",
       "      <td>0.367990</td>\n",
       "    </tr>\n",
       "    <tr>\n",
       "      <th>18</th>\n",
       "      <td>clean</td>\n",
       "      <td>ADJ</td>\n",
       "      <td>18</td>\n",
       "      <td>0.375000</td>\n",
       "      <td>0.187500</td>\n",
       "      <td>0.437500</td>\n",
       "      <td>0.260208</td>\n",
       "      <td>0.236621</td>\n",
       "      <td>0.229167</td>\n",
       "    </tr>\n",
       "    <tr>\n",
       "      <th>6</th>\n",
       "      <td>super</td>\n",
       "      <td>ADJ</td>\n",
       "      <td>3</td>\n",
       "      <td>0.291667</td>\n",
       "      <td>0.125000</td>\n",
       "      <td>0.583333</td>\n",
       "      <td>0.235702</td>\n",
       "      <td>0.176777</td>\n",
       "      <td>0.212459</td>\n",
       "    </tr>\n",
       "    <tr>\n",
       "      <th>36</th>\n",
       "      <td>too</td>\n",
       "      <td>ADV</td>\n",
       "      <td>2</td>\n",
       "      <td>0.062500</td>\n",
       "      <td>0.125000</td>\n",
       "      <td>0.812500</td>\n",
       "      <td>0.062500</td>\n",
       "      <td>0.125000</td>\n",
       "      <td>0.187500</td>\n",
       "    </tr>\n",
       "  </tbody>\n",
       "</table>\n",
       "</div>"
      ],
      "text/plain": [
       "    token  pos  senses  pos_mean  neu_mean  obj_mean   pos_std   neu_std  \\\n",
       "0     red  ADJ       3  0.083333  0.291667  0.625000  0.117851  0.256851   \n",
       "18  clean  ADJ      18  0.375000  0.187500  0.437500  0.260208  0.236621   \n",
       "6   super  ADJ       3  0.291667  0.125000  0.583333  0.235702  0.176777   \n",
       "36    too  ADV       2  0.062500  0.125000  0.812500  0.062500  0.125000   \n",
       "\n",
       "     obj_std  \n",
       "0   0.367990  \n",
       "18  0.229167  \n",
       "6   0.212459  \n",
       "36  0.187500  "
      ]
     },
     "metadata": {},
     "output_type": "display_data"
    },
    {
     "data": {
      "text/html": [
       "<div>\n",
       "<style scoped>\n",
       "    .dataframe tbody tr th:only-of-type {\n",
       "        vertical-align: middle;\n",
       "    }\n",
       "\n",
       "    .dataframe tbody tr th {\n",
       "        vertical-align: top;\n",
       "    }\n",
       "\n",
       "    .dataframe thead th {\n",
       "        text-align: right;\n",
       "    }\n",
       "</style>\n",
       "<table border=\"1\" class=\"dataframe\">\n",
       "  <thead>\n",
       "    <tr style=\"text-align: right;\">\n",
       "      <th></th>\n",
       "      <th>token</th>\n",
       "      <th>pos</th>\n",
       "      <th>senses</th>\n",
       "      <th>pos_mean</th>\n",
       "      <th>neu_mean</th>\n",
       "      <th>obj_mean</th>\n",
       "      <th>pos_std</th>\n",
       "      <th>neu_std</th>\n",
       "      <th>obj_std</th>\n",
       "    </tr>\n",
       "  </thead>\n",
       "  <tbody>\n",
       "    <tr>\n",
       "      <th>31</th>\n",
       "      <td>pizza</td>\n",
       "      <td>NOUN</td>\n",
       "      <td>1</td>\n",
       "      <td>0.0</td>\n",
       "      <td>0.0</td>\n",
       "      <td>1.0</td>\n",
       "      <td>0.0</td>\n",
       "      <td>0.0</td>\n",
       "      <td>0.0</td>\n",
       "    </tr>\n",
       "    <tr>\n",
       "      <th>14</th>\n",
       "      <td>menu</td>\n",
       "      <td>NOUN</td>\n",
       "      <td>4</td>\n",
       "      <td>0.0</td>\n",
       "      <td>0.0</td>\n",
       "      <td>1.0</td>\n",
       "      <td>0.0</td>\n",
       "      <td>0.0</td>\n",
       "      <td>0.0</td>\n",
       "    </tr>\n",
       "    <tr>\n",
       "      <th>54</th>\n",
       "      <td>town</td>\n",
       "      <td>NOUN</td>\n",
       "      <td>4</td>\n",
       "      <td>0.0</td>\n",
       "      <td>0.0</td>\n",
       "      <td>1.0</td>\n",
       "      <td>0.0</td>\n",
       "      <td>0.0</td>\n",
       "      <td>0.0</td>\n",
       "    </tr>\n",
       "    <tr>\n",
       "      <th>29</th>\n",
       "      <td>temp</td>\n",
       "      <td>NOUN</td>\n",
       "      <td>1</td>\n",
       "      <td>0.0</td>\n",
       "      <td>0.0</td>\n",
       "      <td>1.0</td>\n",
       "      <td>0.0</td>\n",
       "      <td>0.0</td>\n",
       "      <td>0.0</td>\n",
       "    </tr>\n",
       "  </tbody>\n",
       "</table>\n",
       "</div>"
      ],
      "text/plain": [
       "    token   pos  senses  pos_mean  neu_mean  obj_mean  pos_std  neu_std  \\\n",
       "31  pizza  NOUN       1       0.0       0.0       1.0      0.0      0.0   \n",
       "14   menu  NOUN       4       0.0       0.0       1.0      0.0      0.0   \n",
       "54   town  NOUN       4       0.0       0.0       1.0      0.0      0.0   \n",
       "29   temp  NOUN       1       0.0       0.0       1.0      0.0      0.0   \n",
       "\n",
       "    obj_std  \n",
       "31      0.0  \n",
       "14      0.0  \n",
       "54      0.0  \n",
       "29      0.0  "
      ]
     },
     "metadata": {},
     "output_type": "display_data"
    }
   ],
   "source": [
    "display(W.sort_values('pos_mean', ascending=False).iloc[:4])\n",
    "display(W.sort_values('neu_mean', ascending=False).iloc[:4])\n",
    "display(W.sort_values('obj_mean', ascending=False).iloc[:4])"
   ]
  },
  {
   "cell_type": "markdown",
   "id": "10a9dca3",
   "metadata": {},
   "source": [
    "### Exercizes\n",
    "1. Exploit a different method for feature selection in order to improve the performaces of this method\n",
    "2. Exploit different interpretation schemes and observe the impact of each on the final result"
   ]
  },
  {
   "cell_type": "markdown",
   "id": "44329e3d",
   "metadata": {},
   "source": [
    "## Vader\n",
    "> Hutto, C., & Gilbert, E. (2014, May). Vader: A parsimonious rule-based model for sentiment analysis of social media text. In Proceedings of the International AAAI Conference on Web and Social Media (Vol. 8, No. 1).\n",
    "\n",
    "For the details of score computation see [https://github.com/nltk/nltk/blob/develop/nltk/sentiment/vader.py](https://github.com/nltk/nltk/blob/develop/nltk/sentiment/vader.py)"
   ]
  },
  {
   "cell_type": "code",
   "execution_count": 49,
   "id": "97fa155b",
   "metadata": {},
   "outputs": [],
   "source": [
    "import nltk\n",
    "from nltk.sentiment.vader import SentimentIntensityAnalyzer"
   ]
  },
  {
   "cell_type": "code",
   "execution_count": 50,
   "id": "6b4aea98",
   "metadata": {},
   "outputs": [],
   "source": [
    "sia = SentimentIntensityAnalyzer()"
   ]
  },
  {
   "cell_type": "markdown",
   "id": "cd869e63",
   "metadata": {},
   "source": [
    "### Complete text"
   ]
  },
  {
   "cell_type": "code",
   "execution_count": 52,
   "id": "81454bf4",
   "metadata": {},
   "outputs": [
    {
     "data": {
      "text/plain": [
       "\"Red, white and bleu salad was super yum and a great addition to the menu! This location was clean with great service and food served at just the right temps! Kids pizza is always a hit too with lots of great side dish options for the kiddos! When I'm on this side of town, this will definitely be a spot I'll hit up again!\""
      ]
     },
     "execution_count": 52,
     "metadata": {},
     "output_type": "execute_result"
    }
   ],
   "source": [
    "P.iloc[0].text"
   ]
  },
  {
   "cell_type": "code",
   "execution_count": 51,
   "id": "7fc6684d",
   "metadata": {},
   "outputs": [
    {
     "data": {
      "text/plain": [
       "{'neg': 0.0, 'neu': 0.707, 'pos': 0.293, 'compound': 0.9743}"
      ]
     },
     "execution_count": 51,
     "metadata": {},
     "output_type": "execute_result"
    }
   ],
   "source": [
    "sia.polarity_scores(P.iloc[0].text)"
   ]
  },
  {
   "cell_type": "markdown",
   "id": "e52424d3",
   "metadata": {},
   "source": [
    "### Adjective focus"
   ]
  },
  {
   "cell_type": "code",
   "execution_count": 53,
   "id": "4bc3472f",
   "metadata": {},
   "outputs": [
    {
     "data": {
      "text/plain": [
       "{'neg': 0.0, 'neu': 0.137, 'pos': 0.863, 'compound': 0.9633}"
      ]
     },
     "execution_count": 53,
     "metadata": {},
     "output_type": "execute_result"
    }
   ],
   "source": [
    "sia.polarity_scores(\" \".join([x for x, y in tokens[0] if y == 'ADJ']))"
   ]
  },
  {
   "cell_type": "code",
   "execution_count": 54,
   "id": "892e93a6",
   "metadata": {},
   "outputs": [],
   "source": [
    "V = pd.DataFrame([sia.polarity_scores(\" \".join([x for x, y in tokens[i] if y == 'ADJ'])) for i in range(P.shape[0])])"
   ]
  },
  {
   "cell_type": "code",
   "execution_count": 55,
   "id": "8fab2d2f",
   "metadata": {},
   "outputs": [
    {
     "data": {
      "text/html": [
       "<div>\n",
       "<style scoped>\n",
       "    .dataframe tbody tr th:only-of-type {\n",
       "        vertical-align: middle;\n",
       "    }\n",
       "\n",
       "    .dataframe tbody tr th {\n",
       "        vertical-align: top;\n",
       "    }\n",
       "\n",
       "    .dataframe thead th {\n",
       "        text-align: right;\n",
       "    }\n",
       "</style>\n",
       "<table border=\"1\" class=\"dataframe\">\n",
       "  <thead>\n",
       "    <tr style=\"text-align: right;\">\n",
       "      <th></th>\n",
       "      <th>neg</th>\n",
       "      <th>neu</th>\n",
       "      <th>pos</th>\n",
       "      <th>compound</th>\n",
       "    </tr>\n",
       "  </thead>\n",
       "  <tbody>\n",
       "    <tr>\n",
       "      <th>0</th>\n",
       "      <td>0.000</td>\n",
       "      <td>0.137</td>\n",
       "      <td>0.863</td>\n",
       "      <td>0.9633</td>\n",
       "    </tr>\n",
       "    <tr>\n",
       "      <th>1</th>\n",
       "      <td>0.000</td>\n",
       "      <td>0.000</td>\n",
       "      <td>1.000</td>\n",
       "      <td>0.7003</td>\n",
       "    </tr>\n",
       "    <tr>\n",
       "      <th>2</th>\n",
       "      <td>0.000</td>\n",
       "      <td>0.000</td>\n",
       "      <td>1.000</td>\n",
       "      <td>0.9022</td>\n",
       "    </tr>\n",
       "    <tr>\n",
       "      <th>3</th>\n",
       "      <td>0.293</td>\n",
       "      <td>0.000</td>\n",
       "      <td>0.707</td>\n",
       "      <td>0.5267</td>\n",
       "    </tr>\n",
       "    <tr>\n",
       "      <th>4</th>\n",
       "      <td>0.000</td>\n",
       "      <td>0.000</td>\n",
       "      <td>1.000</td>\n",
       "      <td>0.8979</td>\n",
       "    </tr>\n",
       "  </tbody>\n",
       "</table>\n",
       "</div>"
      ],
      "text/plain": [
       "     neg    neu    pos  compound\n",
       "0  0.000  0.137  0.863    0.9633\n",
       "1  0.000  0.000  1.000    0.7003\n",
       "2  0.000  0.000  1.000    0.9022\n",
       "3  0.293  0.000  0.707    0.5267\n",
       "4  0.000  0.000  1.000    0.8979"
      ]
     },
     "execution_count": 55,
     "metadata": {},
     "output_type": "execute_result"
    }
   ],
   "source": [
    "V.head()"
   ]
  },
  {
   "cell_type": "code",
   "execution_count": 56,
   "id": "ed375ba2",
   "metadata": {},
   "outputs": [],
   "source": [
    "thresholds = np.median(V, axis=0)\n",
    "v_pred = []\n",
    "for i in range(P.shape[0]):\n",
    "    polarity = sia.polarity_scores(\" \".join([x for x, y in tokens[i] if y == 'ADJ']))\n",
    "    v_scores = np.array([polarity['pos'], polarity['neg'], polarity['neu']])\n",
    "    best = np.argmax(v_scores)\n",
    "    if best == 0:\n",
    "        if v_scores[best] > thresholds[2]:\n",
    "            v_pred.append(5)\n",
    "        else:\n",
    "            v_pred.append(4)\n",
    "    elif best == 1:\n",
    "        if v_scores[best] > thresholds[0]:\n",
    "            v_pred.append(1)\n",
    "        else:\n",
    "            v_pred.append(2)\n",
    "    else:\n",
    "        v_pred.append(3)        "
   ]
  },
  {
   "cell_type": "code",
   "execution_count": 57,
   "id": "82e417c3",
   "metadata": {},
   "outputs": [
    {
     "data": {
      "image/png": "[encoded data removed]",
      "text/plain": [
       "<Figure size 432x288 with 2 Axes>"
      ]
     },
     "metadata": {
      "needs_background": "light"
     },
     "output_type": "display_data"
    }
   ],
   "source": [
    "cmd = ConfusionMatrixDisplay.from_predictions(y_true, v_pred)\n",
    "plt.show()"
   ]
  },
  {
   "cell_type": "code",
   "execution_count": 67,
   "id": "0fef33c0",
   "metadata": {},
   "outputs": [
    {
     "name": "stdout",
     "output_type": "stream",
     "text": [
      "              precision    recall  f1-score   support\n",
      "\n",
      "           1       0.79      0.48      0.60        31\n",
      "           2       0.00      0.00      0.00        19\n",
      "           3       0.24      0.31      0.27        26\n",
      "           4       0.19      0.25      0.22        36\n",
      "           5       0.66      0.75      0.70        88\n",
      "\n",
      "    accuracy                           0.49       200\n",
      "   macro avg       0.38      0.36      0.36       200\n",
      "weighted avg       0.48      0.49      0.48       200\n",
      "\n"
     ]
    }
   ],
   "source": [
    "print(classification_report(y_true, v_pred, zero_division=0))"
   ]
  },
  {
   "cell_type": "markdown",
   "id": "47eab505",
   "metadata": {},
   "source": [
    "## TextBlob\n",
    "\n",
    "[https://textblob.readthedocs.io/en/dev/](https://textblob.readthedocs.io/en/dev/)\n",
    "\n",
    "The sentiment property returns a namedtuple of the form Sentiment(polarity, subjectivity). The polarity score is a float within the range [-1.0, 1.0]. The subjectivity is a float within the range [0.0, 1.0] where 0.0 is very objective and 1.0 is very subjective."
   ]
  },
  {
   "cell_type": "code",
   "execution_count": 59,
   "id": "3677ff0a",
   "metadata": {},
   "outputs": [],
   "source": [
    "from textblob import TextBlob\n",
    "from textblob.sentiments import NaiveBayesAnalyzer"
   ]
  },
  {
   "cell_type": "code",
   "execution_count": 60,
   "id": "d59d7cdf",
   "metadata": {},
   "outputs": [
    {
     "data": {
      "text/plain": [
       "Sentiment(polarity=0.4285714285714286, subjectivity=0.5169312169312169)"
      ]
     },
     "execution_count": 60,
     "metadata": {},
     "output_type": "execute_result"
    }
   ],
   "source": [
    "blobs = [TextBlob(P.iloc[i].text) for i in range(P.shape[0])]\n",
    "blobs[0].sentiment"
   ]
  },
  {
   "cell_type": "code",
   "execution_count": 61,
   "id": "3ab3af34",
   "metadata": {},
   "outputs": [],
   "source": [
    "t_pred = []\n",
    "for blob in blobs:\n",
    "    s = blob.sentiment\n",
    "    if s.polarity > 0.75:\n",
    "        t_pred.append(5)\n",
    "    elif 0.25 < s.polarity <= 0.75:\n",
    "        t_pred.append(4)\n",
    "    elif -0.25 < s.polarity <= 0.25:\n",
    "        t_pred.append(3)\n",
    "    elif -0.75 < s.polarity <= -0.25:\n",
    "        t_pred.append(2)\n",
    "    else:\n",
    "        t_pred.append(1)"
   ]
  },
  {
   "cell_type": "code",
   "execution_count": 62,
   "id": "116b449a",
   "metadata": {},
   "outputs": [
    {
     "data": {
      "image/png": "[encoded data removed]",
      "text/plain": [
       "<Figure size 432x288 with 2 Axes>"
      ]
     },
     "metadata": {
      "needs_background": "light"
     },
     "output_type": "display_data"
    }
   ],
   "source": [
    "cmd = ConfusionMatrixDisplay.from_predictions(y_true, t_pred)\n",
    "plt.show()"
   ]
  },
  {
   "cell_type": "code",
   "execution_count": 65,
   "id": "a223c4be",
   "metadata": {},
   "outputs": [
    {
     "name": "stdout",
     "output_type": "stream",
     "text": [
      "              precision    recall  f1-score   support\n",
      "\n",
      "           1       0.00      0.00      0.00        31\n",
      "           2       0.00      0.00      0.00        19\n",
      "           3       0.22      0.81      0.34        26\n",
      "           4       0.19      0.47      0.27        36\n",
      "           5       0.33      0.01      0.02        88\n",
      "\n",
      "    accuracy                           0.20       200\n",
      "   macro avg       0.15      0.26      0.13       200\n",
      "weighted avg       0.21      0.20      0.10       200\n",
      "\n"
     ]
    }
   ],
   "source": [
    "print(classification_report(y_true, t_pred, zero_division=0))"
   ]
  },
  {
   "cell_type": "markdown",
   "id": "6b6f3178",
   "metadata": {},
   "source": [
    "# Exercize\n",
    "- Choose one of Vader or TextBlob\n",
    "- Try to explore a methodology for improving the naive performances achieved in this example\n",
    "- *hint*: try to use polarity scores to train a classifier"
   ]
  },
  {
   "cell_type": "code",
   "execution_count": null,
   "id": "c57118f6",
   "metadata": {},
   "outputs": [],
   "source": []
  }
 ],
 "metadata": {
  "kernelspec": {
   "display_name": "Python 3 (ipykernel)",
   "language": "python",
   "name": "python3"
  },
  "language_info": {
   "codemirror_mode": {
    "name": "ipython",
    "version": 3
   },
   "file_extension": ".py",
   "mimetype": "text/x-python",
   "name": "python",
   "nbconvert_exporter": "python",
   "pygments_lexer": "ipython3",
   "version": "3.8.8"
  },
  "toc": {
   "base_numbering": 1,
   "nav_menu": {},
   "number_sections": true,
   "sideBar": true,
   "skip_h1_title": false,
   "title_cell": "Table of Contents",
   "title_sidebar": "Contents",
   "toc_cell": false,
   "toc_position": {},
   "toc_section_display": true,
   "toc_window_display": false
  }
 },
 "nbformat": 4,
 "nbformat_minor": 5
}

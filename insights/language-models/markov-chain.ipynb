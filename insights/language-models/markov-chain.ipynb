{
 "cells": [
  {
   "cell_type": "markdown",
   "id": "22750274",
   "metadata": {},
   "source": [
    "# Example of Markov chain to model sequences of words"
   ]
  },
  {
   "cell_type": "code",
   "execution_count": 1,
   "id": "a809f7f1",
   "metadata": {},
   "outputs": [],
   "source": [
    "import pandas as pd\n",
    "import numpy as np\n",
    "from tqdm.notebook import tqdm"
   ]
  },
  {
   "cell_type": "code",
   "execution_count": 2,
   "id": "978cf093",
   "metadata": {},
   "outputs": [],
   "source": [
    "import nltk\n",
    "from collections import defaultdict"
   ]
  },
  {
   "cell_type": "markdown",
   "id": "e42f1cf2",
   "metadata": {},
   "source": [
    "## Work with sentences\n",
    "Example of sentences are taken from the [Stanford Natural Language Inference Corpus](https://nlp.stanford.edu/projects/snli/)"
   ]
  },
  {
   "cell_type": "code",
   "execution_count": 3,
   "id": "fb34a032",
   "metadata": {},
   "outputs": [],
   "source": [
    "import os\n",
    "import re"
   ]
  },
  {
   "cell_type": "code",
   "execution_count": 4,
   "id": "8cce671a",
   "metadata": {},
   "outputs": [],
   "source": [
    "data = pd.read_csv('/Users/flint/Data/snli/snli_1.0_train.csv')"
   ]
  },
  {
   "cell_type": "code",
   "execution_count": 6,
   "id": "851ac800",
   "metadata": {},
   "outputs": [
    {
     "data": {
      "text/html": [
       "<div>\n",
       "<style scoped>\n",
       "    .dataframe tbody tr th:only-of-type {\n",
       "        vertical-align: middle;\n",
       "    }\n",
       "\n",
       "    .dataframe tbody tr th {\n",
       "        vertical-align: top;\n",
       "    }\n",
       "\n",
       "    .dataframe thead th {\n",
       "        text-align: right;\n",
       "    }\n",
       "</style>\n",
       "<table border=\"1\" class=\"dataframe\">\n",
       "  <thead>\n",
       "    <tr style=\"text-align: right;\">\n",
       "      <th></th>\n",
       "      <th>gold_label</th>\n",
       "      <th>sentence1_binary_parse</th>\n",
       "      <th>sentence2_binary_parse</th>\n",
       "      <th>sentence1_parse</th>\n",
       "      <th>sentence2_parse</th>\n",
       "      <th>sentence1</th>\n",
       "      <th>sentence2</th>\n",
       "      <th>captionID</th>\n",
       "      <th>pairID</th>\n",
       "      <th>label1</th>\n",
       "      <th>label2</th>\n",
       "      <th>label3</th>\n",
       "      <th>label4</th>\n",
       "      <th>label5</th>\n",
       "    </tr>\n",
       "  </thead>\n",
       "  <tbody>\n",
       "    <tr>\n",
       "      <th>0</th>\n",
       "      <td>neutral</td>\n",
       "      <td>( ( ( A person ) ( on ( a horse ) ) ) ( ( jump...</td>\n",
       "      <td>( ( A person ) ( ( is ( ( training ( his horse...</td>\n",
       "      <td>(ROOT (S (NP (NP (DT A) (NN person)) (PP (IN o...</td>\n",
       "      <td>(ROOT (S (NP (DT A) (NN person)) (VP (VBZ is) ...</td>\n",
       "      <td>A person on a horse jumps over a broken down a...</td>\n",
       "      <td>A person is training his horse for a competition.</td>\n",
       "      <td>3416050480.jpg#4</td>\n",
       "      <td>3416050480.jpg#4r1n</td>\n",
       "      <td>neutral</td>\n",
       "      <td>NaN</td>\n",
       "      <td>NaN</td>\n",
       "      <td>NaN</td>\n",
       "      <td>NaN</td>\n",
       "    </tr>\n",
       "    <tr>\n",
       "      <th>1</th>\n",
       "      <td>contradiction</td>\n",
       "      <td>( ( ( A person ) ( on ( a horse ) ) ) ( ( jump...</td>\n",
       "      <td>( ( A person ) ( ( ( ( is ( at ( a diner ) ) )...</td>\n",
       "      <td>(ROOT (S (NP (NP (DT A) (NN person)) (PP (IN o...</td>\n",
       "      <td>(ROOT (S (NP (DT A) (NN person)) (VP (VBZ is) ...</td>\n",
       "      <td>A person on a horse jumps over a broken down a...</td>\n",
       "      <td>A person is at a diner, ordering an omelette.</td>\n",
       "      <td>3416050480.jpg#4</td>\n",
       "      <td>3416050480.jpg#4r1c</td>\n",
       "      <td>contradiction</td>\n",
       "      <td>NaN</td>\n",
       "      <td>NaN</td>\n",
       "      <td>NaN</td>\n",
       "      <td>NaN</td>\n",
       "    </tr>\n",
       "  </tbody>\n",
       "</table>\n",
       "</div>"
      ],
      "text/plain": [
       "      gold_label                             sentence1_binary_parse  \\\n",
       "0        neutral  ( ( ( A person ) ( on ( a horse ) ) ) ( ( jump...   \n",
       "1  contradiction  ( ( ( A person ) ( on ( a horse ) ) ) ( ( jump...   \n",
       "\n",
       "                              sentence2_binary_parse  \\\n",
       "0  ( ( A person ) ( ( is ( ( training ( his horse...   \n",
       "1  ( ( A person ) ( ( ( ( is ( at ( a diner ) ) )...   \n",
       "\n",
       "                                     sentence1_parse  \\\n",
       "0  (ROOT (S (NP (NP (DT A) (NN person)) (PP (IN o...   \n",
       "1  (ROOT (S (NP (NP (DT A) (NN person)) (PP (IN o...   \n",
       "\n",
       "                                     sentence2_parse  \\\n",
       "0  (ROOT (S (NP (DT A) (NN person)) (VP (VBZ is) ...   \n",
       "1  (ROOT (S (NP (DT A) (NN person)) (VP (VBZ is) ...   \n",
       "\n",
       "                                           sentence1  \\\n",
       "0  A person on a horse jumps over a broken down a...   \n",
       "1  A person on a horse jumps over a broken down a...   \n",
       "\n",
       "                                           sentence2         captionID  \\\n",
       "0  A person is training his horse for a competition.  3416050480.jpg#4   \n",
       "1      A person is at a diner, ordering an omelette.  3416050480.jpg#4   \n",
       "\n",
       "                pairID         label1 label2 label3 label4 label5  \n",
       "0  3416050480.jpg#4r1n        neutral    NaN    NaN    NaN    NaN  \n",
       "1  3416050480.jpg#4r1c  contradiction    NaN    NaN    NaN    NaN  "
      ]
     },
     "execution_count": 6,
     "metadata": {},
     "output_type": "execute_result"
    }
   ],
   "source": [
    "data.head(2)"
   ]
  },
  {
   "cell_type": "code",
   "execution_count": 7,
   "id": "c6487bd8",
   "metadata": {},
   "outputs": [],
   "source": [
    "sentences = list(data.sentence1.values) + list(data.sentence2.values)"
   ]
  },
  {
   "cell_type": "code",
   "execution_count": 8,
   "id": "02b505da",
   "metadata": {},
   "outputs": [
    {
     "data": {
      "text/plain": [
       "1100304"
      ]
     },
     "execution_count": 8,
     "metadata": {},
     "output_type": "execute_result"
    }
   ],
   "source": [
    "len(sentences)"
   ]
  },
  {
   "cell_type": "markdown",
   "id": "40d02d81",
   "metadata": {},
   "source": [
    "### Text as a sequence of words\n",
    "No markov assumption: $p(w_n \\mid w_1, w_2, \\dots, w_{n-1})$"
   ]
  },
  {
   "cell_type": "code",
   "execution_count": 10,
   "id": "78f8de52",
   "metadata": {},
   "outputs": [
    {
     "data": {
      "application/vnd.jupyter.widget-view+json": {
       "model_id": "df2c00a137494639b7eaa9eb42b60781",
       "version_major": 2,
       "version_minor": 0
      },
      "text/plain": [
       "  0%|          | 0/1100304 [00:00<?, ?it/s]"
      ]
     },
     "metadata": {},
     "output_type": "display_data"
    }
   ],
   "source": [
    "words_index = defaultdict(lambda: defaultdict(lambda: 0.00001))\n",
    "words_list = set()\n",
    "for sentence in tqdm(sentences):\n",
    "    if not pd.isnull(sentence):\n",
    "        word_seq = sentence.lower().split()\n",
    "        for i, word in enumerate(word_seq):\n",
    "            words_list.add(word)\n",
    "            words_index[\" \".join(word_seq[:i])][word] += 1"
   ]
  },
  {
   "cell_type": "code",
   "execution_count": 14,
   "id": "0fe772b3",
   "metadata": {},
   "outputs": [
    {
     "data": {
      "text/plain": [
       "2482276"
      ]
     },
     "execution_count": 14,
     "metadata": {},
     "output_type": "execute_result"
    }
   ],
   "source": [
    "len(words_index)"
   ]
  },
  {
   "cell_type": "code",
   "execution_count": 15,
   "id": "849d5a90",
   "metadata": {},
   "outputs": [],
   "source": [
    "def prob_word(seq):\n",
    "    series = pd.Series(dict(\n",
    "        [(word, words_index[seq][word]) for word in words_list]))\n",
    "    return series / series.sum()"
   ]
  },
  {
   "cell_type": "code",
   "execution_count": 16,
   "id": "2c0f9edb",
   "metadata": {},
   "outputs": [
    {
     "data": {
      "text/plain": [
       "a         0.50\n",
       "the       0.16\n",
       "two       0.09\n",
       "there     0.03\n",
       "people    0.03\n",
       "an        0.02\n",
       "dtype: float64"
      ]
     },
     "execution_count": 16,
     "metadata": {},
     "output_type": "execute_result"
    }
   ],
   "source": [
    "round(prob_word('').sort_values(ascending=False).head(6), 2)"
   ]
  },
  {
   "cell_type": "code",
   "execution_count": 17,
   "id": "8536157f",
   "metadata": {},
   "outputs": [
    {
     "data": {
      "text/plain": [
       "a        0.68\n",
       "blue     0.03\n",
       "black    0.03\n",
       "the      0.03\n",
       "an       0.03\n",
       "red      0.02\n",
       "dtype: float64"
      ]
     },
     "execution_count": 17,
     "metadata": {},
     "output_type": "execute_result"
    }
   ],
   "source": [
    "round(prob_word('a person in').sort_values(ascending=False).head(6), 2)"
   ]
  },
  {
   "cell_type": "code",
   "execution_count": 18,
   "id": "e54ce469",
   "metadata": {},
   "outputs": [
    {
     "data": {
      "text/plain": [
       "shirt     0.37\n",
       "jacket    0.18\n",
       "suit      0.08\n",
       "hat       0.07\n",
       "outfit    0.03\n",
       "kayak     0.03\n",
       "dtype: float64"
      ]
     },
     "execution_count": 18,
     "metadata": {},
     "output_type": "execute_result"
    }
   ],
   "source": [
    "round(prob_word('a person in a blue').sort_values(ascending=False).head(6), 2)"
   ]
  },
  {
   "cell_type": "markdown",
   "id": "63a16bb0",
   "metadata": {},
   "source": [
    "### Markov chain (n=3)\n",
    "We compute $p(w_n \\mid w_{n-2}, w_{n-1})$"
   ]
  },
  {
   "cell_type": "code",
   "execution_count": 23,
   "id": "66e238ba",
   "metadata": {},
   "outputs": [
    {
     "data": {
      "application/vnd.jupyter.widget-view+json": {
       "model_id": "a637ae4f5c7d4e778138887e3703a006",
       "version_major": 2,
       "version_minor": 0
      },
      "text/plain": [
       "  0%|          | 0/1100304 [00:00<?, ?it/s]"
      ]
     },
     "metadata": {},
     "output_type": "display_data"
    }
   ],
   "source": [
    "markov_index = defaultdict(lambda: defaultdict(lambda: 0.00001))\n",
    "markov_list = set()\n",
    "for sentence in tqdm(sentences):\n",
    "    if not pd.isnull(sentence):\n",
    "        word_seq = sentence.lower().split()\n",
    "        for i, word in enumerate(word_seq):\n",
    "            markov_list.add(word)\n",
    "            markov_index[\" \".join(word_seq[i-2:i])][word] += 1"
   ]
  },
  {
   "cell_type": "code",
   "execution_count": 24,
   "id": "5d93a4eb",
   "metadata": {},
   "outputs": [
    {
     "data": {
      "text/plain": [
       "420667"
      ]
     },
     "execution_count": 24,
     "metadata": {},
     "output_type": "execute_result"
    }
   ],
   "source": [
    "len(markov_index)"
   ]
  },
  {
   "cell_type": "code",
   "execution_count": 37,
   "id": "b41bd481",
   "metadata": {},
   "outputs": [],
   "source": [
    "def markov_word(seq):\n",
    "    components = seq.split()\n",
    "    sub = \" \".join(components[-2:])\n",
    "    series = pd.Series(dict(\n",
    "        [(word, markov_index[sub][word]) for word in markov_list]))\n",
    "    return series / series.sum()"
   ]
  },
  {
   "cell_type": "code",
   "execution_count": 38,
   "id": "78b75cd0",
   "metadata": {},
   "outputs": [
    {
     "name": "stdout",
     "output_type": "stream",
     "text": [
      "a         0.25\n",
      "man       0.09\n",
      "the       0.08\n",
      "two       0.05\n",
      "woman     0.04\n",
      "people    0.03\n",
      "dtype: float64 \n",
      "\n",
      "a        0.56\n",
      "the      0.11\n",
      "blue     0.04\n",
      "black    0.03\n",
      "red      0.02\n",
      "an       0.02\n",
      "dtype: float64 \n",
      "\n",
      "shirt     0.24\n",
      "and       0.06\n",
      "jacket    0.05\n",
      "hat       0.03\n",
      "dress     0.02\n",
      "shirt,    0.02\n",
      "dtype: float64 \n",
      "\n"
     ]
    }
   ],
   "source": [
    "print(round(markov_word('').sort_values(ascending=False).head(6), 2), '\\n')\n",
    "print(round(markov_word('a person in').sort_values(ascending=False).head(6), 2), '\\n')\n",
    "print(round(markov_word('a person in a blue').sort_values(ascending=False).head(6), 2), '\\n')"
   ]
  },
  {
   "cell_type": "markdown",
   "id": "1f5d86cb",
   "metadata": {},
   "source": [
    "## Generate a sentence"
   ]
  },
  {
   "cell_type": "code",
   "execution_count": 61,
   "id": "6ed42b37",
   "metadata": {},
   "outputs": [],
   "source": [
    "def generate(n, prefix='', generator=prob_word):\n",
    "    sent = prefix\n",
    "    for i in range(n):\n",
    "        p = generator(sent)\n",
    "        candidates, dist = list(p.keys()), p.values\n",
    "        next_word = np.random.choice(candidates, p=dist)\n",
    "        sent += \" {}\".format(next_word)\n",
    "    return sent"
   ]
  },
  {
   "cell_type": "code",
   "execution_count": 62,
   "id": "fff80ac6",
   "metadata": {},
   "outputs": [
    {
     "name": "stdout",
     "output_type": "stream",
     "text": [
      " a big, clift. holloween. fifteen flashing sews handshakes muggers noone\n",
      " some dried antarctica. strange-shaped photobooth spirt boarding containg severely scarf.\n"
     ]
    }
   ],
   "source": [
    "print(generate(n=10, generator=prob_word))\n",
    "print(generate(n=10, generator=markov_word))"
   ]
  },
  {
   "cell_type": "markdown",
   "id": "5fe871e4",
   "metadata": {},
   "source": [
    "## Estimate a sentence probability"
   ]
  },
  {
   "cell_type": "code",
   "execution_count": 65,
   "id": "5eead109",
   "metadata": {},
   "outputs": [
    {
     "data": {
      "text/plain": [
       "-71.96128542424196"
      ]
     },
     "execution_count": 65,
     "metadata": {},
     "output_type": "execute_result"
    }
   ],
   "source": [
    "test = 'this is a sentence that is generated'\n",
    "tester = markov_word\n",
    "\n",
    "sequence = test.split()\n",
    "prob = 0\n",
    "for i, w in enumerate(sequence):\n",
    "    x = tester(sentence[:i])[w]\n",
    "    prob += np.log(x)\n",
    "prob"
   ]
  },
  {
   "cell_type": "code",
   "execution_count": 67,
   "id": "a9fce670",
   "metadata": {},
   "outputs": [
    {
     "data": {
      "text/plain": [
       "-88.88840705953086"
      ]
     },
     "execution_count": 67,
     "metadata": {},
     "output_type": "execute_result"
    }
   ],
   "source": [
    "test = 'a non the generated very next best next next'\n",
    "tester = markov_word\n",
    "\n",
    "sequence = test.split()\n",
    "prob = 0\n",
    "for i, w in enumerate(sequence):\n",
    "    x = tester(sentence[:i])[w]\n",
    "    prob += np.log(x)\n",
    "prob"
   ]
  },
  {
   "cell_type": "code",
   "execution_count": null,
   "id": "a801fd0e",
   "metadata": {},
   "outputs": [],
   "source": []
  }
 ],
 "metadata": {
  "kernelspec": {
   "display_name": "Python 3 (ipykernel)",
   "language": "python",
   "name": "python3"
  },
  "language_info": {
   "codemirror_mode": {
    "name": "ipython",
    "version": 3
   },
   "file_extension": ".py",
   "mimetype": "text/x-python",
   "name": "python",
   "nbconvert_exporter": "python",
   "pygments_lexer": "ipython3",
   "version": "3.8.8"
  },
  "toc": {
   "base_numbering": 1,
   "nav_menu": {},
   "number_sections": true,
   "sideBar": true,
   "skip_h1_title": false,
   "title_cell": "Table of Contents",
   "title_sidebar": "Contents",
   "toc_cell": false,
   "toc_position": {},
   "toc_section_display": true,
   "toc_window_display": false
  }
 },
 "nbformat": 4,
 "nbformat_minor": 5
}

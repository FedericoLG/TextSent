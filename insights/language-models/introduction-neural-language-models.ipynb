{
 "cells": [
  {
   "cell_type": "markdown",
   "id": "1fe77377",
   "metadata": {},
   "source": [
    "# Introduction to Neural Language Models"
   ]
  },
  {
   "cell_type": "code",
   "execution_count": 1,
   "id": "a66ed3a5",
   "metadata": {},
   "outputs": [],
   "source": [
    "import pandas as pd\n",
    "import numpy as np\n",
    "from tqdm.notebook import tqdm"
   ]
  },
  {
   "cell_type": "markdown",
   "id": "f8387d9f",
   "metadata": {},
   "source": [
    "## Recap of probability chains in language"
   ]
  },
  {
   "cell_type": "code",
   "execution_count": 2,
   "id": "99f157ac",
   "metadata": {},
   "outputs": [],
   "source": [
    "import json\n",
    "from nltk import word_tokenize"
   ]
  },
  {
   "cell_type": "code",
   "execution_count": 3,
   "id": "59df2634",
   "metadata": {},
   "outputs": [],
   "source": [
    "raw_data = '/Users/flint/Data/recipe/recipe1M_layers/layer1.json'\n",
    "with open(raw_data, 'r') as raw_data_file:\n",
    "    rdata = json.load(raw_data_file)"
   ]
  },
  {
   "cell_type": "code",
   "execution_count": 4,
   "id": "873eba7a",
   "metadata": {},
   "outputs": [],
   "source": [
    "tokenizer = lambda x: ['[sos]'] + word_tokenize(x.lower()) + ['[eos]']\n",
    "recipe2text = lambda x: \" \".join(\n",
    "    ['[start]'] + \n",
    "    [\" \".join(tokenizer(y['text'])) for y in rdata[x]['instructions']] + \n",
    "    ['[stop]'])"
   ]
  },
  {
   "cell_type": "code",
   "execution_count": 5,
   "id": "914bcb99",
   "metadata": {},
   "outputs": [],
   "source": [
    "corpus = [recipe2text(i) for i in range(10**4)]"
   ]
  },
  {
   "cell_type": "markdown",
   "id": "f41930f7",
   "metadata": {},
   "source": [
    "### A different overview of n-gram models"
   ]
  },
  {
   "cell_type": "code",
   "execution_count": 6,
   "id": "244f9bb8",
   "metadata": {},
   "outputs": [],
   "source": [
    "import networkx as nx\n",
    "from nltk import ngrams"
   ]
  },
  {
   "cell_type": "code",
   "execution_count": 7,
   "id": "0baf733d",
   "metadata": {},
   "outputs": [],
   "source": [
    "def text2graph(recipes, n=2):\n",
    "    g = nx.DiGraph()\n",
    "    for recipe in recipes:\n",
    "        r = recipe.split()\n",
    "        for ngram in ngrams(r, n=n, pad_left=True, left_pad_symbol='[pad]'):\n",
    "            n1, n2 = \" \".join(ngram[:-1]), \" \".join(ngram[1:])\n",
    "            g.add_edge(n1, n2)\n",
    "    return g"
   ]
  },
  {
   "cell_type": "code",
   "execution_count": 8,
   "id": "6820a45b",
   "metadata": {},
   "outputs": [],
   "source": [
    "graphs = dict([(n, text2graph(corpus[:1000], n=n)) for n in range(2, 20)])"
   ]
  },
  {
   "cell_type": "code",
   "execution_count": 9,
   "id": "a0ea727a",
   "metadata": {},
   "outputs": [],
   "source": [
    "stats = []\n",
    "for n, g in graphs.items():\n",
    "    stats.append({\n",
    "        'n': n, 'nodes': len(g.nodes()), 'edges': len(g.edges())\n",
    "    })\n",
    "S = pd.DataFrame(stats)"
   ]
  },
  {
   "cell_type": "code",
   "execution_count": 10,
   "id": "ceda8d96",
   "metadata": {},
   "outputs": [
    {
     "data": {
      "text/html": [
       "<div>\n",
       "<style scoped>\n",
       "    .dataframe tbody tr th:only-of-type {\n",
       "        vertical-align: middle;\n",
       "    }\n",
       "\n",
       "    .dataframe tbody tr th {\n",
       "        vertical-align: top;\n",
       "    }\n",
       "\n",
       "    .dataframe thead th {\n",
       "        text-align: right;\n",
       "    }\n",
       "</style>\n",
       "<table border=\"1\" class=\"dataframe\">\n",
       "  <thead>\n",
       "    <tr style=\"text-align: right;\">\n",
       "      <th></th>\n",
       "      <th>n</th>\n",
       "      <th>nodes</th>\n",
       "      <th>edges</th>\n",
       "    </tr>\n",
       "  </thead>\n",
       "  <tbody>\n",
       "    <tr>\n",
       "      <th>0</th>\n",
       "      <td>2</td>\n",
       "      <td>4768</td>\n",
       "      <td>35476</td>\n",
       "    </tr>\n",
       "    <tr>\n",
       "      <th>1</th>\n",
       "      <td>3</td>\n",
       "      <td>35477</td>\n",
       "      <td>75038</td>\n",
       "    </tr>\n",
       "    <tr>\n",
       "      <th>2</th>\n",
       "      <td>4</td>\n",
       "      <td>75039</td>\n",
       "      <td>101503</td>\n",
       "    </tr>\n",
       "    <tr>\n",
       "      <th>3</th>\n",
       "      <td>5</td>\n",
       "      <td>101504</td>\n",
       "      <td>121850</td>\n",
       "    </tr>\n",
       "    <tr>\n",
       "      <th>4</th>\n",
       "      <td>6</td>\n",
       "      <td>121851</td>\n",
       "      <td>135165</td>\n",
       "    </tr>\n",
       "  </tbody>\n",
       "</table>\n",
       "</div>"
      ],
      "text/plain": [
       "   n   nodes   edges\n",
       "0  2    4768   35476\n",
       "1  3   35477   75038\n",
       "2  4   75039  101503\n",
       "3  5  101504  121850\n",
       "4  6  121851  135165"
      ]
     },
     "execution_count": 10,
     "metadata": {},
     "output_type": "execute_result"
    }
   ],
   "source": [
    "S.head()"
   ]
  },
  {
   "cell_type": "code",
   "execution_count": 11,
   "id": "ddf1ebda",
   "metadata": {},
   "outputs": [],
   "source": [
    "import matplotlib.pyplot as plt"
   ]
  },
  {
   "cell_type": "code",
   "execution_count": 12,
   "id": "b7a54b5f",
   "metadata": {},
   "outputs": [
    {
     "data": {
      "image/png": "[encoded data removed]",
      "text/plain": [
       "<Figure size 720x288 with 1 Axes>"
      ]
     },
     "metadata": {
      "needs_background": "light"
     },
     "output_type": "display_data"
    }
   ],
   "source": [
    "fig, ax = plt.subplots(figsize=(10, 4))\n",
    "ax.plot(S.nodes.values, label='Nodes')\n",
    "ax.plot(S.edges.values, label='Edges')\n",
    "ax.set_xticks(range(len(S.n.values)))\n",
    "ax.set_xticklabels(S.n.values)\n",
    "ax.legend()\n",
    "plt.tight_layout()\n",
    "plt.show()"
   ]
  },
  {
   "cell_type": "code",
   "execution_count": null,
   "id": "397c8c28",
   "metadata": {},
   "outputs": [],
   "source": []
  }
 ],
 "metadata": {
  "kernelspec": {
   "display_name": "crike",
   "language": "python",
   "name": "crike"
  },
  "language_info": {
   "codemirror_mode": {
    "name": "ipython",
    "version": 3
   },
   "file_extension": ".py",
   "mimetype": "text/x-python",
   "name": "python",
   "nbconvert_exporter": "python",
   "pygments_lexer": "ipython3",
   "version": "3.8.8"
  },
  "toc": {
   "base_numbering": 1,
   "nav_menu": {},
   "number_sections": true,
   "sideBar": true,
   "skip_h1_title": false,
   "title_cell": "Table of Contents",
   "title_sidebar": "Contents",
   "toc_cell": false,
   "toc_position": {},
   "toc_section_display": true,
   "toc_window_display": false
  }
 },
 "nbformat": 4,
 "nbformat_minor": 5
}

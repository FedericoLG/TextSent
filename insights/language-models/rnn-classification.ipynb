{
 "cells": [
  {
   "cell_type": "markdown",
   "id": "cd2eac68",
   "metadata": {},
   "source": [
    "# Example of a classification task using RNN\n",
    "\n",
    "For a similar example, see also:\n",
    "\n",
    "> NLP FROM SCRATCH: CLASSIFYING NAMES WITH A CHARACTER-LEVEL RNN\n",
    "by Sean Robertson on [pytorch](https://pytorch.org/tutorials/intermediate/char_rnn_classification_tutorial.html)"
   ]
  },
  {
   "cell_type": "markdown",
   "id": "70111409",
   "metadata": {},
   "source": [
    "## Data task\n",
    "We work on a collection of dates represented with different formats. The task is to associate each date with the correct month, in spite of the date format."
   ]
  },
  {
   "cell_type": "code",
   "execution_count": 1,
   "id": "2960cfcb",
   "metadata": {},
   "outputs": [],
   "source": [
    "import pandas as pd\n",
    "import numpy as np\n",
    "from tqdm.notebook import tqdm"
   ]
  },
  {
   "cell_type": "code",
   "execution_count": 2,
   "id": "7fda0057",
   "metadata": {},
   "outputs": [],
   "source": [
    "data = pd.read_csv('../data/rome_dates.csv', index_col=0)"
   ]
  },
  {
   "cell_type": "code",
   "execution_count": 3,
   "id": "4b710459",
   "metadata": {},
   "outputs": [
    {
     "data": {
      "text/html": [
       "<div>\n",
       "<style scoped>\n",
       "    .dataframe tbody tr th:only-of-type {\n",
       "        vertical-align: middle;\n",
       "    }\n",
       "\n",
       "    .dataframe tbody tr th {\n",
       "        vertical-align: top;\n",
       "    }\n",
       "\n",
       "    .dataframe thead th {\n",
       "        text-align: right;\n",
       "    }\n",
       "</style>\n",
       "<table border=\"1\" class=\"dataframe\">\n",
       "  <thead>\n",
       "    <tr style=\"text-align: right;\">\n",
       "      <th></th>\n",
       "      <th>text</th>\n",
       "      <th>target</th>\n",
       "      <th>day</th>\n",
       "      <th>month</th>\n",
       "      <th>year</th>\n",
       "      <th>temperature</th>\n",
       "      <th>temperature_class</th>\n",
       "    </tr>\n",
       "  </thead>\n",
       "  <tbody>\n",
       "    <tr>\n",
       "      <th>0</th>\n",
       "      <td>01-01-1960</td>\n",
       "      <td>1960-01-01</td>\n",
       "      <td>1</td>\n",
       "      <td>1</td>\n",
       "      <td>1960</td>\n",
       "      <td>3.638</td>\n",
       "      <td>1</td>\n",
       "    </tr>\n",
       "    <tr>\n",
       "      <th>1</th>\n",
       "      <td>01/01/1960</td>\n",
       "      <td>1960-01-01</td>\n",
       "      <td>1</td>\n",
       "      <td>1</td>\n",
       "      <td>1960</td>\n",
       "      <td>3.638</td>\n",
       "      <td>1</td>\n",
       "    </tr>\n",
       "    <tr>\n",
       "      <th>2</th>\n",
       "      <td>01.01.1960</td>\n",
       "      <td>1960-01-01</td>\n",
       "      <td>1</td>\n",
       "      <td>1</td>\n",
       "      <td>1960</td>\n",
       "      <td>3.638</td>\n",
       "      <td>1</td>\n",
       "    </tr>\n",
       "    <tr>\n",
       "      <th>3</th>\n",
       "      <td>01/01/1960</td>\n",
       "      <td>1960-01-01</td>\n",
       "      <td>1</td>\n",
       "      <td>1</td>\n",
       "      <td>1960</td>\n",
       "      <td>3.638</td>\n",
       "      <td>1</td>\n",
       "    </tr>\n",
       "    <tr>\n",
       "      <th>4</th>\n",
       "      <td>01.01.1960</td>\n",
       "      <td>1960-01-01</td>\n",
       "      <td>1</td>\n",
       "      <td>1</td>\n",
       "      <td>1960</td>\n",
       "      <td>3.638</td>\n",
       "      <td>1</td>\n",
       "    </tr>\n",
       "    <tr>\n",
       "      <th>5</th>\n",
       "      <td>Fri 01, Jan 1960</td>\n",
       "      <td>1960-01-01</td>\n",
       "      <td>1</td>\n",
       "      <td>1</td>\n",
       "      <td>1960</td>\n",
       "      <td>3.638</td>\n",
       "      <td>1</td>\n",
       "    </tr>\n",
       "    <tr>\n",
       "      <th>6</th>\n",
       "      <td>Jan 01, 1960</td>\n",
       "      <td>1960-01-01</td>\n",
       "      <td>1</td>\n",
       "      <td>1</td>\n",
       "      <td>1960</td>\n",
       "      <td>3.638</td>\n",
       "      <td>1</td>\n",
       "    </tr>\n",
       "    <tr>\n",
       "      <th>7</th>\n",
       "      <td>Fri 01, January 1960</td>\n",
       "      <td>1960-01-01</td>\n",
       "      <td>1</td>\n",
       "      <td>1</td>\n",
       "      <td>1960</td>\n",
       "      <td>3.638</td>\n",
       "      <td>1</td>\n",
       "    </tr>\n",
       "    <tr>\n",
       "      <th>8</th>\n",
       "      <td>1960/01/01</td>\n",
       "      <td>1960-01-01</td>\n",
       "      <td>1</td>\n",
       "      <td>1</td>\n",
       "      <td>1960</td>\n",
       "      <td>3.638</td>\n",
       "      <td>1</td>\n",
       "    </tr>\n",
       "    <tr>\n",
       "      <th>9</th>\n",
       "      <td>1960 January 01</td>\n",
       "      <td>1960-01-01</td>\n",
       "      <td>1</td>\n",
       "      <td>1</td>\n",
       "      <td>1960</td>\n",
       "      <td>3.638</td>\n",
       "      <td>1</td>\n",
       "    </tr>\n",
       "    <tr>\n",
       "      <th>10</th>\n",
       "      <td>1960 Jan 01</td>\n",
       "      <td>1960-01-01</td>\n",
       "      <td>1</td>\n",
       "      <td>1</td>\n",
       "      <td>1960</td>\n",
       "      <td>3.638</td>\n",
       "      <td>1</td>\n",
       "    </tr>\n",
       "    <tr>\n",
       "      <th>11</th>\n",
       "      <td>02-01-1960</td>\n",
       "      <td>1960-01-02</td>\n",
       "      <td>2</td>\n",
       "      <td>1</td>\n",
       "      <td>1960</td>\n",
       "      <td>3.638</td>\n",
       "      <td>1</td>\n",
       "    </tr>\n",
       "    <tr>\n",
       "      <th>12</th>\n",
       "      <td>02/01/1960</td>\n",
       "      <td>1960-01-02</td>\n",
       "      <td>2</td>\n",
       "      <td>1</td>\n",
       "      <td>1960</td>\n",
       "      <td>3.638</td>\n",
       "      <td>1</td>\n",
       "    </tr>\n",
       "    <tr>\n",
       "      <th>13</th>\n",
       "      <td>02.01.1960</td>\n",
       "      <td>1960-01-02</td>\n",
       "      <td>2</td>\n",
       "      <td>1</td>\n",
       "      <td>1960</td>\n",
       "      <td>3.638</td>\n",
       "      <td>1</td>\n",
       "    </tr>\n",
       "    <tr>\n",
       "      <th>14</th>\n",
       "      <td>01/02/1960</td>\n",
       "      <td>1960-01-02</td>\n",
       "      <td>2</td>\n",
       "      <td>1</td>\n",
       "      <td>1960</td>\n",
       "      <td>3.638</td>\n",
       "      <td>1</td>\n",
       "    </tr>\n",
       "    <tr>\n",
       "      <th>15</th>\n",
       "      <td>01.02.1960</td>\n",
       "      <td>1960-01-02</td>\n",
       "      <td>2</td>\n",
       "      <td>1</td>\n",
       "      <td>1960</td>\n",
       "      <td>3.638</td>\n",
       "      <td>1</td>\n",
       "    </tr>\n",
       "    <tr>\n",
       "      <th>16</th>\n",
       "      <td>Sat 02, Jan 1960</td>\n",
       "      <td>1960-01-02</td>\n",
       "      <td>2</td>\n",
       "      <td>1</td>\n",
       "      <td>1960</td>\n",
       "      <td>3.638</td>\n",
       "      <td>1</td>\n",
       "    </tr>\n",
       "    <tr>\n",
       "      <th>17</th>\n",
       "      <td>Jan 02, 1960</td>\n",
       "      <td>1960-01-02</td>\n",
       "      <td>2</td>\n",
       "      <td>1</td>\n",
       "      <td>1960</td>\n",
       "      <td>3.638</td>\n",
       "      <td>1</td>\n",
       "    </tr>\n",
       "    <tr>\n",
       "      <th>18</th>\n",
       "      <td>Sat 02, January 1960</td>\n",
       "      <td>1960-01-02</td>\n",
       "      <td>2</td>\n",
       "      <td>1</td>\n",
       "      <td>1960</td>\n",
       "      <td>3.638</td>\n",
       "      <td>1</td>\n",
       "    </tr>\n",
       "    <tr>\n",
       "      <th>19</th>\n",
       "      <td>1960/01/02</td>\n",
       "      <td>1960-01-02</td>\n",
       "      <td>2</td>\n",
       "      <td>1</td>\n",
       "      <td>1960</td>\n",
       "      <td>3.638</td>\n",
       "      <td>1</td>\n",
       "    </tr>\n",
       "  </tbody>\n",
       "</table>\n",
       "</div>"
      ],
      "text/plain": [
       "                    text      target  day  month  year  temperature  \\\n",
       "0             01-01-1960  1960-01-01    1      1  1960        3.638   \n",
       "1             01/01/1960  1960-01-01    1      1  1960        3.638   \n",
       "2             01.01.1960  1960-01-01    1      1  1960        3.638   \n",
       "3             01/01/1960  1960-01-01    1      1  1960        3.638   \n",
       "4             01.01.1960  1960-01-01    1      1  1960        3.638   \n",
       "5       Fri 01, Jan 1960  1960-01-01    1      1  1960        3.638   \n",
       "6           Jan 01, 1960  1960-01-01    1      1  1960        3.638   \n",
       "7   Fri 01, January 1960  1960-01-01    1      1  1960        3.638   \n",
       "8             1960/01/01  1960-01-01    1      1  1960        3.638   \n",
       "9        1960 January 01  1960-01-01    1      1  1960        3.638   \n",
       "10           1960 Jan 01  1960-01-01    1      1  1960        3.638   \n",
       "11            02-01-1960  1960-01-02    2      1  1960        3.638   \n",
       "12            02/01/1960  1960-01-02    2      1  1960        3.638   \n",
       "13            02.01.1960  1960-01-02    2      1  1960        3.638   \n",
       "14            01/02/1960  1960-01-02    2      1  1960        3.638   \n",
       "15            01.02.1960  1960-01-02    2      1  1960        3.638   \n",
       "16      Sat 02, Jan 1960  1960-01-02    2      1  1960        3.638   \n",
       "17          Jan 02, 1960  1960-01-02    2      1  1960        3.638   \n",
       "18  Sat 02, January 1960  1960-01-02    2      1  1960        3.638   \n",
       "19            1960/01/02  1960-01-02    2      1  1960        3.638   \n",
       "\n",
       "    temperature_class  \n",
       "0                   1  \n",
       "1                   1  \n",
       "2                   1  \n",
       "3                   1  \n",
       "4                   1  \n",
       "5                   1  \n",
       "6                   1  \n",
       "7                   1  \n",
       "8                   1  \n",
       "9                   1  \n",
       "10                  1  \n",
       "11                  1  \n",
       "12                  1  \n",
       "13                  1  \n",
       "14                  1  \n",
       "15                  1  \n",
       "16                  1  \n",
       "17                  1  \n",
       "18                  1  \n",
       "19                  1  "
      ]
     },
     "execution_count": 3,
     "metadata": {},
     "output_type": "execute_result"
    }
   ],
   "source": [
    "data.head(20)"
   ]
  },
  {
   "cell_type": "markdown",
   "id": "189bc62d",
   "metadata": {},
   "source": [
    "### Get a subset of dates with month names"
   ]
  },
  {
   "cell_type": "code",
   "execution_count": 4,
   "id": "55dedf34",
   "metadata": {},
   "outputs": [],
   "source": [
    "from datetime import datetime"
   ]
  },
  {
   "cell_type": "code",
   "execution_count": 5,
   "id": "f86580a3",
   "metadata": {},
   "outputs": [],
   "source": [
    "selected_months = ['January', 'February', 'March', 'April', 'May', 'June', 'July', 'August', 'September', \n",
    "                'October', 'November', 'December']\n",
    "date_list, month_list, dates_list = data.text.values, data.month.values, data.target.values\n",
    "dataset = []\n",
    "for i, d in enumerate(date_list):\n",
    "    for m in selected_months:\n",
    "        if m in d:\n",
    "#            dt = datetime.strptime(dates_list[i], '%Y-%m-%d')\n",
    "            parts = d.split(m)\n",
    "            dataset.append((\"{}{}\".format(parts[0], m), month_list[i]))\n",
    "            break"
   ]
  },
  {
   "cell_type": "code",
   "execution_count": 6,
   "id": "9db953aa",
   "metadata": {},
   "outputs": [
    {
     "data": {
      "text/plain": [
       "[('Fri 01, January', 1),\n",
       " ('1960 January', 1),\n",
       " ('Sat 02, January', 1),\n",
       " ('1960 January', 1),\n",
       " ('Sun 03, January', 1),\n",
       " ('1960 January', 1)]"
      ]
     },
     "execution_count": 6,
     "metadata": {},
     "output_type": "execute_result"
    }
   ],
   "source": [
    "dataset[:6]"
   ]
  },
  {
   "cell_type": "markdown",
   "id": "829cde50",
   "metadata": {},
   "source": [
    "## Prepare data\n",
    "In this example, we read each date (text) as a **sequence of chars** represented according to the one-hot encoding scheme."
   ]
  },
  {
   "cell_type": "code",
   "execution_count": 7,
   "id": "5dc60b3a",
   "metadata": {},
   "outputs": [],
   "source": [
    "import string\n",
    "import torch"
   ]
  },
  {
   "cell_type": "markdown",
   "id": "5955b664",
   "metadata": {},
   "source": [
    "### Date strings to PyTorch tensors"
   ]
  },
  {
   "cell_type": "code",
   "execution_count": 8,
   "id": "6b1e78c7",
   "metadata": {},
   "outputs": [],
   "source": [
    "alphabet = string.ascii_letters + string.digits + \" -./,\""
   ]
  },
  {
   "cell_type": "code",
   "execution_count": 9,
   "id": "e60c5d72",
   "metadata": {},
   "outputs": [],
   "source": [
    "def date2tensor(date_text):\n",
    "    tensor = torch.zeros(len(date_text), 1, len(alphabet))\n",
    "    for i, char in enumerate(date_text):\n",
    "        tensor[i][0][alphabet.find(char)] = 1\n",
    "    return tensor\n",
    "\n",
    "def tensor2date(date_tensor):\n",
    "    return \"\".join([alphabet[x] for x in torch.nonzero(date_tensor)[:,2]])"
   ]
  },
  {
   "cell_type": "markdown",
   "id": "2dc94c83",
   "metadata": {},
   "source": [
    "#### Example"
   ]
  },
  {
   "cell_type": "code",
   "execution_count": 10,
   "id": "b0329814",
   "metadata": {},
   "outputs": [],
   "source": [
    "dt = date2tensor('Sun 03, January')\n",
    "td = tensor2date(dt)"
   ]
  },
  {
   "cell_type": "code",
   "execution_count": 11,
   "id": "74afa9d2",
   "metadata": {},
   "outputs": [
    {
     "data": {
      "text/plain": [
       "torch.Size([15, 1, 67])"
      ]
     },
     "execution_count": 11,
     "metadata": {},
     "output_type": "execute_result"
    }
   ],
   "source": [
    "dt.size()"
   ]
  },
  {
   "cell_type": "code",
   "execution_count": 13,
   "id": "56b52e8e",
   "metadata": {},
   "outputs": [
    {
     "data": {
      "text/plain": [
       "tensor([[[0., 0., 0., 0., 0., 0., 0., 0., 0., 0., 0., 0., 0., 0., 0., 0., 0.,\n",
       "          0., 0., 0., 0., 0., 0., 0., 0., 0., 0., 0., 0., 0., 0., 0., 0., 0.,\n",
       "          0., 0., 0., 0., 0., 0., 0., 0., 0., 0., 1., 0., 0., 0., 0., 0., 0.,\n",
       "          0., 0., 0., 0., 0., 0., 0., 0., 0., 0., 0., 0., 0., 0., 0., 0.]],\n",
       "\n",
       "        [[0., 0., 0., 0., 0., 0., 0., 0., 0., 0., 0., 0., 0., 0., 0., 0., 0.,\n",
       "          0., 0., 0., 1., 0., 0., 0., 0., 0., 0., 0., 0., 0., 0., 0., 0., 0.,\n",
       "          0., 0., 0., 0., 0., 0., 0., 0., 0., 0., 0., 0., 0., 0., 0., 0., 0.,\n",
       "          0., 0., 0., 0., 0., 0., 0., 0., 0., 0., 0., 0., 0., 0., 0., 0.]]])"
      ]
     },
     "execution_count": 13,
     "metadata": {},
     "output_type": "execute_result"
    }
   ],
   "source": [
    "dt[:2]"
   ]
  },
  {
   "cell_type": "code",
   "execution_count": 14,
   "id": "08c8ff86",
   "metadata": {},
   "outputs": [
    {
     "data": {
      "text/plain": [
       "'Sun 03, January'"
      ]
     },
     "execution_count": 14,
     "metadata": {},
     "output_type": "execute_result"
    }
   ],
   "source": [
    "td"
   ]
  },
  {
   "cell_type": "markdown",
   "id": "703f738b",
   "metadata": {},
   "source": [
    "## RNN network structure\n",
    "\n",
    "![rnn](../data/rnn.png)"
   ]
  },
  {
   "cell_type": "code",
   "execution_count": 15,
   "id": "a759f3f5",
   "metadata": {},
   "outputs": [],
   "source": [
    "import torch.nn as nn"
   ]
  },
  {
   "cell_type": "code",
   "execution_count": 16,
   "id": "9a326b2f",
   "metadata": {},
   "outputs": [],
   "source": [
    "class RNN(nn.Module):\n",
    "    def __init__(self, input_size, hidden_size, output_size):\n",
    "        super(RNN, self).__init__()\n",
    "        self.hidden_size = hidden_size\n",
    "        self.i2h = nn.Linear(input_size + hidden_size, hidden_size)\n",
    "        self.i2o = nn.Linear(input_size + hidden_size, output_size)\n",
    "        self.softmax = nn.LogSoftmax(dim=1)\n",
    "\n",
    "    def forward(self, input_tensor, hidden):\n",
    "        combined = torch.cat((input_tensor, hidden), 1)\n",
    "        hidden = self.i2h(combined)\n",
    "        output = self.i2o(combined)\n",
    "        output = self.softmax(output)\n",
    "        return output, hidden\n",
    "\n",
    "    def init_hidden(self):\n",
    "        return torch.zeros(1, self.hidden_size)"
   ]
  },
  {
   "cell_type": "code",
   "execution_count": 27,
   "id": "b7ba1985",
   "metadata": {},
   "outputs": [],
   "source": [
    "hidden_size = 20\n",
    "rnn = RNN(len(alphabet), hidden_size, len(selected_months))"
   ]
  },
  {
   "cell_type": "markdown",
   "id": "3068d5bd",
   "metadata": {},
   "source": [
    "### Forward step"
   ]
  },
  {
   "cell_type": "code",
   "execution_count": 28,
   "id": "8de6fbb5",
   "metadata": {},
   "outputs": [],
   "source": [
    "date_tensor = date2tensor('Sun 03, January')\n",
    "hidden_tensor = rnn.init_hidden()"
   ]
  },
  {
   "cell_type": "code",
   "execution_count": 29,
   "id": "19c12dd9",
   "metadata": {},
   "outputs": [
    {
     "data": {
      "text/plain": [
       "tensor([[0., 0., 0., 0., 0., 0., 0., 0., 0., 0., 0., 0., 0., 0., 0., 0., 0., 0., 0., 0.]])"
      ]
     },
     "execution_count": 29,
     "metadata": {},
     "output_type": "execute_result"
    }
   ],
   "source": [
    "hidden_tensor"
   ]
  },
  {
   "cell_type": "code",
   "execution_count": 31,
   "id": "26c7e3db",
   "metadata": {},
   "outputs": [
    {
     "name": "stdout",
     "output_type": "stream",
     "text": [
      "tensor([[0., 0., 0., 0., 0., 0., 0., 0., 0., 0., 0., 0., 0., 0., 0., 0., 0., 0., 0., 0.]])\n",
      "tensor([[ 0.0326, -0.0471,  0.0329,  0.1933, -0.1075,  0.1800,  0.0175, -0.1763,\n",
      "          0.0797, -0.1224,  0.0221, -0.0435, -0.1754, -0.0356, -0.1243, -0.1013,\n",
      "          0.0635,  0.0726, -0.1142, -0.0064]], grad_fn=<AddmmBackward0>)\n",
      "tensor([[ 0.1490, -0.0427, -0.0318,  0.0779,  0.0677,  0.0213, -0.0089, -0.0437,\n",
      "         -0.0243, -0.0995,  0.0553, -0.0087, -0.1151,  0.0134, -0.1209, -0.0357,\n",
      "          0.0256, -0.0323,  0.0290, -0.0691]], grad_fn=<AddmmBackward0>)\n",
      "tensor([[ 0.1156,  0.0155, -0.0221,  0.0221,  0.0333,  0.0575, -0.0543, -0.1838,\n",
      "         -0.0082,  0.0018,  0.0261, -0.0743, -0.0764,  0.0200, -0.1297, -0.1039,\n",
      "         -0.0122,  0.1431, -0.0256,  0.1240]], grad_fn=<AddmmBackward0>)\n",
      "tensor([[-0.0077, -0.1386, -0.1580,  0.0887, -0.0592,  0.1048, -0.0786, -0.1543,\n",
      "          0.0683, -0.1339,  0.0010,  0.0258, -0.2006, -0.0260, -0.1074,  0.0065,\n",
      "         -0.0125,  0.0098,  0.0005, -0.0361]], grad_fn=<AddmmBackward0>)\n",
      "tensor([[ 0.0805, -0.1203, -0.0757,  0.0981,  0.0124, -0.0079, -0.0763, -0.1697,\n",
      "         -0.0828,  0.0245, -0.1024, -0.0994, -0.0526,  0.0820,  0.0100,  0.0810,\n",
      "         -0.1104, -0.0803, -0.1150, -0.0243]], grad_fn=<AddmmBackward0>)\n",
      "tensor([[-0.0242, -0.0196, -0.1354,  0.1077,  0.0021,  0.1043, -0.0310, -0.0818,\n",
      "          0.0769,  0.0680,  0.0862,  0.0036, -0.0392, -0.0333, -0.1281,  0.0029,\n",
      "         -0.0577, -0.0546, -0.0775, -0.0820]], grad_fn=<AddmmBackward0>)\n",
      "tensor([[ 0.0573,  0.0437, -0.0206,  0.1124, -0.0712,  0.0740, -0.1116, -0.0808,\n",
      "          0.0333,  0.0132,  0.0618, -0.0241, -0.1597,  0.0263, -0.0244,  0.0071,\n",
      "          0.0280,  0.0833,  0.0616,  0.0027]], grad_fn=<AddmmBackward0>)\n",
      "tensor([[-0.0503, -0.1296, -0.1644,  0.0988, -0.0435,  0.1054, -0.1162, -0.1703,\n",
      "          0.0770, -0.1616,  0.0156,  0.0239, -0.2121,  0.0091, -0.1017, -0.0317,\n",
      "          0.0118,  0.0134, -0.0076, -0.0172]], grad_fn=<AddmmBackward0>)\n",
      "tensor([[ 0.0939,  0.0008, -0.2071,  0.1914,  0.0266,  0.0161, -0.0794, -0.1190,\n",
      "          0.0930, -0.0792, -0.0756,  0.0621, -0.0489, -0.0426, -0.0418, -0.0856,\n",
      "          0.0387,  0.0248, -0.0445, -0.0776]], grad_fn=<AddmmBackward0>)\n",
      "tensor([[ 0.0612, -0.1631, -0.1023,  0.2203, -0.1041,  0.0986,  0.0886, -0.1621,\n",
      "          0.0088, -0.0009,  0.0475,  0.0231, -0.1116,  0.0442,  0.0385, -0.0259,\n",
      "          0.0678, -0.0003,  0.0838,  0.0583]], grad_fn=<AddmmBackward0>)\n",
      "tensor([[ 0.1035,  0.0122, -0.0049,  0.0269,  0.0392,  0.0736, -0.0564, -0.2339,\n",
      "         -0.0097, -0.0025,  0.0429, -0.0559, -0.0807,  0.0327, -0.1070, -0.1201,\n",
      "         -0.0256,  0.1472, -0.0267,  0.1447]], grad_fn=<AddmmBackward0>)\n",
      "tensor([[ 1.2656e-01, -5.2537e-02, -2.7915e-02,  3.3363e-02,  4.8785e-02,\n",
      "          2.7855e-02, -7.6847e-03, -1.2292e-02, -2.8265e-02, -8.5262e-02,\n",
      "         -1.3572e-03, -2.8302e-02, -8.8610e-02, -5.4874e-05, -1.1584e-01,\n",
      "         -2.2988e-02, -1.1778e-02, -1.8998e-03, -7.9836e-03, -7.0887e-02]],\n",
      "       grad_fn=<AddmmBackward0>)\n",
      "tensor([[ 0.0784, -0.1661, -0.0983,  0.2091, -0.1299,  0.0923,  0.0836, -0.1590,\n",
      "          0.0099, -0.0031,  0.0623,  0.0007, -0.0989,  0.0095,  0.0169, -0.0251,\n",
      "          0.0533, -0.0050,  0.0669,  0.0573]], grad_fn=<AddmmBackward0>)\n",
      "tensor([[ 0.0500, -0.0375, -0.0432,  0.1778,  0.0532,  0.1772, -0.0511, -0.1872,\n",
      "          0.0440, -0.0260, -0.0896, -0.0121, -0.1762, -0.0068, -0.0043, -0.1052,\n",
      "         -0.0206,  0.0834,  0.0547, -0.0332]], grad_fn=<AddmmBackward0>)\n"
     ]
    }
   ],
   "source": [
    "for row in date_tensor:\n",
    "    print(hidden_tensor)\n",
    "    output, next_hidden = rnn(row, hidden_tensor)\n",
    "    hidden_tensor = next_hidden\n"
   ]
  },
  {
   "cell_type": "code",
   "execution_count": 36,
   "id": "dabc8be8",
   "metadata": {},
   "outputs": [
    {
     "data": {
      "text/plain": [
       "3"
      ]
     },
     "execution_count": 36,
     "metadata": {},
     "output_type": "execute_result"
    }
   ],
   "source": [
    "np.argmax(output.detach().numpy())"
   ]
  },
  {
   "cell_type": "code",
   "execution_count": 21,
   "id": "8b10e6b3",
   "metadata": {},
   "outputs": [
    {
     "data": {
      "text/plain": [
       "tensor([[-2.4898, -2.3999, -2.4217, -2.4723, -2.4922, -2.4576, -2.6016, -2.4105,\n",
       "         -2.4600, -2.5774, -2.5384, -2.5195]], grad_fn=<LogSoftmaxBackward0>)"
      ]
     },
     "execution_count": 21,
     "metadata": {},
     "output_type": "execute_result"
    }
   ],
   "source": [
    "output"
   ]
  },
  {
   "cell_type": "code",
   "execution_count": 24,
   "id": "b1ad7307",
   "metadata": {},
   "outputs": [
    {
     "data": {
      "text/plain": [
       "tensor([[-0.0688,  0.0552, -0.0560,  0.1276, -0.0835,  0.0165,  0.0184, -0.0424,\n",
       "         -0.1049,  0.0020, -0.0171,  0.0209, -0.0953, -0.0699, -0.0433, -0.0680,\n",
       "          0.0229, -0.0702,  0.0183,  0.1033,  0.1129, -0.0376, -0.0101, -0.0170,\n",
       "         -0.0475, -0.0346, -0.1104, -0.0433, -0.0345, -0.0650,  0.0186,  0.0437,\n",
       "         -0.0024, -0.0226,  0.0457, -0.0193, -0.0234, -0.0408, -0.0281, -0.1152,\n",
       "          0.0841, -0.0063,  0.0054,  0.0787,  0.0177,  0.0176, -0.0910, -0.0762,\n",
       "          0.0451, -0.0458, -0.0034,  0.0105,  0.1248, -0.0629, -0.0761,  0.0353,\n",
       "         -0.0327, -0.0611, -0.0075,  0.0545, -0.0375, -0.1028,  0.0496,  0.0581,\n",
       "         -0.0138, -0.1097,  0.0010,  0.0012,  0.0690, -0.0561,  0.0278,  0.0300,\n",
       "          0.0308,  0.0437, -0.0180,  0.1074,  0.0683, -0.0813,  0.0254, -0.0209,\n",
       "          0.0874, -0.0042, -0.0612, -0.0428,  0.0426,  0.0084,  0.0659,  0.1052,\n",
       "          0.0028, -0.0357,  0.0956, -0.0800, -0.0739,  0.0053, -0.0345, -0.0526,\n",
       "          0.0643, -0.1037, -0.1206, -0.0617,  0.0620,  0.0623, -0.0352, -0.0862,\n",
       "          0.0158, -0.0424,  0.0771,  0.0456,  0.0307,  0.0315,  0.0767, -0.0902,\n",
       "         -0.0645, -0.0873,  0.0556, -0.1213,  0.1111, -0.0460,  0.0620, -0.0404,\n",
       "         -0.0219, -0.0428,  0.0008,  0.0397,  0.0553,  0.0011, -0.0278,  0.0364]],\n",
       "       grad_fn=<AddmmBackward0>)"
      ]
     },
     "execution_count": 24,
     "metadata": {},
     "output_type": "execute_result"
    }
   ],
   "source": [
    "next_hidden"
   ]
  },
  {
   "cell_type": "markdown",
   "id": "c7eb689f",
   "metadata": {},
   "source": [
    "## Training"
   ]
  },
  {
   "cell_type": "code",
   "execution_count": 37,
   "id": "a752be13",
   "metadata": {},
   "outputs": [],
   "source": [
    "def output2month(output):\n",
    "    top_n, top_i = output.topk(1)\n",
    "    return selected_months[top_i[0].item()]"
   ]
  },
  {
   "cell_type": "code",
   "execution_count": 38,
   "id": "4fe2fe79",
   "metadata": {},
   "outputs": [
    {
     "data": {
      "text/plain": [
       "'April'"
      ]
     },
     "execution_count": 38,
     "metadata": {},
     "output_type": "execute_result"
    }
   ],
   "source": [
    "output2month(output)"
   ]
  },
  {
   "cell_type": "markdown",
   "id": "dd68f7dd",
   "metadata": {},
   "source": [
    "### Create a training data generator"
   ]
  },
  {
   "cell_type": "code",
   "execution_count": 39,
   "id": "8dccacf3",
   "metadata": {},
   "outputs": [],
   "source": [
    "def create_training():\n",
    "    date_string, month = dataset[np.random.choice(range(len(dataset)))]\n",
    "    date_tensor = date2tensor(date_string)\n",
    "    target_tensor = torch.tensor([month-1], dtype=torch.long)\n",
    "    return date_tensor, target_tensor, date_string, month"
   ]
  },
  {
   "cell_type": "code",
   "execution_count": 40,
   "id": "18ae9b4d",
   "metadata": {},
   "outputs": [
    {
     "name": "stdout",
     "output_type": "stream",
     "text": [
      "tensor([6]) Fri 21, July 7\n"
     ]
    }
   ],
   "source": [
    "input_t, target, date_string, month = create_training()\n",
    "print(target, date_string, month)"
   ]
  },
  {
   "cell_type": "markdown",
   "id": "a8bb58c5",
   "metadata": {},
   "source": [
    "### Training"
   ]
  },
  {
   "cell_type": "code",
   "execution_count": 41,
   "id": "5a8e45a4",
   "metadata": {},
   "outputs": [],
   "source": [
    "loss_function = nn.NLLLoss()\n",
    "learning_rate = 0.005"
   ]
  },
  {
   "cell_type": "code",
   "execution_count": 42,
   "id": "f66e8328",
   "metadata": {},
   "outputs": [],
   "source": [
    "def train(target_tensor, date_tensor):\n",
    "    hidden = rnn.init_hidden()\n",
    "    rnn.zero_grad()\n",
    "    for i in range(date_tensor.size()[0]):\n",
    "        output, hidden = rnn(date_tensor[i], hidden)\n",
    "    loss = loss_function(output, target_tensor)\n",
    "    loss.backward()\n",
    "    # Add parameters' gradients to their values, multiplied by learning rate\n",
    "    for p in rnn.parameters():\n",
    "        p.data.add_(p.grad.data, alpha=-learning_rate)\n",
    "    return output, loss.item()"
   ]
  },
  {
   "cell_type": "markdown",
   "id": "445f2404",
   "metadata": {},
   "source": [
    "#### Example"
   ]
  },
  {
   "cell_type": "code",
   "execution_count": 43,
   "id": "5bd481d8",
   "metadata": {},
   "outputs": [],
   "source": [
    "date_tensor, target_tensor, date_text, month = create_training()\n",
    "output, loss = train(target_tensor, date_tensor)"
   ]
  },
  {
   "cell_type": "code",
   "execution_count": 44,
   "id": "7bca210a",
   "metadata": {},
   "outputs": [
    {
     "data": {
      "text/plain": [
       "2.6065595149993896"
      ]
     },
     "execution_count": 44,
     "metadata": {},
     "output_type": "execute_result"
    }
   ],
   "source": [
    "loss"
   ]
  },
  {
   "cell_type": "code",
   "execution_count": 45,
   "id": "688ed540",
   "metadata": {},
   "outputs": [
    {
     "name": "stdout",
     "output_type": "stream",
     "text": [
      "1969 May\n",
      "1969 May\n",
      "April\n"
     ]
    }
   ],
   "source": [
    "print(date_text)\n",
    "print(tensor2date(date_tensor))\n",
    "print(output2month(output))"
   ]
  },
  {
   "cell_type": "markdown",
   "id": "4fcef3b5",
   "metadata": {},
   "source": [
    "### Training with more data"
   ]
  },
  {
   "cell_type": "code",
   "execution_count": 46,
   "id": "d0c3fdd5",
   "metadata": {},
   "outputs": [],
   "source": [
    "hidden_size = 128\n",
    "rnn = RNN(len(alphabet), hidden_size, len(selected_months))"
   ]
  },
  {
   "cell_type": "code",
   "execution_count": 47,
   "id": "a16f3c63",
   "metadata": {},
   "outputs": [
    {
     "data": {
      "application/vnd.jupyter.widget-view+json": {
       "model_id": "68ee8259b6584a0ab1650ff8014dbfd7",
       "version_major": 2,
       "version_minor": 0
      },
      "text/plain": [
       "  0%|          | 0/3000 [00:00<?, ?it/s]"
      ]
     },
     "metadata": {},
     "output_type": "display_data"
    }
   ],
   "source": [
    "epochs = 3000\n",
    "error_history = []\n",
    "run = list(enumerate(range(epochs)))\n",
    "e = 0\n",
    "log_period = 50\n",
    "\n",
    "for i, epoch in tqdm(run):\n",
    "    date_tensor, target_tensor, date_text, month = create_training()\n",
    "    output, loss = train(target_tensor, date_tensor)\n",
    "    e += loss\n",
    "    if i > 0 and i % log_period == 0:\n",
    "        error_history.append(e / log_period)\n",
    "        e = 0"
   ]
  },
  {
   "cell_type": "markdown",
   "id": "bd0193cd",
   "metadata": {},
   "source": [
    "#### Plot error rate"
   ]
  },
  {
   "cell_type": "code",
   "execution_count": 48,
   "id": "4a21fdb2",
   "metadata": {},
   "outputs": [],
   "source": [
    "import matplotlib.pyplot as plt"
   ]
  },
  {
   "cell_type": "code",
   "execution_count": 49,
   "id": "9c494895",
   "metadata": {},
   "outputs": [
    {
     "data": {
      "image/png": "[encoded data removed]",
      "text/plain": [
       "<Figure size 1200x400 with 1 Axes>"
      ]
     },
     "metadata": {},
     "output_type": "display_data"
    }
   ],
   "source": [
    "fig, ax = plt.subplots(figsize=(12, 4))\n",
    "ax.plot(error_history)\n",
    "plt.tight_layout()\n",
    "plt.show()"
   ]
  },
  {
   "cell_type": "markdown",
   "id": "72e06060",
   "metadata": {},
   "source": [
    "## Test and evaluate"
   ]
  },
  {
   "cell_type": "markdown",
   "id": "a1205ddd",
   "metadata": {},
   "source": [
    "### Test"
   ]
  },
  {
   "cell_type": "code",
   "execution_count": 50,
   "id": "1cde301f",
   "metadata": {},
   "outputs": [],
   "source": [
    "def predict(date_text):\n",
    "    hidden = rnn.init_hidden()\n",
    "    date_tensor = date2tensor(date_text)\n",
    "    for char_tensor in date_tensor:\n",
    "        output, hidden = rnn(char_tensor, hidden)\n",
    "    return output\n",
    "\n",
    "def output2month(output):\n",
    "    return int(output.argmax() + 1)"
   ]
  },
  {
   "cell_type": "code",
   "execution_count": 53,
   "id": "03b3f5b0",
   "metadata": {},
   "outputs": [
    {
     "data": {
      "text/plain": [
       "2"
      ]
     },
     "execution_count": 53,
     "metadata": {},
     "output_type": "execute_result"
    }
   ],
   "source": [
    "output2month(predict('Tue 27, February'))"
   ]
  },
  {
   "cell_type": "code",
   "execution_count": 54,
   "id": "d71afc4d",
   "metadata": {},
   "outputs": [
    {
     "name": "stdout",
     "output_type": "stream",
     "text": [
      "Tue 29, April month is 4\n",
      "1995 September month is 9\n",
      "1994 October month is 10\n",
      "Tue 13, November month is 12\n",
      "Fri 05, November month is 12\n",
      "1991 September month is 9\n",
      "1981 September month is 9\n",
      "Tue 01, August month is 8\n",
      "1962 February month is 2\n",
      "1983 August month is 8\n"
     ]
    }
   ],
   "source": [
    "sample = np.random.choice([x for x, y in dataset], 10)\n",
    "for d in sample:\n",
    "    print(d, \"month is\", output2month(predict(d)))"
   ]
  },
  {
   "cell_type": "code",
   "execution_count": 55,
   "id": "0b4ee629",
   "metadata": {},
   "outputs": [
    {
     "data": {
      "text/plain": [
       "2"
      ]
     },
     "execution_count": 55,
     "metadata": {},
     "output_type": "execute_result"
    }
   ],
   "source": [
    "output2month(predict('Christmass is on December'))"
   ]
  },
  {
   "cell_type": "code",
   "execution_count": 56,
   "id": "125960c7",
   "metadata": {},
   "outputs": [
    {
     "data": {
      "text/plain": [
       "4"
      ]
     },
     "execution_count": 56,
     "metadata": {},
     "output_type": "execute_result"
    }
   ],
   "source": [
    "output2month(predict('3012 ril'))"
   ]
  },
  {
   "cell_type": "markdown",
   "id": "5f1eedcf",
   "metadata": {},
   "source": [
    "### Evaluate"
   ]
  },
  {
   "cell_type": "code",
   "execution_count": 57,
   "id": "dd883f55",
   "metadata": {},
   "outputs": [],
   "source": [
    "from sklearn.metrics import classification_report, confusion_matrix, ConfusionMatrixDisplay"
   ]
  },
  {
   "cell_type": "code",
   "execution_count": 58,
   "id": "37808dae",
   "metadata": {},
   "outputs": [],
   "source": [
    "y_true, y_pred = [], []\n",
    "for i in range(2000):\n",
    "    date_tensor, target_tensor, date_text, month = create_training()\n",
    "    y_true.append(selected_months[month-1])\n",
    "    p = output2month(predict(date_text))\n",
    "    y_pred.append(selected_months[p-1])"
   ]
  },
  {
   "cell_type": "code",
   "execution_count": 59,
   "id": "631ad76e",
   "metadata": {},
   "outputs": [
    {
     "name": "stdout",
     "output_type": "stream",
     "text": [
      "              precision    recall  f1-score   support\n",
      "\n",
      "       April       1.00      1.00      1.00       160\n",
      "      August       1.00      1.00      1.00       161\n",
      "    December       0.54      1.00      0.70       153\n",
      "    February       1.00      1.00      1.00       164\n",
      "     January       1.00      1.00      1.00       141\n",
      "        July       1.00      1.00      1.00       132\n",
      "        June       1.00      1.00      1.00       137\n",
      "       March       1.00      1.00      1.00       159\n",
      "         May       1.00      1.00      1.00       383\n",
      "    November       0.00      0.00      0.00       130\n",
      "     October       1.00      1.00      1.00       130\n",
      "   September       1.00      1.00      1.00       150\n",
      "\n",
      "    accuracy                           0.94      2000\n",
      "   macro avg       0.88      0.92      0.89      2000\n",
      "weighted avg       0.90      0.94      0.91      2000\n",
      "\n"
     ]
    }
   ],
   "source": [
    "print(classification_report(y_true, y_pred, zero_division=0))"
   ]
  },
  {
   "cell_type": "code",
   "execution_count": 60,
   "id": "05d34f4c",
   "metadata": {},
   "outputs": [],
   "source": [
    "cm = confusion_matrix(y_true, y_pred, labels=selected_months)"
   ]
  },
  {
   "cell_type": "code",
   "execution_count": 61,
   "id": "f4533965",
   "metadata": {},
   "outputs": [
    {
     "data": {
      "image/png": "[encoded data removed]",
      "text/plain": [
       "<Figure size 1200x800 with 2 Axes>"
      ]
     },
     "metadata": {},
     "output_type": "display_data"
    }
   ],
   "source": [
    "fig, ax = plt.subplots(figsize=(12, 8))\n",
    "dis = ConfusionMatrixDisplay(cm, display_labels=selected_months)\n",
    "dis.plot(ax=ax, cmap='Greens', xticks_rotation='vertical')\n",
    "plt.tight_layout()\n",
    "plt.show()"
   ]
  },
  {
   "cell_type": "code",
   "execution_count": null,
   "id": "c3a64ce0",
   "metadata": {},
   "outputs": [],
   "source": []
  }
 ],
 "metadata": {
  "kernelspec": {
   "display_name": "nlp",
   "language": "python",
   "name": "python3"
  },
  "language_info": {
   "codemirror_mode": {
    "name": "ipython",
    "version": 3
   },
   "file_extension": ".py",
   "mimetype": "text/x-python",
   "name": "python",
   "nbconvert_exporter": "python",
   "pygments_lexer": "ipython3",
   "version": "3.9.17"
  },
  "toc": {
   "base_numbering": 1,
   "nav_menu": {},
   "number_sections": true,
   "sideBar": true,
   "skip_h1_title": false,
   "title_cell": "Table of Contents",
   "title_sidebar": "Contents",
   "toc_cell": false,
   "toc_position": {},
   "toc_section_display": true,
   "toc_window_display": false
  }
 },
 "nbformat": 4,
 "nbformat_minor": 5
}

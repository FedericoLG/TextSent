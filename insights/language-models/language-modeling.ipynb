{
 "cells": [
  {
   "cell_type": "markdown",
   "id": "93ebb6ae",
   "metadata": {},
   "source": [
    "# Example of sequence learning\n",
    "Implementation of **NLP FROM SCRATCH: GENERATING NAMES WITH A CHARACTER-LEVEL RNN** of *Sean Robertson*. See the tutorial online at this [link](https://pytorch.org/tutorials/intermediate/char_rnn_generation_tutorial.html) "
   ]
  },
  {
   "cell_type": "code",
   "execution_count": 1,
   "id": "46867b41",
   "metadata": {},
   "outputs": [],
   "source": [
    "import pandas as pd\n",
    "import numpy as np\n",
    "from tqdm.notebook import tqdm"
   ]
  },
  {
   "cell_type": "markdown",
   "id": "13cf6085",
   "metadata": {},
   "source": [
    "## Concepts\n",
    "Generating text sequences may be done by recurrently predicting characters (or words) to form language. This is the main goal of a **language model**."
   ]
  },
  {
   "cell_type": "markdown",
   "id": "90f78945",
   "metadata": {},
   "source": [
    "## Data\n",
    "Download the data from [here](https://download.pytorch.org/tutorial/data.zip) and copy them into a convenient directory."
   ]
  },
  {
   "cell_type": "code",
   "execution_count": 2,
   "id": "84056799",
   "metadata": {},
   "outputs": [],
   "source": [
    "import os"
   ]
  },
  {
   "cell_type": "code",
   "execution_count": 3,
   "id": "b36fda2b",
   "metadata": {},
   "outputs": [],
   "source": [
    "names_folder = '/Users/flint/Data/names/'\n",
    "languages, vocabulary = {}, set()\n",
    "for filename in os.listdir(names_folder):\n",
    "    with open(os.path.join(names_folder, filename), 'r') as indata:\n",
    "        lines = [x.rstrip('\\n') for x in indata.readlines()]\n",
    "    languages[filename.replace('.txt', '')] = lines\n",
    "    for name in lines:\n",
    "        vocabulary = vocabulary.union(set(name))\n",
    "labels = list(languages.keys())\n",
    "vocabulary = sorted(list(vocabulary))\n",
    "vocabulary.append('EOS') # special char for stop"
   ]
  },
  {
   "cell_type": "markdown",
   "id": "286d6eb3",
   "metadata": {},
   "source": [
    "## Network architecture\n",
    "The input is given by a one-hot encoding of characters concatenated by the language category and the hidden layer of the previous step (RNN).\n",
    "\n",
    "![](rnn.png)\n",
    "\n",
    "see [https://pytorch.org/tutorials/intermediate/char_rnn_generation_tutorial.html](https://pytorch.org/tutorials/intermediate/char_rnn_generation_tutorial.html)"
   ]
  },
  {
   "cell_type": "code",
   "execution_count": 6,
   "id": "2d813f4d",
   "metadata": {},
   "outputs": [],
   "source": [
    "import torch\n",
    "import torch.nn as nn"
   ]
  },
  {
   "cell_type": "code",
   "execution_count": 8,
   "id": "cf1c4e9b",
   "metadata": {},
   "outputs": [],
   "source": [
    "class RNN(nn.Module):\n",
    "    def __init__(self, input_size, hidden_size, output_size):\n",
    "        super(RNN, self).__init__()\n",
    "        self.hidden_size = hidden_size\n",
    "\n",
    "        self.i2h = nn.Linear(\n",
    "            len(labels) + input_size + hidden_size, hidden_size)\n",
    "        self.i2o = nn.Linear(\n",
    "            len(labels) + input_size + hidden_size, output_size)\n",
    "        self.o2o = nn.Linear(\n",
    "            hidden_size + output_size, output_size)\n",
    "        self.dropout = nn.Dropout(0.1)\n",
    "        self.softmax = nn.LogSoftmax(dim=1)\n",
    "\n",
    "    def forward(self, category, input, hidden):\n",
    "        input_combined = torch.cat((category, input, hidden), 1)\n",
    "        hidden = self.i2h(input_combined)\n",
    "        output = self.i2o(input_combined)\n",
    "        output_combined = torch.cat((hidden, output), 1)\n",
    "        output = self.o2o(output_combined)\n",
    "        output = self.dropout(output)\n",
    "        output = self.softmax(output)\n",
    "        return output, hidden\n",
    "\n",
    "    def initHidden(self):\n",
    "        return torch.zeros(1, self.hidden_size)"
   ]
  },
  {
   "cell_type": "code",
   "execution_count": 13,
   "id": "75e2b8cf",
   "metadata": {},
   "outputs": [],
   "source": [
    "def get_data(languages, labels):\n",
    "    cat = np.random.choice(labels, 1)[0]\n",
    "    name = np.random.choice(languages[cat], 1)[0]\n",
    "    return cat, name"
   ]
  },
  {
   "cell_type": "code",
   "execution_count": 16,
   "id": "3739b361",
   "metadata": {},
   "outputs": [
    {
     "data": {
      "text/plain": [
       "('Italian', 'Azzarà')"
      ]
     },
     "execution_count": 16,
     "metadata": {},
     "output_type": "execute_result"
    }
   ],
   "source": [
    "get_data(languages, labels)"
   ]
  },
  {
   "cell_type": "markdown",
   "id": "a713db67",
   "metadata": {},
   "source": [
    "> For each timestep (that is, for each letter in a training word) the inputs of the network will be (category, current letter, hidden state) and the outputs will be (next letter, next hidden state). So for each training set, we’ll need the category, a set of input letters, and a set of output/target letters.\n",
    "\n",
    "> Since we are predicting the next letter from the current letter for each timestep, the letter pairs are groups of consecutive letters from the line - e.g. for \"ABCD<EOS>\" we would create (“A”, “B”), (“B”, “C”), (“C”, “D”), (“D”, “EOS”).\n",
    "    \n",
    "> The category tensor is a one-hot tensor of size <1 x n_categories>. When training we feed it to the network at every timestep - this is a design choice, it could have been included as part of initial hidden state or some other strategy."
   ]
  },
  {
   "cell_type": "markdown",
   "id": "583606d1",
   "metadata": {},
   "source": [
    "## Vectorize data"
   ]
  },
  {
   "cell_type": "code",
   "execution_count": 17,
   "id": "24577f30",
   "metadata": {},
   "outputs": [],
   "source": [
    "# One-hot vector for category\n",
    "def category_tensor(category, labels):\n",
    "    li = labels.index(category)\n",
    "    tensor = torch.zeros(1, len(labels))\n",
    "    tensor[0][li] = 1\n",
    "    return tensor\n",
    "\n",
    "# One-hot matrix of first to last letters (not including EOS) for input\n",
    "def input_tensor(name, vocabulary):\n",
    "    tensor = torch.zeros(len(name), 1, len(vocabulary))\n",
    "    for li in range(len(name)):\n",
    "        letter = name[li]\n",
    "        tensor[li][0][vocabulary.index(letter)] = 1\n",
    "    return tensor\n",
    "\n",
    "# LongTensor of second letter to end (EOS) for target\n",
    "def target_tensor(name, vocabulary):\n",
    "    letter_indexes = [vocabulary.index(name[li]) \n",
    "                      for li in range(1, len(name))]\n",
    "    letter_indexes.append(len(vocabulary) - 1) # EOS\n",
    "    return torch.LongTensor(letter_indexes)"
   ]
  },
  {
   "cell_type": "code",
   "execution_count": 19,
   "id": "10489a52",
   "metadata": {},
   "outputs": [
    {
     "data": {
      "text/plain": [
       "tensor([[0., 0., 0., 0., 0., 0., 0., 0., 0., 1., 0., 0., 0., 0., 0., 0., 0., 0.]])"
      ]
     },
     "execution_count": 19,
     "metadata": {},
     "output_type": "execute_result"
    }
   ],
   "source": [
    "category_tensor('English', labels)"
   ]
  },
  {
   "cell_type": "code",
   "execution_count": 20,
   "id": "f93f1f91",
   "metadata": {},
   "outputs": [
    {
     "name": "stdout",
     "output_type": "stream",
     "text": [
      "12 \t F\n",
      "37 \t e\n",
      "50 \t r\n",
      "50 \t r\n",
      "33 \t a\n",
      "50 \t r\n",
      "33 \t a\n"
     ]
    }
   ],
   "source": [
    "it = input_tensor('Ferrara', vocabulary)[:,0,:]\n",
    "for row in it:\n",
    "    non_zero_index = int(np.nonzero(row)[0][0])\n",
    "    print(non_zero_index, '\\t', vocabulary[non_zero_index])"
   ]
  },
  {
   "cell_type": "code",
   "execution_count": 23,
   "id": "6cebfc12",
   "metadata": {},
   "outputs": [
    {
     "name": "stdout",
     "output_type": "stream",
     "text": [
      "tensor(37) \t e\n",
      "tensor(50) \t r\n",
      "tensor(50) \t r\n",
      "tensor(33) \t a\n",
      "tensor(50) \t r\n",
      "tensor(33) \t a\n",
      "tensor(87) \t EOS\n"
     ]
    }
   ],
   "source": [
    "tt = target_tensor('Ferrara', vocabulary)\n",
    "#print(tt)\n",
    "for idx in tt:\n",
    "    print(idx, '\\t', vocabulary[idx])"
   ]
  },
  {
   "cell_type": "code",
   "execution_count": 24,
   "id": "2d2fc828",
   "metadata": {},
   "outputs": [],
   "source": [
    "def generate_input(languages, labels, vocabulary):\n",
    "    lang, name = get_data(languages, labels)\n",
    "    lang_tensor = category_tensor(lang, labels)\n",
    "    input_t = input_tensor(name, vocabulary)\n",
    "    target_t = target_tensor(name, vocabulary)\n",
    "    return lang_tensor, input_t, target_t"
   ]
  },
  {
   "cell_type": "markdown",
   "id": "ff84edf6",
   "metadata": {},
   "source": [
    "## Train"
   ]
  },
  {
   "cell_type": "code",
   "execution_count": 25,
   "id": "e3da8d54",
   "metadata": {},
   "outputs": [],
   "source": [
    "loss_f = nn.NLLLoss()\n",
    "learning_rate = 0.0005\n",
    "\n",
    "def train(rnn, language_tensor, input_name_tensor, target_name_tensor):\n",
    "    target_name_tensor.unsqueeze_(-1)\n",
    "    hidden = rnn.initHidden()\n",
    "    rnn.zero_grad()\n",
    "    loss = 0\n",
    "    for i in range(input_name_tensor.size(0)):\n",
    "        output, hidden = rnn(\n",
    "            language_tensor, \n",
    "            input_name_tensor[i],\n",
    "            hidden\n",
    "        )\n",
    "        l = loss_f(output, target_name_tensor[i])\n",
    "        loss += l\n",
    "    loss.backward()\n",
    "    for p in rnn.parameters():\n",
    "        p.data.add_(p.grad.data, alpha=-learning_rate)\n",
    "    return output, loss.item() / input_name_tensor.size(0)"
   ]
  },
  {
   "cell_type": "markdown",
   "id": "0965cd6e",
   "metadata": {},
   "source": [
    "### Training cycle"
   ]
  },
  {
   "cell_type": "code",
   "execution_count": 26,
   "id": "dc135720",
   "metadata": {},
   "outputs": [],
   "source": [
    "import matplotlib.pyplot as plt"
   ]
  },
  {
   "cell_type": "code",
   "execution_count": 27,
   "id": "efdf0138",
   "metadata": {},
   "outputs": [
    {
     "data": {
      "application/vnd.jupyter.widget-view+json": {
       "model_id": "14574cf645c94ab2aca687ce3184eb5a",
       "version_major": 2,
       "version_minor": 0
      },
      "text/plain": [
       "  0%|          | 0/50000 [00:00<?, ?it/s]"
      ]
     },
     "metadata": {},
     "output_type": "display_data"
    }
   ],
   "source": [
    "rnn = RNN(len(vocabulary), 128, len(vocabulary))\n",
    "n_iters = 50000\n",
    "loss_chunk = 200\n",
    "all_losses = []\n",
    "run = tqdm(list(range(1, n_iters + 1)))\n",
    "partial_loss = 0\n",
    "\n",
    "for i in run:\n",
    "    output, loss = train(rnn, *generate_input(\n",
    "        languages, labels, vocabulary))\n",
    "    partial_loss += loss\n",
    "    \n",
    "    if i % loss_chunk == 0:\n",
    "        all_losses.append(partial_loss / loss_chunk)\n",
    "        partial_loss = 0"
   ]
  },
  {
   "cell_type": "code",
   "execution_count": 28,
   "id": "3fe27eb8",
   "metadata": {},
   "outputs": [
    {
     "data": {
      "image/png": "[encoded data removed]",
      "text/plain": [
       "<Figure size 720x288 with 1 Axes>"
      ]
     },
     "metadata": {
      "needs_background": "light"
     },
     "output_type": "display_data"
    }
   ],
   "source": [
    "fig, ax = plt.subplots(figsize=(10, 4))\n",
    "ax.plot(all_losses)\n",
    "plt.tight_layout()\n",
    "plt.show()"
   ]
  },
  {
   "cell_type": "markdown",
   "id": "88794c13",
   "metadata": {},
   "source": [
    "## Sampling"
   ]
  },
  {
   "cell_type": "code",
   "execution_count": 29,
   "id": "cc87f36b",
   "metadata": {},
   "outputs": [],
   "source": [
    "def sample(rnn, language, start_letter, max_len):\n",
    "    with torch.no_grad():\n",
    "        lang_t = category_tensor(language, labels)\n",
    "        input_t = input_tensor(start_letter, vocabulary)\n",
    "        hidden = rnn.initHidden()\n",
    "        output_name = start_letter\n",
    "        for i in range(max_len):\n",
    "            output, hidden = rnn(lang_t, input_t[0], hidden)\n",
    "            topv, topi = output.topk(1)\n",
    "            next_letter = vocabulary[topi[0][0]]\n",
    "            if next_letter == 'EOS':\n",
    "                break\n",
    "            else:\n",
    "                output_name += next_letter\n",
    "            input_t = input_tensor(next_letter, vocabulary)\n",
    "        return output_name"
   ]
  },
  {
   "cell_type": "code",
   "execution_count": 33,
   "id": "8fe4ac3c",
   "metadata": {},
   "outputs": [
    {
     "data": {
      "text/plain": [
       "'Ga'"
      ]
     },
     "execution_count": 33,
     "metadata": {},
     "output_type": "execute_result"
    }
   ],
   "source": [
    "sample(rnn, 'Chinese', 'G', 10)"
   ]
  },
  {
   "cell_type": "code",
   "execution_count": null,
   "id": "5b09037c",
   "metadata": {},
   "outputs": [],
   "source": []
  }
 ],
 "metadata": {
  "kernelspec": {
   "display_name": "Python 3 (ipykernel)",
   "language": "python",
   "name": "python3"
  },
  "language_info": {
   "codemirror_mode": {
    "name": "ipython",
    "version": 3
   },
   "file_extension": ".py",
   "mimetype": "text/x-python",
   "name": "python",
   "nbconvert_exporter": "python",
   "pygments_lexer": "ipython3",
   "version": "3.8.8"
  },
  "toc": {
   "base_numbering": 1,
   "nav_menu": {},
   "number_sections": true,
   "sideBar": true,
   "skip_h1_title": false,
   "title_cell": "Table of Contents",
   "title_sidebar": "Contents",
   "toc_cell": false,
   "toc_position": {},
   "toc_section_display": true,
   "toc_window_display": false
  }
 },
 "nbformat": 4,
 "nbformat_minor": 5
}
